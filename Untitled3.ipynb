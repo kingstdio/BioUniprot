{
 "cells": [
  {
   "cell_type": "code",
   "execution_count": 2,
   "id": "3a73d426-4ca7-4e82-a65d-7fc9ee302e18",
   "metadata": {},
   "outputs": [
    {
     "name": "stdout",
     "output_type": "stream",
     "text": [
      "INFO: Pandarallel will run on 80 workers.\n",
      "INFO: Pandarallel will use Memory file system to transfer data between the main process and workers.\n"
     ]
    }
   ],
   "source": [
    "import numpy as np\n",
    "import pandas as pd\n",
    "from tqdm import tqdm\n",
    "from pandarallel import pandarallel\n",
    "pandarallel.initialize()\n",
    "import datetime"
   ]
  },
  {
   "cell_type": "code",
   "execution_count": 23,
   "id": "f355c8c8-5ce6-4c7d-a8c9-765de51f085e",
   "metadata": {},
   "outputs": [],
   "source": [
    "table_head = [  'id', \n",
    "                'isenzyme',\n",
    "                'isMultiFunctional', \n",
    "                'functionCounts', \n",
    "                'ec_number', \n",
    "                'ec_specific_level',\n",
    "                'date_integraged'\n",
    "            ]\n",
    "f = open('/home/shizhenkun/codebase/BioUniprot/data/trembl/uniprot_trembl.tsv', 'r')\n",
    "line = f.readline()"
   ]
  },
  {
   "cell_type": "code",
   "execution_count": null,
   "id": "cca00874-7b38-481c-b73f-09f34a3fd701",
   "metadata": {},
   "outputs": [],
   "source": [
    "counter =0\n",
    "reslist=[]\n",
    "\n",
    "file_write_obj = open(r'/home/shizhenkun/codebase/BioUniprot/data/trembl/uniprot_trembl_simple.tsv','w')\n",
    "file_write_obj.writelines('\\t'.join(table_head))\n",
    "file_write_obj.writelines('\\n')\n",
    "\n",
    "while tqdm(line):\n",
    "    \n",
    "    lineArray = line.split('\\t')\n",
    "    wline  = lineArray[0] + '\\t' + lineArray[2]+ '\\t' + lineArray[3]+ '\\t' + lineArray[4]+ '\\t' + lineArray[5]+ '\\t' + lineArray[6]+ '\\t' + lineArray[7]\n",
    "    file_write_obj.writelines(wline)\n",
    "    file_write_obj.writelines('\\n')\n",
    "    line = f.readline()\n",
    "    \n",
    "    counter +=1\n",
    "    if counter %1000000==0:\n",
    "        file_write_obj.flush()\n",
    "        print(counter)\n",
    "        \n",
    "file_write_obj.close()\n",
    "\n",
    "print('finished')"
   ]
  },
  {
   "cell_type": "code",
   "execution_count": 28,
   "id": "f7fc12cf-0436-4ee3-9c99-605332c21f1c",
   "metadata": {},
   "outputs": [],
   "source": []
  },
  {
   "cell_type": "code",
   "execution_count": 3,
   "id": "6c00630b-da20-4f08-9545-80640788c158",
   "metadata": {},
   "outputs": [],
   "source": [
    "adata = pd.read_csv(r'/home/shizhenkun/codebase/BioUniprot/data/trembl/uniprot_trembl_simple.tsv', sep='\\t', low_memory=False)\n",
    "adata.reset_index(drop=True, inplace=True)\n",
    "adata['date_integraged'] = pd.to_datetime(adata['date_integraged'])\n",
    "adata['year']= adata.date_integraged.parallel_apply(lambda x: x.year)"
   ]
  },
  {
   "cell_type": "code",
   "execution_count": 4,
   "id": "bc018fb5-acb4-4f61-b05b-f9e45f44ef71",
   "metadata": {},
   "outputs": [
    {
     "data": {
      "text/plain": [
       "1996"
      ]
     },
     "execution_count": 4,
     "metadata": {},
     "output_type": "execute_result"
    }
   ],
   "source": [
    "min(adata.year)"
   ]
  },
  {
   "cell_type": "code",
   "execution_count": 7,
   "id": "7dee4e70-a9a0-4c7c-90b6-5eb81f320eb2",
   "metadata": {},
   "outputs": [
    {
     "data": {
      "text/plain": [
       "0.47442601075610336"
      ]
     },
     "execution_count": 7,
     "metadata": {},
     "output_type": "execute_result"
    }
   ],
   "source": [
    "1-246562/469129"
   ]
  },
  {
   "cell_type": "code",
   "execution_count": 5,
   "id": "8e35830d-da03-48b7-bdf5-3bc470304d3f",
   "metadata": {},
   "outputs": [
    {
     "name": "stdout",
     "output_type": "stream",
     "text": [
      "year \t enzyme \t noenzyme\n",
      "1986\t0\t0\n",
      "1987\t0\t0\n",
      "1988\t0\t0\n",
      "1989\t0\t0\n",
      "1990\t0\t0\n",
      "1991\t0\t0\n",
      "1992\t0\t0\n",
      "1993\t0\t0\n",
      "1994\t0\t0\n",
      "1995\t0\t0\n",
      "1996\t6253\t49278\n",
      "1997\t2593\t19349\n",
      "1998\t6465\t45338\n",
      "1999\t5304\t33093\n",
      "2000\t15097\t89843\n",
      "2001\t24479\t132556\n",
      "2002\t22279\t121602\n",
      "2003\t41011\t232626\n",
      "2004\t62638\t333268\n",
      "2005\t88815\t444162\n",
      "2006\t138193\t661971\n",
      "2007\t224429\t1118406\n",
      "2008\t250076\t1248211\n",
      "2009\t387403\t1779757\n",
      "2010\t413022\t1586927\n",
      "2011\t641133\t2986075\n",
      "2012\t808725\t3799404\n",
      "2013\t1118630\t5860399\n",
      "2014\t1291927\t7407649\n",
      "2015\t1679256\t9070363\n",
      "2016\t2894993\t13174468\n",
      "2017\t4753853\t25333413\n",
      "2018\t5720210\t29117120\n",
      "2019\t6961122\t37058759\n",
      "2020\t4491063\t30469573\n",
      "2021\t777221\t9406599\n"
     ]
    }
   ],
   "source": [
    "print('year \\t enzyme \\t noenzyme')\n",
    "for i in range(1986, 2022):\n",
    "    year =i\n",
    "    enzyme=len(adata[(adata.year==i)&(adata.isenzyme)])\n",
    "    noenzyme = len(adata[(adata.year==i)&(~adata.isenzyme)])\n",
    "    print('{0}\\t{1}\\t{2}'.format(year, enzyme, noenzyme))"
   ]
  }
 ],
 "metadata": {
  "kernelspec": {
   "display_name": "py38",
   "language": "python",
   "name": "py38"
  },
  "language_info": {
   "codemirror_mode": {
    "name": "ipython",
    "version": 3
   },
   "file_extension": ".py",
   "mimetype": "text/x-python",
   "name": "python",
   "nbconvert_exporter": "python",
   "pygments_lexer": "ipython3",
   "version": "3.7.10"
  }
 },
 "nbformat": 4,
 "nbformat_minor": 5
}
