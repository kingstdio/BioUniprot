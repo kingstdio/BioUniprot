{
 "cells": [
  {
   "cell_type": "markdown",
   "metadata": {},
   "source": [
    "# Trembl 数据预处理\n",
    "## 1. 导入必要的包"
   ]
  },
  {
   "cell_type": "code",
   "execution_count": 1,
   "metadata": {},
   "outputs": [],
   "source": [
    "import numpy as np\n",
    "import pandas as pd\n",
    "import random\n",
    "import time\n",
    "import gzip\n",
    "import re\n",
    "from Bio import SeqIO\n",
    "import datetime"
   ]
  },
  {
   "cell_type": "markdown",
   "metadata": {},
   "source": [
    "## 2. 定义必要的函数"
   ]
  },
  {
   "cell_type": "code",
   "execution_count": 2,
   "metadata": {},
   "outputs": [],
   "source": [
    "#从gizp读取含有EC号的数据\n",
    "def read_file_from_gzip(file_in_path, file_out_path):\n",
    "    counter = 0\n",
    "    saver = 0 \n",
    "    reslist = []\n",
    "#     reslist.append(['id', 'description', 'seq'])\n",
    "    with gzip.open(file_in_path, \"rt\") as handle:\n",
    "        for record in SeqIO.parse(handle, 'swiss'):\n",
    "            counter+=1\n",
    "            res = process_record(record)\n",
    "\n",
    "            if counter %10000==0:\n",
    "                print('lines:{0}/{1}'.format(saver, counter))\n",
    "\n",
    "            if len(res) >0:\n",
    "                reslist.append(res)\n",
    "                saver +=1\n",
    "            else:\n",
    "                continue\n",
    "\n",
    "    result = np.array(reslist,dtype=object)\n",
    "    np.savetxt(file_out_path, result, delimiter=\"\\t\", fmt='%s')\n",
    " \n",
    "# 提取单条含有EC号的数据\n",
    "def process_record(record):\n",
    "    description = record.description\n",
    "    if 'EC=' in description:\n",
    "        id = record.id\n",
    "        name = record.name\n",
    "        seq = record.seq\n",
    "        ec = str(re.findall(r\"EC=[0-9,.\\-;]*\",description)).replace('EC=','').replace('\\'','').replace(']','').replace('[','').replace(';','')\n",
    "        date_integraged = record.annotations.get('date')\n",
    "        date_sequence_update = record.annotations.get('date_last_sequence_update')\n",
    "        date_annotation_update = record.annotations.get('date_last_annotation_update')\n",
    "        return [id, ec, date_integraged, date_sequence_update, date_annotation_update,  seq]\n",
    "    else:\n",
    "        return []\n",
    "    \n",
    "#将表格存储为fasta文件    \n",
    "def table_2_fasta(table, file_out):\n",
    "    file = open(file_out, 'w')\n",
    "    for index, row in table.iterrows():\n",
    "        file.write('>{0}\\n'.format(row['id']))\n",
    "        file.write('{0}\\n'.format(row['seq']))\n",
    "    file.close()\n",
    "    print('Write finished')\n",
    "\n",
    "# 将给定的数据随机划分为2份\n",
    "def split_random(data):\n",
    "    index_ref = random.sample(range(0,len(data)), int(len(data)/2))  #创建随机index\n",
    "    ref = data.iloc[index_ref]     #筛选ref\n",
    "    query = data.iloc[~data.index.isin(index_ref)] # 剩下的是Query\n",
    "    table_2_fasta(ref, './data/sprot_with_ec_ref.fasta')   #写入文件ref fasta\n",
    "    table_2_fasta(query, './data/sprot_with_ec_query.fasta') #写入文件query fasta\n",
    "    return query, ref\n",
    "\n",
    "# 按时序前一半后一般划分\n",
    "def split_time_half(data):\n",
    "    index_ref = range(int(len(data)/2))\n",
    "    ref = data.iloc[index_ref]     #筛选ref\n",
    "    query = data.iloc[~data.index.isin(index_ref)] # 剩下的是Query\n",
    "    table_2_fasta(ref, './data/sprot_with_ec_ref.fasta')   #写入文件ref fasta\n",
    "    table_2_fasta(query, './data/sprot_with_ec_query.fasta') #写入文件query fasta"
   ]
  },
  {
   "cell_type": "markdown",
   "metadata": {},
   "source": [
    "## 3. 提取含有EC号的数据，并保存到文件"
   ]
  },
  {
   "cell_type": "code",
   "execution_count": 3,
   "metadata": {},
   "outputs": [
    {
     "ename": "KeyboardInterrupt",
     "evalue": "",
     "output_type": "error",
     "traceback": [
      "\u001b[0;31m---------------------------------------------------------------------------\u001b[0m",
      "\u001b[0;31mKeyboardInterrupt\u001b[0m                         Traceback (most recent call last)",
      "\u001b[0;32m<ipython-input-3-9515df168954>\u001b[0m in \u001b[0;36m<module>\u001b[0;34m\u001b[0m\n\u001b[1;32m      2\u001b[0m \u001b[0min_filepath\u001b[0m \u001b[0;34m=\u001b[0m \u001b[0;34mr'./data/uniprot_trembl.dat.gz'\u001b[0m\u001b[0;34m\u001b[0m\u001b[0;34m\u001b[0m\u001b[0m\n\u001b[1;32m      3\u001b[0m \u001b[0mout_filepath\u001b[0m \u001b[0;34m=\u001b[0m \u001b[0;34mr'./data/trembl_with_ec.tsv'\u001b[0m\u001b[0;34m\u001b[0m\u001b[0;34m\u001b[0m\u001b[0m\n\u001b[0;32m----> 4\u001b[0;31m \u001b[0mread_file_from_gzip\u001b[0m\u001b[0;34m(\u001b[0m\u001b[0mfile_in_path\u001b[0m\u001b[0;34m=\u001b[0m\u001b[0min_filepath\u001b[0m\u001b[0;34m,\u001b[0m \u001b[0mfile_out_path\u001b[0m\u001b[0;34m=\u001b[0m\u001b[0mout_filepath\u001b[0m\u001b[0;34m)\u001b[0m\u001b[0;34m\u001b[0m\u001b[0;34m\u001b[0m\u001b[0m\n\u001b[0m\u001b[1;32m      5\u001b[0m \u001b[0mend\u001b[0m \u001b[0;34m=\u001b[0m  \u001b[0mtime\u001b[0m\u001b[0;34m.\u001b[0m\u001b[0mprocess_time\u001b[0m\u001b[0;34m(\u001b[0m\u001b[0;34m)\u001b[0m\u001b[0;34m\u001b[0m\u001b[0;34m\u001b[0m\u001b[0m\n\u001b[1;32m      6\u001b[0m \u001b[0mprint\u001b[0m\u001b[0;34m(\u001b[0m\u001b[0;34m'finished use time %6.3f s'\u001b[0m \u001b[0;34m%\u001b[0m \u001b[0;34m(\u001b[0m\u001b[0mend\u001b[0m \u001b[0;34m-\u001b[0m \u001b[0mstart\u001b[0m\u001b[0;34m)\u001b[0m\u001b[0;34m)\u001b[0m\u001b[0;34m\u001b[0m\u001b[0;34m\u001b[0m\u001b[0m\n",
      "\u001b[0;32m<ipython-input-2-356cf4ca1d18>\u001b[0m in \u001b[0;36mread_file_from_gzip\u001b[0;34m(file_in_path, file_out_path)\u001b[0m\n\u001b[1;32m      7\u001b[0m     \u001b[0;32mwith\u001b[0m \u001b[0mgzip\u001b[0m\u001b[0;34m.\u001b[0m\u001b[0mopen\u001b[0m\u001b[0;34m(\u001b[0m\u001b[0mfile_in_path\u001b[0m\u001b[0;34m,\u001b[0m \u001b[0;34m\"rt\"\u001b[0m\u001b[0;34m)\u001b[0m \u001b[0;32mas\u001b[0m \u001b[0mhandle\u001b[0m\u001b[0;34m:\u001b[0m\u001b[0;34m\u001b[0m\u001b[0;34m\u001b[0m\u001b[0m\n\u001b[1;32m      8\u001b[0m         \u001b[0mcounter\u001b[0m\u001b[0;34m+=\u001b[0m\u001b[0;36m1\u001b[0m\u001b[0;34m\u001b[0m\u001b[0;34m\u001b[0m\u001b[0m\n\u001b[0;32m----> 9\u001b[0;31m         \u001b[0;32mfor\u001b[0m \u001b[0mrecord\u001b[0m \u001b[0;32min\u001b[0m \u001b[0mSeqIO\u001b[0m\u001b[0;34m.\u001b[0m\u001b[0mparse\u001b[0m\u001b[0;34m(\u001b[0m\u001b[0mhandle\u001b[0m\u001b[0;34m,\u001b[0m \u001b[0;34m'swiss'\u001b[0m\u001b[0;34m)\u001b[0m\u001b[0;34m:\u001b[0m\u001b[0;34m\u001b[0m\u001b[0;34m\u001b[0m\u001b[0m\n\u001b[0m\u001b[1;32m     10\u001b[0m             \u001b[0mres\u001b[0m \u001b[0;34m=\u001b[0m \u001b[0mprocess_record\u001b[0m\u001b[0;34m(\u001b[0m\u001b[0mrecord\u001b[0m\u001b[0;34m)\u001b[0m\u001b[0;34m\u001b[0m\u001b[0;34m\u001b[0m\u001b[0m\n\u001b[1;32m     11\u001b[0m \u001b[0;34m\u001b[0m\u001b[0m\n",
      "\u001b[0;32m~/anaconda3/lib/python3.8/site-packages/Bio/SeqIO/SwissIO.py\u001b[0m in \u001b[0;36mSwissIterator\u001b[0;34m(source)\u001b[0m\n\u001b[1;32m     91\u001b[0m             \u001b[0mdbxref\u001b[0m \u001b[0;34m=\u001b[0m \u001b[0;34m\"%s:%s\"\u001b[0m \u001b[0;34m%\u001b[0m \u001b[0;34m(\u001b[0m\u001b[0mdatabase\u001b[0m\u001b[0;34m,\u001b[0m \u001b[0maccession\u001b[0m\u001b[0;34m)\u001b[0m\u001b[0;34m\u001b[0m\u001b[0;34m\u001b[0m\u001b[0m\n\u001b[1;32m     92\u001b[0m             \u001b[0;32mif\u001b[0m \u001b[0mdbxref\u001b[0m \u001b[0;32mnot\u001b[0m \u001b[0;32min\u001b[0m \u001b[0mrecord\u001b[0m\u001b[0;34m.\u001b[0m\u001b[0mdbxrefs\u001b[0m\u001b[0;34m:\u001b[0m\u001b[0;34m\u001b[0m\u001b[0;34m\u001b[0m\u001b[0m\n\u001b[0;32m---> 93\u001b[0;31m                 \u001b[0mrecord\u001b[0m\u001b[0;34m.\u001b[0m\u001b[0mdbxrefs\u001b[0m\u001b[0;34m.\u001b[0m\u001b[0mappend\u001b[0m\u001b[0;34m(\u001b[0m\u001b[0mdbxref\u001b[0m\u001b[0;34m)\u001b[0m\u001b[0;34m\u001b[0m\u001b[0;34m\u001b[0m\u001b[0m\n\u001b[0m\u001b[1;32m     94\u001b[0m         \u001b[0mannotations\u001b[0m \u001b[0;34m=\u001b[0m \u001b[0mrecord\u001b[0m\u001b[0;34m.\u001b[0m\u001b[0mannotations\u001b[0m\u001b[0;34m\u001b[0m\u001b[0;34m\u001b[0m\u001b[0m\n\u001b[1;32m     95\u001b[0m         \u001b[0mannotations\u001b[0m\u001b[0;34m[\u001b[0m\u001b[0;34m\"molecule_type\"\u001b[0m\u001b[0;34m]\u001b[0m \u001b[0;34m=\u001b[0m \u001b[0;34m\"protein\"\u001b[0m\u001b[0;34m\u001b[0m\u001b[0;34m\u001b[0m\u001b[0m\n",
      "\u001b[0;31mKeyboardInterrupt\u001b[0m: "
     ]
    }
   ],
   "source": [
    "start =  time.process_time()\n",
    "in_filepath = r'./data/uniprot_trembl.dat.gz'\n",
    "out_filepath = r'./data/trembl_with_ec.tsv'\n",
    "read_file_from_gzip(file_in_path=in_filepath, file_out_path=out_filepath)\n",
    "end =  time.process_time()\n",
    "print('finished use time %6.3f s' % (end - start))"
   ]
  },
  {
   "cell_type": "markdown",
   "metadata": {},
   "source": [
    "## 4. 加载处理完的数据"
   ]
  },
  {
   "cell_type": "code",
   "execution_count": null,
   "metadata": {},
   "outputs": [],
   "source": [
    "sprot = pd.read_csv('./data/sprot_with_ec.tsv', sep='\\t',names=['id', 'ec_number', 'date_integraged','date_sequence_update','date_annotation_update','seq']) #读入文件\n",
    "sprot.date_integraged = pd.to_datetime(sprot['date_integraged'])\n",
    "sprot.date_sequence_update = pd.to_datetime(sprot['date_sequence_update'])\n",
    "sprot.date_annotation_update = pd.to_datetime(sprot['date_annotation_update'])\n",
    "sprot.head(3)"
   ]
  },
  {
   "cell_type": "code",
   "execution_count": null,
   "metadata": {},
   "outputs": [],
   "source": []
  },
  {
   "cell_type": "code",
   "execution_count": null,
   "metadata": {},
   "outputs": [],
   "source": []
  },
  {
   "cell_type": "code",
   "execution_count": null,
   "metadata": {},
   "outputs": [],
   "source": []
  },
  {
   "cell_type": "code",
   "execution_count": null,
   "metadata": {},
   "outputs": [],
   "source": []
  }
 ],
 "metadata": {
  "kernelspec": {
   "display_name": "Python 3",
   "language": "python",
   "name": "python3"
  },
  "language_info": {
   "codemirror_mode": {
    "name": "ipython",
    "version": 3
   },
   "file_extension": ".py",
   "mimetype": "text/x-python",
   "name": "python",
   "nbconvert_exporter": "python",
   "pygments_lexer": "ipython3",
   "version": "3.8.5"
  }
 },
 "nbformat": 4,
 "nbformat_minor": 4
}
