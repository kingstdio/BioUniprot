{
 "cells": [
  {
   "cell_type": "markdown",
   "metadata": {},
   "source": [
    "# Sprot 数据预处理\n",
    "## 1. 导入必要的包"
   ]
  },
  {
   "cell_type": "code",
   "execution_count": 1,
   "metadata": {},
   "outputs": [],
   "source": [
    "import numpy as np\n",
    "import pandas as pd\n",
    "import random\n",
    "import time\n",
    "import gzip\n",
    "import re\n",
    "from Bio import SeqIO\n",
    "import datetime"
   ]
  },
  {
   "cell_type": "markdown",
   "metadata": {},
   "source": [
    "## 2. 定义必要的函数"
   ]
  },
  {
   "cell_type": "code",
   "execution_count": 2,
   "metadata": {},
   "outputs": [],
   "source": [
    "#从gizp读取含有EC号的数据\n",
    "def read_file_from_gzip(file_in_path, file_out_path):\n",
    "    counter = 0\n",
    "    saver = 0 \n",
    "    reslist = []\n",
    "#     reslist.append(['id', 'description', 'seq'])\n",
    "    with gzip.open(file_in_path, \"rt\") as handle:\n",
    "        counter+=1\n",
    "        for record in SeqIO.parse(handle, 'swiss'):\n",
    "            res = process_record(record)\n",
    "\n",
    "            if counter %10000==0:\n",
    "                print('lines:{0}/{1}'.format(saver, counter))\n",
    "\n",
    "            if len(res) >0:\n",
    "                reslist.append(res)\n",
    "                saver +=1\n",
    "            else:\n",
    "                continue\n",
    "\n",
    "    result = np.array(reslist,dtype=object)\n",
    "    np.savetxt(file_out_path, result, delimiter=\"\\t\", fmt='%s')\n",
    " \n",
    "# 提取单条含有EC号的数据\n",
    "def process_record(record):\n",
    "    description = record.description\n",
    "    if 'EC=' in description:\n",
    "        id = record.id\n",
    "        name = record.name\n",
    "        seq = record.seq\n",
    "        ec = str(re.findall(r\"EC=[0-9,.\\-;]*\",description)).replace('EC=','').replace('\\'','').replace(']','').replace('[','').replace(';','')\n",
    "        date_integraged = record.annotations.get('date')\n",
    "        date_sequence_update = record.annotations.get('date_last_sequence_update')\n",
    "        date_annotation_update = record.annotations.get('date_last_annotation_update')\n",
    "        return [id, ec, date_integraged, date_sequence_update, date_annotation_update,  seq]\n",
    "    else:\n",
    "        return []\n",
    "    \n",
    "#将表格存储为fasta文件    \n",
    "def table_2_fasta(table, file_out):\n",
    "    file = open(file_out, 'w')\n",
    "    for index, row in table.iterrows():\n",
    "        file.write('>{0}\\n'.format(row['id']))\n",
    "        file.write('{0}\\n'.format(row['seq']))\n",
    "    file.close()\n",
    "    print('Write finished')\n",
    "\n",
    "# 将给定的数据随机划分为2份\n",
    "def split_random(data):\n",
    "    index_ref = random.sample(range(0,len(data)), int(len(data)/2))  #创建随机index\n",
    "    ref = data.iloc[index_ref]     #筛选ref\n",
    "    query = data.iloc[~data.index.isin(index_ref)] # 剩下的是Query\n",
    "    table_2_fasta(ref, './data/sprot_with_ec_ref.fasta')   #写入文件ref fasta\n",
    "    table_2_fasta(query, './data/sprot_with_ec_query.fasta') #写入文件query fasta\n",
    "    return query, ref\n",
    "\n",
    "# 按时序前一半后一半划分\n",
    "def split_time_half(data):\n",
    "    index_ref = range(int(len(data)/2))\n",
    "    ref = data.iloc[index_ref]     #筛选ref\n",
    "    query = data.iloc[~data.index.isin(index_ref)] # 剩下的是Query\n",
    "    table_2_fasta(ref, './data/sprot_with_ec_ref.fasta')   #写入文件ref fasta\n",
    "    table_2_fasta(query, './data/sprot_with_ec_query.fasta') #写入文件query fasta"
   ]
  },
  {
   "cell_type": "markdown",
   "metadata": {},
   "source": [
    "## 3. 提取含有EC号的数据，并保存到文件"
   ]
  },
  {
   "cell_type": "code",
   "execution_count": 4,
   "metadata": {},
   "outputs": [
    {
     "name": "stdout",
     "output_type": "stream",
     "text": [
      "finished use time 206.772 s\n"
     ]
    }
   ],
   "source": [
    "start =  time.process_time()\n",
    "in_filepath = r'./data/uniprot_sprot.dat.gz'\n",
    "out_filepath = r'./data/sprot_with_ec.tsv'\n",
    "read_file_from_gzip(file_in_path=in_filepath, file_out_path=out_filepath)\n",
    "end =  time.process_time()\n",
    "print('finished use time %6.3f s' % (end - start))"
   ]
  },
  {
   "cell_type": "markdown",
   "metadata": {},
   "source": [
    "## 4. 加载处理完的数据"
   ]
  },
  {
   "cell_type": "code",
   "execution_count": 5,
   "metadata": {},
   "outputs": [
    {
     "data": {
      "text/html": [
       "<div>\n",
       "<style scoped>\n",
       "    .dataframe tbody tr th:only-of-type {\n",
       "        vertical-align: middle;\n",
       "    }\n",
       "\n",
       "    .dataframe tbody tr th {\n",
       "        vertical-align: top;\n",
       "    }\n",
       "\n",
       "    .dataframe thead th {\n",
       "        text-align: right;\n",
       "    }\n",
       "</style>\n",
       "<table border=\"1\" class=\"dataframe\">\n",
       "  <thead>\n",
       "    <tr style=\"text-align: right;\">\n",
       "      <th></th>\n",
       "      <th>id</th>\n",
       "      <th>ec_number</th>\n",
       "      <th>date_integraged</th>\n",
       "      <th>date_sequence_update</th>\n",
       "      <th>date_annotation_update</th>\n",
       "      <th>seq</th>\n",
       "    </tr>\n",
       "  </thead>\n",
       "  <tbody>\n",
       "    <tr>\n",
       "      <th>0</th>\n",
       "      <td>Q6GZW6</td>\n",
       "      <td>3.6.4.-</td>\n",
       "      <td>2011-06-28</td>\n",
       "      <td>2004-07-19</td>\n",
       "      <td>2020-08-12</td>\n",
       "      <td>MDTSPYDFLKLYPWLSRGEADKGTLLDAFPGETFEQSLASDVAMRR...</td>\n",
       "    </tr>\n",
       "    <tr>\n",
       "      <th>1</th>\n",
       "      <td>Q6GZV6</td>\n",
       "      <td>2.7.11.1</td>\n",
       "      <td>2011-06-28</td>\n",
       "      <td>2004-07-19</td>\n",
       "      <td>2021-02-10</td>\n",
       "      <td>MATNYCDEFERNPTRNPRTGRTIKRGGPVFRALERECSDGAARVFP...</td>\n",
       "    </tr>\n",
       "    <tr>\n",
       "      <th>2</th>\n",
       "      <td>Q197B6</td>\n",
       "      <td>2.7.11.-</td>\n",
       "      <td>2009-06-16</td>\n",
       "      <td>2006-07-11</td>\n",
       "      <td>2020-08-12</td>\n",
       "      <td>MPLSVFAEEFAEKSVKRYIGQGLWLPCNLSDYYYYQEFHDEGGYGS...</td>\n",
       "    </tr>\n",
       "  </tbody>\n",
       "</table>\n",
       "</div>"
      ],
      "text/plain": [
       "       id ec_number date_integraged date_sequence_update  \\\n",
       "0  Q6GZW6   3.6.4.-      2011-06-28           2004-07-19   \n",
       "1  Q6GZV6  2.7.11.1      2011-06-28           2004-07-19   \n",
       "2  Q197B6  2.7.11.-      2009-06-16           2006-07-11   \n",
       "\n",
       "  date_annotation_update                                                seq  \n",
       "0             2020-08-12  MDTSPYDFLKLYPWLSRGEADKGTLLDAFPGETFEQSLASDVAMRR...  \n",
       "1             2021-02-10  MATNYCDEFERNPTRNPRTGRTIKRGGPVFRALERECSDGAARVFP...  \n",
       "2             2020-08-12  MPLSVFAEEFAEKSVKRYIGQGLWLPCNLSDYYYYQEFHDEGGYGS...  "
      ]
     },
     "execution_count": 5,
     "metadata": {},
     "output_type": "execute_result"
    }
   ],
   "source": [
    "sprot = pd.read_csv('./data/sprot_with_ec.tsv', sep='\\t',names=['id', 'ec_number', 'date_integraged','date_sequence_update','date_annotation_update','seq']) #读入文件\n",
    "sprot.date_integraged = pd.to_datetime(sprot['date_integraged'])\n",
    "sprot.date_sequence_update = pd.to_datetime(sprot['date_sequence_update'])\n",
    "sprot.date_annotation_update = pd.to_datetime(sprot['date_annotation_update'])\n",
    "sprot.head(3)"
   ]
  },
  {
   "cell_type": "markdown",
   "metadata": {},
   "source": [
    "#### 4.1 按时间节点处理\n",
    "##### 4.1.1 按2018年2月28日为节点划分"
   ]
  },
  {
   "cell_type": "code",
   "execution_count": 4,
   "metadata": {
    "collapsed": true,
    "jupyter": {
     "outputs_hidden": true
    }
   },
   "outputs": [
    {
     "name": "stdout",
     "output_type": "stream",
     "text": [
      "Write finished\n",
      "Write finished\n",
      "diamond v2.0.8.146 (C) Max Planck Society for the Advancement of Science\n",
      "Documentation, support and updates available at http://www.diamondsearch.org\n",
      "\n",
      "#CPU threads: 32\n",
      "Scoring parameters: (Matrix=BLOSUM62 Lambda=0.267 K=0.041 Penalties=11/1)\n",
      "Database input file: ./results/sprot_ref_201802.fasta\n",
      "Opening the database file...  [0.035s]\n",
      "Loading sequences...  [0.357s]\n",
      "Masking sequences...  [0.263s]\n",
      "Writing sequences...  [0.072s]\n",
      "Hashing sequences...  [0.028s]\n",
      "Loading sequences...  [0s]\n",
      "Writing trailer...  [0.001s]\n",
      "Closing the input file...  [0.003s]\n",
      "Closing the database file...  [0.929s]\n",
      "Database hash = 569a323cc478a3a399869f1002c5fefb\n",
      "Processed 266465 sequences, 108446438 letters.\n",
      "Total time = 1.693s\n",
      "diamond v2.0.8.146 (C) Max Planck Society for the Advancement of Science\n",
      "Documentation, support and updates available at http://www.diamondsearch.org\n",
      "\n",
      "#CPU threads: 32\n",
      "Scoring parameters: (Matrix=BLOSUM62 Lambda=0.267 K=0.041 Penalties=11/1)\n",
      "Temporary directory: ./results\n",
      "#Target sequences to report alignments for: 1\n",
      "Opening the database...  [0.069s]\n",
      "Database: ./results/sprot_ref_201802.dmnd (type: Diamond database, sequences: 266465, letters: 108446438)\n",
      "Block size = 5000000000\n",
      "Opening the input file...  [0.001s]\n",
      "Opening the output file...  [0.001s]\n",
      "Loading query sequences...  [0.006s]\n",
      "Masking queries...  [0.02s]\n",
      "Building query seed set...  [0.014s]\n",
      "Algorithm: Double-indexed\n",
      "Building query histograms...  [0.007s]\n",
      "Allocating buffers...  [0s]\n",
      "Loading reference sequences...  [0.134s]\n",
      "Masking reference...  [0.26s]\n",
      "Initializing temporary storage...  [0.069s]\n",
      "Building reference histograms...  [0.151s]\n",
      "Allocating buffers...  [0s]\n",
      "Processing query block 1, reference block 1/1, shape 1/2.\n",
      "Building reference seed array...  [0.139s]\n",
      "Building query seed array...  [0.01s]\n",
      "Computing hash join...  [0.05s]\n",
      "Building seed filter...  [0.002s]\n",
      "Searching alignments...  [0.02s]\n",
      "Processing query block 1, reference block 1/1, shape 2/2.\n",
      "Building reference seed array...  [0.109s]\n",
      "Building query seed array...  [0.008s]\n",
      "Computing hash join...  [0.051s]\n",
      "Building seed filter...  [0.002s]\n",
      "Searching alignments...  [0.019s]\n",
      "Deallocating buffers...  [0.045s]\n",
      "Clearing query masking...  [0s]\n",
      "Computing alignments...  [0.761s]\n",
      "Deallocating reference...  [0.008s]\n",
      "Loading reference sequences...  [0s]\n",
      "Deallocating buffers...  [0.001s]\n",
      "Deallocating queries...  [0s]\n",
      "Loading query sequences...  [0s]\n",
      "Closing the input file...  [0s]\n",
      "Closing the output file...  [0.002s]\n",
      "Closing the database file...  [0.004s]\n",
      "Deallocating taxonomy...  [0s]\n",
      "Total time = 2.09s\n",
      "Reported 3246 pairwise alignments, 3246 HSPs.\n",
      "3246 queries aligned.\n",
      "query results data numbers:3246\n"
     ]
    }
   ],
   "source": [
    "#确定阈值\n",
    "thres = datetime.datetime(2018, 2, 28, 0, 0)\n",
    "\n",
    "#划分数据\n",
    "query = sprot[sprot.date_integraged > thres ].sort_values(by='date_integraged')\n",
    "ref = sprot[sprot.date_integraged <= thres ].sort_values(by='date_integraged')\n",
    "\n",
    "#保存数据\n",
    "table_2_fasta(query, './results/sprot_query_201802.fasta')\n",
    "table_2_fasta(ref, './results/sprot_ref_201802.fasta')\n",
    "\n",
    "#建库并比对\n",
    "! ./diamond makedb --in ./results/sprot_ref_201802.fasta -d ./results/sprot_ref_201802.dmnd     #建库\n",
    "! ./diamond blastp -d ./results/sprot_ref_201802.dmnd  -q ./results/sprot_query_201802.fasta -o ./results/sprot_query_201802_match.tsv -b5 -c1 -k 1   #生成比对文件\n",
    "\n",
    "#读入比对结果\n",
    "qure_res_data = pd.read_csv('./results/sprot_query_201802_match.tsv', sep='\\t', names=['id', 'sseqid', 'pident', 'length','mismatch','gapopen','qstart','qend','sstart','send','evalue','bitscore'])\n",
    "print('query results data numbers:{0}'.format(len(qure_res_data)))"
   ]
  },
  {
   "cell_type": "markdown",
   "metadata": {},
   "source": [
    "##### 4.1.2 拼合原始数据和比对数据"
   ]
  },
  {
   "cell_type": "code",
   "execution_count": 5,
   "metadata": {
    "collapsed": true,
    "jupyter": {
     "outputs_hidden": true
    }
   },
   "outputs": [
    {
     "data": {
      "text/html": [
       "<div>\n",
       "<style scoped>\n",
       "    .dataframe tbody tr th:only-of-type {\n",
       "        vertical-align: middle;\n",
       "    }\n",
       "\n",
       "    .dataframe tbody tr th {\n",
       "        vertical-align: top;\n",
       "    }\n",
       "\n",
       "    .dataframe thead th {\n",
       "        text-align: right;\n",
       "    }\n",
       "</style>\n",
       "<table border=\"1\" class=\"dataframe\">\n",
       "  <thead>\n",
       "    <tr style=\"text-align: right;\">\n",
       "      <th></th>\n",
       "      <th>id</th>\n",
       "      <th>ec_number</th>\n",
       "      <th>date_integraged</th>\n",
       "      <th>date_sequence_update</th>\n",
       "      <th>date_annotation_update</th>\n",
       "      <th>seq</th>\n",
       "      <th>seqlength</th>\n",
       "      <th>sseqid</th>\n",
       "      <th>pident</th>\n",
       "      <th>length</th>\n",
       "      <th>mismatch</th>\n",
       "      <th>gapopen</th>\n",
       "      <th>qstart</th>\n",
       "      <th>qend</th>\n",
       "      <th>sstart</th>\n",
       "      <th>send</th>\n",
       "      <th>evalue</th>\n",
       "      <th>bitscore</th>\n",
       "      <th>coverage</th>\n",
       "    </tr>\n",
       "  </thead>\n",
       "  <tbody>\n",
       "    <tr>\n",
       "      <th>0</th>\n",
       "      <td>M5AWY0</td>\n",
       "      <td>1.14.14.-</td>\n",
       "      <td>2018-06-20</td>\n",
       "      <td>2013-05-29</td>\n",
       "      <td>2020-02-26</td>\n",
       "      <td>MQAGFFHTPYNLPTRTARQMFDWSLKLAQVCDEAGFADFMIGEHST...</td>\n",
       "      <td>363</td>\n",
       "      <td>Q6STM1</td>\n",
       "      <td>92.8</td>\n",
       "      <td>361</td>\n",
       "      <td>26</td>\n",
       "      <td>0</td>\n",
       "      <td>1</td>\n",
       "      <td>361</td>\n",
       "      <td>1</td>\n",
       "      <td>361</td>\n",
       "      <td>5.020000e-268</td>\n",
       "      <td>728.0</td>\n",
       "      <td>0.99449</td>\n",
       "    </tr>\n",
       "    <tr>\n",
       "      <th>1</th>\n",
       "      <td>A5CAL1</td>\n",
       "      <td>1.1.1.26, 1.1.1.28, 1.1.1.79, 1.1.1.-</td>\n",
       "      <td>2020-06-17</td>\n",
       "      <td>2007-06-12</td>\n",
       "      <td>2021-04-07</td>\n",
       "      <td>MESIGVLLTCPMNPYLEQELDKRFKLFRFWDFPSANDLFREHSNSI...</td>\n",
       "      <td>313</td>\n",
       "      <td>Q65CJ7</td>\n",
       "      <td>78.0</td>\n",
       "      <td>313</td>\n",
       "      <td>69</td>\n",
       "      <td>0</td>\n",
       "      <td>1</td>\n",
       "      <td>313</td>\n",
       "      <td>1</td>\n",
       "      <td>313</td>\n",
       "      <td>1.330000e-176</td>\n",
       "      <td>493.0</td>\n",
       "      <td>1.00000</td>\n",
       "    </tr>\n",
       "    <tr>\n",
       "      <th>2</th>\n",
       "      <td>A0A0N9HQ36</td>\n",
       "      <td>1.14.20.8</td>\n",
       "      <td>2021-02-10</td>\n",
       "      <td>2016-01-20</td>\n",
       "      <td>2021-02-10</td>\n",
       "      <td>MGSTAPLRLPVIDLSMKNLKPGTTSWNSVRTQVREALEEYGCFEAV...</td>\n",
       "      <td>310</td>\n",
       "      <td>Q945B6</td>\n",
       "      <td>41.6</td>\n",
       "      <td>310</td>\n",
       "      <td>170</td>\n",
       "      <td>5</td>\n",
       "      <td>8</td>\n",
       "      <td>307</td>\n",
       "      <td>13</td>\n",
       "      <td>321</td>\n",
       "      <td>4.660000e-78</td>\n",
       "      <td>243.0</td>\n",
       "      <td>1.00000</td>\n",
       "    </tr>\n",
       "  </tbody>\n",
       "</table>\n",
       "</div>"
      ],
      "text/plain": [
       "           id                              ec_number date_integraged  \\\n",
       "0      M5AWY0                              1.14.14.-      2018-06-20   \n",
       "1      A5CAL1  1.1.1.26, 1.1.1.28, 1.1.1.79, 1.1.1.-      2020-06-17   \n",
       "2  A0A0N9HQ36                              1.14.20.8      2021-02-10   \n",
       "\n",
       "  date_sequence_update date_annotation_update  \\\n",
       "0           2013-05-29             2020-02-26   \n",
       "1           2007-06-12             2021-04-07   \n",
       "2           2016-01-20             2021-02-10   \n",
       "\n",
       "                                                 seq  seqlength  sseqid  \\\n",
       "0  MQAGFFHTPYNLPTRTARQMFDWSLKLAQVCDEAGFADFMIGEHST...        363  Q6STM1   \n",
       "1  MESIGVLLTCPMNPYLEQELDKRFKLFRFWDFPSANDLFREHSNSI...        313  Q65CJ7   \n",
       "2  MGSTAPLRLPVIDLSMKNLKPGTTSWNSVRTQVREALEEYGCFEAV...        310  Q945B6   \n",
       "\n",
       "   pident  length  mismatch  gapopen  qstart  qend  sstart  send  \\\n",
       "0    92.8     361        26        0       1   361       1   361   \n",
       "1    78.0     313        69        0       1   313       1   313   \n",
       "2    41.6     310       170        5       8   307      13   321   \n",
       "\n",
       "          evalue  bitscore  coverage  \n",
       "0  5.020000e-268     728.0   0.99449  \n",
       "1  1.330000e-176     493.0   1.00000  \n",
       "2   4.660000e-78     243.0   1.00000  "
      ]
     },
     "execution_count": 5,
     "metadata": {},
     "output_type": "execute_result"
    }
   ],
   "source": [
    "# 拼合原始数据和比对数据\n",
    "sprot_extended = sprot\n",
    "sprot_extended['seqlength'] = sprot_extended['seq'].map(lambda x : len(x))\n",
    "sprot_extended = pd.merge(sprot_extended,qure_res_data, on=['id'], how='inner')\n",
    "sprot_extended['coverage'] = sprot_extended.apply(lambda x: x['length']/x['seqlength'], axis=1)\n",
    "\n",
    "sprot_extended.head(3)"
   ]
  },
  {
   "cell_type": "markdown",
   "metadata": {},
   "source": [
    "##### 4.1.3 添加比对结果的EC号"
   ]
  },
  {
   "cell_type": "code",
   "execution_count": 6,
   "metadata": {},
   "outputs": [],
   "source": [
    "# 添加比对结果的EC号\n",
    "\n",
    "counter =0\n",
    "resArray =[]\n",
    "\n",
    "for i in range(len(sprot_extended)):\n",
    "    counter+=1\n",
    "    mn = sprot[sprot['id']== sprot_extended['sseqid'][i]]['ec_number'].values\n",
    "    resArray.append(mn)\n",
    "sprot_extended['sresults_ec']=np.array(resArray)  \n",
    "\n",
    "sprot_extended['iscorrect'] = sprot_extended[['ec_number', 'sresults_ec']].apply(lambda x: x['ec_number'] == x['sresults_ec'], axis=1) #判断EC号是否一致"
   ]
  },
  {
   "cell_type": "markdown",
   "metadata": {},
   "source": [
    "##### 4.1.4 计算指标 "
   ]
  },
  {
   "cell_type": "code",
   "execution_count": 28,
   "metadata": {
    "tags": []
   },
   "outputs": [
    {
     "name": "stdout",
     "output_type": "stream",
     "text": [
      "Total query records are: 3771\n",
      "Matched records are: 3246\n",
      "Recall: 0.5242641209228321(1977/3771)\n",
      "Pricision: 0.6090573012939002(1977/3246)\n",
      "Recall: 0.8607796340493238(3246/3771)\n"
     ]
    }
   ],
   "source": [
    "correct = sum(sprot_extended['iscorrect'])\n",
    "find  = len(sprot_extended)\n",
    "total = len(query)\n",
    "print('Total query records are: {0}'.format(total))\n",
    "print('Matched records are: {0}'.format(find))\n",
    "print('Recall: {0}({1}/{2})'.format(correct/total, correct, total))\n",
    "print('Pricision: {0}({1}/{2})'.format(correct/find, correct, find))\n",
    "print('Recall: {0}({1}/{2})'.format(find/total, find, total))"
   ]
  },
  {
   "cell_type": "markdown",
   "metadata": {},
   "source": [
    "##### 4.1.4 使用DeepEC进行计算"
   ]
  },
  {
   "cell_type": "code",
   "execution_count": 17,
   "metadata": {
    "collapsed": true,
    "jupyter": {
     "outputs_hidden": true
    }
   },
   "outputs": [
    {
     "name": "stdout",
     "output_type": "stream",
     "text": [
      "2021-04-19 01:33:06.503896: I tensorflow/stream_executor/platform/default/dso_loader.cc:49] Successfully opened dynamic library libcudart.so.11.0\n",
      "2021-04-19 01:36:06.861786: I tensorflow/compiler/jit/xla_cpu_device.cc:41] Not creating XLA devices, tf_xla_enable_xla_devices not set\n",
      "2021-04-19 01:36:06.876688: I tensorflow/stream_executor/platform/default/dso_loader.cc:49] Successfully opened dynamic library libcuda.so.1\n",
      "2021-04-19 01:36:06.918909: E tensorflow/stream_executor/cuda/cuda_driver.cc:328] failed call to cuInit: CUDA_ERROR_COMPAT_NOT_SUPPORTED_ON_DEVICE: forward compatibility was attempted on non supported HW\n",
      "2021-04-19 01:36:06.918946: I tensorflow/stream_executor/cuda/cuda_diagnostics.cc:169] retrieving CUDA diagnostic information for host: gpu1.tibd.net\n",
      "2021-04-19 01:36:06.918959: I tensorflow/stream_executor/cuda/cuda_diagnostics.cc:176] hostname: gpu1.tibd.net\n",
      "2021-04-19 01:36:06.931873: I tensorflow/stream_executor/cuda/cuda_diagnostics.cc:200] libcuda reported version is: 460.56.0\n",
      "2021-04-19 01:36:06.931923: I tensorflow/stream_executor/cuda/cuda_diagnostics.cc:204] kernel reported version is: 460.39.0\n",
      "2021-04-19 01:36:06.931935: E tensorflow/stream_executor/cuda/cuda_diagnostics.cc:313] kernel version 460.39.0 does not match DSO version 460.56.0 -- cannot find working devices in this configuration\n",
      "2021-04-19 01:36:06.932248: I tensorflow/core/platform/cpu_feature_guard.cc:142] This TensorFlow binary is optimized with oneAPI Deep Neural Network Library (oneDNN) to use the following CPU instructions in performance-critical operations:  AVX2 FMA\n",
      "To enable them in other operations, rebuild TensorFlow with the appropriate compiler flags.\n",
      "2021-04-19 01:36:06.934700: I tensorflow/compiler/jit/xla_gpu_device.cc:99] Not creating XLA devices, tf_xla_enable_xla_devices not set\n",
      "2021-04-19 01:36:08.148964: I tensorflow/compiler/mlir/mlir_graph_optimization_pass.cc:116] None of the MLIR optimization passes are enabled (registered 2)\n",
      "2021-04-19 01:36:08.204306: I tensorflow/core/platform/profile_utils/cpu_utils.cc:112] CPU Frequency: 3000105000 Hz\n",
      "Traceback (most recent call last):\n",
      "  File \"./deepec/deepec.py\", line 8, in <module>\n",
      "    main()\n",
      "  File \"/home/shizhenkun/codebase/uniprot/deepec/deepec/__main__.py\", line 53, in main\n",
      "    ec_prediction_dl.predict_ec(temp_df, dl4_output_file, DeepEC4d_oh, MB4d_oh, threshold) \n",
      "  File \"/home/shizhenkun/codebase/uniprot/deepec/deepec/ec_prediction_dl.py\", line 157, in predict_ec\n",
      "    lb = cPickle.load(fid)\n",
      "ModuleNotFoundError: No module named 'sklearn.preprocessing.label'\n"
     ]
    }
   ],
   "source": [
    "! python ./deepec/deepec.py -i ./results/sprot_query_201802.fasta -o ./results/deepec/"
   ]
  },
  {
   "cell_type": "markdown",
   "metadata": {},
   "source": [
    "##### 4.1.5 加载DeepEC的预测结果"
   ]
  },
  {
   "cell_type": "code",
   "execution_count": 21,
   "metadata": {
    "collapsed": true,
    "jupyter": {
     "outputs_hidden": true
    }
   },
   "outputs": [
    {
     "data": {
      "text/html": [
       "<div>\n",
       "<style scoped>\n",
       "    .dataframe tbody tr th:only-of-type {\n",
       "        vertical-align: middle;\n",
       "    }\n",
       "\n",
       "    .dataframe tbody tr th {\n",
       "        vertical-align: top;\n",
       "    }\n",
       "\n",
       "    .dataframe thead th {\n",
       "        text-align: right;\n",
       "    }\n",
       "</style>\n",
       "<table border=\"1\" class=\"dataframe\">\n",
       "  <thead>\n",
       "    <tr style=\"text-align: right;\">\n",
       "      <th></th>\n",
       "      <th>id</th>\n",
       "      <th>ec_number</th>\n",
       "    </tr>\n",
       "  </thead>\n",
       "  <tbody>\n",
       "    <tr>\n",
       "      <th>0</th>\n",
       "      <td>Q46085</td>\n",
       "      <td>2.7.7.7</td>\n",
       "    </tr>\n",
       "    <tr>\n",
       "      <th>1</th>\n",
       "      <td>Q3K9A2</td>\n",
       "      <td>1.5.1.38</td>\n",
       "    </tr>\n",
       "    <tr>\n",
       "      <th>2</th>\n",
       "      <td>Q65YX0</td>\n",
       "      <td>1.5.1.38</td>\n",
       "    </tr>\n",
       "  </tbody>\n",
       "</table>\n",
       "</div>"
      ],
      "text/plain": [
       "       id ec_number\n",
       "0  Q46085   2.7.7.7\n",
       "1  Q3K9A2  1.5.1.38\n",
       "2  Q65YX0  1.5.1.38"
      ]
     },
     "execution_count": 21,
     "metadata": {},
     "output_type": "execute_result"
    }
   ],
   "source": [
    "deepec_results = pd.read_csv('./results/sprot_query_201802/DeepEC_Result.txt', sep='\\t',names=['id', 'ec_number'], header=0) #读入文件\n",
    "deepec_results.ec_number=deepec_results.apply(lambda x: x['ec_number'].replace('EC:',''), axis=1)\n",
    "deepec_results.head(3)"
   ]
  },
  {
   "cell_type": "markdown",
   "metadata": {},
   "source": [
    "##### 4.1.6 添加比对结果的EC号"
   ]
  },
  {
   "cell_type": "code",
   "execution_count": 22,
   "metadata": {
    "collapsed": true,
    "jupyter": {
     "outputs_hidden": true
    }
   },
   "outputs": [
    {
     "data": {
      "text/html": [
       "<div>\n",
       "<style scoped>\n",
       "    .dataframe tbody tr th:only-of-type {\n",
       "        vertical-align: middle;\n",
       "    }\n",
       "\n",
       "    .dataframe tbody tr th {\n",
       "        vertical-align: top;\n",
       "    }\n",
       "\n",
       "    .dataframe thead th {\n",
       "        text-align: right;\n",
       "    }\n",
       "</style>\n",
       "<table border=\"1\" class=\"dataframe\">\n",
       "  <thead>\n",
       "    <tr style=\"text-align: right;\">\n",
       "      <th></th>\n",
       "      <th>id</th>\n",
       "      <th>ec_number</th>\n",
       "      <th>sresults_ec</th>\n",
       "      <th>iscorrect</th>\n",
       "    </tr>\n",
       "  </thead>\n",
       "  <tbody>\n",
       "    <tr>\n",
       "      <th>0</th>\n",
       "      <td>Q46085</td>\n",
       "      <td>2.7.7.7</td>\n",
       "      <td>3.4.24.3</td>\n",
       "      <td>False</td>\n",
       "    </tr>\n",
       "    <tr>\n",
       "      <th>1</th>\n",
       "      <td>Q3K9A2</td>\n",
       "      <td>1.5.1.38</td>\n",
       "      <td>1.5.1.42</td>\n",
       "      <td>False</td>\n",
       "    </tr>\n",
       "    <tr>\n",
       "      <th>2</th>\n",
       "      <td>Q65YX0</td>\n",
       "      <td>1.5.1.38</td>\n",
       "      <td>1.5.1.42</td>\n",
       "      <td>False</td>\n",
       "    </tr>\n",
       "  </tbody>\n",
       "</table>\n",
       "</div>"
      ],
      "text/plain": [
       "       id ec_number sresults_ec  iscorrect\n",
       "0  Q46085   2.7.7.7    3.4.24.3      False\n",
       "1  Q3K9A2  1.5.1.38    1.5.1.42      False\n",
       "2  Q65YX0  1.5.1.38    1.5.1.42      False"
      ]
     },
     "execution_count": 22,
     "metadata": {},
     "output_type": "execute_result"
    }
   ],
   "source": [
    "\n",
    "counter =0\n",
    "resArray =[]\n",
    "\n",
    "for i in range(len(deepec_results)):\n",
    "    counter+=1\n",
    "    mn = sprot[sprot['id']== deepec_results['id'][i]]['ec_number'].values\n",
    "    resArray.append(mn)\n",
    "deepec_results['sresults_ec']=np.array(resArray)  \n",
    "\n",
    "deepec_results['iscorrect'] = deepec_results[['ec_number', 'sresults_ec']].apply(lambda x: x['ec_number'] == x['sresults_ec'], axis=1) #判断EC号是否一致\n",
    "\n",
    "deepec_results.head(3)"
   ]
  },
  {
   "cell_type": "markdown",
   "metadata": {},
   "source": [
    "##### 4.1.7 计算DeepEC的指标"
   ]
  },
  {
   "cell_type": "code",
   "execution_count": 27,
   "metadata": {
    "collapsed": true,
    "jupyter": {
     "outputs_hidden": true
    }
   },
   "outputs": [
    {
     "name": "stdout",
     "output_type": "stream",
     "text": [
      "Total query records are: 3771\n",
      "Matched records are: 1022\n",
      "Accuracy: 0.10580747812251393(399/3771)\n",
      "Pricision: 0.3904109589041096(399/1022)\n",
      "Recall: 0.27101564571731634(1022/3771)\n"
     ]
    }
   ],
   "source": [
    "correct = sum(deepec_results['iscorrect'])\n",
    "find  = len(deepec_results)\n",
    "total = len(query)\n",
    "print('Total query records are: {0}'.format(total))\n",
    "print('Matched records are: {0}'.format(find))\n",
    "print('Accuracy: {0}({1}/{2})'.format(correct/total, correct, total))\n",
    "print('Pricision: {0}({1}/{2})'.format(correct/find, correct, find))\n",
    "print('Recall: {0}({1}/{2})'.format(find/total, find, total))"
   ]
  },
  {
   "cell_type": "markdown",
   "metadata": {},
   "source": [
    "### 4.2. 随机进行处理"
   ]
  },
  {
   "cell_type": "markdown",
   "metadata": {},
   "source": [
    "#### 4.2.1 按随机方法划分数据，1/2 REF， 1/2 QUERY"
   ]
  },
  {
   "cell_type": "code",
   "execution_count": 35,
   "metadata": {
    "collapsed": true,
    "jupyter": {
     "outputs_hidden": true
    }
   },
   "outputs": [
    {
     "name": "stdout",
     "output_type": "stream",
     "text": [
      "Write finished\n",
      "Write finished\n",
      "diamond v2.0.8.146 (C) Max Planck Society for the Advancement of Science\n",
      "Documentation, support and updates available at http://www.diamondsearch.org\n",
      "\n",
      "#CPU threads: 32\n",
      "Scoring parameters: (Matrix=BLOSUM62 Lambda=0.267 K=0.041 Penalties=11/1)\n",
      "Database input file: ./data/sprot_with_ec_ref.fasta\n",
      "Opening the database file...  [0.019s]\n",
      "Loading sequences...  [0.189s]\n",
      "Masking sequences...  [0.139s]\n",
      "Writing sequences...  [0.026s]\n",
      "Hashing sequences...  [0.014s]\n",
      "Loading sequences...  [0s]\n",
      "Writing trailer...  [0.001s]\n",
      "Closing the input file...  [0.002s]\n",
      "Closing the database file...  [0.51s]\n",
      "Database hash = 34d2f56d56e519bfefff960a5bbd0ee4\n",
      "Processed 135118 sequences, 55338380 letters.\n",
      "Total time = 0.904s\n",
      "diamond v2.0.8.146 (C) Max Planck Society for the Advancement of Science\n",
      "Documentation, support and updates available at http://www.diamondsearch.org\n",
      "\n",
      "#CPU threads: 32\n",
      "Scoring parameters: (Matrix=BLOSUM62 Lambda=0.267 K=0.041 Penalties=11/1)\n",
      "Temporary directory: ./data\n",
      "#Target sequences to report alignments for: 1\n",
      "Opening the database...  [0.063s]\n",
      "Database: ./data/sprot_with_ec_ref.dmnd (type: Diamond database, sequences: 135118, letters: 55338380)\n",
      "Block size = 5000000000\n",
      "Opening the input file...  [0.024s]\n",
      "Opening the output file...  [0.002s]\n",
      "Loading query sequences...  [0.156s]\n",
      "Masking queries...  [0.145s]\n",
      "Building query seed set...  [0.043s]\n",
      "Algorithm: Double-indexed\n",
      "Building query histograms...  [0.077s]\n",
      "Allocating buffers...  [0s]\n",
      "Loading reference sequences...  [0.071s]\n",
      "Masking reference...  [0.136s]\n",
      "Initializing temporary storage...  [0.066s]\n",
      "Building reference histograms...  [0.08s]\n",
      "Allocating buffers...  [0s]\n",
      "Processing query block 1, reference block 1/1, shape 1/2.\n",
      "Building reference seed array...  [0.09s]\n",
      "Building query seed array...  [0.076s]\n",
      "Computing hash join...  [0.075s]\n",
      "Building seed filter...  [0.01s]\n",
      "Searching alignments...  [2.064s]\n",
      "Processing query block 1, reference block 1/1, shape 2/2.\n",
      "Building reference seed array...  [0.063s]\n",
      "Building query seed array...  [0.06s]\n",
      "Computing hash join...  [0.072s]\n",
      "Building seed filter...  [0.01s]\n",
      "Searching alignments...  [2.494s]\n",
      "Deallocating buffers...  [0.027s]\n",
      "Clearing query masking...  [0.018s]\n",
      "Computing alignments...  [23.634s]\n",
      "Deallocating reference...  [0.001s]\n",
      "Loading reference sequences...  [0s]\n",
      "Deallocating buffers...  [0.022s]\n",
      "Deallocating queries...  [0.001s]\n",
      "Loading query sequences...  [0s]\n",
      "Closing the input file...  [0.001s]\n",
      "Closing the output file...  [0.065s]\n",
      "Closing the database file...  [0.004s]\n",
      "Deallocating taxonomy...  [0s]\n",
      "Total time = 29.769s\n",
      "Reported 133052 pairwise alignments, 133052 HSPs.\n",
      "133052 queries aligned.\n"
     ]
    }
   ],
   "source": [
    "query, ref = split_random(sprot)\n",
    "! ./diamond makedb --in ./data/sprot_with_ec_ref.fasta -d ./data/sprot_with_ec_ref.dmnd     #建库\n",
    "! ./diamond blastp -d ./data/sprot_with_ec_ref.dmnd  -q ./data/sprot_with_ec_query.fasta -o ./data/sprot_with_ec_query_result.tsv -b5 -c1 -k 1   #生成比对文件"
   ]
  },
  {
   "cell_type": "markdown",
   "metadata": {},
   "source": [
    "#### 4.2.2 拼合原始数据和比对数据"
   ]
  },
  {
   "cell_type": "code",
   "execution_count": 39,
   "metadata": {
    "collapsed": true,
    "jupyter": {
     "outputs_hidden": true
    }
   },
   "outputs": [
    {
     "name": "stdout",
     "output_type": "stream",
     "text": [
      "query results data numbers:133052\n"
     ]
    },
    {
     "name": "stderr",
     "output_type": "stream",
     "text": [
      "<ipython-input-39-fa89c01faa3c>:3: SettingWithCopyWarning: \n",
      "A value is trying to be set on a copy of a slice from a DataFrame.\n",
      "Try using .loc[row_indexer,col_indexer] = value instead\n",
      "\n",
      "See the caveats in the documentation: https://pandas.pydata.org/pandas-docs/stable/user_guide/indexing.html#returning-a-view-versus-a-copy\n",
      "  query['seqlength'] = query['seq'].map(lambda x : len(x))\n"
     ]
    },
    {
     "data": {
      "text/html": [
       "<div>\n",
       "<style scoped>\n",
       "    .dataframe tbody tr th:only-of-type {\n",
       "        vertical-align: middle;\n",
       "    }\n",
       "\n",
       "    .dataframe tbody tr th {\n",
       "        vertical-align: top;\n",
       "    }\n",
       "\n",
       "    .dataframe thead th {\n",
       "        text-align: right;\n",
       "    }\n",
       "</style>\n",
       "<table border=\"1\" class=\"dataframe\">\n",
       "  <thead>\n",
       "    <tr style=\"text-align: right;\">\n",
       "      <th></th>\n",
       "      <th>id</th>\n",
       "      <th>ec_number</th>\n",
       "      <th>date_integraged</th>\n",
       "      <th>date_sequence_update</th>\n",
       "      <th>date_annotation_update</th>\n",
       "      <th>seq</th>\n",
       "      <th>seqlength</th>\n",
       "      <th>sseqid</th>\n",
       "      <th>pident</th>\n",
       "      <th>length</th>\n",
       "      <th>mismatch</th>\n",
       "      <th>gapopen</th>\n",
       "      <th>qstart</th>\n",
       "      <th>qend</th>\n",
       "      <th>sstart</th>\n",
       "      <th>send</th>\n",
       "      <th>evalue</th>\n",
       "      <th>bitscore</th>\n",
       "      <th>coverage</th>\n",
       "    </tr>\n",
       "  </thead>\n",
       "  <tbody>\n",
       "    <tr>\n",
       "      <th>0</th>\n",
       "      <td>Q196W5</td>\n",
       "      <td>3.4.24.-</td>\n",
       "      <td>2009-06-16</td>\n",
       "      <td>2006-07-11</td>\n",
       "      <td>2021-04-07</td>\n",
       "      <td>MSVDSFTSRLAVVMTAVVLVWWAQALPVPSPRRGESDCDAACRKFL...</td>\n",
       "      <td>363</td>\n",
       "      <td>O18767</td>\n",
       "      <td>30.3</td>\n",
       "      <td>323</td>\n",
       "      <td>166</td>\n",
       "      <td>8</td>\n",
       "      <td>8</td>\n",
       "      <td>323</td>\n",
       "      <td>5</td>\n",
       "      <td>275</td>\n",
       "      <td>1.700000e-34</td>\n",
       "      <td>134.0</td>\n",
       "      <td>0.889807</td>\n",
       "    </tr>\n",
       "    <tr>\n",
       "      <th>1</th>\n",
       "      <td>Q8GBW6</td>\n",
       "      <td>2.1.3.1</td>\n",
       "      <td>2005-02-01</td>\n",
       "      <td>2007-01-23</td>\n",
       "      <td>2021-04-07</td>\n",
       "      <td>MAENNNLKLASTMEGRVEQLAEQRQVIEAGGGERRVEKQHSQGKQT...</td>\n",
       "      <td>611</td>\n",
       "      <td>P53003</td>\n",
       "      <td>53.3</td>\n",
       "      <td>510</td>\n",
       "      <td>220</td>\n",
       "      <td>4</td>\n",
       "      <td>31</td>\n",
       "      <td>524</td>\n",
       "      <td>39</td>\n",
       "      <td>546</td>\n",
       "      <td>2.070000e-175</td>\n",
       "      <td>510.0</td>\n",
       "      <td>0.834697</td>\n",
       "    </tr>\n",
       "    <tr>\n",
       "      <th>2</th>\n",
       "      <td>O55761</td>\n",
       "      <td>3.4.24.-</td>\n",
       "      <td>2009-06-16</td>\n",
       "      <td>1998-06-01</td>\n",
       "      <td>2021-04-07</td>\n",
       "      <td>MKINTTDVRTAIYHSLQQWQSVSLLTFKEEYYDENADIKVSFVKGK...</td>\n",
       "      <td>264</td>\n",
       "      <td>P09237</td>\n",
       "      <td>39.7</td>\n",
       "      <td>136</td>\n",
       "      <td>73</td>\n",
       "      <td>5</td>\n",
       "      <td>15</td>\n",
       "      <td>142</td>\n",
       "      <td>132</td>\n",
       "      <td>266</td>\n",
       "      <td>5.460000e-22</td>\n",
       "      <td>93.6</td>\n",
       "      <td>0.515152</td>\n",
       "    </tr>\n",
       "  </tbody>\n",
       "</table>\n",
       "</div>"
      ],
      "text/plain": [
       "       id ec_number date_integraged date_sequence_update  \\\n",
       "0  Q196W5  3.4.24.-      2009-06-16           2006-07-11   \n",
       "1  Q8GBW6   2.1.3.1      2005-02-01           2007-01-23   \n",
       "2  O55761  3.4.24.-      2009-06-16           1998-06-01   \n",
       "\n",
       "  date_annotation_update                                                seq  \\\n",
       "0             2021-04-07  MSVDSFTSRLAVVMTAVVLVWWAQALPVPSPRRGESDCDAACRKFL...   \n",
       "1             2021-04-07  MAENNNLKLASTMEGRVEQLAEQRQVIEAGGGERRVEKQHSQGKQT...   \n",
       "2             2021-04-07  MKINTTDVRTAIYHSLQQWQSVSLLTFKEEYYDENADIKVSFVKGK...   \n",
       "\n",
       "   seqlength  sseqid  pident  length  mismatch  gapopen  qstart  qend  sstart  \\\n",
       "0        363  O18767    30.3     323       166        8       8   323       5   \n",
       "1        611  P53003    53.3     510       220        4      31   524      39   \n",
       "2        264  P09237    39.7     136        73        5      15   142     132   \n",
       "\n",
       "   send         evalue  bitscore  coverage  \n",
       "0   275   1.700000e-34     134.0  0.889807  \n",
       "1   546  2.070000e-175     510.0  0.834697  \n",
       "2   266   5.460000e-22      93.6  0.515152  "
      ]
     },
     "execution_count": 39,
     "metadata": {},
     "output_type": "execute_result"
    }
   ],
   "source": [
    "qure_res_data = pd.read_csv('./data/sprot_with_ec_query_result.tsv', sep='\\t', names=['id', 'sseqid', 'pident', 'length','mismatch','gapopen','qstart','qend','sstart','send','evalue','bitscore'])\n",
    "print('query results data numbers:{0}'.format(len(qure_res_data)))\n",
    "query['seqlength'] = query['seq'].map(lambda x : len(x))\n",
    "qure_res_data = pd.merge(query,qure_res_data, on=['id'], how='inner')\n",
    "qure_res_data['coverage'] = qure_res_data.apply(lambda x: x['length']/x['seqlength'], axis=1)\n",
    "qure_res_data.head(3)"
   ]
  },
  {
   "cell_type": "markdown",
   "metadata": {},
   "source": [
    "#### 4.2.3 添加比对结果的EC号"
   ]
  },
  {
   "cell_type": "code",
   "execution_count": 40,
   "metadata": {},
   "outputs": [
    {
     "data": {
      "text/html": [
       "<div>\n",
       "<style scoped>\n",
       "    .dataframe tbody tr th:only-of-type {\n",
       "        vertical-align: middle;\n",
       "    }\n",
       "\n",
       "    .dataframe tbody tr th {\n",
       "        vertical-align: top;\n",
       "    }\n",
       "\n",
       "    .dataframe thead th {\n",
       "        text-align: right;\n",
       "    }\n",
       "</style>\n",
       "<table border=\"1\" class=\"dataframe\">\n",
       "  <thead>\n",
       "    <tr style=\"text-align: right;\">\n",
       "      <th></th>\n",
       "      <th>id</th>\n",
       "      <th>ec_number</th>\n",
       "      <th>date_integraged</th>\n",
       "      <th>date_sequence_update</th>\n",
       "      <th>date_annotation_update</th>\n",
       "      <th>seq</th>\n",
       "      <th>seqlength</th>\n",
       "      <th>sseqid</th>\n",
       "      <th>pident</th>\n",
       "      <th>length</th>\n",
       "      <th>mismatch</th>\n",
       "      <th>gapopen</th>\n",
       "      <th>qstart</th>\n",
       "      <th>qend</th>\n",
       "      <th>sstart</th>\n",
       "      <th>send</th>\n",
       "      <th>evalue</th>\n",
       "      <th>bitscore</th>\n",
       "      <th>coverage</th>\n",
       "      <th>sresults_ec</th>\n",
       "    </tr>\n",
       "  </thead>\n",
       "  <tbody>\n",
       "    <tr>\n",
       "      <th>0</th>\n",
       "      <td>Q196W5</td>\n",
       "      <td>3.4.24.-</td>\n",
       "      <td>2009-06-16</td>\n",
       "      <td>2006-07-11</td>\n",
       "      <td>2021-04-07</td>\n",
       "      <td>MSVDSFTSRLAVVMTAVVLVWWAQALPVPSPRRGESDCDAACRKFL...</td>\n",
       "      <td>363</td>\n",
       "      <td>O18767</td>\n",
       "      <td>30.3</td>\n",
       "      <td>323</td>\n",
       "      <td>166</td>\n",
       "      <td>8</td>\n",
       "      <td>8</td>\n",
       "      <td>323</td>\n",
       "      <td>5</td>\n",
       "      <td>275</td>\n",
       "      <td>1.700000e-34</td>\n",
       "      <td>134.0</td>\n",
       "      <td>0.889807</td>\n",
       "      <td>3.4.24.-</td>\n",
       "    </tr>\n",
       "    <tr>\n",
       "      <th>1</th>\n",
       "      <td>Q8GBW6</td>\n",
       "      <td>2.1.3.1</td>\n",
       "      <td>2005-02-01</td>\n",
       "      <td>2007-01-23</td>\n",
       "      <td>2021-04-07</td>\n",
       "      <td>MAENNNLKLASTMEGRVEQLAEQRQVIEAGGGERRVEKQHSQGKQT...</td>\n",
       "      <td>611</td>\n",
       "      <td>P53003</td>\n",
       "      <td>53.3</td>\n",
       "      <td>510</td>\n",
       "      <td>220</td>\n",
       "      <td>4</td>\n",
       "      <td>31</td>\n",
       "      <td>524</td>\n",
       "      <td>39</td>\n",
       "      <td>546</td>\n",
       "      <td>2.070000e-175</td>\n",
       "      <td>510.0</td>\n",
       "      <td>0.834697</td>\n",
       "      <td>6.4.1.3</td>\n",
       "    </tr>\n",
       "    <tr>\n",
       "      <th>2</th>\n",
       "      <td>O55761</td>\n",
       "      <td>3.4.24.-</td>\n",
       "      <td>2009-06-16</td>\n",
       "      <td>1998-06-01</td>\n",
       "      <td>2021-04-07</td>\n",
       "      <td>MKINTTDVRTAIYHSLQQWQSVSLLTFKEEYYDENADIKVSFVKGK...</td>\n",
       "      <td>264</td>\n",
       "      <td>P09237</td>\n",
       "      <td>39.7</td>\n",
       "      <td>136</td>\n",
       "      <td>73</td>\n",
       "      <td>5</td>\n",
       "      <td>15</td>\n",
       "      <td>142</td>\n",
       "      <td>132</td>\n",
       "      <td>266</td>\n",
       "      <td>5.460000e-22</td>\n",
       "      <td>93.6</td>\n",
       "      <td>0.515152</td>\n",
       "      <td>3.4.24.23</td>\n",
       "    </tr>\n",
       "  </tbody>\n",
       "</table>\n",
       "</div>"
      ],
      "text/plain": [
       "       id ec_number date_integraged date_sequence_update  \\\n",
       "0  Q196W5  3.4.24.-      2009-06-16           2006-07-11   \n",
       "1  Q8GBW6   2.1.3.1      2005-02-01           2007-01-23   \n",
       "2  O55761  3.4.24.-      2009-06-16           1998-06-01   \n",
       "\n",
       "  date_annotation_update                                                seq  \\\n",
       "0             2021-04-07  MSVDSFTSRLAVVMTAVVLVWWAQALPVPSPRRGESDCDAACRKFL...   \n",
       "1             2021-04-07  MAENNNLKLASTMEGRVEQLAEQRQVIEAGGGERRVEKQHSQGKQT...   \n",
       "2             2021-04-07  MKINTTDVRTAIYHSLQQWQSVSLLTFKEEYYDENADIKVSFVKGK...   \n",
       "\n",
       "   seqlength  sseqid  pident  length  mismatch  gapopen  qstart  qend  sstart  \\\n",
       "0        363  O18767    30.3     323       166        8       8   323       5   \n",
       "1        611  P53003    53.3     510       220        4      31   524      39   \n",
       "2        264  P09237    39.7     136        73        5      15   142     132   \n",
       "\n",
       "   send         evalue  bitscore  coverage sresults_ec  \n",
       "0   275   1.700000e-34     134.0  0.889807    3.4.24.-  \n",
       "1   546  2.070000e-175     510.0  0.834697     6.4.1.3  \n",
       "2   266   5.460000e-22      93.6  0.515152   3.4.24.23  "
      ]
     },
     "execution_count": 40,
     "metadata": {},
     "output_type": "execute_result"
    }
   ],
   "source": [
    "counter =0\n",
    "resArray =[]\n",
    "\n",
    "for i in range(len(qure_res_data)):\n",
    "    counter+=1\n",
    "    mn = sprot[sprot['id']== qure_res_data['sseqid'][i]]['ec_number'].values\n",
    "    resArray.append(mn)\n",
    "qure_res_data['sresults_ec']=np.array(resArray) \n",
    "qure_res_data.head(3)"
   ]
  },
  {
   "cell_type": "markdown",
   "metadata": {},
   "source": [
    "#### 4.2.4. 计算指标"
   ]
  },
  {
   "cell_type": "code",
   "execution_count": 43,
   "metadata": {},
   "outputs": [
    {
     "name": "stdout",
     "output_type": "stream",
     "text": [
      "Total query records are: 135118\n",
      "Matched records are: 133052\n",
      "Recall: 0.9507911603191285(128469/135118)\n",
      "Pricision: 0.9655548206716171(128469/133052)\n",
      "Recall: 0.9847096611850382(133052/135118)\n"
     ]
    }
   ],
   "source": [
    "qure_res_data['iscorrect'] = qure_res_data[['ec_number', 'sresults_ec']].apply(lambda x: x['ec_number'] == x['sresults_ec'], axis=1) #判断EC号是否一致\n",
    "\n",
    "correct = sum(qure_res_data['iscorrect'])\n",
    "find  = len(qure_res_data)\n",
    "total = len(query)\n",
    "print('Total query records are: {0}'.format(total))\n",
    "print('Matched records are: {0}'.format(find))\n",
    "print('Accuracy: {0}({1}/{2})'.format(correct/total, correct, total))\n",
    "print('Pricision: {0}({1}/{2})'.format(correct/find, correct, find))\n",
    "print('Recall: {0}({1}/{2})'.format(find/total, find, total))"
   ]
  },
  {
   "cell_type": "markdown",
   "metadata": {},
   "source": [
    "#### 4.1.4 使用DeepEC进行计算"
   ]
  },
  {
   "cell_type": "code",
   "execution_count": 1,
   "metadata": {},
   "outputs": [
    {
     "name": "stdout",
     "output_type": "stream",
     "text": [
      "2021-04-19 03:16:51.900139: I tensorflow/stream_executor/platform/default/dso_loader.cc:49] Successfully opened dynamic library libcudart.so.11.0\n",
      "^C\n"
     ]
    }
   ],
   "source": [
    "! python ./deepec/deepec.py -i ./data/sprot_with_ec_query.fasta -o ./results/deepec1/"
   ]
  },
  {
   "cell_type": "markdown",
   "metadata": {},
   "source": [
    "#### 4.2.5 加载DeepEC的预测结果"
   ]
  },
  {
   "cell_type": "code",
   "execution_count": 3,
   "metadata": {},
   "outputs": [
    {
     "data": {
      "text/html": [
       "<div>\n",
       "<style scoped>\n",
       "    .dataframe tbody tr th:only-of-type {\n",
       "        vertical-align: middle;\n",
       "    }\n",
       "\n",
       "    .dataframe tbody tr th {\n",
       "        vertical-align: top;\n",
       "    }\n",
       "\n",
       "    .dataframe thead th {\n",
       "        text-align: right;\n",
       "    }\n",
       "</style>\n",
       "<table border=\"1\" class=\"dataframe\">\n",
       "  <thead>\n",
       "    <tr style=\"text-align: right;\">\n",
       "      <th></th>\n",
       "      <th>id</th>\n",
       "      <th>ec_number</th>\n",
       "    </tr>\n",
       "  </thead>\n",
       "  <tbody>\n",
       "    <tr>\n",
       "      <th>0</th>\n",
       "      <td>Q6GZV6</td>\n",
       "      <td>2.7.11.1</td>\n",
       "    </tr>\n",
       "    <tr>\n",
       "      <th>1</th>\n",
       "      <td>Q8GBW6</td>\n",
       "      <td>2.1.3.1</td>\n",
       "    </tr>\n",
       "    <tr>\n",
       "      <th>2</th>\n",
       "      <td>E7CY70</td>\n",
       "      <td>3.2.1.55</td>\n",
       "    </tr>\n",
       "  </tbody>\n",
       "</table>\n",
       "</div>"
      ],
      "text/plain": [
       "       id ec_number\n",
       "0  Q6GZV6  2.7.11.1\n",
       "1  Q8GBW6   2.1.3.1\n",
       "2  E7CY70  3.2.1.55"
      ]
     },
     "execution_count": 3,
     "metadata": {},
     "output_type": "execute_result"
    }
   ],
   "source": [
    "deepec_results = pd.read_csv('./results/deepec1/DeepEC_Result.txt', sep='\\t',names=['id', 'ec_number'], header=0) #读入文件\n",
    "deepec_results.ec_number=deepec_results.apply(lambda x: x['ec_number'].replace('EC:',''), axis=1)\n",
    "deepec_results.head(3)"
   ]
  },
  {
   "cell_type": "markdown",
   "metadata": {},
   "source": [
    "#### 4.2.6 添加比对结果的EC号"
   ]
  },
  {
   "cell_type": "code",
   "execution_count": 6,
   "metadata": {},
   "outputs": [
    {
     "data": {
      "text/html": [
       "<div>\n",
       "<style scoped>\n",
       "    .dataframe tbody tr th:only-of-type {\n",
       "        vertical-align: middle;\n",
       "    }\n",
       "\n",
       "    .dataframe tbody tr th {\n",
       "        vertical-align: top;\n",
       "    }\n",
       "\n",
       "    .dataframe thead th {\n",
       "        text-align: right;\n",
       "    }\n",
       "</style>\n",
       "<table border=\"1\" class=\"dataframe\">\n",
       "  <thead>\n",
       "    <tr style=\"text-align: right;\">\n",
       "      <th></th>\n",
       "      <th>id</th>\n",
       "      <th>ec_number</th>\n",
       "      <th>sresults_ec</th>\n",
       "      <th>iscorrect</th>\n",
       "    </tr>\n",
       "  </thead>\n",
       "  <tbody>\n",
       "    <tr>\n",
       "      <th>0</th>\n",
       "      <td>Q6GZV6</td>\n",
       "      <td>2.7.11.1</td>\n",
       "      <td>2.7.11.1</td>\n",
       "      <td>True</td>\n",
       "    </tr>\n",
       "    <tr>\n",
       "      <th>1</th>\n",
       "      <td>Q8GBW6</td>\n",
       "      <td>2.1.3.1</td>\n",
       "      <td>2.1.3.1</td>\n",
       "      <td>True</td>\n",
       "    </tr>\n",
       "    <tr>\n",
       "      <th>2</th>\n",
       "      <td>E7CY70</td>\n",
       "      <td>3.2.1.55</td>\n",
       "      <td>3.2.1.-</td>\n",
       "      <td>False</td>\n",
       "    </tr>\n",
       "  </tbody>\n",
       "</table>\n",
       "</div>"
      ],
      "text/plain": [
       "       id ec_number sresults_ec  iscorrect\n",
       "0  Q6GZV6  2.7.11.1    2.7.11.1       True\n",
       "1  Q8GBW6   2.1.3.1     2.1.3.1       True\n",
       "2  E7CY70  3.2.1.55     3.2.1.-      False"
      ]
     },
     "execution_count": 6,
     "metadata": {},
     "output_type": "execute_result"
    }
   ],
   "source": [
    "counter =0\n",
    "resArray =[]\n",
    "\n",
    "for i in range(len(deepec_results)):\n",
    "    counter+=1\n",
    "    mn = sprot[sprot['id']== deepec_results['id'][i]]['ec_number'].values\n",
    "    resArray.append(mn)\n",
    "deepec_results['sresults_ec']=np.array(resArray)  \n",
    "\n",
    "deepec_results['iscorrect'] = deepec_results[['ec_number', 'sresults_ec']].apply(lambda x: x['ec_number'] == x['sresults_ec'], axis=1) #判断EC号是否一致\n",
    "\n",
    "deepec_results.head(3)"
   ]
  },
  {
   "cell_type": "markdown",
   "metadata": {},
   "source": [
    "####   4.2.7 计算DeepEC的指标"
   ]
  },
  {
   "cell_type": "code",
   "execution_count": 9,
   "metadata": {},
   "outputs": [
    {
     "name": "stdout",
     "output_type": "stream",
     "text": [
      "Total query records are: 135118\n",
      "Matched records are: 114988\n",
      "Accuracy: 0.6778519516274664(91590/135118)\n",
      "Pricision: 0.7965178975197412(91590/114988)\n",
      "Recall: 0.8510191092230495(114988/135118)\n"
     ]
    }
   ],
   "source": [
    "correct = sum(deepec_results['iscorrect'])\n",
    "find  = len(deepec_results)\n",
    "total = 135118\n",
    "print('Total query records are: {0}'.format(total))\n",
    "print('Matched records are: {0}'.format(find))\n",
    "print('Accuracy: {0}({1}/{2})'.format(correct/total, correct, total))\n",
    "print('Pricision: {0}({1}/{2})'.format(correct/find, correct, find))\n",
    "print('Recall: {0}({1}/{2})'.format(find/total, find, total))"
   ]
  },
  {
   "cell_type": "code",
   "execution_count": null,
   "metadata": {},
   "outputs": [],
   "source": []
  }
 ],
 "metadata": {
  "kernelspec": {
   "display_name": "Python 3",
   "language": "python",
   "name": "python3"
  },
  "language_info": {
   "codemirror_mode": {
    "name": "ipython",
    "version": 3
   },
   "file_extension": ".py",
   "mimetype": "text/x-python",
   "name": "python",
   "nbconvert_exporter": "python",
   "pygments_lexer": "ipython3",
   "version": "3.9.2"
  }
 },
 "nbformat": 4,
 "nbformat_minor": 4
}
