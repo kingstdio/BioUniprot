{
 "cells": [
  {
   "cell_type": "code",
   "execution_count": 797,
   "id": "a02b8601-0c39-4427-800a-55122493d8ad",
   "metadata": {},
   "outputs": [
    {
     "name": "stdout",
     "output_type": "stream",
     "text": [
      "The autoreload extension is already loaded. To reload it, use:\n",
      "  %reload_ext autoreload\n"
     ]
    }
   ],
   "source": [
    "import torch\n",
    "import esm\n",
    "import re\n",
    "from tqdm import tqdm\n",
    "import numpy as np\n",
    "import pandas as pd\n",
    "\n",
    "import benchmark_esm as besm\n",
    "import benchmark_config as cfg\n",
    "import h5py\n",
    "\n",
    "\n",
    "%load_ext autoreload\n",
    "%autoreload 2"
   ]
  },
  {
   "cell_type": "code",
   "execution_count": 785,
   "id": "d2afe245-ac04-46c1-8ce6-6ac1ef883a87",
   "metadata": {},
   "outputs": [],
   "source": [
    "SEQTHRES = 1022"
   ]
  },
  {
   "cell_type": "code",
   "execution_count": 844,
   "id": "dfa2ab42-8f7f-496f-941d-37f5e6f4d529",
   "metadata": {},
   "outputs": [
    {
     "name": "stdout",
     "output_type": "stream",
     "text": [
      "Transferred model to GPU\n"
     ]
    },
    {
     "name": "stderr",
     "output_type": "stream",
     "text": [
      " 44%|████▍     | 4/9 [00:00<00:00, 37.81it/s]"
     ]
    },
    {
     "name": "stdout",
     "output_type": "stream",
     "text": [
      "Transferred model to GPU\n"
     ]
    },
    {
     "name": "stderr",
     "output_type": "stream",
     "text": [
      "100%|██████████| 9/9 [00:00<00:00, 37.53it/s]\n"
     ]
    },
    {
     "ename": "ValueError",
     "evalue": "feather must have string column names",
     "output_type": "error",
     "traceback": [
      "\u001b[0;31m---------------------------------------------------------------------------\u001b[0m",
      "\u001b[0;31mValueError\u001b[0m                                Traceback (most recent call last)",
      "\u001b[0;32m<ipython-input-844-40cc8a781443>\u001b[0m in \u001b[0;36m<module>\u001b[0;34m\u001b[0m\n\u001b[1;32m      8\u001b[0m \u001b[0;34m\u001b[0m\u001b[0m\n\u001b[1;32m      9\u001b[0m \u001b[0mrep0\u001b[0m\u001b[0;34m,\u001b[0m \u001b[0mrep32\u001b[0m\u001b[0;34m,\u001b[0m \u001b[0mrep33\u001b[0m \u001b[0;34m=\u001b[0m \u001b[0mbesm\u001b[0m\u001b[0;34m.\u001b[0m\u001b[0mget_rep_multi_sequence\u001b[0m\u001b[0;34m(\u001b[0m\u001b[0msequences\u001b[0m\u001b[0;34m=\u001b[0m\u001b[0mtest\u001b[0m\u001b[0;34m,\u001b[0m \u001b[0mseqthres\u001b[0m\u001b[0;34m=\u001b[0m\u001b[0mSEQTHRES\u001b[0m\u001b[0;34m)\u001b[0m\u001b[0;34m\u001b[0m\u001b[0;34m\u001b[0m\u001b[0m\n\u001b[0;32m---> 10\u001b[0;31m \u001b[0mrep0\u001b[0m\u001b[0;34m.\u001b[0m\u001b[0mto_feather\u001b[0m\u001b[0;34m(\u001b[0m\u001b[0mcfg\u001b[0m\u001b[0;34m.\u001b[0m\u001b[0mDATADIR\u001b[0m \u001b[0;34m+\u001b[0m \u001b[0;34m'rep0.feather'\u001b[0m\u001b[0;34m)\u001b[0m\u001b[0;34m\u001b[0m\u001b[0;34m\u001b[0m\u001b[0m\n\u001b[0m\u001b[1;32m     11\u001b[0m \u001b[0mrep32\u001b[0m\u001b[0;34m.\u001b[0m\u001b[0mto_feather\u001b[0m\u001b[0;34m(\u001b[0m\u001b[0mcfg\u001b[0m\u001b[0;34m.\u001b[0m\u001b[0mDATADIR\u001b[0m \u001b[0;34m+\u001b[0m \u001b[0;34m'rep32.feather'\u001b[0m\u001b[0;34m)\u001b[0m\u001b[0;34m\u001b[0m\u001b[0;34m\u001b[0m\u001b[0m\n\u001b[1;32m     12\u001b[0m \u001b[0mrep33\u001b[0m\u001b[0;34m.\u001b[0m\u001b[0mto_feather\u001b[0m\u001b[0;34m(\u001b[0m\u001b[0mcfg\u001b[0m\u001b[0;34m.\u001b[0m\u001b[0mDATADIR\u001b[0m \u001b[0;34m+\u001b[0m \u001b[0;34m'rep33.feather'\u001b[0m\u001b[0;34m)\u001b[0m\u001b[0;34m\u001b[0m\u001b[0;34m\u001b[0m\u001b[0m\n",
      "\u001b[0;32m~/anaconda3/envs/py38/lib/python3.8/site-packages/pandas/util/_decorators.py\u001b[0m in \u001b[0;36mwrapper\u001b[0;34m(*args, **kwargs)\u001b[0m\n\u001b[1;32m    197\u001b[0m                 \u001b[0;32melse\u001b[0m\u001b[0;34m:\u001b[0m\u001b[0;34m\u001b[0m\u001b[0;34m\u001b[0m\u001b[0m\n\u001b[1;32m    198\u001b[0m                     \u001b[0mkwargs\u001b[0m\u001b[0;34m[\u001b[0m\u001b[0mnew_arg_name\u001b[0m\u001b[0;34m]\u001b[0m \u001b[0;34m=\u001b[0m \u001b[0mnew_arg_value\u001b[0m\u001b[0;34m\u001b[0m\u001b[0;34m\u001b[0m\u001b[0m\n\u001b[0;32m--> 199\u001b[0;31m             \u001b[0;32mreturn\u001b[0m \u001b[0mfunc\u001b[0m\u001b[0;34m(\u001b[0m\u001b[0;34m*\u001b[0m\u001b[0margs\u001b[0m\u001b[0;34m,\u001b[0m \u001b[0;34m**\u001b[0m\u001b[0mkwargs\u001b[0m\u001b[0;34m)\u001b[0m\u001b[0;34m\u001b[0m\u001b[0;34m\u001b[0m\u001b[0m\n\u001b[0m\u001b[1;32m    200\u001b[0m \u001b[0;34m\u001b[0m\u001b[0m\n\u001b[1;32m    201\u001b[0m         \u001b[0;32mreturn\u001b[0m \u001b[0mcast\u001b[0m\u001b[0;34m(\u001b[0m\u001b[0mF\u001b[0m\u001b[0;34m,\u001b[0m \u001b[0mwrapper\u001b[0m\u001b[0;34m)\u001b[0m\u001b[0;34m\u001b[0m\u001b[0;34m\u001b[0m\u001b[0m\n",
      "\u001b[0;32m~/anaconda3/envs/py38/lib/python3.8/site-packages/pandas/core/frame.py\u001b[0m in \u001b[0;36mto_feather\u001b[0;34m(self, path, **kwargs)\u001b[0m\n\u001b[1;32m   2289\u001b[0m         \u001b[0;32mfrom\u001b[0m \u001b[0mpandas\u001b[0m\u001b[0;34m.\u001b[0m\u001b[0mio\u001b[0m\u001b[0;34m.\u001b[0m\u001b[0mfeather_format\u001b[0m \u001b[0;32mimport\u001b[0m \u001b[0mto_feather\u001b[0m\u001b[0;34m\u001b[0m\u001b[0;34m\u001b[0m\u001b[0m\n\u001b[1;32m   2290\u001b[0m \u001b[0;34m\u001b[0m\u001b[0m\n\u001b[0;32m-> 2291\u001b[0;31m         \u001b[0mto_feather\u001b[0m\u001b[0;34m(\u001b[0m\u001b[0mself\u001b[0m\u001b[0;34m,\u001b[0m \u001b[0mpath\u001b[0m\u001b[0;34m,\u001b[0m \u001b[0;34m**\u001b[0m\u001b[0mkwargs\u001b[0m\u001b[0;34m)\u001b[0m\u001b[0;34m\u001b[0m\u001b[0;34m\u001b[0m\u001b[0m\n\u001b[0m\u001b[1;32m   2292\u001b[0m \u001b[0;34m\u001b[0m\u001b[0m\n\u001b[1;32m   2293\u001b[0m     @doc(\n",
      "\u001b[0;32m~/anaconda3/envs/py38/lib/python3.8/site-packages/pandas/io/feather_format.py\u001b[0m in \u001b[0;36mto_feather\u001b[0;34m(df, path, storage_options, **kwargs)\u001b[0m\n\u001b[1;32m     73\u001b[0m     \u001b[0;31m# must have value column names (strings only)\u001b[0m\u001b[0;34m\u001b[0m\u001b[0;34m\u001b[0m\u001b[0;34m\u001b[0m\u001b[0m\n\u001b[1;32m     74\u001b[0m     \u001b[0;32mif\u001b[0m \u001b[0mdf\u001b[0m\u001b[0;34m.\u001b[0m\u001b[0mcolumns\u001b[0m\u001b[0;34m.\u001b[0m\u001b[0minferred_type\u001b[0m \u001b[0;32mnot\u001b[0m \u001b[0;32min\u001b[0m \u001b[0mvalid_types\u001b[0m\u001b[0;34m:\u001b[0m\u001b[0;34m\u001b[0m\u001b[0;34m\u001b[0m\u001b[0m\n\u001b[0;32m---> 75\u001b[0;31m         \u001b[0;32mraise\u001b[0m \u001b[0mValueError\u001b[0m\u001b[0;34m(\u001b[0m\u001b[0;34m\"feather must have string column names\"\u001b[0m\u001b[0;34m)\u001b[0m\u001b[0;34m\u001b[0m\u001b[0;34m\u001b[0m\u001b[0m\n\u001b[0m\u001b[1;32m     76\u001b[0m \u001b[0;34m\u001b[0m\u001b[0m\n\u001b[1;32m     77\u001b[0m     with get_handle(\n",
      "\u001b[0;31mValueError\u001b[0m: feather must have string column names"
     ]
    }
   ],
   "source": [
    "SEQTHRES = 1022\n",
    "model, alphabet = esm.pretrained.esm1b_t33_650M_UR50S()\n",
    "batch_converter = alphabet.get_batch_converter()\n",
    "if torch.cuda.is_available():\n",
    "        model = model.cuda()\n",
    "        print(\"Transferred model to GPU\")\n",
    "test = pd.read_feather(cfg.DATADIR+'test.feather').iloc[1:10,:6]\n",
    "\n",
    "rep0, rep32, rep33 = besm.get_rep_multi_sequence(sequences=test, seqthres=SEQTHRES)\n",
    "rep0.to_feather(cfg.DATADIR + 'rep0.feather')\n",
    "rep32.to_feather(cfg.DATADIR + 'rep32.feather')\n",
    "rep33.to_feather(cfg.DATADIR + 'rep33.feather')"
   ]
  },
  {
   "cell_type": "code",
   "execution_count": 850,
   "id": "08bdbb6d-4bb7-461b-87af-13810b5594c7",
   "metadata": {},
   "outputs": [],
   "source": [
    "rep0.columns = rep0.columns.astype(str)\n",
    "rep0.to_feather(cfg.DATADIR + 'rep0.feather')"
   ]
  },
  {
   "cell_type": "code",
   "execution_count": 846,
   "id": "919cc7b1-f496-4d7e-a7c7-8c71c1d6b624",
   "metadata": {},
   "outputs": [],
   "source": [
    "rep0.columns = col_name"
   ]
  },
  {
   "cell_type": "code",
   "execution_count": 845,
   "id": "39231007-bca2-4355-af05-308770ed558b",
   "metadata": {},
   "outputs": [],
   "source": [
    "col_name = ['id']+ ['f'+str(i) for i in range (1,rep0.shape[1])]"
   ]
  },
  {
   "cell_type": "code",
   "execution_count": 849,
   "id": "4f765f73-5b92-4940-ac08-d6269323e378",
   "metadata": {},
   "outputs": [
    {
     "data": {
      "text/plain": [
       "'P0DQF6'"
      ]
     },
     "execution_count": 849,
     "metadata": {},
     "output_type": "execute_result"
    }
   ],
   "source": [
    "rep0.id[0]"
   ]
  },
  {
   "cell_type": "code",
   "execution_count": 843,
   "id": "0e74bda1-04a5-45e9-bd03-2d4364ced9fd",
   "metadata": {},
   "outputs": [
    {
     "data": {
      "text/plain": [
       "array('P0DQF6', dtype='<U6')"
      ]
     },
     "execution_count": 843,
     "metadata": {},
     "output_type": "execute_result"
    }
   ],
   "source": [
    "rep32.id[0]"
   ]
  },
  {
   "cell_type": "code",
   "execution_count": 833,
   "id": "c7de9590-d324-41e6-ae3c-9684182519d0",
   "metadata": {},
   "outputs": [
    {
     "data": {
      "text/html": [
       "<div>\n",
       "<style scoped>\n",
       "    .dataframe tbody tr th:only-of-type {\n",
       "        vertical-align: middle;\n",
       "    }\n",
       "\n",
       "    .dataframe tbody tr th {\n",
       "        vertical-align: top;\n",
       "    }\n",
       "\n",
       "    .dataframe thead th {\n",
       "        text-align: right;\n",
       "    }\n",
       "</style>\n",
       "<table border=\"1\" class=\"dataframe\">\n",
       "  <thead>\n",
       "    <tr style=\"text-align: right;\">\n",
       "      <th></th>\n",
       "      <th>id</th>\n",
       "      <th>f1</th>\n",
       "      <th>f2</th>\n",
       "      <th>f3</th>\n",
       "      <th>f4</th>\n",
       "      <th>f5</th>\n",
       "      <th>f6</th>\n",
       "      <th>f7</th>\n",
       "      <th>f8</th>\n",
       "      <th>f9</th>\n",
       "      <th>...</th>\n",
       "      <th>f1271</th>\n",
       "      <th>f1272</th>\n",
       "      <th>f1273</th>\n",
       "      <th>f1274</th>\n",
       "      <th>f1275</th>\n",
       "      <th>f1276</th>\n",
       "      <th>f1277</th>\n",
       "      <th>f1278</th>\n",
       "      <th>f1279</th>\n",
       "      <th>f1280</th>\n",
       "    </tr>\n",
       "  </thead>\n",
       "  <tbody>\n",
       "    <tr>\n",
       "      <th>0</th>\n",
       "      <td>P0DQF6</td>\n",
       "      <td>-0.259471</td>\n",
       "      <td>0.006949</td>\n",
       "      <td>-0.005433</td>\n",
       "      <td>0.006586</td>\n",
       "      <td>-0.021347</td>\n",
       "      <td>-0.083562</td>\n",
       "      <td>0.032025</td>\n",
       "      <td>0.057283</td>\n",
       "      <td>-0.018245</td>\n",
       "      <td>...</td>\n",
       "      <td>0.084166</td>\n",
       "      <td>-0.110687</td>\n",
       "      <td>0.005254</td>\n",
       "      <td>0.077390</td>\n",
       "      <td>-0.010777</td>\n",
       "      <td>0.103296</td>\n",
       "      <td>0.032806</td>\n",
       "      <td>-0.004789</td>\n",
       "      <td>-0.064585</td>\n",
       "      <td>0.132888</td>\n",
       "    </tr>\n",
       "    <tr>\n",
       "      <th>1</th>\n",
       "      <td>P0DQF5</td>\n",
       "      <td>-0.150133</td>\n",
       "      <td>0.001781</td>\n",
       "      <td>0.026919</td>\n",
       "      <td>0.030881</td>\n",
       "      <td>-0.009955</td>\n",
       "      <td>0.019808</td>\n",
       "      <td>0.063223</td>\n",
       "      <td>-0.153883</td>\n",
       "      <td>-0.010599</td>\n",
       "      <td>...</td>\n",
       "      <td>0.073452</td>\n",
       "      <td>-0.079019</td>\n",
       "      <td>-0.019150</td>\n",
       "      <td>0.070225</td>\n",
       "      <td>-0.017592</td>\n",
       "      <td>0.115029</td>\n",
       "      <td>0.018628</td>\n",
       "      <td>0.006268</td>\n",
       "      <td>0.023454</td>\n",
       "      <td>0.075056</td>\n",
       "    </tr>\n",
       "    <tr>\n",
       "      <th>2</th>\n",
       "      <td>P0DQF4</td>\n",
       "      <td>-0.217387</td>\n",
       "      <td>-0.002270</td>\n",
       "      <td>0.006749</td>\n",
       "      <td>0.010384</td>\n",
       "      <td>-0.010850</td>\n",
       "      <td>0.020561</td>\n",
       "      <td>0.055597</td>\n",
       "      <td>0.018115</td>\n",
       "      <td>-0.015178</td>\n",
       "      <td>...</td>\n",
       "      <td>0.079510</td>\n",
       "      <td>-0.077334</td>\n",
       "      <td>-0.002126</td>\n",
       "      <td>0.089443</td>\n",
       "      <td>-0.000566</td>\n",
       "      <td>0.087724</td>\n",
       "      <td>0.023276</td>\n",
       "      <td>0.001338</td>\n",
       "      <td>0.018694</td>\n",
       "      <td>0.105279</td>\n",
       "    </tr>\n",
       "    <tr>\n",
       "      <th>3</th>\n",
       "      <td>P0DQF3</td>\n",
       "      <td>-0.214314</td>\n",
       "      <td>0.003151</td>\n",
       "      <td>-0.019617</td>\n",
       "      <td>-0.006829</td>\n",
       "      <td>-0.024394</td>\n",
       "      <td>-0.134051</td>\n",
       "      <td>0.035427</td>\n",
       "      <td>-0.003379</td>\n",
       "      <td>-0.028459</td>\n",
       "      <td>...</td>\n",
       "      <td>0.057209</td>\n",
       "      <td>-0.096265</td>\n",
       "      <td>0.011923</td>\n",
       "      <td>0.070451</td>\n",
       "      <td>0.040713</td>\n",
       "      <td>0.082913</td>\n",
       "      <td>0.017986</td>\n",
       "      <td>0.004159</td>\n",
       "      <td>-0.045470</td>\n",
       "      <td>0.128421</td>\n",
       "    </tr>\n",
       "    <tr>\n",
       "      <th>4</th>\n",
       "      <td>P0DQF2</td>\n",
       "      <td>-0.226803</td>\n",
       "      <td>-0.001599</td>\n",
       "      <td>-0.016486</td>\n",
       "      <td>-0.001139</td>\n",
       "      <td>-0.024738</td>\n",
       "      <td>-0.106405</td>\n",
       "      <td>0.020430</td>\n",
       "      <td>0.009826</td>\n",
       "      <td>-0.022071</td>\n",
       "      <td>...</td>\n",
       "      <td>0.059827</td>\n",
       "      <td>-0.103491</td>\n",
       "      <td>0.009483</td>\n",
       "      <td>0.082919</td>\n",
       "      <td>0.042206</td>\n",
       "      <td>0.075399</td>\n",
       "      <td>0.016824</td>\n",
       "      <td>0.001285</td>\n",
       "      <td>-0.055336</td>\n",
       "      <td>0.132884</td>\n",
       "    </tr>\n",
       "    <tr>\n",
       "      <th>5</th>\n",
       "      <td>P0DQF1</td>\n",
       "      <td>-0.195973</td>\n",
       "      <td>0.024525</td>\n",
       "      <td>-0.018392</td>\n",
       "      <td>-0.001749</td>\n",
       "      <td>-0.023355</td>\n",
       "      <td>-0.071169</td>\n",
       "      <td>0.098329</td>\n",
       "      <td>-0.011192</td>\n",
       "      <td>-0.025702</td>\n",
       "      <td>...</td>\n",
       "      <td>0.061635</td>\n",
       "      <td>-0.094600</td>\n",
       "      <td>0.001596</td>\n",
       "      <td>0.066638</td>\n",
       "      <td>0.003913</td>\n",
       "      <td>0.126879</td>\n",
       "      <td>0.030047</td>\n",
       "      <td>0.000011</td>\n",
       "      <td>-0.062666</td>\n",
       "      <td>0.121332</td>\n",
       "    </tr>\n",
       "    <tr>\n",
       "      <th>6</th>\n",
       "      <td>P0DQF0</td>\n",
       "      <td>-0.129941</td>\n",
       "      <td>0.017863</td>\n",
       "      <td>0.029848</td>\n",
       "      <td>0.032939</td>\n",
       "      <td>-0.005177</td>\n",
       "      <td>0.039215</td>\n",
       "      <td>0.043362</td>\n",
       "      <td>0.002801</td>\n",
       "      <td>-0.009617</td>\n",
       "      <td>...</td>\n",
       "      <td>0.022925</td>\n",
       "      <td>-0.070307</td>\n",
       "      <td>-0.012396</td>\n",
       "      <td>0.073635</td>\n",
       "      <td>-0.018923</td>\n",
       "      <td>0.071431</td>\n",
       "      <td>0.023677</td>\n",
       "      <td>0.005925</td>\n",
       "      <td>0.032839</td>\n",
       "      <td>0.042846</td>\n",
       "    </tr>\n",
       "    <tr>\n",
       "      <th>7</th>\n",
       "      <td>P0DQE9</td>\n",
       "      <td>-0.148601</td>\n",
       "      <td>0.036352</td>\n",
       "      <td>0.022203</td>\n",
       "      <td>0.022205</td>\n",
       "      <td>-0.012111</td>\n",
       "      <td>0.063528</td>\n",
       "      <td>0.001887</td>\n",
       "      <td>0.014415</td>\n",
       "      <td>-0.017600</td>\n",
       "      <td>...</td>\n",
       "      <td>0.007611</td>\n",
       "      <td>-0.066099</td>\n",
       "      <td>-0.025927</td>\n",
       "      <td>0.054972</td>\n",
       "      <td>-0.000176</td>\n",
       "      <td>0.120781</td>\n",
       "      <td>0.015717</td>\n",
       "      <td>0.007824</td>\n",
       "      <td>0.060579</td>\n",
       "      <td>0.033947</td>\n",
       "    </tr>\n",
       "    <tr>\n",
       "      <th>8</th>\n",
       "      <td>P0DQF7</td>\n",
       "      <td>-0.260200</td>\n",
       "      <td>0.003425</td>\n",
       "      <td>0.015632</td>\n",
       "      <td>0.012367</td>\n",
       "      <td>-0.014155</td>\n",
       "      <td>0.055600</td>\n",
       "      <td>0.052714</td>\n",
       "      <td>-0.056896</td>\n",
       "      <td>-0.013206</td>\n",
       "      <td>...</td>\n",
       "      <td>0.073169</td>\n",
       "      <td>-0.092696</td>\n",
       "      <td>-0.017189</td>\n",
       "      <td>0.065884</td>\n",
       "      <td>-0.022981</td>\n",
       "      <td>0.135834</td>\n",
       "      <td>0.042005</td>\n",
       "      <td>0.003168</td>\n",
       "      <td>0.045258</td>\n",
       "      <td>0.079542</td>\n",
       "    </tr>\n",
       "  </tbody>\n",
       "</table>\n",
       "<p>9 rows × 1281 columns</p>\n",
       "</div>"
      ],
      "text/plain": [
       "       id        f1        f2        f3        f4        f5        f6  \\\n",
       "0  P0DQF6 -0.259471  0.006949 -0.005433  0.006586 -0.021347 -0.083562   \n",
       "1  P0DQF5 -0.150133  0.001781  0.026919  0.030881 -0.009955  0.019808   \n",
       "2  P0DQF4 -0.217387 -0.002270  0.006749  0.010384 -0.010850  0.020561   \n",
       "3  P0DQF3 -0.214314  0.003151 -0.019617 -0.006829 -0.024394 -0.134051   \n",
       "4  P0DQF2 -0.226803 -0.001599 -0.016486 -0.001139 -0.024738 -0.106405   \n",
       "5  P0DQF1 -0.195973  0.024525 -0.018392 -0.001749 -0.023355 -0.071169   \n",
       "6  P0DQF0 -0.129941  0.017863  0.029848  0.032939 -0.005177  0.039215   \n",
       "7  P0DQE9 -0.148601  0.036352  0.022203  0.022205 -0.012111  0.063528   \n",
       "8  P0DQF7 -0.260200  0.003425  0.015632  0.012367 -0.014155  0.055600   \n",
       "\n",
       "         f7        f8        f9  ...     f1271     f1272     f1273     f1274  \\\n",
       "0  0.032025  0.057283 -0.018245  ...  0.084166 -0.110687  0.005254  0.077390   \n",
       "1  0.063223 -0.153883 -0.010599  ...  0.073452 -0.079019 -0.019150  0.070225   \n",
       "2  0.055597  0.018115 -0.015178  ...  0.079510 -0.077334 -0.002126  0.089443   \n",
       "3  0.035427 -0.003379 -0.028459  ...  0.057209 -0.096265  0.011923  0.070451   \n",
       "4  0.020430  0.009826 -0.022071  ...  0.059827 -0.103491  0.009483  0.082919   \n",
       "5  0.098329 -0.011192 -0.025702  ...  0.061635 -0.094600  0.001596  0.066638   \n",
       "6  0.043362  0.002801 -0.009617  ...  0.022925 -0.070307 -0.012396  0.073635   \n",
       "7  0.001887  0.014415 -0.017600  ...  0.007611 -0.066099 -0.025927  0.054972   \n",
       "8  0.052714 -0.056896 -0.013206  ...  0.073169 -0.092696 -0.017189  0.065884   \n",
       "\n",
       "      f1275     f1276     f1277     f1278     f1279     f1280  \n",
       "0 -0.010777  0.103296  0.032806 -0.004789 -0.064585  0.132888  \n",
       "1 -0.017592  0.115029  0.018628  0.006268  0.023454  0.075056  \n",
       "2 -0.000566  0.087724  0.023276  0.001338  0.018694  0.105279  \n",
       "3  0.040713  0.082913  0.017986  0.004159 -0.045470  0.128421  \n",
       "4  0.042206  0.075399  0.016824  0.001285 -0.055336  0.132884  \n",
       "5  0.003913  0.126879  0.030047  0.000011 -0.062666  0.121332  \n",
       "6 -0.018923  0.071431  0.023677  0.005925  0.032839  0.042846  \n",
       "7 -0.000176  0.120781  0.015717  0.007824  0.060579  0.033947  \n",
       "8 -0.022981  0.135834  0.042005  0.003168  0.045258  0.079542  \n",
       "\n",
       "[9 rows x 1281 columns]"
      ]
     },
     "execution_count": 833,
     "metadata": {},
     "output_type": "execute_result"
    }
   ],
   "source": [
    "rep0"
   ]
  },
  {
   "cell_type": "code",
   "execution_count": 852,
   "id": "e716d8bf-68c5-4f48-bb63-62489392ba2d",
   "metadata": {},
   "outputs": [
    {
     "data": {
      "text/plain": [
       "{'label': 'P0DQF6',\n",
       " 'mean_representations': {0: tensor([-0.2595,  0.0069, -0.0054,  ..., -0.0048, -0.0646,  0.1329]),\n",
       "  32: tensor([0.8588, 2.5509, 1.2437,  ..., 3.5111, 6.1672, 2.1161]),\n",
       "  33: tensor([0.0351, 0.1554, 0.1030,  ..., 0.1050, 0.0888, 0.0770])}}"
      ]
     },
     "execution_count": 852,
     "metadata": {},
     "output_type": "execute_result"
    }
   ],
   "source": [
    "x6 = torch.load(cfg.DATADIR +'esm_rep/P0DQF6.pt')\n",
    "x6"
   ]
  },
  {
   "cell_type": "code",
   "execution_count": 554,
   "id": "c5d78e0c-bf92-4bce-8a59-31b8b092c516",
   "metadata": {},
   "outputs": [],
   "source": []
  },
  {
   "cell_type": "code",
   "execution_count": null,
   "id": "992a6c55-2b7b-4192-a668-4112027630c8",
   "metadata": {},
   "outputs": [],
   "source": []
  },
  {
   "cell_type": "code",
   "execution_count": null,
   "id": "6fe844a6-7efd-4e6d-9c76-31012a8ff074",
   "metadata": {},
   "outputs": [],
   "source": []
  },
  {
   "cell_type": "code",
   "execution_count": 753,
   "id": "3ba28a7a-2711-4df2-92de-5f273d9533b2",
   "metadata": {},
   "outputs": [],
   "source": [
    "sq =\"AVIYYRFRSQKPDHIATIKFDGTGLTVFELKRDIILANNLLHSTDVDIVLYSTEDIQDTKSWGYQNGGSATNGDEDDMIKKMFSVQDEQWSQQQDVMATATRVDNFRTNVNEPVPEYYICYKCGEKGKHHIKNCPKNNDPNWEGVRVRKTTGIPKSHLKAIENPEDTIRDSNSSGNTTYMVNDEGKYVVAVADTKAWEKYQKTKKGESGGYLNGDVDVDDG\\\n",
    "ELKDPETGKLWKSPVRIPCCNKIFSRKIIEDKLIDSDFTCPSCGKEQIYLDTLVADEELQAKVDEYVKNLSENKNNDGNSPKRRQVNPAGATANTSQLPQIPMMPMPPINMQMPPMNIGMPPFMPFMPMPGMNPAVIYYRFRSQKPDHIATIKFDGTGLTVFELKRDIILANNLLHSTDVDIVLYSTEDIQDTKSWGYQNGGSSSAGERELDDDNEVVPRSTTVLVR\\\n",
    "RTMTPKKNKGNVQRYVAGKPRLQVSGTNSVNKSISLGNNVGGTMNFGDAATNGDEDDMIKKMFSVQDEQWSQQQDVMATATRVDNFRTNVNEPVPEYYICYKCGEKGKHHIKNCPKNNDPNWEGVRVRKTTGIPKSHLKAIENPEDTIRDSNSSGNTTYMVNDEGKYVVAVADTKAWEKYQKTKKGESGGYLNGDVDVDDGELKDPETGKLWKSPVRIPCCNKIFSRK\\\n",
    "IIEDKLIDSDFTCPSCGKEQIYLDTLVADEELQAKVDEYVKNLSENKNNDGNSPKRRQVNPAGATANTSQLPQIPMMPMPPINMQMPPMNIGMPPFMPFMPMPGMNPAVIYYRFRSQKPDHIATIKFDGTGLTVFELKRDIILANNLLHSTDVDIVLYSTEDIQDTKSWGYQNGGSSSAGERELDDDNEVVPRSTTVLVRRTMTPKKNKGNVQRYVAGKPRLQVSGTNSVNKSISLGNNVGGTMNFGDAATNGDEDDMIKKMFSVQDEQWSQQ\""
   ]
  },
  {
   "cell_type": "code",
   "execution_count": null,
   "id": "c7a9410f-ea42-4fa8-bd53-4e0495900835",
   "metadata": {},
   "outputs": [],
   "source": []
  },
  {
   "cell_type": "code",
   "execution_count": 777,
   "id": "05ac2cf7-335d-4fb1-8794-45747d64907e",
   "metadata": {},
   "outputs": [],
   "source": [
    "def get_rep_single_seq(seqid, sequence):\n",
    "    \n",
    "    if len(sequence) < SEQTHRES:\n",
    "        data =[(seqid, sequence)]\n",
    "    else:\n",
    "        seqArray = cut_text(sequence, SEQTHRES)\n",
    "        data=[]\n",
    "        for item in seqArray:\n",
    "            data.append((seqid, item))\n",
    "    batch_labels, batch_strs, batch_tokens = batch_converter(data)\n",
    "    \n",
    "    if torch.cuda.is_available():\n",
    "        batch_tokens = batch_tokens.to(device=\"cuda\", non_blocking=True)\n",
    "        \n",
    "    REP_LAYERS = [0, 32, 33]    \n",
    "    MINI_SIZE = len(batch_labels)\n",
    "    \n",
    "    with torch.no_grad():\n",
    "        results = model(batch_tokens, repr_layers=REP_LAYERS, return_contacts=False)    \n",
    "    \n",
    "\n",
    "    representations = {layer: t.to(device=\"cpu\") for layer, t in results[\"representations\"].items()}\n",
    "    result={}\n",
    "    result[\"label\"] = batch_labels[0]\n",
    "\n",
    "    for i in range(MINI_SIZE):\n",
    "        if i ==0:\n",
    "            result[\"mean_representations\"] = {layer: t[i, 1 : len(batch_strs[0]) + 1].mean(0).clone() for layer, t in representations.items()}\n",
    "        else:\n",
    "            for index, layer in enumerate(REP_LAYERS):\n",
    "                result[\"mean_representations\"][layer] += {layer: t[i, 1 : len(batch_strs[0]) + 1].mean(0).clone() for layer, t in representations.items()}[layer]\n",
    "\n",
    "    for index, layer in enumerate(REP_LAYERS):\n",
    "        result[\"mean_representations\"][layer] = result[\"mean_representations\"][layer] /MINI_SIZE\n",
    "    \n",
    "    return result"
   ]
  },
  {
   "cell_type": "code",
   "execution_count": 778,
   "id": "b7fe030b-df17-426c-b866-0d0370c2c2c6",
   "metadata": {},
   "outputs": [],
   "source": [
    "apd = get_rep_single_seq(seqid = 'aeq', sequence=seq2) "
   ]
  },
  {
   "cell_type": "code",
   "execution_count": 779,
   "id": "060da714-840d-4d84-b1c9-c79e05eb2ff6",
   "metadata": {},
   "outputs": [],
   "source": [
    "final_label_list.append(apd['label'])\n",
    "final_rep0.append(np.array(apd['mean_representations'][0]))\n",
    "final_rep32.append(np.array(apd['mean_representations'][32]))\n",
    "final_rep33.append(np.array(apd['mean_representations'][33]))"
   ]
  },
  {
   "cell_type": "code",
   "execution_count": 765,
   "id": "02d080cd-285d-4f58-9a98-896a1ebefc88",
   "metadata": {},
   "outputs": [
    {
     "data": {
      "text/plain": [
       "'AVIYYRFRSQKPDHIATIKFDGTGLVFELKRDIILANNLLHSTDVDIVLYSTEDIQDTKSWGTVFELKRDIILANNLLSTEDIQDTKSWGTVFELKRDIILHSTDVDIVLYSTEDIQDTKSWGYQNGGSSSAGERELDDDNEVVPRSTTVLVRRTMTPKKNKGNVQRYVAGKPRLQVSGTNSVNKSISLGNNVGGTMNFGDAATNGDEDDNFRTNVNEPVPEYYICYKCGEKGKHHIKNCPKNNDPNWEGVRVRKTTGIPKSHLKAIENPEDTIRDSNSSGNTTYMVNDEGKYVVAVADTKAWEKYQKTKKGESGGYLNGDVDVDDGELKDPETGKLWKSPVRIPCCNKIFSRKIIEDKLIDSDFTCPSCGKEQIYLDTLVADEELQAKVDEYVKNLSENKNNDGNSPKRRQVNPAGATANTSQLPQIPMMPMPPINMQMPPMNIGMPPFMPFMPMPGMNPAVIYYRFRSQKPDHIATIKFDGTGLTVFELKRDIILANNLLHSTDVDIVLYSTEDIQDTKSWGYQNGGSSSAGERELDDDNEVVPRSTTVLVRRTMTPKKNKGNVQRYVAGKPRLQVSGTNSVNKSISLGNNVGGTMNFGDAATNGDEDDMIKKMFSVQDEQWSQQQDVMATATRVDNFRTNVNEPVPEYYICYKCGEKGKHHIKNCPKNNDPNWEGVRVRKTTGIPKSHLKAIENPEDTIRDSNSSGNTTYMVNDEGKYVVAVADTKAWEKYQKTKKGESGGYLNGDVDVDDGELKDPETGKLWKSPVRIPCCNKIFSRKIIEDKLIDSDFTCPSCGKEQIYLDTLVADEELQAKVDEYVKNLSENKNNDGNSPKRRQVNPAGATANTSQLPQIPMMPMPPINMQMPPMNIGMPPFMPDMIKKMFSVQDEQWSQQQDVMATATRVDNFRTNVNEPVPEYYICYKCGEKGKHHIKNCPKNNDPNWEGVRVRKTTGIPKSHLKAIENPEDTIRDSNSSGNTTYMVNDEGKYVVAVADTKAWEKYQKTKKGESGGYLNGDVDVDDGELKDPETGKLWKSPVRIPCCNKIFSRKIIEDKLIDSDFTCPSCGKEQIYLDTLVADEELQAKVDEYVKNLSENKNNDGNSPKRRQVNPAGATANTSQLPQIPMMPMPPINMQMPPMNIGMPPFMPFMPMPGMNPAVIYYRFRSQKPDHIATIKFDGTGLTVFELKRDIILANNLLHSTDVDIVLYSTEDIQDTKSWGYQNGGSSSAGERELDDDNEVVPRSTTVLVRRTMTPKKNKGNVQRYVAGKPRLQVSGTNSVNKSISLGNNVGGTMNFGDAATNGDEDDMIKKMFSVQDEQWSQQQDVMATATRVDNFRTNVNEPVPEYYICYKCGEKGKHHIKNCPKNNDPNWEGVRVRKTTGIPKSHLKAIENPEDTIRDSNSSGNTTYMVNDEGKYVVAVADTKAWEKYQKTKKGESGGYLNGDVDVDDGELKDPETGKLWKSPVRIPCCNKIFSRKIIEDKLIDSDFTCPSCGKEQIYLDTLVADEELQAKVDEYVKNLSENKNNDGNSPKRRQVNPAGATANTSQLPQIPMMPMPPINMQMPPMNIGMPPFMPFMPMPGMNPAVIYYRFRSQKPDHIATIKFDGTGLTVFELKRDIILANNLLHSTDVDIVLYSTEDIQDTKSWGYQNGGSSSAGERELDDDNEVVPRSTTVLVRRTMTPKKNKGNVQRYVAGKPRLQVSGTNSVNKSISLGNNVGGTMNFGDAATNGDEDDMIKKMFSVQDEQWSQQ'"
      ]
     },
     "execution_count": 765,
     "metadata": {},
     "output_type": "execute_result"
    }
   ],
   "source": [
    "seq2"
   ]
  },
  {
   "cell_type": "code",
   "execution_count": 780,
   "id": "c9c2e793-d811-48c7-bc58-2428d04df299",
   "metadata": {},
   "outputs": [
    {
     "data": {
      "text/html": [
       "<div>\n",
       "<style scoped>\n",
       "    .dataframe tbody tr th:only-of-type {\n",
       "        vertical-align: middle;\n",
       "    }\n",
       "\n",
       "    .dataframe tbody tr th {\n",
       "        vertical-align: top;\n",
       "    }\n",
       "\n",
       "    .dataframe thead th {\n",
       "        text-align: right;\n",
       "    }\n",
       "</style>\n",
       "<table border=\"1\" class=\"dataframe\">\n",
       "  <thead>\n",
       "    <tr style=\"text-align: right;\">\n",
       "      <th></th>\n",
       "      <th>0</th>\n",
       "      <th>1</th>\n",
       "      <th>2</th>\n",
       "      <th>3</th>\n",
       "      <th>4</th>\n",
       "      <th>5</th>\n",
       "      <th>6</th>\n",
       "      <th>7</th>\n",
       "      <th>8</th>\n",
       "      <th>9</th>\n",
       "      <th>...</th>\n",
       "      <th>1270</th>\n",
       "      <th>1271</th>\n",
       "      <th>1272</th>\n",
       "      <th>1273</th>\n",
       "      <th>1274</th>\n",
       "      <th>1275</th>\n",
       "      <th>1276</th>\n",
       "      <th>1277</th>\n",
       "      <th>1278</th>\n",
       "      <th>1279</th>\n",
       "    </tr>\n",
       "  </thead>\n",
       "  <tbody>\n",
       "    <tr>\n",
       "      <th>0</th>\n",
       "      <td>13.342666</td>\n",
       "      <td>-6.065397</td>\n",
       "      <td>-7.653386</td>\n",
       "      <td>-0.206877</td>\n",
       "      <td>3.412858</td>\n",
       "      <td>8.580017</td>\n",
       "      <td>-4.474588</td>\n",
       "      <td>7.195158</td>\n",
       "      <td>-15.528293</td>\n",
       "      <td>3.261242</td>\n",
       "      <td>...</td>\n",
       "      <td>26.182968</td>\n",
       "      <td>9.536174</td>\n",
       "      <td>-0.349252</td>\n",
       "      <td>2.056357</td>\n",
       "      <td>-38.834545</td>\n",
       "      <td>-5.067162</td>\n",
       "      <td>-4.019046</td>\n",
       "      <td>-13.059695</td>\n",
       "      <td>5.651593</td>\n",
       "      <td>9.056581</td>\n",
       "    </tr>\n",
       "    <tr>\n",
       "      <th>1</th>\n",
       "      <td>13.342666</td>\n",
       "      <td>-6.065397</td>\n",
       "      <td>-7.653386</td>\n",
       "      <td>-0.206877</td>\n",
       "      <td>3.412858</td>\n",
       "      <td>8.580017</td>\n",
       "      <td>-4.474588</td>\n",
       "      <td>7.195158</td>\n",
       "      <td>-15.528293</td>\n",
       "      <td>3.261242</td>\n",
       "      <td>...</td>\n",
       "      <td>26.182968</td>\n",
       "      <td>9.536174</td>\n",
       "      <td>-0.349252</td>\n",
       "      <td>2.056357</td>\n",
       "      <td>-38.834545</td>\n",
       "      <td>-5.067162</td>\n",
       "      <td>-4.019046</td>\n",
       "      <td>-13.059695</td>\n",
       "      <td>5.651593</td>\n",
       "      <td>9.056581</td>\n",
       "    </tr>\n",
       "    <tr>\n",
       "      <th>2</th>\n",
       "      <td>13.342666</td>\n",
       "      <td>-6.065397</td>\n",
       "      <td>-7.653386</td>\n",
       "      <td>-0.206877</td>\n",
       "      <td>3.412858</td>\n",
       "      <td>8.580017</td>\n",
       "      <td>-4.474588</td>\n",
       "      <td>7.195158</td>\n",
       "      <td>-15.528293</td>\n",
       "      <td>3.261242</td>\n",
       "      <td>...</td>\n",
       "      <td>26.182968</td>\n",
       "      <td>9.536174</td>\n",
       "      <td>-0.349252</td>\n",
       "      <td>2.056357</td>\n",
       "      <td>-38.834545</td>\n",
       "      <td>-5.067162</td>\n",
       "      <td>-4.019046</td>\n",
       "      <td>-13.059695</td>\n",
       "      <td>5.651593</td>\n",
       "      <td>9.056581</td>\n",
       "    </tr>\n",
       "    <tr>\n",
       "      <th>3</th>\n",
       "      <td>8.866100</td>\n",
       "      <td>-8.275290</td>\n",
       "      <td>-7.363873</td>\n",
       "      <td>0.169422</td>\n",
       "      <td>-0.941267</td>\n",
       "      <td>3.683374</td>\n",
       "      <td>-4.503125</td>\n",
       "      <td>7.027940</td>\n",
       "      <td>-10.004908</td>\n",
       "      <td>3.117211</td>\n",
       "      <td>...</td>\n",
       "      <td>19.919933</td>\n",
       "      <td>9.000986</td>\n",
       "      <td>-0.117662</td>\n",
       "      <td>4.793332</td>\n",
       "      <td>-25.503050</td>\n",
       "      <td>-1.988137</td>\n",
       "      <td>-3.524633</td>\n",
       "      <td>-11.511133</td>\n",
       "      <td>5.617582</td>\n",
       "      <td>5.462593</td>\n",
       "    </tr>\n",
       "    <tr>\n",
       "      <th>4</th>\n",
       "      <td>8.866100</td>\n",
       "      <td>-8.275290</td>\n",
       "      <td>-7.363873</td>\n",
       "      <td>0.169422</td>\n",
       "      <td>-0.941267</td>\n",
       "      <td>3.683374</td>\n",
       "      <td>-4.503125</td>\n",
       "      <td>7.027940</td>\n",
       "      <td>-10.004908</td>\n",
       "      <td>3.117211</td>\n",
       "      <td>...</td>\n",
       "      <td>19.919933</td>\n",
       "      <td>9.000986</td>\n",
       "      <td>-0.117662</td>\n",
       "      <td>4.793332</td>\n",
       "      <td>-25.503050</td>\n",
       "      <td>-1.988137</td>\n",
       "      <td>-3.524633</td>\n",
       "      <td>-11.511133</td>\n",
       "      <td>5.617582</td>\n",
       "      <td>5.462593</td>\n",
       "    </tr>\n",
       "  </tbody>\n",
       "</table>\n",
       "<p>5 rows × 1280 columns</p>\n",
       "</div>"
      ],
      "text/plain": [
       "        0         1         2         3         4         5         6     \\\n",
       "0  13.342666 -6.065397 -7.653386 -0.206877  3.412858  8.580017 -4.474588   \n",
       "1  13.342666 -6.065397 -7.653386 -0.206877  3.412858  8.580017 -4.474588   \n",
       "2  13.342666 -6.065397 -7.653386 -0.206877  3.412858  8.580017 -4.474588   \n",
       "3   8.866100 -8.275290 -7.363873  0.169422 -0.941267  3.683374 -4.503125   \n",
       "4   8.866100 -8.275290 -7.363873  0.169422 -0.941267  3.683374 -4.503125   \n",
       "\n",
       "       7          8         9     ...       1270      1271      1272  \\\n",
       "0  7.195158 -15.528293  3.261242  ...  26.182968  9.536174 -0.349252   \n",
       "1  7.195158 -15.528293  3.261242  ...  26.182968  9.536174 -0.349252   \n",
       "2  7.195158 -15.528293  3.261242  ...  26.182968  9.536174 -0.349252   \n",
       "3  7.027940 -10.004908  3.117211  ...  19.919933  9.000986 -0.117662   \n",
       "4  7.027940 -10.004908  3.117211  ...  19.919933  9.000986 -0.117662   \n",
       "\n",
       "       1273       1274      1275      1276       1277      1278      1279  \n",
       "0  2.056357 -38.834545 -5.067162 -4.019046 -13.059695  5.651593  9.056581  \n",
       "1  2.056357 -38.834545 -5.067162 -4.019046 -13.059695  5.651593  9.056581  \n",
       "2  2.056357 -38.834545 -5.067162 -4.019046 -13.059695  5.651593  9.056581  \n",
       "3  4.793332 -25.503050 -1.988137 -3.524633 -11.511133  5.617582  5.462593  \n",
       "4  4.793332 -25.503050 -1.988137 -3.524633 -11.511133  5.617582  5.462593  \n",
       "\n",
       "[5 rows x 1280 columns]"
      ]
     },
     "execution_count": 780,
     "metadata": {},
     "output_type": "execute_result"
    }
   ],
   "source": [
    "pd.DataFrame(final_rep32)"
   ]
  },
  {
   "cell_type": "code",
   "execution_count": null,
   "id": "50ab432e-61de-4dc0-94fe-2e6948311fa2",
   "metadata": {},
   "outputs": [],
   "source": []
  },
  {
   "cell_type": "code",
   "execution_count": 747,
   "id": "47a720c4-5f92-4a6a-a3b2-38abd88b30a0",
   "metadata": {},
   "outputs": [
    {
     "name": "stdout",
     "output_type": "stream",
     "text": [
      "{'label': 'UniRef50_A0A1E3NP16', 'mean_representations': {0: tensor([-0.0515, -0.0002,  0.0142,  ...,  0.0084, -0.0568,  0.0050]), 32: tensor([ 13.3427,  -6.0654,  -7.6534,  ..., -13.0597,   5.6516,   9.0566]), 33: tensor([ 0.0794,  0.0563, -0.1215,  ..., -0.3369, -0.0463,  0.0283])}}\n"
     ]
    }
   ],
   "source": [
    "batch_labels, batch_strs, batch_tokens = batch_converter(data)\n",
    "if torch.cuda.is_available():\n",
    "    batch_tokens = batch_tokens.to(device=\"cuda\", non_blocking=True)\n",
    "    \n",
    "REP_LAYERS = [0, 32, 33]    \n",
    "MINI_SIZE = len(batch_labels)\n",
    "\n",
    "\n",
    "with torch.no_grad():\n",
    "    results = model(batch_tokens, repr_layers=REP_LAYERS, return_contacts=False)    \n",
    "    \n",
    "\n",
    "representations = {layer: t.to(device=\"cpu\") for layer, t in results[\"representations\"].items()}\n",
    "result[\"label\"] = batch_labels[0]\n",
    "\n",
    "for i in range(MINI_SIZE):\n",
    "    if i ==0:\n",
    "        result[\"mean_representations\"] = {layer: t[i, 1 : len(batch_strs[0]) + 1].mean(0).clone() for layer, t in representations.items()}\n",
    "    else:\n",
    "        for index, layer in enumerate(REP_LAYERS):\n",
    "            result[\"mean_representations\"][layer] += {layer: t[i, 1 : len(batch_strs[0]) + 1].mean(0).clone() for layer, t in representations.items()}[layer]\n",
    "\n",
    "for index, layer in enumerate(REP_LAYERS):\n",
    "    result[\"mean_representations\"][layer] = result[\"mean_representations\"][layer] /MINI_SIZE\n",
    "\n",
    "print(result)\n",
    "apd = result.copy()\n",
    "\n",
    "\n",
    "final_label_list.append(apd['label'])\n",
    "final_rep0.append(np.array(apd['mean_representations'][0]))\n",
    "final_rep32.append(np.array(apd['mean_representations'][32]))\n",
    "final_rep33.append(np.array(apd['mean_representations'][33]))\n"
   ]
  },
  {
   "cell_type": "code",
   "execution_count": null,
   "id": "168702ef-2fe3-4539-b2d3-d1cfe6fd1b5c",
   "metadata": {},
   "outputs": [],
   "source": []
  },
  {
   "cell_type": "code",
   "execution_count": 730,
   "id": "cd143300-094b-44a5-8e13-a4301dbbaa8a",
   "metadata": {},
   "outputs": [
    {
     "data": {
      "text/plain": [
       "['UniRef50_A0A1E3NP16', 'UniRef50_A3', 'UniRef50_A3']"
      ]
     },
     "execution_count": 730,
     "metadata": {},
     "output_type": "execute_result"
    }
   ],
   "source": [
    "final_label_list"
   ]
  },
  {
   "cell_type": "code",
   "execution_count": 741,
   "id": "f16c16d9-17f3-472f-8ff2-32049e259e2e",
   "metadata": {},
   "outputs": [
    {
     "data": {
      "text/plain": [
       "[tensor([-0.0515, -0.0002,  0.0142,  ...,  0.0084, -0.0568,  0.0050]),\n",
       " tensor([-0.0501,  0.0044,  0.0191,  ...,  0.0071, -0.0537,  0.0050])]"
      ]
     },
     "execution_count": 741,
     "metadata": {},
     "output_type": "execute_result"
    }
   ],
   "source": [
    "final_rep0"
   ]
  },
  {
   "cell_type": "code",
   "execution_count": 742,
   "id": "398c9dcd-3ec3-4f25-ad6a-f90bf0fc73fe",
   "metadata": {},
   "outputs": [
    {
     "data": {
      "text/plain": [
       "[tensor([ 13.3427,  -6.0654,  -7.6534,  ..., -13.0597,   5.6516,   9.0566]),\n",
       " tensor([ 12.5109,  -6.3972,  -7.8671,  ..., -13.4140,   5.7848,  10.0745])]"
      ]
     },
     "execution_count": 742,
     "metadata": {},
     "output_type": "execute_result"
    }
   ],
   "source": [
    "final_rep32"
   ]
  },
  {
   "cell_type": "code",
   "execution_count": 618,
   "id": "0dec3911-f347-461c-8572-39a68fef0456",
   "metadata": {},
   "outputs": [
    {
     "data": {
      "text/plain": [
       "[[[1, 2]]]"
      ]
     },
     "execution_count": 618,
     "metadata": {},
     "output_type": "execute_result"
    }
   ],
   "source": [
    "aa"
   ]
  },
  {
   "cell_type": "code",
   "execution_count": null,
   "id": "c47e794d-5e65-4ff8-aa1a-2ac186c25379",
   "metadata": {},
   "outputs": [],
   "source": []
  },
  {
   "cell_type": "code",
   "execution_count": 461,
   "id": "36f0346f-81c6-43e2-a746-a601d50d75b0",
   "metadata": {},
   "outputs": [],
   "source": [
    "with torch.no_grad():\n",
    "    results = model(batch_tokens, repr_layers=[33], return_contacts=False)"
   ]
  },
  {
   "cell_type": "code",
   "execution_count": 479,
   "id": "ac6093a3-1b46-447c-960d-7a61ca7d910f",
   "metadata": {},
   "outputs": [
    {
     "data": {
      "text/plain": [
       "tensor([[[-0.0663, -0.0206,  0.0212,  ...,  0.0336,  0.3534,  0.3684],\n",
       "         [-0.2066, -0.0061,  0.0463,  ..., -0.0319, -0.0615,  0.2085],\n",
       "         [ 0.8343,  0.0187, -0.0447,  ..., -0.0452, -0.1219, -0.0422],\n",
       "         ...,\n",
       "         [ 0.4026, -0.0325,  0.0259,  ...,  0.0369,  0.6076,  0.1466],\n",
       "         [-0.0122, -0.0720, -0.1022,  ..., -0.1141, -0.3044,  0.1429],\n",
       "         [-0.1295, -0.0159,  0.0496,  ..., -0.0041,  0.1682,  0.1169]],\n",
       "\n",
       "        [[-0.0663, -0.0206,  0.0212,  ...,  0.0336,  0.3534,  0.3684],\n",
       "         [ 0.0339, -0.0038,  0.0843,  ...,  0.0500,  0.5864,  0.0536],\n",
       "         [ 0.9680,  0.0220,  0.0074,  ...,  0.0210,  0.6507, -0.0980],\n",
       "         ...,\n",
       "         [-0.0000,  0.0000,  0.0000,  ..., -0.0000, -0.0000,  0.0000],\n",
       "         [-0.0000,  0.0000,  0.0000,  ..., -0.0000, -0.0000,  0.0000],\n",
       "         [-0.0000,  0.0000,  0.0000,  ..., -0.0000, -0.0000,  0.0000]]],\n",
       "       device='cuda:0')"
      ]
     },
     "execution_count": 479,
     "metadata": {},
     "output_type": "execute_result"
    }
   ],
   "source": [
    "results['representations'][0]"
   ]
  },
  {
   "cell_type": "code",
   "execution_count": 133,
   "id": "85b55c77-890a-4f5b-96e3-132be412e1ef",
   "metadata": {},
   "outputs": [
    {
     "ename": "IndexError",
     "evalue": "index 1 is out of bounds for dimension 0 with size 1",
     "output_type": "error",
     "traceback": [
      "\u001b[0;31m---------------------------------------------------------------------------\u001b[0m",
      "\u001b[0;31mIndexError\u001b[0m                                Traceback (most recent call last)",
      "\u001b[0;32m<ipython-input-133-e00148300606>\u001b[0m in \u001b[0;36m<module>\u001b[0;34m\u001b[0m\n\u001b[1;32m      1\u001b[0m \u001b[0msequence_representations\u001b[0m \u001b[0;34m=\u001b[0m \u001b[0;34m[\u001b[0m\u001b[0;34m]\u001b[0m\u001b[0;34m\u001b[0m\u001b[0;34m\u001b[0m\u001b[0m\n\u001b[1;32m      2\u001b[0m \u001b[0;32mfor\u001b[0m \u001b[0mi\u001b[0m\u001b[0;34m,\u001b[0m \u001b[0;34m(\u001b[0m\u001b[0m_\u001b[0m\u001b[0;34m,\u001b[0m \u001b[0mseq\u001b[0m\u001b[0;34m)\u001b[0m \u001b[0;32min\u001b[0m \u001b[0menumerate\u001b[0m\u001b[0;34m(\u001b[0m\u001b[0mdata\u001b[0m\u001b[0;34m)\u001b[0m\u001b[0;34m:\u001b[0m\u001b[0;34m\u001b[0m\u001b[0;34m\u001b[0m\u001b[0m\n\u001b[0;32m----> 3\u001b[0;31m     \u001b[0msequence_representations\u001b[0m\u001b[0;34m.\u001b[0m\u001b[0mappend\u001b[0m\u001b[0;34m(\u001b[0m\u001b[0mtoken_representations\u001b[0m\u001b[0;34m[\u001b[0m\u001b[0mi\u001b[0m\u001b[0;34m,\u001b[0m \u001b[0;36m1\u001b[0m \u001b[0;34m:\u001b[0m \u001b[0mlen\u001b[0m\u001b[0;34m(\u001b[0m\u001b[0mseq\u001b[0m\u001b[0;34m)\u001b[0m \u001b[0;34m+\u001b[0m \u001b[0;36m1\u001b[0m\u001b[0;34m]\u001b[0m\u001b[0;34m.\u001b[0m\u001b[0mmean\u001b[0m\u001b[0;34m(\u001b[0m\u001b[0;36m0\u001b[0m\u001b[0;34m)\u001b[0m\u001b[0;34m)\u001b[0m\u001b[0;34m\u001b[0m\u001b[0;34m\u001b[0m\u001b[0m\n\u001b[0m",
      "\u001b[0;31mIndexError\u001b[0m: index 1 is out of bounds for dimension 0 with size 1"
     ]
    }
   ],
   "source": [
    "sequence_representations = []\n",
    "for i, (_, seq) in enumerate(data):\n",
    "    sequence_representations.append(token_representations[i, 1 : len(seq) + 1].mean(0))"
   ]
  },
  {
   "cell_type": "code",
   "execution_count": 178,
   "id": "2c32541d-b3c8-43d5-b0ef-1b7cf5ea43aa",
   "metadata": {},
   "outputs": [
    {
     "data": {
      "text/plain": [
       "{0: tensor([[[-0.0663, -0.0206,  0.0212,  ...,  0.0336,  0.3534,  0.3684],\n",
       "          [-0.2066, -0.0061,  0.0463,  ..., -0.0319, -0.0615,  0.2085],\n",
       "          [ 0.8343,  0.0187, -0.0447,  ..., -0.0452, -0.1219, -0.0422],\n",
       "          ...,\n",
       "          [ 0.2840, -0.1333,  0.1209,  ...,  0.0703, -0.8344,  0.2684],\n",
       "          [ 0.7176, -0.0639, -0.0037,  ...,  0.0431, -0.8247,  0.1954],\n",
       "          [ 0.1696, -0.1269,  0.0770,  ...,  0.0481, -0.3639,  0.2169]]]),\n",
       " 32: tensor([[[ -2.2953,   6.8251,   5.7695,  ...,   0.8377,   4.1287,  -3.2129],\n",
       "          [-16.3774, -13.6198,  -1.1080,  ...,  -2.2141, -16.0993,  -8.8635],\n",
       "          [  9.2567,   2.4502, -23.7310,  ...,  -1.7868,  -4.5171,  -3.2590],\n",
       "          ...,\n",
       "          [ 17.1359,  -6.9845, -18.2424,  ...,  10.0516, -30.6245,   8.1948],\n",
       "          [  9.6938,  -7.7200, -13.8527,  ...,   7.0359,   4.3275,  19.5375],\n",
       "          [-11.4744, -12.2053,   2.8143,  ...,  -5.0165,   7.0251,   1.5924]]]),\n",
       " 33: tensor([[[-0.0148,  0.2114,  0.0959,  ...,  0.0192,  0.1187, -0.1526],\n",
       "          [-0.2205,  0.1107, -0.0346,  ...,  0.0093, -0.1156, -0.1718],\n",
       "          [ 0.2671,  0.2421, -0.4073,  ..., -0.1164,  0.0140,  0.1159],\n",
       "          ...,\n",
       "          [ 0.2019,  0.0305, -0.2604,  ...,  0.1438, -0.5323,  0.1866],\n",
       "          [ 0.0886,  0.0215, -0.1960,  ...,  0.1139,  0.0365,  0.3511],\n",
       "          [-0.1840, -0.0118,  0.1152,  ..., -0.0415,  0.1680, -0.0275]]])}"
      ]
     },
     "execution_count": 178,
     "metadata": {},
     "output_type": "execute_result"
    }
   ],
   "source": [
    "token_representations"
   ]
  },
  {
   "cell_type": "code",
   "execution_count": 135,
   "id": "c8771f23-0b6b-432e-a206-10c04d956b91",
   "metadata": {},
   "outputs": [
    {
     "data": {
      "text/plain": [
       "{'label': 'UniRef50_A0A1E3NP16',\n",
       " 'mean_representations': {0: tensor([-0.0879,  0.0045,  0.0343,  ...,  0.0030, -0.0245,  0.0647]),\n",
       "  32: tensor([  2.7337,   2.4306,  -4.3924,  ...,   2.0815, -10.4405,   5.6199]),\n",
       "  33: tensor([ 0.0354,  0.1763, -0.0611,  ...,  0.0219, -0.1569,  0.1682])}}"
      ]
     },
     "execution_count": 135,
     "metadata": {},
     "output_type": "execute_result"
    }
   ],
   "source": [
    "result"
   ]
  },
  {
   "cell_type": "code",
   "execution_count": 121,
   "id": "748fe815-f64e-4622-bbea-35f55f30b116",
   "metadata": {},
   "outputs": [
    {
     "data": {
      "text/plain": [
       "{0: tensor([[[-0.0663, -0.0206,  0.0212,  ...,  0.0336,  0.3534,  0.3684],\n",
       "          [-0.2066, -0.0061,  0.0463,  ..., -0.0319, -0.0615,  0.2085],\n",
       "          [ 0.8343,  0.0187, -0.0447,  ..., -0.0452, -0.1219, -0.0422],\n",
       "          ...,\n",
       "          [ 0.2840, -0.1333,  0.1209,  ...,  0.0703, -0.8344,  0.2684],\n",
       "          [ 0.7176, -0.0639, -0.0037,  ...,  0.0431, -0.8247,  0.1954],\n",
       "          [ 0.1696, -0.1269,  0.0770,  ...,  0.0481, -0.3639,  0.2169]]]),\n",
       " 32: tensor([[[ -2.2953,   6.8251,   5.7695,  ...,   0.8377,   4.1287,  -3.2129],\n",
       "          [-16.3774, -13.6198,  -1.1080,  ...,  -2.2141, -16.0993,  -8.8635],\n",
       "          [  9.2567,   2.4502, -23.7310,  ...,  -1.7868,  -4.5171,  -3.2590],\n",
       "          ...,\n",
       "          [ 17.1359,  -6.9845, -18.2424,  ...,  10.0516, -30.6245,   8.1948],\n",
       "          [  9.6938,  -7.7200, -13.8527,  ...,   7.0359,   4.3275,  19.5375],\n",
       "          [-11.4744, -12.2053,   2.8143,  ...,  -5.0165,   7.0251,   1.5924]]]),\n",
       " 33: tensor([[[-0.0148,  0.2114,  0.0959,  ...,  0.0192,  0.1187, -0.1526],\n",
       "          [-0.2205,  0.1107, -0.0346,  ...,  0.0093, -0.1156, -0.1718],\n",
       "          [ 0.2671,  0.2421, -0.4073,  ..., -0.1164,  0.0140,  0.1159],\n",
       "          ...,\n",
       "          [ 0.2019,  0.0305, -0.2604,  ...,  0.1438, -0.5323,  0.1866],\n",
       "          [ 0.0886,  0.0215, -0.1960,  ...,  0.1139,  0.0365,  0.3511],\n",
       "          [-0.1840, -0.0118,  0.1152,  ..., -0.0415,  0.1680, -0.0275]]])}"
      ]
     },
     "execution_count": 121,
     "metadata": {},
     "output_type": "execute_result"
    }
   ],
   "source": [
    "representations"
   ]
  },
  {
   "cell_type": "code",
   "execution_count": null,
   "id": "06940a81-e350-4c5a-8e6d-f0e21114a9ed",
   "metadata": {},
   "outputs": [],
   "source": []
  },
  {
   "cell_type": "code",
   "execution_count": null,
   "id": "c00f480f-8940-42ab-a010-fef0d1c6e90d",
   "metadata": {},
   "outputs": [],
   "source": []
  },
  {
   "cell_type": "code",
   "execution_count": null,
   "id": "bcccae9a-b4ba-4eda-b74e-dd0d031946e7",
   "metadata": {},
   "outputs": [],
   "source": []
  },
  {
   "cell_type": "code",
   "execution_count": null,
   "id": "fba5352d-4a16-4b4d-ba4e-6fc736e14a07",
   "metadata": {},
   "outputs": [],
   "source": []
  },
  {
   "cell_type": "code",
   "execution_count": 100,
   "id": "aba56fb4-5670-4c69-a90e-b4e188a5b418",
   "metadata": {},
   "outputs": [
    {
     "data": {
      "image/png": "[encoded data removed]",
      "text/plain": [
       "<Figure size 288x288 with 1 Axes>"
      ]
     },
     "metadata": {
      "needs_background": "light"
     },
     "output_type": "display_data"
    },
    {
     "data": {
      "image/png": "[encoded data removed]",
      "text/plain": [
       "<Figure size 288x288 with 1 Axes>"
      ]
     },
     "metadata": {
      "needs_background": "light"
     },
     "output_type": "display_data"
    },
    {
     "data": {
      "image/png": "[encoded data removed]",
      "text/plain": [
       "<Figure size 288x288 with 1 Axes>"
      ]
     },
     "metadata": {
      "needs_background": "light"
     },
     "output_type": "display_data"
    },
    {
     "data": {
      "image/png": "[encoded data removed]",
      "text/plain": [
       "<Figure size 288x288 with 1 Axes>"
      ]
     },
     "metadata": {
      "needs_background": "light"
     },
     "output_type": "display_data"
    }
   ],
   "source": [
    "import matplotlib.pyplot as plt\n",
    "for (_, seq), attention_contacts in zip(data, results[\"contacts\"]):\n",
    "    plt.matshow(attention_contacts[: len(seq), : len(seq)])\n",
    "    plt.title(seq)\n",
    "    plt.show()"
   ]
  },
  {
   "cell_type": "code",
   "execution_count": null,
   "id": "933664dd-792e-42ac-86f0-abd657a5278c",
   "metadata": {},
   "outputs": [],
   "source": []
  },
  {
   "cell_type": "code",
   "execution_count": null,
   "id": "520de5bf-826f-4519-bc41-d2586cf20d8f",
   "metadata": {},
   "outputs": [],
   "source": []
  },
  {
   "cell_type": "code",
   "execution_count": null,
   "id": "d9b921a4-ed37-42c9-a33f-1216fee3b085",
   "metadata": {},
   "outputs": [],
   "source": []
  }
 ],
 "metadata": {
  "kernelspec": {
   "display_name": "py38",
   "language": "python",
   "name": "py38"
  },
  "language_info": {
   "codemirror_mode": {
    "name": "ipython",
    "version": 3
   },
   "file_extension": ".py",
   "mimetype": "text/x-python",
   "name": "python",
   "nbconvert_exporter": "python",
   "pygments_lexer": "ipython3",
   "version": "3.8.10"
  }
 },
 "nbformat": 4,
 "nbformat_minor": 5
}
