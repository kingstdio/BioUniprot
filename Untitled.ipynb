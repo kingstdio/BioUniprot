{
 "cells": [
  {
   "cell_type": "code",
   "execution_count": 31,
   "metadata": {},
   "outputs": [],
   "source": [
    "import pandas as pd\n",
    "import numpy as np\n",
    "import time"
   ]
  },
  {
   "cell_type": "code",
   "execution_count": 10,
   "metadata": {},
   "outputs": [
    {
     "data": {
      "text/html": [
       "<div>\n",
       "<style scoped>\n",
       "    .dataframe tbody tr th:only-of-type {\n",
       "        vertical-align: middle;\n",
       "    }\n",
       "\n",
       "    .dataframe tbody tr th {\n",
       "        vertical-align: top;\n",
       "    }\n",
       "\n",
       "    .dataframe thead th {\n",
       "        text-align: right;\n",
       "    }\n",
       "</style>\n",
       "<table border=\"1\" class=\"dataframe\">\n",
       "  <thead>\n",
       "    <tr style=\"text-align: right;\">\n",
       "      <th></th>\n",
       "      <th>id</th>\n",
       "      <th>ec_number</th>\n",
       "      <th>seq</th>\n",
       "    </tr>\n",
       "  </thead>\n",
       "  <tbody>\n",
       "    <tr>\n",
       "      <th>0</th>\n",
       "      <td>Q6GZW6</td>\n",
       "      <td>3.6.4.-</td>\n",
       "      <td>MDTSPYDFLKLYPWLSRGEADKGTLLDAFPGETFEQSLASDVAMRR...</td>\n",
       "    </tr>\n",
       "    <tr>\n",
       "      <th>1</th>\n",
       "      <td>Q6GZV6</td>\n",
       "      <td>2.7.11.1</td>\n",
       "      <td>MATNYCDEFERNPTRNPRTGRTIKRGGPVFRALERECSDGAARVFP...</td>\n",
       "    </tr>\n",
       "    <tr>\n",
       "      <th>2</th>\n",
       "      <td>Q197B6</td>\n",
       "      <td>2.7.11.-</td>\n",
       "      <td>MPLSVFAEEFAEKSVKRYIGQGLWLPCNLSDYYYYQEFHDEGGYGS...</td>\n",
       "    </tr>\n",
       "  </tbody>\n",
       "</table>\n",
       "</div>"
      ],
      "text/plain": [
       "       id ec_number                                                seq\n",
       "0  Q6GZW6   3.6.4.-  MDTSPYDFLKLYPWLSRGEADKGTLLDAFPGETFEQSLASDVAMRR...\n",
       "1  Q6GZV6  2.7.11.1  MATNYCDEFERNPTRNPRTGRTIKRGGPVFRALERECSDGAARVFP...\n",
       "2  Q197B6  2.7.11.-  MPLSVFAEEFAEKSVKRYIGQGLWLPCNLSDYYYYQEFHDEGGYGS..."
      ]
     },
     "execution_count": 10,
     "metadata": {},
     "output_type": "execute_result"
    }
   ],
   "source": [
    "sprot = pd.read_csv('./data/sprot_with_ec.tsv', sep='\\t',names=['id', 'ec_number', 'seq']) #读入文件\n",
    "sprot.head(3)"
   ]
  },
  {
   "cell_type": "code",
   "execution_count": 36,
   "metadata": {},
   "outputs": [
    {
     "name": "stdout",
     "output_type": "stream",
     "text": [
      "finished use time 19.222 s\n"
     ]
    }
   ],
   "source": [
    "start =  time.process_time()\n",
    "\n",
    "counter =0\n",
    "sprot_list =[]\n",
    "for index, row in sprot.iterrows():\n",
    "#     counter +=1\n",
    "#     if counter ==5:\n",
    "#         break\n",
    "        \n",
    "    rowid = row.id\n",
    "    ec_array = row.ec_number.split(',')\n",
    "    for item in ec_array:\n",
    "        subitem = item.split('.')\n",
    "        sprot_list.append([rowid, item ,subitem[0], subitem[1], subitem[2], subitem[3]])\n",
    "end =  time.process_time()\n",
    "print('finished use time %6.3f s' % (end - start))"
   ]
  },
  {
   "cell_type": "code",
   "execution_count": 37,
   "metadata": {},
   "outputs": [
    {
     "data": {
      "text/html": [
       "<div>\n",
       "<style scoped>\n",
       "    .dataframe tbody tr th:only-of-type {\n",
       "        vertical-align: middle;\n",
       "    }\n",
       "\n",
       "    .dataframe tbody tr th {\n",
       "        vertical-align: top;\n",
       "    }\n",
       "\n",
       "    .dataframe thead th {\n",
       "        text-align: right;\n",
       "    }\n",
       "</style>\n",
       "<table border=\"1\" class=\"dataframe\">\n",
       "  <thead>\n",
       "    <tr style=\"text-align: right;\">\n",
       "      <th></th>\n",
       "      <th>0</th>\n",
       "      <th>1</th>\n",
       "      <th>2</th>\n",
       "      <th>3</th>\n",
       "      <th>4</th>\n",
       "      <th>5</th>\n",
       "    </tr>\n",
       "  </thead>\n",
       "  <tbody>\n",
       "    <tr>\n",
       "      <th>0</th>\n",
       "      <td>Q6GZW6</td>\n",
       "      <td>3.6.4.-</td>\n",
       "      <td>3</td>\n",
       "      <td>6</td>\n",
       "      <td>4</td>\n",
       "      <td>-</td>\n",
       "    </tr>\n",
       "    <tr>\n",
       "      <th>1</th>\n",
       "      <td>Q6GZV6</td>\n",
       "      <td>2.7.11.1</td>\n",
       "      <td>2</td>\n",
       "      <td>7</td>\n",
       "      <td>11</td>\n",
       "      <td>1</td>\n",
       "    </tr>\n",
       "    <tr>\n",
       "      <th>2</th>\n",
       "      <td>Q197B6</td>\n",
       "      <td>2.7.11.-</td>\n",
       "      <td>2</td>\n",
       "      <td>7</td>\n",
       "      <td>11</td>\n",
       "      <td>-</td>\n",
       "    </tr>\n",
       "    <tr>\n",
       "      <th>3</th>\n",
       "      <td>Q6GZS1</td>\n",
       "      <td>3.6.4.-</td>\n",
       "      <td>3</td>\n",
       "      <td>6</td>\n",
       "      <td>4</td>\n",
       "      <td>-</td>\n",
       "    </tr>\n",
       "    <tr>\n",
       "      <th>4</th>\n",
       "      <td>Q196Y0</td>\n",
       "      <td>3.6.1.-</td>\n",
       "      <td>3</td>\n",
       "      <td>6</td>\n",
       "      <td>1</td>\n",
       "      <td>-</td>\n",
       "    </tr>\n",
       "  </tbody>\n",
       "</table>\n",
       "</div>"
      ],
      "text/plain": [
       "        0         1  2  3   4  5\n",
       "0  Q6GZW6   3.6.4.-  3  6   4  -\n",
       "1  Q6GZV6  2.7.11.1  2  7  11  1\n",
       "2  Q197B6  2.7.11.-  2  7  11  -\n",
       "3  Q6GZS1   3.6.4.-  3  6   4  -\n",
       "4  Q196Y0   3.6.1.-  3  6   1  -"
      ]
     },
     "execution_count": 37,
     "metadata": {},
     "output_type": "execute_result"
    }
   ],
   "source": [
    "res = pd.DataFrame(sprot_list)\n",
    "res.head(5)"
   ]
  },
  {
   "cell_type": "code",
   "execution_count": 39,
   "metadata": {},
   "outputs": [],
   "source": [
    "res2 = res[1].value_counts()"
   ]
  },
  {
   "cell_type": "code",
   "execution_count": 40,
   "metadata": {},
   "outputs": [],
   "source": [
    "res2.to_excel('./data/sprot_ec_statistic.xlsx', header=True, index=True)"
   ]
  },
  {
   "cell_type": "code",
   "execution_count": 43,
   "metadata": {},
   "outputs": [
    {
     "data": {
      "text/html": [
       "<div>\n",
       "<style scoped>\n",
       "    .dataframe tbody tr th:only-of-type {\n",
       "        vertical-align: middle;\n",
       "    }\n",
       "\n",
       "    .dataframe tbody tr th {\n",
       "        vertical-align: top;\n",
       "    }\n",
       "\n",
       "    .dataframe thead th {\n",
       "        text-align: right;\n",
       "    }\n",
       "</style>\n",
       "<table border=\"1\" class=\"dataframe\">\n",
       "  <thead>\n",
       "    <tr style=\"text-align: right;\">\n",
       "      <th></th>\n",
       "      <th>id</th>\n",
       "      <th>ec_number</th>\n",
       "      <th>seq</th>\n",
       "    </tr>\n",
       "  </thead>\n",
       "  <tbody>\n",
       "  </tbody>\n",
       "</table>\n",
       "</div>"
      ],
      "text/plain": [
       "Empty DataFrame\n",
       "Columns: [id, ec_number, seq]\n",
       "Index: []"
      ]
     },
     "execution_count": 43,
     "metadata": {},
     "output_type": "execute_result"
    }
   ],
   "source": [
    "sprot[sprot.ec_number=='4.4.1.36']"
   ]
  },
  {
   "cell_type": "code",
   "execution_count": 44,
   "metadata": {},
   "outputs": [],
   "source": [
    "trembl= pd.read_csv('./data/trembl_with_ec.tsv', sep='\\t',names=['id', 'ec_number', 'seq']) #读入文件"
   ]
  },
  {
   "cell_type": "code",
   "execution_count": 45,
   "metadata": {},
   "outputs": [
    {
     "data": {
      "text/html": [
       "<div>\n",
       "<style scoped>\n",
       "    .dataframe tbody tr th:only-of-type {\n",
       "        vertical-align: middle;\n",
       "    }\n",
       "\n",
       "    .dataframe tbody tr th {\n",
       "        vertical-align: top;\n",
       "    }\n",
       "\n",
       "    .dataframe thead th {\n",
       "        text-align: right;\n",
       "    }\n",
       "</style>\n",
       "<table border=\"1\" class=\"dataframe\">\n",
       "  <thead>\n",
       "    <tr style=\"text-align: right;\">\n",
       "      <th></th>\n",
       "      <th>id</th>\n",
       "      <th>ec_number</th>\n",
       "      <th>seq</th>\n",
       "    </tr>\n",
       "  </thead>\n",
       "  <tbody>\n",
       "    <tr>\n",
       "      <th>3161147</th>\n",
       "      <td>A0A6J8AV69</td>\n",
       "      <td>4.4.1.36</td>\n",
       "      <td>MGDMPDFGKEMREKEFDLKDGVTFINHGSYGVVPLRVQEAQNRVLY...</td>\n",
       "    </tr>\n",
       "    <tr>\n",
       "      <th>3167683</th>\n",
       "      <td>A0A6J8E854</td>\n",
       "      <td>4.4.1.36</td>\n",
       "      <td>MGEMYDLPDLWGNKTEFTKLEEATTALAGFVKADAEDFVFVQNITT...</td>\n",
       "    </tr>\n",
       "    <tr>\n",
       "      <th>3168107</th>\n",
       "      <td>A0A6J8AUK5</td>\n",
       "      <td>4.4.1.36</td>\n",
       "      <td>MGDMPDFGKEMREKEFDLKDGVTFINHGSYGVVPLRVQEAQNRVLY...</td>\n",
       "    </tr>\n",
       "    <tr>\n",
       "      <th>3169425</th>\n",
       "      <td>A0A6J8BDJ8</td>\n",
       "      <td>4.4.1.36</td>\n",
       "      <td>MDSSPDLWFRKNRRIKQDEARHCIAEFVQADPDDLVFVQNTTTGVN...</td>\n",
       "    </tr>\n",
       "    <tr>\n",
       "      <th>3175237</th>\n",
       "      <td>A0A6J8AXF5</td>\n",
       "      <td>4.4.1.36</td>\n",
       "      <td>MTAIPAFGNEIKKTDFTLKDGVVFVNHGSYGVVPKRVQQAQDRIIG...</td>\n",
       "    </tr>\n",
       "  </tbody>\n",
       "</table>\n",
       "</div>"
      ],
      "text/plain": [
       "                 id ec_number  \\\n",
       "3161147  A0A6J8AV69  4.4.1.36   \n",
       "3167683  A0A6J8E854  4.4.1.36   \n",
       "3168107  A0A6J8AUK5  4.4.1.36   \n",
       "3169425  A0A6J8BDJ8  4.4.1.36   \n",
       "3175237  A0A6J8AXF5  4.4.1.36   \n",
       "\n",
       "                                                       seq  \n",
       "3161147  MGDMPDFGKEMREKEFDLKDGVTFINHGSYGVVPLRVQEAQNRVLY...  \n",
       "3167683  MGEMYDLPDLWGNKTEFTKLEEATTALAGFVKADAEDFVFVQNITT...  \n",
       "3168107  MGDMPDFGKEMREKEFDLKDGVTFINHGSYGVVPLRVQEAQNRVLY...  \n",
       "3169425  MDSSPDLWFRKNRRIKQDEARHCIAEFVQADPDDLVFVQNTTTGVN...  \n",
       "3175237  MTAIPAFGNEIKKTDFTLKDGVVFVNHGSYGVVPKRVQQAQDRIIG...  "
      ]
     },
     "execution_count": 45,
     "metadata": {},
     "output_type": "execute_result"
    }
   ],
   "source": [
    "trembl[trembl.ec_number=='4.4.1.36']"
   ]
  },
  {
   "cell_type": "code",
   "execution_count": 5,
   "metadata": {},
   "outputs": [],
   "source": [
    "import jax"
   ]
  },
  {
   "cell_type": "code",
   "execution_count": 6,
   "metadata": {
    "tags": []
   },
   "outputs": [],
   "source": [
    "from jax_unirep import get_reps"
   ]
  },
  {
   "cell_type": "code",
   "execution_count": 4,
   "metadata": {},
   "outputs": [
    {
     "name": "stdout",
     "output_type": "stream",
     "text": [
      "nvcc: NVIDIA (R) Cuda compiler driver\n",
      "Copyright (c) 2005-2020 NVIDIA Corporation\n",
      "Built on Tue_Sep_15_19:10:02_PDT_2020\n",
      "Cuda compilation tools, release 11.1, V11.1.74\n",
      "Build cuda_11.1.TC455_06.29069683_0\n"
     ]
    }
   ],
   "source": [
    "! nvcc --version"
   ]
  }
 ],
 "metadata": {
  "kernelspec": {
   "display_name": "Python 3",
   "language": "python",
   "name": "python3"
  },
  "language_info": {
   "codemirror_mode": {
    "name": "ipython",
    "version": 3
   },
   "file_extension": ".py",
   "mimetype": "text/x-python",
   "name": "python",
   "nbconvert_exporter": "python",
   "pygments_lexer": "ipython3",
   "version": "3.9.2"
  }
 },
 "nbformat": 4,
 "nbformat_minor": 4
}
