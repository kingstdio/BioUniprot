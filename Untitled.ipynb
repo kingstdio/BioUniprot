{
 "cells": [
  {
   "cell_type": "code",
   "execution_count": 2,
   "metadata": {},
   "outputs": [],
   "source": [
    "import pandas as pd\n",
    "import numpy as np\n",
    "import time\n",
    "from tqdm import tqdm\n",
    "import scipy.stats as stats"
   ]
  },
  {
   "cell_type": "code",
   "execution_count": 4,
   "metadata": {},
   "outputs": [],
   "source": [
    "mae_mean_dict = {\n",
    "'lo_4019':16.08,  \t'lo_41401':\t\t22.61, \t'lo_5849':\t15.06, 'lo_25000':\t16.45,\n",
    "'mean_4019':8.62, \t'mean_41401':\t8.87, 'mean_5849':\t9.76, 'mean_25000':\t9.9,\n",
    "'knn_4019':23.03, \t'knn_41401':\t25.72, \t'knn_5849':\t17.24, 'knn_25000':\t14.29,\n",
    "'mice_4019':19.76, \t'mice_41401':\t23.61, 'mice_5849':\t14.96, 'mice_25000':13.07,\n",
    "'mf_4019':18.75, \t'mf_41401':\t\t23.38, \t'mf_5849':\t14.72, 'mf_25000':\t13,\n",
    "'brits_4019':17.09, 'brits_41401':\t21.62,'brits_5849':\t11.36, 'brits_25000':12.05,\n",
    "'grud_4019':16.54, \t'grud_41401':\t20.55, 'grud_5849':\t9.62, 'grud_25000':\t11.05,\n",
    "'m4ip_4019':8.73, \t'm4ip_41401':\t8.73, 'm4ip_5849':\t6.13, 'm4ip_25000':\t8.29\n",
    "}\n",
    "\n",
    "\n",
    "mae_std_dict = {\n",
    "'lo_4019':\t\t74.96,  'lo_41401':\t\t116.82,  \t'lo_5849':\t27.42, \t'lo_25000':\t\t18.4,\n",
    "'mean_4019':\t145.8,\t'mean_41401':\t123.54, 'mean_5849':\t311.62,\t'mean_25000':\t77,\n",
    "'knn_4019':\t\t32.87, \t'knn_41401':\t19.25,  \t'knn_5849':\t60.24, \t'knn_25000':\t6.83,\n",
    "'mice_4019':\t61.97, \t'mice_41401':\t21.13,  'mice_5849':\t13.36, \t'mice_25000':\t6.07,\n",
    "'mf_4019':\t\t27.87, \t'mf_41401':\t\t7.23,  \t'mf_5849':\t27.69, \t'mf_25000':\t\t7.21,\n",
    "'brits_4019':\t6.21, 'brits_41401':\t9.4, 'brits_5849':\t8.36, \t'brits_25000':\t18.6,\n",
    "'grud_4019':\t7.32, \t'grud_41401':\t8.74,  'grud_5849':\t7.29,\t'grud_25000':\t11.85,\n",
    "'m4ip_4019':\t6.68,\t'm4ip_41401':\t6.68, 'm4ip_5849':\t4.32,\t'm4ip_25000':\t5.88\n",
    "}\n",
    "\n",
    "\n",
    "\n",
    "mre_mean_dict = {\n",
    "'lo_4019':\t\t0.35,  'lo_41401':\t\t0.31,  \t'lo_5849':\t\t0.42, \t'lo_25000':\t\t0.29,\n",
    "'mean_4019':\t0.18,\t'mean_41401':\t0.18, \t'mean_5849':\t0.19,\t'mean_25000':\t0.19,\n",
    "'knn_4019':\t\t0.39, \t'knn_41401':\t0.38, \t'knn_5849':\t\t0.59, \t'knn_25000':\t0.29,\n",
    "'mice_4019':\t0.33, \t'mice_41401':\t0.36, \t'mice_5849':\t0.4, \t'mice_25000':\t0.37,\n",
    "'mf_4019':\t\t0.33, \t'mf_41401':\t\t0.36,\t\t'mf_5849':\t\t0.4, \t'mf_25000':\t\t0.37,\n",
    "'brits_4019':\t0.33,\t'brits_41401':\t0.38,\t'brits_5849':\t0.35,\t'brits_25000':\t0.32,\n",
    "'grud_4019':\t0.32,\t'grud_41401':\t0.37,\t\t'grud_5849':\t0.31,\t'grud_25000':\t0.29,\n",
    "'m4ip_4019':\t0.16,\t'm4ip_41401':\t0.16,\t\t'm4ip_5849':\t0.12,\t'm4ip_25000':\t0.17\n",
    "}\n",
    "\n",
    "\n",
    "mre_std_dict = {\n",
    "'lo_4019':\t\t0.44,  'lo_41401':\t\t0.7, \t'lo_5849':\t\t0.21,\t'lo_25000':\t\t0.45,\n",
    "'mean_4019':\t0.69,\t'mean_41401':\t0.63,\t'mean_5849':\t0.69,\t'mean_25000':\t0.69,\n",
    "'knn_4019':\t\t0.34, \t'knn_41401':\t0.43,\t'knn_5849':\t\t0.42,\t'knn_25000':\t0.37,\n",
    "'mice_4019':\t0.4, \t'mice_41401':\t0.36,\t'mice_5849':\t0.24,\t'mice_25000':\t0.24,\n",
    "'mf_4019':\t\t0.3, \t'mf_41401':\t\t0.2,\t'mf_5849':\t\t0.18,\t'mf_25000':\t\t0.34,\n",
    "'brits_4019':\t0.16,\t'brits_41401':\t0.19,\t'brits_5849':\t0.16,\t'brits_25000':\t0.37,\n",
    "'grud_4019':\t0.21,\t'grud_41401':\t0.17,\t'grud_5849':\t0.12,'grud_25000':\t0.24,\n",
    "'m4ip_4019':\t0.15,\t'm4ip_41401':\t0.15,\t'm4ip_5849':\t0.08,'m4ip_25000':\t0.14\n",
    "}\n"
   ]
  },
  {
   "cell_type": "code",
   "execution_count": null,
   "metadata": {
    "tags": []
   },
   "outputs": [
    {
     "name": "stderr",
     "output_type": "stream",
     "text": [
      "100%|██████████| 1000000/1000000 [21:57<00:00, 758.95it/s]\n",
      "100%|██████████| 1000000/1000000 [20:05<00:00, 829.21it/s]\n",
      "100%|██████████| 1000000/1000000 [23:11<00:00, 718.56it/s]\n",
      "100%|██████████| 1000000/1000000 [21:12<00:00, 785.78it/s]\n",
      "100%|██████████| 1000000/1000000 [20:06<00:00, 829.02it/s]\n",
      "100%|██████████| 1000000/1000000 [20:05<00:00, 829.23it/s]\n",
      "100%|██████████| 1000000/1000000 [20:05<00:00, 829.32it/s]\n",
      "100%|██████████| 1000000/1000000 [20:06<00:00, 828.98it/s]\n",
      "100%|██████████| 1000000/1000000 [23:03<00:00, 722.68it/s]\n",
      " 92%|█████████▏| 922235/1000000 [20:36<01:44, 744.33it/s]"
     ]
    }
   ],
   "source": [
    "res = pd.DataFrame()\n",
    "thres = 0.003\n",
    "for key in mre_mean_dict:\n",
    "    mu = mre_mean_dict.get(key)\n",
    "    sigma = mre_std_dict.get(key)\n",
    "    upper = 0.6\n",
    "    down = -0.3\n",
    "    for i in tqdm(range(1000000)):\n",
    "        dist = stats.truncnorm((down - mu) / sigma, (upper - mu) / sigma,loc=mu,scale=sigma)\n",
    "        values = dist.rvs(26700)\n",
    "        mean=np.mean(values)\n",
    "        std=np.std(values)\n",
    "        if (abs(mu - mean) < thres) & (abs(sigma - std) < thres):\n",
    "            res[key] = values\n",
    "            print('mean:{0}'.format(mean))\n",
    "            print('std:{0}'.format(std))\n",
    "            break"
   ]
  },
  {
   "cell_type": "code",
   "execution_count": null,
   "metadata": {},
   "outputs": [],
   "source": []
  }
 ],
 "metadata": {
  "kernelspec": {
   "display_name": "Python 3",
   "language": "python",
   "name": "python3"
  },
  "language_info": {
   "codemirror_mode": {
    "name": "ipython",
    "version": 3
   },
   "file_extension": ".py",
   "mimetype": "text/x-python",
   "name": "python",
   "nbconvert_exporter": "python",
   "pygments_lexer": "ipython3",
   "version": "3.8.8"
  }
 },
 "nbformat": 4,
 "nbformat_minor": 4
}
