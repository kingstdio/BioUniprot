{
 "cells": [
  {
   "cell_type": "code",
   "execution_count": 31,
   "metadata": {},
   "outputs": [],
   "source": [
    "import pandas as pd\n",
    "import numpy as np\n",
    "import time"
   ]
  },
  {
   "cell_type": "code",
   "execution_count": 10,
   "metadata": {},
   "outputs": [
    {
     "data": {
      "text/html": [
       "<div>\n",
       "<style scoped>\n",
       "    .dataframe tbody tr th:only-of-type {\n",
       "        vertical-align: middle;\n",
       "    }\n",
       "\n",
       "    .dataframe tbody tr th {\n",
       "        vertical-align: top;\n",
       "    }\n",
       "\n",
       "    .dataframe thead th {\n",
       "        text-align: right;\n",
       "    }\n",
       "</style>\n",
       "<table border=\"1\" class=\"dataframe\">\n",
       "  <thead>\n",
       "    <tr style=\"text-align: right;\">\n",
       "      <th></th>\n",
       "      <th>id</th>\n",
       "      <th>ec_number</th>\n",
       "      <th>seq</th>\n",
       "    </tr>\n",
       "  </thead>\n",
       "  <tbody>\n",
       "    <tr>\n",
       "      <th>0</th>\n",
       "      <td>Q6GZW6</td>\n",
       "      <td>3.6.4.-</td>\n",
       "      <td>MDTSPYDFLKLYPWLSRGEADKGTLLDAFPGETFEQSLASDVAMRR...</td>\n",
       "    </tr>\n",
       "    <tr>\n",
       "      <th>1</th>\n",
       "      <td>Q6GZV6</td>\n",
       "      <td>2.7.11.1</td>\n",
       "      <td>MATNYCDEFERNPTRNPRTGRTIKRGGPVFRALERECSDGAARVFP...</td>\n",
       "    </tr>\n",
       "    <tr>\n",
       "      <th>2</th>\n",
       "      <td>Q197B6</td>\n",
       "      <td>2.7.11.-</td>\n",
       "      <td>MPLSVFAEEFAEKSVKRYIGQGLWLPCNLSDYYYYQEFHDEGGYGS...</td>\n",
       "    </tr>\n",
       "  </tbody>\n",
       "</table>\n",
       "</div>"
      ],
      "text/plain": [
       "       id ec_number                                                seq\n",
       "0  Q6GZW6   3.6.4.-  MDTSPYDFLKLYPWLSRGEADKGTLLDAFPGETFEQSLASDVAMRR...\n",
       "1  Q6GZV6  2.7.11.1  MATNYCDEFERNPTRNPRTGRTIKRGGPVFRALERECSDGAARVFP...\n",
       "2  Q197B6  2.7.11.-  MPLSVFAEEFAEKSVKRYIGQGLWLPCNLSDYYYYQEFHDEGGYGS..."
      ]
     },
     "execution_count": 10,
     "metadata": {},
     "output_type": "execute_result"
    }
   ],
   "source": [
    "sprot = pd.read_csv('./data/sprot_with_ec.tsv', sep='\\t',names=['id', 'ec_number', 'seq']) #读入文件\n",
    "sprot.head(3)"
   ]
  },
  {
   "cell_type": "code",
   "execution_count": 36,
   "metadata": {},
   "outputs": [
    {
     "name": "stdout",
     "output_type": "stream",
     "text": [
      "finished use time 19.222 s\n"
     ]
    }
   ],
   "source": [
    "start =  time.process_time()\n",
    "\n",
    "counter =0\n",
    "sprot_list =[]\n",
    "for index, row in sprot.iterrows():\n",
    "#     counter +=1\n",
    "#     if counter ==5:\n",
    "#         break\n",
    "        \n",
    "    rowid = row.id\n",
    "    ec_array = row.ec_number.split(',')\n",
    "    for item in ec_array:\n",
    "        subitem = item.split('.')\n",
    "        sprot_list.append([rowid, item ,subitem[0], subitem[1], subitem[2], subitem[3]])\n",
    "end =  time.process_time()\n",
    "print('finished use time %6.3f s' % (end - start))"
   ]
  },
  {
   "cell_type": "code",
   "execution_count": 37,
   "metadata": {},
   "outputs": [
    {
     "data": {
      "text/html": [
       "<div>\n",
       "<style scoped>\n",
       "    .dataframe tbody tr th:only-of-type {\n",
       "        vertical-align: middle;\n",
       "    }\n",
       "\n",
       "    .dataframe tbody tr th {\n",
       "        vertical-align: top;\n",
       "    }\n",
       "\n",
       "    .dataframe thead th {\n",
       "        text-align: right;\n",
       "    }\n",
       "</style>\n",
       "<table border=\"1\" class=\"dataframe\">\n",
       "  <thead>\n",
       "    <tr style=\"text-align: right;\">\n",
       "      <th></th>\n",
       "      <th>0</th>\n",
       "      <th>1</th>\n",
       "      <th>2</th>\n",
       "      <th>3</th>\n",
       "      <th>4</th>\n",
       "      <th>5</th>\n",
       "    </tr>\n",
       "  </thead>\n",
       "  <tbody>\n",
       "    <tr>\n",
       "      <th>0</th>\n",
       "      <td>Q6GZW6</td>\n",
       "      <td>3.6.4.-</td>\n",
       "      <td>3</td>\n",
       "      <td>6</td>\n",
       "      <td>4</td>\n",
       "      <td>-</td>\n",
       "    </tr>\n",
       "    <tr>\n",
       "      <th>1</th>\n",
       "      <td>Q6GZV6</td>\n",
       "      <td>2.7.11.1</td>\n",
       "      <td>2</td>\n",
       "      <td>7</td>\n",
       "      <td>11</td>\n",
       "      <td>1</td>\n",
       "    </tr>\n",
       "    <tr>\n",
       "      <th>2</th>\n",
       "      <td>Q197B6</td>\n",
       "      <td>2.7.11.-</td>\n",
       "      <td>2</td>\n",
       "      <td>7</td>\n",
       "      <td>11</td>\n",
       "      <td>-</td>\n",
       "    </tr>\n",
       "    <tr>\n",
       "      <th>3</th>\n",
       "      <td>Q6GZS1</td>\n",
       "      <td>3.6.4.-</td>\n",
       "      <td>3</td>\n",
       "      <td>6</td>\n",
       "      <td>4</td>\n",
       "      <td>-</td>\n",
       "    </tr>\n",
       "    <tr>\n",
       "      <th>4</th>\n",
       "      <td>Q196Y0</td>\n",
       "      <td>3.6.1.-</td>\n",
       "      <td>3</td>\n",
       "      <td>6</td>\n",
       "      <td>1</td>\n",
       "      <td>-</td>\n",
       "    </tr>\n",
       "  </tbody>\n",
       "</table>\n",
       "</div>"
      ],
      "text/plain": [
       "        0         1  2  3   4  5\n",
       "0  Q6GZW6   3.6.4.-  3  6   4  -\n",
       "1  Q6GZV6  2.7.11.1  2  7  11  1\n",
       "2  Q197B6  2.7.11.-  2  7  11  -\n",
       "3  Q6GZS1   3.6.4.-  3  6   4  -\n",
       "4  Q196Y0   3.6.1.-  3  6   1  -"
      ]
     },
     "execution_count": 37,
     "metadata": {},
     "output_type": "execute_result"
    }
   ],
   "source": [
    "res = pd.DataFrame(sprot_list)\n",
    "res.head(5)"
   ]
  },
  {
   "cell_type": "code",
   "execution_count": 39,
   "metadata": {},
   "outputs": [],
   "source": [
    "res2 = res[1].value_counts()"
   ]
  },
  {
   "cell_type": "code",
   "execution_count": 40,
   "metadata": {},
   "outputs": [],
   "source": [
    "res2.to_excel('./data/sprot_ec_statistic.xlsx', header=True, index=True)"
   ]
  },
  {
   "cell_type": "code",
   "execution_count": 43,
   "metadata": {},
   "outputs": [
    {
     "data": {
      "text/html": [
       "<div>\n",
       "<style scoped>\n",
       "    .dataframe tbody tr th:only-of-type {\n",
       "        vertical-align: middle;\n",
       "    }\n",
       "\n",
       "    .dataframe tbody tr th {\n",
       "        vertical-align: top;\n",
       "    }\n",
       "\n",
       "    .dataframe thead th {\n",
       "        text-align: right;\n",
       "    }\n",
       "</style>\n",
       "<table border=\"1\" class=\"dataframe\">\n",
       "  <thead>\n",
       "    <tr style=\"text-align: right;\">\n",
       "      <th></th>\n",
       "      <th>id</th>\n",
       "      <th>ec_number</th>\n",
       "      <th>seq</th>\n",
       "    </tr>\n",
       "  </thead>\n",
       "  <tbody>\n",
       "  </tbody>\n",
       "</table>\n",
       "</div>"
      ],
      "text/plain": [
       "Empty DataFrame\n",
       "Columns: [id, ec_number, seq]\n",
       "Index: []"
      ]
     },
     "execution_count": 43,
     "metadata": {},
     "output_type": "execute_result"
    }
   ],
   "source": [
    "sprot[sprot.ec_number=='4.4.1.36']"
   ]
  },
  {
   "cell_type": "code",
   "execution_count": 44,
   "metadata": {},
   "outputs": [],
   "source": [
    "trembl= pd.read_csv('./data/trembl_with_ec.tsv', sep='\\t',names=['id', 'ec_number', 'seq']) #读入文件"
   ]
  },
  {
   "cell_type": "code",
   "execution_count": 45,
   "metadata": {},
   "outputs": [
    {
     "data": {
      "text/html": [
       "<div>\n",
       "<style scoped>\n",
       "    .dataframe tbody tr th:only-of-type {\n",
       "        vertical-align: middle;\n",
       "    }\n",
       "\n",
       "    .dataframe tbody tr th {\n",
       "        vertical-align: top;\n",
       "    }\n",
       "\n",
       "    .dataframe thead th {\n",
       "        text-align: right;\n",
       "    }\n",
       "</style>\n",
       "<table border=\"1\" class=\"dataframe\">\n",
       "  <thead>\n",
       "    <tr style=\"text-align: right;\">\n",
       "      <th></th>\n",
       "      <th>id</th>\n",
       "      <th>ec_number</th>\n",
       "      <th>seq</th>\n",
       "    </tr>\n",
       "  </thead>\n",
       "  <tbody>\n",
       "    <tr>\n",
       "      <th>3161147</th>\n",
       "      <td>A0A6J8AV69</td>\n",
       "      <td>4.4.1.36</td>\n",
       "      <td>MGDMPDFGKEMREKEFDLKDGVTFINHGSYGVVPLRVQEAQNRVLY...</td>\n",
       "    </tr>\n",
       "    <tr>\n",
       "      <th>3167683</th>\n",
       "      <td>A0A6J8E854</td>\n",
       "      <td>4.4.1.36</td>\n",
       "      <td>MGEMYDLPDLWGNKTEFTKLEEATTALAGFVKADAEDFVFVQNITT...</td>\n",
       "    </tr>\n",
       "    <tr>\n",
       "      <th>3168107</th>\n",
       "      <td>A0A6J8AUK5</td>\n",
       "      <td>4.4.1.36</td>\n",
       "      <td>MGDMPDFGKEMREKEFDLKDGVTFINHGSYGVVPLRVQEAQNRVLY...</td>\n",
       "    </tr>\n",
       "    <tr>\n",
       "      <th>3169425</th>\n",
       "      <td>A0A6J8BDJ8</td>\n",
       "      <td>4.4.1.36</td>\n",
       "      <td>MDSSPDLWFRKNRRIKQDEARHCIAEFVQADPDDLVFVQNTTTGVN...</td>\n",
       "    </tr>\n",
       "    <tr>\n",
       "      <th>3175237</th>\n",
       "      <td>A0A6J8AXF5</td>\n",
       "      <td>4.4.1.36</td>\n",
       "      <td>MTAIPAFGNEIKKTDFTLKDGVVFVNHGSYGVVPKRVQQAQDRIIG...</td>\n",
       "    </tr>\n",
       "  </tbody>\n",
       "</table>\n",
       "</div>"
      ],
      "text/plain": [
       "                 id ec_number  \\\n",
       "3161147  A0A6J8AV69  4.4.1.36   \n",
       "3167683  A0A6J8E854  4.4.1.36   \n",
       "3168107  A0A6J8AUK5  4.4.1.36   \n",
       "3169425  A0A6J8BDJ8  4.4.1.36   \n",
       "3175237  A0A6J8AXF5  4.4.1.36   \n",
       "\n",
       "                                                       seq  \n",
       "3161147  MGDMPDFGKEMREKEFDLKDGVTFINHGSYGVVPLRVQEAQNRVLY...  \n",
       "3167683  MGEMYDLPDLWGNKTEFTKLEEATTALAGFVKADAEDFVFVQNITT...  \n",
       "3168107  MGDMPDFGKEMREKEFDLKDGVTFINHGSYGVVPLRVQEAQNRVLY...  \n",
       "3169425  MDSSPDLWFRKNRRIKQDEARHCIAEFVQADPDDLVFVQNTTTGVN...  \n",
       "3175237  MTAIPAFGNEIKKTDFTLKDGVVFVNHGSYGVVPKRVQQAQDRIIG...  "
      ]
     },
     "execution_count": 45,
     "metadata": {},
     "output_type": "execute_result"
    }
   ],
   "source": [
    "trembl[trembl.ec_number=='4.4.1.36']"
   ]
  },
  {
   "cell_type": "code",
   "execution_count": 1,
   "metadata": {},
   "outputs": [
    {
     "ename": "ImportError",
     "evalue": "cannot import name 'cusolver' from 'jaxlib' (/home/shizhenkun/anaconda3/envs/jupyterlab-debugger/lib/python3.9/site-packages/jaxlib/__init__.py)",
     "output_type": "error",
     "traceback": [
      "\u001b[0;31m---------------------------------------------------------------------------\u001b[0m",
      "\u001b[0;31mImportError\u001b[0m                               Traceback (most recent call last)",
      "\u001b[0;32m<ipython-input-1-cb15c4215ef7>\u001b[0m in \u001b[0;36m<module>\u001b[0;34m\u001b[0m\n\u001b[0;32m----> 1\u001b[0;31m \u001b[0;32mimport\u001b[0m \u001b[0mjax\u001b[0m\u001b[0;34m\u001b[0m\u001b[0;34m\u001b[0m\u001b[0m\n\u001b[0m",
      "\u001b[0;32m~/anaconda3/envs/jupyterlab-debugger/lib/python3.9/site-packages/jax/__init__.py\u001b[0m in \u001b[0;36m<module>\u001b[0;34m\u001b[0m\n\u001b[1;32m     20\u001b[0m \u001b[0;31m# flake8: noqa: F401\u001b[0m\u001b[0;34m\u001b[0m\u001b[0;34m\u001b[0m\u001b[0;34m\u001b[0m\u001b[0m\n\u001b[1;32m     21\u001b[0m \u001b[0;32mfrom\u001b[0m \u001b[0;34m.\u001b[0m\u001b[0mconfig\u001b[0m \u001b[0;32mimport\u001b[0m \u001b[0mconfig\u001b[0m\u001b[0;34m\u001b[0m\u001b[0;34m\u001b[0m\u001b[0m\n\u001b[0;32m---> 22\u001b[0;31m from .api import (\n\u001b[0m\u001b[1;32m     23\u001b[0m   \u001b[0mad\u001b[0m\u001b[0;34m,\u001b[0m  \u001b[0;31m# TODO(phawkins): update users to avoid this.\u001b[0m\u001b[0;34m\u001b[0m\u001b[0;34m\u001b[0m\u001b[0m\n\u001b[1;32m     24\u001b[0m   \u001b[0margnums_partial\u001b[0m\u001b[0;34m,\u001b[0m  \u001b[0;31m# TODO(phawkins): update Haiku to not use this.\u001b[0m\u001b[0;34m\u001b[0m\u001b[0;34m\u001b[0m\u001b[0m\n",
      "\u001b[0;32m~/anaconda3/envs/jupyterlab-debugger/lib/python3.9/site-packages/jax/api.py\u001b[0m in \u001b[0;36m<module>\u001b[0;34m\u001b[0m\n\u001b[1;32m     35\u001b[0m \u001b[0;32mfrom\u001b[0m \u001b[0mcontextlib\u001b[0m \u001b[0;32mimport\u001b[0m \u001b[0mcontextmanager\u001b[0m\u001b[0;34m,\u001b[0m \u001b[0mExitStack\u001b[0m\u001b[0;34m\u001b[0m\u001b[0;34m\u001b[0m\u001b[0m\n\u001b[1;32m     36\u001b[0m \u001b[0;34m\u001b[0m\u001b[0m\n\u001b[0;32m---> 37\u001b[0;31m \u001b[0;32mfrom\u001b[0m \u001b[0;34m.\u001b[0m \u001b[0;32mimport\u001b[0m \u001b[0mcore\u001b[0m\u001b[0;34m\u001b[0m\u001b[0;34m\u001b[0m\u001b[0m\n\u001b[0m\u001b[1;32m     38\u001b[0m \u001b[0;32mfrom\u001b[0m \u001b[0;34m.\u001b[0m \u001b[0;32mimport\u001b[0m \u001b[0mlib\u001b[0m\u001b[0;34m\u001b[0m\u001b[0;34m\u001b[0m\u001b[0m\n\u001b[1;32m     39\u001b[0m \u001b[0;32mfrom\u001b[0m \u001b[0;34m.\u001b[0m \u001b[0;32mimport\u001b[0m \u001b[0mlinear_util\u001b[0m \u001b[0;32mas\u001b[0m \u001b[0mlu\u001b[0m\u001b[0;34m\u001b[0m\u001b[0;34m\u001b[0m\u001b[0m\n",
      "\u001b[0;32m~/anaconda3/envs/jupyterlab-debugger/lib/python3.9/site-packages/jax/core.py\u001b[0m in \u001b[0;36m<module>\u001b[0;34m\u001b[0m\n\u001b[1;32m     29\u001b[0m \u001b[0;32mimport\u001b[0m \u001b[0mnumpy\u001b[0m \u001b[0;32mas\u001b[0m \u001b[0mnp\u001b[0m\u001b[0;34m\u001b[0m\u001b[0;34m\u001b[0m\u001b[0m\n\u001b[1;32m     30\u001b[0m \u001b[0;34m\u001b[0m\u001b[0m\n\u001b[0;32m---> 31\u001b[0;31m \u001b[0;32mfrom\u001b[0m \u001b[0;34m.\u001b[0m \u001b[0;32mimport\u001b[0m \u001b[0mdtypes\u001b[0m\u001b[0;34m\u001b[0m\u001b[0;34m\u001b[0m\u001b[0m\n\u001b[0m\u001b[1;32m     32\u001b[0m \u001b[0;32mfrom\u001b[0m \u001b[0;34m.\u001b[0m\u001b[0mconfig\u001b[0m \u001b[0;32mimport\u001b[0m \u001b[0mFLAGS\u001b[0m\u001b[0;34m,\u001b[0m \u001b[0mconfig\u001b[0m\u001b[0;34m\u001b[0m\u001b[0;34m\u001b[0m\u001b[0m\n\u001b[1;32m     33\u001b[0m \u001b[0;32mfrom\u001b[0m \u001b[0;34m.\u001b[0m \u001b[0;32mimport\u001b[0m \u001b[0mlinear_util\u001b[0m \u001b[0;32mas\u001b[0m \u001b[0mlu\u001b[0m\u001b[0;34m\u001b[0m\u001b[0;34m\u001b[0m\u001b[0m\n",
      "\u001b[0;32m~/anaconda3/envs/jupyterlab-debugger/lib/python3.9/site-packages/jax/dtypes.py\u001b[0m in \u001b[0;36m<module>\u001b[0;34m\u001b[0m\n\u001b[1;32m     29\u001b[0m \u001b[0;32mfrom\u001b[0m \u001b[0;34m.\u001b[0m \u001b[0;32mimport\u001b[0m \u001b[0mutil\u001b[0m\u001b[0;34m\u001b[0m\u001b[0;34m\u001b[0m\u001b[0m\n\u001b[1;32m     30\u001b[0m \u001b[0;32mfrom\u001b[0m \u001b[0;34m.\u001b[0m\u001b[0mconfig\u001b[0m \u001b[0;32mimport\u001b[0m \u001b[0mflags\u001b[0m\u001b[0;34m\u001b[0m\u001b[0;34m\u001b[0m\u001b[0m\n\u001b[0;32m---> 31\u001b[0;31m \u001b[0;32mfrom\u001b[0m \u001b[0;34m.\u001b[0m\u001b[0mlib\u001b[0m \u001b[0;32mimport\u001b[0m \u001b[0mxla_client\u001b[0m\u001b[0;34m\u001b[0m\u001b[0;34m\u001b[0m\u001b[0m\n\u001b[0m\u001b[1;32m     32\u001b[0m \u001b[0;34m\u001b[0m\u001b[0m\n\u001b[1;32m     33\u001b[0m \u001b[0mFLAGS\u001b[0m \u001b[0;34m=\u001b[0m \u001b[0mflags\u001b[0m\u001b[0;34m.\u001b[0m\u001b[0mFLAGS\u001b[0m\u001b[0;34m\u001b[0m\u001b[0;34m\u001b[0m\u001b[0m\n",
      "\u001b[0;32m~/anaconda3/envs/jupyterlab-debugger/lib/python3.9/site-packages/jax/lib/__init__.py\u001b[0m in \u001b[0;36m<module>\u001b[0;34m\u001b[0m\n\u001b[1;32m     58\u001b[0m   \u001b[0mpytree\u001b[0m \u001b[0;34m=\u001b[0m \u001b[0mxla_client\u001b[0m\u001b[0;34m.\u001b[0m\u001b[0m_xla\u001b[0m\u001b[0;34m.\u001b[0m\u001b[0mpytree\u001b[0m\u001b[0;34m\u001b[0m\u001b[0;34m\u001b[0m\u001b[0m\n\u001b[1;32m     59\u001b[0m   \u001b[0mjax_jit\u001b[0m \u001b[0;34m=\u001b[0m \u001b[0mxla_client\u001b[0m\u001b[0;34m.\u001b[0m\u001b[0m_xla\u001b[0m\u001b[0;34m.\u001b[0m\u001b[0mjax_jit\u001b[0m\u001b[0;34m\u001b[0m\u001b[0;34m\u001b[0m\u001b[0m\n\u001b[0;32m---> 60\u001b[0;31m \u001b[0;32mfrom\u001b[0m \u001b[0mjaxlib\u001b[0m \u001b[0;32mimport\u001b[0m \u001b[0mcusolver\u001b[0m\u001b[0;34m\u001b[0m\u001b[0;34m\u001b[0m\u001b[0m\n\u001b[0m\u001b[1;32m     61\u001b[0m \u001b[0;32mtry\u001b[0m\u001b[0;34m:\u001b[0m\u001b[0;34m\u001b[0m\u001b[0;34m\u001b[0m\u001b[0m\n\u001b[1;32m     62\u001b[0m   \u001b[0;32mfrom\u001b[0m \u001b[0mjaxlib\u001b[0m \u001b[0;32mimport\u001b[0m \u001b[0mcuda_prng\u001b[0m\u001b[0;34m\u001b[0m\u001b[0;34m\u001b[0m\u001b[0m\n",
      "\u001b[0;31mImportError\u001b[0m: cannot import name 'cusolver' from 'jaxlib' (/home/shizhenkun/anaconda3/envs/jupyterlab-debugger/lib/python3.9/site-packages/jaxlib/__init__.py)"
     ]
    }
   ],
   "source": [
    "import jax"
   ]
  },
  {
   "cell_type": "code",
   "execution_count": 3,
   "metadata": {},
   "outputs": [
    {
     "ename": "ImportError",
     "evalue": "cannot import name 'cusolver' from 'jaxlib' (/home/shizhenkun/anaconda3/envs/jupyterlab-debugger/lib/python3.9/site-packages/jaxlib/__init__.py)",
     "output_type": "error",
     "traceback": [
      "\u001b[0;31m---------------------------------------------------------------------------\u001b[0m\n\u001b[0;31mImportError\u001b[0m                               Traceback (most recent call last)",
      "File \u001b[0;34m/home/shizhenkun/anaconda3/envs/jupyterlab-debugger/lib/python3.9/site-packages/IPython/core/interactiveshell.py\u001b[0m, in \u001b[0;32mrun_code\u001b[0m:\nLine \u001b[0;34m3437\u001b[0m:  exec(code_obj, \u001b[36mself\u001b[39;49;00m.user_global_ns, \u001b[36mself\u001b[39;49;00m.user_ns)\n",
      "In  \u001b[0;34m[3]\u001b[0m:\nLine \u001b[0;34m1\u001b[0m:     \u001b[34mfrom\u001b[39;49;00m \u001b[04m\u001b[36mjax_unirep\u001b[39;49;00m \u001b[34mimport\u001b[39;49;00m get_reps\n",
      "File \u001b[0;34m/home/shizhenkun/anaconda3/envs/jupyterlab-debugger/lib/python3.9/site-packages/jax_unirep/__init__.py\u001b[0m, in \u001b[0;32m<module>\u001b[0m:\nLine \u001b[0;34m1\u001b[0m:     \u001b[34mfrom\u001b[39;49;00m \u001b[04m\u001b[36m.\u001b[39;49;00m\u001b[04m\u001b[36mevotuning\u001b[39;49;00m \u001b[34mimport\u001b[39;49;00m evotune, fit\n",
      "File \u001b[0;34m/home/shizhenkun/anaconda3/envs/jupyterlab-debugger/lib/python3.9/site-packages/jax_unirep/evotuning.py\u001b[0m, in \u001b[0;32m<module>\u001b[0m:\nLine \u001b[0;34m9\u001b[0m:     \u001b[34mfrom\u001b[39;49;00m \u001b[04m\u001b[36mjax\u001b[39;49;00m \u001b[34mimport\u001b[39;49;00m grad, jit\n",
      "File \u001b[0;34m/home/shizhenkun/anaconda3/envs/jupyterlab-debugger/lib/python3.9/site-packages/jax/__init__.py\u001b[0m, in \u001b[0;32m<module>\u001b[0m:\nLine \u001b[0;34m22\u001b[0m:    \u001b[34mfrom\u001b[39;49;00m \u001b[04m\u001b[36m.\u001b[39;49;00m\u001b[04m\u001b[36mapi\u001b[39;49;00m \u001b[34mimport\u001b[39;49;00m (\n",
      "File \u001b[0;34m/home/shizhenkun/anaconda3/envs/jupyterlab-debugger/lib/python3.9/site-packages/jax/api.py\u001b[0m, in \u001b[0;32m<module>\u001b[0m:\nLine \u001b[0;34m37\u001b[0m:    \u001b[34mfrom\u001b[39;49;00m \u001b[04m\u001b[36m.\u001b[39;49;00m \u001b[34mimport\u001b[39;49;00m core\n",
      "File \u001b[0;34m/home/shizhenkun/anaconda3/envs/jupyterlab-debugger/lib/python3.9/site-packages/jax/core.py\u001b[0m, in \u001b[0;32m<module>\u001b[0m:\nLine \u001b[0;34m31\u001b[0m:    \u001b[34mfrom\u001b[39;49;00m \u001b[04m\u001b[36m.\u001b[39;49;00m \u001b[34mimport\u001b[39;49;00m dtypes\n",
      "File \u001b[0;34m/home/shizhenkun/anaconda3/envs/jupyterlab-debugger/lib/python3.9/site-packages/jax/dtypes.py\u001b[0m, in \u001b[0;32m<module>\u001b[0m:\nLine \u001b[0;34m31\u001b[0m:    \u001b[34mfrom\u001b[39;49;00m \u001b[04m\u001b[36m.\u001b[39;49;00m\u001b[04m\u001b[36mlib\u001b[39;49;00m \u001b[34mimport\u001b[39;49;00m xla_client\n",
      "File \u001b[0;34m/home/shizhenkun/anaconda3/envs/jupyterlab-debugger/lib/python3.9/site-packages/jax/lib/__init__.py\u001b[0m, in \u001b[0;32m<module>\u001b[0m:\nLine \u001b[0;34m60\u001b[0m:    \u001b[34mfrom\u001b[39;49;00m \u001b[04m\u001b[36mjaxlib\u001b[39;49;00m \u001b[34mimport\u001b[39;49;00m cusolver\n",
      "\u001b[0;31mImportError\u001b[0m: cannot import name 'cusolver' from 'jaxlib' (/home/shizhenkun/anaconda3/envs/jupyterlab-debugger/lib/python3.9/site-packages/jaxlib/__init__.py)\n\u001b[0;31m---------------------------------------------------------------------------\u001b[0m"
     ]
    }
   ],
   "source": [
    "from jax_unirep import get_reps\n",
    "\n"
   ]
  }
 ],
 "metadata": {
  "kernelspec": {
   "display_name": "Python 3",
   "language": "python",
   "name": "python3"
  },
  "language_info": {
   "codemirror_mode": {
    "name": "ipython",
    "version": 3
   },
   "file_extension": ".py",
   "mimetype": "text/x-python",
   "name": "python",
   "nbconvert_exporter": "python",
   "pygments_lexer": "ipython3",
   "version": "3.9.2"
  }
 },
 "nbformat": 4,
 "nbformat_minor": 4
}
