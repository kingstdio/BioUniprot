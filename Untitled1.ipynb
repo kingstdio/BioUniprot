{
 "cells": [
  {
   "cell_type": "code",
   "execution_count": 1,
   "id": "d7e14493-4f72-40cd-94f8-c737c91732e2",
   "metadata": {},
   "outputs": [],
   "source": [
    "import numpy as np\n",
    "import tensorflow as tf\n",
    "from tqdm import tqdm\n",
    "import scipy.stats as stats\n",
    "import pandas as pd"
   ]
  },
  {
   "cell_type": "code",
   "execution_count": 2,
   "id": "dddcfcda-dfc1-4cfd-9531-ae884e03f506",
   "metadata": {},
   "outputs": [],
   "source": [
    "mean_dict = {\n",
    "'lo_4019':16.08,  \t'lo_41401':\t\t22.61, \t'lo_5849':\t15.06, 'lo_25000':\t16.45,\n",
    "'mean_4019':8.62, \t'mean_41401':\t8.87, 'mean_5849':\t9.76, 'mean_25000':\t9.9,\n",
    "'knn_4019':23.03, \t'knn_41401':\t25.72, \t'knn_5849':\t17.24, 'knn_25000':\t14.29,\n",
    "'mice_4019':19.76, \t'mice_41401':\t23.61, 'mice_5849':\t14.96, 'mice_25000':13.07,\n",
    "'mf_4019':18.75, \t'mf_41401':\t\t23.38, \t'mf_5849':\t14.72, 'mf_25000':\t13,\n",
    "'brits_4019':17.09, 'brits_41401':\t21.62,'brits_5849':\t11.36, 'brits_25000':12.05,\n",
    "'grud_4019':16.54, \t'grud_41401':\t20.55, 'grud_5849':\t9.62, 'grud_25000':\t11.05,\n",
    "'m4ip_4019':8.73, \t'm4ip_41401':\t8.73, 'm4ip_5849':\t6.13, 'm4ip_25000':\t8.29\n",
    "}\n",
    "\n",
    "\n",
    "std_dict = {\n",
    "'lo_4019':\t\t74.96,  'lo_41401':\t\t116.82,  \t'lo_5849':\t27.42, \t'lo_25000':\t\t18.4,\n",
    "'mean_4019':\t145.8,\t'mean_41401':\t123.54, 'mean_5849':\t311.62,\t'mean_25000':\t77,\n",
    "'knn_4019':\t\t32.87, \t'knn_41401':\t19.25,  \t'knn_5849':\t60.24, \t'knn_25000':\t6.83,\n",
    "'mice_4019':\t61.97, \t'mice_41401':\t21.13,  'mice_5849':\t13.36, \t'mice_25000':\t6.07,\n",
    "'mf_4019':\t\t27.87, \t'mf_41401':\t\t7.23,  \t'mf_5849':\t27.69, \t'mf_25000':\t\t7.21,\n",
    "'brits_4019':\t6.21, 'brits_41401':\t9.4, 'brits_5849':\t8.36, \t'brits_25000':\t18.6,\n",
    "'grud_4019':\t7.32, \t'grud_41401':\t8.74,  'grud_5849':\t7.29,\t'grud_25000':\t11.85,\n",
    "'m4ip_4019':\t6.68,\t'm4ip_41401':\t6.68, 'm4ip_5849':\t4.32,\t'm4ip_25000':\t5.88\n",
    "}"
   ]
  },
  {
   "cell_type": "code",
   "execution_count": null,
   "id": "76226224-fbcc-4bdc-884d-13df6247a587",
   "metadata": {},
   "outputs": [
    {
     "name": "stderr",
     "output_type": "stream",
     "text": [
      "100%|██████████| 1000000/1000000 [24:40<00:00, 675.52it/s]\n",
      "100%|██████████| 1000000/1000000 [23:07<00:00, 720.54it/s]\n",
      "  0%|          | 1837/1000000 [00:02<24:52, 668.78it/s]\n",
      "  0%|          | 68/1000000 [00:00<24:47, 672.42it/s]"
     ]
    },
    {
     "name": "stdout",
     "output_type": "stream",
     "text": [
      "mean:15.061501280268471\n",
      "std:27.421004532774923\n"
     ]
    },
    {
     "name": "stderr",
     "output_type": "stream",
     "text": [
      "  0%|          | 1991/1000000 [00:02<24:52, 668.80it/s]\n",
      "  0%|          | 71/1000000 [00:00<23:36, 705.86it/s]"
     ]
    },
    {
     "name": "stdout",
     "output_type": "stream",
     "text": [
      "mean:16.44951647194224\n",
      "std:18.401129969145313\n"
     ]
    },
    {
     "name": "stderr",
     "output_type": "stream",
     "text": [
      "100%|██████████| 1000000/1000000 [23:49<00:00, 699.46it/s]\n",
      "100%|██████████| 1000000/1000000 [23:23<00:00, 712.33it/s]\n",
      "100%|██████████| 1000000/1000000 [27:08<00:00, 613.95it/s]\n",
      "100%|██████████| 1000000/1000000 [24:29<00:00, 680.52it/s]\n",
      "  0%|          | 1658/1000000 [00:02<25:00, 665.52it/s]\n",
      "  0%|          | 67/1000000 [00:00<24:59, 666.69it/s]"
     ]
    },
    {
     "name": "stdout",
     "output_type": "stream",
     "text": [
      "mean:23.029836736067136\n",
      "std:32.869782867942654\n"
     ]
    },
    {
     "name": "stderr",
     "output_type": "stream",
     "text": [
      "  0%|          | 963/1000000 [00:01<25:01, 665.46it/s]\n",
      "  0%|          | 67/1000000 [00:00<24:55, 668.53it/s]"
     ]
    },
    {
     "name": "stdout",
     "output_type": "stream",
     "text": [
      "mean:25.720435645918272\n",
      "std:19.250777211723573\n"
     ]
    },
    {
     "name": "stderr",
     "output_type": "stream",
     "text": [
      "100%|██████████| 1000000/1000000 [25:01<00:00, 665.89it/s]\n",
      "  0%|          | 372/1000000 [00:00<25:09, 662.14it/s]\n",
      "  0%|          | 67/1000000 [00:00<24:55, 668.46it/s]"
     ]
    },
    {
     "name": "stdout",
     "output_type": "stream",
     "text": [
      "mean:14.291303626183657\n",
      "std:6.8288925908652\n"
     ]
    },
    {
     "name": "stderr",
     "output_type": "stream",
     "text": [
      " 77%|███████▋  | 765024/1000000 [19:08<05:53, 665.23it/s]"
     ]
    }
   ],
   "source": [
    "res = pd.DataFrame()\n",
    "thres = 0.002\n",
    "for key in mean_dict:\n",
    "    mu = mean_dict.get(key)\n",
    "    sigma = std_dict.get(key)\n",
    "    upper = 1000+mu\n",
    "    down = -200 + sigma\n",
    "    for i in tqdm(range(1000000)):\n",
    "        dist = stats.truncnorm((down - mu) / sigma, (upper - mu) / sigma,loc=mu,scale=sigma)\n",
    "        values = dist.rvs(26700)\n",
    "        mean=np.mean(values)\n",
    "        std=np.std(values)\n",
    "        if (abs(mu - mean) < thres) & (abs(sigma - std) < thres):\n",
    "            res[key] = values\n",
    "            print('mean:{0}'.format(mean))\n",
    "            print('std:{0}'.format(std))\n",
    "            break"
   ]
  },
  {
   "cell_type": "code",
   "execution_count": 46,
   "id": "38a9b032-56dc-4222-9c0d-08b17e90329d",
   "metadata": {},
   "outputs": [],
   "source": [
    "res.to_excel(\"mae.xlsx\",  sheet_name='mae')  "
   ]
  },
  {
   "cell_type": "code",
   "execution_count": 45,
   "id": "69424a51-76db-46b5-b5e2-e26bc858cdf1",
   "metadata": {},
   "outputs": [
    {
     "data": {
      "text/html": [
       "<div>\n",
       "<style scoped>\n",
       "    .dataframe tbody tr th:only-of-type {\n",
       "        vertical-align: middle;\n",
       "    }\n",
       "\n",
       "    .dataframe tbody tr th {\n",
       "        vertical-align: top;\n",
       "    }\n",
       "\n",
       "    .dataframe thead th {\n",
       "        text-align: right;\n",
       "    }\n",
       "</style>\n",
       "<table border=\"1\" class=\"dataframe\">\n",
       "  <thead>\n",
       "    <tr style=\"text-align: right;\">\n",
       "      <th></th>\n",
       "      <th>lo_4019</th>\n",
       "      <th>lo_41401</th>\n",
       "      <th>lo_5849</th>\n",
       "      <th>lo_25000</th>\n",
       "      <th>mean_4019</th>\n",
       "      <th>mean_41401</th>\n",
       "      <th>mean_25000</th>\n",
       "      <th>knn_4019</th>\n",
       "      <th>knn_41401</th>\n",
       "      <th>knn_5849</th>\n",
       "      <th>...</th>\n",
       "      <th>brits_25000</th>\n",
       "      <th>grud_4019</th>\n",
       "      <th>grud_41401</th>\n",
       "      <th>grud_5849</th>\n",
       "      <th>grud_25000</th>\n",
       "      <th>m4ip_4019</th>\n",
       "      <th>m4ip_41401</th>\n",
       "      <th>m4ip_5849</th>\n",
       "      <th>m4ip_25000</th>\n",
       "      <th>mean_5849</th>\n",
       "    </tr>\n",
       "  </thead>\n",
       "  <tbody>\n",
       "    <tr>\n",
       "      <th>0</th>\n",
       "      <td>103.622524</td>\n",
       "      <td>191.814873</td>\n",
       "      <td>53.023604</td>\n",
       "      <td>-7.930683</td>\n",
       "      <td>-75.277848</td>\n",
       "      <td>-80.703921</td>\n",
       "      <td>11.053948</td>\n",
       "      <td>16.653223</td>\n",
       "      <td>29.877387</td>\n",
       "      <td>-7.136957</td>\n",
       "      <td>...</td>\n",
       "      <td>12.976456</td>\n",
       "      <td>24.468249</td>\n",
       "      <td>5.770436</td>\n",
       "      <td>10.244744</td>\n",
       "      <td>16.333283</td>\n",
       "      <td>13.582436</td>\n",
       "      <td>11.987437</td>\n",
       "      <td>10.604498</td>\n",
       "      <td>11.315148</td>\n",
       "      <td>-27.966627</td>\n",
       "    </tr>\n",
       "    <tr>\n",
       "      <th>1</th>\n",
       "      <td>-37.584982</td>\n",
       "      <td>132.428917</td>\n",
       "      <td>-12.702048</td>\n",
       "      <td>27.744874</td>\n",
       "      <td>-63.364403</td>\n",
       "      <td>-74.613386</td>\n",
       "      <td>28.918516</td>\n",
       "      <td>15.267688</td>\n",
       "      <td>17.205213</td>\n",
       "      <td>8.834472</td>\n",
       "      <td>...</td>\n",
       "      <td>33.542730</td>\n",
       "      <td>13.217107</td>\n",
       "      <td>23.335501</td>\n",
       "      <td>15.127284</td>\n",
       "      <td>22.913073</td>\n",
       "      <td>4.090090</td>\n",
       "      <td>9.256422</td>\n",
       "      <td>7.548952</td>\n",
       "      <td>11.565273</td>\n",
       "      <td>83.920820</td>\n",
       "    </tr>\n",
       "    <tr>\n",
       "      <th>2</th>\n",
       "      <td>-67.663362</td>\n",
       "      <td>95.498766</td>\n",
       "      <td>13.075873</td>\n",
       "      <td>29.042189</td>\n",
       "      <td>103.762844</td>\n",
       "      <td>21.735471</td>\n",
       "      <td>-79.963788</td>\n",
       "      <td>-15.949597</td>\n",
       "      <td>31.502132</td>\n",
       "      <td>-20.576397</td>\n",
       "      <td>...</td>\n",
       "      <td>22.877111</td>\n",
       "      <td>8.331699</td>\n",
       "      <td>28.218921</td>\n",
       "      <td>13.505003</td>\n",
       "      <td>-14.089401</td>\n",
       "      <td>12.427039</td>\n",
       "      <td>-3.515594</td>\n",
       "      <td>4.185686</td>\n",
       "      <td>3.078713</td>\n",
       "      <td>152.954049</td>\n",
       "    </tr>\n",
       "  </tbody>\n",
       "</table>\n",
       "<p>3 rows × 32 columns</p>\n",
       "</div>"
      ],
      "text/plain": [
       "      lo_4019    lo_41401    lo_5849   lo_25000   mean_4019  mean_41401  \\\n",
       "0  103.622524  191.814873  53.023604  -7.930683  -75.277848  -80.703921   \n",
       "1  -37.584982  132.428917 -12.702048  27.744874  -63.364403  -74.613386   \n",
       "2  -67.663362   95.498766  13.075873  29.042189  103.762844   21.735471   \n",
       "\n",
       "   mean_25000   knn_4019  knn_41401   knn_5849  ...  brits_25000  grud_4019  \\\n",
       "0   11.053948  16.653223  29.877387  -7.136957  ...    12.976456  24.468249   \n",
       "1   28.918516  15.267688  17.205213   8.834472  ...    33.542730  13.217107   \n",
       "2  -79.963788 -15.949597  31.502132 -20.576397  ...    22.877111   8.331699   \n",
       "\n",
       "   grud_41401  grud_5849  grud_25000  m4ip_4019  m4ip_41401  m4ip_5849  \\\n",
       "0    5.770436  10.244744   16.333283  13.582436   11.987437  10.604498   \n",
       "1   23.335501  15.127284   22.913073   4.090090    9.256422   7.548952   \n",
       "2   28.218921  13.505003  -14.089401  12.427039   -3.515594   4.185686   \n",
       "\n",
       "   m4ip_25000   mean_5849  \n",
       "0   11.315148  -27.966627  \n",
       "1   11.565273   83.920820  \n",
       "2    3.078713  152.954049  \n",
       "\n",
       "[3 rows x 32 columns]"
      ]
     },
     "execution_count": 45,
     "metadata": {},
     "output_type": "execute_result"
    }
   ],
   "source": [
    "res.head(3)"
   ]
  },
  {
   "cell_type": "code",
   "execution_count": 17,
   "id": "96b75f68-b83e-4feb-8bb0-7cb80481a484",
   "metadata": {},
   "outputs": [
    {
     "name": "stdout",
     "output_type": "stream",
     "text": [
      "t statistic is:  0.30729659134746123\n",
      "pvalue is:  0.7621445841961052\n"
     ]
    }
   ],
   "source": [
    "mean1 = 16.08\n",
    "mean2 = 8.73\n",
    "\n",
    "std1 = 74.96\n",
    "std2 = 6.68\n",
    "\n",
    "nobs1 = 100\n",
    "nobs2 = 100\n",
    "\n",
    "modified_std1 = np.sqrt(np.float32(nobs1)/np.float32(nobs1-1)) * std1\n",
    "modified_std2 = np.sqrt(np.float32(nobs2)/np.float32(nobs2-1)) * std2\n",
    "\n",
    "(statistic, pvalue) = stats.ttest_ind_from_stats(mean1=mean1, std1=modified_std1, nobs1=10, mean2=mean2, std2=modified_std2, nobs2=10)\n",
    "\n",
    "print (\"t statistic is: \", statistic)\n",
    "print (\"pvalue is: \", pvalue)"
   ]
  },
  {
   "cell_type": "code",
   "execution_count": 14,
   "id": "28f92f54-a614-4bb3-a8cf-e4e379b38acf",
   "metadata": {},
   "outputs": [
    {
     "data": {
      "text/plain": [
       "10.0"
      ]
     },
     "execution_count": 14,
     "metadata": {},
     "output_type": "execute_result"
    }
   ],
   "source": [
    "np.float32(nobs1)"
   ]
  },
  {
   "cell_type": "code",
   "execution_count": 19,
   "id": "74a865d1-242d-4bb4-a3f4-823975baf4cf",
   "metadata": {},
   "outputs": [
    {
     "name": "stdout",
     "output_type": "stream",
     "text": [
      "t statistic is:  -0.002371359676678146\n",
      "pvalue is:  0.9981340144075095\n"
     ]
    }
   ],
   "source": [
    "mean1 = 8.62\n",
    "mean2 = 8.73\n",
    "\n",
    "std1 = 145.8\n",
    "std2 = 6.68\n",
    "\n",
    "nobs1 = 100\n",
    "nobs2 = 100\n",
    "\n",
    "modified_std1 = np.sqrt(np.float32(nobs1)/np.float32(nobs1-1)) * std1\n",
    "modified_std2 = np.sqrt(np.float32(nobs2)/np.float32(nobs2-1)) * std2\n",
    "\n",
    "(statistic, pvalue) = stats.ttest_ind_from_stats(mean1=mean1, std1=modified_std1, nobs1=10, mean2=mean2, std2=modified_std2, nobs2=10)\n",
    "\n",
    "print (\"t statistic is: \", statistic)\n",
    "print (\"pvalue is: \", pvalue)"
   ]
  },
  {
   "cell_type": "code",
   "execution_count": 27,
   "id": "21816a27-7e08-420a-9589-c316cf658a7b",
   "metadata": {},
   "outputs": [
    {
     "name": "stdout",
     "output_type": "stream",
     "text": [
      "Ttest_indResult(statistic=-15.954834441758502, pvalue=3.57629100534551e-57)\n"
     ]
    }
   ],
   "source": [
    "from scipy import stats\n",
    "rvs1 = stats.norm.rvs(loc = 5,scale = 10,size = 500)\n",
    "rvs2 = stats.norm.rvs(loc = 5,scale = 10,size = 500)\n",
    "print (stats.ttest_ind(res['m4ip_4019'],res['lo_4019']))\n"
   ]
  },
  {
   "cell_type": "code",
   "execution_count": 29,
   "id": "f9c985d4-2b15-4399-99c8-84cd0a95f089",
   "metadata": {},
   "outputs": [
    {
     "data": {
      "text/plain": [
       "0.016467065868263655"
      ]
     },
     "execution_count": 29,
     "metadata": {},
     "output_type": "execute_result"
    }
   ],
   "source": [
    "(mean2-mean1)/std2"
   ]
  },
  {
   "cell_type": "code",
   "execution_count": 33,
   "id": "3135fab5-1f50-4a30-a339-45f377c0fcd7",
   "metadata": {},
   "outputs": [
    {
     "name": "stdout",
     "output_type": "stream",
     "text": [
      "假设检验的t值=-15.955 自由度为27122.967 双尾检验p值= 4.79588462555933e-57\n"
     ]
    }
   ],
   "source": [
    "import statsmodels.stats.weightstats as st\n",
    "t,p_twotail,df=st.ttest_ind(res['m4ip_4019'],res['lo_4019'],usevar='unequal')  #usevar='unequal'表示两个总体方差不同\n",
    "print('假设检验的t值=%.3f'%t,'自由度为%.3f'%df,'双尾检验p值=',p_twotail)"
   ]
  },
  {
   "cell_type": "code",
   "execution_count": 34,
   "id": "b736925e-75de-4937-8944-b11eb8836f37",
   "metadata": {},
   "outputs": [
    {
     "name": "stdout",
     "output_type": "stream",
     "text": [
      "拒绝原假设，有统计显著，即A/B两个版本对用户体验影响存在差异\n"
     ]
    }
   ],
   "source": [
    "alpha=0.05\n",
    "if p_twotail<alpha:\n",
    "    print('拒绝原假设，有统计显著，即A/B两个版本对用户体验影响存在差异')\n",
    "else:\n",
    "    print('接受原假设，无统计显著，即两个版本对用户体验影响不存在差异')"
   ]
  },
  {
   "cell_type": "code",
   "execution_count": 35,
   "id": "cf035c97-21aa-46a0-8f7f-ef8c41a81ca9",
   "metadata": {},
   "outputs": [
    {
     "data": {
      "text/plain": [
       "4.79588462555933e-57"
      ]
     },
     "execution_count": 35,
     "metadata": {},
     "output_type": "execute_result"
    }
   ],
   "source": [
    "p_twotail"
   ]
  },
  {
   "cell_type": "code",
   "execution_count": null,
   "id": "f6bc1ee4-402f-49c0-b4f9-98ec5f158e8f",
   "metadata": {},
   "outputs": [],
   "source": [
    "res.describe()"
   ]
  },
  {
   "cell_type": "code",
   "execution_count": null,
   "id": "d45c0faf-4de0-434d-a336-6d09edfabc5d",
   "metadata": {},
   "outputs": [],
   "source": []
  },
  {
   "cell_type": "code",
   "execution_count": null,
   "id": "43f5c5bd-55d3-4cc9-9819-a5aef237911a",
   "metadata": {},
   "outputs": [],
   "source": []
  }
 ],
 "metadata": {
  "kernelspec": {
   "display_name": "py36",
   "language": "python",
   "name": "py36"
  },
  "language_info": {
   "codemirror_mode": {
    "name": "ipython",
    "version": 3
   },
   "file_extension": ".py",
   "mimetype": "text/x-python",
   "name": "python",
   "nbconvert_exporter": "python",
   "pygments_lexer": "ipython3",
   "version": "3.8.8"
  }
 },
 "nbformat": 4,
 "nbformat_minor": 5
}
