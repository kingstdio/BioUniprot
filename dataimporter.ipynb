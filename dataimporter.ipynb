{
 "cells": [
  {
   "cell_type": "code",
   "execution_count": 261,
   "metadata": {},
   "outputs": [],
   "source": [
    "import pandas as pd\n",
    "import numpy as np\n",
    "import random"
   ]
  },
  {
   "cell_type": "markdown",
   "metadata": {},
   "source": [
    "## ---trembl"
   ]
  },
  {
   "cell_type": "code",
   "execution_count": 2,
   "metadata": {},
   "outputs": [],
   "source": [
    "data = pd.read_csv('./results/uniprot_trembl_ecraw_compared.tsv', sep='\\t', names=['id', 'sseqid', 'pident', 'length','mismatch','gapopen','qstart','qend','sstart','send','evalue','bitscore'])\n",
    "data.head(3)"
   ]
  },
  {
   "cell_type": "code",
   "execution_count": 3,
   "metadata": {},
   "outputs": [
    {
     "data": {
      "text/plain": [
       "(31754589, 12)"
      ]
     },
     "execution_count": 3,
     "metadata": {},
     "output_type": "execute_result"
    }
   ],
   "source": [
    "data.shape"
   ]
  },
  {
   "cell_type": "code",
   "execution_count": 75,
   "metadata": {},
   "outputs": [
    {
     "data": {
      "text/html": [
       "<div>\n",
       "<style scoped>\n",
       "    .dataframe tbody tr th:only-of-type {\n",
       "        vertical-align: middle;\n",
       "    }\n",
       "\n",
       "    .dataframe tbody tr th {\n",
       "        vertical-align: top;\n",
       "    }\n",
       "\n",
       "    .dataframe thead th {\n",
       "        text-align: right;\n",
       "    }\n",
       "</style>\n",
       "<table border=\"1\" class=\"dataframe\">\n",
       "  <thead>\n",
       "    <tr style=\"text-align: right;\">\n",
       "      <th></th>\n",
       "      <th>id</th>\n",
       "      <th>sseqid</th>\n",
       "      <th>pident</th>\n",
       "      <th>length</th>\n",
       "      <th>mismatch</th>\n",
       "      <th>gapopen</th>\n",
       "      <th>qstart</th>\n",
       "      <th>qend</th>\n",
       "      <th>sstart</th>\n",
       "      <th>send</th>\n",
       "      <th>evalue</th>\n",
       "      <th>bitscore</th>\n",
       "    </tr>\n",
       "  </thead>\n",
       "  <tbody>\n",
       "    <tr>\n",
       "      <th>0</th>\n",
       "      <td>O08452</td>\n",
       "      <td>P06278</td>\n",
       "      <td>31.8</td>\n",
       "      <td>453</td>\n",
       "      <td>226</td>\n",
       "      <td>18</td>\n",
       "      <td>4</td>\n",
       "      <td>384</td>\n",
       "      <td>5</td>\n",
       "      <td>446</td>\n",
       "      <td>4.600000e-43</td>\n",
       "      <td>161.0</td>\n",
       "    </tr>\n",
       "    <tr>\n",
       "      <th>1</th>\n",
       "      <td>H9BV67</td>\n",
       "      <td>Q58256</td>\n",
       "      <td>71.7</td>\n",
       "      <td>254</td>\n",
       "      <td>71</td>\n",
       "      <td>1</td>\n",
       "      <td>1</td>\n",
       "      <td>254</td>\n",
       "      <td>231</td>\n",
       "      <td>483</td>\n",
       "      <td>4.400000e-125</td>\n",
       "      <td>368.0</td>\n",
       "    </tr>\n",
       "    <tr>\n",
       "      <th>2</th>\n",
       "      <td>L0AQC3</td>\n",
       "      <td>Q49605</td>\n",
       "      <td>66.9</td>\n",
       "      <td>160</td>\n",
       "      <td>45</td>\n",
       "      <td>1</td>\n",
       "      <td>1</td>\n",
       "      <td>160</td>\n",
       "      <td>249</td>\n",
       "      <td>400</td>\n",
       "      <td>2.860000e-69</td>\n",
       "      <td>221.0</td>\n",
       "    </tr>\n",
       "  </tbody>\n",
       "</table>\n",
       "</div>"
      ],
      "text/plain": [
       "       id  sseqid  pident  length  mismatch  gapopen  qstart  qend  sstart  \\\n",
       "0  O08452  P06278    31.8     453       226       18       4   384       5   \n",
       "1  H9BV67  Q58256    71.7     254        71        1       1   254     231   \n",
       "2  L0AQC3  Q49605    66.9     160        45        1       1   160     249   \n",
       "\n",
       "   send         evalue  bitscore  \n",
       "0   446   4.600000e-43     161.0  \n",
       "1   483  4.400000e-125     368.0  \n",
       "2   400   2.860000e-69     221.0  "
      ]
     },
     "execution_count": 75,
     "metadata": {},
     "output_type": "execute_result"
    }
   ],
   "source": [
    "data.head(3)"
   ]
  },
  {
   "cell_type": "code",
   "execution_count": 76,
   "metadata": {},
   "outputs": [
    {
     "data": {
      "text/plain": [
       "(10864675, 12)"
      ]
     },
     "execution_count": 76,
     "metadata": {},
     "output_type": "execute_result"
    }
   ],
   "source": [
    "data1 = data[data['pident']<75.0]\n",
    "data1 = data1[data1['pident']>50]\n",
    "data1.shape"
   ]
  },
  {
   "cell_type": "code",
   "execution_count": 5,
   "metadata": {},
   "outputs": [
    {
     "data": {
      "text/html": [
       "<div>\n",
       "<style scoped>\n",
       "    .dataframe tbody tr th:only-of-type {\n",
       "        vertical-align: middle;\n",
       "    }\n",
       "\n",
       "    .dataframe tbody tr th {\n",
       "        vertical-align: top;\n",
       "    }\n",
       "\n",
       "    .dataframe thead th {\n",
       "        text-align: right;\n",
       "    }\n",
       "</style>\n",
       "<table border=\"1\" class=\"dataframe\">\n",
       "  <thead>\n",
       "    <tr style=\"text-align: right;\">\n",
       "      <th></th>\n",
       "      <th>id</th>\n",
       "      <th>description</th>\n",
       "      <th>seq</th>\n",
       "      <th>seqlength</th>\n",
       "    </tr>\n",
       "  </thead>\n",
       "  <tbody>\n",
       "    <tr>\n",
       "      <th>0</th>\n",
       "      <td>O08452</td>\n",
       "      <td>3.2.1.1</td>\n",
       "      <td>MNIKKLTPLLTLLLFFIVLASPVSAAKYLELEEGGVIMQAFYWDVP...</td>\n",
       "      <td>460</td>\n",
       "    </tr>\n",
       "    <tr>\n",
       "      <th>1</th>\n",
       "      <td>H9BV67</td>\n",
       "      <td>2.8.4.1</td>\n",
       "      <td>AMQIGMSFIGAYKMCAGEAAVADLAFAAKHAGVIQMADILPARRAR...</td>\n",
       "      <td>254</td>\n",
       "    </tr>\n",
       "    <tr>\n",
       "      <th>2</th>\n",
       "      <td>L0AQC3</td>\n",
       "      <td>2.8.4.1</td>\n",
       "      <td>AAVADLAFAAKHAGVIQMGDILPARRARGPNEPGGIKFGHFADMIQ...</td>\n",
       "      <td>160</td>\n",
       "    </tr>\n",
       "  </tbody>\n",
       "</table>\n",
       "</div>"
      ],
      "text/plain": [
       "       id description                                                seq  \\\n",
       "0  O08452     3.2.1.1  MNIKKLTPLLTLLLFFIVLASPVSAAKYLELEEGGVIMQAFYWDVP...   \n",
       "1  H9BV67     2.8.4.1  AMQIGMSFIGAYKMCAGEAAVADLAFAAKHAGVIQMADILPARRAR...   \n",
       "2  L0AQC3     2.8.4.1  AAVADLAFAAKHAGVIQMGDILPARRARGPNEPGGIKFGHFADMIQ...   \n",
       "\n",
       "   seqlength  \n",
       "0        460  \n",
       "1        254  \n",
       "2        160  "
      ]
     },
     "execution_count": 5,
     "metadata": {},
     "output_type": "execute_result"
    }
   ],
   "source": [
    "rawdata = pd.read_csv('./results/uniprot_trembl_ecraw.tsv', sep='\\t')\n",
    "rawdata['seqlength'] = rawdata['seq'].map(lambda x : len(x))\n",
    "rawdata.head(3)"
   ]
  },
  {
   "cell_type": "code",
   "execution_count": 9,
   "metadata": {},
   "outputs": [],
   "source": [
    "data2 = pd.merge(data1, rawdata, on=['id'])\n",
    "data2.head(2)"
   ]
  },
  {
   "cell_type": "code",
   "execution_count": 19,
   "metadata": {},
   "outputs": [],
   "source": [
    "data3 = data2[data2['length']/data2['seqlength']> 0.7]"
   ]
  },
  {
   "cell_type": "code",
   "execution_count": 21,
   "metadata": {},
   "outputs": [],
   "source": [
    "data3.to_csv('./results/uniprot_trembl_ec_data.tsv',index=False, sep='\\t',header=True)"
   ]
  },
  {
   "cell_type": "code",
   "execution_count": 23,
   "metadata": {},
   "outputs": [
    {
     "data": {
      "text/plain": [
       "9320"
      ]
     },
     "execution_count": 23,
     "metadata": {},
     "output_type": "execute_result"
    }
   ],
   "source": [
    "len(data3['description'].unique())"
   ]
  },
  {
   "cell_type": "code",
   "execution_count": 25,
   "metadata": {},
   "outputs": [],
   "source": [
    "data4 = pd.value_counts(data3['description'])"
   ]
  },
  {
   "cell_type": "code",
   "execution_count": 29,
   "metadata": {},
   "outputs": [],
   "source": [
    "data4.to_csv('./results/uniprot_trembl_ec_statistic.tsv',index=True, sep='\\t',header=False)"
   ]
  },
  {
   "cell_type": "code",
   "execution_count": 40,
   "metadata": {},
   "outputs": [],
   "source": [
    "data5 = data4[data4.values>=10]"
   ]
  },
  {
   "cell_type": "code",
   "execution_count": null,
   "metadata": {},
   "outputs": [],
   "source": []
  },
  {
   "cell_type": "code",
   "execution_count": 119,
   "metadata": {},
   "outputs": [
    {
     "data": {
      "text/plain": [
       "8399"
      ]
     },
     "execution_count": 119,
     "metadata": {},
     "output_type": "execute_result"
    }
   ],
   "source": [
    "aa = pd.DataFrame(trecnums)\n",
    "len(aa[0].unique())"
   ]
  },
  {
   "cell_type": "code",
   "execution_count": 122,
   "metadata": {},
   "outputs": [
    {
     "data": {
      "text/plain": [
       "(20393426, 15)"
      ]
     },
     "execution_count": 122,
     "metadata": {},
     "output_type": "execute_result"
    }
   ],
   "source": [
    "data2.shape"
   ]
  },
  {
   "cell_type": "code",
   "execution_count": null,
   "metadata": {},
   "outputs": [],
   "source": []
  },
  {
   "cell_type": "markdown",
   "metadata": {},
   "source": [
    "## ---sprot\n"
   ]
  },
  {
   "cell_type": "code",
   "execution_count": 80,
   "metadata": {},
   "outputs": [
    {
     "data": {
      "text/html": [
       "<div>\n",
       "<style scoped>\n",
       "    .dataframe tbody tr th:only-of-type {\n",
       "        vertical-align: middle;\n",
       "    }\n",
       "\n",
       "    .dataframe tbody tr th {\n",
       "        vertical-align: top;\n",
       "    }\n",
       "\n",
       "    .dataframe thead th {\n",
       "        text-align: right;\n",
       "    }\n",
       "</style>\n",
       "<table border=\"1\" class=\"dataframe\">\n",
       "  <thead>\n",
       "    <tr style=\"text-align: right;\">\n",
       "      <th></th>\n",
       "      <th>id</th>\n",
       "      <th>description</th>\n",
       "      <th>seq</th>\n",
       "      <th>seqlength</th>\n",
       "    </tr>\n",
       "  </thead>\n",
       "  <tbody>\n",
       "    <tr>\n",
       "      <th>0</th>\n",
       "      <td>Q6GZW6</td>\n",
       "      <td>3.6.4.-</td>\n",
       "      <td>MDTSPYDFLKLYPWLSRGEADKGTLLDAFPGETFEQSLASDVAMRR...</td>\n",
       "      <td>948</td>\n",
       "    </tr>\n",
       "    <tr>\n",
       "      <th>1</th>\n",
       "      <td>Q6GZV6</td>\n",
       "      <td>2.7.11.1</td>\n",
       "      <td>MATNYCDEFERNPTRNPRTGRTIKRGGPVFRALERECSDGAARVFP...</td>\n",
       "      <td>851</td>\n",
       "    </tr>\n",
       "    <tr>\n",
       "      <th>2</th>\n",
       "      <td>Q197B6</td>\n",
       "      <td>2.7.11.-</td>\n",
       "      <td>MPLSVFAEEFAEKSVKRYIGQGLWLPCNLSDYYYYQEFHDEGGYGS...</td>\n",
       "      <td>335</td>\n",
       "    </tr>\n",
       "  </tbody>\n",
       "</table>\n",
       "</div>"
      ],
      "text/plain": [
       "       id description                                                seq  \\\n",
       "0  Q6GZW6     3.6.4.-  MDTSPYDFLKLYPWLSRGEADKGTLLDAFPGETFEQSLASDVAMRR...   \n",
       "1  Q6GZV6    2.7.11.1  MATNYCDEFERNPTRNPRTGRTIKRGGPVFRALERECSDGAARVFP...   \n",
       "2  Q197B6    2.7.11.-  MPLSVFAEEFAEKSVKRYIGQGLWLPCNLSDYYYYQEFHDEGGYGS...   \n",
       "\n",
       "   seqlength  \n",
       "0        948  \n",
       "1        851  \n",
       "2        335  "
      ]
     },
     "execution_count": 80,
     "metadata": {},
     "output_type": "execute_result"
    }
   ],
   "source": [
    "sprot = pd.read_csv('./results/uniprot_sprot_ecraw.tsv', sep='\\t')\n",
    "sprot['seqlength'] = sprot['seq'].map(lambda x : len(x))\n",
    "sprot.head(3)"
   ]
  },
  {
   "cell_type": "code",
   "execution_count": 83,
   "metadata": {},
   "outputs": [
    {
     "data": {
      "text/plain": [
       "9320"
      ]
     },
     "execution_count": 83,
     "metadata": {},
     "output_type": "execute_result"
    }
   ],
   "source": [
    "len(data3['description'].unique())"
   ]
  },
  {
   "cell_type": "code",
   "execution_count": 50,
   "metadata": {},
   "outputs": [],
   "source": [
    "sprot_ec = pd.value_counts(sprot['description'])"
   ]
  },
  {
   "cell_type": "code",
   "execution_count": 52,
   "metadata": {},
   "outputs": [],
   "source": [
    "sprot_ec.to_csv('./results/uniprot_sprot_ec_statistic.tsv',index=True, sep='\\t',header=False)\n",
    "sprot_ec.head(3)"
   ]
  },
  {
   "cell_type": "code",
   "execution_count": null,
   "metadata": {},
   "outputs": [],
   "source": []
  },
  {
   "cell_type": "code",
   "execution_count": 84,
   "metadata": {},
   "outputs": [
    {
     "data": {
      "text/html": [
       "<div>\n",
       "<style scoped>\n",
       "    .dataframe tbody tr th:only-of-type {\n",
       "        vertical-align: middle;\n",
       "    }\n",
       "\n",
       "    .dataframe tbody tr th {\n",
       "        vertical-align: top;\n",
       "    }\n",
       "\n",
       "    .dataframe thead th {\n",
       "        text-align: right;\n",
       "    }\n",
       "</style>\n",
       "<table border=\"1\" class=\"dataframe\">\n",
       "  <thead>\n",
       "    <tr style=\"text-align: right;\">\n",
       "      <th></th>\n",
       "      <th>ecnumber</th>\n",
       "      <th>counts</th>\n",
       "      <th>eclength</th>\n",
       "    </tr>\n",
       "  </thead>\n",
       "  <tbody>\n",
       "    <tr>\n",
       "      <th>0</th>\n",
       "      <td>7.1.1.-</td>\n",
       "      <td>4638</td>\n",
       "      <td>7</td>\n",
       "    </tr>\n",
       "    <tr>\n",
       "      <th>1</th>\n",
       "      <td>3.1.-.-</td>\n",
       "      <td>3987</td>\n",
       "      <td>7</td>\n",
       "    </tr>\n",
       "    <tr>\n",
       "      <th>2</th>\n",
       "      <td>2.7.7.6</td>\n",
       "      <td>3947</td>\n",
       "      <td>7</td>\n",
       "    </tr>\n",
       "    <tr>\n",
       "      <th>3</th>\n",
       "      <td>2.7.11.1</td>\n",
       "      <td>2443</td>\n",
       "      <td>8</td>\n",
       "    </tr>\n",
       "    <tr>\n",
       "      <th>4</th>\n",
       "      <td>2.1.1.-</td>\n",
       "      <td>2290</td>\n",
       "      <td>7</td>\n",
       "    </tr>\n",
       "  </tbody>\n",
       "</table>\n",
       "</div>"
      ],
      "text/plain": [
       "   ecnumber counts  eclength\n",
       "0   7.1.1.-   4638         7\n",
       "1   3.1.-.-   3987         7\n",
       "2   2.7.7.6   3947         7\n",
       "3  2.7.11.1   2443         8\n",
       "4   2.1.1.-   2290         7"
      ]
     },
     "execution_count": 84,
     "metadata": {},
     "output_type": "execute_result"
    }
   ],
   "source": [
    "sprot_ec_extened = pd.DataFrame()\n",
    "sprot_ec_extened['ecnumber'] = sprot_ec.index\n",
    "sprot_ec_extened['counts'] = sprot_ec.values\n",
    "sprot_ec_extened['eclength']  = sprot_ec_extened['ecnumber'].map(lambda x : len(x))\n",
    "sprot_ec_extened.head(5)"
   ]
  },
  {
   "cell_type": "code",
   "execution_count": 85,
   "metadata": {},
   "outputs": [
    {
     "data": {
      "text/html": [
       "<div>\n",
       "<style scoped>\n",
       "    .dataframe tbody tr th:only-of-type {\n",
       "        vertical-align: middle;\n",
       "    }\n",
       "\n",
       "    .dataframe tbody tr th {\n",
       "        vertical-align: top;\n",
       "    }\n",
       "\n",
       "    .dataframe thead th {\n",
       "        text-align: right;\n",
       "    }\n",
       "</style>\n",
       "<table border=\"1\" class=\"dataframe\">\n",
       "  <thead>\n",
       "    <tr style=\"text-align: right;\">\n",
       "      <th></th>\n",
       "      <th>ecnumber</th>\n",
       "      <th>counts</th>\n",
       "      <th>eclength</th>\n",
       "    </tr>\n",
       "  </thead>\n",
       "  <tbody>\n",
       "    <tr>\n",
       "      <th>0</th>\n",
       "      <td>7.1.1.-</td>\n",
       "      <td>4638</td>\n",
       "      <td>7</td>\n",
       "    </tr>\n",
       "    <tr>\n",
       "      <th>1</th>\n",
       "      <td>3.1.-.-</td>\n",
       "      <td>3987</td>\n",
       "      <td>7</td>\n",
       "    </tr>\n",
       "    <tr>\n",
       "      <th>2</th>\n",
       "      <td>2.7.7.6</td>\n",
       "      <td>3947</td>\n",
       "      <td>7</td>\n",
       "    </tr>\n",
       "    <tr>\n",
       "      <th>3</th>\n",
       "      <td>2.7.11.1</td>\n",
       "      <td>2443</td>\n",
       "      <td>8</td>\n",
       "    </tr>\n",
       "    <tr>\n",
       "      <th>4</th>\n",
       "      <td>2.1.1.-</td>\n",
       "      <td>2290</td>\n",
       "      <td>7</td>\n",
       "    </tr>\n",
       "    <tr>\n",
       "      <th>...</th>\n",
       "      <td>...</td>\n",
       "      <td>...</td>\n",
       "      <td>...</td>\n",
       "    </tr>\n",
       "    <tr>\n",
       "      <th>6453</th>\n",
       "      <td>4.2.3.130</td>\n",
       "      <td>1</td>\n",
       "      <td>9</td>\n",
       "    </tr>\n",
       "    <tr>\n",
       "      <th>6454</th>\n",
       "      <td>4.2.2.7, 4.2.2.8</td>\n",
       "      <td>1</td>\n",
       "      <td>16</td>\n",
       "    </tr>\n",
       "    <tr>\n",
       "      <th>6455</th>\n",
       "      <td>1.1.1.51</td>\n",
       "      <td>1</td>\n",
       "      <td>8</td>\n",
       "    </tr>\n",
       "    <tr>\n",
       "      <th>6456</th>\n",
       "      <td>ecnumber</td>\n",
       "      <td>Index(['7.1.1.-', '3.1.-.-', '2.7.7.6', '2.7.1...</td>\n",
       "      <td>8</td>\n",
       "    </tr>\n",
       "    <tr>\n",
       "      <th>6457</th>\n",
       "      <td>counts</td>\n",
       "      <td>[4638, 3987, 3947, 2443, 2290, 2185, 2159, 148...</td>\n",
       "      <td>6</td>\n",
       "    </tr>\n",
       "  </tbody>\n",
       "</table>\n",
       "<p>6458 rows × 3 columns</p>\n",
       "</div>"
      ],
      "text/plain": [
       "              ecnumber                                             counts  \\\n",
       "0              7.1.1.-                                               4638   \n",
       "1              3.1.-.-                                               3987   \n",
       "2              2.7.7.6                                               3947   \n",
       "3             2.7.11.1                                               2443   \n",
       "4              2.1.1.-                                               2290   \n",
       "...                ...                                                ...   \n",
       "6453         4.2.3.130                                                  1   \n",
       "6454  4.2.2.7, 4.2.2.8                                                  1   \n",
       "6455          1.1.1.51                                                  1   \n",
       "6456          ecnumber  Index(['7.1.1.-', '3.1.-.-', '2.7.7.6', '2.7.1...   \n",
       "6457            counts  [4638, 3987, 3947, 2443, 2290, 2185, 2159, 148...   \n",
       "\n",
       "      eclength  \n",
       "0            7  \n",
       "1            7  \n",
       "2            7  \n",
       "3            8  \n",
       "4            7  \n",
       "...        ...  \n",
       "6453         9  \n",
       "6454        16  \n",
       "6455         8  \n",
       "6456         8  \n",
       "6457         6  \n",
       "\n",
       "[6458 rows x 3 columns]"
      ]
     },
     "execution_count": 85,
     "metadata": {},
     "output_type": "execute_result"
    }
   ],
   "source": [
    "sprot_ec_extened"
   ]
  },
  {
   "cell_type": "code",
   "execution_count": 87,
   "metadata": {},
   "outputs": [
    {
     "data": {
      "text/html": [
       "<div>\n",
       "<style scoped>\n",
       "    .dataframe tbody tr th:only-of-type {\n",
       "        vertical-align: middle;\n",
       "    }\n",
       "\n",
       "    .dataframe tbody tr th {\n",
       "        vertical-align: top;\n",
       "    }\n",
       "\n",
       "    .dataframe thead th {\n",
       "        text-align: right;\n",
       "    }\n",
       "</style>\n",
       "<table border=\"1\" class=\"dataframe\">\n",
       "  <thead>\n",
       "    <tr style=\"text-align: right;\">\n",
       "      <th></th>\n",
       "      <th>id</th>\n",
       "      <th>description</th>\n",
       "      <th>seq</th>\n",
       "      <th>seqlength</th>\n",
       "    </tr>\n",
       "  </thead>\n",
       "  <tbody>\n",
       "    <tr>\n",
       "      <th>0</th>\n",
       "      <td>Q6GZW6</td>\n",
       "      <td>3.6.4.-</td>\n",
       "      <td>MDTSPYDFLKLYPWLSRGEADKGTLLDAFPGETFEQSLASDVAMRR...</td>\n",
       "      <td>948</td>\n",
       "    </tr>\n",
       "    <tr>\n",
       "      <th>1</th>\n",
       "      <td>Q6GZV6</td>\n",
       "      <td>2.7.11.1</td>\n",
       "      <td>MATNYCDEFERNPTRNPRTGRTIKRGGPVFRALERECSDGAARVFP...</td>\n",
       "      <td>851</td>\n",
       "    </tr>\n",
       "    <tr>\n",
       "      <th>2</th>\n",
       "      <td>Q197B6</td>\n",
       "      <td>2.7.11.-</td>\n",
       "      <td>MPLSVFAEEFAEKSVKRYIGQGLWLPCNLSDYYYYQEFHDEGGYGS...</td>\n",
       "      <td>335</td>\n",
       "    </tr>\n",
       "  </tbody>\n",
       "</table>\n",
       "</div>"
      ],
      "text/plain": [
       "       id description                                                seq  \\\n",
       "0  Q6GZW6     3.6.4.-  MDTSPYDFLKLYPWLSRGEADKGTLLDAFPGETFEQSLASDVAMRR...   \n",
       "1  Q6GZV6    2.7.11.1  MATNYCDEFERNPTRNPRTGRTIKRGGPVFRALERECSDGAARVFP...   \n",
       "2  Q197B6    2.7.11.-  MPLSVFAEEFAEKSVKRYIGQGLWLPCNLSDYYYYQEFHDEGGYGS...   \n",
       "\n",
       "   seqlength  \n",
       "0        948  \n",
       "1        851  \n",
       "2        335  "
      ]
     },
     "execution_count": 87,
     "metadata": {},
     "output_type": "execute_result"
    }
   ],
   "source": [
    "sprot.head(3)"
   ]
  },
  {
   "cell_type": "code",
   "execution_count": 88,
   "metadata": {},
   "outputs": [
    {
     "data": {
      "text/plain": [
       "(270236, 4)"
      ]
     },
     "execution_count": 88,
     "metadata": {},
     "output_type": "execute_result"
    }
   ],
   "source": [
    "sprot.shape"
   ]
  },
  {
   "cell_type": "code",
   "execution_count": 94,
   "metadata": {},
   "outputs": [],
   "source": [
    "ecnums =[]\n",
    "ecnums.append(sprot['description'].map(lambda x : x.split(',')).values)"
   ]
  },
  {
   "cell_type": "code",
   "execution_count": 105,
   "metadata": {},
   "outputs": [],
   "source": [
    "ecnums =[]\n",
    "for i in range (len(sprot['description'])):\n",
    "    ecnums += sprot['description'][i].split(',')"
   ]
  },
  {
   "cell_type": "code",
   "execution_count": 107,
   "metadata": {},
   "outputs": [
    {
     "data": {
      "text/plain": [
       "293150"
      ]
     },
     "execution_count": 107,
     "metadata": {},
     "output_type": "execute_result"
    }
   ],
   "source": [
    "len(ecnums)"
   ]
  },
  {
   "cell_type": "code",
   "execution_count": 111,
   "metadata": {},
   "outputs": [],
   "source": [
    "aa = pd.DataFrame(ecnums)"
   ]
  },
  {
   "cell_type": "code",
   "execution_count": 116,
   "metadata": {},
   "outputs": [
    {
     "data": {
      "text/plain": [
       "6312"
      ]
     },
     "execution_count": 116,
     "metadata": {},
     "output_type": "execute_result"
    }
   ],
   "source": [
    "len(aa[0].unique())"
   ]
  },
  {
   "cell_type": "code",
   "execution_count": 129,
   "metadata": {},
   "outputs": [
    {
     "data": {
      "text/html": [
       "<div>\n",
       "<style scoped>\n",
       "    .dataframe tbody tr th:only-of-type {\n",
       "        vertical-align: middle;\n",
       "    }\n",
       "\n",
       "    .dataframe tbody tr th {\n",
       "        vertical-align: top;\n",
       "    }\n",
       "\n",
       "    .dataframe thead th {\n",
       "        text-align: right;\n",
       "    }\n",
       "</style>\n",
       "<table border=\"1\" class=\"dataframe\">\n",
       "  <thead>\n",
       "    <tr style=\"text-align: right;\">\n",
       "      <th></th>\n",
       "      <th>id</th>\n",
       "      <th>description</th>\n",
       "      <th>seq</th>\n",
       "      <th>seqlength</th>\n",
       "    </tr>\n",
       "  </thead>\n",
       "  <tbody>\n",
       "    <tr>\n",
       "      <th>135105</th>\n",
       "      <td>B9JH54</td>\n",
       "      <td>2.7.8.13</td>\n",
       "      <td>MLIWLAELSDHIHFFSTHFRFLNLFRYITFRTGGALFTSALIVFLF...</td>\n",
       "      <td>373</td>\n",
       "    </tr>\n",
       "  </tbody>\n",
       "</table>\n",
       "</div>"
      ],
      "text/plain": [
       "            id description                                                seq  \\\n",
       "135105  B9JH54    2.7.8.13  MLIWLAELSDHIHFFSTHFRFLNLFRYITFRTGGALFTSALIVFLF...   \n",
       "\n",
       "        seqlength  \n",
       "135105        373  "
      ]
     },
     "execution_count": 129,
     "metadata": {},
     "output_type": "execute_result"
    }
   ],
   "source": [
    "sprot[sprot['id']=='B9JH54']"
   ]
  },
  {
   "cell_type": "code",
   "execution_count": 130,
   "metadata": {},
   "outputs": [
    {
     "data": {
      "text/html": [
       "<div>\n",
       "<style scoped>\n",
       "    .dataframe tbody tr th:only-of-type {\n",
       "        vertical-align: middle;\n",
       "    }\n",
       "\n",
       "    .dataframe tbody tr th {\n",
       "        vertical-align: top;\n",
       "    }\n",
       "\n",
       "    .dataframe thead th {\n",
       "        text-align: right;\n",
       "    }\n",
       "</style>\n",
       "<table border=\"1\" class=\"dataframe\">\n",
       "  <thead>\n",
       "    <tr style=\"text-align: right;\">\n",
       "      <th></th>\n",
       "      <th>id</th>\n",
       "      <th>description</th>\n",
       "      <th>seq</th>\n",
       "      <th>seqlength</th>\n",
       "    </tr>\n",
       "  </thead>\n",
       "  <tbody>\n",
       "    <tr>\n",
       "      <th>135159</th>\n",
       "      <td>Q6G121</td>\n",
       "      <td>2.7.8.13</td>\n",
       "      <td>MMLFFSSLSDWFPGVSVFRYITFRTVAAMLTSGLIVFLFGPSIIAS...</td>\n",
       "      <td>356</td>\n",
       "    </tr>\n",
       "  </tbody>\n",
       "</table>\n",
       "</div>"
      ],
      "text/plain": [
       "            id description                                                seq  \\\n",
       "135159  Q6G121    2.7.8.13  MMLFFSSLSDWFPGVSVFRYITFRTVAAMLTSGLIVFLFGPSIIAS...   \n",
       "\n",
       "        seqlength  \n",
       "135159        356  "
      ]
     },
     "execution_count": 130,
     "metadata": {},
     "output_type": "execute_result"
    }
   ],
   "source": [
    "sprot[sprot['id']=='Q6G121']"
   ]
  },
  {
   "cell_type": "markdown",
   "metadata": {},
   "source": [
    "### ----------- 数据集筛选第一步"
   ]
  },
  {
   "cell_type": "code",
   "execution_count": 131,
   "metadata": {},
   "outputs": [
    {
     "data": {
      "text/html": [
       "<div>\n",
       "<style scoped>\n",
       "    .dataframe tbody tr th:only-of-type {\n",
       "        vertical-align: middle;\n",
       "    }\n",
       "\n",
       "    .dataframe tbody tr th {\n",
       "        vertical-align: top;\n",
       "    }\n",
       "\n",
       "    .dataframe thead th {\n",
       "        text-align: right;\n",
       "    }\n",
       "</style>\n",
       "<table border=\"1\" class=\"dataframe\">\n",
       "  <thead>\n",
       "    <tr style=\"text-align: right;\">\n",
       "      <th></th>\n",
       "      <th>id</th>\n",
       "      <th>sseqid</th>\n",
       "      <th>pident</th>\n",
       "      <th>length</th>\n",
       "      <th>mismatch</th>\n",
       "      <th>gapopen</th>\n",
       "      <th>qstart</th>\n",
       "      <th>qend</th>\n",
       "      <th>sstart</th>\n",
       "      <th>send</th>\n",
       "      <th>evalue</th>\n",
       "      <th>bitscore</th>\n",
       "    </tr>\n",
       "  </thead>\n",
       "  <tbody>\n",
       "    <tr>\n",
       "      <th>0</th>\n",
       "      <td>A7HH64</td>\n",
       "      <td>B8J8E5</td>\n",
       "      <td>83.2</td>\n",
       "      <td>380</td>\n",
       "      <td>64</td>\n",
       "      <td>0</td>\n",
       "      <td>1</td>\n",
       "      <td>380</td>\n",
       "      <td>1</td>\n",
       "      <td>380</td>\n",
       "      <td>1.450000e-230</td>\n",
       "      <td>634.0</td>\n",
       "    </tr>\n",
       "    <tr>\n",
       "      <th>1</th>\n",
       "      <td>B9KH29</td>\n",
       "      <td>Q0A6J9</td>\n",
       "      <td>43.7</td>\n",
       "      <td>323</td>\n",
       "      <td>170</td>\n",
       "      <td>6</td>\n",
       "      <td>22</td>\n",
       "      <td>335</td>\n",
       "      <td>36</td>\n",
       "      <td>355</td>\n",
       "      <td>9.890000e-82</td>\n",
       "      <td>254.0</td>\n",
       "    </tr>\n",
       "    <tr>\n",
       "      <th>2</th>\n",
       "      <td>Q5P9K3</td>\n",
       "      <td>Q0A6J9</td>\n",
       "      <td>43.7</td>\n",
       "      <td>323</td>\n",
       "      <td>170</td>\n",
       "      <td>6</td>\n",
       "      <td>22</td>\n",
       "      <td>335</td>\n",
       "      <td>36</td>\n",
       "      <td>355</td>\n",
       "      <td>9.890000e-82</td>\n",
       "      <td>254.0</td>\n",
       "    </tr>\n",
       "  </tbody>\n",
       "</table>\n",
       "</div>"
      ],
      "text/plain": [
       "       id  sseqid  pident  length  mismatch  gapopen  qstart  qend  sstart  \\\n",
       "0  A7HH64  B8J8E5    83.2     380        64        0       1   380       1   \n",
       "1  B9KH29  Q0A6J9    43.7     323       170        6      22   335      36   \n",
       "2  Q5P9K3  Q0A6J9    43.7     323       170        6      22   335      36   \n",
       "\n",
       "   send         evalue  bitscore  \n",
       "0   380  1.450000e-230     634.0  \n",
       "1   355   9.890000e-82     254.0  \n",
       "2   355   9.890000e-82     254.0  "
      ]
     },
     "execution_count": 131,
     "metadata": {},
     "output_type": "execute_result"
    }
   ],
   "source": [
    "data = pd.read_csv('./data/sprot_with_ec_query_results.tsv', sep='\\t', names=['id', 'sseqid', 'pident', 'length','mismatch','gapopen','qstart','qend','sstart','send','evalue','bitscore'])\n",
    "data.head(3)"
   ]
  },
  {
   "cell_type": "code",
   "execution_count": 133,
   "metadata": {},
   "outputs": [],
   "source": [
    "data2 = pd.read_csv('./data/sprot_with_ec.tsv', sep='\\t', names=['id','ec_number', 'sequence'])"
   ]
  },
  {
   "cell_type": "code",
   "execution_count": 136,
   "metadata": {},
   "outputs": [
    {
     "data": {
      "text/html": [
       "<div>\n",
       "<style scoped>\n",
       "    .dataframe tbody tr th:only-of-type {\n",
       "        vertical-align: middle;\n",
       "    }\n",
       "\n",
       "    .dataframe tbody tr th {\n",
       "        vertical-align: top;\n",
       "    }\n",
       "\n",
       "    .dataframe thead th {\n",
       "        text-align: right;\n",
       "    }\n",
       "</style>\n",
       "<table border=\"1\" class=\"dataframe\">\n",
       "  <thead>\n",
       "    <tr style=\"text-align: right;\">\n",
       "      <th></th>\n",
       "      <th>id</th>\n",
       "      <th>ec_number</th>\n",
       "      <th>sequence</th>\n",
       "      <th>seqlength</th>\n",
       "    </tr>\n",
       "  </thead>\n",
       "  <tbody>\n",
       "    <tr>\n",
       "      <th>0</th>\n",
       "      <td>Q6GZW6</td>\n",
       "      <td>3.6.4.-</td>\n",
       "      <td>MDTSPYDFLKLYPWLSRGEADKGTLLDAFPGETFEQSLASDVAMRR...</td>\n",
       "      <td>948</td>\n",
       "    </tr>\n",
       "    <tr>\n",
       "      <th>1</th>\n",
       "      <td>Q6GZV6</td>\n",
       "      <td>2.7.11.1</td>\n",
       "      <td>MATNYCDEFERNPTRNPRTGRTIKRGGPVFRALERECSDGAARVFP...</td>\n",
       "      <td>851</td>\n",
       "    </tr>\n",
       "    <tr>\n",
       "      <th>2</th>\n",
       "      <td>Q197B6</td>\n",
       "      <td>2.7.11.-</td>\n",
       "      <td>MPLSVFAEEFAEKSVKRYIGQGLWLPCNLSDYYYYQEFHDEGGYGS...</td>\n",
       "      <td>335</td>\n",
       "    </tr>\n",
       "  </tbody>\n",
       "</table>\n",
       "</div>"
      ],
      "text/plain": [
       "       id ec_number                                           sequence  \\\n",
       "0  Q6GZW6   3.6.4.-  MDTSPYDFLKLYPWLSRGEADKGTLLDAFPGETFEQSLASDVAMRR...   \n",
       "1  Q6GZV6  2.7.11.1  MATNYCDEFERNPTRNPRTGRTIKRGGPVFRALERECSDGAARVFP...   \n",
       "2  Q197B6  2.7.11.-  MPLSVFAEEFAEKSVKRYIGQGLWLPCNLSDYYYYQEFHDEGGYGS...   \n",
       "\n",
       "   seqlength  \n",
       "0        948  \n",
       "1        851  \n",
       "2        335  "
      ]
     },
     "execution_count": 136,
     "metadata": {},
     "output_type": "execute_result"
    }
   ],
   "source": [
    "data2['seqlength'] = data2['sequence'].map(lambda x : len(x))\n",
    "data2.head(3)"
   ]
  },
  {
   "cell_type": "code",
   "execution_count": 137,
   "metadata": {},
   "outputs": [
    {
     "data": {
      "text/html": [
       "<div>\n",
       "<style scoped>\n",
       "    .dataframe tbody tr th:only-of-type {\n",
       "        vertical-align: middle;\n",
       "    }\n",
       "\n",
       "    .dataframe tbody tr th {\n",
       "        vertical-align: top;\n",
       "    }\n",
       "\n",
       "    .dataframe thead th {\n",
       "        text-align: right;\n",
       "    }\n",
       "</style>\n",
       "<table border=\"1\" class=\"dataframe\">\n",
       "  <thead>\n",
       "    <tr style=\"text-align: right;\">\n",
       "      <th></th>\n",
       "      <th>id</th>\n",
       "      <th>ec_number</th>\n",
       "      <th>sequence</th>\n",
       "      <th>seqlength</th>\n",
       "      <th>sseqid</th>\n",
       "      <th>pident</th>\n",
       "      <th>length</th>\n",
       "      <th>mismatch</th>\n",
       "      <th>gapopen</th>\n",
       "      <th>qstart</th>\n",
       "      <th>qend</th>\n",
       "      <th>sstart</th>\n",
       "      <th>send</th>\n",
       "      <th>evalue</th>\n",
       "      <th>bitscore</th>\n",
       "    </tr>\n",
       "  </thead>\n",
       "  <tbody>\n",
       "    <tr>\n",
       "      <th>0</th>\n",
       "      <td>A7HH64</td>\n",
       "      <td>2.7.8.13</td>\n",
       "      <td>MLYHFLYPLSGQFGLFNVLRYPSFRIVAAGLVSLLIGLLLGPLFIE...</td>\n",
       "      <td>380</td>\n",
       "      <td>B8J8E5</td>\n",
       "      <td>83.2</td>\n",
       "      <td>380</td>\n",
       "      <td>64</td>\n",
       "      <td>0</td>\n",
       "      <td>1</td>\n",
       "      <td>380</td>\n",
       "      <td>1</td>\n",
       "      <td>380</td>\n",
       "      <td>1.450000e-230</td>\n",
       "      <td>634.0</td>\n",
       "    </tr>\n",
       "    <tr>\n",
       "      <th>1</th>\n",
       "      <td>B9KH29</td>\n",
       "      <td>2.7.8.13</td>\n",
       "      <td>MFSPIGKVAQPYFCSFLLSTILGFVIAPRTIAALKNIQKGRNPVRS...</td>\n",
       "      <td>342</td>\n",
       "      <td>Q0A6J9</td>\n",
       "      <td>43.7</td>\n",
       "      <td>323</td>\n",
       "      <td>170</td>\n",
       "      <td>6</td>\n",
       "      <td>22</td>\n",
       "      <td>335</td>\n",
       "      <td>36</td>\n",
       "      <td>355</td>\n",
       "      <td>9.890000e-82</td>\n",
       "      <td>254.0</td>\n",
       "    </tr>\n",
       "    <tr>\n",
       "      <th>2</th>\n",
       "      <td>Q5P9K3</td>\n",
       "      <td>2.7.8.13</td>\n",
       "      <td>MFSPIGKVAQPYFCSFLLSTILGFVIAPRTIAALKNIQKGRNPVRS...</td>\n",
       "      <td>342</td>\n",
       "      <td>Q0A6J9</td>\n",
       "      <td>43.7</td>\n",
       "      <td>323</td>\n",
       "      <td>170</td>\n",
       "      <td>6</td>\n",
       "      <td>22</td>\n",
       "      <td>335</td>\n",
       "      <td>36</td>\n",
       "      <td>355</td>\n",
       "      <td>9.890000e-82</td>\n",
       "      <td>254.0</td>\n",
       "    </tr>\n",
       "    <tr>\n",
       "      <th>3</th>\n",
       "      <td>B4UER8</td>\n",
       "      <td>2.7.8.13</td>\n",
       "      <td>MLYHLLYPLAYKLSLLNVLRYPSFRIVAAGLTAMVLGLLLGPIFIE...</td>\n",
       "      <td>380</td>\n",
       "      <td>B8J8E5</td>\n",
       "      <td>100.0</td>\n",
       "      <td>380</td>\n",
       "      <td>0</td>\n",
       "      <td>0</td>\n",
       "      <td>1</td>\n",
       "      <td>380</td>\n",
       "      <td>1</td>\n",
       "      <td>380</td>\n",
       "      <td>6.080000e-271</td>\n",
       "      <td>736.0</td>\n",
       "    </tr>\n",
       "    <tr>\n",
       "      <th>4</th>\n",
       "      <td>B7GGI5</td>\n",
       "      <td>2.7.8.13</td>\n",
       "      <td>MNEKVILFTAGLAFIITVVLSPIFIPFLRRLKFGQSIREEGPKSHQ...</td>\n",
       "      <td>324</td>\n",
       "      <td>A6TS64</td>\n",
       "      <td>47.4</td>\n",
       "      <td>329</td>\n",
       "      <td>157</td>\n",
       "      <td>5</td>\n",
       "      <td>1</td>\n",
       "      <td>317</td>\n",
       "      <td>2</td>\n",
       "      <td>326</td>\n",
       "      <td>1.040000e-88</td>\n",
       "      <td>270.0</td>\n",
       "    </tr>\n",
       "  </tbody>\n",
       "</table>\n",
       "</div>"
      ],
      "text/plain": [
       "       id ec_number                                           sequence  \\\n",
       "0  A7HH64  2.7.8.13  MLYHFLYPLSGQFGLFNVLRYPSFRIVAAGLVSLLIGLLLGPLFIE...   \n",
       "1  B9KH29  2.7.8.13  MFSPIGKVAQPYFCSFLLSTILGFVIAPRTIAALKNIQKGRNPVRS...   \n",
       "2  Q5P9K3  2.7.8.13  MFSPIGKVAQPYFCSFLLSTILGFVIAPRTIAALKNIQKGRNPVRS...   \n",
       "3  B4UER8  2.7.8.13  MLYHLLYPLAYKLSLLNVLRYPSFRIVAAGLTAMVLGLLLGPIFIE...   \n",
       "4  B7GGI5  2.7.8.13  MNEKVILFTAGLAFIITVVLSPIFIPFLRRLKFGQSIREEGPKSHQ...   \n",
       "\n",
       "   seqlength  sseqid  pident  length  mismatch  gapopen  qstart  qend  sstart  \\\n",
       "0        380  B8J8E5    83.2     380        64        0       1   380       1   \n",
       "1        342  Q0A6J9    43.7     323       170        6      22   335      36   \n",
       "2        342  Q0A6J9    43.7     323       170        6      22   335      36   \n",
       "3        380  B8J8E5   100.0     380         0        0       1   380       1   \n",
       "4        324  A6TS64    47.4     329       157        5       1   317       2   \n",
       "\n",
       "   send         evalue  bitscore  \n",
       "0   380  1.450000e-230     634.0  \n",
       "1   355   9.890000e-82     254.0  \n",
       "2   355   9.890000e-82     254.0  \n",
       "3   380  6.080000e-271     736.0  \n",
       "4   326   1.040000e-88     270.0  "
      ]
     },
     "execution_count": 137,
     "metadata": {},
     "output_type": "execute_result"
    }
   ],
   "source": [
    "res = pd.merge(data2,data, on=['id'], how='inner')\n",
    "res.head(5)"
   ]
  },
  {
   "cell_type": "code",
   "execution_count": 143,
   "metadata": {},
   "outputs": [
    {
     "data": {
      "text/html": [
       "<div>\n",
       "<style scoped>\n",
       "    .dataframe tbody tr th:only-of-type {\n",
       "        vertical-align: middle;\n",
       "    }\n",
       "\n",
       "    .dataframe tbody tr th {\n",
       "        vertical-align: top;\n",
       "    }\n",
       "\n",
       "    .dataframe thead th {\n",
       "        text-align: right;\n",
       "    }\n",
       "</style>\n",
       "<table border=\"1\" class=\"dataframe\">\n",
       "  <thead>\n",
       "    <tr style=\"text-align: right;\">\n",
       "      <th></th>\n",
       "      <th>id</th>\n",
       "      <th>ec_number</th>\n",
       "      <th>sequence</th>\n",
       "      <th>seqlength</th>\n",
       "      <th>sseqid</th>\n",
       "      <th>pident</th>\n",
       "      <th>length</th>\n",
       "      <th>mismatch</th>\n",
       "      <th>gapopen</th>\n",
       "      <th>qstart</th>\n",
       "      <th>qend</th>\n",
       "      <th>sstart</th>\n",
       "      <th>send</th>\n",
       "      <th>evalue</th>\n",
       "      <th>bitscore</th>\n",
       "      <th>coverage</th>\n",
       "    </tr>\n",
       "  </thead>\n",
       "  <tbody>\n",
       "    <tr>\n",
       "      <th>0</th>\n",
       "      <td>A7HH64</td>\n",
       "      <td>2.7.8.13</td>\n",
       "      <td>MLYHFLYPLSGQFGLFNVLRYPSFRIVAAGLVSLLIGLLLGPLFIE...</td>\n",
       "      <td>380</td>\n",
       "      <td>B8J8E5</td>\n",
       "      <td>83.2</td>\n",
       "      <td>380</td>\n",
       "      <td>64</td>\n",
       "      <td>0</td>\n",
       "      <td>1</td>\n",
       "      <td>380</td>\n",
       "      <td>1</td>\n",
       "      <td>380</td>\n",
       "      <td>1.450000e-230</td>\n",
       "      <td>634.0</td>\n",
       "      <td>1.000000</td>\n",
       "    </tr>\n",
       "    <tr>\n",
       "      <th>1</th>\n",
       "      <td>B9KH29</td>\n",
       "      <td>2.7.8.13</td>\n",
       "      <td>MFSPIGKVAQPYFCSFLLSTILGFVIAPRTIAALKNIQKGRNPVRS...</td>\n",
       "      <td>342</td>\n",
       "      <td>Q0A6J9</td>\n",
       "      <td>43.7</td>\n",
       "      <td>323</td>\n",
       "      <td>170</td>\n",
       "      <td>6</td>\n",
       "      <td>22</td>\n",
       "      <td>335</td>\n",
       "      <td>36</td>\n",
       "      <td>355</td>\n",
       "      <td>9.890000e-82</td>\n",
       "      <td>254.0</td>\n",
       "      <td>0.944444</td>\n",
       "    </tr>\n",
       "    <tr>\n",
       "      <th>2</th>\n",
       "      <td>Q5P9K3</td>\n",
       "      <td>2.7.8.13</td>\n",
       "      <td>MFSPIGKVAQPYFCSFLLSTILGFVIAPRTIAALKNIQKGRNPVRS...</td>\n",
       "      <td>342</td>\n",
       "      <td>Q0A6J9</td>\n",
       "      <td>43.7</td>\n",
       "      <td>323</td>\n",
       "      <td>170</td>\n",
       "      <td>6</td>\n",
       "      <td>22</td>\n",
       "      <td>335</td>\n",
       "      <td>36</td>\n",
       "      <td>355</td>\n",
       "      <td>9.890000e-82</td>\n",
       "      <td>254.0</td>\n",
       "      <td>0.944444</td>\n",
       "    </tr>\n",
       "    <tr>\n",
       "      <th>3</th>\n",
       "      <td>B4UER8</td>\n",
       "      <td>2.7.8.13</td>\n",
       "      <td>MLYHLLYPLAYKLSLLNVLRYPSFRIVAAGLTAMVLGLLLGPIFIE...</td>\n",
       "      <td>380</td>\n",
       "      <td>B8J8E5</td>\n",
       "      <td>100.0</td>\n",
       "      <td>380</td>\n",
       "      <td>0</td>\n",
       "      <td>0</td>\n",
       "      <td>1</td>\n",
       "      <td>380</td>\n",
       "      <td>1</td>\n",
       "      <td>380</td>\n",
       "      <td>6.080000e-271</td>\n",
       "      <td>736.0</td>\n",
       "      <td>1.000000</td>\n",
       "    </tr>\n",
       "    <tr>\n",
       "      <th>4</th>\n",
       "      <td>B7GGI5</td>\n",
       "      <td>2.7.8.13</td>\n",
       "      <td>MNEKVILFTAGLAFIITVVLSPIFIPFLRRLKFGQSIREEGPKSHQ...</td>\n",
       "      <td>324</td>\n",
       "      <td>A6TS64</td>\n",
       "      <td>47.4</td>\n",
       "      <td>329</td>\n",
       "      <td>157</td>\n",
       "      <td>5</td>\n",
       "      <td>1</td>\n",
       "      <td>317</td>\n",
       "      <td>2</td>\n",
       "      <td>326</td>\n",
       "      <td>1.040000e-88</td>\n",
       "      <td>270.0</td>\n",
       "      <td>1.015432</td>\n",
       "    </tr>\n",
       "  </tbody>\n",
       "</table>\n",
       "</div>"
      ],
      "text/plain": [
       "       id ec_number                                           sequence  \\\n",
       "0  A7HH64  2.7.8.13  MLYHFLYPLSGQFGLFNVLRYPSFRIVAAGLVSLLIGLLLGPLFIE...   \n",
       "1  B9KH29  2.7.8.13  MFSPIGKVAQPYFCSFLLSTILGFVIAPRTIAALKNIQKGRNPVRS...   \n",
       "2  Q5P9K3  2.7.8.13  MFSPIGKVAQPYFCSFLLSTILGFVIAPRTIAALKNIQKGRNPVRS...   \n",
       "3  B4UER8  2.7.8.13  MLYHLLYPLAYKLSLLNVLRYPSFRIVAAGLTAMVLGLLLGPIFIE...   \n",
       "4  B7GGI5  2.7.8.13  MNEKVILFTAGLAFIITVVLSPIFIPFLRRLKFGQSIREEGPKSHQ...   \n",
       "\n",
       "   seqlength  sseqid  pident  length  mismatch  gapopen  qstart  qend  sstart  \\\n",
       "0        380  B8J8E5    83.2     380        64        0       1   380       1   \n",
       "1        342  Q0A6J9    43.7     323       170        6      22   335      36   \n",
       "2        342  Q0A6J9    43.7     323       170        6      22   335      36   \n",
       "3        380  B8J8E5   100.0     380         0        0       1   380       1   \n",
       "4        324  A6TS64    47.4     329       157        5       1   317       2   \n",
       "\n",
       "   send         evalue  bitscore  coverage  \n",
       "0   380  1.450000e-230     634.0  1.000000  \n",
       "1   355   9.890000e-82     254.0  0.944444  \n",
       "2   355   9.890000e-82     254.0  0.944444  \n",
       "3   380  6.080000e-271     736.0  1.000000  \n",
       "4   326   1.040000e-88     270.0  1.015432  "
      ]
     },
     "execution_count": 143,
     "metadata": {},
     "output_type": "execute_result"
    }
   ],
   "source": [
    "res['coverage'] = res.apply(lambda x: x['length']/x['seqlength'], axis=1)\n",
    "res.head(5)"
   ]
  },
  {
   "cell_type": "code",
   "execution_count": 144,
   "metadata": {},
   "outputs": [],
   "source": [
    "cc = res"
   ]
  },
  {
   "cell_type": "code",
   "execution_count": null,
   "metadata": {},
   "outputs": [],
   "source": []
  },
  {
   "cell_type": "code",
   "execution_count": 150,
   "metadata": {},
   "outputs": [],
   "source": [
    "resArray =[]\n",
    "for i in range(len(res)):\n",
    "    aa = res[res['id']==res['sseqid'][i]]['ec_number']\n",
    "    resArray+=aa"
   ]
  },
  {
   "cell_type": "code",
   "execution_count": 194,
   "metadata": {},
   "outputs": [],
   "source": [
    "counter =0\n",
    "resArray =[]\n",
    "for i in range(len(res)):\n",
    "    mn = data2[data2['id']== res['sseqid'][i]]['ec_number'].values\n",
    "    counter+=1\n",
    "    resArray.append(mn)\n",
    "\n",
    "    \n",
    "# data[data['id']=='B8J8E5']"
   ]
  },
  {
   "cell_type": "code",
   "execution_count": 196,
   "metadata": {},
   "outputs": [
    {
     "data": {
      "text/html": [
       "<div>\n",
       "<style scoped>\n",
       "    .dataframe tbody tr th:only-of-type {\n",
       "        vertical-align: middle;\n",
       "    }\n",
       "\n",
       "    .dataframe tbody tr th {\n",
       "        vertical-align: top;\n",
       "    }\n",
       "\n",
       "    .dataframe thead th {\n",
       "        text-align: right;\n",
       "    }\n",
       "</style>\n",
       "<table border=\"1\" class=\"dataframe\">\n",
       "  <thead>\n",
       "    <tr style=\"text-align: right;\">\n",
       "      <th></th>\n",
       "      <th>id</th>\n",
       "      <th>ec_number</th>\n",
       "      <th>sequence</th>\n",
       "      <th>seqlength</th>\n",
       "      <th>sseqid</th>\n",
       "      <th>pident</th>\n",
       "      <th>length</th>\n",
       "      <th>mismatch</th>\n",
       "      <th>gapopen</th>\n",
       "      <th>qstart</th>\n",
       "      <th>qend</th>\n",
       "      <th>sstart</th>\n",
       "      <th>send</th>\n",
       "      <th>evalue</th>\n",
       "      <th>bitscore</th>\n",
       "      <th>coverage</th>\n",
       "      <th>sresults_ec</th>\n",
       "    </tr>\n",
       "  </thead>\n",
       "  <tbody>\n",
       "    <tr>\n",
       "      <th>0</th>\n",
       "      <td>A7HH64</td>\n",
       "      <td>2.7.8.13</td>\n",
       "      <td>MLYHFLYPLSGQFGLFNVLRYPSFRIVAAGLVSLLIGLLLGPLFIE...</td>\n",
       "      <td>380</td>\n",
       "      <td>B8J8E5</td>\n",
       "      <td>83.2</td>\n",
       "      <td>380</td>\n",
       "      <td>64</td>\n",
       "      <td>0</td>\n",
       "      <td>1</td>\n",
       "      <td>380</td>\n",
       "      <td>1</td>\n",
       "      <td>380</td>\n",
       "      <td>1.450000e-230</td>\n",
       "      <td>634.0</td>\n",
       "      <td>1.000000</td>\n",
       "      <td>2.7.8.13</td>\n",
       "    </tr>\n",
       "    <tr>\n",
       "      <th>1</th>\n",
       "      <td>B9KH29</td>\n",
       "      <td>2.7.8.13</td>\n",
       "      <td>MFSPIGKVAQPYFCSFLLSTILGFVIAPRTIAALKNIQKGRNPVRS...</td>\n",
       "      <td>342</td>\n",
       "      <td>Q0A6J9</td>\n",
       "      <td>43.7</td>\n",
       "      <td>323</td>\n",
       "      <td>170</td>\n",
       "      <td>6</td>\n",
       "      <td>22</td>\n",
       "      <td>335</td>\n",
       "      <td>36</td>\n",
       "      <td>355</td>\n",
       "      <td>9.890000e-82</td>\n",
       "      <td>254.0</td>\n",
       "      <td>0.944444</td>\n",
       "      <td>2.7.8.13</td>\n",
       "    </tr>\n",
       "    <tr>\n",
       "      <th>2</th>\n",
       "      <td>Q5P9K3</td>\n",
       "      <td>2.7.8.13</td>\n",
       "      <td>MFSPIGKVAQPYFCSFLLSTILGFVIAPRTIAALKNIQKGRNPVRS...</td>\n",
       "      <td>342</td>\n",
       "      <td>Q0A6J9</td>\n",
       "      <td>43.7</td>\n",
       "      <td>323</td>\n",
       "      <td>170</td>\n",
       "      <td>6</td>\n",
       "      <td>22</td>\n",
       "      <td>335</td>\n",
       "      <td>36</td>\n",
       "      <td>355</td>\n",
       "      <td>9.890000e-82</td>\n",
       "      <td>254.0</td>\n",
       "      <td>0.944444</td>\n",
       "      <td>2.7.8.13</td>\n",
       "    </tr>\n",
       "    <tr>\n",
       "      <th>3</th>\n",
       "      <td>B4UER8</td>\n",
       "      <td>2.7.8.13</td>\n",
       "      <td>MLYHLLYPLAYKLSLLNVLRYPSFRIVAAGLTAMVLGLLLGPIFIE...</td>\n",
       "      <td>380</td>\n",
       "      <td>B8J8E5</td>\n",
       "      <td>100.0</td>\n",
       "      <td>380</td>\n",
       "      <td>0</td>\n",
       "      <td>0</td>\n",
       "      <td>1</td>\n",
       "      <td>380</td>\n",
       "      <td>1</td>\n",
       "      <td>380</td>\n",
       "      <td>6.080000e-271</td>\n",
       "      <td>736.0</td>\n",
       "      <td>1.000000</td>\n",
       "      <td>2.7.8.13</td>\n",
       "    </tr>\n",
       "    <tr>\n",
       "      <th>4</th>\n",
       "      <td>B7GGI5</td>\n",
       "      <td>2.7.8.13</td>\n",
       "      <td>MNEKVILFTAGLAFIITVVLSPIFIPFLRRLKFGQSIREEGPKSHQ...</td>\n",
       "      <td>324</td>\n",
       "      <td>A6TS64</td>\n",
       "      <td>47.4</td>\n",
       "      <td>329</td>\n",
       "      <td>157</td>\n",
       "      <td>5</td>\n",
       "      <td>1</td>\n",
       "      <td>317</td>\n",
       "      <td>2</td>\n",
       "      <td>326</td>\n",
       "      <td>1.040000e-88</td>\n",
       "      <td>270.0</td>\n",
       "      <td>1.015432</td>\n",
       "      <td>2.7.8.13</td>\n",
       "    </tr>\n",
       "  </tbody>\n",
       "</table>\n",
       "</div>"
      ],
      "text/plain": [
       "       id ec_number                                           sequence  \\\n",
       "0  A7HH64  2.7.8.13  MLYHFLYPLSGQFGLFNVLRYPSFRIVAAGLVSLLIGLLLGPLFIE...   \n",
       "1  B9KH29  2.7.8.13  MFSPIGKVAQPYFCSFLLSTILGFVIAPRTIAALKNIQKGRNPVRS...   \n",
       "2  Q5P9K3  2.7.8.13  MFSPIGKVAQPYFCSFLLSTILGFVIAPRTIAALKNIQKGRNPVRS...   \n",
       "3  B4UER8  2.7.8.13  MLYHLLYPLAYKLSLLNVLRYPSFRIVAAGLTAMVLGLLLGPIFIE...   \n",
       "4  B7GGI5  2.7.8.13  MNEKVILFTAGLAFIITVVLSPIFIPFLRRLKFGQSIREEGPKSHQ...   \n",
       "\n",
       "   seqlength  sseqid  pident  length  mismatch  gapopen  qstart  qend  sstart  \\\n",
       "0        380  B8J8E5    83.2     380        64        0       1   380       1   \n",
       "1        342  Q0A6J9    43.7     323       170        6      22   335      36   \n",
       "2        342  Q0A6J9    43.7     323       170        6      22   335      36   \n",
       "3        380  B8J8E5   100.0     380         0        0       1   380       1   \n",
       "4        324  A6TS64    47.4     329       157        5       1   317       2   \n",
       "\n",
       "   send         evalue  bitscore  coverage sresults_ec  \n",
       "0   380  1.450000e-230     634.0  1.000000    2.7.8.13  \n",
       "1   355   9.890000e-82     254.0  0.944444    2.7.8.13  \n",
       "2   355   9.890000e-82     254.0  0.944444    2.7.8.13  \n",
       "3   380  6.080000e-271     736.0  1.000000    2.7.8.13  \n",
       "4   326   1.040000e-88     270.0  1.015432    2.7.8.13  "
      ]
     },
     "execution_count": 196,
     "metadata": {},
     "output_type": "execute_result"
    }
   ],
   "source": [
    "res.shape\n",
    "res['sresults_ec']=np.array(resArray)\n",
    "res.head(5)"
   ]
  },
  {
   "cell_type": "code",
   "execution_count": 202,
   "metadata": {},
   "outputs": [],
   "source": [
    "# res.to_csv('./results/sprot_ec_statistic.tsv',index=True, sep='\\t',header=True)\n",
    "\n",
    "res['iscorrect'] = res.apply(lambda x: x['ec_number'] == x['sresults_ec'], axis=1)"
   ]
  },
  {
   "cell_type": "code",
   "execution_count": 247,
   "metadata": {},
   "outputs": [
    {
     "data": {
      "text/html": [
       "<div>\n",
       "<style scoped>\n",
       "    .dataframe tbody tr th:only-of-type {\n",
       "        vertical-align: middle;\n",
       "    }\n",
       "\n",
       "    .dataframe tbody tr th {\n",
       "        vertical-align: top;\n",
       "    }\n",
       "\n",
       "    .dataframe thead th {\n",
       "        text-align: right;\n",
       "    }\n",
       "</style>\n",
       "<table border=\"1\" class=\"dataframe\">\n",
       "  <thead>\n",
       "    <tr style=\"text-align: right;\">\n",
       "      <th></th>\n",
       "      <th>id</th>\n",
       "      <th>ec_number</th>\n",
       "      <th>sequence</th>\n",
       "      <th>seqlength</th>\n",
       "      <th>sseqid</th>\n",
       "      <th>pident</th>\n",
       "      <th>length</th>\n",
       "      <th>mismatch</th>\n",
       "      <th>gapopen</th>\n",
       "      <th>qstart</th>\n",
       "      <th>qend</th>\n",
       "      <th>sstart</th>\n",
       "      <th>send</th>\n",
       "      <th>evalue</th>\n",
       "      <th>bitscore</th>\n",
       "      <th>coverage</th>\n",
       "      <th>sresults_ec</th>\n",
       "      <th>iscorrect</th>\n",
       "    </tr>\n",
       "  </thead>\n",
       "  <tbody>\n",
       "    <tr>\n",
       "      <th>0</th>\n",
       "      <td>A7HH64</td>\n",
       "      <td>2.7.8.13</td>\n",
       "      <td>MLYHFLYPLSGQFGLFNVLRYPSFRIVAAGLVSLLIGLLLGPLFIE...</td>\n",
       "      <td>380</td>\n",
       "      <td>B8J8E5</td>\n",
       "      <td>83.2</td>\n",
       "      <td>380</td>\n",
       "      <td>64</td>\n",
       "      <td>0</td>\n",
       "      <td>1</td>\n",
       "      <td>380</td>\n",
       "      <td>1</td>\n",
       "      <td>380</td>\n",
       "      <td>1.450000e-230</td>\n",
       "      <td>634.0</td>\n",
       "      <td>1.000000</td>\n",
       "      <td>2.7.8.13</td>\n",
       "      <td>True</td>\n",
       "    </tr>\n",
       "    <tr>\n",
       "      <th>1</th>\n",
       "      <td>B9KH29</td>\n",
       "      <td>2.7.8.13</td>\n",
       "      <td>MFSPIGKVAQPYFCSFLLSTILGFVIAPRTIAALKNIQKGRNPVRS...</td>\n",
       "      <td>342</td>\n",
       "      <td>Q0A6J9</td>\n",
       "      <td>43.7</td>\n",
       "      <td>323</td>\n",
       "      <td>170</td>\n",
       "      <td>6</td>\n",
       "      <td>22</td>\n",
       "      <td>335</td>\n",
       "      <td>36</td>\n",
       "      <td>355</td>\n",
       "      <td>9.890000e-82</td>\n",
       "      <td>254.0</td>\n",
       "      <td>0.944444</td>\n",
       "      <td>2.7.8.13</td>\n",
       "      <td>True</td>\n",
       "    </tr>\n",
       "    <tr>\n",
       "      <th>2</th>\n",
       "      <td>Q5P9K3</td>\n",
       "      <td>2.7.8.13</td>\n",
       "      <td>MFSPIGKVAQPYFCSFLLSTILGFVIAPRTIAALKNIQKGRNPVRS...</td>\n",
       "      <td>342</td>\n",
       "      <td>Q0A6J9</td>\n",
       "      <td>43.7</td>\n",
       "      <td>323</td>\n",
       "      <td>170</td>\n",
       "      <td>6</td>\n",
       "      <td>22</td>\n",
       "      <td>335</td>\n",
       "      <td>36</td>\n",
       "      <td>355</td>\n",
       "      <td>9.890000e-82</td>\n",
       "      <td>254.0</td>\n",
       "      <td>0.944444</td>\n",
       "      <td>2.7.8.13</td>\n",
       "      <td>True</td>\n",
       "    </tr>\n",
       "  </tbody>\n",
       "</table>\n",
       "</div>"
      ],
      "text/plain": [
       "       id ec_number                                           sequence  \\\n",
       "0  A7HH64  2.7.8.13  MLYHFLYPLSGQFGLFNVLRYPSFRIVAAGLVSLLIGLLLGPLFIE...   \n",
       "1  B9KH29  2.7.8.13  MFSPIGKVAQPYFCSFLLSTILGFVIAPRTIAALKNIQKGRNPVRS...   \n",
       "2  Q5P9K3  2.7.8.13  MFSPIGKVAQPYFCSFLLSTILGFVIAPRTIAALKNIQKGRNPVRS...   \n",
       "\n",
       "   seqlength  sseqid  pident  length  mismatch  gapopen  qstart  qend  sstart  \\\n",
       "0        380  B8J8E5    83.2     380        64        0       1   380       1   \n",
       "1        342  Q0A6J9    43.7     323       170        6      22   335      36   \n",
       "2        342  Q0A6J9    43.7     323       170        6      22   335      36   \n",
       "\n",
       "   send         evalue  bitscore  coverage sresults_ec  iscorrect  \n",
       "0   380  1.450000e-230     634.0  1.000000    2.7.8.13       True  \n",
       "1   355   9.890000e-82     254.0  0.944444    2.7.8.13       True  \n",
       "2   355   9.890000e-82     254.0  0.944444    2.7.8.13       True  "
      ]
     },
     "execution_count": 247,
     "metadata": {},
     "output_type": "execute_result"
    }
   ],
   "source": [
    "res.head(3)"
   ]
  },
  {
   "cell_type": "code",
   "execution_count": 245,
   "metadata": {},
   "outputs": [
    {
     "data": {
      "text/plain": [
       "0.273220891841362"
      ]
     },
     "execution_count": 245,
     "metadata": {},
     "output_type": "execute_result"
    }
   ],
   "source": [
    "sum(res['iscorrect'])/len(res)"
   ]
  },
  {
   "cell_type": "code",
   "execution_count": 251,
   "metadata": {},
   "outputs": [],
   "source": [
    "resArray = []\n",
    "for i in range(100):\n",
    "    a1 = res[res['pident'] >i]\n",
    "    c_num = sum(a1['iscorrect'])\n",
    "    c_len = len(a1)\n",
    "    resArray.append([c_num, c_len, ])\n"
   ]
  },
  {
   "cell_type": "code",
   "execution_count": 252,
   "metadata": {},
   "outputs": [
    {
     "data": {
      "text/html": [
       "<div>\n",
       "<style scoped>\n",
       "    .dataframe tbody tr th:only-of-type {\n",
       "        vertical-align: middle;\n",
       "    }\n",
       "\n",
       "    .dataframe tbody tr th {\n",
       "        vertical-align: top;\n",
       "    }\n",
       "\n",
       "    .dataframe thead th {\n",
       "        text-align: right;\n",
       "    }\n",
       "</style>\n",
       "<table border=\"1\" class=\"dataframe\">\n",
       "  <thead>\n",
       "    <tr style=\"text-align: right;\">\n",
       "      <th></th>\n",
       "      <th>0</th>\n",
       "      <th>1</th>\n",
       "      <th>2</th>\n",
       "    </tr>\n",
       "  </thead>\n",
       "  <tbody>\n",
       "    <tr>\n",
       "      <th>0</th>\n",
       "      <td>13737</td>\n",
       "      <td>50278</td>\n",
       "      <td>0        0.00002\n",
       "1        0.00002\n",
       "2        0.0...</td>\n",
       "    </tr>\n",
       "    <tr>\n",
       "      <th>1</th>\n",
       "      <td>13737</td>\n",
       "      <td>50278</td>\n",
       "      <td>0        0.00002\n",
       "1        0.00002\n",
       "2        0.0...</td>\n",
       "    </tr>\n",
       "    <tr>\n",
       "      <th>2</th>\n",
       "      <td>13737</td>\n",
       "      <td>50278</td>\n",
       "      <td>0        0.00002\n",
       "1        0.00002\n",
       "2        0.0...</td>\n",
       "    </tr>\n",
       "    <tr>\n",
       "      <th>3</th>\n",
       "      <td>13737</td>\n",
       "      <td>50278</td>\n",
       "      <td>0        0.00002\n",
       "1        0.00002\n",
       "2        0.0...</td>\n",
       "    </tr>\n",
       "    <tr>\n",
       "      <th>4</th>\n",
       "      <td>13737</td>\n",
       "      <td>50278</td>\n",
       "      <td>0        0.00002\n",
       "1        0.00002\n",
       "2        0.0...</td>\n",
       "    </tr>\n",
       "    <tr>\n",
       "      <th>...</th>\n",
       "      <td>...</td>\n",
       "      <td>...</td>\n",
       "      <td>...</td>\n",
       "    </tr>\n",
       "    <tr>\n",
       "      <th>95</th>\n",
       "      <td>51</td>\n",
       "      <td>85</td>\n",
       "      <td>3        0.011765\n",
       "3797     0.000000\n",
       "4814     0...</td>\n",
       "    </tr>\n",
       "    <tr>\n",
       "      <th>96</th>\n",
       "      <td>47</td>\n",
       "      <td>76</td>\n",
       "      <td>3        0.013158\n",
       "3797     0.000000\n",
       "4814     0...</td>\n",
       "    </tr>\n",
       "    <tr>\n",
       "      <th>97</th>\n",
       "      <td>34</td>\n",
       "      <td>59</td>\n",
       "      <td>3        0.016949\n",
       "3797     0.000000\n",
       "4814     0...</td>\n",
       "    </tr>\n",
       "    <tr>\n",
       "      <th>98</th>\n",
       "      <td>29</td>\n",
       "      <td>49</td>\n",
       "      <td>3        0.020408\n",
       "3797     0.000000\n",
       "4814     0...</td>\n",
       "    </tr>\n",
       "    <tr>\n",
       "      <th>99</th>\n",
       "      <td>21</td>\n",
       "      <td>36</td>\n",
       "      <td>3        0.027778\n",
       "6095     0.027778\n",
       "6434     0...</td>\n",
       "    </tr>\n",
       "  </tbody>\n",
       "</table>\n",
       "<p>100 rows × 3 columns</p>\n",
       "</div>"
      ],
      "text/plain": [
       "        0      1                                                  2\n",
       "0   13737  50278  0        0.00002\n",
       "1        0.00002\n",
       "2        0.0...\n",
       "1   13737  50278  0        0.00002\n",
       "1        0.00002\n",
       "2        0.0...\n",
       "2   13737  50278  0        0.00002\n",
       "1        0.00002\n",
       "2        0.0...\n",
       "3   13737  50278  0        0.00002\n",
       "1        0.00002\n",
       "2        0.0...\n",
       "4   13737  50278  0        0.00002\n",
       "1        0.00002\n",
       "2        0.0...\n",
       "..    ...    ...                                                ...\n",
       "95     51     85  3        0.011765\n",
       "3797     0.000000\n",
       "4814     0...\n",
       "96     47     76  3        0.013158\n",
       "3797     0.000000\n",
       "4814     0...\n",
       "97     34     59  3        0.016949\n",
       "3797     0.000000\n",
       "4814     0...\n",
       "98     29     49  3        0.020408\n",
       "3797     0.000000\n",
       "4814     0...\n",
       "99     21     36  3        0.027778\n",
       "6095     0.027778\n",
       "6434     0...\n",
       "\n",
       "[100 rows x 3 columns]"
      ]
     },
     "execution_count": 252,
     "metadata": {},
     "output_type": "execute_result"
    }
   ],
   "source": [
    "pd.DataFrame(resArray)"
   ]
  },
  {
   "cell_type": "code",
   "execution_count": 1,
   "metadata": {},
   "outputs": [
    {
     "ename": "NameError",
     "evalue": "name 'res' is not defined",
     "output_type": "error",
     "traceback": [
      "\u001b[0;31m---------------------------------------------------------------------------\u001b[0m",
      "\u001b[0;31mNameError\u001b[0m                                 Traceback (most recent call last)",
      "\u001b[0;32m<ipython-input-1-6913aee8340e>\u001b[0m in \u001b[0;36m<module>\u001b[0;34m\u001b[0m\n\u001b[0;32m----> 1\u001b[0;31m \u001b[0ma2\u001b[0m \u001b[0;34m=\u001b[0m \u001b[0mres\u001b[0m\u001b[0;34m[\u001b[0m\u001b[0;34m(\u001b[0m\u001b[0mres\u001b[0m\u001b[0;34m[\u001b[0m\u001b[0;34m'pident'\u001b[0m\u001b[0;34m]\u001b[0m \u001b[0;34m>\u001b[0m\u001b[0;36m80\u001b[0m\u001b[0;34m)\u001b[0m \u001b[0;34m&\u001b[0m \u001b[0;34m(\u001b[0m\u001b[0mres\u001b[0m\u001b[0;34m[\u001b[0m\u001b[0;34m'coverage'\u001b[0m\u001b[0;34m]\u001b[0m \u001b[0;34m>\u001b[0m\u001b[0;36m0.9\u001b[0m\u001b[0;34m)\u001b[0m\u001b[0;34m]\u001b[0m\u001b[0;34m\u001b[0m\u001b[0;34m\u001b[0m\u001b[0m\n\u001b[0m\u001b[1;32m      2\u001b[0m \u001b[0msum\u001b[0m\u001b[0;34m(\u001b[0m\u001b[0ma2\u001b[0m\u001b[0;34m[\u001b[0m\u001b[0;34m'iscorrect'\u001b[0m\u001b[0;34m]\u001b[0m\u001b[0;34m)\u001b[0m\u001b[0;34m/\u001b[0m\u001b[0mlen\u001b[0m\u001b[0;34m(\u001b[0m\u001b[0ma2\u001b[0m\u001b[0;34m)\u001b[0m\u001b[0;34m\u001b[0m\u001b[0;34m\u001b[0m\u001b[0m\n",
      "\u001b[0;31mNameError\u001b[0m: name 'res' is not defined"
     ]
    }
   ],
   "source": [
    "a2 = res[(res['pident'] >80) & (res['coverage'] >0.9)]\n",
    "sum(a2['iscorrect'])/len(a2)"
   ]
  },
  {
   "cell_type": "markdown",
   "metadata": {},
   "source": [
    "### 将sprot随机划分为两半"
   ]
  },
  {
   "cell_type": "code",
   "execution_count": 289,
   "metadata": {},
   "outputs": [],
   "source": [
    "def table_2_fasta(table, file_out):\n",
    "    file = open(file_out, 'w')\n",
    "    for index, row in table.iterrows():\n",
    "        file.write('>{0}\\n'.format(row['id']))\n",
    "        file.write('{0}\\n'.format(row['seq']))\n",
    "    file.close()\n",
    "    print('Write finished')\n",
    "       "
   ]
  },
  {
   "cell_type": "code",
   "execution_count": 288,
   "metadata": {},
   "outputs": [],
   "source": [
    "sprot = pd.read_csv('./data/sprot_with_ec.tsv', sep='\\t',names=['id', 'ec_number', 'seq']) #读入文件\n",
    "index_ref = random.sample(range(0,len(sprot)), int(len(sprot)/2))  #创建随机index\n",
    "sprot_ref = sprot.iloc[index_ref]     #筛选ref\n",
    "sprot_query = sprot.iloc[~sprot.index.isin(index_ref)] # 剩下的是Query\n",
    "table_2_fasta(sprot_ref, './data/sprot_with_ec_ref.fasta')   #写入文件ref\n",
    "table_2_fasta(sprot_query, './data/sprot_with_ec_query.fasta') #写入文件query"
   ]
  },
  {
   "cell_type": "code",
   "execution_count": null,
   "metadata": {},
   "outputs": [],
   "source": [
    "! ./diamond makedb --in ./data/sprot_with_ec_ref.fasta -d ./data/sprot_with_ec_ref.dmnd     #建库\n",
    "! ./diamond blastp -d ./data/sprot_with_ec_ref.dmnd  -q ./data/sprot_with_ec_query.fasta -o ./data/sprot_with_ec_query_result.tsv -b5 -c1 -k 1   #生成比对文件"
   ]
  },
  {
   "cell_type": "code",
   "execution_count": null,
   "metadata": {},
   "outputs": [],
   "source": []
  },
  {
   "cell_type": "code",
   "execution_count": null,
   "metadata": {},
   "outputs": [],
   "source": []
  },
  {
   "cell_type": "code",
   "execution_count": null,
   "metadata": {},
   "outputs": [],
   "source": []
  }
 ],
 "metadata": {
  "kernelspec": {
   "display_name": "Python 3",
   "language": "python",
   "name": "python3"
  },
  "language_info": {
   "codemirror_mode": {
    "name": "ipython",
    "version": 3
   },
   "file_extension": ".py",
   "mimetype": "text/x-python",
   "name": "python",
   "nbconvert_exporter": "python",
   "pygments_lexer": "ipython3",
   "version": "3.8.5"
  }
 },
 "nbformat": 4,
 "nbformat_minor": 4
}
