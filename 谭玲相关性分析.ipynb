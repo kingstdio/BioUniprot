{
 "cells": [
  {
   "cell_type": "code",
   "execution_count": 1,
   "id": "4c65c685-ce2f-439b-afff-9b7a2fe16771",
   "metadata": {},
   "outputs": [],
   "source": [
    "import pandas as pd\n",
    "import numpy as np\n"
   ]
  },
  {
   "cell_type": "code",
   "execution_count": 2,
   "id": "3be7c522-4e03-4f9d-8b18-ba26f1e145e7",
   "metadata": {},
   "outputs": [],
   "source": [
    "data = pd.read_excel('副本LC和ICP数据匹配.xlsx')"
   ]
  },
  {
   "cell_type": "code",
   "execution_count": null,
   "id": "77d60fb9-aeff-4aaa-a677-d94d447a6535",
   "metadata": {},
   "outputs": [],
   "source": []
  },
  {
   "cell_type": "code",
   "execution_count": null,
   "id": "f64915ae-9190-46ce-a29f-4aadbc1865e4",
   "metadata": {},
   "outputs": [],
   "source": []
  }
 ],
 "metadata": {
  "kernelspec": {
   "display_name": "py38",
   "language": "python",
   "name": "py38"
  },
  "language_info": {
   "codemirror_mode": {
    "name": "ipython",
    "version": 3
   },
   "file_extension": ".py",
   "mimetype": "text/x-python",
   "name": "python",
   "nbconvert_exporter": "python",
   "pygments_lexer": "ipython3",
   "version": "3.8.10"
  }
 },
 "nbformat": 4,
 "nbformat_minor": 5
}
