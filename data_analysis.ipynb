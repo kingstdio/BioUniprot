{
 "cells": [
  {
   "cell_type": "markdown",
   "metadata": {},
   "source": [
    "# 0. 导入必要的包"
   ]
  },
  {
   "cell_type": "code",
   "execution_count": 1,
   "metadata": {},
   "outputs": [],
   "source": [
    "import pandas as pd\n",
    "import numpy as np"
   ]
  },
  {
   "cell_type": "markdown",
   "metadata": {},
   "source": [
    "# 1. 定义必要的函数"
   ]
  },
  {
   "cell_type": "code",
   "execution_count": 2,
   "metadata": {},
   "outputs": [],
   "source": [
    "def calulate_distinct_EC(eclist):\n",
    "    counter =0\n",
    "    res = []\n",
    "    for item in eclist:\n",
    "        itemArray = item.split(',')\n",
    "        res+=itemArray\n",
    "    res = np.array(res, dtype=object).flatten()\n",
    "    res = np.unique(res)\n",
    "    return res\n",
    "\n",
    "def get_ec_list(ec_table):\n",
    "    ec_list = calulate_distinct_EC(ec_table.ec_number)\n",
    "    ec_list = pd.DataFrame({'ec_number':ec_list})\n",
    "\n",
    "    ec_list['c1'] = ec_list.ec_number.map(lambda x: x.split('.')[0].strip())\n",
    "    ec_list['c2'] = ec_list.ec_number.map(lambda x: x.split('.')[1].strip())\n",
    "    ec_list['c3'] = ec_list.ec_number.map(lambda x: x.split('.')[2].strip())\n",
    "    ec_list['c4'] = ec_list.ec_number.map(lambda x: x.split('.')[3].strip())\n",
    "\n",
    "    return ec_list"
   ]
  },
  {
   "cell_type": "markdown",
   "metadata": {},
   "source": [
    "# 2. Sprot\n",
    "## 2.1 加载数据"
   ]
  },
  {
   "cell_type": "code",
   "execution_count": 3,
   "metadata": {},
   "outputs": [
    {
     "data": {
      "text/html": [
       "<div>\n",
       "<style scoped>\n",
       "    .dataframe tbody tr th:only-of-type {\n",
       "        vertical-align: middle;\n",
       "    }\n",
       "\n",
       "    .dataframe tbody tr th {\n",
       "        vertical-align: top;\n",
       "    }\n",
       "\n",
       "    .dataframe thead th {\n",
       "        text-align: right;\n",
       "    }\n",
       "</style>\n",
       "<table border=\"1\" class=\"dataframe\">\n",
       "  <thead>\n",
       "    <tr style=\"text-align: right;\">\n",
       "      <th></th>\n",
       "      <th>id</th>\n",
       "      <th>ec_number</th>\n",
       "      <th>date_integraged</th>\n",
       "      <th>date_sequence_update</th>\n",
       "      <th>date_annotation_update</th>\n",
       "      <th>seq</th>\n",
       "    </tr>\n",
       "  </thead>\n",
       "  <tbody>\n",
       "    <tr>\n",
       "      <th>0</th>\n",
       "      <td>Q6GZW6</td>\n",
       "      <td>3.6.4.-</td>\n",
       "      <td>2011-06-28</td>\n",
       "      <td>2004-07-19</td>\n",
       "      <td>2020-08-12</td>\n",
       "      <td>MDTSPYDFLKLYPWLSRGEADKGTLLDAFPGETFEQSLASDVAMRR...</td>\n",
       "    </tr>\n",
       "    <tr>\n",
       "      <th>1</th>\n",
       "      <td>Q6GZV6</td>\n",
       "      <td>2.7.11.1</td>\n",
       "      <td>2011-06-28</td>\n",
       "      <td>2004-07-19</td>\n",
       "      <td>2021-02-10</td>\n",
       "      <td>MATNYCDEFERNPTRNPRTGRTIKRGGPVFRALERECSDGAARVFP...</td>\n",
       "    </tr>\n",
       "    <tr>\n",
       "      <th>2</th>\n",
       "      <td>Q197B6</td>\n",
       "      <td>2.7.11.-</td>\n",
       "      <td>2009-06-16</td>\n",
       "      <td>2006-07-11</td>\n",
       "      <td>2020-08-12</td>\n",
       "      <td>MPLSVFAEEFAEKSVKRYIGQGLWLPCNLSDYYYYQEFHDEGGYGS...</td>\n",
       "    </tr>\n",
       "  </tbody>\n",
       "</table>\n",
       "</div>"
      ],
      "text/plain": [
       "       id ec_number date_integraged date_sequence_update  \\\n",
       "0  Q6GZW6   3.6.4.-      2011-06-28           2004-07-19   \n",
       "1  Q6GZV6  2.7.11.1      2011-06-28           2004-07-19   \n",
       "2  Q197B6  2.7.11.-      2009-06-16           2006-07-11   \n",
       "\n",
       "  date_annotation_update                                                seq  \n",
       "0             2020-08-12  MDTSPYDFLKLYPWLSRGEADKGTLLDAFPGETFEQSLASDVAMRR...  \n",
       "1             2021-02-10  MATNYCDEFERNPTRNPRTGRTIKRGGPVFRALERECSDGAARVFP...  \n",
       "2             2020-08-12  MPLSVFAEEFAEKSVKRYIGQGLWLPCNLSDYYYYQEFHDEGGYGS...  "
      ]
     },
     "execution_count": 3,
     "metadata": {},
     "output_type": "execute_result"
    }
   ],
   "source": [
    "sprot = pd.read_csv('./data/sprot_with_ec.tsv', sep='\\t',names=['id', 'ec_number', 'date_integraged','date_sequence_update','date_annotation_update','seq']) #读入文件\n",
    "sprot.date_integraged = pd.to_datetime(sprot['date_integraged'])\n",
    "sprot.date_sequence_update = pd.to_datetime(sprot['date_sequence_update'])\n",
    "sprot.date_annotation_update = pd.to_datetime(sprot['date_annotation_update'])\n",
    "sprot.head(3)"
   ]
  },
  {
   "cell_type": "markdown",
   "metadata": {},
   "source": [
    "## 2.2 统计独立的EC号， 并拆分等级"
   ]
  },
  {
   "cell_type": "code",
   "execution_count": 4,
   "metadata": {},
   "outputs": [
    {
     "data": {
      "text/html": [
       "<div>\n",
       "<style scoped>\n",
       "    .dataframe tbody tr th:only-of-type {\n",
       "        vertical-align: middle;\n",
       "    }\n",
       "\n",
       "    .dataframe tbody tr th {\n",
       "        vertical-align: top;\n",
       "    }\n",
       "\n",
       "    .dataframe thead th {\n",
       "        text-align: right;\n",
       "    }\n",
       "</style>\n",
       "<table border=\"1\" class=\"dataframe\">\n",
       "  <thead>\n",
       "    <tr style=\"text-align: right;\">\n",
       "      <th></th>\n",
       "      <th>ec_number</th>\n",
       "      <th>c1</th>\n",
       "      <th>c2</th>\n",
       "      <th>c3</th>\n",
       "      <th>c4</th>\n",
       "    </tr>\n",
       "  </thead>\n",
       "  <tbody>\n",
       "    <tr>\n",
       "      <th>0</th>\n",
       "      <td>1.-.-.-</td>\n",
       "      <td>1</td>\n",
       "      <td>-</td>\n",
       "      <td>-</td>\n",
       "      <td>-</td>\n",
       "    </tr>\n",
       "    <tr>\n",
       "      <th>1</th>\n",
       "      <td>1.1.1.</td>\n",
       "      <td>1</td>\n",
       "      <td>1</td>\n",
       "      <td>1</td>\n",
       "      <td></td>\n",
       "    </tr>\n",
       "    <tr>\n",
       "      <th>2</th>\n",
       "      <td>1.1.1.-</td>\n",
       "      <td>1</td>\n",
       "      <td>1</td>\n",
       "      <td>1</td>\n",
       "      <td>-</td>\n",
       "    </tr>\n",
       "  </tbody>\n",
       "</table>\n",
       "</div>"
      ],
      "text/plain": [
       "  ec_number c1 c2 c3 c4\n",
       "0   1.-.-.-  1  -  -  -\n",
       "1    1.1.1.  1  1  1   \n",
       "2   1.1.1.-  1  1  1  -"
      ]
     },
     "execution_count": 4,
     "metadata": {},
     "output_type": "execute_result"
    }
   ],
   "source": [
    "ec_list = get_ec_list(sprot)\n",
    "ec_list.head(3)"
   ]
  },
  {
   "cell_type": "markdown",
   "metadata": {},
   "source": [
    "## 2.3 统计每一级的EC号"
   ]
  },
  {
   "cell_type": "code",
   "execution_count": 5,
   "metadata": {},
   "outputs": [
    {
     "name": "stdout",
     "output_type": "stream",
     "text": [
      "Level 1 EC: 7 个\n",
      "Level 2 EC: 25 个\n",
      "Level 3 EC: 32 个\n",
      "Level 4 EC: 417 个\n"
     ]
    }
   ],
   "source": [
    "L1 = ec_list['c1'].value_counts().sort_index()\n",
    "L2 = ec_list['c2'].value_counts().sort_index()\n",
    "L3 = ec_list['c3'].value_counts().sort_index()\n",
    "L4 = ec_list['c4'].value_counts().sort_index()\n",
    "print('Level 1 EC: {0} 个'.format(len(L1)))\n",
    "print('Level 2 EC: {0} 个'.format(len(L2)))\n",
    "print('Level 3 EC: {0} 个'.format(len(L3)))\n",
    "print('Level 4 EC: {0} 个'.format(len(L4)))"
   ]
  },
  {
   "cell_type": "code",
   "execution_count": 6,
   "metadata": {},
   "outputs": [
    {
     "name": "stdout",
     "output_type": "stream",
     "text": [
      "Sprot 共有：「6312」个独立的EC NUMBER.\n",
      "Sprot 共有：「6005」个不含未知项的EC NUMBER.\n"
     ]
    }
   ],
   "source": [
    "sprot_ec_konwn = ec_list[(ec_list.c1 !='-') & (ec_list.c2 !='-') & (ec_list.c3!='-') & (ec_list.c4!='-')]\n",
    "print('Sprot 共有：「{0}」个独立的EC NUMBER.'.format(ec_list.shape[0]))\n",
    "print('Sprot 共有：「{0}」个不含未知项的EC NUMBER.'.format(sprot_ec_konwn.shape[0]))"
   ]
  },
  {
   "cell_type": "markdown",
   "metadata": {},
   "source": [
    "## 2.4 将不含未知项EC号的数据保存"
   ]
  },
  {
   "cell_type": "code",
   "execution_count": 7,
   "metadata": {},
   "outputs": [],
   "source": [
    "sprot_full_ec = sprot[~sprot['ec_number'].str.contains('-')]\n",
    "sprot_full_ec.to_csv('./data/sprot_full_ec.tsv',index=False, sep='\\t',header=0)"
   ]
  },
  {
   "cell_type": "markdown",
   "metadata": {},
   "source": [
    "# 3. Trembl"
   ]
  },
  {
   "cell_type": "code",
   "execution_count": 11,
   "metadata": {},
   "outputs": [
    {
     "data": {
      "text/html": [
       "<div>\n",
       "<style scoped>\n",
       "    .dataframe tbody tr th:only-of-type {\n",
       "        vertical-align: middle;\n",
       "    }\n",
       "\n",
       "    .dataframe tbody tr th {\n",
       "        vertical-align: top;\n",
       "    }\n",
       "\n",
       "    .dataframe thead th {\n",
       "        text-align: right;\n",
       "    }\n",
       "</style>\n",
       "<table border=\"1\" class=\"dataframe\">\n",
       "  <thead>\n",
       "    <tr style=\"text-align: right;\">\n",
       "      <th></th>\n",
       "      <th>id</th>\n",
       "      <th>ec_number</th>\n",
       "      <th>date_integraged</th>\n",
       "      <th>date_sequence_update</th>\n",
       "      <th>date_annotation_update</th>\n",
       "      <th>seq</th>\n",
       "    </tr>\n",
       "  </thead>\n",
       "  <tbody>\n",
       "    <tr>\n",
       "      <th>0</th>\n",
       "      <td>O08452</td>\n",
       "      <td>3.2.1.1</td>\n",
       "      <td>01-JUL-1997</td>\n",
       "      <td>01-JUL-1997</td>\n",
       "      <td>07-OCT-2020</td>\n",
       "      <td>MNIKKLTPLLTLLLFFIVLASPVSAAKYLELEEGGVIMQAFYWDVP...</td>\n",
       "    </tr>\n",
       "    <tr>\n",
       "      <th>1</th>\n",
       "      <td>H9BV67</td>\n",
       "      <td>2.8.4.1</td>\n",
       "      <td>16-MAY-2012</td>\n",
       "      <td>16-MAY-2012</td>\n",
       "      <td>07-OCT-2020</td>\n",
       "      <td>AMQIGMSFIGAYKMCAGEAAVADLAFAAKHAGVIQMADILPARRAR...</td>\n",
       "    </tr>\n",
       "    <tr>\n",
       "      <th>2</th>\n",
       "      <td>L0AQC3</td>\n",
       "      <td>2.8.4.1</td>\n",
       "      <td>06-MAR-2013</td>\n",
       "      <td>06-MAR-2013</td>\n",
       "      <td>07-OCT-2020</td>\n",
       "      <td>AAVADLAFAAKHAGVIQMGDILPARRARGPNEPGGIKFGHFADMIQ...</td>\n",
       "    </tr>\n",
       "  </tbody>\n",
       "</table>\n",
       "</div>"
      ],
      "text/plain": [
       "       id ec_number date_integraged date_sequence_update  \\\n",
       "0  O08452   3.2.1.1     01-JUL-1997          01-JUL-1997   \n",
       "1  H9BV67   2.8.4.1     16-MAY-2012          16-MAY-2012   \n",
       "2  L0AQC3   2.8.4.1     06-MAR-2013          06-MAR-2013   \n",
       "\n",
       "  date_annotation_update                                                seq  \n",
       "0            07-OCT-2020  MNIKKLTPLLTLLLFFIVLASPVSAAKYLELEEGGVIMQAFYWDVP...  \n",
       "1            07-OCT-2020  AMQIGMSFIGAYKMCAGEAAVADLAFAAKHAGVIQMADILPARRAR...  \n",
       "2            07-OCT-2020  AAVADLAFAAKHAGVIQMGDILPARRARGPNEPGGIKFGHFADMIQ...  "
      ]
     },
     "execution_count": 11,
     "metadata": {},
     "output_type": "execute_result"
    }
   ],
   "source": [
    "trembl = pd.read_csv('./data/trembl_with_ec.tsv', sep='\\t',names=['id', 'ec_number', 'date_integraged','date_sequence_update','date_annotation_update','seq']) #读入文件\n",
    "trembl.date_integraged = pd.to_datetime(trembl['date_integraged'])\n",
    "trembl.date_sequence_update = pd.to_datetime(trembl['date_sequence_update'])\n",
    "trembl.date_annotation_update = pd.to_datetime(trembl['date_annotation_update'])\n",
    "trembl.head(3)"
   ]
  },
  {
   "cell_type": "markdown",
   "metadata": {},
   "source": [
    "## 3.2 统计独立的EC号， 并拆分等级"
   ]
  },
  {
   "cell_type": "code",
   "execution_count": 16,
   "metadata": {},
   "outputs": [
    {
     "data": {
      "text/html": [
       "<div>\n",
       "<style scoped>\n",
       "    .dataframe tbody tr th:only-of-type {\n",
       "        vertical-align: middle;\n",
       "    }\n",
       "\n",
       "    .dataframe tbody tr th {\n",
       "        vertical-align: top;\n",
       "    }\n",
       "\n",
       "    .dataframe thead th {\n",
       "        text-align: right;\n",
       "    }\n",
       "</style>\n",
       "<table border=\"1\" class=\"dataframe\">\n",
       "  <thead>\n",
       "    <tr style=\"text-align: right;\">\n",
       "      <th></th>\n",
       "      <th>ec_number</th>\n",
       "      <th>c1</th>\n",
       "      <th>c2</th>\n",
       "      <th>c3</th>\n",
       "      <th>c4</th>\n",
       "    </tr>\n",
       "  </thead>\n",
       "  <tbody>\n",
       "    <tr>\n",
       "      <th>0</th>\n",
       "      <td>1.-.-.-</td>\n",
       "      <td>1</td>\n",
       "      <td>-</td>\n",
       "      <td>-</td>\n",
       "      <td>-</td>\n",
       "    </tr>\n",
       "    <tr>\n",
       "      <th>1</th>\n",
       "      <td>1.1.-.-</td>\n",
       "      <td>1</td>\n",
       "      <td>1</td>\n",
       "      <td>-</td>\n",
       "      <td>-</td>\n",
       "    </tr>\n",
       "    <tr>\n",
       "      <th>2</th>\n",
       "      <td>1.1.1.</td>\n",
       "      <td>1</td>\n",
       "      <td>1</td>\n",
       "      <td>1</td>\n",
       "      <td></td>\n",
       "    </tr>\n",
       "  </tbody>\n",
       "</table>\n",
       "</div>"
      ],
      "text/plain": [
       "  ec_number c1 c2 c3 c4\n",
       "0   1.-.-.-  1  -  -  -\n",
       "1   1.1.-.-  1  1  -  -\n",
       "2    1.1.1.  1  1  1   "
      ]
     },
     "execution_count": 16,
     "metadata": {},
     "output_type": "execute_result"
    }
   ],
   "source": [
    "ec_list = get_ec_list(trembl)\n",
    "ec_list.head(3)"
   ]
  },
  {
   "cell_type": "markdown",
   "metadata": {},
   "source": [
    "## 3.3 统计每一级的EC号"
   ]
  },
  {
   "cell_type": "code",
   "execution_count": 17,
   "metadata": {},
   "outputs": [
    {
     "name": "stdout",
     "output_type": "stream",
     "text": [
      "Level 1 EC: 7 个\n",
      "Level 2 EC: 25 个\n",
      "Level 3 EC: 32 个\n",
      "Level 4 EC: 407 个\n"
     ]
    }
   ],
   "source": [
    "L1 = ec_list['c1'].value_counts().sort_index()\n",
    "L2 = ec_list['c2'].value_counts().sort_index()\n",
    "L3 = ec_list['c3'].value_counts().sort_index()\n",
    "L4 = ec_list['c4'].value_counts().sort_index()\n",
    "print('Level 1 EC: {0} 个'.format(len(L1)))\n",
    "print('Level 2 EC: {0} 个'.format(len(L2)))\n",
    "print('Level 3 EC: {0} 个'.format(len(L3)))\n",
    "print('Level 4 EC: {0} 个'.format(len(L4)))"
   ]
  },
  {
   "cell_type": "code",
   "execution_count": 18,
   "metadata": {},
   "outputs": [
    {
     "name": "stdout",
     "output_type": "stream",
     "text": [
      "Sprot 共有：「8285」个独立的EC NUMBER.\n",
      "Sprot 共有：「7828」个不含未知项的EC NUMBER.\n"
     ]
    }
   ],
   "source": [
    "trembl_ec_konwn = ec_list[(ec_list.c1 !='-') & (ec_list.c2 !='-') & (ec_list.c3!='-') & (ec_list.c4!='-')]\n",
    "print('Sprot 共有：「{0}」个独立的EC NUMBER.'.format(ec_list.shape[0]))\n",
    "print('Sprot 共有：「{0}」个不含未知项的EC NUMBER.'.format(trembl_ec_konwn.shape[0]))"
   ]
  },
  {
   "cell_type": "markdown",
   "metadata": {},
   "source": [
    "## 3.4 将不含未知项EC号的数据保存"
   ]
  },
  {
   "cell_type": "code",
   "execution_count": 19,
   "metadata": {},
   "outputs": [],
   "source": [
    "trembl_full_ec = trembl[~trembl['ec_number'].str.contains('-')]\n",
    "trembl_full_ec.to_csv('./data/trembl_full_ec.tsv',index=False, sep='\\t', )"
   ]
  },
  {
   "cell_type": "markdown",
   "metadata": {},
   "source": [
    "# 4.不通数据中EC号比对"
   ]
  },
  {
   "cell_type": "code",
   "execution_count": 219,
   "metadata": {},
   "outputs": [
    {
     "name": "stdout",
     "output_type": "stream",
     "text": [
      "Trembl中出现的非空EC号个数为：7828\n",
      "Sprot中出现的非空EC号个数为：6005\n"
     ]
    }
   ],
   "source": [
    "in_trembl_notin_sprot = trembl_ec_konwn[~trembl_ec_konwn.ec_number.isin(sprot_ec_konwn.ec_number)]\n",
    "in_sprot_notin_trembl = sprot_ec_konwn[~sprot_ec_konwn.ec_number.isin(trembl_ec_konwn.ec_number)]\n",
    "print('Trembl中出现的非空EC号个数为：{0}'.format(len(trembl_ec_konwn)))\n",
    "print('Sprot中出现的非空EC号个数为：{0}'.format(len(sprot_ec_konwn)))"
   ]
  },
  {
   "cell_type": "code",
   "execution_count": 220,
   "metadata": {},
   "outputs": [
    {
     "data": {
      "text/html": [
       "<div>\n",
       "<style scoped>\n",
       "    .dataframe tbody tr th:only-of-type {\n",
       "        vertical-align: middle;\n",
       "    }\n",
       "\n",
       "    .dataframe tbody tr th {\n",
       "        vertical-align: top;\n",
       "    }\n",
       "\n",
       "    .dataframe thead th {\n",
       "        text-align: right;\n",
       "    }\n",
       "</style>\n",
       "<table border=\"1\" class=\"dataframe\">\n",
       "  <thead>\n",
       "    <tr style=\"text-align: right;\">\n",
       "      <th></th>\n",
       "      <th>id</th>\n",
       "      <th>ec_number</th>\n",
       "      <th>date_integraged</th>\n",
       "      <th>date_sequence_update</th>\n",
       "      <th>date_annotation_update</th>\n",
       "      <th>seq</th>\n",
       "    </tr>\n",
       "  </thead>\n",
       "  <tbody>\n",
       "    <tr>\n",
       "      <th>0</th>\n",
       "      <td>Q6GZW6</td>\n",
       "      <td>3.6.4.-</td>\n",
       "      <td>2011-06-28</td>\n",
       "      <td>2004-07-19</td>\n",
       "      <td>2020-08-12</td>\n",
       "      <td>MDTSPYDFLKLYPWLSRGEADKGTLLDAFPGETFEQSLASDVAMRR...</td>\n",
       "    </tr>\n",
       "    <tr>\n",
       "      <th>1</th>\n",
       "      <td>Q6GZV6</td>\n",
       "      <td>2.7.11.1</td>\n",
       "      <td>2011-06-28</td>\n",
       "      <td>2004-07-19</td>\n",
       "      <td>2021-02-10</td>\n",
       "      <td>MATNYCDEFERNPTRNPRTGRTIKRGGPVFRALERECSDGAARVFP...</td>\n",
       "    </tr>\n",
       "    <tr>\n",
       "      <th>2</th>\n",
       "      <td>Q197B6</td>\n",
       "      <td>2.7.11.-</td>\n",
       "      <td>2009-06-16</td>\n",
       "      <td>2006-07-11</td>\n",
       "      <td>2020-08-12</td>\n",
       "      <td>MPLSVFAEEFAEKSVKRYIGQGLWLPCNLSDYYYYQEFHDEGGYGS...</td>\n",
       "    </tr>\n",
       "    <tr>\n",
       "      <th>3</th>\n",
       "      <td>Q6GZS1</td>\n",
       "      <td>3.6.4.-</td>\n",
       "      <td>2011-06-28</td>\n",
       "      <td>2004-07-19</td>\n",
       "      <td>2020-08-12</td>\n",
       "      <td>MAKLLRLNAIDGDMPGAGEADLFTLAPGGKAYVPFAWGSRVLGCKP...</td>\n",
       "    </tr>\n",
       "    <tr>\n",
       "      <th>4</th>\n",
       "      <td>Q196Y0</td>\n",
       "      <td>3.6.1.-</td>\n",
       "      <td>2009-06-16</td>\n",
       "      <td>2006-07-11</td>\n",
       "      <td>2020-08-12</td>\n",
       "      <td>MDNETSTPDIFQWCVSPFSKITLKRSMEQRDIVEFRIDATILRQIF...</td>\n",
       "    </tr>\n",
       "    <tr>\n",
       "      <th>...</th>\n",
       "      <td>...</td>\n",
       "      <td>...</td>\n",
       "      <td>...</td>\n",
       "      <td>...</td>\n",
       "      <td>...</td>\n",
       "      <td>...</td>\n",
       "    </tr>\n",
       "    <tr>\n",
       "      <th>270231</th>\n",
       "      <td>Q4R4A2</td>\n",
       "      <td>3.4.19.12, 3.4.19.12</td>\n",
       "      <td>2006-06-27</td>\n",
       "      <td>2005-07-19</td>\n",
       "      <td>2020-12-02</td>\n",
       "      <td>MLSCDICGETVTSEPDMKAHLIVHMENEIVCPFCKLSGVSYDEMCF...</td>\n",
       "    </tr>\n",
       "    <tr>\n",
       "      <th>270232</th>\n",
       "      <td>Q3T9Z9</td>\n",
       "      <td>3.4.19.12</td>\n",
       "      <td>2006-06-27</td>\n",
       "      <td>2006-06-27</td>\n",
       "      <td>2021-04-07</td>\n",
       "      <td>MLSCNICGETVNSEPDMKAHLIVHMENEIICPFCKLSGINYNEICF...</td>\n",
       "    </tr>\n",
       "    <tr>\n",
       "      <th>270233</th>\n",
       "      <td>Q5U2S3</td>\n",
       "      <td>3.4.19.12</td>\n",
       "      <td>2006-06-27</td>\n",
       "      <td>2004-12-07</td>\n",
       "      <td>2020-12-02</td>\n",
       "      <td>MLSCDICGETVTSEPDRKAHLIVHMENEIICPFCKLSGINYNEMCF...</td>\n",
       "    </tr>\n",
       "    <tr>\n",
       "      <th>270234</th>\n",
       "      <td>Q621J7</td>\n",
       "      <td>2.7.11.1</td>\n",
       "      <td>2005-04-12</td>\n",
       "      <td>2004-11-23</td>\n",
       "      <td>2021-02-10</td>\n",
       "      <td>MSGGKSGTKLSSFQNLQQIGQGGFGVVYSAQRENGEKVAIKKIGNA...</td>\n",
       "    </tr>\n",
       "    <tr>\n",
       "      <th>270235</th>\n",
       "      <td>Q9GT24</td>\n",
       "      <td>2.7.11.1</td>\n",
       "      <td>2005-04-12</td>\n",
       "      <td>2001-03-01</td>\n",
       "      <td>2021-04-07</td>\n",
       "      <td>MSGGKSGSRLSAYSHLKEIGKGGFGVVYAAQRENGEKVAIKRIDKK...</td>\n",
       "    </tr>\n",
       "  </tbody>\n",
       "</table>\n",
       "<p>270236 rows × 6 columns</p>\n",
       "</div>"
      ],
      "text/plain": [
       "            id             ec_number date_integraged date_sequence_update  \\\n",
       "0       Q6GZW6               3.6.4.-      2011-06-28           2004-07-19   \n",
       "1       Q6GZV6              2.7.11.1      2011-06-28           2004-07-19   \n",
       "2       Q197B6              2.7.11.-      2009-06-16           2006-07-11   \n",
       "3       Q6GZS1               3.6.4.-      2011-06-28           2004-07-19   \n",
       "4       Q196Y0               3.6.1.-      2009-06-16           2006-07-11   \n",
       "...        ...                   ...             ...                  ...   \n",
       "270231  Q4R4A2  3.4.19.12, 3.4.19.12      2006-06-27           2005-07-19   \n",
       "270232  Q3T9Z9             3.4.19.12      2006-06-27           2006-06-27   \n",
       "270233  Q5U2S3             3.4.19.12      2006-06-27           2004-12-07   \n",
       "270234  Q621J7              2.7.11.1      2005-04-12           2004-11-23   \n",
       "270235  Q9GT24              2.7.11.1      2005-04-12           2001-03-01   \n",
       "\n",
       "       date_annotation_update  \\\n",
       "0                  2020-08-12   \n",
       "1                  2021-02-10   \n",
       "2                  2020-08-12   \n",
       "3                  2020-08-12   \n",
       "4                  2020-08-12   \n",
       "...                       ...   \n",
       "270231             2020-12-02   \n",
       "270232             2021-04-07   \n",
       "270233             2020-12-02   \n",
       "270234             2021-02-10   \n",
       "270235             2021-04-07   \n",
       "\n",
       "                                                      seq  \n",
       "0       MDTSPYDFLKLYPWLSRGEADKGTLLDAFPGETFEQSLASDVAMRR...  \n",
       "1       MATNYCDEFERNPTRNPRTGRTIKRGGPVFRALERECSDGAARVFP...  \n",
       "2       MPLSVFAEEFAEKSVKRYIGQGLWLPCNLSDYYYYQEFHDEGGYGS...  \n",
       "3       MAKLLRLNAIDGDMPGAGEADLFTLAPGGKAYVPFAWGSRVLGCKP...  \n",
       "4       MDNETSTPDIFQWCVSPFSKITLKRSMEQRDIVEFRIDATILRQIF...  \n",
       "...                                                   ...  \n",
       "270231  MLSCDICGETVTSEPDMKAHLIVHMENEIVCPFCKLSGVSYDEMCF...  \n",
       "270232  MLSCNICGETVNSEPDMKAHLIVHMENEIICPFCKLSGINYNEICF...  \n",
       "270233  MLSCDICGETVTSEPDRKAHLIVHMENEIICPFCKLSGINYNEMCF...  \n",
       "270234  MSGGKSGTKLSSFQNLQQIGQGGFGVVYSAQRENGEKVAIKKIGNA...  \n",
       "270235  MSGGKSGSRLSAYSHLKEIGKGGFGVVYAAQRENGEKVAIKRIDKK...  \n",
       "\n",
       "[270236 rows x 6 columns]"
      ]
     },
     "execution_count": 220,
     "metadata": {},
     "output_type": "execute_result"
    }
   ],
   "source": [
    "sprot[sprot_ec_konwn.ec_number.isin(trembl_ec_konwn.ec_number)]"
   ]
  },
  {
   "cell_type": "code",
   "execution_count": 33,
   "metadata": {},
   "outputs": [
    {
     "name": "stderr",
     "output_type": "stream",
     "text": [
      "<ipython-input-33-7154929d1774>:3: SettingWithCopyWarning: \n",
      "A value is trying to be set on a copy of a slice from a DataFrame.\n",
      "Try using .loc[row_indexer,col_indexer] = value instead\n",
      "\n",
      "See the caveats in the documentation: https://pandas.pydata.org/pandas-docs/stable/user_guide/indexing.html#returning-a-view-versus-a-copy\n",
      "  trembl_full_ec['label_count'] = trembl_full_ec.ec_number.map(lambda x: x.count(',') + 1)\n"
     ]
    }
   ],
   "source": [
    "# trembl_full_ec = pd.read_csv('./data/trembl_full_ec.tsv', sep='\\t',names=['id', 'ec_number', 'date_integraged','date_sequence_update','date_annotation_update','seq'])\n",
    "\n",
    "trembl_full_ec['label_count'] = trembl_full_ec.ec_number.map(lambda x: x.count(',') + 1)\n",
    "# query['seq'].map(lambda x : len(x))"
   ]
  },
  {
   "cell_type": "code",
   "execution_count": 35,
   "metadata": {},
   "outputs": [
    {
     "data": {
      "text/html": [
       "<div>\n",
       "<style scoped>\n",
       "    .dataframe tbody tr th:only-of-type {\n",
       "        vertical-align: middle;\n",
       "    }\n",
       "\n",
       "    .dataframe tbody tr th {\n",
       "        vertical-align: top;\n",
       "    }\n",
       "\n",
       "    .dataframe thead th {\n",
       "        text-align: right;\n",
       "    }\n",
       "</style>\n",
       "<table border=\"1\" class=\"dataframe\">\n",
       "  <thead>\n",
       "    <tr style=\"text-align: right;\">\n",
       "      <th></th>\n",
       "      <th>id</th>\n",
       "      <th>ec_number</th>\n",
       "      <th>date_integraged</th>\n",
       "      <th>date_sequence_update</th>\n",
       "      <th>date_annotation_update</th>\n",
       "      <th>seq</th>\n",
       "      <th>label_count</th>\n",
       "    </tr>\n",
       "  </thead>\n",
       "  <tbody>\n",
       "    <tr>\n",
       "      <th>45</th>\n",
       "      <td>A0A7G9YY52</td>\n",
       "      <td>3.5.4.41, 3.5.4.31, 3.5.4.4, 3.5.4.28</td>\n",
       "      <td>2021-02-10</td>\n",
       "      <td>2021-02-10</td>\n",
       "      <td>2021-04-07</td>\n",
       "      <td>MINMSILIKNVLLEGKERNIYIEGNLIEAISKAGNGKEAEFVIDGK...</td>\n",
       "      <td>4</td>\n",
       "    </tr>\n",
       "    <tr>\n",
       "      <th>66</th>\n",
       "      <td>A0A7G9YWQ6</td>\n",
       "      <td>4.2.1.136, 5.1.99.6</td>\n",
       "      <td>2021-02-10</td>\n",
       "      <td>2021-02-10</td>\n",
       "      <td>2021-04-07</td>\n",
       "      <td>MKEEKEEALSSAEMAAIDENCKFFGLSSAQLMENAGAGIANVIKRK...</td>\n",
       "      <td>2</td>\n",
       "    </tr>\n",
       "    <tr>\n",
       "      <th>237</th>\n",
       "      <td>A0A2D0TC99</td>\n",
       "      <td>1.12.1.2, 1.12.99.6</td>\n",
       "      <td>2017-12-20</td>\n",
       "      <td>2017-12-20</td>\n",
       "      <td>2021-04-07</td>\n",
       "      <td>MVKIATTWLGGCSGCHISLLDLHEELLNLLENVELVHCPVLMDVKE...</td>\n",
       "      <td>2</td>\n",
       "    </tr>\n",
       "    <tr>\n",
       "      <th>260</th>\n",
       "      <td>A0A2D0TCA6</td>\n",
       "      <td>1.12.99.6, 1.12.1.2</td>\n",
       "      <td>2017-12-20</td>\n",
       "      <td>2017-12-20</td>\n",
       "      <td>2021-04-07</td>\n",
       "      <td>MVKLSVEPVTRVEGHGKISVSFDDSGNLDKVRFHVVEVRGFEKFLE...</td>\n",
       "      <td>2</td>\n",
       "    </tr>\n",
       "    <tr>\n",
       "      <th>308</th>\n",
       "      <td>D1JA39</td>\n",
       "      <td>5.4.2.2, 5.4.2.8</td>\n",
       "      <td>2010-01-19</td>\n",
       "      <td>2010-01-19</td>\n",
       "      <td>2020-10-07</td>\n",
       "      <td>MHTKKREISADIFRAYDIRGIYNDDLYPETMLKIGLGLGTYAKERS...</td>\n",
       "      <td>2</td>\n",
       "    </tr>\n",
       "    <tr>\n",
       "      <th>...</th>\n",
       "      <td>...</td>\n",
       "      <td>...</td>\n",
       "      <td>...</td>\n",
       "      <td>...</td>\n",
       "      <td>...</td>\n",
       "      <td>...</td>\n",
       "      <td>...</td>\n",
       "    </tr>\n",
       "    <tr>\n",
       "      <th>32826185</th>\n",
       "      <td>E0WDN6</td>\n",
       "      <td>2.7.7.49, 3.1.26.13</td>\n",
       "      <td>2010-11-02</td>\n",
       "      <td>2010-11-02</td>\n",
       "      <td>2020-12-02</td>\n",
       "      <td>FFRENLAFQQREARKFPSEQTRTNSPTSRECGDGGRNTLXSEAGTE...</td>\n",
       "      <td>2</td>\n",
       "    </tr>\n",
       "    <tr>\n",
       "      <th>32826186</th>\n",
       "      <td>B9W4E1</td>\n",
       "      <td>2.7.7.49, 3.1.26.13</td>\n",
       "      <td>2009-03-24</td>\n",
       "      <td>2009-03-24</td>\n",
       "      <td>2020-12-02</td>\n",
       "      <td>FFRENLAFQQREARKFSSEQTRTNSPTNGEPWGGGRDNLPCETGTE...</td>\n",
       "      <td>2</td>\n",
       "    </tr>\n",
       "    <tr>\n",
       "      <th>32826187</th>\n",
       "      <td>H6SH45</td>\n",
       "      <td>2.7.7.49, 3.1.26.13</td>\n",
       "      <td>2012-04-18</td>\n",
       "      <td>2012-04-18</td>\n",
       "      <td>2020-12-02</td>\n",
       "      <td>FFRENLAFQQREARKFSSEQTRAISPTSRKLWDGGRDNPLPETGTE...</td>\n",
       "      <td>2</td>\n",
       "    </tr>\n",
       "    <tr>\n",
       "      <th>32826188</th>\n",
       "      <td>B9W4F0</td>\n",
       "      <td>2.7.7.49, 3.1.26.13</td>\n",
       "      <td>2009-03-24</td>\n",
       "      <td>2009-03-24</td>\n",
       "      <td>2020-12-02</td>\n",
       "      <td>FFREGLAFQQREARQFSSEQTGTNSPTSRELRDRGRDNLLSEAGTE...</td>\n",
       "      <td>2</td>\n",
       "    </tr>\n",
       "    <tr>\n",
       "      <th>32826189</th>\n",
       "      <td>E0WDP2</td>\n",
       "      <td>2.7.7.49, 3.1.26.13</td>\n",
       "      <td>2010-11-02</td>\n",
       "      <td>2010-11-02</td>\n",
       "      <td>2020-12-02</td>\n",
       "      <td>FFRENLAFQQGEARKFSPEQARAHSPTGXELRVRRGDSPLPEAGAE...</td>\n",
       "      <td>2</td>\n",
       "    </tr>\n",
       "  </tbody>\n",
       "</table>\n",
       "<p>1235826 rows × 7 columns</p>\n",
       "</div>"
      ],
      "text/plain": [
       "                  id                              ec_number date_integraged  \\\n",
       "45        A0A7G9YY52  3.5.4.41, 3.5.4.31, 3.5.4.4, 3.5.4.28      2021-02-10   \n",
       "66        A0A7G9YWQ6                    4.2.1.136, 5.1.99.6      2021-02-10   \n",
       "237       A0A2D0TC99                    1.12.1.2, 1.12.99.6      2017-12-20   \n",
       "260       A0A2D0TCA6                    1.12.99.6, 1.12.1.2      2017-12-20   \n",
       "308           D1JA39                       5.4.2.2, 5.4.2.8      2010-01-19   \n",
       "...              ...                                    ...             ...   \n",
       "32826185      E0WDN6                    2.7.7.49, 3.1.26.13      2010-11-02   \n",
       "32826186      B9W4E1                    2.7.7.49, 3.1.26.13      2009-03-24   \n",
       "32826187      H6SH45                    2.7.7.49, 3.1.26.13      2012-04-18   \n",
       "32826188      B9W4F0                    2.7.7.49, 3.1.26.13      2009-03-24   \n",
       "32826189      E0WDP2                    2.7.7.49, 3.1.26.13      2010-11-02   \n",
       "\n",
       "         date_sequence_update date_annotation_update  \\\n",
       "45                 2021-02-10             2021-04-07   \n",
       "66                 2021-02-10             2021-04-07   \n",
       "237                2017-12-20             2021-04-07   \n",
       "260                2017-12-20             2021-04-07   \n",
       "308                2010-01-19             2020-10-07   \n",
       "...                       ...                    ...   \n",
       "32826185           2010-11-02             2020-12-02   \n",
       "32826186           2009-03-24             2020-12-02   \n",
       "32826187           2012-04-18             2020-12-02   \n",
       "32826188           2009-03-24             2020-12-02   \n",
       "32826189           2010-11-02             2020-12-02   \n",
       "\n",
       "                                                        seq  label_count  \n",
       "45        MINMSILIKNVLLEGKERNIYIEGNLIEAISKAGNGKEAEFVIDGK...            4  \n",
       "66        MKEEKEEALSSAEMAAIDENCKFFGLSSAQLMENAGAGIANVIKRK...            2  \n",
       "237       MVKIATTWLGGCSGCHISLLDLHEELLNLLENVELVHCPVLMDVKE...            2  \n",
       "260       MVKLSVEPVTRVEGHGKISVSFDDSGNLDKVRFHVVEVRGFEKFLE...            2  \n",
       "308       MHTKKREISADIFRAYDIRGIYNDDLYPETMLKIGLGLGTYAKERS...            2  \n",
       "...                                                     ...          ...  \n",
       "32826185  FFRENLAFQQREARKFPSEQTRTNSPTSRECGDGGRNTLXSEAGTE...            2  \n",
       "32826186  FFRENLAFQQREARKFSSEQTRTNSPTNGEPWGGGRDNLPCETGTE...            2  \n",
       "32826187  FFRENLAFQQREARKFSSEQTRAISPTSRKLWDGGRDNPLPETGTE...            2  \n",
       "32826188  FFREGLAFQQREARQFSSEQTGTNSPTSRELRDRGRDNLLSEAGTE...            2  \n",
       "32826189  FFRENLAFQQGEARKFSPEQARAHSPTGXELRVRRGDSPLPEAGAE...            2  \n",
       "\n",
       "[1235826 rows x 7 columns]"
      ]
     },
     "execution_count": 35,
     "metadata": {},
     "output_type": "execute_result"
    }
   ],
   "source": [
    "trembl_full_ec[trembl_full_ec.label_count>1]"
   ]
  },
  {
   "cell_type": "code",
   "execution_count": 21,
   "metadata": {},
   "outputs": [],
   "source": [
    "sprot_full_ec = pd.read_csv('./data/sprot_full_ec.tsv', sep='\\t',names=['id', 'ec_number', 'date_integraged','date_sequence_update','date_annotation_update','seq'])"
   ]
  },
  {
   "cell_type": "code",
   "execution_count": 42,
   "metadata": {},
   "outputs": [
    {
     "data": {
      "text/plain": [
       "1     27557246\n",
       "2      1102754\n",
       "3        93027\n",
       "4        18979\n",
       "5        20058\n",
       "6          399\n",
       "7           73\n",
       "8          502\n",
       "9           33\n",
       "10           1\n",
       "Name: label_count, dtype: int64"
      ]
     },
     "execution_count": 42,
     "metadata": {},
     "output_type": "execute_result"
    }
   ],
   "source": [
    "trembl_full_ec.label_count.value_counts().sort_index()"
   ]
  },
  {
   "cell_type": "code",
   "execution_count": 44,
   "metadata": {},
   "outputs": [
    {
     "name": "stderr",
     "output_type": "stream",
     "text": [
      "<ipython-input-44-6baa338098ee>:3: SettingWithCopyWarning: \n",
      "A value is trying to be set on a copy of a slice from a DataFrame.\n",
      "Try using .loc[row_indexer,col_indexer] = value instead\n",
      "\n",
      "See the caveats in the documentation: https://pandas.pydata.org/pandas-docs/stable/user_guide/indexing.html#returning-a-view-versus-a-copy\n",
      "  sprot_full_ec['label_count'] = sprot_full_ec.ec_number.map(lambda x: x.count(',') + 1)\n"
     ]
    },
    {
     "data": {
      "text/plain": [
       "1    215175\n",
       "2     10383\n",
       "3       911\n",
       "4       422\n",
       "5       117\n",
       "6        88\n",
       "8         5\n",
       "Name: label_count, dtype: int64"
      ]
     },
     "execution_count": 44,
     "metadata": {},
     "output_type": "execute_result"
    }
   ],
   "source": [
    "# trembl = pd.read_csv('./data/trembl_with_ec.tsv', sep='\\t',names=['id', 'ec_number', 'date_integraged','date_sequence_update','date_annotation_update','seq']) #读入文件\n",
    "\n",
    "sprot_full_ec['label_count'] = sprot_full_ec.ec_number.map(lambda x: x.count(',') + 1)\n",
    "sprot_full_ec.label_count.value_counts().sort_index()"
   ]
  },
  {
   "cell_type": "code",
   "execution_count": 25,
   "metadata": {},
   "outputs": [
    {
     "data": {
      "text/html": [
       "<div>\n",
       "<style scoped>\n",
       "    .dataframe tbody tr th:only-of-type {\n",
       "        vertical-align: middle;\n",
       "    }\n",
       "\n",
       "    .dataframe tbody tr th {\n",
       "        vertical-align: top;\n",
       "    }\n",
       "\n",
       "    .dataframe thead th {\n",
       "        text-align: right;\n",
       "    }\n",
       "</style>\n",
       "<table border=\"1\" class=\"dataframe\">\n",
       "  <thead>\n",
       "    <tr style=\"text-align: right;\">\n",
       "      <th></th>\n",
       "      <th>id</th>\n",
       "      <th>ec_number</th>\n",
       "      <th>date_integraged</th>\n",
       "      <th>date_sequence_update</th>\n",
       "      <th>date_annotation_update</th>\n",
       "      <th>seq</th>\n",
       "    </tr>\n",
       "  </thead>\n",
       "  <tbody>\n",
       "    <tr>\n",
       "      <th>32826185</th>\n",
       "      <td>E0WDN6</td>\n",
       "      <td>2.7.7.49, 3.1.26.13</td>\n",
       "      <td>02-NOV-2010</td>\n",
       "      <td>02-NOV-2010</td>\n",
       "      <td>02-DEC-2020</td>\n",
       "      <td>FFRENLAFQQREARKFPSEQTRTNSPTSRECGDGGRNTLXSEAGTE...</td>\n",
       "    </tr>\n",
       "  </tbody>\n",
       "</table>\n",
       "</div>"
      ],
      "text/plain": [
       "              id            ec_number date_integraged date_sequence_update  \\\n",
       "32826185  E0WDN6  2.7.7.49, 3.1.26.13     02-NOV-2010          02-NOV-2010   \n",
       "\n",
       "         date_annotation_update  \\\n",
       "32826185            02-DEC-2020   \n",
       "\n",
       "                                                        seq  \n",
       "32826185  FFRENLAFQQREARKFPSEQTRTNSPTSRECGDGGRNTLXSEAGTE...  "
      ]
     },
     "execution_count": 25,
     "metadata": {},
     "output_type": "execute_result"
    }
   ],
   "source": [
    "trembl[trembl.id=='E0WDN6']"
   ]
  },
  {
   "cell_type": "code",
   "execution_count": null,
   "metadata": {},
   "outputs": [],
   "source": []
  }
 ],
 "metadata": {
  "kernelspec": {
   "display_name": "Python 3",
   "language": "python",
   "name": "python3"
  },
  "language_info": {
   "codemirror_mode": {
    "name": "ipython",
    "version": 3
   },
   "file_extension": ".py",
   "mimetype": "text/x-python",
   "name": "python",
   "nbconvert_exporter": "python",
   "pygments_lexer": "ipython3",
   "version": "3.8.5"
  }
 },
 "nbformat": 4,
 "nbformat_minor": 4
}
