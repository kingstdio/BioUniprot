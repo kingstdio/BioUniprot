{
 "cells": [
  {
   "cell_type": "markdown",
   "id": "11df1ead-93b7-43ad-8370-c0389f802500",
   "metadata": {},
   "source": [
    "# Task2. 预测酶是几功能酶\n",
    "\n",
    "> author: Shizhenkun   \n",
    "> email: zhenkun.shi@tib.cas.cn   \n",
    "> date: 2021-08-28  \n",
    "\n",
    "## 任务简介\n",
    "该任务通过给定酶序列，预测该酶几功能酶。\n"
   ]
  },
  {
   "cell_type": "markdown",
   "id": "9eace04d-074d-4d4f-a6d2-b91fffda9994",
   "metadata": {},
   "source": [
    "## 1. 导入必要的包"
   ]
  },
  {
   "cell_type": "code",
   "execution_count": 55,
   "id": "c843b563-ffe0-442a-90d2-47b1705f0441",
   "metadata": {
    "tags": []
   },
   "outputs": [
    {
     "name": "stdout",
     "output_type": "stream",
     "text": [
      "INFO: Pandarallel will run on 32 workers.\n",
      "INFO: Pandarallel will use Memory file system to transfer data between the main process and workers.\n",
      "The autoreload extension is already loaded. To reload it, use:\n",
      "  %reload_ext autoreload\n"
     ]
    }
   ],
   "source": [
    "import numpy as np\n",
    "import pandas as pd\n",
    "import random\n",
    "import time\n",
    "import datetime\n",
    "import sys\n",
    "import os\n",
    "from tqdm import tqdm\n",
    "from functools import reduce\n",
    "\n",
    "sys.path.append(\"../../tools/\")\n",
    "import funclib\n",
    "import ucTools\n",
    "from sklearn.model_selection import train_test_split\n",
    "\n",
    "sys.path.append(\"../../\")\n",
    "import benchmark_common as bcommon\n",
    "import benchmark_train as btrain\n",
    "import benchmark_test as btest\n",
    "import benchmark_config as cfg\n",
    "import benchmark_evaluation as eva\n",
    "\n",
    "from pandarallel import pandarallel # 导入pandaralle\n",
    "pandarallel.initialize() # 初始化该这个b...并行库\n",
    "\n",
    "%load_ext autoreload\n",
    "%autoreload 2"
   ]
  },
  {
   "cell_type": "markdown",
   "id": "93a6a622-6c28-4083-998a-4e018886603e",
   "metadata": {},
   "source": [
    "## 2. 加载数据"
   ]
  },
  {
   "cell_type": "code",
   "execution_count": 33,
   "id": "49d22801-1701-49e6-93ab-45bdd1f6a85e",
   "metadata": {},
   "outputs": [
    {
     "name": "stdout",
     "output_type": "stream",
     "text": [
      "train size: 222566\n",
      "test size: 3579\n"
     ]
    },
    {
     "data": {
      "text/html": [
       "<div>\n",
       "<style scoped>\n",
       "    .dataframe tbody tr th:only-of-type {\n",
       "        vertical-align: middle;\n",
       "    }\n",
       "\n",
       "    .dataframe tbody tr th {\n",
       "        vertical-align: top;\n",
       "    }\n",
       "\n",
       "    .dataframe thead th {\n",
       "        text-align: right;\n",
       "    }\n",
       "</style>\n",
       "<table border=\"1\" class=\"dataframe\">\n",
       "  <thead>\n",
       "    <tr style=\"text-align: right;\">\n",
       "      <th></th>\n",
       "      <th>id</th>\n",
       "      <th>isemzyme</th>\n",
       "      <th>functionCounts</th>\n",
       "      <th>ec_number</th>\n",
       "      <th>ec_specific_level</th>\n",
       "      <th>seq</th>\n",
       "      <th>seqlength</th>\n",
       "      <th>f1</th>\n",
       "      <th>f2</th>\n",
       "      <th>f3</th>\n",
       "      <th>...</th>\n",
       "      <th>f1891</th>\n",
       "      <th>f1892</th>\n",
       "      <th>f1893</th>\n",
       "      <th>f1894</th>\n",
       "      <th>f1895</th>\n",
       "      <th>f1896</th>\n",
       "      <th>f1897</th>\n",
       "      <th>f1898</th>\n",
       "      <th>f1899</th>\n",
       "      <th>f1900</th>\n",
       "    </tr>\n",
       "  </thead>\n",
       "  <tbody>\n",
       "    <tr>\n",
       "      <th>99</th>\n",
       "      <td>A0A023W421</td>\n",
       "      <td>True</td>\n",
       "      <td>2</td>\n",
       "      <td>3.1.1.96, 3.1.1.-</td>\n",
       "      <td>4</td>\n",
       "      <td>MKLVVQRVTDASVTVDGAVAGRIGPGIMALVGVTHEDTEEDAAYLA...</td>\n",
       "      <td>147</td>\n",
       "      <td>0.005019</td>\n",
       "      <td>0.019584</td>\n",
       "      <td>0.181748</td>\n",
       "      <td>...</td>\n",
       "      <td>-0.013379</td>\n",
       "      <td>0.404682</td>\n",
       "      <td>-0.046457</td>\n",
       "      <td>0.026537</td>\n",
       "      <td>-0.246087</td>\n",
       "      <td>0.334321</td>\n",
       "      <td>-0.021010</td>\n",
       "      <td>0.137102</td>\n",
       "      <td>-0.195889</td>\n",
       "      <td>-0.021511</td>\n",
       "    </tr>\n",
       "    <tr>\n",
       "      <th>101</th>\n",
       "      <td>A0A024B7W1</td>\n",
       "      <td>True</td>\n",
       "      <td>6</td>\n",
       "      <td>3.4.21.91, 3.6.1.15, 3.6.4.13, 2.1.1.56, 2.1.1...</td>\n",
       "      <td>4</td>\n",
       "      <td>MKNPKKKSGGFRIVNMLKRGVARVSPFGGLKRLPAGLLLGHGPIRM...</td>\n",
       "      <td>3423</td>\n",
       "      <td>0.000077</td>\n",
       "      <td>0.019192</td>\n",
       "      <td>0.008966</td>\n",
       "      <td>...</td>\n",
       "      <td>0.030219</td>\n",
       "      <td>0.065129</td>\n",
       "      <td>-0.482739</td>\n",
       "      <td>0.022922</td>\n",
       "      <td>-0.081980</td>\n",
       "      <td>0.036783</td>\n",
       "      <td>0.010605</td>\n",
       "      <td>0.001952</td>\n",
       "      <td>-0.044810</td>\n",
       "      <td>-0.013897</td>\n",
       "    </tr>\n",
       "    <tr>\n",
       "      <th>102</th>\n",
       "      <td>A0A024BTN9</td>\n",
       "      <td>True</td>\n",
       "      <td>1</td>\n",
       "      <td>1.4.3.2</td>\n",
       "      <td>4</td>\n",
       "      <td>SCADDRNPLEECFQETDYEEFLEIARNGLKATSNPKHVVIVGAGMS...</td>\n",
       "      <td>497</td>\n",
       "      <td>0.000237</td>\n",
       "      <td>-0.024782</td>\n",
       "      <td>0.161787</td>\n",
       "      <td>...</td>\n",
       "      <td>0.013369</td>\n",
       "      <td>0.055697</td>\n",
       "      <td>-0.039346</td>\n",
       "      <td>0.009738</td>\n",
       "      <td>-0.391294</td>\n",
       "      <td>0.057232</td>\n",
       "      <td>-0.026859</td>\n",
       "      <td>0.153590</td>\n",
       "      <td>-0.236265</td>\n",
       "      <td>0.778679</td>\n",
       "    </tr>\n",
       "  </tbody>\n",
       "</table>\n",
       "<p>3 rows × 1907 columns</p>\n",
       "</div>"
      ],
      "text/plain": [
       "             id  isemzyme  functionCounts  \\\n",
       "99   A0A023W421      True               2   \n",
       "101  A0A024B7W1      True               6   \n",
       "102  A0A024BTN9      True               1   \n",
       "\n",
       "                                             ec_number  ec_specific_level  \\\n",
       "99                                   3.1.1.96, 3.1.1.-                  4   \n",
       "101  3.4.21.91, 3.6.1.15, 3.6.4.13, 2.1.1.56, 2.1.1...                  4   \n",
       "102                                            1.4.3.2                  4   \n",
       "\n",
       "                                                   seq  seqlength        f1  \\\n",
       "99   MKLVVQRVTDASVTVDGAVAGRIGPGIMALVGVTHEDTEEDAAYLA...        147  0.005019   \n",
       "101  MKNPKKKSGGFRIVNMLKRGVARVSPFGGLKRLPAGLLLGHGPIRM...       3423  0.000077   \n",
       "102  SCADDRNPLEECFQETDYEEFLEIARNGLKATSNPKHVVIVGAGMS...        497  0.000237   \n",
       "\n",
       "           f2        f3  ...     f1891     f1892     f1893     f1894  \\\n",
       "99   0.019584  0.181748  ... -0.013379  0.404682 -0.046457  0.026537   \n",
       "101  0.019192  0.008966  ...  0.030219  0.065129 -0.482739  0.022922   \n",
       "102 -0.024782  0.161787  ...  0.013369  0.055697 -0.039346  0.009738   \n",
       "\n",
       "        f1895     f1896     f1897     f1898     f1899     f1900  \n",
       "99  -0.246087  0.334321 -0.021010  0.137102 -0.195889 -0.021511  \n",
       "101 -0.081980  0.036783  0.010605  0.001952 -0.044810 -0.013897  \n",
       "102 -0.391294  0.057232 -0.026859  0.153590 -0.236265  0.778679  \n",
       "\n",
       "[3 rows x 1907 columns]"
      ]
     },
     "execution_count": 33,
     "metadata": {},
     "output_type": "execute_result"
    }
   ],
   "source": [
    "train = pd.read_feather(cfg.DATADIR+'train.feather')\n",
    "test = pd.read_feather(cfg.DATADIR+'test.feather')\n",
    "\n",
    "train = train[train.isemzyme]\n",
    "test = test[test.isemzyme]\n",
    "\n",
    "print('train size: {0}\\ntest size: {1}'.format(len(train), len(test)))\n",
    "\n",
    "# 取子集\n",
    "trainset = train[['id', 'functionCounts','seq', 'seqlength']].reset_index(drop=True)\n",
    "testset = test[['id', 'functionCounts','seq', 'seqlength']].reset_index(drop=True)\n",
    "\n",
    "train.head(3)"
   ]
  },
  {
   "cell_type": "markdown",
   "id": "6cede627-2287-401b-889c-f5dae286be5c",
   "metadata": {},
   "source": [
    "## 3. 同源比对"
   ]
  },
  {
   "cell_type": "code",
   "execution_count": 38,
   "id": "eb75db2e-c859-4476-ac69-121ef7820113",
   "metadata": {},
   "outputs": [
    {
     "name": "stdout",
     "output_type": "stream",
     "text": [
      "Write finished\n",
      "Write finished\n",
      "diamond makedb --in /home/shizhenkun/codebase/BioUniprot/data/benchmark/tmp/train.fasta -d /tmp/train.dmnd\n",
      "diamond blastp -d /tmp/train.dmnd  -q  /home/shizhenkun/codebase/BioUniprot/data/benchmark/tmp/test.fasta -o /tmp/test_fasta_results.tsv -b5 -c1 -k 1\n",
      " query samples:3579\n",
      " results samples: 3030\n",
      "\n",
      "\n",
      "\n",
      " baslineName \t\t accuracy \t precision-macro \t recall-macro \t f1-macro\n",
      "       blast  \t\t0.742666  \t0.500151 \t\t0.402750 \t0.309967\n",
      "\n",
      "\n",
      "\n"
     ]
    }
   ],
   "source": [
    "# 写fasta文件\n",
    "bcommon.save_table2fasta(dataset=trainset, file_out=cfg.TEMPDIR+'train.fasta')\n",
    "bcommon.save_table2fasta(dataset=testset, file_out=cfg.TEMPDIR+'test.fasta')\n",
    "\n",
    "# 读取比对结果\n",
    "res_data=funclib.getblast_fasta(trainfasta=cfg.TEMPDIR+'train.fasta',testfasta=cfg.TEMPDIR+'test.fasta')\n",
    "print(' query samples:{0}\\n results samples: {1}'.format(len(test), len(res_data)))\n",
    "\n",
    "# 给比对结果添加标签\n",
    "functionCounts = {v: k for k,v in zip(train.functionCounts, train.id )} \n",
    "res_data['functionCounts_blast'] = res_data['sseqid'].apply(lambda x: functionCounts.get(x))\n",
    "# 拼合结果\n",
    "blast_res = testset.merge(res_data[['id', 'functionCounts_blast','pident' ]], on='id', how='left')\n",
    "# 计算结果\n",
    "\n",
    "print('\\n\\n')\n",
    "\n",
    "print('%12s'%'baslineName', '\\t\\t', 'accuracy','\\t', 'precision-macro \\t', 'recall-macro','\\t', 'f1-macro')\n",
    "eva.caculateMetrix( groundtruth=blast_res.functionCounts, predict=blast_res['functionCounts_blast'].fillna('0').astype('int'),  baselineName='blast', type='multi')\n",
    "\n",
    "print('\\n\\n')\n"
   ]
  },
  {
   "cell_type": "markdown",
   "id": "9818e474-eac9-4c39-817f-ed60e653f72f",
   "metadata": {},
   "source": [
    "## 4. 机器学习方法预测\n",
    "### 4.1 onehot + 机器学习"
   ]
  },
  {
   "cell_type": "code",
   "execution_count": 39,
   "id": "83b7052c-70da-4faf-b1b7-525e0df0ed44",
   "metadata": {
    "tags": []
   },
   "outputs": [],
   "source": [
    "MAX_SEQ_LENGTH = 1500 #定义序列最长的长度\n",
    "trainset.seq = trainset.seq.map(lambda x : x[0:MAX_SEQ_LENGTH].ljust(MAX_SEQ_LENGTH, 'X'))\n",
    "testset.seq = testset.seq.map(lambda x : x[0:MAX_SEQ_LENGTH].ljust(MAX_SEQ_LENGTH, 'X'))"
   ]
  },
  {
   "cell_type": "code",
   "execution_count": 45,
   "id": "614cd70c-058d-43dd-be3c-49d2e65ee5d8",
   "metadata": {},
   "outputs": [],
   "source": [
    "f_train = funclib.dna_onehot(trainset) #训练集编码\n",
    "f_test = funclib.dna_onehot(testset) #测试集编码\n",
    "\n",
    "# 计算指标\n",
    "X_train = np.array(f_train.iloc[:,2:])\n",
    "X_test = np.array(f_test.iloc[:,2:])\n",
    "Y_train = np.array(f_train.functionCounts.astype('int'))\n",
    "Y_test = np.array(f_test.functionCounts.astype('int'))\n",
    "\n"
   ]
  },
  {
   "cell_type": "code",
   "execution_count": 85,
   "id": "566380aa-d0e9-4d0a-a410-476020449b7a",
   "metadata": {},
   "outputs": [
    {
     "name": "stderr",
     "output_type": "stream",
     "text": [
      "[Parallel(n_jobs=-2)]: Using backend LokyBackend with 31 concurrent workers.\n",
      "[Parallel(n_jobs=-2)]: Done   1 out of   1 | elapsed:   19.1s finished\n"
     ]
    }
   ],
   "source": [
    "groundtruth, predict, predictprob = funclib.lrmain(X_train_std=X_train[0:10000], Y_train=Y_train[0:10000], X_test_std=X_test, Y_test=Y_test)"
   ]
  },
  {
   "cell_type": "code",
   "execution_count": 58,
   "id": "aef09bc1-f040-4ece-9e28-d3986c25086a",
   "metadata": {},
   "outputs": [],
   "source": [
    "x_train, x_vali, y_train, y_vali = train_test_split(X_train,np.array(Y_train).ravel(),test_size=0.2,random_state=1)\n",
    "eval_set = [(x_train, y_train), (x_vali, y_vali)]"
   ]
  },
  {
   "cell_type": "code",
   "execution_count": 91,
   "id": "a94e8c1a-6407-4ba5-91d2-5040f8865760",
   "metadata": {},
   "outputs": [
    {
     "name": "stdout",
     "output_type": "stream",
     "text": [
      "           k  \t\t0.845767  \t0.882534 \t\t0.118553 \t0.123938\n"
     ]
    }
   ],
   "source": [
    "eva.caculateMetrix( groundtruth=Y_test, predict=predict, baselineName='k', type='multi')"
   ]
  },
  {
   "cell_type": "code",
   "execution_count": 94,
   "id": "03436867-7b5e-4713-98d2-e19493c045db",
   "metadata": {},
   "outputs": [
    {
     "data": {
      "text/plain": [
       "(3579,)"
      ]
     },
     "execution_count": 94,
     "metadata": {},
     "output_type": "execute_result"
    }
   ],
   "source": [
    "Y_test.shape"
   ]
  },
  {
   "cell_type": "code",
   "execution_count": 88,
   "id": "12431e06-d712-4145-aca7-f0d6a2faba10",
   "metadata": {},
   "outputs": [
    {
     "data": {
      "text/plain": [
       "array([7.70970933e-01, 1.21178191e-07, 8.32083576e-04, ...,\n",
       "       4.95316192e-12, 1.16449381e-07, 1.19062537e-05])"
      ]
     },
     "execution_count": 88,
     "metadata": {},
     "output_type": "execute_result"
    }
   ],
   "source": [
    "predictprob"
   ]
  },
  {
   "cell_type": "code",
   "execution_count": 82,
   "id": "2c86887b-6b3e-4387-ad94-6fd95a948026",
   "metadata": {},
   "outputs": [
    {
     "data": {
      "text/plain": [
       "array([[ 16.2233299 ,  13.2854452 ,   1.24928584, ...,  -8.78330026,\n",
       "         -9.86510396,  -9.38334797],\n",
       "       [ 18.22146167,  15.70596825,   6.92081989, ..., -10.17520219,\n",
       "        -10.18988632, -10.29083957],\n",
       "       [ 13.54664224,  17.55313138,   3.02475578, ..., -10.49306758,\n",
       "        -10.26633932,  -9.73467565],\n",
       "       ...,\n",
       "       [ 22.16565754,  10.7347327 ,   4.25487239, ...,  -7.95684368,\n",
       "        -10.44155889,  -9.93828283],\n",
       "       [ 23.25878065,  10.44149013,   4.82809425, ...,  -7.94035348,\n",
       "        -10.120435  ,  -9.66313978],\n",
       "       [ 17.56767144,  12.46973213,   6.80789297, ...,  -8.71558793,\n",
       "         -9.70552087,  -9.9162679 ]])"
      ]
     },
     "execution_count": 82,
     "metadata": {},
     "output_type": "execute_result"
    }
   ],
   "source": [
    "model.decision_function(X_test)"
   ]
  },
  {
   "cell_type": "code",
   "execution_count": 81,
   "id": "8148208e-3c62-4464-845d-e7af9e6e6c45",
   "metadata": {},
   "outputs": [
    {
     "data": {
      "text/plain": [
       "(array([1, 1, 2, ..., 1, 1, 1]), array([1, 1, 1, ..., 1, 1, 1]))"
      ]
     },
     "execution_count": 81,
     "metadata": {},
     "output_type": "execute_result"
    }
   ],
   "source": [
    "predict,Y_test"
   ]
  },
  {
   "cell_type": "code",
   "execution_count": 51,
   "id": "9515e7d2-c13d-4576-8d2a-efcfe281ca27",
   "metadata": {},
   "outputs": [],
   "source": [
    "def lrmain(X_train_std, Y_train, X_test_std, Y_test):\n",
    "    logreg = linear_model.LogisticRegression(solver = 'lbfgs', n_jobs=-2)\n",
    "    logreg.fit(X_train_std, Y_train)\n",
    "    predict = logreg.predict(X_test_std)\n",
    "    lrpredpro = logreg.predict_proba(X_test_std)\n",
    "    groundtruth = Y_test\n",
    "    predictprob = lrpredpro[:,1]\n",
    "    return groundtruth, predict, predictprob"
   ]
  },
  {
   "cell_type": "code",
   "execution_count": null,
   "id": "5948d656-008e-4799-b1a1-84cb94481536",
   "metadata": {},
   "outputs": [],
   "source": []
  },
  {
   "cell_type": "code",
   "execution_count": null,
   "id": "1b7f2bcc-75c4-47bf-8695-67296f99b06f",
   "metadata": {},
   "outputs": [],
   "source": [
    "\n",
    "\n",
    "model = XGBClassifier(\n",
    "                        min_child_weight=6, \n",
    "                        max_depth=6, \n",
    "                        objective='multi:softmax', \n",
    "                        num_class=10, \n",
    "                        use_label_encoder=False,\n",
    "                        n_estimators=cfg.TRAIN_HOWMANY_ENZYME_LEARNING_STEPS\n",
    "                    )\n",
    "print(\"-\" * 100)\n",
    "print(\"几功能酶xgboost模型：\", model)\n",
    "model.fit(x_train, y_train, eval_metric=\"mlogloss\", eval_set=eval_set, verbose=True)\n",
    "# # 打印重要性指数\n",
    "bcommon.importance_features_top(model, x_train, topN=50)\n",
    "# 保存模型\n",
    "joblib.dump(model, model_file)\n",
    "return model"
   ]
  },
  {
   "cell_type": "code",
   "execution_count": null,
   "id": "129163dc-f053-474d-a452-81b856cd5566",
   "metadata": {},
   "outputs": [],
   "source": []
  },
  {
   "cell_type": "code",
   "execution_count": null,
   "id": "a8462187-0e9d-404e-9b59-2ff9142cba1d",
   "metadata": {},
   "outputs": [],
   "source": []
  },
  {
   "cell_type": "code",
   "execution_count": null,
   "id": "aea26973-2511-4e4d-8786-98fbbb503d94",
   "metadata": {},
   "outputs": [],
   "source": []
  },
  {
   "cell_type": "code",
   "execution_count": 50,
   "id": "8df6a915-9c96-4575-a26c-9af097168acf",
   "metadata": {},
   "outputs": [
    {
     "name": "stdout",
     "output_type": "stream",
     "text": [
      "baslineName \t accuracy \t precision(PPV) \t NPV \t\t recall \t f1 \t\t auroc \t\t auprc \t\t confusion Matrix\n"
     ]
    },
    {
     "ename": "ValueError",
     "evalue": "Target is multiclass but average='binary'. Please choose another average setting, one of [None, 'micro', 'macro', 'weighted'].",
     "output_type": "error",
     "traceback": [
      "\u001b[0;31m---------------------------------------------------------------------------\u001b[0m",
      "\u001b[0;31mValueError\u001b[0m                                Traceback (most recent call last)",
      "\u001b[0;32m<ipython-input-50-cb1f034d8b62>\u001b[0m in \u001b[0;36m<module>\u001b[0;34m\u001b[0m\n\u001b[0;32m----> 1\u001b[0;31m \u001b[0mfunclib\u001b[0m\u001b[0;34m.\u001b[0m\u001b[0mrun_baseline\u001b[0m\u001b[0;34m(\u001b[0m\u001b[0mX_train\u001b[0m\u001b[0;34m,\u001b[0m \u001b[0mY_train\u001b[0m\u001b[0;34m,\u001b[0m \u001b[0mX_test\u001b[0m\u001b[0;34m,\u001b[0m \u001b[0mY_test\u001b[0m\u001b[0;34m)\u001b[0m\u001b[0;34m\u001b[0m\u001b[0;34m\u001b[0m\u001b[0m\n\u001b[0m",
      "\u001b[0;32m~/codebase/BioUniprot/tasks/task2/../../tools/funclib.py\u001b[0m in \u001b[0;36mrun_baseline\u001b[0;34m(X_train, Y_train, X_test, Y_test)\u001b[0m\n\u001b[1;32m    147\u001b[0m     \u001b[0mprint\u001b[0m\u001b[0;34m(\u001b[0m\u001b[0;34m'baslineName'\u001b[0m\u001b[0;34m,\u001b[0m \u001b[0;34m'\\t'\u001b[0m\u001b[0;34m,\u001b[0m \u001b[0;34m'accuracy'\u001b[0m\u001b[0;34m,\u001b[0m\u001b[0;34m'\\t'\u001b[0m\u001b[0;34m,\u001b[0m \u001b[0;34m'precision(PPV) \\t NPV \\t\\t'\u001b[0m\u001b[0;34m,\u001b[0m \u001b[0;34m'recall'\u001b[0m\u001b[0;34m,\u001b[0m\u001b[0;34m'\\t'\u001b[0m\u001b[0;34m,\u001b[0m \u001b[0;34m'f1'\u001b[0m\u001b[0;34m,\u001b[0m \u001b[0;34m'\\t\\t'\u001b[0m\u001b[0;34m,\u001b[0m \u001b[0;34m'auroc'\u001b[0m\u001b[0;34m,\u001b[0m\u001b[0;34m'\\t\\t'\u001b[0m\u001b[0;34m,\u001b[0m \u001b[0;34m'auprc'\u001b[0m\u001b[0;34m,\u001b[0m \u001b[0;34m'\\t\\t confusion Matrix'\u001b[0m\u001b[0;34m)\u001b[0m\u001b[0;34m\u001b[0m\u001b[0;34m\u001b[0m\u001b[0m\n\u001b[1;32m    148\u001b[0m     \u001b[0;32mfor\u001b[0m \u001b[0mmethod\u001b[0m \u001b[0;32min\u001b[0m \u001b[0mmethods\u001b[0m\u001b[0;34m:\u001b[0m\u001b[0;34m\u001b[0m\u001b[0;34m\u001b[0m\u001b[0m\n\u001b[0;32m--> 149\u001b[0;31m         \u001b[0mevaluate\u001b[0m\u001b[0;34m(\u001b[0m\u001b[0mmethod\u001b[0m\u001b[0;34m,\u001b[0m \u001b[0mX_train\u001b[0m\u001b[0;34m,\u001b[0m \u001b[0mY_train\u001b[0m\u001b[0;34m,\u001b[0m \u001b[0mX_test\u001b[0m\u001b[0;34m,\u001b[0m \u001b[0mY_test\u001b[0m\u001b[0;34m)\u001b[0m\u001b[0;34m\u001b[0m\u001b[0;34m\u001b[0m\u001b[0m\n\u001b[0m\u001b[1;32m    150\u001b[0m \u001b[0;34m\u001b[0m\u001b[0m\n\u001b[1;32m    151\u001b[0m \u001b[0;34m\u001b[0m\u001b[0m\n",
      "\u001b[0;32m~/codebase/BioUniprot/tasks/task2/../../tools/funclib.py\u001b[0m in \u001b[0;36mevaluate\u001b[0;34m(baslineName, X_train_std, Y_train, X_test_std, Y_test)\u001b[0m\n\u001b[1;32m    132\u001b[0m \u001b[0;34m\u001b[0m\u001b[0m\n\u001b[1;32m    133\u001b[0m     \u001b[0macc\u001b[0m \u001b[0;34m=\u001b[0m \u001b[0mmetrics\u001b[0m\u001b[0;34m.\u001b[0m\u001b[0maccuracy_score\u001b[0m\u001b[0;34m(\u001b[0m\u001b[0mgroundtruth\u001b[0m\u001b[0;34m,\u001b[0m \u001b[0mpredict\u001b[0m\u001b[0;34m)\u001b[0m\u001b[0;34m\u001b[0m\u001b[0;34m\u001b[0m\u001b[0m\n\u001b[0;32m--> 134\u001b[0;31m     \u001b[0mprecision\u001b[0m \u001b[0;34m=\u001b[0m \u001b[0mmetrics\u001b[0m\u001b[0;34m.\u001b[0m\u001b[0mprecision_score\u001b[0m\u001b[0;34m(\u001b[0m\u001b[0mgroundtruth\u001b[0m\u001b[0;34m,\u001b[0m \u001b[0mpredict\u001b[0m\u001b[0;34m,\u001b[0m \u001b[0mzero_division\u001b[0m\u001b[0;34m=\u001b[0m\u001b[0;36m1\u001b[0m \u001b[0;34m)\u001b[0m\u001b[0;34m\u001b[0m\u001b[0;34m\u001b[0m\u001b[0m\n\u001b[0m\u001b[1;32m    135\u001b[0m     \u001b[0mrecall\u001b[0m \u001b[0;34m=\u001b[0m \u001b[0mmetrics\u001b[0m\u001b[0;34m.\u001b[0m\u001b[0mrecall_score\u001b[0m\u001b[0;34m(\u001b[0m\u001b[0mgroundtruth\u001b[0m\u001b[0;34m,\u001b[0m \u001b[0mpredict\u001b[0m\u001b[0;34m)\u001b[0m\u001b[0;34m\u001b[0m\u001b[0;34m\u001b[0m\u001b[0m\n\u001b[1;32m    136\u001b[0m     \u001b[0mf1\u001b[0m \u001b[0;34m=\u001b[0m \u001b[0mmetrics\u001b[0m\u001b[0;34m.\u001b[0m\u001b[0mf1_score\u001b[0m\u001b[0;34m(\u001b[0m\u001b[0mgroundtruth\u001b[0m\u001b[0;34m,\u001b[0m \u001b[0mpredict\u001b[0m\u001b[0;34m)\u001b[0m\u001b[0;34m\u001b[0m\u001b[0;34m\u001b[0m\u001b[0m\n",
      "\u001b[0;32m~/anaconda3/envs/py38/lib/python3.8/site-packages/sklearn/utils/validation.py\u001b[0m in \u001b[0;36minner_f\u001b[0;34m(*args, **kwargs)\u001b[0m\n\u001b[1;32m     61\u001b[0m             \u001b[0mextra_args\u001b[0m \u001b[0;34m=\u001b[0m \u001b[0mlen\u001b[0m\u001b[0;34m(\u001b[0m\u001b[0margs\u001b[0m\u001b[0;34m)\u001b[0m \u001b[0;34m-\u001b[0m \u001b[0mlen\u001b[0m\u001b[0;34m(\u001b[0m\u001b[0mall_args\u001b[0m\u001b[0;34m)\u001b[0m\u001b[0;34m\u001b[0m\u001b[0;34m\u001b[0m\u001b[0m\n\u001b[1;32m     62\u001b[0m             \u001b[0;32mif\u001b[0m \u001b[0mextra_args\u001b[0m \u001b[0;34m<=\u001b[0m \u001b[0;36m0\u001b[0m\u001b[0;34m:\u001b[0m\u001b[0;34m\u001b[0m\u001b[0;34m\u001b[0m\u001b[0m\n\u001b[0;32m---> 63\u001b[0;31m                 \u001b[0;32mreturn\u001b[0m \u001b[0mf\u001b[0m\u001b[0;34m(\u001b[0m\u001b[0;34m*\u001b[0m\u001b[0margs\u001b[0m\u001b[0;34m,\u001b[0m \u001b[0;34m**\u001b[0m\u001b[0mkwargs\u001b[0m\u001b[0;34m)\u001b[0m\u001b[0;34m\u001b[0m\u001b[0;34m\u001b[0m\u001b[0m\n\u001b[0m\u001b[1;32m     64\u001b[0m \u001b[0;34m\u001b[0m\u001b[0m\n\u001b[1;32m     65\u001b[0m             \u001b[0;31m# extra_args > 0\u001b[0m\u001b[0;34m\u001b[0m\u001b[0;34m\u001b[0m\u001b[0;34m\u001b[0m\u001b[0m\n",
      "\u001b[0;32m~/anaconda3/envs/py38/lib/python3.8/site-packages/sklearn/metrics/_classification.py\u001b[0m in \u001b[0;36mprecision_score\u001b[0;34m(y_true, y_pred, labels, pos_label, average, sample_weight, zero_division)\u001b[0m\n\u001b[1;32m   1651\u001b[0m \u001b[0;34m\u001b[0m\u001b[0m\n\u001b[1;32m   1652\u001b[0m     \"\"\"\n\u001b[0;32m-> 1653\u001b[0;31m     p, _, _, _ = precision_recall_fscore_support(y_true, y_pred,\n\u001b[0m\u001b[1;32m   1654\u001b[0m                                                  \u001b[0mlabels\u001b[0m\u001b[0;34m=\u001b[0m\u001b[0mlabels\u001b[0m\u001b[0;34m,\u001b[0m\u001b[0;34m\u001b[0m\u001b[0;34m\u001b[0m\u001b[0m\n\u001b[1;32m   1655\u001b[0m                                                  \u001b[0mpos_label\u001b[0m\u001b[0;34m=\u001b[0m\u001b[0mpos_label\u001b[0m\u001b[0;34m,\u001b[0m\u001b[0;34m\u001b[0m\u001b[0;34m\u001b[0m\u001b[0m\n",
      "\u001b[0;32m~/anaconda3/envs/py38/lib/python3.8/site-packages/sklearn/utils/validation.py\u001b[0m in \u001b[0;36minner_f\u001b[0;34m(*args, **kwargs)\u001b[0m\n\u001b[1;32m     61\u001b[0m             \u001b[0mextra_args\u001b[0m \u001b[0;34m=\u001b[0m \u001b[0mlen\u001b[0m\u001b[0;34m(\u001b[0m\u001b[0margs\u001b[0m\u001b[0;34m)\u001b[0m \u001b[0;34m-\u001b[0m \u001b[0mlen\u001b[0m\u001b[0;34m(\u001b[0m\u001b[0mall_args\u001b[0m\u001b[0;34m)\u001b[0m\u001b[0;34m\u001b[0m\u001b[0;34m\u001b[0m\u001b[0m\n\u001b[1;32m     62\u001b[0m             \u001b[0;32mif\u001b[0m \u001b[0mextra_args\u001b[0m \u001b[0;34m<=\u001b[0m \u001b[0;36m0\u001b[0m\u001b[0;34m:\u001b[0m\u001b[0;34m\u001b[0m\u001b[0;34m\u001b[0m\u001b[0m\n\u001b[0;32m---> 63\u001b[0;31m                 \u001b[0;32mreturn\u001b[0m \u001b[0mf\u001b[0m\u001b[0;34m(\u001b[0m\u001b[0;34m*\u001b[0m\u001b[0margs\u001b[0m\u001b[0;34m,\u001b[0m \u001b[0;34m**\u001b[0m\u001b[0mkwargs\u001b[0m\u001b[0;34m)\u001b[0m\u001b[0;34m\u001b[0m\u001b[0;34m\u001b[0m\u001b[0m\n\u001b[0m\u001b[1;32m     64\u001b[0m \u001b[0;34m\u001b[0m\u001b[0m\n\u001b[1;32m     65\u001b[0m             \u001b[0;31m# extra_args > 0\u001b[0m\u001b[0;34m\u001b[0m\u001b[0;34m\u001b[0m\u001b[0;34m\u001b[0m\u001b[0m\n",
      "\u001b[0;32m~/anaconda3/envs/py38/lib/python3.8/site-packages/sklearn/metrics/_classification.py\u001b[0m in \u001b[0;36mprecision_recall_fscore_support\u001b[0;34m(y_true, y_pred, beta, labels, pos_label, average, warn_for, sample_weight, zero_division)\u001b[0m\n\u001b[1;32m   1459\u001b[0m     \u001b[0;32mif\u001b[0m \u001b[0mbeta\u001b[0m \u001b[0;34m<\u001b[0m \u001b[0;36m0\u001b[0m\u001b[0;34m:\u001b[0m\u001b[0;34m\u001b[0m\u001b[0;34m\u001b[0m\u001b[0m\n\u001b[1;32m   1460\u001b[0m         \u001b[0;32mraise\u001b[0m \u001b[0mValueError\u001b[0m\u001b[0;34m(\u001b[0m\u001b[0;34m\"beta should be >=0 in the F-beta score\"\u001b[0m\u001b[0;34m)\u001b[0m\u001b[0;34m\u001b[0m\u001b[0;34m\u001b[0m\u001b[0m\n\u001b[0;32m-> 1461\u001b[0;31m     labels = _check_set_wise_labels(y_true, y_pred, average, labels,\n\u001b[0m\u001b[1;32m   1462\u001b[0m                                     pos_label)\n\u001b[1;32m   1463\u001b[0m \u001b[0;34m\u001b[0m\u001b[0m\n",
      "\u001b[0;32m~/anaconda3/envs/py38/lib/python3.8/site-packages/sklearn/metrics/_classification.py\u001b[0m in \u001b[0;36m_check_set_wise_labels\u001b[0;34m(y_true, y_pred, average, labels, pos_label)\u001b[0m\n\u001b[1;32m   1289\u001b[0m             \u001b[0;32mif\u001b[0m \u001b[0my_type\u001b[0m \u001b[0;34m==\u001b[0m \u001b[0;34m'multiclass'\u001b[0m\u001b[0;34m:\u001b[0m\u001b[0;34m\u001b[0m\u001b[0;34m\u001b[0m\u001b[0m\n\u001b[1;32m   1290\u001b[0m                 \u001b[0maverage_options\u001b[0m\u001b[0;34m.\u001b[0m\u001b[0mremove\u001b[0m\u001b[0;34m(\u001b[0m\u001b[0;34m'samples'\u001b[0m\u001b[0;34m)\u001b[0m\u001b[0;34m\u001b[0m\u001b[0;34m\u001b[0m\u001b[0m\n\u001b[0;32m-> 1291\u001b[0;31m             raise ValueError(\"Target is %s but average='binary'. Please \"\n\u001b[0m\u001b[1;32m   1292\u001b[0m                              \u001b[0;34m\"choose another average setting, one of %r.\"\u001b[0m\u001b[0;34m\u001b[0m\u001b[0;34m\u001b[0m\u001b[0m\n\u001b[1;32m   1293\u001b[0m                              % (y_type, average_options))\n",
      "\u001b[0;31mValueError\u001b[0m: Target is multiclass but average='binary'. Please choose another average setting, one of [None, 'micro', 'macro', 'weighted']."
     ]
    }
   ],
   "source": [
    "funclib.run_baseline(X_train, Y_train, X_test, Y_test)"
   ]
  },
  {
   "cell_type": "markdown",
   "id": "6dc3679c-82b8-460c-aea4-760e0d0aa264",
   "metadata": {},
   "source": [
    "### 4.2 Unirep + 机器学习"
   ]
  },
  {
   "cell_type": "code",
   "execution_count": 10,
   "id": "03744ce5-1094-476f-87e7-0edad6a17c89",
   "metadata": {},
   "outputs": [],
   "source": [
    "X_train = train.iloc[:,12:]\n",
    "X_test = test.iloc[:,12:]\n",
    "\n",
    "Y_train = train.iloc[:,3].astype('int')\n",
    "Y_test = test.iloc[:,3].astype('int')\n",
    "\n",
    "X_train = np.array(X_train)\n",
    "X_test = np.array(X_test)\n",
    "Y_train = np.array(Y_train).flatten()\n",
    "Y_test = np.array(Y_test).flatten()"
   ]
  },
  {
   "cell_type": "code",
   "execution_count": 11,
   "id": "74a88f6c-e466-4aa1-ba10-2d6f32af6f8d",
   "metadata": {},
   "outputs": [
    {
     "name": "stdout",
     "output_type": "stream",
     "text": [
      "baslineName \t accuracy \t precision(PPV) \t NPV \t\t recall \t f1 \t\t auroc \t\t auprc \t\t confusion Matrix\n",
      "lr \t\t0.906306 \t0.268468 \t\t0.924024 \t0.089382 \t0.134113 \t0.658508 \t0.161993 \t tp: 149 fp: 406 fn: 1518 tn: 18462\n",
      "xg \t\t0.922669 \t0.613181 \t\t0.928019 \t0.128374 \t0.212302 \t0.730793 \t0.294830 \t tp: 214 fp: 135 fn: 1453 tn: 18733\n",
      "dt \t\t0.867835 \t0.204738 \t\t0.930498 \t0.217756 \t0.211047 \t0.571513 \t0.108084 \t tp: 363 fp: 1410 fn: 1304 tn: 17458\n",
      "rf \t\t0.923789 \t0.947368 \t\t0.923657 \t0.064787 \t0.121280 \t0.693704 \t0.297006 \t tp: 108 fp: 6 fn: 1559 tn: 18862\n",
      "gbdt \t\t0.918578 \t0.474747 \t\t0.920728 \t0.028194 \t0.053228 \t0.649263 \t0.171179 \t tp: 47 fp: 52 fn: 1620 tn: 18816\n"
     ]
    }
   ],
   "source": [
    "funclib.run_baseline(X_train, Y_train, X_test, Y_test)"
   ]
  },
  {
   "cell_type": "code",
   "execution_count": null,
   "id": "add6c8d4-b360-4cf3-a716-2dba149711a2",
   "metadata": {},
   "outputs": [],
   "source": []
  }
 ],
 "metadata": {
  "kernelspec": {
   "display_name": "Python 3",
   "language": "python",
   "name": "python3"
  },
  "language_info": {
   "codemirror_mode": {
    "name": "ipython",
    "version": 3
   },
   "file_extension": ".py",
   "mimetype": "text/x-python",
   "name": "python",
   "nbconvert_exporter": "python",
   "pygments_lexer": "ipython3",
   "version": "3.8.10"
  }
 },
 "nbformat": 4,
 "nbformat_minor": 5
}
