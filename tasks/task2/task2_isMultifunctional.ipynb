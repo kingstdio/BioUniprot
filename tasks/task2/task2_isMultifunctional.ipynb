{
 "cells": [
  {
   "cell_type": "markdown",
   "id": "11df1ead-93b7-43ad-8370-c0389f802500",
   "metadata": {},
   "source": [
    "# Task2. 预测酶是单功能酶还是多功能酶\n",
    "\n",
    "> author: Shizhenkun   \n",
    "> email: zhenkun.shi@tib.cas.cn   \n",
    "> date: 2021-04-28  \n",
    "\\n\n",
    "## 任务简介\n",
    "该任务通过给定酶序列，预测该酶还是多功能酶还是单功能酶。本任务所使用的数据集为Sport，对数据集的数据中进行学习，然后对新给定的酶进行单功能/多功能预测。\\n\n",
    "\n",
    "\n",
    "\n",
    "## 数据统计\n",
    "- 遵照任务1找到的时间节点对数据进行划分\\n\n",
    "- 以2009年12月14日为时间节点，之前的数据为训练集，之后的数据为测试集，具体数据集统计如下： \n",
    "\n",
    "\n",
    "\n",
    "|     Items    | 单功能酶       |   多功能非酶    |合计                     |\n",
    "| ------------ | --------| --------- |----------------------------------|\n",
    "| 训练集        | 185,453 | 13,239   | 198,692（198,692/219,227=90.63%)  |\n",
    "| 测试集        | 18,868  | 25,594    | 20,535 (20,535/219,227=9.37% )   |\n",
    "\n",
    "\n",
    "\n",
    "## 数据集构建方法\n",
    "\n",
    "* 根据蛋白注释信息与之前划定的酶与非酶数据集，将「酶」数据进行分类。\n",
    "* 有1个EC号的被定义为「单功能酶」，有多个EC号的被定义为「多功能酶」。\n",
    "\n",
    "\n",
    "\n",
    "## 实验结果\n",
    "\n",
    "### 同源比对\n",
    "\n",
    "|Methods   | Accuracy                        |             Precision           |           Recall               |F1   |\n",
    "| ---------| ------------------------------- | ------------------------------- |--------------------------------|-----|\n",
    "| 同源比对  |  0.6112490869247627(12552/20535) | 0.7082722040401761(12552/17722) |0.8630143657170685(17722/20535)|      |\n",
    "\n",
    "\n",
    "\n",
    "### 机器学习 + onehot\n",
    "\n",
    "\n",
    "\n",
    "|baslineName| accuracy  |precision(PPV) | NPV  |recall |f1  | auroc  | auprc  | confusion Matrix|\n",
    "| ------| ----------|-----------| ---------- | ----------|-----------|-----------|---------- |------------------------------------------|\n",
    "|lr |0.910640 |0.271739 |0.922299 |0.059988 |0.098280 |0.551935 |0.124858 | tp: 100 fp: 268 fn: 1567 tn: 18600|\n",
    "|xg |0.918578 |0.490909 |0.924383 |0.080984 |0.139032 |0.626453 |0.193860 | tp: 135 fp: 140 fn: 1532 tn: 18728|\n",
    "|dt |0.850889 |0.168331 |0.928765 |0.212358 |0.187798 |0.559768 |0.099686 | tp: 354 fp: 1749 fn: 1313 tn: 17119|\n",
    "|<span style='color:red; font-size:16px;'> rf </span> |0.924032 |0.957265 |0.923842 |0.067187 |0.125561 |0.668621 |0.269894 | tp: 112 fp: 5 fn: 1555 tn: 18863|\n",
    "|gbdt |0.917507 |0.398496 |0.920890 |0.031794 |0.058889 |0.601392 |0.161334 | tp: 53 fp: 80 fn: 1614 tn: 18788|\n",
    "\n",
    "\n",
    "\n",
    "### 机器学习 + unirep\\n\n",
    "\n",
    "\n",
    "|baslineName| accuracy  |precision(PPV) | NPV  |recall |f1  | auroc  | auprc  | confusion Matrix    |\n",
    "| ----------| -----------|---------------| --------- | --------|---------|-----------|---------- |------------------------------------------|\n",
    "|lr     |0.906306  |0.269300      |0.924066 |0.089982 |0.134892 |0.658586 |0.162518 | tp: 150 fp: 407 fn: 1517 tn: 18461|\n",
    "|xg     |0.922669  |0.613181      |0.928019 |0.128374 |0.212302 |0.730793 |0.294830 | tp: 214 fp: 135 fn: 1453 tn: 18733|\n",
    "|dt     |0.870611  |0.205707      |0.929932 |0.207558 |0.206629 |0.568375 |0.107026 | tp: 346 fp: 1336 fn: 1321 tn: 17532|\n",
    "|rf     |0.923789  |0.947368      |0.923657 |0.064787 |0.121280 |0.693704 |0.297006 | tp: 108 fp: 6 fn: 1559 tn: 18862|\n",
    "|gbdt     |0.918578  |0.474747      |0.920728 |0.028194 |0.053228 |0.649263 |0.171179 | tp: 47 fp: 52 fn: 1620 tn: 18816|"
   ]
  },
  {
   "cell_type": "markdown",
   "id": "9eace04d-074d-4d4f-a6d2-b91fffda9994",
   "metadata": {},
   "source": [
    "## 1. 导入必要的包"
   ]
  },
  {
   "cell_type": "code",
   "execution_count": 2,
   "id": "c843b563-ffe0-442a-90d2-47b1705f0441",
   "metadata": {
    "tags": []
   },
   "outputs": [],
   "source": [
    "import numpy as np\n",
    "import pandas as pd\n",
    "import random\n",
    "import os\n",
    "import datetime\n",
    "import sys\n",
    "from tqdm import tqdm\n",
    "\n",
    "sys.path.append(\"../../tools/\")\n",
    "import funclib\n",
    "\n",
    "\n",
    "\n",
    "%load_ext autoreload\n",
    "%autoreload 2"
   ]
  },
  {
   "cell_type": "markdown",
   "id": "93a6a622-6c28-4083-998a-4e018886603e",
   "metadata": {},
   "source": [
    "## 2. 加载数据"
   ]
  },
  {
   "cell_type": "code",
   "execution_count": 3,
   "id": "49d22801-1701-49e6-93ab-45bdd1f6a85e",
   "metadata": {},
   "outputs": [],
   "source": [
    "train = pd.read_hdf('./data/train.h5',key='data')\n",
    "test = pd.read_hdf('./data/test.h5',key='data')\n",
    "head = funclib.table_head + ['f'+str(i) for i in range(1, 1901) ]\n",
    "train.columns = head\n",
    "test.columns = head"
   ]
  },
  {
   "cell_type": "markdown",
   "id": "6cede627-2287-401b-889c-f5dae286be5c",
   "metadata": {},
   "source": [
    "## 3. 同源比对"
   ]
  },
  {
   "cell_type": "code",
   "execution_count": 4,
   "id": "eb75db2e-c859-4476-ac69-121ef7820113",
   "metadata": {},
   "outputs": [
    {
     "name": "stdout",
     "output_type": "stream",
     "text": [
      "Write finished\n",
      "Write finished\n",
      "diamond makedb --in /tmp/train.fasta -d /tmp/train.dmnd\n",
      "diamond blastp -d /tmp/train.dmnd  -q  /tmp/test.fasta -o /tmp/test_fasta_results.tsv -b5 -c1 -k 1\n"
     ]
    }
   ],
   "source": [
    "res_data=funclib.getblast(train,test)"
   ]
  },
  {
   "cell_type": "code",
   "execution_count": 5,
   "id": "be512fe0-9f84-4702-9d03-f40db70b7c42",
   "metadata": {},
   "outputs": [
    {
     "name": "stderr",
     "output_type": "stream",
     "text": [
      "100%|██████████| 17722/17722 [04:10<00:00, 70.80it/s]\n"
     ]
    },
    {
     "data": {
      "text/html": [
       "<div>\n",
       "<style scoped>\n",
       "    .dataframe tbody tr th:only-of-type {\n",
       "        vertical-align: middle;\n",
       "    }\n",
       "\n",
       "    .dataframe tbody tr th {\n",
       "        vertical-align: top;\n",
       "    }\n",
       "\n",
       "    .dataframe thead th {\n",
       "        text-align: right;\n",
       "    }\n",
       "</style>\n",
       "<table border=\"1\" class=\"dataframe\">\n",
       "  <thead>\n",
       "    <tr style=\"text-align: right;\">\n",
       "      <th></th>\n",
       "      <th>id</th>\n",
       "      <th>name</th>\n",
       "      <th>isemzyme</th>\n",
       "      <th>isMultiFunctional</th>\n",
       "      <th>functionCounts</th>\n",
       "      <th>ec_number</th>\n",
       "      <th>ec_specific_level</th>\n",
       "      <th>date_integraged</th>\n",
       "      <th>date_sequence_update</th>\n",
       "      <th>date_annotation_update</th>\n",
       "      <th>...</th>\n",
       "      <th>length</th>\n",
       "      <th>mismatch</th>\n",
       "      <th>gapopen</th>\n",
       "      <th>qstart</th>\n",
       "      <th>qend</th>\n",
       "      <th>sstart</th>\n",
       "      <th>send</th>\n",
       "      <th>evalue</th>\n",
       "      <th>bitscore</th>\n",
       "      <th>sresults_ec</th>\n",
       "    </tr>\n",
       "  </thead>\n",
       "  <tbody>\n",
       "    <tr>\n",
       "      <th>0</th>\n",
       "      <td>B0VRF9</td>\n",
       "      <td>ACCD_ACIBS</td>\n",
       "      <td>True</td>\n",
       "      <td>False</td>\n",
       "      <td>1</td>\n",
       "      <td>2.1.3.15</td>\n",
       "      <td>4</td>\n",
       "      <td>2009-12-15</td>\n",
       "      <td>2008-04-08</td>\n",
       "      <td>2020-12-02</td>\n",
       "      <td>...</td>\n",
       "      <td>256</td>\n",
       "      <td>107</td>\n",
       "      <td>1</td>\n",
       "      <td>44</td>\n",
       "      <td>298</td>\n",
       "      <td>32</td>\n",
       "      <td>287</td>\n",
       "      <td>8.660000e-103</td>\n",
       "      <td>304.0</td>\n",
       "      <td>2.1.3.15</td>\n",
       "    </tr>\n",
       "    <tr>\n",
       "      <th>1</th>\n",
       "      <td>A0LEQ5</td>\n",
       "      <td>NUOK1_SYNFM</td>\n",
       "      <td>True</td>\n",
       "      <td>False</td>\n",
       "      <td>1</td>\n",
       "      <td>7.1.1.-</td>\n",
       "      <td>3</td>\n",
       "      <td>2009-12-15</td>\n",
       "      <td>2006-12-12</td>\n",
       "      <td>2020-12-02</td>\n",
       "      <td>...</td>\n",
       "      <td>98</td>\n",
       "      <td>51</td>\n",
       "      <td>0</td>\n",
       "      <td>4</td>\n",
       "      <td>101</td>\n",
       "      <td>5</td>\n",
       "      <td>102</td>\n",
       "      <td>3.890000e-23</td>\n",
       "      <td>87.4</td>\n",
       "      <td>7.1.1.-</td>\n",
       "    </tr>\n",
       "    <tr>\n",
       "      <th>2</th>\n",
       "      <td>Q0DIT2</td>\n",
       "      <td>BGL19_ORYSJ</td>\n",
       "      <td>True</td>\n",
       "      <td>False</td>\n",
       "      <td>1</td>\n",
       "      <td>3.2.1.21</td>\n",
       "      <td>4</td>\n",
       "      <td>2009-12-15</td>\n",
       "      <td>2006-10-17</td>\n",
       "      <td>2020-12-02</td>\n",
       "      <td>...</td>\n",
       "      <td>504</td>\n",
       "      <td>206</td>\n",
       "      <td>6</td>\n",
       "      <td>31</td>\n",
       "      <td>508</td>\n",
       "      <td>13</td>\n",
       "      <td>510</td>\n",
       "      <td>3.660000e-182</td>\n",
       "      <td>523.0</td>\n",
       "      <td>3.2.1.21</td>\n",
       "    </tr>\n",
       "  </tbody>\n",
       "</table>\n",
       "<p>3 rows × 1924 columns</p>\n",
       "</div>"
      ],
      "text/plain": [
       "       id         name isemzyme  isMultiFunctional  functionCounts ec_number  \\\n",
       "0  B0VRF9   ACCD_ACIBS     True              False               1  2.1.3.15   \n",
       "1  A0LEQ5  NUOK1_SYNFM     True              False               1   7.1.1.-   \n",
       "2  Q0DIT2  BGL19_ORYSJ     True              False               1  3.2.1.21   \n",
       "\n",
       "   ec_specific_level date_integraged date_sequence_update  \\\n",
       "0                  4      2009-12-15           2008-04-08   \n",
       "1                  3      2009-12-15           2006-12-12   \n",
       "2                  4      2009-12-15           2006-10-17   \n",
       "\n",
       "  date_annotation_update  ... length  mismatch  gapopen  qstart  qend  sstart  \\\n",
       "0             2020-12-02  ...    256       107        1      44   298      32   \n",
       "1             2020-12-02  ...     98        51        0       4   101       5   \n",
       "2             2020-12-02  ...    504       206        6      31   508      13   \n",
       "\n",
       "   send         evalue  bitscore  sresults_ec  \n",
       "0   287  8.660000e-103     304.0     2.1.3.15  \n",
       "1   102   3.890000e-23      87.4      7.1.1.-  \n",
       "2   510  3.660000e-182     523.0     3.2.1.21  \n",
       "\n",
       "[3 rows x 1924 columns]"
      ]
     },
     "execution_count": 5,
     "metadata": {},
     "output_type": "execute_result"
    }
   ],
   "source": [
    "#匹配查询结果\n",
    "data_match = pd.merge(test,res_data, on=['id'], how='inner')\n",
    "\n",
    "# 添加查询结果的EC号\n",
    "resArray =[]\n",
    "for i in tqdm(range(len(res_data))):\n",
    "    mn = train[train['id']== res_data['sseqid'][i]]['ec_number'].values\n",
    "    resArray.append(mn)\n",
    "data_match['sresults_ec']=np.array(resArray) \n",
    "data_match.head(3)\n",
    "\n"
   ]
  },
  {
   "cell_type": "code",
   "execution_count": 6,
   "id": "fa9447c0-0b29-4c51-bcc5-833eab6d77f1",
   "metadata": {},
   "outputs": [
    {
     "name": "stdout",
     "output_type": "stream",
     "text": [
      "Total query records are: 20535\n",
      "Matched records are: 17722\n",
      "Accuracy: 0.6112490869247627(12552/20535)\n",
      "Pricision: 0.7082722040401761(12552/17722)\n",
      "Recall: 0.8630143657170685(17722/20535)\n"
     ]
    }
   ],
   "source": [
    "# 计算指标\n",
    "data_match['iscorrect'] = data_match[['ec_number', 'sresults_ec']].apply(lambda x: x['ec_number'] == x['sresults_ec'], axis=1) #判断EC号是否一致\n",
    "correct = sum(data_match['iscorrect'])\n",
    "find  = len(data_match)\n",
    "total = len(test)\n",
    "print('Total query records are: {0}'.format(total))\n",
    "print('Matched records are: {0}'.format(find))\n",
    "print('Accuracy: {0}({1}/{2})'.format(correct/total, correct, total))\n",
    "print('Pricision: {0}({1}/{2})'.format(correct/find, correct, find))\n",
    "print('Recall: {0}({1}/{2})'.format(find/total, find, total))"
   ]
  },
  {
   "cell_type": "markdown",
   "id": "9818e474-eac9-4c39-817f-ed60e653f72f",
   "metadata": {},
   "source": [
    "## 4. 机器学习方法预测\n",
    "### 4.1 onehot + 机器学习"
   ]
  },
  {
   "cell_type": "code",
   "execution_count": 7,
   "id": "83b7052c-70da-4faf-b1b7-525e0df0ed44",
   "metadata": {
    "tags": []
   },
   "outputs": [],
   "source": [
    "trainset = train[['id', 'isMultiFunctional','seq', 'seqlength']].reset_index(drop=True)\n",
    "testset = test[['id', 'isMultiFunctional','seq', 'seqlength']].reset_index(drop=True)\n",
    "\n",
    "MAX_SEQ_LENGTH = 1500 #定义序列最长的长度\n",
    "trainset.seq = trainset.seq.map(lambda x : x[0:MAX_SEQ_LENGTH].ljust(MAX_SEQ_LENGTH, 'X'))\n",
    "testset.seq = testset.seq.map(lambda x : x[0:MAX_SEQ_LENGTH].ljust(MAX_SEQ_LENGTH, 'X'))"
   ]
  },
  {
   "cell_type": "code",
   "execution_count": 8,
   "id": "614cd70c-058d-43dd-be3c-49d2e65ee5d8",
   "metadata": {},
   "outputs": [],
   "source": [
    "f_train = funclib.dna_onehot(trainset) #训练集编码\n",
    "f_test = funclib.dna_onehot(testset) #测试集编码\n",
    "\n",
    "train_full = pd.concat([trainset, f_train], axis=1, join='inner' ) #拼合训练集\n",
    "test_full = pd.concat([testset, f_test], axis=1, join='inner' )    #拼合测试集\n",
    "\n",
    "X_train = train_full.iloc[:,4:]\n",
    "X_test = test_full.iloc[:,4:]\n",
    "Y_train = train_full.isMultiFunctional.astype('int')\n",
    "Y_test = test_full.isMultiFunctional.astype('int')\n",
    "\n",
    "X_train = np.array(X_train)\n",
    "X_test = np.array(X_test)\n",
    "Y_train = np.array(Y_train)\n",
    "Y_test = np.array(Y_test)\n"
   ]
  },
  {
   "cell_type": "code",
   "execution_count": 9,
   "id": "8df6a915-9c96-4575-a26c-9af097168acf",
   "metadata": {},
   "outputs": [
    {
     "name": "stdout",
     "output_type": "stream",
     "text": [
      "baslineName \t accuracy \t precision(PPV) \t NPV \t\t recall \t f1 \t\t auroc \t\t auprc \t\t confusion Matrix\n",
      "lr \t\t0.910640 \t0.271739 \t\t0.922299 \t0.059988 \t0.098280 \t0.551935 \t0.124858 \t tp: 100 fp: 268 fn: 1567 tn: 18600\n",
      "xg \t\t0.918578 \t0.490909 \t\t0.924383 \t0.080984 \t0.139032 \t0.626453 \t0.193860 \t tp: 135 fp: 140 fn: 1532 tn: 18728\n",
      "dt \t\t0.851668 \t0.173378 \t\t0.929386 \t0.219556 \t0.193753 \t0.563515 \t0.101421 \t tp: 366 fp: 1745 fn: 1301 tn: 17123\n",
      "rf \t\t0.924032 \t0.957265 \t\t0.923842 \t0.067187 \t0.125561 \t0.668622 \t0.269895 \t tp: 112 fp: 5 fn: 1555 tn: 18863\n",
      "gbdt \t\t0.917507 \t0.398496 \t\t0.920890 \t0.031794 \t0.058889 \t0.601392 \t0.161334 \t tp: 53 fp: 80 fn: 1614 tn: 18788\n"
     ]
    }
   ],
   "source": [
    "funclib.run_baseline(X_train, Y_train, X_test, Y_test)"
   ]
  },
  {
   "cell_type": "markdown",
   "id": "6dc3679c-82b8-460c-aea4-760e0d0aa264",
   "metadata": {},
   "source": [
    "### 4.2 Unirep + 机器学习"
   ]
  },
  {
   "cell_type": "code",
   "execution_count": 10,
   "id": "03744ce5-1094-476f-87e7-0edad6a17c89",
   "metadata": {},
   "outputs": [],
   "source": [
    "X_train = train.iloc[:,12:]\n",
    "X_test = test.iloc[:,12:]\n",
    "\n",
    "Y_train = train.iloc[:,3].astype('int')\n",
    "Y_test = test.iloc[:,3].astype('int')\n",
    "\n",
    "X_train = np.array(X_train)\n",
    "X_test = np.array(X_test)\n",
    "Y_train = np.array(Y_train).flatten()\n",
    "Y_test = np.array(Y_test).flatten()"
   ]
  },
  {
   "cell_type": "code",
   "execution_count": 11,
   "id": "74a88f6c-e466-4aa1-ba10-2d6f32af6f8d",
   "metadata": {},
   "outputs": [
    {
     "name": "stdout",
     "output_type": "stream",
     "text": [
      "baslineName \t accuracy \t precision(PPV) \t NPV \t\t recall \t f1 \t\t auroc \t\t auprc \t\t confusion Matrix\n",
      "lr \t\t0.906306 \t0.268468 \t\t0.924024 \t0.089382 \t0.134113 \t0.658508 \t0.161993 \t tp: 149 fp: 406 fn: 1518 tn: 18462\n",
      "xg \t\t0.922669 \t0.613181 \t\t0.928019 \t0.128374 \t0.212302 \t0.730793 \t0.294830 \t tp: 214 fp: 135 fn: 1453 tn: 18733\n",
      "dt \t\t0.867835 \t0.204738 \t\t0.930498 \t0.217756 \t0.211047 \t0.571513 \t0.108084 \t tp: 363 fp: 1410 fn: 1304 tn: 17458\n",
      "rf \t\t0.923789 \t0.947368 \t\t0.923657 \t0.064787 \t0.121280 \t0.693704 \t0.297006 \t tp: 108 fp: 6 fn: 1559 tn: 18862\n",
      "gbdt \t\t0.918578 \t0.474747 \t\t0.920728 \t0.028194 \t0.053228 \t0.649263 \t0.171179 \t tp: 47 fp: 52 fn: 1620 tn: 18816\n"
     ]
    }
   ],
   "source": [
    "funclib.run_baseline(X_train, Y_train, X_test, Y_test)"
   ]
  },
  {
   "cell_type": "code",
   "execution_count": null,
   "id": "add6c8d4-b360-4cf3-a716-2dba149711a2",
   "metadata": {},
   "outputs": [],
   "source": []
  }
 ],
 "metadata": {
  "kernelspec": {
   "display_name": "Python 3",
   "language": "python",
   "name": "python3"
  },
  "language_info": {
   "codemirror_mode": {
    "name": "ipython",
    "version": 3
   },
   "file_extension": ".py",
   "mimetype": "text/x-python",
   "name": "python",
   "nbconvert_exporter": "python",
   "pygments_lexer": "ipython3",
   "version": "3.8.10"
  }
 },
 "nbformat": 4,
 "nbformat_minor": 5
}
