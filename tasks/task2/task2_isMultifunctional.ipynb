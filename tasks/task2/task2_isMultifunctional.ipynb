{
 "cells": [
  {
   "cell_type": "markdown",
   "id": "11df1ead-93b7-43ad-8370-c0389f802500",
   "metadata": {},
   "source": [
    "# Task2. 预测酶是几功能酶\n",
    "\n",
    "> author: Shizhenkun   \n",
    "> email: zhenkun.shi@tib.cas.cn   \n",
    "> date: 2021-08-28  \n",
    "\n",
    "## 任务简介\n",
    "该任务通过给定酶序列，预测该酶几功能酶。\n"
   ]
  },
  {
   "cell_type": "markdown",
   "id": "9eace04d-074d-4d4f-a6d2-b91fffda9994",
   "metadata": {},
   "source": [
    "## 1. 导入必要的包"
   ]
  },
  {
   "cell_type": "code",
   "execution_count": 1,
   "id": "c843b563-ffe0-442a-90d2-47b1705f0441",
   "metadata": {
    "tags": []
   },
   "outputs": [
    {
     "name": "stdout",
     "output_type": "stream",
     "text": [
      "INFO: Pandarallel will run on 32 workers.\n",
      "INFO: Pandarallel will use Memory file system to transfer data between the main process and workers.\n"
     ]
    }
   ],
   "source": [
    "import numpy as np\n",
    "import pandas as pd\n",
    "import random\n",
    "import time\n",
    "import datetime\n",
    "import sys\n",
    "import os\n",
    "from tqdm import tqdm\n",
    "from functools import reduce\n",
    "\n",
    "sys.path.append(\"../../tools/\")\n",
    "import commontools\n",
    "import funclib\n",
    "import ucTools\n",
    "\n",
    "sys.path.append(\"../../\")\n",
    "import benchmark_common as bcommon\n",
    "import benchmark_train as btrain\n",
    "import benchmark_test as btest\n",
    "import benchmark_config as cfg\n",
    "import benchmark_evaluation as eva\n",
    "\n",
    "from pandarallel import pandarallel # 导入pandaralle\n",
    "pandarallel.initialize() # 初始化该这个b...并行库\n",
    "\n",
    "%load_ext autoreload\n",
    "%autoreload 2"
   ]
  },
  {
   "cell_type": "markdown",
   "id": "93a6a622-6c28-4083-998a-4e018886603e",
   "metadata": {},
   "source": [
    "## 2. 加载数据"
   ]
  },
  {
   "cell_type": "code",
   "execution_count": 33,
   "id": "49d22801-1701-49e6-93ab-45bdd1f6a85e",
   "metadata": {},
   "outputs": [
    {
     "name": "stdout",
     "output_type": "stream",
     "text": [
      "train size: 222566\n",
      "test size: 3579\n"
     ]
    },
    {
     "data": {
      "text/html": [
       "<div>\n",
       "<style scoped>\n",
       "    .dataframe tbody tr th:only-of-type {\n",
       "        vertical-align: middle;\n",
       "    }\n",
       "\n",
       "    .dataframe tbody tr th {\n",
       "        vertical-align: top;\n",
       "    }\n",
       "\n",
       "    .dataframe thead th {\n",
       "        text-align: right;\n",
       "    }\n",
       "</style>\n",
       "<table border=\"1\" class=\"dataframe\">\n",
       "  <thead>\n",
       "    <tr style=\"text-align: right;\">\n",
       "      <th></th>\n",
       "      <th>id</th>\n",
       "      <th>isemzyme</th>\n",
       "      <th>functionCounts</th>\n",
       "      <th>ec_number</th>\n",
       "      <th>ec_specific_level</th>\n",
       "      <th>seq</th>\n",
       "      <th>seqlength</th>\n",
       "      <th>f1</th>\n",
       "      <th>f2</th>\n",
       "      <th>f3</th>\n",
       "      <th>...</th>\n",
       "      <th>f1891</th>\n",
       "      <th>f1892</th>\n",
       "      <th>f1893</th>\n",
       "      <th>f1894</th>\n",
       "      <th>f1895</th>\n",
       "      <th>f1896</th>\n",
       "      <th>f1897</th>\n",
       "      <th>f1898</th>\n",
       "      <th>f1899</th>\n",
       "      <th>f1900</th>\n",
       "    </tr>\n",
       "  </thead>\n",
       "  <tbody>\n",
       "    <tr>\n",
       "      <th>99</th>\n",
       "      <td>A0A023W421</td>\n",
       "      <td>True</td>\n",
       "      <td>2</td>\n",
       "      <td>3.1.1.96, 3.1.1.-</td>\n",
       "      <td>4</td>\n",
       "      <td>MKLVVQRVTDASVTVDGAVAGRIGPGIMALVGVTHEDTEEDAAYLA...</td>\n",
       "      <td>147</td>\n",
       "      <td>0.005019</td>\n",
       "      <td>0.019584</td>\n",
       "      <td>0.181748</td>\n",
       "      <td>...</td>\n",
       "      <td>-0.013379</td>\n",
       "      <td>0.404682</td>\n",
       "      <td>-0.046457</td>\n",
       "      <td>0.026537</td>\n",
       "      <td>-0.246087</td>\n",
       "      <td>0.334321</td>\n",
       "      <td>-0.021010</td>\n",
       "      <td>0.137102</td>\n",
       "      <td>-0.195889</td>\n",
       "      <td>-0.021511</td>\n",
       "    </tr>\n",
       "    <tr>\n",
       "      <th>101</th>\n",
       "      <td>A0A024B7W1</td>\n",
       "      <td>True</td>\n",
       "      <td>6</td>\n",
       "      <td>3.4.21.91, 3.6.1.15, 3.6.4.13, 2.1.1.56, 2.1.1...</td>\n",
       "      <td>4</td>\n",
       "      <td>MKNPKKKSGGFRIVNMLKRGVARVSPFGGLKRLPAGLLLGHGPIRM...</td>\n",
       "      <td>3423</td>\n",
       "      <td>0.000077</td>\n",
       "      <td>0.019192</td>\n",
       "      <td>0.008966</td>\n",
       "      <td>...</td>\n",
       "      <td>0.030219</td>\n",
       "      <td>0.065129</td>\n",
       "      <td>-0.482739</td>\n",
       "      <td>0.022922</td>\n",
       "      <td>-0.081980</td>\n",
       "      <td>0.036783</td>\n",
       "      <td>0.010605</td>\n",
       "      <td>0.001952</td>\n",
       "      <td>-0.044810</td>\n",
       "      <td>-0.013897</td>\n",
       "    </tr>\n",
       "    <tr>\n",
       "      <th>102</th>\n",
       "      <td>A0A024BTN9</td>\n",
       "      <td>True</td>\n",
       "      <td>1</td>\n",
       "      <td>1.4.3.2</td>\n",
       "      <td>4</td>\n",
       "      <td>SCADDRNPLEECFQETDYEEFLEIARNGLKATSNPKHVVIVGAGMS...</td>\n",
       "      <td>497</td>\n",
       "      <td>0.000237</td>\n",
       "      <td>-0.024782</td>\n",
       "      <td>0.161787</td>\n",
       "      <td>...</td>\n",
       "      <td>0.013369</td>\n",
       "      <td>0.055697</td>\n",
       "      <td>-0.039346</td>\n",
       "      <td>0.009738</td>\n",
       "      <td>-0.391294</td>\n",
       "      <td>0.057232</td>\n",
       "      <td>-0.026859</td>\n",
       "      <td>0.153590</td>\n",
       "      <td>-0.236265</td>\n",
       "      <td>0.778679</td>\n",
       "    </tr>\n",
       "  </tbody>\n",
       "</table>\n",
       "<p>3 rows × 1907 columns</p>\n",
       "</div>"
      ],
      "text/plain": [
       "             id  isemzyme  functionCounts  \\\n",
       "99   A0A023W421      True               2   \n",
       "101  A0A024B7W1      True               6   \n",
       "102  A0A024BTN9      True               1   \n",
       "\n",
       "                                             ec_number  ec_specific_level  \\\n",
       "99                                   3.1.1.96, 3.1.1.-                  4   \n",
       "101  3.4.21.91, 3.6.1.15, 3.6.4.13, 2.1.1.56, 2.1.1...                  4   \n",
       "102                                            1.4.3.2                  4   \n",
       "\n",
       "                                                   seq  seqlength        f1  \\\n",
       "99   MKLVVQRVTDASVTVDGAVAGRIGPGIMALVGVTHEDTEEDAAYLA...        147  0.005019   \n",
       "101  MKNPKKKSGGFRIVNMLKRGVARVSPFGGLKRLPAGLLLGHGPIRM...       3423  0.000077   \n",
       "102  SCADDRNPLEECFQETDYEEFLEIARNGLKATSNPKHVVIVGAGMS...        497  0.000237   \n",
       "\n",
       "           f2        f3  ...     f1891     f1892     f1893     f1894  \\\n",
       "99   0.019584  0.181748  ... -0.013379  0.404682 -0.046457  0.026537   \n",
       "101  0.019192  0.008966  ...  0.030219  0.065129 -0.482739  0.022922   \n",
       "102 -0.024782  0.161787  ...  0.013369  0.055697 -0.039346  0.009738   \n",
       "\n",
       "        f1895     f1896     f1897     f1898     f1899     f1900  \n",
       "99  -0.246087  0.334321 -0.021010  0.137102 -0.195889 -0.021511  \n",
       "101 -0.081980  0.036783  0.010605  0.001952 -0.044810 -0.013897  \n",
       "102 -0.391294  0.057232 -0.026859  0.153590 -0.236265  0.778679  \n",
       "\n",
       "[3 rows x 1907 columns]"
      ]
     },
     "execution_count": 33,
     "metadata": {},
     "output_type": "execute_result"
    }
   ],
   "source": [
    "train = pd.read_feather(cfg.DATADIR+'train.feather')\n",
    "test = pd.read_feather(cfg.DATADIR+'test.feather')\n",
    "\n",
    "train = train[train.isemzyme]\n",
    "test = test[test.isemzyme]\n",
    "\n",
    "print('train size: {0}\\ntest size: {1}'.format(len(train), len(test)))\n",
    "\n",
    "# 取子集\n",
    "trainset = train[['id', 'functionCounts','seq', 'seqlength']].reset_index(drop=True)\n",
    "testset = test[['id', 'functionCounts','seq', 'seqlength']].reset_index(drop=True)\n",
    "\n",
    "train.head(3)"
   ]
  },
  {
   "cell_type": "markdown",
   "id": "6cede627-2287-401b-889c-f5dae286be5c",
   "metadata": {},
   "source": [
    "## 3. 同源比对"
   ]
  },
  {
   "cell_type": "code",
   "execution_count": 38,
   "id": "eb75db2e-c859-4476-ac69-121ef7820113",
   "metadata": {},
   "outputs": [
    {
     "name": "stdout",
     "output_type": "stream",
     "text": [
      "Write finished\n",
      "Write finished\n",
      "diamond makedb --in /home/shizhenkun/codebase/BioUniprot/data/benchmark/tmp/train.fasta -d /tmp/train.dmnd\n",
      "diamond blastp -d /tmp/train.dmnd  -q  /home/shizhenkun/codebase/BioUniprot/data/benchmark/tmp/test.fasta -o /tmp/test_fasta_results.tsv -b5 -c1 -k 1\n",
      " query samples:3579\n",
      " results samples: 3030\n",
      "\n",
      "\n",
      "\n",
      " baslineName \t\t accuracy \t precision-macro \t recall-macro \t f1-macro\n",
      "       blast  \t\t0.742666  \t0.500151 \t\t0.402750 \t0.309967\n",
      "\n",
      "\n",
      "\n"
     ]
    }
   ],
   "source": [
    "# 写fasta文件\n",
    "bcommon.save_table2fasta(dataset=trainset, file_out=cfg.TEMPDIR+'train.fasta')\n",
    "bcommon.save_table2fasta(dataset=testset, file_out=cfg.TEMPDIR+'test.fasta')\n",
    "\n",
    "# 读取比对结果\n",
    "res_data=funclib.getblast_fasta(trainfasta=cfg.TEMPDIR+'train.fasta',testfasta=cfg.TEMPDIR+'test.fasta')\n",
    "print(' query samples:{0}\\n results samples: {1}'.format(len(test), len(res_data)))\n",
    "\n",
    "# 给比对结果添加标签\n",
    "functionCounts = {v: k for k,v in zip(train.functionCounts, train.id )} \n",
    "res_data['functionCounts_blast'] = res_data['sseqid'].apply(lambda x: functionCounts.get(x))\n",
    "# 拼合结果\n",
    "blast_res = testset.merge(res_data[['id', 'functionCounts_blast','pident' ]], on='id', how='left')\n",
    "# 计算结果\n",
    "\n",
    "print('\\n\\n')\n",
    "\n",
    "print('%12s'%'baslineName', '\\t\\t', 'accuracy','\\t', 'precision-macro \\t', 'recall-macro','\\t', 'f1-macro')\n",
    "eva.caculateMetrix( groundtruth=blast_res.functionCounts, predict=blast_res['functionCounts_blast'].fillna('0').astype('int'),  baselineName='blast', type='multi')\n",
    "\n",
    "print('\\n\\n')\n"
   ]
  },
  {
   "cell_type": "markdown",
   "id": "9818e474-eac9-4c39-817f-ed60e653f72f",
   "metadata": {},
   "source": [
    "## 4. 机器学习方法预测\n",
    "### 4.1 onehot + 机器学习"
   ]
  },
  {
   "cell_type": "code",
   "execution_count": 39,
   "id": "83b7052c-70da-4faf-b1b7-525e0df0ed44",
   "metadata": {
    "tags": []
   },
   "outputs": [],
   "source": [
    "MAX_SEQ_LENGTH = 1500 #定义序列最长的长度\n",
    "trainset.seq = trainset.seq.map(lambda x : x[0:MAX_SEQ_LENGTH].ljust(MAX_SEQ_LENGTH, 'X'))\n",
    "testset.seq = testset.seq.map(lambda x : x[0:MAX_SEQ_LENGTH].ljust(MAX_SEQ_LENGTH, 'X'))"
   ]
  },
  {
   "cell_type": "code",
   "execution_count": 45,
   "id": "614cd70c-058d-43dd-be3c-49d2e65ee5d8",
   "metadata": {},
   "outputs": [],
   "source": [
    "f_train = funclib.dna_onehot(trainset) #训练集编码\n",
    "f_test = funclib.dna_onehot(testset) #测试集编码\n",
    "\n",
    "# 计算指标\n",
    "X_train = np.array(f_train.iloc[:,2:])\n",
    "X_test = np.array(f_test.iloc[:,2:])\n",
    "Y_train = np.array(f_train.functionCounts.astype('int'))\n",
    "Y_test = np.array(f_test.functionCounts.astype('int'))\n",
    "\n"
   ]
  },
  {
   "cell_type": "code",
   "execution_count": null,
   "id": "9515e7d2-c13d-4576-8d2a-efcfe281ca27",
   "metadata": {},
   "outputs": [],
   "source": [
    "X_test"
   ]
  },
  {
   "cell_type": "code",
   "execution_count": 9,
   "id": "8df6a915-9c96-4575-a26c-9af097168acf",
   "metadata": {},
   "outputs": [
    {
     "name": "stdout",
     "output_type": "stream",
     "text": [
      "baslineName \t accuracy \t precision(PPV) \t NPV \t\t recall \t f1 \t\t auroc \t\t auprc \t\t confusion Matrix\n",
      "lr \t\t0.910640 \t0.271739 \t\t0.922299 \t0.059988 \t0.098280 \t0.551935 \t0.124858 \t tp: 100 fp: 268 fn: 1567 tn: 18600\n",
      "xg \t\t0.918578 \t0.490909 \t\t0.924383 \t0.080984 \t0.139032 \t0.626453 \t0.193860 \t tp: 135 fp: 140 fn: 1532 tn: 18728\n",
      "dt \t\t0.851668 \t0.173378 \t\t0.929386 \t0.219556 \t0.193753 \t0.563515 \t0.101421 \t tp: 366 fp: 1745 fn: 1301 tn: 17123\n",
      "rf \t\t0.924032 \t0.957265 \t\t0.923842 \t0.067187 \t0.125561 \t0.668622 \t0.269895 \t tp: 112 fp: 5 fn: 1555 tn: 18863\n",
      "gbdt \t\t0.917507 \t0.398496 \t\t0.920890 \t0.031794 \t0.058889 \t0.601392 \t0.161334 \t tp: 53 fp: 80 fn: 1614 tn: 18788\n"
     ]
    }
   ],
   "source": [
    "funclib.run_baseline(X_train, Y_train, X_test, Y_test)"
   ]
  },
  {
   "cell_type": "markdown",
   "id": "6dc3679c-82b8-460c-aea4-760e0d0aa264",
   "metadata": {},
   "source": [
    "### 4.2 Unirep + 机器学习"
   ]
  },
  {
   "cell_type": "code",
   "execution_count": 10,
   "id": "03744ce5-1094-476f-87e7-0edad6a17c89",
   "metadata": {},
   "outputs": [],
   "source": [
    "X_train = train.iloc[:,12:]\n",
    "X_test = test.iloc[:,12:]\n",
    "\n",
    "Y_train = train.iloc[:,3].astype('int')\n",
    "Y_test = test.iloc[:,3].astype('int')\n",
    "\n",
    "X_train = np.array(X_train)\n",
    "X_test = np.array(X_test)\n",
    "Y_train = np.array(Y_train).flatten()\n",
    "Y_test = np.array(Y_test).flatten()"
   ]
  },
  {
   "cell_type": "code",
   "execution_count": 11,
   "id": "74a88f6c-e466-4aa1-ba10-2d6f32af6f8d",
   "metadata": {},
   "outputs": [
    {
     "name": "stdout",
     "output_type": "stream",
     "text": [
      "baslineName \t accuracy \t precision(PPV) \t NPV \t\t recall \t f1 \t\t auroc \t\t auprc \t\t confusion Matrix\n",
      "lr \t\t0.906306 \t0.268468 \t\t0.924024 \t0.089382 \t0.134113 \t0.658508 \t0.161993 \t tp: 149 fp: 406 fn: 1518 tn: 18462\n",
      "xg \t\t0.922669 \t0.613181 \t\t0.928019 \t0.128374 \t0.212302 \t0.730793 \t0.294830 \t tp: 214 fp: 135 fn: 1453 tn: 18733\n",
      "dt \t\t0.867835 \t0.204738 \t\t0.930498 \t0.217756 \t0.211047 \t0.571513 \t0.108084 \t tp: 363 fp: 1410 fn: 1304 tn: 17458\n",
      "rf \t\t0.923789 \t0.947368 \t\t0.923657 \t0.064787 \t0.121280 \t0.693704 \t0.297006 \t tp: 108 fp: 6 fn: 1559 tn: 18862\n",
      "gbdt \t\t0.918578 \t0.474747 \t\t0.920728 \t0.028194 \t0.053228 \t0.649263 \t0.171179 \t tp: 47 fp: 52 fn: 1620 tn: 18816\n"
     ]
    }
   ],
   "source": [
    "funclib.run_baseline(X_train, Y_train, X_test, Y_test)"
   ]
  },
  {
   "cell_type": "code",
   "execution_count": null,
   "id": "add6c8d4-b360-4cf3-a716-2dba149711a2",
   "metadata": {},
   "outputs": [],
   "source": []
  }
 ],
 "metadata": {
  "kernelspec": {
   "display_name": "Python 3",
   "language": "python",
   "name": "python3"
  },
  "language_info": {
   "codemirror_mode": {
    "name": "ipython",
    "version": 3
   },
   "file_extension": ".py",
   "mimetype": "text/x-python",
   "name": "python",
   "nbconvert_exporter": "python",
   "pygments_lexer": "ipython3",
   "version": "3.8.10"
  }
 },
 "nbformat": 4,
 "nbformat_minor": 5
}
