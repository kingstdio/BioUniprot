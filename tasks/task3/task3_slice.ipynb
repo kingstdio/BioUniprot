{
 "cells": [
  {
   "cell_type": "markdown",
   "id": "f6beb333-d2b0-4cb6-ac79-83bfb886fef2",
   "metadata": {},
   "source": [
    "# Task3. 酶的EC号预测集成模型-Slice\n",
    "\n",
    "> author: Shizhenkun   \n",
    "> email: zhenkun.shi@tib.cas.cn   \n",
    "> date: 2021-06-22  \n",
    "\n",
    "## 任务简介\n",
    "该任务通过给定酶序列，预测该酶的反应类别（EC号），构建的模型为集成模型\n",
    "1. 首先根据同源比对，将有比对结果的进行选择\n",
    "2. 根据slice模型进行补充\n",
    "3. 。。。\n",
    "\n",
    "\n",
    "## 0. 导入必要的包"
   ]
  },
  {
   "cell_type": "code",
   "execution_count": 78,
   "id": "4f9690e0-846e-4781-86e7-43337d516db3",
   "metadata": {
    "tags": []
   },
   "outputs": [
    {
     "name": "stdout",
     "output_type": "stream",
     "text": [
      "The autoreload extension is already loaded. To reload it, use:\n",
      "  %reload_ext autoreload\n"
     ]
    }
   ],
   "source": [
    "import numpy as np\n",
    "import pandas as pd\n",
    "import random\n",
    "import sys\n",
    "import os\n",
    "from tqdm import tqdm\n",
    "sys.path.append(\"../../tools/\")\n",
    "import commontools\n",
    "import funclib\n",
    "import time\n",
    "from sklearn.metrics import precision_score, recall_score, f1_score\n",
    "%load_ext autoreload\n"
   ]
  },
  {
   "cell_type": "markdown",
   "id": "fd1c39b2-df26-4771-9a5f-8578ef0de6e9",
   "metadata": {},
   "source": [
    "## 2. 添加自定义函数"
   ]
  },
  {
   "cell_type": "code",
   "execution_count": 88,
   "id": "ef67c7e2-eeac-4887-99ff-7d647e36c189",
   "metadata": {
    "tags": []
   },
   "outputs": [],
   "source": [
    "def to_file_matrix(file, ds, col_num,stype='label'):\n",
    "    \"\"\"\n",
    "    创建slice需要的数据文件\n",
    "    \"\"\"\n",
    "    if stype== 'label':\n",
    "        seps = ':'\n",
    "    if stype == 'feature':\n",
    "        seps = ' '\n",
    "    ds.to_csv(file, index= 0, header =0 , sep= seps)\n",
    "    cmd = '\\'1i\\{0} {1}\\''.format(len(ds), col_num)\n",
    "    !sed -i $cmd $file\n",
    "    \n",
    "def sort_results(result_slice):\n",
    "    \"\"\"\n",
    "    将slice的实验结果排序，并按照推荐顺序以两个矩阵的形式返回\n",
    "    @pred_top：预测结果排序\n",
    "    @pred_pb_top：预测结果评分排序\n",
    "    \"\"\"\n",
    "    pred_top =[]\n",
    "    pred_pb_top =[]\n",
    "    aac =[]\n",
    "    for index, row in result_slice.iterrows():\n",
    "        row_trans= [*row.apply(lambda x: x.split(':')).values]\n",
    "        row_trans = pd.DataFrame(row_trans).sort_values(by=[1], ascending=False)\n",
    "        pred_top += [list(np.array(row_trans[0]).astype('int'))]\n",
    "        pred_pb_top += [list(np.array(row_trans[1]).astype('float'))]\n",
    "    pred_top = pd.DataFrame(pred_top)\n",
    "    pred_pb_top = pd.DataFrame(pred_pb_top)\n",
    "    return pred_top,  pred_pb_top\n",
    "\n",
    "def cal_precision_k_single(pred_top, test_res):\n",
    "    \n",
    "    #拼合\n",
    "    test_res = pd.concat([test_res, pred_top], axis=1)\n",
    "    top1_s = len(test_res[test_res.ec_label==test_res[0]])\n",
    "    top2_s = len(test_res[(test_res.ec_label==test_res[0]) | (test_res.ec_label==test_res[1])] )\n",
    "    top3_s = len(test_res[(test_res.ec_label==test_res[0]) | (test_res.ec_label==test_res[1]) | (test_res.ec_label==test_res[2])])\n",
    "    top4_s = len(test_res[(test_res.ec_label==test_res[0]) | (test_res.ec_label==test_res[1]) | (test_res.ec_label==test_res[2]) | (test_res.ec_label==test_res[3])])\n",
    "    top5_s = len(test_res[(test_res.ec_label==test_res[0]) | (test_res.ec_label==test_res[1]) | (test_res.ec_label==test_res[2]) | (test_res.ec_label==test_res[3]) | (test_res.ec_label==test_res[4])])\n",
    "    records = len(test)\n",
    "    print('\\n\\nslice 单独模型 \\n')\n",
    "    print('Top1 \\t\\t Top2 \\t\\t Top3 \\t\\t Top4 \\t\\t Top5')\n",
    "    print('{0:.6f} \\t {1:.6f} \\t {2:.6f} \\t {3:.6f} \\t {4:.6f}'.format(top1_s/records, top2_s/records, top3_s/records, top4_s/records, top5_s/records))\n",
    "\n",
    "def cal_precision_k_integrated(pred_top,result_diamond, test_res):\n",
    "\n",
    "    #拼合\n",
    "    test_res = pd.concat([test_res, pred_top], axis=1)\n",
    "    test_res = test_res.merge(result_diamond, how='left', on='id')\n",
    "    test_res['inti'] = test_res[[0,'diamond_lb_pred']].apply(lambda x: int(x.diamond_lb_pred) if ~np.isnan(x.diamond_lb_pred) else int(x[0]), axis=1)\n",
    "    pr_marco = precision_score(test_res.ec_label, test_res.inti, average='macro', zero_division=True)\n",
    "    recall_marco = recall_score(test_res.ec_label, test_res.inti, average='macro', zero_division=True)\n",
    "    f1_marco = f1_score(test_res.ec_label, test_res.inti, average='macro', zero_division=True)\n",
    "    top1_s = len( (test_res[  (test_res.ec_label == test_res.diamond_lb_pred) | (test_res.ec_label==test_res[0])]))\n",
    "    top2_s = len(test_res[(test_res.ec_label == test_res.diamond_lb_pred) | (test_res.ec_label==test_res[0]) | (test_res.ec_label==test_res[1])] )\n",
    "    top3_s = len(test_res[(test_res.ec_label == test_res.diamond_lb_pred) | (test_res.ec_label==test_res[0]) | (test_res.ec_label==test_res[1]) | (test_res.ec_label==test_res[2])])\n",
    "    top4_s = len(test_res[(test_res.ec_label == test_res.diamond_lb_pred) | (test_res.ec_label==test_res[0]) | (test_res.ec_label==test_res[1]) | (test_res.ec_label==test_res[2]) | (test_res.ec_label==test_res[3])])\n",
    "    top5_s = len(test_res[(test_res.ec_label == test_res.diamond_lb_pred) | (test_res.ec_label==test_res[0]) | (test_res.ec_label==test_res[1]) | (test_res.ec_label==test_res[2]) | (test_res.ec_label==test_res[3]) | (test_res.ec_label==test_res[4])])\n",
    "    records = len(test)\n",
    "    \n",
    "    print('\\n\\nslice + 同源比对集成模型 \\n')\n",
    "    print('Top1 \\t\\t Top2 \\t\\t Top3 \\t\\t Top4 \\t\\t Top5 \\t\\t Macro_Precision \\t Macro_Recall \\t Macro_F1')\n",
    "    print('{0:.6f} \\t {1:.6f} \\t {2:.6f} \\t {3:.6f} \\t {4:.6f} \\t {5:.6f} \\t\\t {6:.6f} \\t {7:.6f}'.format(top1_s/records, top2_s/records, top3_s/records, top4_s/records, top5_s/records, pr_marco, recall_marco, f1_marco))\n",
    "    \n",
    "def get_ec_level_1(eclist):\n",
    "    counter = 0\n",
    "    ec_l1=[]\n",
    "    for item in eclist:\n",
    "        try:\n",
    "            ec_l1 +=[int(item[0:item.index('.')])-1]\n",
    "        except:\n",
    "            ec_l1+=[-9]\n",
    "    return ec_l1"
   ]
  },
  {
   "cell_type": "markdown",
   "id": "5ad77280-8c18-4101-a164-73edfca7a225",
   "metadata": {},
   "source": [
    "## 3. 加载数据训练测试数据"
   ]
  },
  {
   "cell_type": "code",
   "execution_count": 3,
   "id": "e35264ed-6ccb-4bad-b107-545046b89900",
   "metadata": {
    "tags": []
   },
   "outputs": [
    {
     "name": "stdout",
     "output_type": "stream",
     "text": [
      "loading success\n"
     ]
    }
   ],
   "source": [
    "#导入训练数据\n",
    "\n",
    "train = pd.read_hdf('./data/train.h5',key='data')\n",
    "test = pd.read_hdf('./data/test.h5',key='data')\n",
    "\n",
    "train.reset_index(inplace=True)\n",
    "test.reset_index(inplace=True)\n",
    "\n",
    "print('loading success')"
   ]
  },
  {
   "cell_type": "code",
   "execution_count": 20,
   "id": "4759f664-2174-4515-af3b-aade485f51ac",
   "metadata": {
    "tags": []
   },
   "outputs": [
    {
     "name": "stdout",
     "output_type": "stream",
     "text": [
      "开始精度采样，精度:10\n",
      "开始写入特征文件：./data/slice/train.txt\n",
      "time cost 309.1047832965851 s\n"
     ]
    }
   ],
   "source": [
    "# 划分特征与标签\n",
    "train_ds = train.iloc[:,13:1913]\n",
    "test_ds = test.iloc[:,13:1913]\n",
    "train_lb = train.ec_label\n",
    "test_lb = test.ec_label\n",
    "\n",
    "#最大的EC数目\n",
    "max_ec = len(set(list(train.ec_number) + list(test.ec_number)))\n",
    "\n",
    "#unirep的数据精度\n",
    "unit_thres = 10\n",
    "print('开始精度采样，精度:{0}'.format(unit_thres))\n",
    "train_ds = train_ds.round(unit_thres)\n",
    "test_ds = test_ds.round(unit_thres)\n",
    "\n",
    "\n",
    "time_start=time.time()\n",
    "#训练特征\n",
    "file = r'./data/slice/train.txt'\n",
    "print('开始写入特征文件：{0}'.format(file))\n",
    "to_file_matrix(file=file, ds=train_ds, col_num=1900, stype='feature')\n",
    "\n",
    "#测试特征\n",
    "file = r'./data/slice/test.txt'\n",
    "to_file_matrix(file=file, ds=test_ds, col_num=1900, stype='feature')\n",
    "time_end=time.time()\n",
    "print('time cost',time_end-time_start,'s')"
   ]
  },
  {
   "cell_type": "code",
   "execution_count": 27,
   "id": "36be7a25-b1b3-41a9-8b66-291d922ce117",
   "metadata": {},
   "outputs": [
    {
     "data": {
      "text/html": [
       "<div>\n",
       "<style scoped>\n",
       "    .dataframe tbody tr th:only-of-type {\n",
       "        vertical-align: middle;\n",
       "    }\n",
       "\n",
       "    .dataframe tbody tr th {\n",
       "        vertical-align: top;\n",
       "    }\n",
       "\n",
       "    .dataframe thead th {\n",
       "        text-align: right;\n",
       "    }\n",
       "</style>\n",
       "<table border=\"1\" class=\"dataframe\">\n",
       "  <thead>\n",
       "    <tr style=\"text-align: right;\">\n",
       "      <th></th>\n",
       "      <th>ec_label</th>\n",
       "      <th>indicator</th>\n",
       "    </tr>\n",
       "  </thead>\n",
       "  <tbody>\n",
       "    <tr>\n",
       "      <th>0</th>\n",
       "      <td>2563</td>\n",
       "      <td>1</td>\n",
       "    </tr>\n",
       "    <tr>\n",
       "      <th>1</th>\n",
       "      <td>1379</td>\n",
       "      <td>1</td>\n",
       "    </tr>\n",
       "    <tr>\n",
       "      <th>2</th>\n",
       "      <td>2765</td>\n",
       "      <td>1</td>\n",
       "    </tr>\n",
       "    <tr>\n",
       "      <th>3</th>\n",
       "      <td>2765</td>\n",
       "      <td>1</td>\n",
       "    </tr>\n",
       "    <tr>\n",
       "      <th>4</th>\n",
       "      <td>629</td>\n",
       "      <td>1</td>\n",
       "    </tr>\n",
       "    <tr>\n",
       "      <th>...</th>\n",
       "      <td>...</td>\n",
       "      <td>...</td>\n",
       "    </tr>\n",
       "    <tr>\n",
       "      <th>185448</th>\n",
       "      <td>365</td>\n",
       "      <td>1</td>\n",
       "    </tr>\n",
       "    <tr>\n",
       "      <th>185449</th>\n",
       "      <td>1577</td>\n",
       "      <td>1</td>\n",
       "    </tr>\n",
       "    <tr>\n",
       "      <th>185450</th>\n",
       "      <td>1577</td>\n",
       "      <td>1</td>\n",
       "    </tr>\n",
       "    <tr>\n",
       "      <th>185451</th>\n",
       "      <td>1577</td>\n",
       "      <td>1</td>\n",
       "    </tr>\n",
       "    <tr>\n",
       "      <th>185452</th>\n",
       "      <td>1577</td>\n",
       "      <td>1</td>\n",
       "    </tr>\n",
       "  </tbody>\n",
       "</table>\n",
       "<p>185453 rows × 2 columns</p>\n",
       "</div>"
      ],
      "text/plain": [
       "        ec_label  indicator\n",
       "0           2563          1\n",
       "1           1379          1\n",
       "2           2765          1\n",
       "3           2765          1\n",
       "4            629          1\n",
       "...          ...        ...\n",
       "185448       365          1\n",
       "185449      1577          1\n",
       "185450      1577          1\n",
       "185451      1577          1\n",
       "185452      1577          1\n",
       "\n",
       "[185453 rows x 2 columns]"
      ]
     },
     "execution_count": 27,
     "metadata": {},
     "output_type": "execute_result"
    }
   ],
   "source": [
    "train_lb"
   ]
  },
  {
   "cell_type": "code",
   "execution_count": 23,
   "id": "01fe9794-689b-4b27-b6b4-792b7c99bfed",
   "metadata": {
    "tags": []
   },
   "outputs": [
    {
     "name": "stdout",
     "output_type": "stream",
     "text": [
      "time cost 0.6416594982147217 s\n"
     ]
    }
   ],
   "source": [
    "time_start=time.time()\n",
    "# 训练标签\n",
    "train_lb = pd.DataFrame(train_lb)\n",
    "train_lb['indicator'] = 1\n",
    "\n",
    "file  = r'./data/slice/train_lb.txt'\n",
    "to_file_matrix(file=file, ds=train_lb, col_num=max_ec, stype='label')\n",
    "\n",
    "#测试标签\n",
    "test_lb = pd.DataFrame(test_lb)\n",
    "test_lb['indicator'] = 1\n",
    "\n",
    "file  = r'./data/slice/test_lb.txt'\n",
    "to_file_matrix(file=file, ds=test_lb, col_num=max_ec, stype='label')\n",
    "\n",
    "time_end=time.time()\n",
    "print('time cost',time_end-time_start,'s')"
   ]
  },
  {
   "cell_type": "markdown",
   "id": "218c3bea-b701-409d-a7f2-a919cf457126",
   "metadata": {},
   "source": [
    "## 4. 训练模型"
   ]
  },
  {
   "cell_type": "code",
   "execution_count": 22,
   "id": "ec54f117-c939-4bd5-91fa-3d0347344a9a",
   "metadata": {
    "collapsed": true,
    "jupyter": {
     "outputs_hidden": true
    },
    "tags": []
   },
   "outputs": [
    {
     "name": "stdout",
     "output_type": "stream",
     "text": [
      "Parameter Setting\n",
      "-------------------------------------------------\n",
      "Number of training examples=185453\n",
      "Number of features=1900\n",
      "Number of labels=4767\n",
      "Number of train/test threads=32\n",
      "Quiet=0\n",
      "M=100\n",
      "efConstruction=300\n",
      "efSearch=300\n",
      "Number of nearest neighbors=700\n",
      "Number of threads for I/O=32\n",
      "Cost co-efficient for discriminative classifier=1\n",
      "Threshold for discriminative classifier=1e-06\n",
      "Maximum number of iterations for the discriminative classifier=20\n",
      "Separator Type=0\n",
      "b_gen=0\n",
      "-------------------------------------------------\n",
      "Number of labels removed = 1403\n",
      "Training generative model ...\n",
      "Training time of ANNS datastructure = 0.699523\n",
      "Finding the most confusing negatives ...\n",
      "Time taken to find approx nearest neighbors = 17.476056\n",
      "Training discriminative classifiers ...\n",
      "Total training time: 629.28 s\n"
     ]
    }
   ],
   "source": [
    "! ./slice_train ./data/slice/train.txt ./data/slice/train_lb.txt ./model -m 100 -c 300 -s 300 -k 700 -o 32 -t 32 -C 1 -f 0.000001 -siter 20 -stype 0 -q 0"
   ]
  },
  {
   "cell_type": "markdown",
   "id": "9bb580e6-ac91-4e96-8d2b-8d4073763bf2",
   "metadata": {},
   "source": [
    "## 5. 测试模型"
   ]
  },
  {
   "cell_type": "code",
   "execution_count": 24,
   "id": "494fe5e8-7c51-4a5a-a7b5-794143a7e604",
   "metadata": {
    "collapsed": true,
    "jupyter": {
     "outputs_hidden": true
    },
    "tags": []
   },
   "outputs": [
    {
     "name": "stdout",
     "output_type": "stream",
     "text": [
      "Time taken to find approx nearest neighbors = 1.567295\n",
      "Total prediction time: 5.17639 s\n",
      "Prediction time per point: 0.274348 ms\n"
     ]
    }
   ],
   "source": [
    "! ./slice_predict ./data/slice/test.txt ./model ./results/slice_results.txt -o 32 -b 0 -t 32 -q 0"
   ]
  },
  {
   "cell_type": "code",
   "execution_count": 29,
   "id": "2d9bc475-3bb1-414d-a6e9-99d990df4180",
   "metadata": {
    "collapsed": true,
    "jupyter": {
     "outputs_hidden": true
    },
    "tags": []
   },
   "outputs": [
    {
     "name": "stdout",
     "output_type": "stream",
     "text": [
      "score file read ./results/slice_results.txt\n",
      "lbl file read ./data/slice/test_lb.txt\n",
      "num_inst=18868 num_lbl=4767\n",
      "Precision@1 = 0.369197\n",
      "Precision@2 = 0.219525\n",
      "Precision@3 = 0.157003\n",
      "Precision@4 = 0.122840\n",
      "Precision@5 = 0.100922\n",
      "Precision@6 = 0.085992\n",
      "Precision@7 = 0.074866\n",
      "Precision@8 = 0.066561\n",
      "Precision@9 = 0.059843\n",
      "Precision@10 = 0.054431\n",
      "Precision@11 = 0.049955\n",
      "Precision@12 = 0.046167\n",
      "Precision@13 = 0.042926\n",
      "Precision@14 = 0.040109\n",
      "Precision@15 = 0.037697\n",
      "Precision@16 = 0.035526\n",
      "Precision@17 = 0.033589\n",
      "Precision@18 = 0.031859\n",
      "Precision@19 = 0.030321\n",
      "Precision@20 = 0.028935\n"
     ]
    }
   ],
   "source": [
    "! ./precision_k ./results/slice_results.txt ./data/slice/test_lb.txt 20"
   ]
  },
  {
   "cell_type": "code",
   "execution_count": 30,
   "id": "57a3a457-9f75-4ea2-b74e-8d61043aae37",
   "metadata": {},
   "outputs": [
    {
     "name": "stdout",
     "output_type": "stream",
     "text": [
      "Write finished\n",
      "Write finished\n",
      "diamond makedb --in /tmp/train.fasta -d /tmp/train.dmnd\n",
      "diamond blastp -d /tmp/train.dmnd  -q  /tmp/test.fasta -o /tmp/test_fasta_results.tsv -b5 -c1 -k 1\n"
     ]
    }
   ],
   "source": [
    "result_slice = pd.read_csv('./results/slice_results.txt',  header = None, skiprows=1 ,sep=' ')\n",
    "test_res = test[['id', 'name', 'ec_number', 'date_integraged','ec_specific_level','ec_appears', 'ec_label']]\n",
    "\n",
    "# 获取比对结果\n",
    "result_diamond=funclib.getblast(train,test)\n",
    "# 给预测结果添加EC\n",
    "id_ec_dict = {v: k for v,k in zip( train.id, train.ec_number)} \n",
    "result_diamond['diamond_ec_pred'] = result_diamond.sseqid.apply(lambda x : id_ec_dict.get(x))\n",
    "ec_label = pd.concat([train[['ec_number', 'ec_label']], test[['ec_number', 'ec_label']]], axis=0)\n",
    "label_ec_dict = {v: k for k,v in zip( ec_label.ec_label, ec_label.ec_number)} \n",
    "result_diamond['diamond_lb_pred'] = result_diamond.diamond_ec_pred.apply(lambda x : int(label_ec_dict.get(x)))\n",
    "result_diamond_fed = result_diamond[['id', 'diamond_lb_pred', 'diamond_ec_pred']]"
   ]
  },
  {
   "cell_type": "code",
   "execution_count": 89,
   "id": "138d6031-017e-48ad-9150-6fe605147e26",
   "metadata": {},
   "outputs": [
    {
     "name": "stdout",
     "output_type": "stream",
     "text": [
      "\n",
      "\n",
      "slice 单独模型 \n",
      "\n",
      "Top1 \t\t Top2 \t\t Top3 \t\t Top4 \t\t Top5\n",
      "0.369197 \t 0.439050 \t 0.471009 \t 0.491308 \t 0.504611\n",
      "\n",
      "\n",
      "slice + 同源比对集成模型 \n",
      "\n",
      "Top1 \t\t Top2 \t\t Top3 \t\t Top4 \t\t Top5 \t\t Macro_Precision \t Macro_Recall \t Macro_F1\n",
      "0.661649 \t 0.676542 \t 0.685128 \t 0.691912 \t 0.696046 \t 0.689518 \t\t 0.513355 \t 0.281952\n"
     ]
    }
   ],
   "source": [
    "# 计算比对结果\n",
    "pred_top, pred_top_pb = sort_results(result_slice)\n",
    "cal_precision_k_single(pred_top, test_res)\n",
    "cal_precision_k_integrated(pred_top,result_diamond_fed, test_res )"
   ]
  },
  {
   "cell_type": "code",
   "execution_count": null,
   "id": "9f4c927f-5821-46fd-b49b-e55a97a1423e",
   "metadata": {},
   "outputs": [],
   "source": []
  },
  {
   "cell_type": "code",
   "execution_count": 92,
   "id": "8b45be4f-064a-486d-8bf7-ae6f3787d352",
   "metadata": {},
   "outputs": [
    {
     "data": {
      "text/html": [
       "<div>\n",
       "<style scoped>\n",
       "    .dataframe tbody tr th:only-of-type {\n",
       "        vertical-align: middle;\n",
       "    }\n",
       "\n",
       "    .dataframe tbody tr th {\n",
       "        vertical-align: top;\n",
       "    }\n",
       "\n",
       "    .dataframe thead th {\n",
       "        text-align: right;\n",
       "    }\n",
       "</style>\n",
       "<table border=\"1\" class=\"dataframe\">\n",
       "  <thead>\n",
       "    <tr style=\"text-align: right;\">\n",
       "      <th></th>\n",
       "      <th>id</th>\n",
       "      <th>name</th>\n",
       "      <th>isemzyme</th>\n",
       "      <th>isMultiFunctional</th>\n",
       "      <th>functionCounts</th>\n",
       "      <th>ec_number</th>\n",
       "      <th>ec_specific_level</th>\n",
       "      <th>date_integraged</th>\n",
       "      <th>date_sequence_update</th>\n",
       "    </tr>\n",
       "  </thead>\n",
       "  <tbody>\n",
       "    <tr>\n",
       "      <th>0</th>\n",
       "      <td>P00693</td>\n",
       "      <td>AMY1_HORVU</td>\n",
       "      <td>True</td>\n",
       "      <td>False</td>\n",
       "      <td>1</td>\n",
       "      <td>3.2.1.1</td>\n",
       "      <td>4</td>\n",
       "      <td>1986-07-21</td>\n",
       "      <td>1986-07-21</td>\n",
       "    </tr>\n",
       "    <tr>\n",
       "      <th>1</th>\n",
       "      <td>P0A7A7</td>\n",
       "      <td>PLSB_ECOLI</td>\n",
       "      <td>True</td>\n",
       "      <td>False</td>\n",
       "      <td>1</td>\n",
       "      <td>2.3.1.15</td>\n",
       "      <td>4</td>\n",
       "      <td>1986-07-21</td>\n",
       "      <td>2007-01-23</td>\n",
       "    </tr>\n",
       "    <tr>\n",
       "      <th>2</th>\n",
       "      <td>P00829</td>\n",
       "      <td>ATPB_BOVIN</td>\n",
       "      <td>True</td>\n",
       "      <td>False</td>\n",
       "      <td>1</td>\n",
       "      <td>7.1.2.2</td>\n",
       "      <td>4</td>\n",
       "      <td>1986-07-21</td>\n",
       "      <td>1990-01-01</td>\n",
       "    </tr>\n",
       "    <tr>\n",
       "      <th>3</th>\n",
       "      <td>P00826</td>\n",
       "      <td>ATPB_TOBAC</td>\n",
       "      <td>True</td>\n",
       "      <td>False</td>\n",
       "      <td>1</td>\n",
       "      <td>7.1.2.2</td>\n",
       "      <td>4</td>\n",
       "      <td>1986-07-21</td>\n",
       "      <td>1986-07-21</td>\n",
       "    </tr>\n",
       "    <tr>\n",
       "      <th>4</th>\n",
       "      <td>P36369</td>\n",
       "      <td>K1B26_MOUSE</td>\n",
       "      <td>True</td>\n",
       "      <td>False</td>\n",
       "      <td>1</td>\n",
       "      <td>3.4.21.35</td>\n",
       "      <td>4</td>\n",
       "      <td>1986-07-21</td>\n",
       "      <td>1994-06-01</td>\n",
       "    </tr>\n",
       "    <tr>\n",
       "      <th>...</th>\n",
       "      <td>...</td>\n",
       "      <td>...</td>\n",
       "      <td>...</td>\n",
       "      <td>...</td>\n",
       "      <td>...</td>\n",
       "      <td>...</td>\n",
       "      <td>...</td>\n",
       "      <td>...</td>\n",
       "      <td>...</td>\n",
       "    </tr>\n",
       "    <tr>\n",
       "      <th>185448</th>\n",
       "      <td>Q7Z1V1</td>\n",
       "      <td>CP51_TRYCC</td>\n",
       "      <td>True</td>\n",
       "      <td>False</td>\n",
       "      <td>1</td>\n",
       "      <td>1.14.14.154</td>\n",
       "      <td>4</td>\n",
       "      <td>2009-11-24</td>\n",
       "      <td>2003-10-01</td>\n",
       "    </tr>\n",
       "    <tr>\n",
       "      <th>185449</th>\n",
       "      <td>O04086</td>\n",
       "      <td>Y1105_ARATH</td>\n",
       "      <td>True</td>\n",
       "      <td>False</td>\n",
       "      <td>1</td>\n",
       "      <td>2.7.11.1</td>\n",
       "      <td>4</td>\n",
       "      <td>2009-11-24</td>\n",
       "      <td>1997-07-01</td>\n",
       "    </tr>\n",
       "    <tr>\n",
       "      <th>185450</th>\n",
       "      <td>O82318</td>\n",
       "      <td>SKM1_ARATH</td>\n",
       "      <td>True</td>\n",
       "      <td>False</td>\n",
       "      <td>1</td>\n",
       "      <td>2.7.11.1</td>\n",
       "      <td>4</td>\n",
       "      <td>2009-11-24</td>\n",
       "      <td>1998-11-01</td>\n",
       "    </tr>\n",
       "    <tr>\n",
       "      <th>185451</th>\n",
       "      <td>Q9LT96</td>\n",
       "      <td>Y5977_ARATH</td>\n",
       "      <td>True</td>\n",
       "      <td>False</td>\n",
       "      <td>1</td>\n",
       "      <td>2.7.11.1</td>\n",
       "      <td>4</td>\n",
       "      <td>2009-11-24</td>\n",
       "      <td>2000-10-01</td>\n",
       "    </tr>\n",
       "    <tr>\n",
       "      <th>185452</th>\n",
       "      <td>Q42371</td>\n",
       "      <td>ERECT_ARATH</td>\n",
       "      <td>True</td>\n",
       "      <td>False</td>\n",
       "      <td>1</td>\n",
       "      <td>2.7.11.1</td>\n",
       "      <td>4</td>\n",
       "      <td>2009-11-24</td>\n",
       "      <td>1996-11-01</td>\n",
       "    </tr>\n",
       "  </tbody>\n",
       "</table>\n",
       "<p>185453 rows × 9 columns</p>\n",
       "</div>"
      ],
      "text/plain": [
       "            id         name isemzyme  isMultiFunctional  functionCounts  \\\n",
       "0       P00693   AMY1_HORVU     True              False               1   \n",
       "1       P0A7A7   PLSB_ECOLI     True              False               1   \n",
       "2       P00829   ATPB_BOVIN     True              False               1   \n",
       "3       P00826   ATPB_TOBAC     True              False               1   \n",
       "4       P36369  K1B26_MOUSE     True              False               1   \n",
       "...        ...          ...      ...                ...             ...   \n",
       "185448  Q7Z1V1   CP51_TRYCC     True              False               1   \n",
       "185449  O04086  Y1105_ARATH     True              False               1   \n",
       "185450  O82318   SKM1_ARATH     True              False               1   \n",
       "185451  Q9LT96  Y5977_ARATH     True              False               1   \n",
       "185452  Q42371  ERECT_ARATH     True              False               1   \n",
       "\n",
       "          ec_number  ec_specific_level date_integraged date_sequence_update  \n",
       "0           3.2.1.1                  4      1986-07-21           1986-07-21  \n",
       "1          2.3.1.15                  4      1986-07-21           2007-01-23  \n",
       "2           7.1.2.2                  4      1986-07-21           1990-01-01  \n",
       "3           7.1.2.2                  4      1986-07-21           1986-07-21  \n",
       "4         3.4.21.35                  4      1986-07-21           1994-06-01  \n",
       "...             ...                ...             ...                  ...  \n",
       "185448  1.14.14.154                  4      2009-11-24           2003-10-01  \n",
       "185449     2.7.11.1                  4      2009-11-24           1997-07-01  \n",
       "185450     2.7.11.1                  4      2009-11-24           1998-11-01  \n",
       "185451     2.7.11.1                  4      2009-11-24           2000-10-01  \n",
       "185452     2.7.11.1                  4      2009-11-24           1996-11-01  \n",
       "\n",
       "[185453 rows x 9 columns]"
      ]
     },
     "execution_count": 92,
     "metadata": {},
     "output_type": "execute_result"
    }
   ],
   "source": [
    "train.iloc[:,1:10]"
   ]
  },
  {
   "cell_type": "code",
   "execution_count": null,
   "id": "883557db-b08a-43c8-a5ed-8a5e327bf067",
   "metadata": {},
   "outputs": [],
   "source": []
  },
  {
   "cell_type": "code",
   "execution_count": null,
   "id": "af1db14f-a5a2-4f02-819f-747d6a4a1dc4",
   "metadata": {},
   "outputs": [],
   "source": []
  },
  {
   "cell_type": "code",
   "execution_count": null,
   "id": "4d27d439-5230-45f0-81bd-e25f4cb6e280",
   "metadata": {},
   "outputs": [],
   "source": []
  },
  {
   "cell_type": "code",
   "execution_count": null,
   "id": "2bb29cb3-4bdd-4304-a913-8a23ba9108c0",
   "metadata": {},
   "outputs": [],
   "source": []
  },
  {
   "cell_type": "code",
   "execution_count": null,
   "id": "c65518ad-b8f6-4c15-8bfd-2e6675cba0b1",
   "metadata": {},
   "outputs": [],
   "source": []
  }
 ],
 "metadata": {
  "kernelspec": {
   "display_name": "py38",
   "language": "python",
   "name": "py38"
  },
  "language_info": {
   "codemirror_mode": {
    "name": "ipython",
    "version": 3
   },
   "file_extension": ".py",
   "mimetype": "text/x-python",
   "name": "python",
   "nbconvert_exporter": "python",
   "pygments_lexer": "ipython3",
   "version": "3.8.10"
  }
 },
 "nbformat": 4,
 "nbformat_minor": 5
}
