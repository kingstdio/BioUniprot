{
 "cells": [
  {
   "cell_type": "code",
   "execution_count": 15,
   "id": "4f9690e0-846e-4781-86e7-43337d516db3",
   "metadata": {},
   "outputs": [
    {
     "name": "stdout",
     "output_type": "stream",
     "text": [
      "The autoreload extension is already loaded. To reload it, use:\n",
      "  %reload_ext autoreload\n"
     ]
    }
   ],
   "source": [
    "import numpy as np\n",
    "import pandas as pd\n",
    "import random\n",
    "import sys\n",
    "import os\n",
    "from tqdm import tqdm\n",
    "sys.path.append(\"../../tools/\")\n",
    "import commontools\n",
    "import funclib\n",
    "\n",
    "\n",
    "%load_ext autoreload\n"
   ]
  },
  {
   "cell_type": "code",
   "execution_count": 16,
   "id": "4759f664-2174-4515-af3b-aade485f51ac",
   "metadata": {},
   "outputs": [],
   "source": [
    "train = pd.read_hdf('./data/train.h5',key='data')\n",
    "test = pd.read_hdf('./data/test.h5',key='data')\n",
    "\n",
    "train.reset_index(inplace=True)\n",
    "test.reset_index(inplace=True)"
   ]
  },
  {
   "cell_type": "code",
   "execution_count": 17,
   "id": "1bace5c5-02ed-4a4f-a4ea-d2e457a4e3c1",
   "metadata": {},
   "outputs": [],
   "source": [
    "# 划分特征与标签\n",
    "train_ds = train.iloc[:,13:1913]\n",
    "test_ds = test.iloc[:,13:1913]\n",
    "train_lb = train.ec_label\n",
    "test_lb = test.ec_label\n",
    "\n",
    "#最大的EC数目\n",
    "max_ec = len(set(list(train.ec_number) + list(test.ec_number)))\n",
    "\n",
    "#unirep的数据精度\n",
    "unit_thres = 4\n",
    "train_ds = train_ds.round(unit_thres)\n",
    "test_ds = test_ds.round(unit_thres)"
   ]
  },
  {
   "cell_type": "code",
   "execution_count": 22,
   "id": "ec54f117-c939-4bd5-91fa-3d0347344a9a",
   "metadata": {},
   "outputs": [],
   "source": [
    "train_lb.to_csv('../../baselines/slice/Sandbox/Data/sprot/train_lb1.txt', index=0, header=0)"
   ]
  },
  {
   "cell_type": "code",
   "execution_count": 18,
   "id": "eae88669-977f-4a9f-9728-290698e747a2",
   "metadata": {},
   "outputs": [],
   "source": [
    "#写入训练标签文件\n",
    "\n",
    "file_write_obj = open(\"../../baselines/slice/Sandbox/Data/sprot/train_lb.txt\", 'w')\n",
    "file_write_obj.writelines('{0} {1}\\n'.format(len(train), max_ec))\n",
    "for var in train_lb:\n",
    "    file_write_obj.writelines('{0}:1\\n'.format(var))\n",
    "file_write_obj.close()\n",
    "\n",
    "# 写入测试标签文件\n",
    "file_write_obj = open(\"../../baselines/slice/Sandbox/Data/sprot/test_lb.txt\", 'w')\n",
    "file_write_obj.writelines('{0} {1}\\n'.format(len(test), max_ec))\n",
    "for var in test_lb:\n",
    "    file_write_obj.writelines('{0}:1\\n'.format(var))\n",
    "file_write_obj.close()\n"
   ]
  },
  {
   "cell_type": "code",
   "execution_count": 19,
   "id": "19b5b1f5-c404-40a7-8ad5-bd9b0d84de60",
   "metadata": {},
   "outputs": [],
   "source": [
    "# 将数据字符串化\n",
    "test_ds_str = test_ds.astype(str)\n",
    "train_ds_str = train_ds.astype(str)\n"
   ]
  },
  {
   "cell_type": "code",
   "execution_count": 20,
   "id": "9cfa39b0-ec5d-4928-9210-6b36e8352f26",
   "metadata": {},
   "outputs": [],
   "source": [
    "# 用空格连城字符串\n",
    "train_str = train_ds_str.apply(lambda x: ' '.join(x), axis=1)\n",
    "test_str = test_ds_str.apply(lambda x: ' '.join(x), axis=1)"
   ]
  },
  {
   "cell_type": "code",
   "execution_count": 21,
   "id": "3552fee4-dd1f-4eac-9a95-177bd992c935",
   "metadata": {},
   "outputs": [],
   "source": [
    "# 写入训练文件\n",
    "file_write_obj = open(\"../../baselines/slice/Sandbox/Data/sprot/train.txt\", 'w')\n",
    "file_write_obj.writelines('{0} {1}\\n'.format(len(train), 1900))\n",
    "counter =0\n",
    "for var in train_str:\n",
    "    file_write_obj.writelines('{0}\\n'.format(var))\n",
    "file_write_obj.close()\n",
    "\n",
    "#写测试文件\n",
    "file_write_obj = open(\"../../baselines/slice/Sandbox/Data/sprot/test.txt\", 'w')\n",
    "file_write_obj.writelines('{0} {1}\\n'.format(len(test), 1900))\n",
    "for var in test_str:\n",
    "    file_write_obj.writelines('{0}\\n'.format(var))\n",
    "file_write_obj.close()"
   ]
  },
  {
   "cell_type": "code",
   "execution_count": null,
   "id": "57a3a457-9f75-4ea2-b74e-8d61043aae37",
   "metadata": {},
   "outputs": [],
   "source": []
  },
  {
   "cell_type": "code",
   "execution_count": null,
   "id": "ab434ef0-5334-4297-a1d0-ea5d9ce63397",
   "metadata": {},
   "outputs": [],
   "source": []
  },
  {
   "cell_type": "code",
   "execution_count": null,
   "id": "442cf5b4-1c38-4e55-b97e-90e21dea051c",
   "metadata": {},
   "outputs": [],
   "source": []
  }
 ],
 "metadata": {
  "kernelspec": {
   "display_name": "py38",
   "language": "python",
   "name": "py38"
  },
  "language_info": {
   "codemirror_mode": {
    "name": "ipython",
    "version": 3
   },
   "file_extension": ".py",
   "mimetype": "text/x-python",
   "name": "python",
   "nbconvert_exporter": "python",
   "pygments_lexer": "ipython3",
   "version": "3.8.10"
  }
 },
 "nbformat": 4,
 "nbformat_minor": 5
}
