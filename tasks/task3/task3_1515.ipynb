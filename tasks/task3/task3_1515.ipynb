{
 "cells": [
  {
   "cell_type": "markdown",
   "id": "f5c52a66-3d6d-467f-8bd6-335c8bb382c5",
   "metadata": {},
   "source": [
    "# 0 导入必要的包"
   ]
  },
  {
   "cell_type": "code",
   "execution_count": 2,
   "id": "d722f8c8-f85d-44d2-9480-98e64f9a3fbb",
   "metadata": {},
   "outputs": [
    {
     "name": "stdout",
     "output_type": "stream",
     "text": [
      "The autoreload extension is already loaded. To reload it, use:\n",
      "  %reload_ext autoreload\n"
     ]
    }
   ],
   "source": [
    "import numpy as np\n",
    "import pandas as pd\n",
    "import random\n",
    "import sys\n",
    "import os\n",
    "from tqdm import tqdm\n",
    "sys.path.append(\"../../tools/\")\n",
    "import commontools\n",
    "import ucTools\n",
    "import funclib\n",
    "sys.path.append(\"../../\")\n",
    "import train\n",
    "import time\n",
    "\n",
    "%load_ext autoreload\n",
    "%autoreload 2"
   ]
  },
  {
   "cell_type": "markdown",
   "id": "b489ece0-2dcb-4d2c-b427-6819f6232a35",
   "metadata": {},
   "source": [
    "# 1. 读取数据"
   ]
  },
  {
   "cell_type": "code",
   "execution_count": 2,
   "id": "73ac7e9e-a6d6-4319-ae62-0e169ab7b490",
   "metadata": {},
   "outputs": [],
   "source": [
    "# 1515 数据\n",
    "sprot1515 = pd.read_csv('./data/ecoli1515/1515testset_with_unirep.tsv',  sep='\\t')"
   ]
  },
  {
   "cell_type": "code",
   "execution_count": 3,
   "id": "67f2d9eb-59ff-4f41-9d7a-17a962527b4b",
   "metadata": {},
   "outputs": [
    {
     "data": {
      "text/html": [
       "<div>\n",
       "<style scoped>\n",
       "    .dataframe tbody tr th:only-of-type {\n",
       "        vertical-align: middle;\n",
       "    }\n",
       "\n",
       "    .dataframe tbody tr th {\n",
       "        vertical-align: top;\n",
       "    }\n",
       "\n",
       "    .dataframe thead th {\n",
       "        text-align: right;\n",
       "    }\n",
       "</style>\n",
       "<table border=\"1\" class=\"dataframe\">\n",
       "  <thead>\n",
       "    <tr style=\"text-align: right;\">\n",
       "      <th></th>\n",
       "      <th>Unnamed: 0</th>\n",
       "      <th>id</th>\n",
       "      <th>ec_number</th>\n",
       "      <th>seq</th>\n",
       "      <th>isemzyme</th>\n",
       "      <th>isMultiFunctional</th>\n",
       "      <th>blattner_id</th>\n",
       "      <th>blattner_ec_number</th>\n",
       "      <th>0</th>\n",
       "      <th>1</th>\n",
       "      <th>...</th>\n",
       "      <th>1890</th>\n",
       "      <th>1891</th>\n",
       "      <th>1892</th>\n",
       "      <th>1893</th>\n",
       "      <th>1894</th>\n",
       "      <th>1895</th>\n",
       "      <th>1896</th>\n",
       "      <th>1897</th>\n",
       "      <th>1898</th>\n",
       "      <th>1899</th>\n",
       "    </tr>\n",
       "  </thead>\n",
       "  <tbody>\n",
       "    <tr>\n",
       "      <th>0</th>\n",
       "      <td>0</td>\n",
       "      <td>P42641</td>\n",
       "      <td>3.6.5.-</td>\n",
       "      <td>MKFVDEASILVVAGDGGNGCVSFRREKYIPKGGPDGGDGGDGGDVW...</td>\n",
       "      <td>True</td>\n",
       "      <td>False</td>\n",
       "      <td>b3183</td>\n",
       "      <td>NaN</td>\n",
       "      <td>0.003056</td>\n",
       "      <td>-0.087184</td>\n",
       "      <td>...</td>\n",
       "      <td>0.000332</td>\n",
       "      <td>-0.065542</td>\n",
       "      <td>0.117107</td>\n",
       "      <td>-0.236777</td>\n",
       "      <td>-0.622398</td>\n",
       "      <td>0.012113</td>\n",
       "      <td>0.010506</td>\n",
       "      <td>0.058984</td>\n",
       "      <td>0.061533</td>\n",
       "      <td>0.968014</td>\n",
       "    </tr>\n",
       "    <tr>\n",
       "      <th>1</th>\n",
       "      <td>1</td>\n",
       "      <td>P0AE22</td>\n",
       "      <td>3.1.3.2</td>\n",
       "      <td>MRKITQAISAVCLLFALNSSAVALASSPSPLNPGTNVARLAEQAPI...</td>\n",
       "      <td>True</td>\n",
       "      <td>False</td>\n",
       "      <td>b4055</td>\n",
       "      <td>3.1.3.2</td>\n",
       "      <td>0.001026</td>\n",
       "      <td>0.618393</td>\n",
       "      <td>...</td>\n",
       "      <td>0.030307</td>\n",
       "      <td>-0.244636</td>\n",
       "      <td>-0.038585</td>\n",
       "      <td>0.151263</td>\n",
       "      <td>-0.020389</td>\n",
       "      <td>0.095321</td>\n",
       "      <td>-0.031043</td>\n",
       "      <td>-0.881730</td>\n",
       "      <td>-0.196211</td>\n",
       "      <td>0.054455</td>\n",
       "    </tr>\n",
       "    <tr>\n",
       "      <th>2</th>\n",
       "      <td>2</td>\n",
       "      <td>P21499</td>\n",
       "      <td>3.1.13.1</td>\n",
       "      <td>MSQDPFQEREAEKYANPIPSREFILEHLTKREKPASRDELAVELHI...</td>\n",
       "      <td>True</td>\n",
       "      <td>False</td>\n",
       "      <td>b4179</td>\n",
       "      <td>3.1.-.-</td>\n",
       "      <td>0.073632</td>\n",
       "      <td>-0.003258</td>\n",
       "      <td>...</td>\n",
       "      <td>0.002123</td>\n",
       "      <td>0.060351</td>\n",
       "      <td>-0.008826</td>\n",
       "      <td>0.006141</td>\n",
       "      <td>-0.129352</td>\n",
       "      <td>-0.075010</td>\n",
       "      <td>0.023712</td>\n",
       "      <td>-0.002246</td>\n",
       "      <td>0.893310</td>\n",
       "      <td>0.140025</td>\n",
       "    </tr>\n",
       "    <tr>\n",
       "      <th>3</th>\n",
       "      <td>3</td>\n",
       "      <td>P39286</td>\n",
       "      <td>3.6.1.-</td>\n",
       "      <td>MSKNKLSKGQQRRVNANHQRRLKTSKEKPDYDDNLFGEPDEGIVIS...</td>\n",
       "      <td>True</td>\n",
       "      <td>False</td>\n",
       "      <td>b4161</td>\n",
       "      <td>3.6.1.-</td>\n",
       "      <td>0.000775</td>\n",
       "      <td>-0.008305</td>\n",
       "      <td>...</td>\n",
       "      <td>0.066885</td>\n",
       "      <td>0.020991</td>\n",
       "      <td>0.073577</td>\n",
       "      <td>-0.034962</td>\n",
       "      <td>-0.036755</td>\n",
       "      <td>0.053803</td>\n",
       "      <td>-0.017355</td>\n",
       "      <td>0.100456</td>\n",
       "      <td>-0.202344</td>\n",
       "      <td>0.351100</td>\n",
       "    </tr>\n",
       "    <tr>\n",
       "      <th>4</th>\n",
       "      <td>4</td>\n",
       "      <td>P56100</td>\n",
       "      <td>7.1.1.7</td>\n",
       "      <td>MWYFAWILGTLLACSFGVITALALEHVESGKAGQEDI</td>\n",
       "      <td>True</td>\n",
       "      <td>False</td>\n",
       "      <td>b4515</td>\n",
       "      <td>1.10.3.10</td>\n",
       "      <td>0.001811</td>\n",
       "      <td>-0.050181</td>\n",
       "      <td>...</td>\n",
       "      <td>0.042016</td>\n",
       "      <td>-0.028950</td>\n",
       "      <td>0.305668</td>\n",
       "      <td>-0.105587</td>\n",
       "      <td>-0.113769</td>\n",
       "      <td>0.680413</td>\n",
       "      <td>0.138797</td>\n",
       "      <td>-0.268528</td>\n",
       "      <td>-0.076093</td>\n",
       "      <td>-0.038212</td>\n",
       "    </tr>\n",
       "    <tr>\n",
       "      <th>...</th>\n",
       "      <td>...</td>\n",
       "      <td>...</td>\n",
       "      <td>...</td>\n",
       "      <td>...</td>\n",
       "      <td>...</td>\n",
       "      <td>...</td>\n",
       "      <td>...</td>\n",
       "      <td>...</td>\n",
       "      <td>...</td>\n",
       "      <td>...</td>\n",
       "      <td>...</td>\n",
       "      <td>...</td>\n",
       "      <td>...</td>\n",
       "      <td>...</td>\n",
       "      <td>...</td>\n",
       "      <td>...</td>\n",
       "      <td>...</td>\n",
       "      <td>...</td>\n",
       "      <td>...</td>\n",
       "      <td>...</td>\n",
       "      <td>...</td>\n",
       "    </tr>\n",
       "    <tr>\n",
       "      <th>4745</th>\n",
       "      <td>4745</td>\n",
       "      <td>P36837</td>\n",
       "      <td>NaN</td>\n",
       "      <td>MNTTTPMGMLQQPRPFFMIFFVELWERFGYYGVQGVLAVFFVKQLG...</td>\n",
       "      <td>False</td>\n",
       "      <td>False</td>\n",
       "      <td>b3496</td>\n",
       "      <td>NaN</td>\n",
       "      <td>0.000070</td>\n",
       "      <td>-0.021424</td>\n",
       "      <td>...</td>\n",
       "      <td>0.005911</td>\n",
       "      <td>-0.016855</td>\n",
       "      <td>0.377301</td>\n",
       "      <td>-0.500727</td>\n",
       "      <td>-0.247861</td>\n",
       "      <td>0.752678</td>\n",
       "      <td>-0.005501</td>\n",
       "      <td>0.396191</td>\n",
       "      <td>-0.215832</td>\n",
       "      <td>-0.062812</td>\n",
       "    </tr>\n",
       "    <tr>\n",
       "      <th>4746</th>\n",
       "      <td>4746</td>\n",
       "      <td>P77304</td>\n",
       "      <td>NaN</td>\n",
       "      <td>MSTANQKPTESVSLNAFKQPKAFYLIFSIELWERFGYYGLQGIMAV...</td>\n",
       "      <td>False</td>\n",
       "      <td>False</td>\n",
       "      <td>b1634</td>\n",
       "      <td>NaN</td>\n",
       "      <td>0.008628</td>\n",
       "      <td>-0.065382</td>\n",
       "      <td>...</td>\n",
       "      <td>-0.001197</td>\n",
       "      <td>-0.101824</td>\n",
       "      <td>0.013007</td>\n",
       "      <td>-0.304450</td>\n",
       "      <td>-0.295525</td>\n",
       "      <td>-0.124492</td>\n",
       "      <td>0.010846</td>\n",
       "      <td>0.032853</td>\n",
       "      <td>-0.155702</td>\n",
       "      <td>-0.183535</td>\n",
       "    </tr>\n",
       "    <tr>\n",
       "      <th>4747</th>\n",
       "      <td>4747</td>\n",
       "      <td>P27248</td>\n",
       "      <td>2.1.2.10</td>\n",
       "      <td>MAQQTPLYEQHTLCGARMVDFHGWMMPLHYGSQIDEHHAVRTDAGM...</td>\n",
       "      <td>True</td>\n",
       "      <td>False</td>\n",
       "      <td>b2905</td>\n",
       "      <td>2.1.2.10</td>\n",
       "      <td>0.006723</td>\n",
       "      <td>0.227349</td>\n",
       "      <td>...</td>\n",
       "      <td>-0.124573</td>\n",
       "      <td>-0.032099</td>\n",
       "      <td>-0.170996</td>\n",
       "      <td>0.104425</td>\n",
       "      <td>-0.163041</td>\n",
       "      <td>0.183720</td>\n",
       "      <td>-0.038814</td>\n",
       "      <td>0.036993</td>\n",
       "      <td>-0.044558</td>\n",
       "      <td>0.010447</td>\n",
       "    </tr>\n",
       "    <tr>\n",
       "      <th>4748</th>\n",
       "      <td>4748</td>\n",
       "      <td>P0AC88</td>\n",
       "      <td>4.2.1.47</td>\n",
       "      <td>MSKVALITGVTGQDGSYLAEFLLEKGYEVHGIKRRASSFNTERVDH...</td>\n",
       "      <td>True</td>\n",
       "      <td>False</td>\n",
       "      <td>b2053</td>\n",
       "      <td>4.2.1.47</td>\n",
       "      <td>0.000665</td>\n",
       "      <td>-0.029179</td>\n",
       "      <td>...</td>\n",
       "      <td>0.145032</td>\n",
       "      <td>0.867074</td>\n",
       "      <td>-0.263008</td>\n",
       "      <td>0.009123</td>\n",
       "      <td>0.036783</td>\n",
       "      <td>-0.073805</td>\n",
       "      <td>0.439632</td>\n",
       "      <td>0.014501</td>\n",
       "      <td>-0.205913</td>\n",
       "      <td>-0.005663</td>\n",
       "    </tr>\n",
       "    <tr>\n",
       "      <th>4749</th>\n",
       "      <td>4749</td>\n",
       "      <td>P0A6N8</td>\n",
       "      <td>NaN</td>\n",
       "      <td>MPRANEIKKGMVLNYNGKLLLVKDIDIQSPTARGAATLYKMRFSDV...</td>\n",
       "      <td>False</td>\n",
       "      <td>False</td>\n",
       "      <td>b2171</td>\n",
       "      <td>NaN</td>\n",
       "      <td>0.000589</td>\n",
       "      <td>0.032014</td>\n",
       "      <td>...</td>\n",
       "      <td>0.080966</td>\n",
       "      <td>0.659743</td>\n",
       "      <td>-0.191503</td>\n",
       "      <td>0.218227</td>\n",
       "      <td>-0.141543</td>\n",
       "      <td>-0.210412</td>\n",
       "      <td>0.002640</td>\n",
       "      <td>0.016625</td>\n",
       "      <td>-0.073862</td>\n",
       "      <td>-0.110584</td>\n",
       "    </tr>\n",
       "  </tbody>\n",
       "</table>\n",
       "<p>4750 rows × 1908 columns</p>\n",
       "</div>"
      ],
      "text/plain": [
       "      Unnamed: 0      id ec_number  \\\n",
       "0              0  P42641   3.6.5.-   \n",
       "1              1  P0AE22   3.1.3.2   \n",
       "2              2  P21499  3.1.13.1   \n",
       "3              3  P39286   3.6.1.-   \n",
       "4              4  P56100   7.1.1.7   \n",
       "...          ...     ...       ...   \n",
       "4745        4745  P36837       NaN   \n",
       "4746        4746  P77304       NaN   \n",
       "4747        4747  P27248  2.1.2.10   \n",
       "4748        4748  P0AC88  4.2.1.47   \n",
       "4749        4749  P0A6N8       NaN   \n",
       "\n",
       "                                                    seq  isemzyme  \\\n",
       "0     MKFVDEASILVVAGDGGNGCVSFRREKYIPKGGPDGGDGGDGGDVW...      True   \n",
       "1     MRKITQAISAVCLLFALNSSAVALASSPSPLNPGTNVARLAEQAPI...      True   \n",
       "2     MSQDPFQEREAEKYANPIPSREFILEHLTKREKPASRDELAVELHI...      True   \n",
       "3     MSKNKLSKGQQRRVNANHQRRLKTSKEKPDYDDNLFGEPDEGIVIS...      True   \n",
       "4                 MWYFAWILGTLLACSFGVITALALEHVESGKAGQEDI      True   \n",
       "...                                                 ...       ...   \n",
       "4745  MNTTTPMGMLQQPRPFFMIFFVELWERFGYYGVQGVLAVFFVKQLG...     False   \n",
       "4746  MSTANQKPTESVSLNAFKQPKAFYLIFSIELWERFGYYGLQGIMAV...     False   \n",
       "4747  MAQQTPLYEQHTLCGARMVDFHGWMMPLHYGSQIDEHHAVRTDAGM...      True   \n",
       "4748  MSKVALITGVTGQDGSYLAEFLLEKGYEVHGIKRRASSFNTERVDH...      True   \n",
       "4749  MPRANEIKKGMVLNYNGKLLLVKDIDIQSPTARGAATLYKMRFSDV...     False   \n",
       "\n",
       "      isMultiFunctional blattner_id blattner_ec_number         0         1  \\\n",
       "0                 False       b3183                NaN  0.003056 -0.087184   \n",
       "1                 False       b4055            3.1.3.2  0.001026  0.618393   \n",
       "2                 False       b4179            3.1.-.-  0.073632 -0.003258   \n",
       "3                 False       b4161            3.6.1.-  0.000775 -0.008305   \n",
       "4                 False       b4515          1.10.3.10  0.001811 -0.050181   \n",
       "...                 ...         ...                ...       ...       ...   \n",
       "4745              False       b3496                NaN  0.000070 -0.021424   \n",
       "4746              False       b1634                NaN  0.008628 -0.065382   \n",
       "4747              False       b2905           2.1.2.10  0.006723  0.227349   \n",
       "4748              False       b2053           4.2.1.47  0.000665 -0.029179   \n",
       "4749              False       b2171                NaN  0.000589  0.032014   \n",
       "\n",
       "      ...      1890      1891      1892      1893      1894      1895  \\\n",
       "0     ...  0.000332 -0.065542  0.117107 -0.236777 -0.622398  0.012113   \n",
       "1     ...  0.030307 -0.244636 -0.038585  0.151263 -0.020389  0.095321   \n",
       "2     ...  0.002123  0.060351 -0.008826  0.006141 -0.129352 -0.075010   \n",
       "3     ...  0.066885  0.020991  0.073577 -0.034962 -0.036755  0.053803   \n",
       "4     ...  0.042016 -0.028950  0.305668 -0.105587 -0.113769  0.680413   \n",
       "...   ...       ...       ...       ...       ...       ...       ...   \n",
       "4745  ...  0.005911 -0.016855  0.377301 -0.500727 -0.247861  0.752678   \n",
       "4746  ... -0.001197 -0.101824  0.013007 -0.304450 -0.295525 -0.124492   \n",
       "4747  ... -0.124573 -0.032099 -0.170996  0.104425 -0.163041  0.183720   \n",
       "4748  ...  0.145032  0.867074 -0.263008  0.009123  0.036783 -0.073805   \n",
       "4749  ...  0.080966  0.659743 -0.191503  0.218227 -0.141543 -0.210412   \n",
       "\n",
       "          1896      1897      1898      1899  \n",
       "0     0.010506  0.058984  0.061533  0.968014  \n",
       "1    -0.031043 -0.881730 -0.196211  0.054455  \n",
       "2     0.023712 -0.002246  0.893310  0.140025  \n",
       "3    -0.017355  0.100456 -0.202344  0.351100  \n",
       "4     0.138797 -0.268528 -0.076093 -0.038212  \n",
       "...        ...       ...       ...       ...  \n",
       "4745 -0.005501  0.396191 -0.215832 -0.062812  \n",
       "4746  0.010846  0.032853 -0.155702 -0.183535  \n",
       "4747 -0.038814  0.036993 -0.044558  0.010447  \n",
       "4748  0.439632  0.014501 -0.205913 -0.005663  \n",
       "4749  0.002640  0.016625 -0.073862 -0.110584  \n",
       "\n",
       "[4750 rows x 1908 columns]"
      ]
     },
     "execution_count": 3,
     "metadata": {},
     "output_type": "execute_result"
    }
   ],
   "source": [
    "sprot1515"
   ]
  },
  {
   "cell_type": "code",
   "execution_count": 4,
   "id": "c4ed1cb8-61c8-450f-9b73-9c27f9133454",
   "metadata": {},
   "outputs": [
    {
     "name": "stdout",
     "output_type": "stream",
     "text": [
      "Write finished\n"
     ]
    }
   ],
   "source": [
    "funclib.table2fasta(sprot1515, './data/sprot1515.fasta')"
   ]
  },
  {
   "cell_type": "markdown",
   "id": "890e56d3-29dd-4893-86d7-1d74f27293d7",
   "metadata": {},
   "source": [
    "## 2. 序列比对"
   ]
  },
  {
   "cell_type": "code",
   "execution_count": 5,
   "id": "58434e85-c4b2-4182-a450-69ec804b8085",
   "metadata": {},
   "outputs": [],
   "source": [
    "train = pd.read_hdf('./data/train.h5',key='data')\n",
    "test = pd.read_hdf('./data/test.h5',key='data')\n",
    "head = funclib.table_head + ['f'+str(i) for i in range(1, 1901) ]\n",
    "head = head + ['ec_label','ec_appears']\n",
    "train.columns = head\n",
    "test.columns = head"
   ]
  },
  {
   "cell_type": "code",
   "execution_count": null,
   "id": "0bf5dc3d-76bc-4c92-91a3-2bb01c1a608d",
   "metadata": {},
   "outputs": [],
   "source": []
  },
  {
   "cell_type": "code",
   "execution_count": null,
   "id": "fd601cee-d19b-4168-bac7-711afd28d6cc",
   "metadata": {},
   "outputs": [],
   "source": [
    "train = pd.read_hdf('./data/train.h5',key='data')"
   ]
  },
  {
   "cell_type": "code",
   "execution_count": 4,
   "id": "677791b3-4e9e-4ee1-9a10-7a22ee378e86",
   "metadata": {},
   "outputs": [],
   "source": [
    "file_enzyme_train_x = '../../data/preprocess/enzyme_train_x.feather'\n",
    "file_enzyme_train_y = '../../data/preprocess/enzyme_train_y.feather'\n",
    "DATE_TRAIN ='2018-01-01'\n",
    "uctools =  ucTools.ucTools('172.16.25.20')\n",
    "cnx_ecnumber = uctools.db_conn()\n",
    "\n",
    "eclablefile='../../data/dict_ec_label.npy'\n",
    "featurefile='../../data/sprot_unirep.feather'\n",
    "\n",
    "dict_ec_label, dict_label_ec = train.load_ec_lable_dict(eclablefile)"
   ]
  },
  {
   "cell_type": "code",
   "execution_count": 6,
   "id": "1d155aa3-2962-4b25-9686-e5fbf2bef885",
   "metadata": {},
   "outputs": [
    {
     "data": {
      "text/plain": [
       "5389"
      ]
     },
     "execution_count": 6,
     "metadata": {},
     "output_type": "execute_result"
    }
   ],
   "source": [
    "len(dict_ec_label)"
   ]
  },
  {
   "cell_type": "code",
   "execution_count": null,
   "id": "2d74bb44-9e3e-474f-abc5-c3c9b737d2d7",
   "metadata": {},
   "outputs": [],
   "source": []
  },
  {
   "cell_type": "code",
   "execution_count": 59,
   "id": "1d297988-67ae-4296-8fb5-2b7a8de9f6d8",
   "metadata": {},
   "outputs": [],
   "source": [
    "enzyme_X, enzyme_Y = train.get_enzyme_train_set( train_date=DATE_TRAIN, \n",
    "                            eclablefile='../../data/dict_ec_label.npy', \n",
    "                            featurefile='../../data/sprot_unirep.feather', \n",
    "                            cnx=cnx_ecnumber,\n",
    "                            trainX=file_enzyme_train_x,\n",
    "                            trainY=file_enzyme_train_y\n",
    "                          )"
   ]
  },
  {
   "cell_type": "code",
   "execution_count": 60,
   "id": "498323c1-7219-4455-8198-078e49e4bc02",
   "metadata": {},
   "outputs": [
    {
     "name": "stdout",
     "output_type": "stream",
     "text": [
      "XGBoost模型训练完成\n"
     ]
    }
   ],
   "source": [
    "file_isenzyme_model = './model/isenzyme.model'\n",
    "train.train_isenzyme(enzyme_X, enzyme_Y.enzyme_label, model_file=file_isenzyme_model)"
   ]
  },
  {
   "cell_type": "code",
   "execution_count": null,
   "id": "67f73313-e0e8-413e-ade9-e82a142156e6",
   "metadata": {},
   "outputs": [],
   "source": [
    "eclablefile='../../data/dict_ec_label.npy'\n",
    "featurefile='../../data/sprot_unirep.feather'\n",
    "\n",
    "dict_ec_label, dict_label_ec = train.load_ec_lable_dict(eclablefile)\n",
    "train_data = train.load_train_file(split_date= DATE_TRAIN, cnx_ecnumber=cnx_ecnumber, type='ec')\n",
    "\n",
    "#添加训练标签\n",
    "train_data_labeled  = train.add_ec_label(train_data, dict_ec_label)\n",
    "\n",
    "unirep_data = train.load_unirep(featurefile)\n",
    "\n",
    "res_data = train_data_labeled.merge(unirep_data, on='id', how='left')"
   ]
  },
  {
   "cell_type": "code",
   "execution_count": null,
   "id": "8fd5266f-ea5f-4193-ae42-767160fa4009",
   "metadata": {},
   "outputs": [],
   "source": []
  },
  {
   "cell_type": "code",
   "execution_count": 7,
   "id": "773fe651-860a-4e17-bd00-5ac11b656f95",
   "metadata": {},
   "outputs": [],
   "source": [
    "enzyme_X, enzyme_Y = train.get_enzyme_train_set( train_date=DATE_TRAIN, \n",
    "                            eclablefile='./data/dict_ec_label.npy', \n",
    "                            featurefile='./data/sprot_unirep.feather', \n",
    "                            cnx=cnx_ecnumber,\n",
    "                            trainX=file_enzyme_train_x,\n",
    "                            trainY=file_enzyme_train_y\n",
    "                          )"
   ]
  },
  {
   "cell_type": "code",
   "execution_count": 29,
   "id": "da18ba48-bb2d-48b7-9a0c-38c6cbababc5",
   "metadata": {},
   "outputs": [],
   "source": [
    "\n",
    "file_ec_train_x = '../../data/preprocess/ec_train_x.feather'\n",
    "file_ec_train_y = '../../data/preprocess/ec_train_y.feather'\n",
    "ec_X, ec_Y = train.get_ec_train_set(train_date=DATE_TRAIN,\n",
    "                                eclabelfile='../../data/dict_ec_label.npy',\n",
    "                                featurefile='../../data/sprot_unirep.feather',\n",
    "                                cnx=cnx_ecnumber,\n",
    "                                trainX=file_ec_train_x,\n",
    "                                trainY=file_ec_train_y\n",
    "                            )"
   ]
  },
  {
   "cell_type": "code",
   "execution_count": 32,
   "id": "c6133bd7-15f1-46c8-a5f7-a5fe5c56f94b",
   "metadata": {},
   "outputs": [
    {
     "data": {
      "text/plain": [
       "5388"
      ]
     },
     "execution_count": 32,
     "metadata": {},
     "output_type": "execute_result"
    }
   ],
   "source": [
    "max(ec_Y.ec_label)"
   ]
  },
  {
   "cell_type": "code",
   "execution_count": 34,
   "id": "ebd9ccaa-9a4f-4607-82c1-9bcca68dd603",
   "metadata": {},
   "outputs": [
    {
     "data": {
      "text/plain": [
       "4891"
      ]
     },
     "execution_count": 34,
     "metadata": {},
     "output_type": "execute_result"
    }
   ],
   "source": [
    "len(set(ec_Y.ec_label))"
   ]
  },
  {
   "cell_type": "code",
   "execution_count": 36,
   "id": "2d74823c-9d99-4d31-88b7-b8c99291d3fa",
   "metadata": {},
   "outputs": [
    {
     "name": "stdout",
     "output_type": "stream",
     "text": [
      "0\n",
      "1\n",
      "2\n"
     ]
    }
   ],
   "source": [
    "for i in range(3):\n",
    "    print(i)"
   ]
  },
  {
   "cell_type": "code",
   "execution_count": 41,
   "id": "8c1756fd-9f47-4b52-82e3-b9bfe030f396",
   "metadata": {},
   "outputs": [],
   "source": [
    "id_ec_dict = {v: k for v,k in zip( set(ec_Y.ec_label), range(len(set(ec_Y.ec_label))))}"
   ]
  },
  {
   "cell_type": "code",
   "execution_count": 47,
   "id": "e0fdda5f-8ec1-4f6b-a424-2d8b08d1b731",
   "metadata": {},
   "outputs": [
    {
     "data": {
      "text/plain": [
       "4548"
      ]
     },
     "execution_count": 47,
     "metadata": {},
     "output_type": "execute_result"
    }
   ],
   "source": [
    "id_ec_dict.get(5000)"
   ]
  },
  {
   "cell_type": "code",
   "execution_count": 23,
   "id": "99cc471c-6a5c-45d4-a09c-9d513bc697ab",
   "metadata": {},
   "outputs": [],
   "source": [
    "train_Y = pd.read_feather('../../data/preprocess/ec_train_y.feather')"
   ]
  },
  {
   "cell_type": "code",
   "execution_count": 28,
   "id": "c3a66226-c026-43c6-a146-8921b2562914",
   "metadata": {},
   "outputs": [
    {
     "data": {
      "text/html": [
       "<div>\n",
       "<style scoped>\n",
       "    .dataframe tbody tr th:only-of-type {\n",
       "        vertical-align: middle;\n",
       "    }\n",
       "\n",
       "    .dataframe tbody tr th {\n",
       "        vertical-align: top;\n",
       "    }\n",
       "\n",
       "    .dataframe thead th {\n",
       "        text-align: right;\n",
       "    }\n",
       "</style>\n",
       "<table border=\"1\" class=\"dataframe\">\n",
       "  <thead>\n",
       "    <tr style=\"text-align: right;\">\n",
       "      <th></th>\n",
       "      <th>id</th>\n",
       "      <th>seq</th>\n",
       "      <th>ec_label</th>\n",
       "    </tr>\n",
       "  </thead>\n",
       "  <tbody>\n",
       "    <tr>\n",
       "      <th>0</th>\n",
       "      <td>P75471</td>\n",
       "      <td>MNDTDKKFPLQPVYDTGFDDGYLQRDYEKCLESAAANDAQTVELQT...</td>\n",
       "      <td>0</td>\n",
       "    </tr>\n",
       "    <tr>\n",
       "      <th>1</th>\n",
       "      <td>Q9KSU0</td>\n",
       "      <td>MRSHYCGHLNKSLVGQTVELCGWVNRRRDLGGLIFIDMRDREGIVQ...</td>\n",
       "      <td>5108</td>\n",
       "    </tr>\n",
       "    <tr>\n",
       "      <th>2</th>\n",
       "      <td>Q09219</td>\n",
       "      <td>MTNSAMALPPTRINRRRSTKALHDFFSRPFTQRRSQSIAGVRVSPR...</td>\n",
       "      <td>0</td>\n",
       "    </tr>\n",
       "    <tr>\n",
       "      <th>3</th>\n",
       "      <td>P56159</td>\n",
       "      <td>MFLATLYFALPLLDLLLSAEVSGGDRLDCVKASDQCLKEQSCSTKY...</td>\n",
       "      <td>0</td>\n",
       "    </tr>\n",
       "    <tr>\n",
       "      <th>4</th>\n",
       "      <td>P80954</td>\n",
       "      <td>GLLNTFKDWAISIAKGAGKGVLTTLSCKLDKSC</td>\n",
       "      <td>0</td>\n",
       "    </tr>\n",
       "    <tr>\n",
       "      <th>...</th>\n",
       "      <td>...</td>\n",
       "      <td>...</td>\n",
       "      <td>...</td>\n",
       "    </tr>\n",
       "    <tr>\n",
       "      <th>578273</th>\n",
       "      <td>Q62953</td>\n",
       "      <td>YCYICHSLQYNADLQPANTCIYLVVTWVMTVLDVLPNVYIGTIEYD...</td>\n",
       "      <td>0</td>\n",
       "    </tr>\n",
       "    <tr>\n",
       "      <th>578274</th>\n",
       "      <td>O08601</td>\n",
       "      <td>MILLAVLFLCFFSSYSASVKGHTTGLSLNNERLYKLTYSTEVFLDG...</td>\n",
       "      <td>0</td>\n",
       "    </tr>\n",
       "    <tr>\n",
       "      <th>578275</th>\n",
       "      <td>Q91955</td>\n",
       "      <td>MSDKEFMWALKNGDLDEVKDYVAKGEDVNRTLEGGRKPLHYAADCG...</td>\n",
       "      <td>0</td>\n",
       "    </tr>\n",
       "    <tr>\n",
       "      <th>578276</th>\n",
       "      <td>B7MAE6</td>\n",
       "      <td>MSDYKSTLNLPETGFPMRGDLAKREPGMLARWTDDDLYGIIRAAKK...</td>\n",
       "      <td>5124</td>\n",
       "    </tr>\n",
       "    <tr>\n",
       "      <th>578277</th>\n",
       "      <td>B5ZPY6</td>\n",
       "      <td>MTDLKPFLAKAASREPLTRDEARAAFDILMSGQATPSQIGGFLMAL...</td>\n",
       "      <td>2409</td>\n",
       "    </tr>\n",
       "  </tbody>\n",
       "</table>\n",
       "<p>578278 rows × 3 columns</p>\n",
       "</div>"
      ],
      "text/plain": [
       "            id                                                seq  ec_label\n",
       "0       P75471  MNDTDKKFPLQPVYDTGFDDGYLQRDYEKCLESAAANDAQTVELQT...         0\n",
       "1       Q9KSU0  MRSHYCGHLNKSLVGQTVELCGWVNRRRDLGGLIFIDMRDREGIVQ...      5108\n",
       "2       Q09219  MTNSAMALPPTRINRRRSTKALHDFFSRPFTQRRSQSIAGVRVSPR...         0\n",
       "3       P56159  MFLATLYFALPLLDLLLSAEVSGGDRLDCVKASDQCLKEQSCSTKY...         0\n",
       "4       P80954                  GLLNTFKDWAISIAKGAGKGVLTTLSCKLDKSC         0\n",
       "...        ...                                                ...       ...\n",
       "578273  Q62953  YCYICHSLQYNADLQPANTCIYLVVTWVMTVLDVLPNVYIGTIEYD...         0\n",
       "578274  O08601  MILLAVLFLCFFSSYSASVKGHTTGLSLNNERLYKLTYSTEVFLDG...         0\n",
       "578275  Q91955  MSDKEFMWALKNGDLDEVKDYVAKGEDVNRTLEGGRKPLHYAADCG...         0\n",
       "578276  B7MAE6  MSDYKSTLNLPETGFPMRGDLAKREPGMLARWTDDDLYGIIRAAKK...      5124\n",
       "578277  B5ZPY6  MTDLKPFLAKAASREPLTRDEARAAFDILMSGQATPSQIGGFLMAL...      2409\n",
       "\n",
       "[578278 rows x 3 columns]"
      ]
     },
     "execution_count": 28,
     "metadata": {},
     "output_type": "execute_result"
    }
   ],
   "source": [
    "train_Y"
   ]
  },
  {
   "cell_type": "code",
   "execution_count": 22,
   "id": "135fee82-7e22-4fe8-ad26-a8d90984cc25",
   "metadata": {},
   "outputs": [],
   "source": [
    "file_slice_train_x ='../../data/preprocess/ec_slice_train_x.txt'\n",
    "file_slice_train_y ='../../data/preprocess/ec_slice_train_y.txt'\n",
    "\n",
    "train.prepare_slice_file(x_data=ec_X,y_data=ec_Y['ec_label'],x_file=file_slice_train_x, y_file=file_slice_train_y)"
   ]
  }
 ],
 "metadata": {
  "kernelspec": {
   "display_name": "py38",
   "language": "python",
   "name": "py38"
  },
  "language_info": {
   "codemirror_mode": {
    "name": "ipython",
    "version": 3
   },
   "file_extension": ".py",
   "mimetype": "text/x-python",
   "name": "python",
   "nbconvert_exporter": "python",
   "pygments_lexer": "ipython3",
   "version": "3.8.10"
  }
 },
 "nbformat": 4,
 "nbformat_minor": 5
}
