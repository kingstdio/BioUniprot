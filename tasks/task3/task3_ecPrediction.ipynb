{
 "cells": [
  {
   "cell_type": "markdown",
   "id": "809db80b-f615-4023-b188-85836202bd5b",
   "metadata": {},
   "source": [
    "## 1. 导入必要的包"
   ]
  },
  {
   "cell_type": "code",
   "execution_count": 2,
   "id": "4dcac025-427d-4015-b5e0-d34fe13a640f",
   "metadata": {},
   "outputs": [],
   "source": [
    "import numpy as np\n",
    "import pandas as pd\n",
    "import random\n",
    "import sys\n",
    "from tqdm import tqdm\n",
    "sys.path.append(\"../../tools/\")\n",
    "import commontools\n",
    "import funclib\n",
    "\n",
    "%load_ext autoreload\n",
    "%autoreload 2"
   ]
  },
  {
   "cell_type": "markdown",
   "id": "57ec9f47-a3c2-43ff-b5ac-440f0b9cd0fe",
   "metadata": {},
   "source": [
    "## 2. 加载数据"
   ]
  },
  {
   "cell_type": "code",
   "execution_count": 3,
   "id": "16325ff7-80ba-4994-bbaa-bfd0d7e53959",
   "metadata": {},
   "outputs": [],
   "source": [
    "train = pd.read_hdf('./data/train.h5',key='data')\n",
    "test = pd.read_hdf('./data/test.h5',key='data')\n",
    "head = funclib.table_head + ['f'+str(i) for i in range(1, 1901) ]\n",
    "head = head + ['ec_label','ec_appears']\n",
    "train.columns = head\n",
    "test.columns = head"
   ]
  },
  {
   "cell_type": "markdown",
   "id": "5f8ba52b-33d4-451c-87f2-74ec2b37da1a",
   "metadata": {},
   "source": [
    "## 3. 同源比对"
   ]
  },
  {
   "cell_type": "code",
   "execution_count": 43,
   "id": "13cdf33d-d21f-409b-83a9-9dc281f73edb",
   "metadata": {},
   "outputs": [
    {
     "name": "stdout",
     "output_type": "stream",
     "text": [
      "Write finished\n",
      "Write finished\n",
      "diamond makedb --in /tmp/train.fasta -d /tmp/train.dmnd\n",
      "diamond blastp -d /tmp/train.dmnd  -q  /tmp/test.fasta -o /tmp/test_fasta_results.tsv -b5 -c1 -k 1\n"
     ]
    }
   ],
   "source": [
    "res_data=funclib.getblast(train,test)"
   ]
  },
  {
   "cell_type": "code",
   "execution_count": 51,
   "id": "ba92bf2b-fa8d-43fb-9f7f-22a0c0934e22",
   "metadata": {},
   "outputs": [
    {
     "name": "stdout",
     "output_type": "stream",
     "text": [
      "Total query records are: 18868\n",
      "Matched records are: 16026\n",
      "Accuracy: 0.6345134619461522(11972/18868)\n",
      "Pricision: 0.7470360663921128(11972/16026)\n",
      "Recall: 0.84937460250159(16026/18868)\n"
     ]
    }
   ],
   "source": [
    "# 匹配查询结果\n",
    "id_map_ec = train[['id', 'ec_number']].append(test[['id', 'ec_number']],ignore_index=True)\n",
    "id_ec_dict = {v: k for v,k in zip( id_map_ec.id, id_map_ec.ec_number)} \n",
    "res_data['is_ec_match']=res_data.apply(lambda x: (id_ec_dict.get(x['id'])== id_ec_dict.get(x['sseqid'])), axis=1)\n",
    "\n",
    "# 输出比对结果\n",
    "funclib.evaluateBlast(res_data,train,test, 'ec_number')"
   ]
  },
  {
   "cell_type": "markdown",
   "id": "546e0caf-ee4e-42f0-8133-dba31e89059c",
   "metadata": {},
   "source": [
    "## 4. 机器学习EC号预测\n",
    "### 4.1 onehot + 机器学习"
   ]
  },
  {
   "cell_type": "code",
   "execution_count": 58,
   "id": "fcca565c-c4d4-4c24-9ac7-6a0e11294270",
   "metadata": {},
   "outputs": [],
   "source": [
    "from sklearn import datasets\n",
    "from sklearn.multiclass import OutputCodeClassifier\n",
    "from sklearn.svm import LinearSVC\n"
   ]
  },
  {
   "cell_type": "code",
   "execution_count": 59,
   "id": "27f10a87-1e03-4f30-84de-d04d511cf260",
   "metadata": {},
   "outputs": [],
   "source": [
    "iris = datasets.load_iris()"
   ]
  },
  {
   "cell_type": "code",
   "execution_count": 60,
   "id": "6055cec2-611e-4718-afa8-f49162839918",
   "metadata": {},
   "outputs": [],
   "source": [
    "X, y = iris.data, iris.target"
   ]
  },
  {
   "cell_type": "code",
   "execution_count": null,
   "id": "8ed6febc-16a6-40da-810c-79c4ef73e071",
   "metadata": {},
   "outputs": [],
   "source": []
  },
  {
   "cell_type": "code",
   "execution_count": 63,
   "id": "5fd09447-ee4c-473c-9bd6-395c47d900ea",
   "metadata": {},
   "outputs": [],
   "source": [
    " clf = OutputCodeClassifier(LinearSVC(random_state=0), code_size=2, random_state=0)"
   ]
  },
  {
   "cell_type": "code",
   "execution_count": 64,
   "id": "dd25cd1c-7cd1-476c-9c7d-43a53a815295",
   "metadata": {},
   "outputs": [
    {
     "name": "stderr",
     "output_type": "stream",
     "text": [
      "/home/shizhenkun/anaconda3/envs/jupyterlab-debugger/lib/python3.9/site-packages/sklearn/svm/_base.py:985: ConvergenceWarning: Liblinear failed to converge, increase the number of iterations.\n",
      "  warnings.warn(\"Liblinear failed to converge, increase \"\n",
      "/home/shizhenkun/anaconda3/envs/jupyterlab-debugger/lib/python3.9/site-packages/sklearn/svm/_base.py:985: ConvergenceWarning: Liblinear failed to converge, increase the number of iterations.\n",
      "  warnings.warn(\"Liblinear failed to converge, increase \"\n",
      "/home/shizhenkun/anaconda3/envs/jupyterlab-debugger/lib/python3.9/site-packages/sklearn/svm/_base.py:985: ConvergenceWarning: Liblinear failed to converge, increase the number of iterations.\n",
      "  warnings.warn(\"Liblinear failed to converge, increase \"\n"
     ]
    },
    {
     "data": {
      "text/plain": [
       "array([0, 0, 0, 0, 0, 0, 0, 0, 0, 0, 0, 0, 0, 0, 0, 0, 0, 0, 0, 0, 0, 0,\n",
       "       0, 0, 0, 0, 0, 0, 0, 0, 0, 0, 0, 0, 0, 0, 0, 0, 0, 0, 0, 0, 0, 0,\n",
       "       0, 0, 0, 0, 0, 0, 1, 1, 1, 1, 1, 1, 2, 1, 1, 1, 1, 1, 1, 1, 1, 1,\n",
       "       2, 1, 1, 1, 2, 1, 1, 1, 1, 1, 1, 2, 1, 1, 1, 1, 1, 2, 2, 2, 1, 1,\n",
       "       1, 1, 1, 1, 1, 1, 1, 1, 1, 1, 1, 1, 2, 2, 2, 2, 2, 2, 2, 2, 2, 2,\n",
       "       2, 2, 2, 2, 2, 2, 2, 2, 2, 1, 2, 2, 2, 2, 2, 2, 2, 2, 2, 1, 2, 2,\n",
       "       2, 1, 1, 2, 2, 2, 2, 2, 2, 2, 2, 2, 2, 2, 2, 2, 2, 2])"
      ]
     },
     "execution_count": 64,
     "metadata": {},
     "output_type": "execute_result"
    }
   ],
   "source": [
    "clf.fit(X, y).predict(X)"
   ]
  },
  {
   "cell_type": "code",
   "execution_count": null,
   "id": "6deec14d-2d11-4347-ad09-e137956577a6",
   "metadata": {},
   "outputs": [],
   "source": []
  },
  {
   "cell_type": "code",
   "execution_count": 3,
   "id": "8a5719f4-5309-49b0-971b-579e6a122d64",
   "metadata": {},
   "outputs": [],
   "source": [
    "from sklearn.datasets import load_iris\n",
    "from sklearn import tree\n",
    "from sklearn.model_selection import train_test_split\n",
    "import os"
   ]
  },
  {
   "cell_type": "code",
   "execution_count": 67,
   "id": "a0b2f193-7620-474f-b531-9dfba83e1054",
   "metadata": {},
   "outputs": [
    {
     "name": "stdout",
     "output_type": "stream",
     "text": [
      "[0 1 2 0 0 2 1 0 0 2 1 1 0 1 2]\n",
      "[0 1 1 0 0 2 1 0 0 2 1 1 0 1 2]\n"
     ]
    }
   ],
   "source": [
    "iris = load_iris()\n",
    "x = iris['data']\n",
    "y = iris['target']\n",
    "dtc = tree.DecisionTreeClassifier(criterion=\"entropy\")\n",
    "x_train, x_test, y_train, y_test = train_test_split(x, y, test_size=0.1)\n",
    "clf = dtc.fit(x_train, y_train)\n",
    "print(clf.predict(x_test))\n",
    "print(y_test)\n",
    "dot_data = tree.export_graphviz(clf, out_file=None)\n",
    "\n"
   ]
  },
  {
   "cell_type": "code",
   "execution_count": null,
   "id": "7984608c-19bd-4220-a570-b6f29fde17da",
   "metadata": {},
   "outputs": [],
   "source": [
    "trainset = train[['id', 'ec_label','seq', 'seqlength']].reset_index(drop=True)\n",
    "testset = test[['id', 'ec_label','seq', 'seqlength']].reset_index(drop=True)\n",
    "\n",
    "MAX_SEQ_LENGTH = 1000 #定义序列最长的长度\n",
    "trainset.seq = trainset.seq.map(lambda x : x[0:MAX_SEQ_LENGTH].ljust(MAX_SEQ_LENGTH, 'X'))\n",
    "testset.seq = testset.seq.map(lambda x : x[0:MAX_SEQ_LENGTH].ljust(MAX_SEQ_LENGTH, 'X'))\n",
    "\n",
    "f_train = funclib.dna_onehot(trainset) #训练集编码\n",
    "f_test = funclib.dna_onehot(testset) #测试集编码\n",
    "\n",
    "train_full = pd.concat([trainset, f_train], axis=1, join='inner' ) #拼合训练集\n",
    "test_full = pd.concat([testset, f_test], axis=1, join='inner' )    #拼合测试集\n",
    "\n",
    "X_train = np.array(train_full.iloc[:,4:])\n",
    "X_test = np.array(test_full.iloc[:,4:])\n",
    "Y_train = np.array(train_full.ec_label.astype('int'))\n",
    "Y_test = np.array(test_full.ec_label.astype('int'))"
   ]
  },
  {
   "cell_type": "code",
   "execution_count": 4,
   "id": "25de1bd0-d479-4a57-9312-45b2116c7445",
   "metadata": {},
   "outputs": [
    {
     "ename": "NameError",
     "evalue": "name 'trainset' is not defined",
     "output_type": "error",
     "traceback": [
      "\u001b[0;31m---------------------------------------------------------------------------\u001b[0m\n\u001b[0;31mNameError\u001b[0m                                 Traceback (most recent call last)",
      "File \u001b[0;34m/home/shizhenkun/anaconda3/envs/jupyterlab-debugger/lib/python3.9/site-packages/IPython/core/interactiveshell.py\u001b[0m, in \u001b[0;32mrun_code\u001b[0m:\nLine \u001b[0;34m3437\u001b[0m:  exec(code_obj, \u001b[36mself\u001b[39;49;00m.user_global_ns, \u001b[36mself\u001b[39;49;00m.user_ns)\n",
      "In  \u001b[0;34m[4]\u001b[0m:\nLine \u001b[0;34m1\u001b[0m:     f_train = funclib.dna_onehot(trainset) \u001b[37m#训练集编码\u001b[39;49;00m\n",
      "\u001b[0;31mNameError\u001b[0m: name 'trainset' is not defined\n\u001b[0;31m---------------------------------------------------------------------------\u001b[0m"
     ]
    }
   ],
   "source": [
    "\n"
   ]
  },
  {
   "cell_type": "code",
   "execution_count": 77,
   "id": "94a067aa-154f-480e-b931-7cd53d8284a2",
   "metadata": {},
   "outputs": [],
   "source": []
  },
  {
   "cell_type": "code",
   "execution_count": 6,
   "id": "e7c41a8c-caf9-43d6-9393-74cc08e221bc",
   "metadata": {},
   "outputs": [],
   "source": [
    "dtc = tree.DecisionTreeClassifier(criterion=\"entropy\")\n",
    "clf = dtc.fit(X_train, Y_train)\n",
    "res = clf.predict(X_test)\n",
    "# print(y_test)\n",
    "# dot_data = tree.export_graphviz(clf, out_file=None)"
   ]
  },
  {
   "cell_type": "code",
   "execution_count": 86,
   "id": "946da711-96b9-46eb-95d7-1236cc2a50f5",
   "metadata": {},
   "outputs": [],
   "source": []
  },
  {
   "cell_type": "code",
   "execution_count": 81,
   "id": "96cadd12-80e3-45e2-a599-77ef90fe7df5",
   "metadata": {},
   "outputs": [
    {
     "data": {
      "text/plain": [
       "array([2473,  639, 1791, ..., 3493, 2861, 2608])"
      ]
     },
     "execution_count": 81,
     "metadata": {},
     "output_type": "execute_result"
    }
   ],
   "source": [
    "Y_test"
   ]
  },
  {
   "cell_type": "code",
   "execution_count": 7,
   "id": "7b6eae81-6aad-4a46-9a37-33f093cf004f",
   "metadata": {},
   "outputs": [],
   "source": [
    "aa = pd.DataFrame()\n",
    "aa['ground_truth'] = Y_test\n",
    "aa['pred'] = res"
   ]
  },
  {
   "cell_type": "code",
   "execution_count": 88,
   "id": "cd5e4d26-5747-44b6-acd5-53a9e1d6d2e5",
   "metadata": {},
   "outputs": [
    {
     "data": {
      "text/plain": [
       "18868"
      ]
     },
     "execution_count": 88,
     "metadata": {},
     "output_type": "execute_result"
    }
   ],
   "source": [
    "len(res)"
   ]
  },
  {
   "cell_type": "code",
   "execution_count": 87,
   "id": "b115e516-1d03-4e8e-8e9b-0b92c37a3986",
   "metadata": {},
   "outputs": [
    {
     "data": {
      "text/plain": [
       "18868"
      ]
     },
     "execution_count": 87,
     "metadata": {},
     "output_type": "execute_result"
    }
   ],
   "source": [
    "len(Y_test)"
   ]
  },
  {
   "cell_type": "code",
   "execution_count": 8,
   "id": "50929356-613a-4462-b81e-567de6966cc7",
   "metadata": {},
   "outputs": [],
   "source": [
    "aa['iscorrect']= aa.apply(lambda x: x.ground_truth == x.pred, axis=1)"
   ]
  },
  {
   "cell_type": "code",
   "execution_count": 9,
   "id": "db990442-2704-469e-b3c3-4bedaf13e5fb",
   "metadata": {},
   "outputs": [
    {
     "data": {
      "text/plain": [
       "1629"
      ]
     },
     "execution_count": 9,
     "metadata": {},
     "output_type": "execute_result"
    }
   ],
   "source": [
    "aa.iscorrect.sum()"
   ]
  },
  {
   "cell_type": "code",
   "execution_count": 12,
   "id": "8042e045-cd46-4d90-a36f-fdeaa69e5b04",
   "metadata": {},
   "outputs": [
    {
     "data": {
      "text/html": [
       "<div>\n",
       "<style scoped>\n",
       "    .dataframe tbody tr th:only-of-type {\n",
       "        vertical-align: middle;\n",
       "    }\n",
       "\n",
       "    .dataframe tbody tr th {\n",
       "        vertical-align: top;\n",
       "    }\n",
       "\n",
       "    .dataframe thead th {\n",
       "        text-align: right;\n",
       "    }\n",
       "</style>\n",
       "<table border=\"1\" class=\"dataframe\">\n",
       "  <thead>\n",
       "    <tr style=\"text-align: right;\">\n",
       "      <th></th>\n",
       "      <th>ground_truth</th>\n",
       "      <th>pred</th>\n",
       "      <th>iscorrect</th>\n",
       "    </tr>\n",
       "  </thead>\n",
       "  <tbody>\n",
       "    <tr>\n",
       "      <th>2</th>\n",
       "      <td>1791</td>\n",
       "      <td>1791</td>\n",
       "      <td>True</td>\n",
       "    </tr>\n",
       "    <tr>\n",
       "      <th>5</th>\n",
       "      <td>2473</td>\n",
       "      <td>2473</td>\n",
       "      <td>True</td>\n",
       "    </tr>\n",
       "    <tr>\n",
       "      <th>10</th>\n",
       "      <td>1791</td>\n",
       "      <td>1791</td>\n",
       "      <td>True</td>\n",
       "    </tr>\n",
       "    <tr>\n",
       "      <th>15</th>\n",
       "      <td>1791</td>\n",
       "      <td>1791</td>\n",
       "      <td>True</td>\n",
       "    </tr>\n",
       "    <tr>\n",
       "      <th>17</th>\n",
       "      <td>1791</td>\n",
       "      <td>1791</td>\n",
       "      <td>True</td>\n",
       "    </tr>\n",
       "    <tr>\n",
       "      <th>...</th>\n",
       "      <td>...</td>\n",
       "      <td>...</td>\n",
       "      <td>...</td>\n",
       "    </tr>\n",
       "    <tr>\n",
       "      <th>18756</th>\n",
       "      <td>3493</td>\n",
       "      <td>3493</td>\n",
       "      <td>True</td>\n",
       "    </tr>\n",
       "    <tr>\n",
       "      <th>18757</th>\n",
       "      <td>3493</td>\n",
       "      <td>3493</td>\n",
       "      <td>True</td>\n",
       "    </tr>\n",
       "    <tr>\n",
       "      <th>18801</th>\n",
       "      <td>337</td>\n",
       "      <td>337</td>\n",
       "      <td>True</td>\n",
       "    </tr>\n",
       "    <tr>\n",
       "      <th>18817</th>\n",
       "      <td>2464</td>\n",
       "      <td>2464</td>\n",
       "      <td>True</td>\n",
       "    </tr>\n",
       "    <tr>\n",
       "      <th>18853</th>\n",
       "      <td>1332</td>\n",
       "      <td>1332</td>\n",
       "      <td>True</td>\n",
       "    </tr>\n",
       "  </tbody>\n",
       "</table>\n",
       "<p>1629 rows × 3 columns</p>\n",
       "</div>"
      ],
      "text/plain": [
       "       ground_truth  pred  iscorrect\n",
       "2              1791  1791       True\n",
       "5              2473  2473       True\n",
       "10             1791  1791       True\n",
       "15             1791  1791       True\n",
       "17             1791  1791       True\n",
       "...             ...   ...        ...\n",
       "18756          3493  3493       True\n",
       "18757          3493  3493       True\n",
       "18801           337   337       True\n",
       "18817          2464  2464       True\n",
       "18853          1332  1332       True\n",
       "\n",
       "[1629 rows x 3 columns]"
      ]
     },
     "execution_count": 12,
     "metadata": {},
     "output_type": "execute_result"
    }
   ],
   "source": [
    "aa[aa.iscorrect]"
   ]
  },
  {
   "cell_type": "code",
   "execution_count": 14,
   "id": "dd160ed3-e13a-4c69-a392-235e4e0982e9",
   "metadata": {},
   "outputs": [],
   "source": [
    "import pandas as pd\n",
    "from sklearn.model_selection import train_test_split\n",
    "from xgboost.sklearn import XGBClassifier\n",
    "from sklearn.metrics import classification_report\n",
    "from sklearn.metrics import f1_score, precision_score, recall_score\n"
   ]
  },
  {
   "cell_type": "code",
   "execution_count": null,
   "id": "203c55ca-8375-4577-a5f7-699b4b9dd832",
   "metadata": {},
   "outputs": [
    {
     "name": "stdout",
     "output_type": "stream",
     "text": [
      "------------------------------------------------------------\n",
      "xgboost模型： XGBClassifier(base_score=None, booster=None, colsample_bylevel=None,\n",
      "              colsample_bynode=None, colsample_bytree=None, gamma=None,\n",
      "              gpu_id=None, importance_type='gain', interaction_constraints=None,\n",
      "              learning_rate=None, max_delta_step=None, max_depth=15,\n",
      "              min_child_weight=6, missing=nan, monotone_constraints=None,\n",
      "              n_estimators=100, n_jobs=-2, num_class=5, num_parallel_tree=None,\n",
      "              objective='multi:softmax', random_state=None, reg_alpha=None,\n",
      "              reg_lambda=None, scale_pos_weight=None, subsample=None,\n",
      "              tree_method=None, validate_parameters=None, verbosity=None)\n"
     ]
    },
    {
     "name": "stderr",
     "output_type": "stream",
     "text": [
      "/home/shizhenkun/anaconda3/envs/jupyterlab-debugger/lib/python3.9/site-packages/xgboost/sklearn.py:888: UserWarning: The use of label encoder in XGBClassifier is deprecated and will be removed in a future release. To remove this warning, do the following: 1) Pass option use_label_encoder=False when constructing XGBClassifier object; and 2) Encode your labels (y) as integers starting with 0, i.e. 0, 1, 2, ..., [num_class - 1].\n",
      "  warnings.warn(label_encoder_deprecation_msg, UserWarning)\n"
     ]
    },
    {
     "name": "stdout",
     "output_type": "stream",
     "text": [
      "[14:03:40] WARNING: ../src/learner.cc:1061: Starting in XGBoost 1.3.0, the default evaluation metric used with the objective 'multi:softprob' was changed from 'merror' to 'mlogloss'. Explicitly set eval_metric if you'd like to restore the old behavior.\n"
     ]
    }
   ],
   "source": [
    "xgboost_clf = XGBClassifier(tree_method='gpu_hist',gpu_id=0,min_child_weight=6,max_depth=15, objective='multi:softmax',num_class=5, n_jobs=-2)\n",
    "print(\"-\" * 60)\n",
    "print(\"xgboost模型：\", xgboost_clf)\n",
    "clf = xgboost_clf.fit(X_train, Y_train)\n",
    "res = clf.predict(X_test)"
   ]
  }
 ],
 "metadata": {
  "kernelspec": {
   "display_name": "Python 3.9 (XPython)",
   "language": "python",
   "name": "xpython"
  },
  "language_info": {
   "file_extension": ".py",
   "mimetype": "text/x-python",
   "name": "python",
   "version": "3.9.2"
  }
 },
 "nbformat": 4,
 "nbformat_minor": 5
}
