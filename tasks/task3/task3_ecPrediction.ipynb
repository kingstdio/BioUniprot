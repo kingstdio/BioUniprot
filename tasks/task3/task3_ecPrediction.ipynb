{
 "cells": [
  {
   "cell_type": "markdown",
   "id": "0ddce4b9-e814-4a6b-a347-78f8d73b3d2a",
   "metadata": {},
   "source": [
    "# Task3. 酶的EC号预测\n",
    "\n",
    "> author: Shizhenkun   \n",
    "> email: zhenkun.shi@tib.cas.cn   \n",
    "> date: 2021-06-03  \n",
    "\n",
    "## 任务简介\n",
    "该任务通过给定酶序列，预测该酶的反应类别（EC号）\n",
    "\n",
    "\n",
    "## 数据统计\n",
    "- 遵照任务1找到的时间节点对数据进行划分\n",
    "- 以2009年12月14日为时间节点，之前的数据为训练集，之后的数据为测试集，具体数据集统计如下： \n",
    "\n",
    "\n",
    "|     Items    | 单功能酶       |   多功能非酶    |合计                     |\n",
    "| ------------ | --------| --------- |----------------------------------|\n",
    "| 训练集        | 185,453 | 13,239    | 198,692（198,692/219,227=90.63%) |\n",
    "| 测试集        | 18,868  | 25,594    | 20,535 (20,535/219,227=9.37% )   |\n",
    "\n",
    "\n",
    "## 数据集构建方法\n",
    "\n",
    "* 根据蛋白注释信息与之前划定的酶与非酶数据集，将「酶」数据进行分类。\n",
    "* 有1个EC号的被定义为「单功能酶」，有多个EC号的被定义为「多功能酶」。\n",
    "* EC号数目：4676个\n",
    "\n",
    "\n",
    "## 实验结果\n",
    "\n",
    "### Baselines\n",
    "\n",
    "|Methods   | Accuracy                        |             Precision           |           Recall               |F1   |\n",
    "| ---------| ------------------------------- | ------------------------------- |--------------------------------|-----|\n",
    "| 同源比对  |  0.6345134619461522(11972/18868) | 0.7470360663921128(11972/16026) |0.84937460250159(16026/18868)   |      |\n",
    "| DeepEC<sup style='color:red'>[DeepEC, 2019]</sup>   |  0.5264468942124232(9933/18868)| 0.7691056910569106(9933/12915) |0.6844922620309519(12915/18868)   |      |\n",
    "\n",
    "\n",
    "\n",
    "\n",
    "\n",
    "[1. DeepEC, 2019](https://bitbucket.org/kaistsystemsbiology/deepec/src/master/) </br>\n",
    "<span style='color:red'>Ryu, Jae Yong, Hyun Uk Kim, and Sang Yup Lee. \"Deep learning enables high-quality and high-throughput prediction of enzyme commission numbers.\" Proceedings of the National Academy of Sciences 116.28 (2019): 13996-14001.</span>\n",
    "\n",
    "[2. ECpred, 2018](https://ecpred.kansil.org/)\n",
    "\n",
    "<span style='color:red'>Dalkiran, A., Rifaioglu, A. S., Martin, M. J., Cetin-Atalay, R., Atalay, V., & Doğan, T. (2018). ECPred: a tool for the prediction of the enzymatic functions of protein sequences based on the EC nomenclature. BMC bioinformatics, 19(1), 334. </span>\n",
    "\n",
    "[3. EzyPred, 2007](http://www.csbio.sjtu.edu.cn/bioinf/EzyPred/#) \n",
    "\n",
    "<span style='color:red'>Shen, Hong-Bin, and Kuo-Chen Chou. \"EzyPred: a top–down approach for predicting enzyme functional classes and subclasses.\" Biochemical and biophysical research communications 364.1 (2007): 53-59. </span>\n",
    "\n",
    "[4. SVM-Prot, 2016](http://bidd.group/cgi-bin/svmprot/) [[速度奇慢]]\n",
    "\n",
    "<span style='color:red'>Li, Ying Hong, et al. \"SVM-Prot 2016: a web-server for machine learning prediction of protein functional families from sequence irrespective of similarity.\" PloS one 11.8 (2016): e0155290. </span>\n",
    "\n",
    "\n",
    "\n",
    "\n",
    "### 机器学习 + onehot\n",
    "\n",
    "\n",
    "|baslineName| accuracy \t |precision(PPV) |\t NPV \t |\trecall |\tf1 \t |\t auroc \t |\t auprc \t |\t confusion Matrix\t\t\t\t\t|\n",
    "| ------| ----------|-----------| ---------- | ----------|-----------|-----------|---------- |------------------------------------------|\n",
    "\n",
    "\n",
    "\n",
    "\n",
    "\n",
    "### 机器学习 + unirep\n",
    "\n",
    "|baslineName| accuracy \t |precision(PPV) |\t NPV \t |\trecall |\tf1 \t |\t auroc \t |\t auprc \t |\t confusion Matrix\t\t\t\t\t    |\n",
    "| ----------| -----------|---------------| --------- | --------|---------|-----------|---------- |------------------------------------------|\n",
    "\n"
   ]
  },
  {
   "cell_type": "markdown",
   "id": "0846ae61",
   "metadata": {},
   "source": [
    "## 1. 导入必要的包"
   ]
  },
  {
   "cell_type": "code",
   "execution_count": 39,
   "id": "f7cc57be",
   "metadata": {},
   "outputs": [
    {
     "name": "stdout",
     "output_type": "stream",
     "text": [
      "The autoreload extension is already loaded. To reload it, use:\n",
      "  %reload_ext autoreload\n"
     ]
    }
   ],
   "source": [
    "import numpy as np\n",
    "import pandas as pd\n",
    "import random\n",
    "import sys\n",
    "from tqdm import tqdm\n",
    "sys.path.append(\"../../tools/\")\n",
    "import commontools\n",
    "import funclib\n",
    "\n",
    "from xgboost.sklearn import XGBClassifier\n",
    "\n",
    "\n",
    "%load_ext autoreload\n",
    "%autoreload 2"
   ]
  },
  {
   "cell_type": "markdown",
   "id": "16c20f23",
   "metadata": {},
   "source": [
    "## 2. 加载数据"
   ]
  },
  {
   "cell_type": "code",
   "execution_count": 7,
   "id": "4228269c",
   "metadata": {},
   "outputs": [],
   "source": [
    "train = pd.read_hdf('./data/train.h5',key='data')\n",
    "test = pd.read_hdf('./data/test.h5',key='data')\n",
    "head = funclib.table_head + ['f'+str(i) for i in range(1, 1901) ]\n",
    "head = head + ['ec_label','ec_appears']\n",
    "train.columns = head\n",
    "test.columns = head"
   ]
  },
  {
   "cell_type": "markdown",
   "id": "02ceb1b5",
   "metadata": {},
   "source": [
    "## 3. 同源比对"
   ]
  },
  {
   "cell_type": "code",
   "execution_count": 43,
   "id": "7fd119c6",
   "metadata": {},
   "outputs": [
    {
     "name": "stdout",
     "output_type": "stream",
     "text": [
      "Write finished\n",
      "Write finished\n",
      "diamond makedb --in /tmp/train.fasta -d /tmp/train.dmnd\n",
      "diamond blastp -d /tmp/train.dmnd  -q  /tmp/test.fasta -o /tmp/test_fasta_results.tsv -b5 -c1 -k 1\n"
     ]
    }
   ],
   "source": [
    "res_data=funclib.getblast(train,test)"
   ]
  },
  {
   "cell_type": "code",
   "execution_count": 51,
   "id": "0d2f1f6d",
   "metadata": {},
   "outputs": [
    {
     "name": "stdout",
     "output_type": "stream",
     "text": [
      "Total query records are: 18868\n",
      "Matched records are: 16026\n",
      "Accuracy: 0.6345134619461522(11972/18868)\n",
      "Pricision: 0.7470360663921128(11972/16026)\n",
      "Recall: 0.84937460250159(16026/18868)\n"
     ]
    }
   ],
   "source": [
    "# 匹配查询结果\n",
    "id_map_ec = train[['id', 'ec_number']].append(test[['id', 'ec_number']],ignore_index=True)\n",
    "id_ec_dict = {v: k for v,k in zip( id_map_ec.id, id_map_ec.ec_number)} \n",
    "res_data['is_ec_match']=res_data.apply(lambda x: (id_ec_dict.get(x['id'])== id_ec_dict.get(x['sseqid'])), axis=1)\n",
    "\n",
    "# 输出比对结果\n",
    "funclib.evaluateBlast(res_data,train,test, 'ec_number')"
   ]
  },
  {
   "cell_type": "markdown",
   "id": "84452e30-1947-43e3-9ff9-504572f3cec3",
   "metadata": {},
   "source": [
    "## 4. DeepEC"
   ]
  },
  {
   "cell_type": "code",
   "execution_count": 55,
   "id": "9c259792-eadd-42b8-a1c5-a9b7843ad0bb",
   "metadata": {},
   "outputs": [
    {
     "name": "stdout",
     "output_type": "stream",
     "text": [
      "Write finished\n"
     ]
    }
   ],
   "source": [
    "funclib.table2fasta(test, './data/deepec.fasta')\n",
    "! python ../../baselines/deepec/deepec.py -i ./data/deepec.fasta -o ./data/deepec/"
   ]
  },
  {
   "cell_type": "code",
   "execution_count": 24,
   "id": "e97e0c66-a383-443c-94e9-f1004b593a9a",
   "metadata": {},
   "outputs": [],
   "source": [
    "# 读取预测结果\n",
    "deepec_results = pd.read_csv('./data/deepec/DeepEC_Result.txt', sep='\\t',names=['id', 'ec_number'], header=0) #读入文件\n",
    "deepec_results.ec_number=deepec_results.apply(lambda x: x['ec_number'].replace('EC:',''), axis=1)"
   ]
  },
  {
   "cell_type": "code",
   "execution_count": 20,
   "id": "7ec206fa-6b3b-4e83-bbe5-3780215c5081",
   "metadata": {},
   "outputs": [],
   "source": [
    "# 计算指标\n",
    "ec_dict = {v: k for k,v in zip(test.ec_number, test.id )} \n",
    "deepec_results['ec_groundtruth'] = deepec_results.apply(lambda x: ec_dict.get(x['id']), axis=1)\n",
    "deepec_results['iscorrect'] = deepec_results.apply(lambda x: x.ec_number == x.ec_groundtruth, axis=1)\n",
    "\n",
    "correct = sum(deepec_results['iscorrect'])\n",
    "find  = len(deepec_results)\n",
    "total = len(test)\n",
    "print('Total query records are: {0}'.format(total))\n",
    "print('Matched records are: {0}'.format(find))\n",
    "print('Accuracy: {0}({1}/{2})'.format(correct/total, correct, total))\n",
    "print('Pricision: {0}({1}/{2})'.format(correct/find, correct, find))\n",
    "print('Recall: {0}({1}/{2})'.format(find/total, find, total))"
   ]
  },
  {
   "cell_type": "markdown",
   "id": "d72c1b4b-adbb-410e-94c6-501e563db40e",
   "metadata": {},
   "source": [
    "## 5. ECpred"
   ]
  },
  {
   "cell_type": "code",
   "execution_count": 58,
   "id": "614ad016-1722-41e1-bbc0-e7f5abc280b8",
   "metadata": {},
   "outputs": [],
   "source": [
    "## 读取结果\n",
    "ecpred_results = pd.read_csv('./data/ecpred_results.tsv', sep='\\t', header=0) #读入文件\n",
    "ec_dict = {v: k for k,v in zip(test.ec_number, test.id )} \n",
    "ecpred_results['ec_groundtruth'] = ecpred_results.apply(lambda x: ec_dict.get(x['Protein ID']), axis=1)\n",
    "ecpred_results['iscorrect'] = ecpred_results.apply(lambda x: x['EC Number'] == x.ec_groundtruth, axis=1)"
   ]
  },
  {
   "cell_type": "code",
   "execution_count": 54,
   "id": "98735b96-c812-4329-9f81-e7b7ae21ea5b",
   "metadata": {},
   "outputs": [],
   "source": []
  },
  {
   "cell_type": "code",
   "execution_count": 59,
   "id": "b309a379-53be-47eb-92e8-15c5fa847d8f",
   "metadata": {},
   "outputs": [
    {
     "name": "stdout",
     "output_type": "stream",
     "text": [
      "Total query records are: 18868\n",
      "Matched records are: 18868\n",
      "Accuracy: 0.4903540385838457(9252/18868)\n",
      "Pricision: 0.4903540385838457(9252/18868)\n",
      "Recall: 1.0(18868/18868)\n"
     ]
    }
   ],
   "source": [
    "# 计算指标\n",
    "correct = sum(ecpred_results['iscorrect'])\n",
    "find  = len(ecpred_results)\n",
    "total = len(test)\n",
    "print('Total query records are: {0}'.format(total))\n",
    "print('Matched records are: {0}'.format(find))\n",
    "print('Accuracy: {0}({1}/{2})'.format(correct/total, correct, total))\n",
    "print('Pricision: {0}({1}/{2})'.format(correct/find, correct, find))\n",
    "print('Recall: {0}({1}/{2})'.format(find/total, find, total))"
   ]
  },
  {
   "cell_type": "code",
   "execution_count": null,
   "id": "90160061-3533-419a-a01d-9add2592e00b",
   "metadata": {},
   "outputs": [],
   "source": []
  },
  {
   "cell_type": "code",
   "execution_count": 57,
   "id": "d51ee97d-c68a-4a43-ab3f-ac066b4bd836",
   "metadata": {},
   "outputs": [
    {
     "data": {
      "text/html": [
       "<div>\n",
       "<style scoped>\n",
       "    .dataframe tbody tr th:only-of-type {\n",
       "        vertical-align: middle;\n",
       "    }\n",
       "\n",
       "    .dataframe tbody tr th {\n",
       "        vertical-align: top;\n",
       "    }\n",
       "\n",
       "    .dataframe thead th {\n",
       "        text-align: right;\n",
       "    }\n",
       "</style>\n",
       "<table border=\"1\" class=\"dataframe\">\n",
       "  <thead>\n",
       "    <tr style=\"text-align: right;\">\n",
       "      <th></th>\n",
       "      <th>Protein ID</th>\n",
       "      <th>EC Number</th>\n",
       "      <th>Confidence Score(max 1.0)</th>\n",
       "      <th>ec_groundtruth</th>\n",
       "      <th>iscorrect</th>\n",
       "    </tr>\n",
       "  </thead>\n",
       "  <tbody>\n",
       "    <tr>\n",
       "      <th>0</th>\n",
       "      <td>B0VRF9</td>\n",
       "      <td>6.4.1.2</td>\n",
       "      <td>1.0</td>\n",
       "      <td>2.1.3.15</td>\n",
       "      <td>False</td>\n",
       "    </tr>\n",
       "    <tr>\n",
       "      <th>1</th>\n",
       "      <td>Q339X2</td>\n",
       "      <td>3.2.1.21</td>\n",
       "      <td>1.0</td>\n",
       "      <td>3.2.1.21</td>\n",
       "      <td>True</td>\n",
       "    </tr>\n",
       "    <tr>\n",
       "      <th>2</th>\n",
       "      <td>A0LEQ5</td>\n",
       "      <td>1.6.5.11</td>\n",
       "      <td>1.0</td>\n",
       "      <td>7.1.1.-</td>\n",
       "      <td>False</td>\n",
       "    </tr>\n",
       "  </tbody>\n",
       "</table>\n",
       "</div>"
      ],
      "text/plain": [
       "  Protein ID EC Number  Confidence Score(max 1.0) ec_groundtruth  iscorrect\n",
       "0     B0VRF9   6.4.1.2                        1.0       2.1.3.15      False\n",
       "1     Q339X2  3.2.1.21                        1.0       3.2.1.21       True\n",
       "2     A0LEQ5  1.6.5.11                        1.0        7.1.1.-      False"
      ]
     },
     "execution_count": 57,
     "metadata": {},
     "output_type": "execute_result"
    }
   ],
   "source": [
    "ecpred_results.head(3)"
   ]
  },
  {
   "cell_type": "code",
   "execution_count": null,
   "id": "81752b46-70ab-4cb2-89d3-ef4e833d3108",
   "metadata": {},
   "outputs": [],
   "source": []
  },
  {
   "cell_type": "code",
   "execution_count": null,
   "id": "bd0431ec-59a5-44ca-ac2b-c19db0482ccc",
   "metadata": {},
   "outputs": [],
   "source": []
  },
  {
   "cell_type": "markdown",
   "id": "c290026b",
   "metadata": {},
   "source": [
    "## 6. 机器学习EC号预测\n",
    "### 6.1 onehot + 机器学习"
   ]
  },
  {
   "cell_type": "code",
   "execution_count": 43,
   "id": "bf769596",
   "metadata": {},
   "outputs": [],
   "source": [
    "trainset = train[['id', 'ec_label','seq', 'seqlength']].reset_index(drop=True)\n",
    "testset = test[['id', 'ec_label','seq', 'seqlength']].reset_index(drop=True)\n",
    "\n",
    "MAX_SEQ_LENGTH = 1000 #定义序列最长的长度\n",
    "trainset.seq = trainset.seq.map(lambda x : x[0:MAX_SEQ_LENGTH].ljust(MAX_SEQ_LENGTH, 'X'))\n",
    "testset.seq = testset.seq.map(lambda x : x[0:MAX_SEQ_LENGTH].ljust(MAX_SEQ_LENGTH, 'X'))\n",
    "\n",
    "f_train = funclib.dna_onehot(trainset) #训练集编码\n",
    "f_test = funclib.dna_onehot(testset) #测试集编码\n",
    "\n",
    "train_full = pd.concat([trainset, f_train], axis=1, join='inner' ) #拼合训练集\n",
    "test_full = pd.concat([testset, f_test], axis=1, join='inner' )    #拼合测试集\n",
    "\n",
    "X_train = np.array(train_full.iloc[:,4:])\n",
    "X_test = np.array(test_full.iloc[:,4:])\n",
    "Y_train = np.array(train_full.ec_label.astype('int'))\n",
    "Y_test = np.array(test_full.ec_label.astype('int'))"
   ]
  },
  {
   "cell_type": "code",
   "execution_count": 47,
   "id": "8ea73dd9",
   "metadata": {},
   "outputs": [
    {
     "name": "stdout",
     "output_type": "stream",
     "text": [
      "------------------------------------------------------------\n",
      "xgboost模型： XGBClassifier(base_score=None, booster=None, colsample_bylevel=None,\n",
      "              colsample_bynode=None, colsample_bytree=None, gamma=None,\n",
      "              gpu_id=None, importance_type='gain', interaction_constraints=None,\n",
      "              learning_rate=None, max_delta_step=None, max_depth=15,\n",
      "              min_child_weight=6, missing=nan, monotone_constraints=None,\n",
      "              n_estimators=100, n_jobs=-2, num_class=5, num_parallel_tree=None,\n",
      "              objective='multi:softmax', random_state=None, reg_alpha=None,\n",
      "              reg_lambda=None, scale_pos_weight=None, subsample=None,\n",
      "              tree_method=None, use_label_encoder=True,\n",
      "              validate_parameters=None, verbosity=None)\n"
     ]
    },
    {
     "name": "stderr",
     "output_type": "stream",
     "text": [
      "/home/shizhenkun/anaconda3/envs/py38/lib/python3.8/site-packages/xgboost/sklearn.py:888: UserWarning: The use of label encoder in XGBClassifier is deprecated and will be removed in a future release. To remove this warning, do the following: 1) Pass option use_label_encoder=False when constructing XGBClassifier object; and 2) Encode your labels (y) as integers starting with 0, i.e. 0, 1, 2, ..., [num_class - 1].\n",
      "  warnings.warn(label_encoder_deprecation_msg, UserWarning)\n"
     ]
    },
    {
     "name": "stdout",
     "output_type": "stream",
     "text": [
      "[16:36:45] WARNING: /tmp/build/80754af9/xgboost-split_1619724447847/work/src/learner.cc:1061: Starting in XGBoost 1.3.0, the default evaluation metric used with the objective 'multi:softprob' was changed from 'merror' to 'mlogloss'. Explicitly set eval_metric if you'd like to restore the old behavior.\n"
     ]
    },
    {
     "data": {
      "text/plain": [
       "445"
      ]
     },
     "execution_count": 47,
     "metadata": {},
     "output_type": "execute_result"
    }
   ],
   "source": [
    "xgboost_clf = XGBClassifier(min_child_weight=6,max_depth=15, objective='multi:softmax',num_class=5, n_jobs=-2)\n",
    "print(\"-\" * 60)\n",
    "print(\"xgboost模型：\", xgboost_clf)\n",
    "clf = xgboost_clf.fit(X_train, Y_train)\n",
    "res = clf.predict(X_test)\n",
    "aa = pd.DataFrame()\n",
    "aa['ground_truth'] = Y_test\n",
    "aa['pred'] = res\n",
    "aa['iscorrect']= aa.apply(lambda x: x.ground_truth == x.pred, axis=1)\n",
    "aa.iscorrect.sum()"
   ]
  },
  {
   "cell_type": "code",
   "execution_count": 46,
   "id": "1f48f7d1-364d-49d7-8444-52cc95f7f828",
   "metadata": {},
   "outputs": [
    {
     "data": {
      "text/plain": [
       "array([2473,  639, 1791, ..., 3493, 2861, 2608])"
      ]
     },
     "execution_count": 46,
     "metadata": {},
     "output_type": "execute_result"
    }
   ],
   "source": [
    "Y_test"
   ]
  },
  {
   "cell_type": "code",
   "execution_count": 38,
   "id": "e1709e3d",
   "metadata": {},
   "outputs": [
    {
     "name": "stdout",
     "output_type": "stream",
     "text": [
      "MNTLTTYLVIAAVLFCLGLLGILQRRNLVGMLISLELMLNGANLNFMAFNRFLAPEPAVGQIIALIVMGLAAAEAAIGLSIIFALFRRMHSINVERAQELRG\n"
     ]
    }
   ],
   "source": [
    "print(test.seq.iloc[2])"
   ]
  },
  {
   "cell_type": "code",
   "execution_count": 34,
   "id": "9e0ca649",
   "metadata": {},
   "outputs": [
    {
     "data": {
      "text/html": [
       "<div>\n",
       "<style scoped>\n",
       "    .dataframe tbody tr th:only-of-type {\n",
       "        vertical-align: middle;\n",
       "    }\n",
       "\n",
       "    .dataframe tbody tr th {\n",
       "        vertical-align: top;\n",
       "    }\n",
       "\n",
       "    .dataframe thead th {\n",
       "        text-align: right;\n",
       "    }\n",
       "</style>\n",
       "<table border=\"1\" class=\"dataframe\">\n",
       "  <thead>\n",
       "    <tr style=\"text-align: right;\">\n",
       "      <th></th>\n",
       "      <th>id</th>\n",
       "      <th>name</th>\n",
       "      <th>isemzyme</th>\n",
       "      <th>isMultiFunctional</th>\n",
       "      <th>functionCounts</th>\n",
       "      <th>ec_number</th>\n",
       "      <th>ec_specific_level</th>\n",
       "      <th>date_integraged</th>\n",
       "      <th>date_sequence_update</th>\n",
       "      <th>date_annotation_update</th>\n",
       "      <th>...</th>\n",
       "      <th>f1893</th>\n",
       "      <th>f1894</th>\n",
       "      <th>f1895</th>\n",
       "      <th>f1896</th>\n",
       "      <th>f1897</th>\n",
       "      <th>f1898</th>\n",
       "      <th>f1899</th>\n",
       "      <th>f1900</th>\n",
       "      <th>ec_label</th>\n",
       "      <th>ec_appears</th>\n",
       "    </tr>\n",
       "  </thead>\n",
       "  <tbody>\n",
       "    <tr>\n",
       "      <th>185453</th>\n",
       "      <td>B0VRF9</td>\n",
       "      <td>ACCD_ACIBS</td>\n",
       "      <td>True</td>\n",
       "      <td>False</td>\n",
       "      <td>1</td>\n",
       "      <td>2.1.3.15</td>\n",
       "      <td>4</td>\n",
       "      <td>2009-12-15</td>\n",
       "      <td>2008-04-08</td>\n",
       "      <td>2020-12-02</td>\n",
       "      <td>...</td>\n",
       "      <td>0.224951</td>\n",
       "      <td>0.412453</td>\n",
       "      <td>-0.100746</td>\n",
       "      <td>-0.581480</td>\n",
       "      <td>-0.003753</td>\n",
       "      <td>0.020245</td>\n",
       "      <td>-0.029395</td>\n",
       "      <td>0.148873</td>\n",
       "      <td>2473</td>\n",
       "      <td>757</td>\n",
       "    </tr>\n",
       "    <tr>\n",
       "      <th>185837</th>\n",
       "      <td>Q339X2</td>\n",
       "      <td>BGL34_ORYSJ</td>\n",
       "      <td>True</td>\n",
       "      <td>False</td>\n",
       "      <td>1</td>\n",
       "      <td>3.2.1.21</td>\n",
       "      <td>4</td>\n",
       "      <td>2009-12-15</td>\n",
       "      <td>2005-12-06</td>\n",
       "      <td>2020-12-02</td>\n",
       "      <td>...</td>\n",
       "      <td>-0.030850</td>\n",
       "      <td>0.062774</td>\n",
       "      <td>-0.194467</td>\n",
       "      <td>0.033042</td>\n",
       "      <td>-0.003844</td>\n",
       "      <td>-0.097847</td>\n",
       "      <td>-0.374020</td>\n",
       "      <td>0.052672</td>\n",
       "      <td>639</td>\n",
       "      <td>189</td>\n",
       "    </tr>\n",
       "    <tr>\n",
       "      <th>185838</th>\n",
       "      <td>A0LEQ5</td>\n",
       "      <td>NUOK1_SYNFM</td>\n",
       "      <td>True</td>\n",
       "      <td>False</td>\n",
       "      <td>1</td>\n",
       "      <td>7.1.1.-</td>\n",
       "      <td>3</td>\n",
       "      <td>2009-12-15</td>\n",
       "      <td>2006-12-12</td>\n",
       "      <td>2020-12-02</td>\n",
       "      <td>...</td>\n",
       "      <td>-0.051995</td>\n",
       "      <td>-0.463824</td>\n",
       "      <td>-0.309717</td>\n",
       "      <td>-0.030179</td>\n",
       "      <td>0.049086</td>\n",
       "      <td>0.025952</td>\n",
       "      <td>-0.012106</td>\n",
       "      <td>-0.026114</td>\n",
       "      <td>1791</td>\n",
       "      <td>3618</td>\n",
       "    </tr>\n",
       "    <tr>\n",
       "      <th>185839</th>\n",
       "      <td>Q0DIT2</td>\n",
       "      <td>BGL19_ORYSJ</td>\n",
       "      <td>True</td>\n",
       "      <td>False</td>\n",
       "      <td>1</td>\n",
       "      <td>3.2.1.21</td>\n",
       "      <td>4</td>\n",
       "      <td>2009-12-15</td>\n",
       "      <td>2006-10-17</td>\n",
       "      <td>2020-12-02</td>\n",
       "      <td>...</td>\n",
       "      <td>-0.012665</td>\n",
       "      <td>0.082158</td>\n",
       "      <td>-0.078772</td>\n",
       "      <td>-0.071780</td>\n",
       "      <td>0.005139</td>\n",
       "      <td>0.116421</td>\n",
       "      <td>0.199764</td>\n",
       "      <td>0.044296</td>\n",
       "      <td>639</td>\n",
       "      <td>189</td>\n",
       "    </tr>\n",
       "    <tr>\n",
       "      <th>185840</th>\n",
       "      <td>Q28FQ5</td>\n",
       "      <td>TYDP2_XENTR</td>\n",
       "      <td>True</td>\n",
       "      <td>False</td>\n",
       "      <td>1</td>\n",
       "      <td>3.1.4.-</td>\n",
       "      <td>3</td>\n",
       "      <td>2009-12-15</td>\n",
       "      <td>2009-12-15</td>\n",
       "      <td>2021-04-07</td>\n",
       "      <td>...</td>\n",
       "      <td>-0.134549</td>\n",
       "      <td>0.034979</td>\n",
       "      <td>-0.042452</td>\n",
       "      <td>0.074300</td>\n",
       "      <td>0.081314</td>\n",
       "      <td>0.057384</td>\n",
       "      <td>-0.079496</td>\n",
       "      <td>-0.031218</td>\n",
       "      <td>2884</td>\n",
       "      <td>70</td>\n",
       "    </tr>\n",
       "    <tr>\n",
       "      <th>...</th>\n",
       "      <td>...</td>\n",
       "      <td>...</td>\n",
       "      <td>...</td>\n",
       "      <td>...</td>\n",
       "      <td>...</td>\n",
       "      <td>...</td>\n",
       "      <td>...</td>\n",
       "      <td>...</td>\n",
       "      <td>...</td>\n",
       "      <td>...</td>\n",
       "      <td>...</td>\n",
       "      <td>...</td>\n",
       "      <td>...</td>\n",
       "      <td>...</td>\n",
       "      <td>...</td>\n",
       "      <td>...</td>\n",
       "      <td>...</td>\n",
       "      <td>...</td>\n",
       "      <td>...</td>\n",
       "      <td>...</td>\n",
       "      <td>...</td>\n",
       "    </tr>\n",
       "    <tr>\n",
       "      <th>204222</th>\n",
       "      <td>Q9RN59</td>\n",
       "      <td>SNOAL_STRNO</td>\n",
       "      <td>True</td>\n",
       "      <td>False</td>\n",
       "      <td>1</td>\n",
       "      <td>5.5.1.26</td>\n",
       "      <td>4</td>\n",
       "      <td>2021-04-07</td>\n",
       "      <td>2000-05-01</td>\n",
       "      <td>2021-04-07</td>\n",
       "      <td>...</td>\n",
       "      <td>0.153777</td>\n",
       "      <td>0.043218</td>\n",
       "      <td>-0.184997</td>\n",
       "      <td>-0.191364</td>\n",
       "      <td>-0.001056</td>\n",
       "      <td>-0.002186</td>\n",
       "      <td>0.123507</td>\n",
       "      <td>-0.126100</td>\n",
       "      <td>3974</td>\n",
       "      <td>1</td>\n",
       "    </tr>\n",
       "    <tr>\n",
       "      <th>204223</th>\n",
       "      <td>G3F5K2</td>\n",
       "      <td>BKT_PROBT</td>\n",
       "      <td>True</td>\n",
       "      <td>False</td>\n",
       "      <td>1</td>\n",
       "      <td>1.14.99.63</td>\n",
       "      <td>4</td>\n",
       "      <td>2021-04-07</td>\n",
       "      <td>2011-11-16</td>\n",
       "      <td>2021-04-07</td>\n",
       "      <td>...</td>\n",
       "      <td>-0.113104</td>\n",
       "      <td>0.014811</td>\n",
       "      <td>-0.414794</td>\n",
       "      <td>-0.077786</td>\n",
       "      <td>-0.067015</td>\n",
       "      <td>0.046054</td>\n",
       "      <td>-0.030360</td>\n",
       "      <td>0.019115</td>\n",
       "      <td>2676</td>\n",
       "      <td>5</td>\n",
       "    </tr>\n",
       "    <tr>\n",
       "      <th>204224</th>\n",
       "      <td>P93789</td>\n",
       "      <td>SGT1_SOLTU</td>\n",
       "      <td>True</td>\n",
       "      <td>False</td>\n",
       "      <td>1</td>\n",
       "      <td>2.4.1.-</td>\n",
       "      <td>3</td>\n",
       "      <td>2021-04-07</td>\n",
       "      <td>2006-01-10</td>\n",
       "      <td>2021-04-07</td>\n",
       "      <td>...</td>\n",
       "      <td>0.033277</td>\n",
       "      <td>-0.165813</td>\n",
       "      <td>-0.493065</td>\n",
       "      <td>0.255037</td>\n",
       "      <td>-0.003941</td>\n",
       "      <td>0.037680</td>\n",
       "      <td>0.005358</td>\n",
       "      <td>-0.186378</td>\n",
       "      <td>3493</td>\n",
       "      <td>811</td>\n",
       "    </tr>\n",
       "    <tr>\n",
       "      <th>204226</th>\n",
       "      <td>A0A1Z3GBS4</td>\n",
       "      <td>CYPH3_ISORU</td>\n",
       "      <td>True</td>\n",
       "      <td>False</td>\n",
       "      <td>1</td>\n",
       "      <td>1.14.14.175</td>\n",
       "      <td>4</td>\n",
       "      <td>2021-04-07</td>\n",
       "      <td>2017-09-27</td>\n",
       "      <td>2021-04-07</td>\n",
       "      <td>...</td>\n",
       "      <td>-0.053471</td>\n",
       "      <td>-0.044440</td>\n",
       "      <td>-0.855253</td>\n",
       "      <td>0.103256</td>\n",
       "      <td>-0.021321</td>\n",
       "      <td>0.142498</td>\n",
       "      <td>-0.021635</td>\n",
       "      <td>-0.000273</td>\n",
       "      <td>2861</td>\n",
       "      <td>2</td>\n",
       "    </tr>\n",
       "    <tr>\n",
       "      <th>204320</th>\n",
       "      <td>Q0S4D7</td>\n",
       "      <td>CASI_RHOJR</td>\n",
       "      <td>True</td>\n",
       "      <td>False</td>\n",
       "      <td>1</td>\n",
       "      <td>6.2.1.-</td>\n",
       "      <td>3</td>\n",
       "      <td>2021-04-07</td>\n",
       "      <td>2006-09-05</td>\n",
       "      <td>2021-04-07</td>\n",
       "      <td>...</td>\n",
       "      <td>0.392148</td>\n",
       "      <td>-0.153800</td>\n",
       "      <td>-0.048206</td>\n",
       "      <td>-0.042410</td>\n",
       "      <td>0.182518</td>\n",
       "      <td>0.004484</td>\n",
       "      <td>-0.015120</td>\n",
       "      <td>0.767742</td>\n",
       "      <td>2608</td>\n",
       "      <td>87</td>\n",
       "    </tr>\n",
       "  </tbody>\n",
       "</table>\n",
       "<p>18868 rows × 1914 columns</p>\n",
       "</div>"
      ],
      "text/plain": [
       "                id         name  isemzyme  isMultiFunctional  functionCounts  \\\n",
       "185453      B0VRF9   ACCD_ACIBS      True              False               1   \n",
       "185837      Q339X2  BGL34_ORYSJ      True              False               1   \n",
       "185838      A0LEQ5  NUOK1_SYNFM      True              False               1   \n",
       "185839      Q0DIT2  BGL19_ORYSJ      True              False               1   \n",
       "185840      Q28FQ5  TYDP2_XENTR      True              False               1   \n",
       "...            ...          ...       ...                ...             ...   \n",
       "204222      Q9RN59  SNOAL_STRNO      True              False               1   \n",
       "204223      G3F5K2    BKT_PROBT      True              False               1   \n",
       "204224      P93789   SGT1_SOLTU      True              False               1   \n",
       "204226  A0A1Z3GBS4  CYPH3_ISORU      True              False               1   \n",
       "204320      Q0S4D7   CASI_RHOJR      True              False               1   \n",
       "\n",
       "          ec_number  ec_specific_level date_integraged date_sequence_update  \\\n",
       "185453     2.1.3.15                  4      2009-12-15           2008-04-08   \n",
       "185837     3.2.1.21                  4      2009-12-15           2005-12-06   \n",
       "185838      7.1.1.-                  3      2009-12-15           2006-12-12   \n",
       "185839     3.2.1.21                  4      2009-12-15           2006-10-17   \n",
       "185840      3.1.4.-                  3      2009-12-15           2009-12-15   \n",
       "...             ...                ...             ...                  ...   \n",
       "204222     5.5.1.26                  4      2021-04-07           2000-05-01   \n",
       "204223   1.14.99.63                  4      2021-04-07           2011-11-16   \n",
       "204224      2.4.1.-                  3      2021-04-07           2006-01-10   \n",
       "204226  1.14.14.175                  4      2021-04-07           2017-09-27   \n",
       "204320      6.2.1.-                  3      2021-04-07           2006-09-05   \n",
       "\n",
       "       date_annotation_update  ...     f1893     f1894     f1895     f1896  \\\n",
       "185453             2020-12-02  ...  0.224951  0.412453 -0.100746 -0.581480   \n",
       "185837             2020-12-02  ... -0.030850  0.062774 -0.194467  0.033042   \n",
       "185838             2020-12-02  ... -0.051995 -0.463824 -0.309717 -0.030179   \n",
       "185839             2020-12-02  ... -0.012665  0.082158 -0.078772 -0.071780   \n",
       "185840             2021-04-07  ... -0.134549  0.034979 -0.042452  0.074300   \n",
       "...                       ...  ...       ...       ...       ...       ...   \n",
       "204222             2021-04-07  ...  0.153777  0.043218 -0.184997 -0.191364   \n",
       "204223             2021-04-07  ... -0.113104  0.014811 -0.414794 -0.077786   \n",
       "204224             2021-04-07  ...  0.033277 -0.165813 -0.493065  0.255037   \n",
       "204226             2021-04-07  ... -0.053471 -0.044440 -0.855253  0.103256   \n",
       "204320             2021-04-07  ...  0.392148 -0.153800 -0.048206 -0.042410   \n",
       "\n",
       "           f1897     f1898     f1899     f1900  ec_label  ec_appears  \n",
       "185453 -0.003753  0.020245 -0.029395  0.148873      2473         757  \n",
       "185837 -0.003844 -0.097847 -0.374020  0.052672       639         189  \n",
       "185838  0.049086  0.025952 -0.012106 -0.026114      1791        3618  \n",
       "185839  0.005139  0.116421  0.199764  0.044296       639         189  \n",
       "185840  0.081314  0.057384 -0.079496 -0.031218      2884          70  \n",
       "...          ...       ...       ...       ...       ...         ...  \n",
       "204222 -0.001056 -0.002186  0.123507 -0.126100      3974           1  \n",
       "204223 -0.067015  0.046054 -0.030360  0.019115      2676           5  \n",
       "204224 -0.003941  0.037680  0.005358 -0.186378      3493         811  \n",
       "204226 -0.021321  0.142498 -0.021635 -0.000273      2861           2  \n",
       "204320  0.182518  0.004484 -0.015120  0.767742      2608          87  \n",
       "\n",
       "[18868 rows x 1914 columns]"
      ]
     },
     "execution_count": 34,
     "metadata": {},
     "output_type": "execute_result"
    }
   ],
   "source": [
    "tasks/task3/data/deepec.fasta"
   ]
  },
  {
   "cell_type": "code",
   "execution_count": 16,
   "id": "5432ac8b",
   "metadata": {},
   "outputs": [],
   "source": [
    "train_sub= train[train.ec_appears>=100]\n",
    "test_sub= test[test.ec_appears>=100]"
   ]
  },
  {
   "cell_type": "code",
   "execution_count": 19,
   "id": "21439be1",
   "metadata": {},
   "outputs": [],
   "source": [
    "trainset = train_sub[['id', 'ec_label','seq', 'seqlength']].reset_index(drop=True)\n",
    "testset = test_sub[['id', 'ec_label','seq', 'seqlength']].reset_index(drop=True)\n",
    "\n",
    "MAX_SEQ_LENGTH = 1000 #定义序列最长的长度\n",
    "trainset.seq = trainset.seq.map(lambda x : x[0:MAX_SEQ_LENGTH].ljust(MAX_SEQ_LENGTH, 'X'))\n",
    "testset.seq = testset.seq.map(lambda x : x[0:MAX_SEQ_LENGTH].ljust(MAX_SEQ_LENGTH, 'X'))\n",
    "\n",
    "f_train = funclib.dna_onehot(trainset) #训练集编码\n",
    "f_test = funclib.dna_onehot(testset) #测试集编码\n",
    "\n",
    "train_full = pd.concat([trainset, f_train], axis=1, join='inner' ) #拼合训练集\n",
    "test_full = pd.concat([testset, f_test], axis=1, join='inner' )    #拼合测试集\n",
    "\n",
    "X_train = np.array(train_full.iloc[:,4:])\n",
    "X_test = np.array(test_full.iloc[:,4:])\n",
    "Y_train = np.array(train_full.ec_label.astype('int'))\n",
    "Y_test = np.array(test_full.ec_label.astype('int'))"
   ]
  },
  {
   "cell_type": "code",
   "execution_count": 20,
   "id": "a11d4e45",
   "metadata": {},
   "outputs": [
    {
     "name": "stdout",
     "output_type": "stream",
     "text": [
      "------------------------------------------------------------\n",
      "xgboost模型： XGBClassifier(base_score=None, booster=None, colsample_bylevel=None,\n",
      "              colsample_bynode=None, colsample_bytree=None, gamma=None,\n",
      "              gpu_id=None, importance_type='gain', interaction_constraints=None,\n",
      "              learning_rate=None, max_delta_step=None, max_depth=15,\n",
      "              min_child_weight=6, missing=nan, monotone_constraints=None,\n",
      "              n_estimators=100, n_jobs=-2, num_class=5, num_parallel_tree=None,\n",
      "              objective='multi:softmax', random_state=None, reg_alpha=None,\n",
      "              reg_lambda=None, scale_pos_weight=None, subsample=None,\n",
      "              tree_method=None, validate_parameters=None, verbosity=None)\n"
     ]
    },
    {
     "name": "stderr",
     "output_type": "stream",
     "text": [
      "/home/shizhenkun/anaconda3/envs/py38/lib/python3.8/site-packages/xgboost/sklearn.py:888: UserWarning: The use of label encoder in XGBClassifier is deprecated and will be removed in a future release. To remove this warning, do the following: 1) Pass option use_label_encoder=False when constructing XGBClassifier object; and 2) Encode your labels (y) as integers starting with 0, i.e. 0, 1, 2, ..., [num_class - 1].\n",
      "  warnings.warn(label_encoder_deprecation_msg, UserWarning)\n"
     ]
    },
    {
     "name": "stdout",
     "output_type": "stream",
     "text": [
      "[09:37:02] WARNING: /tmp/build/80754af9/xgboost-split_1619724447847/work/src/learner.cc:1061: Starting in XGBoost 1.3.0, the default evaluation metric used with the objective 'multi:softprob' was changed from 'merror' to 'mlogloss'. Explicitly set eval_metric if you'd like to restore the old behavior.\n"
     ]
    },
    {
     "data": {
      "text/plain": [
       "1604"
      ]
     },
     "execution_count": 20,
     "metadata": {},
     "output_type": "execute_result"
    }
   ],
   "source": [
    "xgboost_clf = XGBClassifier(min_child_weight=6,max_depth=15, objective='multi:softmax',num_class=5, n_jobs=-2)\n",
    "print(\"-\" * 60)\n",
    "print(\"xgboost模型：\", xgboost_clf)\n",
    "clf = xgboost_clf.fit(X_train, Y_train)\n",
    "res = clf.predict(X_test)\n",
    "aa = pd.DataFrame()\n",
    "aa['ground_truth'] = Y_test\n",
    "aa['pred'] = res\n",
    "aa['iscorrect']= aa.apply(lambda x: x.ground_truth == x.pred, axis=1)\n",
    "aa.iscorrect.sum()"
   ]
  },
  {
   "cell_type": "code",
   "execution_count": 22,
   "id": "3a5ed1a1-2cec-4823-b2d6-df3094480925",
   "metadata": {},
   "outputs": [
    {
     "data": {
      "text/plain": [
       "0.16916262391900444"
      ]
     },
     "execution_count": 22,
     "metadata": {},
     "output_type": "execute_result"
    }
   ],
   "source": [
    "1604/len(test_sub)"
   ]
  },
  {
   "cell_type": "code",
   "execution_count": 23,
   "id": "034ed9a9",
   "metadata": {},
   "outputs": [
    {
     "data": {
      "text/plain": [
       "9482"
      ]
     },
     "execution_count": 23,
     "metadata": {},
     "output_type": "execute_result"
    }
   ],
   "source": [
    "len(test_sub)"
   ]
  },
  {
   "cell_type": "code",
   "execution_count": 30,
   "id": "7d2253b2",
   "metadata": {},
   "outputs": [],
   "source": [
    "traincc = train.iloc[:, 12:-2]"
   ]
  },
  {
   "cell_type": "code",
   "execution_count": 31,
   "id": "511e18c2",
   "metadata": {},
   "outputs": [],
   "source": [
    "traincc.to_csv('./data/sprot_trn_ft_mat_dense.txt', header=0, index=0, sep=' ')"
   ]
  },
  {
   "cell_type": "code",
   "execution_count": 37,
   "id": "5452c00f",
   "metadata": {},
   "outputs": [],
   "source": [
    "traincc_label = train.iloc[:, -2:-1]"
   ]
  },
  {
   "cell_type": "code",
   "execution_count": 49,
   "id": "bdd1a471",
   "metadata": {},
   "outputs": [],
   "source": [
    "traincc_label.to_csv('../../baselines/slice/Sandbox/Data/sprot/sprot_trn_lbl_mat.txt', header=0, index=0, sep=' ')"
   ]
  },
  {
   "cell_type": "code",
   "execution_count": 6,
   "id": "ed9fed16",
   "metadata": {},
   "outputs": [],
   "source": [
    "dtc = tree.DecisionTreeClassifier(criterion=\"entropy\")\n",
    "clf = dtc.fit(X_train, Y_train)\n",
    "res = clf.predict(X_test)\n",
    "# print(y_test)\n",
    "# dot_data = tree.export_graphviz(clf, out_file=None)"
   ]
  },
  {
   "cell_type": "code",
   "execution_count": 86,
   "id": "8a064c36",
   "metadata": {},
   "outputs": [],
   "source": [
    "xmlcnn_trn_lbl_mat"
   ]
  },
  {
   "cell_type": "code",
   "execution_count": 48,
   "id": "f6edc220",
   "metadata": {},
   "outputs": [],
   "source": [
    "test_label = test.iloc[:, -2:-1]\n",
    "test_label.to_csv('../../baselines/slice/Sandbox/Data/sprot/sprot_tst_lbl_mat.txt', header=0, index=0, sep=' ')"
   ]
  },
  {
   "cell_type": "code",
   "execution_count": 7,
   "id": "bdb7f542",
   "metadata": {},
   "outputs": [],
   "source": []
  },
  {
   "cell_type": "code",
   "execution_count": 47,
   "id": "75121ed5",
   "metadata": {},
   "outputs": [],
   "source": [
    "testcc = test.iloc[:, 12:-2]\n",
    "testcc.to_csv('../../baselines/slice/Sandbox/Data/sprot/sprot_tst_ft_mat_dense.txt', header=0, index=0, sep=' ')"
   ]
  },
  {
   "cell_type": "code",
   "execution_count": null,
   "id": "90852a9a",
   "metadata": {},
   "outputs": [],
   "source": []
  },
  {
   "cell_type": "code",
   "execution_count": null,
   "id": "d3885d92",
   "metadata": {},
   "outputs": [],
   "source": []
  },
  {
   "cell_type": "code",
   "execution_count": 9,
   "id": "3ab8bc37",
   "metadata": {},
   "outputs": [
    {
     "data": {
      "text/plain": [
       "1629"
      ]
     },
     "execution_count": 9,
     "metadata": {},
     "output_type": "execute_result"
    }
   ],
   "source": []
  },
  {
   "cell_type": "code",
   "execution_count": 7,
   "id": "93212153",
   "metadata": {},
   "outputs": [
    {
     "ename": "NameError",
     "evalue": "name 'load_iris' is not defined",
     "output_type": "error",
     "traceback": [
      "\u001b[0;31m---------------------------------------------------------------------------\u001b[0m",
      "\u001b[0;31mNameError\u001b[0m                                 Traceback (most recent call last)",
      "\u001b[0;32m<ipython-input-7-160f6dbb5b1d>\u001b[0m in \u001b[0;36m<module>\u001b[0;34m\u001b[0m\n\u001b[0;32m----> 1\u001b[0;31m \u001b[0miris\u001b[0m \u001b[0;34m=\u001b[0m \u001b[0mload_iris\u001b[0m\u001b[0;34m(\u001b[0m\u001b[0;34m)\u001b[0m\u001b[0;34m\u001b[0m\u001b[0;34m\u001b[0m\u001b[0m\n\u001b[0m\u001b[1;32m      2\u001b[0m \u001b[0mx\u001b[0m \u001b[0;34m=\u001b[0m \u001b[0miris\u001b[0m\u001b[0;34m[\u001b[0m\u001b[0;34m'data'\u001b[0m\u001b[0;34m]\u001b[0m\u001b[0;34m\u001b[0m\u001b[0;34m\u001b[0m\u001b[0m\n\u001b[1;32m      3\u001b[0m \u001b[0my\u001b[0m \u001b[0;34m=\u001b[0m \u001b[0miris\u001b[0m\u001b[0;34m[\u001b[0m\u001b[0;34m'target'\u001b[0m\u001b[0;34m]\u001b[0m\u001b[0;34m\u001b[0m\u001b[0;34m\u001b[0m\u001b[0m\n\u001b[1;32m      4\u001b[0m \u001b[0mdtc\u001b[0m \u001b[0;34m=\u001b[0m \u001b[0mtree\u001b[0m\u001b[0;34m.\u001b[0m\u001b[0mDecisionTreeClassifier\u001b[0m\u001b[0;34m(\u001b[0m\u001b[0mcriterion\u001b[0m\u001b[0;34m=\u001b[0m\u001b[0;34m\"entropy\"\u001b[0m\u001b[0;34m)\u001b[0m\u001b[0;34m\u001b[0m\u001b[0;34m\u001b[0m\u001b[0m\n\u001b[1;32m      5\u001b[0m \u001b[0mx_train\u001b[0m\u001b[0;34m,\u001b[0m \u001b[0mx_test\u001b[0m\u001b[0;34m,\u001b[0m \u001b[0my_train\u001b[0m\u001b[0;34m,\u001b[0m \u001b[0my_test\u001b[0m \u001b[0;34m=\u001b[0m \u001b[0mtrain_test_split\u001b[0m\u001b[0;34m(\u001b[0m\u001b[0mx\u001b[0m\u001b[0;34m,\u001b[0m \u001b[0my\u001b[0m\u001b[0;34m,\u001b[0m \u001b[0mtest_size\u001b[0m\u001b[0;34m=\u001b[0m\u001b[0;36m0.1\u001b[0m\u001b[0;34m)\u001b[0m\u001b[0;34m\u001b[0m\u001b[0;34m\u001b[0m\u001b[0m\n",
      "\u001b[0;31mNameError\u001b[0m: name 'load_iris' is not defined"
     ]
    }
   ],
   "source": [
    "iris = load_iris()\n",
    "x = iris['data']\n",
    "y = iris['target']\n",
    "dtc = tree.DecisionTreeClassifier(criterion=\"entropy\")\n",
    "x_train, x_test, y_train, y_test = train_test_split(x, y, test_size=0.1)\n",
    "clf = dtc.fit(x_train, y_train)\n",
    "print(clf.predict(x_test))\n",
    "print(y_test)\n",
    "dot_data = tree.export_graphviz(clf, out_file=None)"
   ]
  },
  {
   "cell_type": "code",
   "execution_count": 21,
   "id": "0645bea0",
   "metadata": {},
   "outputs": [
    {
     "data": {
      "text/plain": [
       "0.008888888888888889"
      ]
     },
     "execution_count": 21,
     "metadata": {},
     "output_type": "execute_result"
    }
   ],
   "source": [
    "160/18000"
   ]
  },
  {
   "cell_type": "code",
   "execution_count": null,
   "id": "d0c244fb",
   "metadata": {},
   "outputs": [],
   "source": []
  }
 ],
 "metadata": {
  "kernelspec": {
   "display_name": "py36",
   "language": "python",
   "name": "py36"
  },
  "language_info": {
   "codemirror_mode": {
    "name": "ipython",
    "version": 3
   },
   "file_extension": ".py",
   "mimetype": "text/x-python",
   "name": "python",
   "nbconvert_exporter": "python",
   "pygments_lexer": "ipython3",
   "version": "3.8.8"
  }
 },
 "nbformat": 4,
 "nbformat_minor": 5
}
