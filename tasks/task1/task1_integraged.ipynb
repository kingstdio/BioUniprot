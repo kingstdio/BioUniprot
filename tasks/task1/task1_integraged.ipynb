{
 "cells": [
  {
   "cell_type": "code",
   "execution_count": 1,
   "id": "d1f5f74c-263c-4f26-95d7-7d245771e95d",
   "metadata": {},
   "outputs": [],
   "source": [
    "import numpy as np\n",
    "import pandas as pd\n",
    "import sys\n",
    "sys.path.append(\"/home/shizhenkun/codebase/BioUniprot/tools/\")\n",
    "import funclib\n",
    "from xgboost import XGBClassifier\n",
    "from sklearn import metrics\n",
    "from sklearn import linear_model, datasets\n",
    "from sklearn.svm import SVC\n",
    "from sklearn import tree\n",
    "from sklearn.ensemble import RandomForestClassifier\n",
    "from sklearn.ensemble import GradientBoostingClassifier\n",
    "import xgboost\n",
    "from tqdm import tqdm\n",
    "\n",
    "%load_ext autoreload\n",
    "%autoreload 2"
   ]
  },
  {
   "cell_type": "code",
   "execution_count": 3,
   "id": "379c1558-d261-4e34-8d4d-3795a2ca1e75",
   "metadata": {},
   "outputs": [],
   "source": [
    "def load_file(path):\n",
    "    train = pd.read_hdf(path + 'train.h5', key='data')\n",
    "    train.ec_number = train.ec_number.apply(lambda x: x.replace(',', ''))\n",
    "    test = pd.read_hdf(path + 'test.h5', key='data')\n",
    "    test.ec_number = test.ec_number.apply(lambda x: x.replace(',', ''))\n",
    "    head = funclib.table_head + ['f'+str(i) for i in range(1, 1901)]\n",
    "    train.columns = head\n",
    "    test.columns = head\n",
    "    return train, test\n",
    "\n",
    "def xgmain(X_train_std, Y_train, X_test_std, Y_test):\n",
    "    model = XGBClassifier(objective='binary:logistic', random_state=42, use_label_encoder=False, n_jobs=-2, eval_metric='mlogloss')\n",
    "    model.fit(X_train_std, Y_train.ravel())\n",
    "    predict = model.predict(X_test_std)\n",
    "    predictprob = model.predict_proba(X_test_std)\n",
    "    groundtruth = Y_test\n",
    "    return groundtruth, predict, predictprob[:,1]\n",
    "\n",
    "def lrmain(X_train_std, Y_train, X_test_std, Y_test):\n",
    "    logreg = linear_model.LogisticRegression(solver = 'lbfgs', n_jobs=-2)\n",
    "    logreg.fit(X_train_std, Y_train)\n",
    "    predict = logreg.predict(X_test_std)\n",
    "    lrpredpro = logreg.predict_proba(X_test_std)\n",
    "    groundtruth = Y_test\n",
    "    predictprob = lrpredpro[:,1]\n",
    "    return groundtruth, predict, predictprob\n",
    "\n",
    "def caculate_metrics(groundtruth, predict, predictprob):\n",
    "    acc = metrics.accuracy_score(groundtruth, predict)\n",
    "    precision = metrics.precision_score(groundtruth, predict, zero_division=1 )\n",
    "    recall = metrics.recall_score(groundtruth, predict)\n",
    "    f1 = metrics.f1_score(groundtruth, predict)\n",
    "    auroc = metrics.roc_auc_score(groundtruth, predictprob)\n",
    "    auprc = metrics.average_precision_score(groundtruth, predictprob)\n",
    "    tn, fp, fn, tp = metrics.confusion_matrix(groundtruth, predict).ravel()\n",
    "\n",
    "    npv = tn/(fn+tn+1.4E-45)\n",
    "    print('baslineName', '\\t', 'accuracy','\\t', 'precision(PPV) \\t NPV \\t\\t', 'recall','\\t', 'f1', '\\t\\t', 'auroc','\\t\\t', 'auprc', '\\t\\t confusion Matrix')\n",
    "    print('xgboost', '\\t%f' %acc,'\\t%f'% precision,'\\t\\t%f'%npv,'\\t%f'% recall,'\\t%f'% f1, '\\t%f'% auroc,'\\t%f'% auprc, '\\t', 'tp:',tp,'fp:',fp,'fn:',fn,'tn:',tn)\n",
    "    \n",
    "def dtmain(X_train_std, Y_train, X_test_std, Y_test):\n",
    "    model = tree.DecisionTreeClassifier()\n",
    "    model.fit(X_train_std, Y_train.ravel())\n",
    "    predict = model.predict(X_test_std)\n",
    "    predictprob = model.predict_proba(X_test_std)\n",
    "    groundtruth = Y_test\n",
    "    return groundtruth, predict, predictprob[:,1]\n",
    "\n",
    "def rfmain(X_train_std, Y_train, X_test_std, Y_test):\n",
    "    model = RandomForestClassifier(oob_score=True, random_state=10, n_jobs=-2)\n",
    "    model.fit(X_train_std, Y_train.ravel())\n",
    "    predict = model.predict(X_test_std)\n",
    "    predictprob = model.predict_proba(X_test_std)\n",
    "    groundtruth = Y_test\n",
    "    return groundtruth, predict, predictprob[:,1]\n",
    "\n",
    "def gbdtmain(X_train_std, Y_train, X_test_std, Y_test):\n",
    "    model = GradientBoostingClassifier(random_state=10)\n",
    "    model.fit(X_train_std, Y_train.ravel())\n",
    "    predict = model.predict(X_test_std)\n",
    "    predictprob = model.predict_proba(X_test_std)\n",
    "    groundtruth = Y_test\n",
    "    return groundtruth, predict, predictprob[:,1]"
   ]
  },
  {
   "cell_type": "code",
   "execution_count": 4,
   "id": "a4fc2715-5cf8-48e3-abd1-e1e0e82ac17d",
   "metadata": {},
   "outputs": [],
   "source": [
    "ori_file_dir = '/home/shizhenkun/codebase/BioUniprot/tasks/task1/data/'\n",
    "train, test = load_file(ori_file_dir)"
   ]
  },
  {
   "cell_type": "code",
   "execution_count": 5,
   "id": "4f4fcf9f-44d8-4622-9abe-d1189a25c7d1",
   "metadata": {},
   "outputs": [
    {
     "name": "stdout",
     "output_type": "stream",
     "text": [
      "Write finished\n",
      "Write finished\n",
      "diamond makedb --in /tmp/train.fasta -d /tmp/train.dmnd\n",
      "diamond blastp -d /tmp/train.dmnd  -q  /tmp/test.fasta -o /tmp/test_fasta_results.tsv -b5 -c1 -k 1\n"
     ]
    }
   ],
   "source": [
    "res_data=funclib.getblast(train,test)"
   ]
  },
  {
   "cell_type": "code",
   "execution_count": 6,
   "id": "8007b75e-4530-4c16-afa9-ef5571deb1a6",
   "metadata": {},
   "outputs": [
    {
     "name": "stdout",
     "output_type": "stream",
     "text": [
      "baslineName \t accuracy \t precision(PPV) \t NPV \t\t recall \t f1 \t\t auroc \t\t auprc \t\t confusion Matrix\n"
     ]
    },
    {
     "name": "stderr",
     "output_type": "stream",
     "text": [
      "0it [00:00, ?it/s]/home/shizhenkun/codebase/BioUniprot/tools/funclib.py:236: SettingWithCopyWarning: \n",
      "A value is trying to be set on a copy of a slice from a DataFrame\n",
      "\n",
      "See the caveats in the documentation: https://pandas.pydata.org/pandas-docs/stable/user_guide/indexing.html#returning-a-view-versus-a-copy\n",
      "  test_merge_res['final_pred'][index] = row.diamoion_pred\n",
      "/home/shizhenkun/codebase/BioUniprot/tools/funclib.py:238: SettingWithCopyWarning: \n",
      "A value is trying to be set on a copy of a slice from a DataFrame\n",
      "\n",
      "See the caveats in the documentation: https://pandas.pydata.org/pandas-docs/stable/user_guide/indexing.html#returning-a-view-versus-a-copy\n",
      "  test_merge_res['final_pred'][index] = row.xg_pred\n",
      "44504it [00:23, 1929.54it/s]\n"
     ]
    },
    {
     "name": "stdout",
     "output_type": "stream",
     "text": [
      "baslineName \t accuracy \t precision(PPV) \t NPV \t\t recall \t f1 \t\t auroc \t\t auprc \t\t confusion Matrix\n",
      "lr \t 0.948454  \t0.941863 \t\t 0.954155  \t0.946725\t 0.944288\t\t \t \t \t tp:19441  fp:1200  fn:1094  tn:22769\n"
     ]
    },
    {
     "name": "stderr",
     "output_type": "stream",
     "text": [
      "0it [00:00, ?it/s]/home/shizhenkun/codebase/BioUniprot/tools/funclib.py:236: SettingWithCopyWarning: \n",
      "A value is trying to be set on a copy of a slice from a DataFrame\n",
      "\n",
      "See the caveats in the documentation: https://pandas.pydata.org/pandas-docs/stable/user_guide/indexing.html#returning-a-view-versus-a-copy\n",
      "  test_merge_res['final_pred'][index] = row.diamoion_pred\n",
      "/home/shizhenkun/codebase/BioUniprot/tools/funclib.py:238: SettingWithCopyWarning: \n",
      "A value is trying to be set on a copy of a slice from a DataFrame\n",
      "\n",
      "See the caveats in the documentation: https://pandas.pydata.org/pandas-docs/stable/user_guide/indexing.html#returning-a-view-versus-a-copy\n",
      "  test_merge_res['final_pred'][index] = row.xg_pred\n",
      "44504it [00:22, 1967.53it/s]\n"
     ]
    },
    {
     "name": "stdout",
     "output_type": "stream",
     "text": [
      "baslineName \t accuracy \t precision(PPV) \t NPV \t\t recall \t f1 \t\t auroc \t\t auprc \t\t confusion Matrix\n",
      "xg \t 0.952431  \t0.947691 \t\t 0.956505  \t0.949306\t 0.948498\t\t \t \t \t tp:19494  fp:1076  fn:1041  tn:22893\n"
     ]
    },
    {
     "name": "stderr",
     "output_type": "stream",
     "text": [
      "0it [00:00, ?it/s]/home/shizhenkun/codebase/BioUniprot/tools/funclib.py:236: SettingWithCopyWarning: \n",
      "A value is trying to be set on a copy of a slice from a DataFrame\n",
      "\n",
      "See the caveats in the documentation: https://pandas.pydata.org/pandas-docs/stable/user_guide/indexing.html#returning-a-view-versus-a-copy\n",
      "  test_merge_res['final_pred'][index] = row.diamoion_pred\n",
      "/home/shizhenkun/codebase/BioUniprot/tools/funclib.py:238: SettingWithCopyWarning: \n",
      "A value is trying to be set on a copy of a slice from a DataFrame\n",
      "\n",
      "See the caveats in the documentation: https://pandas.pydata.org/pandas-docs/stable/user_guide/indexing.html#returning-a-view-versus-a-copy\n",
      "  test_merge_res['final_pred'][index] = row.xg_pred\n",
      "44504it [00:22, 1967.00it/s]\n"
     ]
    },
    {
     "name": "stdout",
     "output_type": "stream",
     "text": [
      "baslineName \t accuracy \t precision(PPV) \t NPV \t\t recall \t f1 \t\t auroc \t\t auprc \t\t confusion Matrix\n",
      "dt \t 0.926816  \t0.904827 \t\t 0.947073  \t0.940297\t 0.922221\t\t \t \t \t tp:19309  fp:2031  fn:1226  tn:21938\n"
     ]
    },
    {
     "name": "stderr",
     "output_type": "stream",
     "text": [
      "0it [00:00, ?it/s]/home/shizhenkun/codebase/BioUniprot/tools/funclib.py:236: SettingWithCopyWarning: \n",
      "A value is trying to be set on a copy of a slice from a DataFrame\n",
      "\n",
      "See the caveats in the documentation: https://pandas.pydata.org/pandas-docs/stable/user_guide/indexing.html#returning-a-view-versus-a-copy\n",
      "  test_merge_res['final_pred'][index] = row.diamoion_pred\n",
      "/home/shizhenkun/codebase/BioUniprot/tools/funclib.py:238: SettingWithCopyWarning: \n",
      "A value is trying to be set on a copy of a slice from a DataFrame\n",
      "\n",
      "See the caveats in the documentation: https://pandas.pydata.org/pandas-docs/stable/user_guide/indexing.html#returning-a-view-versus-a-copy\n",
      "  test_merge_res['final_pred'][index] = row.xg_pred\n",
      "44504it [00:23, 1930.98it/s]\n"
     ]
    },
    {
     "name": "stdout",
     "output_type": "stream",
     "text": [
      "baslineName \t accuracy \t precision(PPV) \t NPV \t\t recall \t f1 \t\t auroc \t\t auprc \t\t confusion Matrix\n",
      "rf \t 0.952746  \t0.954214 \t\t 0.951516  \t0.942829\t 0.948487\t\t \t \t \t tp:19361  fp:929  fn:1174  tn:23040\n"
     ]
    },
    {
     "name": "stderr",
     "output_type": "stream",
     "text": [
      "0it [00:00, ?it/s]/home/shizhenkun/codebase/BioUniprot/tools/funclib.py:236: SettingWithCopyWarning: \n",
      "A value is trying to be set on a copy of a slice from a DataFrame\n",
      "\n",
      "See the caveats in the documentation: https://pandas.pydata.org/pandas-docs/stable/user_guide/indexing.html#returning-a-view-versus-a-copy\n",
      "  test_merge_res['final_pred'][index] = row.diamoion_pred\n",
      "/home/shizhenkun/codebase/BioUniprot/tools/funclib.py:238: SettingWithCopyWarning: \n",
      "A value is trying to be set on a copy of a slice from a DataFrame\n",
      "\n",
      "See the caveats in the documentation: https://pandas.pydata.org/pandas-docs/stable/user_guide/indexing.html#returning-a-view-versus-a-copy\n",
      "  test_merge_res['final_pred'][index] = row.xg_pred\n",
      "44504it [00:22, 1937.94it/s]\n"
     ]
    },
    {
     "name": "stdout",
     "output_type": "stream",
     "text": [
      "baslineName \t accuracy \t precision(PPV) \t NPV \t\t recall \t f1 \t\t auroc \t\t auprc \t\t confusion Matrix\n",
      "gbdt \t 0.951488  \t0.949863 \t\t 0.952865  \t0.944729\t 0.947289\t\t \t \t \t tp:19400  fp:1024  fn:1135  tn:22945\n"
     ]
    }
   ],
   "source": [
    "funclib.run_integrated(res_data, train, test)"
   ]
  },
  {
   "cell_type": "code",
   "execution_count": 6,
   "id": "d944dc4a-a32e-4a26-9e27-82b4fb0be609",
   "metadata": {},
   "outputs": [],
   "source": [
    "isEmzyme_dict = {v: k for k,v in zip(train.isemzyme, train.id )} \n",
    "res_data['diamoion_pred'] = res_data['sseqid'].apply(lambda x: isEmzyme_dict.get(x))\n",
    "\n",
    "blast_res = pd.DataFrame\n",
    "blast_res = res_data[['id','pident','bitscore', 'diamoion_pred']]\n",
    "\n",
    "X_train = train.iloc[:,12:]\n",
    "X_test = test.iloc[:,12:]\n",
    "Y_train = train.iloc[:,2].astype('int')\n",
    "Y_test = test.iloc[:,2].astype('int')\n",
    "X_train = np.array(X_train)\n",
    "X_test = np.array(X_test)\n",
    "Y_train = np.array(Y_train).flatten()\n",
    "Y_test = np.array(Y_test).flatten()"
   ]
  },
  {
   "cell_type": "code",
   "execution_count": 42,
   "id": "523ea8dc-2cbb-403a-a2b6-062f9e98af4d",
   "metadata": {},
   "outputs": [],
   "source": [
    "# xg_res= pd.DataFrame([groundtruth_xg, predict_xg, predictprob_xg])\n",
    "# xg_res = xg_res.T\n",
    "# xg_res.rename(columns={0:'ground_truth', 1: 'predict', 2:'pred_prob'}, inplace=True)\n",
    "# xg_res.to_excel('./results/xg.xlsx', index=0, header=1)"
   ]
  },
  {
   "cell_type": "code",
   "execution_count": 47,
   "id": "012a230d-e0f5-4551-8d2c-144455cfac52",
   "metadata": {},
   "outputs": [],
   "source": []
  },
  {
   "cell_type": "code",
   "execution_count": null,
   "id": "20f5340a-8e62-4f24-b954-794a5f561b35",
   "metadata": {},
   "outputs": [],
   "source": []
  },
  {
   "cell_type": "code",
   "execution_count": null,
   "id": "5484d8dc-fdd5-4daa-8890-30b6b02982a2",
   "metadata": {},
   "outputs": [],
   "source": []
  },
  {
   "cell_type": "code",
   "execution_count": null,
   "id": "dac80cc4-b782-4808-a32d-574bfbba83d7",
   "metadata": {},
   "outputs": [],
   "source": []
  },
  {
   "cell_type": "code",
   "execution_count": null,
   "id": "379631cd-99f7-4727-8643-cff8d06aa1c3",
   "metadata": {},
   "outputs": [],
   "source": []
  },
  {
   "cell_type": "code",
   "execution_count": null,
   "id": "8bd8bafb-49a2-43fc-9e67-4089da8c5e3a",
   "metadata": {},
   "outputs": [],
   "source": [
    "\n"
   ]
  },
  {
   "cell_type": "code",
   "execution_count": null,
   "id": "b37bc35a-d4ba-4b4f-bfcd-d7c48a2fba1d",
   "metadata": {},
   "outputs": [],
   "source": []
  },
  {
   "cell_type": "code",
   "execution_count": null,
   "id": "fd7d4d70-91d8-4615-82ac-8b1c5f1d84c7",
   "metadata": {},
   "outputs": [],
   "source": []
  },
  {
   "cell_type": "code",
   "execution_count": null,
   "id": "8654853f-43c2-4553-8cea-f7e05184b5b8",
   "metadata": {},
   "outputs": [],
   "source": []
  },
  {
   "cell_type": "code",
   "execution_count": null,
   "id": "a287834e-63d1-4774-8c28-a0acf77084f9",
   "metadata": {},
   "outputs": [],
   "source": []
  },
  {
   "cell_type": "code",
   "execution_count": null,
   "id": "fe2b66c1-9073-4c03-aba4-a7fd7aebb681",
   "metadata": {},
   "outputs": [],
   "source": []
  },
  {
   "cell_type": "code",
   "execution_count": null,
   "id": "f21953d5-ddd7-4502-98b1-30071512dfaf",
   "metadata": {},
   "outputs": [],
   "source": []
  },
  {
   "cell_type": "code",
   "execution_count": null,
   "id": "2dcf4099-e38b-4042-83f9-ea046701fce0",
   "metadata": {},
   "outputs": [],
   "source": []
  },
  {
   "cell_type": "code",
   "execution_count": null,
   "id": "fa5def6f-1469-4b45-bb74-193ab697cf66",
   "metadata": {},
   "outputs": [],
   "source": []
  },
  {
   "cell_type": "code",
   "execution_count": null,
   "id": "cd5e87d5-51e3-49a8-a6c9-85528d90c3a3",
   "metadata": {},
   "outputs": [],
   "source": []
  },
  {
   "cell_type": "code",
   "execution_count": null,
   "id": "c3cc7e06-462e-47ff-9a96-8d58f8b3959f",
   "metadata": {},
   "outputs": [],
   "source": []
  },
  {
   "cell_type": "code",
   "execution_count": null,
   "id": "b50d4abe-1f2c-46d5-b886-5ce2addaf743",
   "metadata": {},
   "outputs": [],
   "source": []
  },
  {
   "cell_type": "code",
   "execution_count": null,
   "id": "95e60a92-c09c-4f71-b224-4433d8691e76",
   "metadata": {},
   "outputs": [],
   "source": []
  },
  {
   "cell_type": "code",
   "execution_count": null,
   "id": "323481b7-5aa5-429c-9d95-bc1166b09a5d",
   "metadata": {},
   "outputs": [],
   "source": []
  }
 ],
 "metadata": {
  "kernelspec": {
   "display_name": "py38",
   "language": "python",
   "name": "py38"
  },
  "language_info": {
   "codemirror_mode": {
    "name": "ipython",
    "version": 3
   },
   "file_extension": ".py",
   "mimetype": "text/x-python",
   "name": "python",
   "nbconvert_exporter": "python",
   "pygments_lexer": "ipython3",
   "version": "3.8.8"
  }
 },
 "nbformat": 4,
 "nbformat_minor": 5
}
