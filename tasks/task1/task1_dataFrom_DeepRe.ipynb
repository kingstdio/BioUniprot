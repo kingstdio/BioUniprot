{
 "cells": [
  {
   "cell_type": "markdown",
   "id": "f648381c-957d-4da5-b765-636e7914223e",
   "metadata": {},
   "source": [
    "# Task1. 预测是酶还是非酶，使用DeepRE数据\n",
    "\n",
    "> author: Shizhenkun   \n",
    "> email: zhenkun.shi@tib.cas.cn   \n",
    "> date: 2021-05-11  \n",
    "\n",
    "## 任务简介\n",
    "该任务通过给定蛋白序列，预测该该蛋白是酶还是非酶。本任务所使用的数据集为DeepRE，数据集中有标定好的数据。\n",
    "\n",
    "参考文章：DEEPre: sequence-based enzyme EC number prediction by deep learning  \n",
    "URL：https://pubmed.ncbi.nlm.nih.gov/29069344/   \n",
    "发表日期：2018年3月\n",
    "\n",
    "\n",
    "## 数据统计\n",
    "- 数据源DeepRE，共有数据44,336条，其中有酶数据22,168条，非酶数据22,168条。\n",
    "- ～90%作为训练集，～10%作为测试集, 训练集数据39902条，测试集数据4434条。"
   ]
  },
  {
   "cell_type": "markdown",
   "id": "85d6e1d8-cf2b-4ea7-a2d5-8dee4f0935f1",
   "metadata": {},
   "source": [
    "### 0. 导入必要的包"
   ]
  },
  {
   "cell_type": "code",
   "execution_count": 116,
   "id": "938e913b-d2cb-446d-b7d1-6b6155e81da6",
   "metadata": {},
   "outputs": [],
   "source": [
    "import numpy as np\n",
    "import pandas as pd\n",
    "import random\n",
    "import time\n",
    "import gzip\n",
    "import re\n",
    "from Bio import SeqIO\n",
    "import datetime\n",
    "import sys\n",
    "from tqdm import tqdm\n",
    "\n",
    "from functools import reduce\n",
    "import matplotlib.pyplot as plt\n",
    "\n",
    "sys.path.append(\"../../tools/\")\n",
    "import commontools\n",
    "import funclib\n",
    "\n",
    "from pyecharts.globals import CurrentConfig, NotebookType\n",
    "CurrentConfig.NOTEBOOK_TYPE = NotebookType.JUPYTER_LAB\n",
    "\n",
    "from pyecharts import options as opts\n",
    "from pyecharts.charts import Bar\n",
    "from pyecharts.faker import Faker\n",
    "from pyecharts.globals import ThemeType\n",
    "\n",
    "from jax_unirep import get_reps"
   ]
  },
  {
   "cell_type": "markdown",
   "id": "3780d50c-69d7-4e72-869a-ed105b0c99cc",
   "metadata": {},
   "source": [
    "### 1. 数据预处理"
   ]
  },
  {
   "cell_type": "code",
   "execution_count": 117,
   "id": "d0e5d72d-46a3-4e3a-a625-99b7d1e8beba",
   "metadata": {},
   "outputs": [],
   "source": [
    "f = open(\"./data/deepre/new_data_label_sequence.txt\")\n",
    "line = f.readline()\n",
    "\n",
    "counter = 0\n",
    "enzyme = []\n",
    "while line:\n",
    "    seq = line.split('>')[1].replace('\\n','')\n",
    "    enzyme.append([seq,1])\n",
    "    line = f.readline()\n",
    "    counter +=1\n",
    "#     if counter ==5:\n",
    "#         break\n",
    "f.close()\n",
    "\n",
    "enzyme = pd.DataFrame(enzyme)\n",
    "enzyme.columns=['seq', 'label']\n",
    "enzyme['seqlength'] = enzyme['seq'].map(lambda x : len(x))\n",
    "\n",
    "\n",
    "f = open(\"./data/deepre/non_enzyme_new_data_sequence.txt\")\n",
    "line = f.readline()\n",
    "\n",
    "counter = 0\n",
    "non_enzyme = []\n",
    "while line:\n",
    "    seq = line.split('>')[1].replace('\\n','')\n",
    "    non_enzyme.append([seq,0])\n",
    "    line = f.readline()\n",
    "    counter +=1\n",
    "#     if counter ==5:\n",
    "#         break\n",
    "f.close()\n",
    "\n",
    "non_enzyme = pd.DataFrame(non_enzyme)\n",
    "non_enzyme.columns=['seq', 'label']\n",
    "non_enzyme['seqlength'] = non_enzyme['seq'].map(lambda x : len(x))\n"
   ]
  },
  {
   "cell_type": "code",
   "execution_count": 118,
   "id": "f6c4a2ee-26ee-481f-80ff-bcdceac7cb62",
   "metadata": {},
   "outputs": [],
   "source": [
    "train = enzyme.iloc[:19951,]\n",
    "test = enzyme.iloc[19951:-1,]\n",
    "\n",
    "train = train.append(non_enzyme.iloc[:19951,])\n",
    "test = test.append(non_enzyme.iloc[19951:-1,])\n",
    "\n",
    "train = train.reset_index(drop=True)\n",
    "test = test.reset_index(drop=True)\n",
    "\n",
    "train['id'] = train.index\n",
    "test['id'] = test.index"
   ]
  },
  {
   "cell_type": "code",
   "execution_count": 119,
   "id": "3c875244-461d-467c-8318-a6efbd2ce782",
   "metadata": {},
   "outputs": [
    {
     "name": "stdout",
     "output_type": "stream",
     "text": [
      "Write finished\n",
      "Write finished\n"
     ]
    }
   ],
   "source": [
    "train.to_csv('./data/train_deepec.tsv', sep='\\t', index=0)\n",
    "test.to_csv('./data/test_deepec.tsv', sep='\\t',  index=0)\n",
    "\n",
    "funclib.table2fasta(train, './data/train_deepec.fasta')\n",
    "funclib.table2fasta(test, './data/test_deepec.fasta')"
   ]
  },
  {
   "cell_type": "markdown",
   "id": "0d2b17d4-149c-4ce1-b162-15dfeb88a5b6",
   "metadata": {},
   "source": [
    "### 3. 同源比对"
   ]
  },
  {
   "cell_type": "code",
   "execution_count": 120,
   "id": "6e1dc097-aaae-403a-a9cb-82940b90277a",
   "metadata": {
    "collapsed": true,
    "jupyter": {
     "outputs_hidden": true
    },
    "tags": []
   },
   "outputs": [
    {
     "name": "stdout",
     "output_type": "stream",
     "text": [
      "diamond v2.0.8.146 (C) Max Planck Society for the Advancement of Science\n",
      "Documentation, support and updates available at http://www.diamondsearch.org\n",
      "\n",
      "#CPU threads: 32\n",
      "Scoring parameters: (Matrix=BLOSUM62 Lambda=0.267 K=0.041 Penalties=11/1)\n",
      "Database input file: ./data/train_deepec.fasta\n",
      "Opening the database file...  [0.406s]\n",
      "Loading sequences...  [0.059s]\n",
      "Masking sequences...  [0.052s]\n",
      "Writing sequences...  [0.008s]\n",
      "Hashing sequences...  [0.004s]\n",
      "Loading sequences...  [0s]\n",
      "Writing trailer...  [0s]\n",
      "Closing the input file...  [0.001s]\n",
      "Closing the database file...  [0.026s]\n",
      "Database hash = 73b25e3f21156a992e5d170dbc7223bd\n",
      "Processed 39902 sequences, 17343489 letters.\n",
      "Total time = 0.559s\n",
      "diamond v2.0.8.146 (C) Max Planck Society for the Advancement of Science\n",
      "Documentation, support and updates available at http://www.diamondsearch.org\n",
      "\n",
      "#CPU threads: 32\n",
      "Scoring parameters: (Matrix=BLOSUM62 Lambda=0.267 K=0.041 Penalties=11/1)\n",
      "Temporary directory: ./data\n",
      "#Target sequences to report alignments for: 1\n",
      "Opening the database...  [0.022s]\n",
      "Database: ./data/train_deepec.dmnd (type: Diamond database, sequences: 39902, letters: 17343489)\n",
      "Block size = 5000000000\n",
      "Opening the input file...  [0.001s]\n",
      "Opening the output file...  [0.012s]\n",
      "Loading query sequences...  [0.009s]\n",
      "Masking queries...  [0.017s]\n",
      "Building query seed set...  [0.02s]\n",
      "Algorithm: Double-indexed\n",
      "Building query histograms...  [0.006s]\n",
      "Allocating buffers...  [0s]\n",
      "Loading reference sequences...  [0.025s]\n",
      "Masking reference...  [0.048s]\n",
      "Initializing temporary storage...  [0.058s]\n",
      "Building reference histograms...  [0.029s]\n",
      "Allocating buffers...  [0s]\n",
      "Processing query block 1, reference block 1/1, shape 1/2.\n",
      "Building reference seed array...  [0.033s]\n",
      "Building query seed array...  [0.011s]\n",
      "Computing hash join...  [0.013s]\n",
      "Building seed filter...  [0.002s]\n",
      "Searching alignments...  [0.002s]\n",
      "Processing query block 1, reference block 1/1, shape 2/2.\n",
      "Building reference seed array...  [0.024s]\n",
      "Building query seed array...  [0.005s]\n",
      "Computing hash join...  [0.012s]\n",
      "Building seed filter...  [0.001s]\n",
      "Searching alignments...  [0.002s]\n",
      "Deallocating buffers...  [0.007s]\n",
      "Clearing query masking...  [0s]\n",
      "Computing alignments...  [0.079s]\n",
      "Deallocating reference...  [0s]\n",
      "Loading reference sequences...  [0s]\n",
      "Deallocating buffers...  [0.001s]\n",
      "Deallocating queries...  [0s]\n",
      "Loading query sequences...  [0s]\n",
      "Closing the input file...  [0s]\n",
      "Closing the output file...  [0s]\n",
      "Closing the database file...  [0.001s]\n",
      "Deallocating taxonomy...  [0s]\n",
      "Total time = 0.564s\n",
      "Reported 1349 pairwise alignments, 1349 HSPs.\n",
      "1349 queries aligned.\n"
     ]
    }
   ],
   "source": [
    "! diamond makedb --in ./data/train_deepec.fasta -d ./data/train_deepec.dmnd     #建库\n",
    "! diamond blastp -d ./data/train_deepec.dmnd  -q ./data/test_deepec.fasta -o ./data/test_deepec_fasta_results.tsv -b5 -c1 -k 1  #生成比对文件"
   ]
  },
  {
   "cell_type": "code",
   "execution_count": 122,
   "id": "6626a11a-153b-4585-a26a-76a74fa34415",
   "metadata": {
    "collapsed": true,
    "jupyter": {
     "outputs_hidden": true
    },
    "tags": []
   },
   "outputs": [
    {
     "data": {
      "text/html": [
       "<div>\n",
       "<style scoped>\n",
       "    .dataframe tbody tr th:only-of-type {\n",
       "        vertical-align: middle;\n",
       "    }\n",
       "\n",
       "    .dataframe tbody tr th {\n",
       "        vertical-align: top;\n",
       "    }\n",
       "\n",
       "    .dataframe thead th {\n",
       "        text-align: right;\n",
       "    }\n",
       "</style>\n",
       "<table border=\"1\" class=\"dataframe\">\n",
       "  <thead>\n",
       "    <tr style=\"text-align: right;\">\n",
       "      <th></th>\n",
       "      <th>seq</th>\n",
       "      <th>label</th>\n",
       "      <th>seqlength</th>\n",
       "      <th>id</th>\n",
       "      <th>sseqid</th>\n",
       "      <th>pident</th>\n",
       "      <th>length</th>\n",
       "      <th>mismatch</th>\n",
       "      <th>gapopen</th>\n",
       "      <th>qstart</th>\n",
       "      <th>qend</th>\n",
       "      <th>sstart</th>\n",
       "      <th>send</th>\n",
       "      <th>evalue</th>\n",
       "      <th>bitscore</th>\n",
       "    </tr>\n",
       "  </thead>\n",
       "  <tbody>\n",
       "    <tr>\n",
       "      <th>0</th>\n",
       "      <td>MQRPGPFSTLYGRVLAPLPGRAGGAASGGGGNSWDLPGSHVRLPGR...</td>\n",
       "      <td>1</td>\n",
       "      <td>311</td>\n",
       "      <td>1</td>\n",
       "      <td>19941</td>\n",
       "      <td>45.5</td>\n",
       "      <td>235</td>\n",
       "      <td>125</td>\n",
       "      <td>2</td>\n",
       "      <td>75</td>\n",
       "      <td>306</td>\n",
       "      <td>31</td>\n",
       "      <td>265</td>\n",
       "      <td>3.280000e-66</td>\n",
       "      <td>209.0</td>\n",
       "    </tr>\n",
       "    <tr>\n",
       "      <th>1</th>\n",
       "      <td>MSEAKRRAAEKAIEYVENDMIIGVGTGSTVAYFIDALGHTPKRIKG...</td>\n",
       "      <td>1</td>\n",
       "      <td>215</td>\n",
       "      <td>2</td>\n",
       "      <td>19950</td>\n",
       "      <td>41.4</td>\n",
       "      <td>220</td>\n",
       "      <td>111</td>\n",
       "      <td>5</td>\n",
       "      <td>4</td>\n",
       "      <td>208</td>\n",
       "      <td>11</td>\n",
       "      <td>227</td>\n",
       "      <td>1.190000e-38</td>\n",
       "      <td>134.0</td>\n",
       "    </tr>\n",
       "    <tr>\n",
       "      <th>2</th>\n",
       "      <td>MSKQPENSFSSDKFFPIKQKLALEAVALVEPGMCVGLGSGSTAREF...</td>\n",
       "      <td>1</td>\n",
       "      <td>242</td>\n",
       "      <td>4</td>\n",
       "      <td>19942</td>\n",
       "      <td>38.4</td>\n",
       "      <td>219</td>\n",
       "      <td>133</td>\n",
       "      <td>2</td>\n",
       "      <td>17</td>\n",
       "      <td>234</td>\n",
       "      <td>9</td>\n",
       "      <td>226</td>\n",
       "      <td>3.710000e-41</td>\n",
       "      <td>140.0</td>\n",
       "    </tr>\n",
       "    <tr>\n",
       "      <th>3</th>\n",
       "      <td>MSQKPTSHPYKPNMTQDELKALVGQAALPYVEPGSIVGVGTGSTVN...</td>\n",
       "      <td>1</td>\n",
       "      <td>240</td>\n",
       "      <td>5</td>\n",
       "      <td>19942</td>\n",
       "      <td>39.4</td>\n",
       "      <td>226</td>\n",
       "      <td>130</td>\n",
       "      <td>3</td>\n",
       "      <td>16</td>\n",
       "      <td>238</td>\n",
       "      <td>6</td>\n",
       "      <td>227</td>\n",
       "      <td>1.380000e-40</td>\n",
       "      <td>139.0</td>\n",
       "    </tr>\n",
       "    <tr>\n",
       "      <th>4</th>\n",
       "      <td>MSVTPIEELPSLGDALEDAKRAASYRAVDENLDPAKHRVVGIGSGS...</td>\n",
       "      <td>1</td>\n",
       "      <td>255</td>\n",
       "      <td>6</td>\n",
       "      <td>19941</td>\n",
       "      <td>52.0</td>\n",
       "      <td>244</td>\n",
       "      <td>106</td>\n",
       "      <td>8</td>\n",
       "      <td>8</td>\n",
       "      <td>249</td>\n",
       "      <td>27</td>\n",
       "      <td>261</td>\n",
       "      <td>9.250000e-73</td>\n",
       "      <td>224.0</td>\n",
       "    </tr>\n",
       "  </tbody>\n",
       "</table>\n",
       "</div>"
      ],
      "text/plain": [
       "                                                 seq  label  seqlength  id  \\\n",
       "0  MQRPGPFSTLYGRVLAPLPGRAGGAASGGGGNSWDLPGSHVRLPGR...      1        311   1   \n",
       "1  MSEAKRRAAEKAIEYVENDMIIGVGTGSTVAYFIDALGHTPKRIKG...      1        215   2   \n",
       "2  MSKQPENSFSSDKFFPIKQKLALEAVALVEPGMCVGLGSGSTAREF...      1        242   4   \n",
       "3  MSQKPTSHPYKPNMTQDELKALVGQAALPYVEPGSIVGVGTGSTVN...      1        240   5   \n",
       "4  MSVTPIEELPSLGDALEDAKRAASYRAVDENLDPAKHRVVGIGSGS...      1        255   6   \n",
       "\n",
       "   sseqid  pident  length  mismatch  gapopen  qstart  qend  sstart  send  \\\n",
       "0   19941    45.5     235       125        2      75   306      31   265   \n",
       "1   19950    41.4     220       111        5       4   208      11   227   \n",
       "2   19942    38.4     219       133        2      17   234       9   226   \n",
       "3   19942    39.4     226       130        3      16   238       6   227   \n",
       "4   19941    52.0     244       106        8       8   249      27   261   \n",
       "\n",
       "         evalue  bitscore  \n",
       "0  3.280000e-66     209.0  \n",
       "1  1.190000e-38     134.0  \n",
       "2  3.710000e-41     140.0  \n",
       "3  1.380000e-40     139.0  \n",
       "4  9.250000e-73     224.0  "
      ]
     },
     "execution_count": 122,
     "metadata": {},
     "output_type": "execute_result"
    }
   ],
   "source": [
    "#读入比对结果\n",
    "res_data = pd.read_csv('./data/test_deepec_fasta_results.tsv',header=0, sep='\\t', names=['id', 'sseqid', 'pident', 'length','mismatch','gapopen','qstart','qend','sstart','send','evalue','bitscore'])\n",
    "\n",
    "#匹配查询结果\n",
    "data_match = pd.merge(test,res_data, on=['id'], how='inner')\n",
    "data_match.head(5)"
   ]
  },
  {
   "cell_type": "code",
   "execution_count": 123,
   "id": "35ceabee-120b-41b2-a080-33068e8d5fff",
   "metadata": {
    "collapsed": true,
    "jupyter": {
     "outputs_hidden": true
    },
    "tags": []
   },
   "outputs": [
    {
     "name": "stdout",
     "output_type": "stream",
     "text": [
      "1000\n"
     ]
    },
    {
     "data": {
      "text/html": [
       "<div>\n",
       "<style scoped>\n",
       "    .dataframe tbody tr th:only-of-type {\n",
       "        vertical-align: middle;\n",
       "    }\n",
       "\n",
       "    .dataframe tbody tr th {\n",
       "        vertical-align: top;\n",
       "    }\n",
       "\n",
       "    .dataframe thead th {\n",
       "        text-align: right;\n",
       "    }\n",
       "</style>\n",
       "<table border=\"1\" class=\"dataframe\">\n",
       "  <thead>\n",
       "    <tr style=\"text-align: right;\">\n",
       "      <th></th>\n",
       "      <th>seq</th>\n",
       "      <th>label</th>\n",
       "      <th>seqlength</th>\n",
       "      <th>id</th>\n",
       "      <th>sseqid</th>\n",
       "      <th>pident</th>\n",
       "      <th>length</th>\n",
       "      <th>mismatch</th>\n",
       "      <th>gapopen</th>\n",
       "      <th>qstart</th>\n",
       "      <th>qend</th>\n",
       "      <th>sstart</th>\n",
       "      <th>send</th>\n",
       "      <th>evalue</th>\n",
       "      <th>bitscore</th>\n",
       "      <th>q_label</th>\n",
       "    </tr>\n",
       "  </thead>\n",
       "  <tbody>\n",
       "    <tr>\n",
       "      <th>0</th>\n",
       "      <td>MQRPGPFSTLYGRVLAPLPGRAGGAASGGGGNSWDLPGSHVRLPGR...</td>\n",
       "      <td>1</td>\n",
       "      <td>311</td>\n",
       "      <td>1</td>\n",
       "      <td>19941</td>\n",
       "      <td>45.5</td>\n",
       "      <td>235</td>\n",
       "      <td>125</td>\n",
       "      <td>2</td>\n",
       "      <td>75</td>\n",
       "      <td>306</td>\n",
       "      <td>31</td>\n",
       "      <td>265</td>\n",
       "      <td>3.280000e-66</td>\n",
       "      <td>209.0</td>\n",
       "      <td>1</td>\n",
       "    </tr>\n",
       "    <tr>\n",
       "      <th>1</th>\n",
       "      <td>MSEAKRRAAEKAIEYVENDMIIGVGTGSTVAYFIDALGHTPKRIKG...</td>\n",
       "      <td>1</td>\n",
       "      <td>215</td>\n",
       "      <td>2</td>\n",
       "      <td>19950</td>\n",
       "      <td>41.4</td>\n",
       "      <td>220</td>\n",
       "      <td>111</td>\n",
       "      <td>5</td>\n",
       "      <td>4</td>\n",
       "      <td>208</td>\n",
       "      <td>11</td>\n",
       "      <td>227</td>\n",
       "      <td>1.190000e-38</td>\n",
       "      <td>134.0</td>\n",
       "      <td>1</td>\n",
       "    </tr>\n",
       "    <tr>\n",
       "      <th>2</th>\n",
       "      <td>MSKQPENSFSSDKFFPIKQKLALEAVALVEPGMCVGLGSGSTAREF...</td>\n",
       "      <td>1</td>\n",
       "      <td>242</td>\n",
       "      <td>4</td>\n",
       "      <td>19942</td>\n",
       "      <td>38.4</td>\n",
       "      <td>219</td>\n",
       "      <td>133</td>\n",
       "      <td>2</td>\n",
       "      <td>17</td>\n",
       "      <td>234</td>\n",
       "      <td>9</td>\n",
       "      <td>226</td>\n",
       "      <td>3.710000e-41</td>\n",
       "      <td>140.0</td>\n",
       "      <td>1</td>\n",
       "    </tr>\n",
       "  </tbody>\n",
       "</table>\n",
       "</div>"
      ],
      "text/plain": [
       "                                                 seq  label  seqlength  id  \\\n",
       "0  MQRPGPFSTLYGRVLAPLPGRAGGAASGGGGNSWDLPGSHVRLPGR...      1        311   1   \n",
       "1  MSEAKRRAAEKAIEYVENDMIIGVGTGSTVAYFIDALGHTPKRIKG...      1        215   2   \n",
       "2  MSKQPENSFSSDKFFPIKQKLALEAVALVEPGMCVGLGSGSTAREF...      1        242   4   \n",
       "\n",
       "   sseqid  pident  length  mismatch  gapopen  qstart  qend  sstart  send  \\\n",
       "0   19941    45.5     235       125        2      75   306      31   265   \n",
       "1   19950    41.4     220       111        5       4   208      11   227   \n",
       "2   19942    38.4     219       133        2      17   234       9   226   \n",
       "\n",
       "         evalue  bitscore  q_label  \n",
       "0  3.280000e-66     209.0        1  \n",
       "1  1.190000e-38     134.0        1  \n",
       "2  3.710000e-41     140.0        1  "
      ]
     },
     "execution_count": 123,
     "metadata": {},
     "output_type": "execute_result"
    }
   ],
   "source": [
    "counter =0\n",
    "resArray =[]\n",
    "for i in range(len(res_data)):\n",
    "    counter+=1\n",
    "    mn = train[train['id']== res_data['sseqid'][i]]['label'].values\n",
    "    resArray.append(mn)\n",
    "    if counter %1000 ==0:\n",
    "        print(counter)\n",
    "data_match['q_label']=np.array(resArray) \n",
    "data_match.head(3)"
   ]
  },
  {
   "cell_type": "code",
   "execution_count": 124,
   "id": "bccebf00-c844-4583-a815-21eb583b474f",
   "metadata": {
    "tags": []
   },
   "outputs": [
    {
     "name": "stdout",
     "output_type": "stream",
     "text": [
      "Total query records are: 4432\n",
      "Matched records are: 1348\n",
      "Accuracy: 0.24413357400722022(1082/4432)\n",
      "Pricision: 0.8026706231454006(1082/1348)\n",
      "Recall: 0.30415162454873645(1348/4432)\n"
     ]
    }
   ],
   "source": [
    "# 计算指标\n",
    "data_match['iscorrect'] = data_match[['label', 'q_label']].apply(lambda x: x['label'] == x['q_label'], axis=1) #判断EC号是否一致\n",
    "correct = sum(data_match['iscorrect'])\n",
    "find  = len(data_match)\n",
    "total = len(test)\n",
    "print('Total query records are: {0}'.format(total))\n",
    "print('Matched records are: {0}'.format(find))\n",
    "print('Accuracy: {0}({1}/{2})'.format(correct/total, correct, total))\n",
    "print('Pricision: {0}({1}/{2})'.format(correct/find, correct, find))\n",
    "print('Recall: {0}({1}/{2})'.format(find/total, find, total))"
   ]
  },
  {
   "cell_type": "markdown",
   "id": "ce8ce381-5777-4ddd-90e8-20efd290ab5a",
   "metadata": {},
   "source": [
    "### 4. 传统机器学习"
   ]
  },
  {
   "cell_type": "code",
   "execution_count": 136,
   "id": "3650a42e-654d-488d-824d-1b6a2ca6cdbc",
   "metadata": {},
   "outputs": [],
   "source": [
    "trainset = train[['id', 'label','seq', 'seqlength']].reset_index(drop=True)\n",
    "testset = test[['id', 'label','seq', 'seqlength']].reset_index(drop=True)"
   ]
  },
  {
   "cell_type": "code",
   "execution_count": 137,
   "id": "3c631be0-a79f-4c86-929d-995e3020f1e7",
   "metadata": {},
   "outputs": [],
   "source": [
    "MAX_SEQ_LENGTH = 1000 #定义序列最长的长度\n",
    "trainset.seq = trainset.seq.map(lambda x : x[0:MAX_SEQ_LENGTH].ljust(MAX_SEQ_LENGTH, 'X'))\n",
    "testset.seq = testset.seq.map(lambda x : x[0:MAX_SEQ_LENGTH].ljust(MAX_SEQ_LENGTH, 'X'))"
   ]
  },
  {
   "cell_type": "code",
   "execution_count": 138,
   "id": "c72f3f09-49f8-48d2-8b7c-55e78bbefcd0",
   "metadata": {},
   "outputs": [],
   "source": [
    "f_train = funclib.dna_onehot(trainset) #训练集编码\n",
    "f_test = funclib.dna_onehot(testset) #测试集编码\n",
    "\n",
    "train_full = pd.concat([trainset, f_train], axis=1, join='inner' ) #拼合训练集\n",
    "test_full = pd.concat([testset, f_test], axis=1, join='inner' )    #拼合测试集\n",
    "\n",
    "\n",
    "X_train = train_full.iloc[:,4:]\n",
    "X_test = test_full.iloc[:,4:]\n",
    "Y_train = train_full.label.astype('int')\n",
    "Y_test = test_full.label.astype('int')\n",
    "\n",
    "X_train = np.array(X_train)\n",
    "X_test = np.array(X_test)\n",
    "Y_train = np.array(Y_train)\n",
    "Y_test = np.array(Y_test)"
   ]
  },
  {
   "cell_type": "code",
   "execution_count": 139,
   "id": "344c7709-fc1d-4034-894b-9c38952dee74",
   "metadata": {},
   "outputs": [
    {
     "name": "stdout",
     "output_type": "stream",
     "text": [
      "baslineName \t accuracy \t precision(PPV) \t NPV \t\t recall \t f1 \t\t auroc \t\t auprc \t\t confusion Matrix\n",
      "lr \t\t0.602211 \t0.582454 \t\t0.634421 \t0.722022 \t0.644771 \t0.641392 \t0.587693 \t tp: 1600 fp: 1147 fn: 616 tn: 1069\n",
      "[14:03:34] WARNING: ../src/learner.cc:1061: Starting in XGBoost 1.3.0, the default evaluation metric used with the objective 'binary:logistic' was changed from 'error' to 'logloss'. Explicitly set eval_metric if you'd like to restore the old behavior.\n",
      "xg \t\t0.671706 \t0.646854 \t\t0.706681 \t0.756318 \t0.697316 \t0.732797 \t0.701976 \t tp: 1676 fp: 915 fn: 540 tn: 1301\n",
      "dt \t\t0.555731 \t0.555011 \t\t0.556470 \t0.562274 \t0.558619 \t0.555731 \t0.530931 \t tp: 1246 fp: 999 fn: 970 tn: 1217\n",
      "rf \t\t0.644856 \t0.608008 \t\t0.719863 \t0.815433 \t0.696608 \t0.684255 \t0.626909 \t tp: 1807 fp: 1165 fn: 409 tn: 1051\n",
      "gbdt \t\t0.668998 \t0.611691 \t\t0.847081 \t0.925542 \t0.736577 \t0.722414 \t0.667868 \t tp: 2051 fp: 1302 fn: 165 tn: 914\n"
     ]
    }
   ],
   "source": [
    "methods=['lr', 'xg', 'dt', 'rf', 'gbdt']\n",
    "print('baslineName', '\\t', 'accuracy','\\t', 'precision(PPV) \\t NPV \\t\\t', 'recall','\\t', 'f1', '\\t\\t', 'auroc','\\t\\t', 'auprc', '\\t\\t confusion Matrix')\n",
    "for method in methods:\n",
    "    funclib.evaluate(method, X_train, Y_train, X_test, Y_test)"
   ]
  },
  {
   "cell_type": "markdown",
   "id": "c8ee06e7-c886-46a9-a329-d37611f1b6a1",
   "metadata": {},
   "source": [
    "### 5. UniRep"
   ]
  },
  {
   "cell_type": "code",
   "execution_count": 142,
   "id": "d0b5fddc-f224-4de2-ba28-ba3ba1403227",
   "metadata": {},
   "outputs": [],
   "source": [
    "X_train = trainset['seq']\n",
    "Y_train = trainset.label.astype('int')\n",
    "\n",
    "X_test = testset['seq']\n",
    "Y_test = testset.label.astype('int')\n",
    "\n",
    "X_train = np.array(X_train)\n",
    "X_test = np.array(X_test)\n",
    "Y_train = np.array(Y_train)\n",
    "Y_test = np.array(Y_test)"
   ]
  },
  {
   "cell_type": "code",
   "execution_count": 143,
   "id": "8be64100-649e-4a4d-b11a-27b4b9e9df82",
   "metadata": {},
   "outputs": [
    {
     "name": "stderr",
     "output_type": "stream",
     "text": [
      " 59%|#####8    | 23363/39902 [4:11:07<2:57:46,  1.55it/s] \n"
     ]
    },
    {
     "ename": "KeyboardInterrupt",
     "evalue": "",
     "output_type": "error",
     "traceback": [
      "\u001b[0;31m---------------------------------------------------------------------------\u001b[0m\n\u001b[0;31mKeyboardInterrupt\u001b[0m                         Traceback (most recent call last)",
      "File \u001b[0;34m/home/shizhenkun/anaconda3/envs/jupyterlab-debugger/lib/python3.9/site-packages/IPython/core/interactiveshell.py\u001b[0m, in \u001b[0;32mrun_code\u001b[0m:\nLine \u001b[0;34m3437\u001b[0m:  exec(code_obj, \u001b[36mself\u001b[39;49;00m.user_global_ns, \u001b[36mself\u001b[39;49;00m.user_ns)\n",
      "In  \u001b[0;34m[143]\u001b[0m:\nLine \u001b[0;34m4\u001b[0m:     train_h_avg, train_h_final, train_c_final= get_reps(X_train[i])\n",
      "File \u001b[0;34m/home/shizhenkun/anaconda3/envs/jupyterlab-debugger/lib/python3.9/site-packages/jax_unirep/featurize.py\u001b[0m, in \u001b[0;32mget_reps\u001b[0m:\nLine \u001b[0;34m159\u001b[0m:   h_avg, h_final, c_final = rep_same_lengths(\n",
      "File \u001b[0;34m/home/shizhenkun/anaconda3/envs/jupyterlab-debugger/lib/python3.9/site-packages/jax_unirep/featurize.py\u001b[0m, in \u001b[0;32mrep_same_lengths\u001b[0m:\nLine \u001b[0;34m35\u001b[0m:    h_final, c_final, h = vmap(partial(apply_fun, params))(embedded_seqs)\n",
      "File \u001b[0;34m/home/shizhenkun/anaconda3/envs/jupyterlab-debugger/lib/python3.9/site-packages/jax/_src/traceback_util.py\u001b[0m, in \u001b[0;32mreraise_with_filtered_traceback\u001b[0m:\nLine \u001b[0;34m143\u001b[0m:   \u001b[34mreturn\u001b[39;49;00m fun(*args, **kwargs)\n",
      "File \u001b[0;34m/home/shizhenkun/anaconda3/envs/jupyterlab-debugger/lib/python3.9/site-packages/jax/_src/api.py\u001b[0m, in \u001b[0;32mbatched_fun\u001b[0m:\nLine \u001b[0;34m1299\u001b[0m:  out_flat = batching.batch(\n",
      "File \u001b[0;34m/home/shizhenkun/anaconda3/envs/jupyterlab-debugger/lib/python3.9/site-packages/jax/linear_util.py\u001b[0m, in \u001b[0;32mcall_wrapped\u001b[0m:\nLine \u001b[0;34m166\u001b[0m:   ans = \u001b[36mself\u001b[39;49;00m.f(*args, **\u001b[36mdict\u001b[39;49;00m(\u001b[36mself\u001b[39;49;00m.params, **kwargs))\n",
      "File \u001b[0;34m/home/shizhenkun/anaconda3/envs/jupyterlab-debugger/lib/python3.9/site-packages/jax_unirep/layers.py\u001b[0m, in \u001b[0;32mapply_fun\u001b[0m:\nLine \u001b[0;34m111\u001b[0m:   \u001b[34mreturn\u001b[39;49;00m mLSTMBatch(params=params, batch=inputs)\n",
      "File \u001b[0;34m/home/shizhenkun/anaconda3/envs/jupyterlab-debugger/lib/python3.9/site-packages/jax_unirep/layers.py\u001b[0m, in \u001b[0;32mmLSTMBatch\u001b[0m:\nLine \u001b[0;34m262\u001b[0m:   (h_final, c_final), outputs = lax.scan(\n",
      "File \u001b[0;34m/home/shizhenkun/anaconda3/envs/jupyterlab-debugger/lib/python3.9/site-packages/jax/_src/traceback_util.py\u001b[0m, in \u001b[0;32mreraise_with_filtered_traceback\u001b[0m:\nLine \u001b[0;34m143\u001b[0m:   \u001b[34mreturn\u001b[39;49;00m fun(*args, **kwargs)\n",
      "File \u001b[0;34m/home/shizhenkun/anaconda3/envs/jupyterlab-debugger/lib/python3.9/site-packages/jax/_src/lax/control_flow.py\u001b[0m, in \u001b[0;32mscan\u001b[0m:\nLine \u001b[0;34m1292\u001b[0m:  out = scan_p.bind(*itertools.chain(consts, in_flat),\n",
      "File \u001b[0;34m/home/shizhenkun/anaconda3/envs/jupyterlab-debugger/lib/python3.9/site-packages/jax/_src/lax/control_flow.py\u001b[0m, in \u001b[0;32mscan_bind\u001b[0m:\nLine \u001b[0;34m1866\u001b[0m:  \u001b[34mreturn\u001b[39;49;00m core.Primitive.bind(scan_p, *args, **params)\n",
      "File \u001b[0;34m/home/shizhenkun/anaconda3/envs/jupyterlab-debugger/lib/python3.9/site-packages/jax/core.py\u001b[0m, in \u001b[0;32mbind\u001b[0m:\nLine \u001b[0;34m264\u001b[0m:   out = top_trace.process_primitive(\u001b[36mself\u001b[39;49;00m, tracers, params)\n",
      "File \u001b[0;34m/home/shizhenkun/anaconda3/envs/jupyterlab-debugger/lib/python3.9/site-packages/jax/interpreters/batching.py\u001b[0m, in \u001b[0;32mprocess_primitive\u001b[0m:\nLine \u001b[0;34m134\u001b[0m:   val_out, dim_out = batched_primitive(vals_in, dims_in, **params)\n",
      "File \u001b[0;34m/home/shizhenkun/anaconda3/envs/jupyterlab-debugger/lib/python3.9/site-packages/jax/_src/lax/control_flow.py\u001b[0m, in \u001b[0;32m_scan_batching_rule\u001b[0m:\nLine \u001b[0;34m1778\u001b[0m:  outs = scan_p.bind(\n",
      "File \u001b[0;34m/home/shizhenkun/anaconda3/envs/jupyterlab-debugger/lib/python3.9/site-packages/jax/_src/lax/control_flow.py\u001b[0m, in \u001b[0;32mscan_bind\u001b[0m:\nLine \u001b[0;34m1866\u001b[0m:  \u001b[34mreturn\u001b[39;49;00m core.Primitive.bind(scan_p, *args, **params)\n",
      "File \u001b[0;34m/home/shizhenkun/anaconda3/envs/jupyterlab-debugger/lib/python3.9/site-packages/jax/core.py\u001b[0m, in \u001b[0;32mbind\u001b[0m:\nLine \u001b[0;34m264\u001b[0m:   out = top_trace.process_primitive(\u001b[36mself\u001b[39;49;00m, tracers, params)\n",
      "File \u001b[0;34m/home/shizhenkun/anaconda3/envs/jupyterlab-debugger/lib/python3.9/site-packages/jax/core.py\u001b[0m, in \u001b[0;32mprocess_primitive\u001b[0m:\nLine \u001b[0;34m606\u001b[0m:   \u001b[34mreturn\u001b[39;49;00m primitive.impl(*tracers, **params)\n",
      "File \u001b[0;34m/home/shizhenkun/anaconda3/envs/jupyterlab-debugger/lib/python3.9/site-packages/jax/interpreters/xla.py\u001b[0m, in \u001b[0;32mapply_primitive\u001b[0m:\nLine \u001b[0;34m231\u001b[0m:   compiled_fun = xla_primitive_callable(prim, *unsafe_map(arg_spec, args), **params)\n",
      "File \u001b[0;34m/home/shizhenkun/anaconda3/envs/jupyterlab-debugger/lib/python3.9/site-packages/jax/_src/util.py\u001b[0m, in \u001b[0;32mwrapper\u001b[0m:\nLine \u001b[0;34m186\u001b[0m:   \u001b[34mreturn\u001b[39;49;00m cached(config._trace_context(), *args, **kwargs)\n",
      "File \u001b[0;34m/home/shizhenkun/anaconda3/envs/jupyterlab-debugger/lib/python3.9/site-packages/jax/_src/util.py\u001b[0m, in \u001b[0;32mcached\u001b[0m:\nLine \u001b[0;34m179\u001b[0m:   \u001b[34mreturn\u001b[39;49;00m f(*args, **kwargs)\n",
      "File \u001b[0;34m/home/shizhenkun/anaconda3/envs/jupyterlab-debugger/lib/python3.9/site-packages/jax/interpreters/xla.py\u001b[0m, in \u001b[0;32mxla_primitive_callable\u001b[0m:\nLine \u001b[0;34m281\u001b[0m:   compiled = backend_compile(backend, built_c, options)\n",
      "File \u001b[0;34m/home/shizhenkun/anaconda3/envs/jupyterlab-debugger/lib/python3.9/site-packages/jax/interpreters/xla.py\u001b[0m, in \u001b[0;32mbackend_compile\u001b[0m:\nLine \u001b[0;34m345\u001b[0m:   \u001b[34mreturn\u001b[39;49;00m backend.compile(built_c, compile_options=options)\n",
      "\u001b[0;31mKeyboardInterrupt\u001b[0m: \n\u001b[0;31m---------------------------------------------------------------------------\u001b[0m"
     ]
    }
   ],
   "source": [
    "X_train_res = []\n",
    "counter = 0\n",
    "for i in tqdm(range(len(X_train))):\n",
    "    train_h_avg, train_h_final, train_c_final= get_reps(X_train[i])\n",
    "    X_train_res.append(train_h_final)\n",
    "    counter += 1\n",
    "#     if counter %100 == 0:\n",
    "#         print(counter)"
   ]
  },
  {
   "cell_type": "code",
   "execution_count": 141,
   "id": "cae56802-8c02-4eac-ac11-8039cbc5e94d",
   "metadata": {},
   "outputs": [
    {
     "data": {
      "text/plain": [
       "array([[ 1, 19,  1, ...,  0,  0,  0],\n",
       "       [14,  1, 19, ...,  0,  0,  0],\n",
       "       [14,  9, 16, ...,  0,  0,  0],\n",
       "       ...,\n",
       "       [14, 12, 13, ...,  0,  0,  0],\n",
       "       [14, 19,  4, ...,  0,  0,  0],\n",
       "       [14, 22,  2, ...,  0,  0,  0]])"
      ]
     },
     "execution_count": 141,
     "metadata": {},
     "output_type": "execute_result"
    }
   ],
   "source": [
    "X_train"
   ]
  }
 ],
 "metadata": {
  "kernelspec": {
   "display_name": "Python 3.9 (XPython)",
   "language": "python",
   "name": "xpython"
  },
  "language_info": {
   "file_extension": ".py",
   "mimetype": "text/x-python",
   "name": "python",
   "version": "3.9.2"
  }
 },
 "nbformat": 4,
 "nbformat_minor": 5
}
