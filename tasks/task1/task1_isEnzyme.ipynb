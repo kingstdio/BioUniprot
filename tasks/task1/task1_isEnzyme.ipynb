{
 "cells": [
  {
   "cell_type": "markdown",
   "metadata": {},
   "source": [
    "# Task1. 预测是酶还是非酶\n",
    "\n",
    "> author: Shizhenkun   \n",
    "> email: zhenkun.shi@tib.cas.cn   \n",
    "> date: 2021-04-27  \n",
    "\n",
    "## 任务简介\n",
    "该任务通过给定蛋白序列，预测该该蛋白是酶还是非酶。本任务所使用的数据集为Sport，对数据集的数据中进行学习，数据中有EC号被认为是酶，没有EC号的被认为是非酶。\n",
    "\n",
    "\n",
    "## 数据统计\n",
    "- 数据源Sprot，共有数据564,638条，其中有EC号的数据270,236条，无EC号的数据294402条。\n",
    "- 将数据集中的所有数据按照时间排序，～90%作为训练集，～10%作为测试集，找到对应时间节点为2010年2月9日。\n",
    "- 以2010年2月10日为时间节点，之前的数据为训练集，之后的数据为测试集，具体数据集统计如下： \n",
    "\n",
    "\n",
    " |     name     | 训练集 |             测试集                |\n",
    "| ------------ | --- | ------------------------------- |\n",
    "| 数据量 |  510490（510490/564638≈90.41%） | 54148（54148/564638≈9.59%） |\n",
    "\n",
    "## 实验方法\n",
    "\n",
    "- 同源比对：使用训练集建立比对库，然后将测试集与之比对，取最优的比对结果，比对结果的（酶/非酶）属性当作测试集的测试结果\n",
    "- 传统机器学习方法\n",
    "- 深度学习方法\n",
    "\n",
    "\n",
    "## 实验结果\n",
    "\n",
    "|Methods   | Accuracy                        |             Precision           |           Recall               |\n",
    "| ---------| ------------------------------- | ------------------------------- |--------------------------------|\n",
    "| 同源比对  |  0.6243628573539189(33808/54148) | 0.8220590380781014(33808/41126) |0.7595109699342543(41126/54148)|\n",
    "| LR.      |  32                             |     |"
   ]
  },
  {
   "cell_type": "code",
   "execution_count": 35,
   "metadata": {},
   "outputs": [
    {
     "name": "stdout",
     "output_type": "stream",
     "text": [
      "294402 ../../data/sprot_without_ec.tsv\n"
     ]
    }
   ],
   "source": [
    "! wc -l ../../data/sprot_without_ec.tsv"
   ]
  },
  {
   "cell_type": "code",
   "execution_count": 34,
   "metadata": {},
   "outputs": [
    {
     "data": {
      "text/plain": [
       "564438"
      ]
     },
     "execution_count": 34,
     "metadata": {},
     "output_type": "execute_result"
    }
   ],
   "source": [
    "Accuracy: 0.6243628573539189(33808/54148)\n",
    "Pricision: 0.8220590380781014(33808/41126)\n",
    "Recall: 0.7595109699342543(41126/54148)"
   ]
  },
  {
   "cell_type": "code",
   "execution_count": 31,
   "metadata": {},
   "outputs": [
    {
     "data": {
      "text/plain": [
       "0.09589861114554812"
      ]
     },
     "execution_count": 31,
     "metadata": {},
     "output_type": "execute_result"
    }
   ],
   "source": [
    "54148/564638"
   ]
  },
  {
   "cell_type": "code",
   "execution_count": 28,
   "metadata": {},
   "outputs": [
    {
     "data": {
      "text/plain": [
       "564638"
      ]
     },
     "execution_count": 28,
     "metadata": {},
     "output_type": "execute_result"
    }
   ],
   "source": [
    "len(train) + len(test)"
   ]
  },
  {
   "cell_type": "code",
   "execution_count": 29,
   "metadata": {},
   "outputs": [
    {
     "data": {
      "text/plain": [
       "564638"
      ]
     },
     "execution_count": 29,
     "metadata": {},
     "output_type": "execute_result"
    }
   ],
   "source": [
    "len(sprot)"
   ]
  },
  {
   "cell_type": "code",
   "execution_count": null,
   "metadata": {},
   "outputs": [],
   "source": []
  },
  {
   "cell_type": "markdown",
   "metadata": {},
   "source": [
    "## 1. 导入必要的包、定义公共函数"
   ]
  },
  {
   "cell_type": "code",
   "execution_count": 1,
   "metadata": {
    "tags": []
   },
   "outputs": [],
   "source": [
    "import numpy as np\n",
    "import pandas as pd\n",
    "import random\n",
    "import time\n",
    "import gzip\n",
    "import re\n",
    "from Bio import SeqIO\n",
    "import datetime\n",
    "import sys\n",
    "\n",
    "from functools import reduce\n",
    "\n",
    "from sklearn.model_selection import train_test_split\n",
    "from sklearn.preprocessing import StandardScaler\n",
    "from sklearn.preprocessing import normalize\n",
    "from sklearn import metrics\n",
    "from sklearn import linear_model, datasets\n",
    "from sklearn.svm import SVC\n",
    "from sklearn import tree\n",
    "from sklearn.ensemble import RandomForestClassifier\n",
    "from sklearn.ensemble import GradientBoostingClassifier\n",
    "import xgboost\n",
    "from xgboost import XGBClassifier\n",
    "\n",
    "import matplotlib.pyplot as plt\n",
    "\n",
    "import random\n",
    "\n",
    "def table2fasta(table, file_out):\n",
    "    file = open(file_out, 'w')\n",
    "    for index, row in table.iterrows():\n",
    "        file.write('>{0}\\n'.format(row['id']))\n",
    "        file.write('{0}\\n'.format(row['seq']))\n",
    "    file.close()\n",
    "    print('Write finished')\n",
    "\n",
    "#氨基酸字典(X未知项用于数据对齐)\n",
    "prot_dict = dict(\n",
    "                    A=1,  R=2,  N=3,  D=4,  C=5,  E=6,  Q=7,  G=8,  H=9,  O=10, I=11, L=12, \n",
    "                    K=13, M=14, F=15, P=16, U=17, S=18, T=19, W=20, Y=21, V=22, B=23, Z=24, X=0\n",
    "                )\n",
    "\n",
    "# one-hot 编码\n",
    "def dna_onehot(Xdna):\n",
    "    listtmp = list()\n",
    "    for index, row in Xdna.iterrows():\n",
    "        row = [prot_dict[x] if x in prot_dict else x for x in row['seq']]\n",
    "        listtmp.append(row)\n",
    "    return pd.DataFrame(listtmp)"
   ]
  },
  {
   "cell_type": "markdown",
   "metadata": {},
   "source": [
    "## 2. 加载数据"
   ]
  },
  {
   "cell_type": "code",
   "execution_count": 2,
   "metadata": {
    "tags": []
   },
   "outputs": [
    {
     "data": {
      "text/html": [
       "<div>\n",
       "<style scoped>\n",
       "    .dataframe tbody tr th:only-of-type {\n",
       "        vertical-align: middle;\n",
       "    }\n",
       "\n",
       "    .dataframe tbody tr th {\n",
       "        vertical-align: top;\n",
       "    }\n",
       "\n",
       "    .dataframe thead th {\n",
       "        text-align: right;\n",
       "    }\n",
       "</style>\n",
       "<table border=\"1\" class=\"dataframe\">\n",
       "  <thead>\n",
       "    <tr style=\"text-align: right;\">\n",
       "      <th></th>\n",
       "      <th>id</th>\n",
       "      <th>isemzyme</th>\n",
       "      <th>isMultiFunctional</th>\n",
       "      <th>functionCounts</th>\n",
       "      <th>ec_number</th>\n",
       "      <th>date_integraged</th>\n",
       "      <th>date_sequence_update</th>\n",
       "      <th>date_annotation_update</th>\n",
       "      <th>seq</th>\n",
       "      <th>seqlength</th>\n",
       "    </tr>\n",
       "  </thead>\n",
       "  <tbody>\n",
       "    <tr>\n",
       "      <th>0</th>\n",
       "      <td>P02802</td>\n",
       "      <td>False</td>\n",
       "      <td>False</td>\n",
       "      <td>1</td>\n",
       "      <td>-</td>\n",
       "      <td>1986-07-21</td>\n",
       "      <td>1986-07-21</td>\n",
       "      <td>2021-04-07</td>\n",
       "      <td>MDPNCSCSTGGSCTCTSSCACKNCKCTSCKKSCCSCCPVGCSKCAQ...</td>\n",
       "      <td>61</td>\n",
       "    </tr>\n",
       "    <tr>\n",
       "      <th>1</th>\n",
       "      <td>P02732</td>\n",
       "      <td>False</td>\n",
       "      <td>False</td>\n",
       "      <td>1</td>\n",
       "      <td>-</td>\n",
       "      <td>1986-07-21</td>\n",
       "      <td>1986-07-21</td>\n",
       "      <td>2019-12-11</td>\n",
       "      <td>AATAATAATAATAATAATAATAATAATAATA</td>\n",
       "      <td>31</td>\n",
       "    </tr>\n",
       "    <tr>\n",
       "      <th>2</th>\n",
       "      <td>P02733</td>\n",
       "      <td>False</td>\n",
       "      <td>False</td>\n",
       "      <td>1</td>\n",
       "      <td>-</td>\n",
       "      <td>1986-07-21</td>\n",
       "      <td>1986-07-21</td>\n",
       "      <td>2019-12-11</td>\n",
       "      <td>DTASDAAAAAALTAABAAAAAKLTABBAAAAAAATAA</td>\n",
       "      <td>37</td>\n",
       "    </tr>\n",
       "    <tr>\n",
       "      <th>3</th>\n",
       "      <td>P02734</td>\n",
       "      <td>False</td>\n",
       "      <td>False</td>\n",
       "      <td>1</td>\n",
       "      <td>-</td>\n",
       "      <td>1986-07-21</td>\n",
       "      <td>1987-08-13</td>\n",
       "      <td>2019-12-11</td>\n",
       "      <td>MRITEANPDPDAKAVPAAAAPSTASDAAAAAAATAATAAAAAAATA...</td>\n",
       "      <td>85</td>\n",
       "    </tr>\n",
       "    <tr>\n",
       "      <th>4</th>\n",
       "      <td>P00484</td>\n",
       "      <td>True</td>\n",
       "      <td>False</td>\n",
       "      <td>1</td>\n",
       "      <td>2.3.1.28</td>\n",
       "      <td>1986-07-21</td>\n",
       "      <td>1988-08-01</td>\n",
       "      <td>2021-04-07</td>\n",
       "      <td>MNYTKFDVKNWVRREHFEFYRHRLPCGFSLTSKIDITTLKKSLDDS...</td>\n",
       "      <td>213</td>\n",
       "    </tr>\n",
       "  </tbody>\n",
       "</table>\n",
       "</div>"
      ],
      "text/plain": [
       "       id  isemzyme  isMultiFunctional  functionCounts ec_number  \\\n",
       "0  P02802     False              False               1         -   \n",
       "1  P02732     False              False               1         -   \n",
       "2  P02733     False              False               1         -   \n",
       "3  P02734     False              False               1         -   \n",
       "4  P00484      True              False               1  2.3.1.28   \n",
       "\n",
       "  date_integraged date_sequence_update date_annotation_update  \\\n",
       "0      1986-07-21           1986-07-21             2021-04-07   \n",
       "1      1986-07-21           1986-07-21             2019-12-11   \n",
       "2      1986-07-21           1986-07-21             2019-12-11   \n",
       "3      1986-07-21           1987-08-13             2019-12-11   \n",
       "4      1986-07-21           1988-08-01             2021-04-07   \n",
       "\n",
       "                                                 seq  seqlength  \n",
       "0  MDPNCSCSTGGSCTCTSSCACKNCKCTSCKKSCCSCCPVGCSKCAQ...         61  \n",
       "1                    AATAATAATAATAATAATAATAATAATAATA         31  \n",
       "2              DTASDAAAAAALTAABAAAAAKLTABBAAAAAAATAA         37  \n",
       "3  MRITEANPDPDAKAVPAAAAPSTASDAAAAAAATAATAAAAAAATA...         85  \n",
       "4  MNYTKFDVKNWVRREHFEFYRHRLPCGFSLTSKIDITTLKKSLDDS...        213  "
      ]
     },
     "execution_count": 2,
     "metadata": {},
     "output_type": "execute_result"
    }
   ],
   "source": [
    "table_head = [  'id', \n",
    "                'isemzyme',\n",
    "                'isMultiFunctional', \n",
    "                'functionCounts', \n",
    "                'ec_number', \n",
    "                'date_integraged',\n",
    "                'date_sequence_update',\n",
    "                'date_annotation_update',\n",
    "                'seq', \n",
    "                'seqlength'\n",
    "            ]\n",
    "\n",
    "#加载数据并转换时间格式\n",
    "sprot = pd.read_csv('../../data/sprot_full.tsv', sep='\\t',names=table_head) #读入文件\n",
    "sprot.date_integraged = pd.to_datetime(sprot['date_integraged'])\n",
    "sprot.date_sequence_update = pd.to_datetime(sprot['date_sequence_update'])\n",
    "sprot.date_annotation_update = pd.to_datetime(sprot['date_annotation_update'])\n",
    "\n",
    "sprot.head(5)"
   ]
  },
  {
   "cell_type": "markdown",
   "metadata": {},
   "source": [
    "## 3. 划分训练集、测试集"
   ]
  },
  {
   "cell_type": "code",
   "execution_count": 22,
   "metadata": {
    "tags": []
   },
   "outputs": [],
   "source": [
    "thres = datetime.datetime(2010, 2, 10, 0, 0)\n",
    "\n",
    "#训练集\n",
    "train = sprot[sprot.date_integraged <= thres ].sort_values(by='date_integraged')\n",
    "#测试集\n",
    "test = sprot[sprot.date_integraged > thres ].sort_values(by='date_integraged')\n",
    "\n",
    "# train.to_csv('./data/train.tsv', sep='\\t', columns=['id', 'isemzyme','seq'], index=0)\n",
    "# test.to_csv('./data/test.tsv', sep='\\t', columns=['id', 'isemzyme','seq'], index=0)\n",
    "\n",
    "# table2fasta(train, './data/train.fasta')\n",
    "# table2fasta(test, './data/test.fasta')"
   ]
  },
  {
   "cell_type": "markdown",
   "metadata": {
    "tags": []
   },
   "source": [
    "## 4. 二分类\n",
    "### 4.1 同源比对"
   ]
  },
  {
   "cell_type": "code",
   "execution_count": null,
   "metadata": {
    "jupyter": {
     "source_hidden": true
    },
    "tags": []
   },
   "outputs": [],
   "source": [
    "! diamond makedb --in ./data/train.fasta -d ./data/train.dmnd     #建库\n",
    "! diamond blastp -d ./data/train.dmnd  -q ./data/test.fasta -o ./data/test_fasta_results.tsv -b5 -c1 -k 1   #生成比对文件"
   ]
  },
  {
   "cell_type": "code",
   "execution_count": 7,
   "metadata": {
    "jupyter": {
     "source_hidden": true
    },
    "tags": []
   },
   "outputs": [],
   "source": [
    "#读入比对结果\n",
    "res_data = pd.read_csv('./data/test_fasta_results.tsv', sep='\\t', names=['id', 'sseqid', 'pident', 'length','mismatch','gapopen','qstart','qend','sstart','send','evalue','bitscore'])\n",
    "\n",
    "#匹配查询结果\n",
    "data_match = pd.merge(test,res_data, on=['id'], how='inner')"
   ]
  },
  {
   "cell_type": "code",
   "execution_count": null,
   "metadata": {
    "jupyter": {
     "source_hidden": true
    },
    "tags": []
   },
   "outputs": [],
   "source": [
    "# 添加查询结果的EC号\n",
    "counter =0\n",
    "resArray =[]\n",
    "for i in range(len(res_data)):\n",
    "    counter+=1\n",
    "    mn = train[train['id']== res_data['sseqid'][i]]['ec_number'].values\n",
    "    resArray.append(mn)\n",
    "    if counter %1000 ==0:\n",
    "        print(counter)\n",
    "data_match['sresults_ec']=np.array(resArray) \n",
    "data_match.head(3)"
   ]
  },
  {
   "cell_type": "code",
   "execution_count": 14,
   "metadata": {
    "jupyter": {
     "source_hidden": true
    },
    "tags": []
   },
   "outputs": [
    {
     "name": "stdout",
     "output_type": "stream",
     "text": [
      "Total query records are: 54148\n",
      "Matched records are: 41126\n",
      "Accuracy: 0.6243628573539189(33808/54148)\n",
      "Pricision: 0.8220590380781014(33808/41126)\n",
      "Recall: 0.7595109699342543(41126/54148)\n"
     ]
    }
   ],
   "source": [
    "# 计算指标\n",
    "data_match['iscorrect'] = data_match[['ec_number', 'sresults_ec']].apply(lambda x: x['ec_number'] == x['sresults_ec'], axis=1) #判断EC号是否一致\n",
    "correct = sum(data_match['iscorrect'])\n",
    "find  = len(data_match)\n",
    "total = len(test)\n",
    "print('Total query records are: {0}'.format(total))\n",
    "print('Matched records are: {0}'.format(find))\n",
    "print('Accuracy: {0}({1}/{2})'.format(correct/total, correct, total))\n",
    "print('Pricision: {0}({1}/{2})'.format(correct/find, correct, find))\n",
    "print('Recall: {0}({1}/{2})'.format(find/total, find, total))"
   ]
  },
  {
   "cell_type": "code",
   "execution_count": 47,
   "metadata": {
    "collapsed": true,
    "jupyter": {
     "outputs_hidden": true,
     "source_hidden": true
    },
    "tags": []
   },
   "outputs": [
    {
     "data": {
      "text/plain": [
       "count    564638.000000\n",
       "mean        360.442643\n",
       "std         336.460236\n",
       "min           2.000000\n",
       "25%         169.000000\n",
       "50%         294.000000\n",
       "75%         449.000000\n",
       "max       35213.000000\n",
       "Name: seqlength, dtype: float64"
      ]
     },
     "execution_count": 47,
     "metadata": {},
     "output_type": "execute_result"
    }
   ],
   "source": [
    "sprot.seqlength.describe()"
   ]
  },
  {
   "cell_type": "markdown",
   "metadata": {},
   "source": [
    "### 4.2 使用机器学习方法"
   ]
  },
  {
   "cell_type": "code",
   "execution_count": 6,
   "metadata": {},
   "outputs": [],
   "source": [
    "trainset = train[['id', 'isemzyme','seq', 'seqlength']].reset_index(drop=True)\n",
    "testset = test[['id', 'isemzyme','seq', 'seqlength']].reset_index(drop=True)\n",
    "\n",
    "MAX_SEQ_LENGTH = 500 #定义序列最长的长度\n",
    "trainset.seq = trainset.seq.map(lambda x : x[0:MAX_SEQ_LENGTH].ljust(MAX_SEQ_LENGTH, 'X'))\n",
    "testset.seq = testset.seq.map(lambda x : x[0:MAX_SEQ_LENGTH].ljust(MAX_SEQ_LENGTH, 'X'))"
   ]
  },
  {
   "cell_type": "code",
   "execution_count": 7,
   "metadata": {},
   "outputs": [],
   "source": [
    "f_train = dna_onehot(trainset) #训练集编码\n",
    "f_test = dna_onehot(testset) #测试集编码\n",
    "\n",
    "train_full = pd.concat([trainset, f_train], axis=1, join='inner' ) #拼合训练集\n",
    "test_full = pd.concat([testset, f_test], axis=1, join='inner' )    #拼合测试集"
   ]
  },
  {
   "cell_type": "code",
   "execution_count": 8,
   "metadata": {},
   "outputs": [],
   "source": [
    "X_train = train_full.iloc[:,4:]\n",
    "X_test = test_full.iloc[:,4:]\n",
    "Y_train = train_full.isemzyme.astype('int')\n",
    "Y_test = test_full.isemzyme.astype('int')\n",
    "\n",
    "X_train = np.array(X_train)\n",
    "X_test = np.array(X_test)\n",
    "Y_train = np.array(Y_train)\n",
    "Y_test = np.array(Y_test)"
   ]
  },
  {
   "cell_type": "code",
   "execution_count": null,
   "metadata": {},
   "outputs": [],
   "source": []
  },
  {
   "cell_type": "code",
   "execution_count": null,
   "metadata": {},
   "outputs": [],
   "source": []
  },
  {
   "cell_type": "code",
   "execution_count": 9,
   "metadata": {},
   "outputs": [],
   "source": [
    "import function\n",
    "    \n",
    "    "
   ]
  },
  {
   "cell_type": "code",
   "execution_count": null,
   "metadata": {},
   "outputs": [
    {
     "name": "stdout",
     "output_type": "stream",
     "text": [
      "baslineName \t accuracy \t precision(PPV) \t NPV \t\t recall \t f1 \t\t auroc \t\t auprc \t\t confusion Matrix\n"
     ]
    }
   ],
   "source": [
    "methods=['lr', 'xg', 'dt', 'rf', 'gbdt']\n",
    "print('baslineName', '\\t', 'accuracy','\\t', 'precision(PPV) \\t NPV \\t\\t', 'recall','\\t', 'f1', '\\t\\t', 'auroc','\\t\\t', 'auprc', '\\t\\t confusion Matrix')\n",
    "for method in methods:\n",
    "    function.evaluate(method, X_train, Y_train, X_test, Y_test)"
   ]
  },
  {
   "cell_type": "code",
   "execution_count": null,
   "metadata": {},
   "outputs": [],
   "source": []
  },
  {
   "cell_type": "code",
   "execution_count": null,
   "metadata": {},
   "outputs": [],
   "source": [
    "function.xgmain(X_train_std, Y_train, X_test_std, Y_test)"
   ]
  },
  {
   "cell_type": "code",
   "execution_count": 1,
   "metadata": {},
   "outputs": [
    {
     "name": "stdout",
     "output_type": "stream",
     "text": [
      "\n",
      "for line in locals()['In']:\n",
      "    print(line)\n"
     ]
    }
   ],
   "source": [
    "for line in locals()['In']:\n",
    "    print(line)"
   ]
  },
  {
   "cell_type": "code",
   "execution_count": null,
   "metadata": {},
   "outputs": [],
   "source": []
  },
  {
   "cell_type": "code",
   "execution_count": null,
   "metadata": {},
   "outputs": [],
   "source": []
  },
  {
   "cell_type": "code",
   "execution_count": null,
   "metadata": {
    "tags": []
   },
   "outputs": [],
   "source": []
  },
  {
   "cell_type": "code",
   "execution_count": null,
   "metadata": {},
   "outputs": [],
   "source": []
  },
  {
   "cell_type": "code",
   "execution_count": null,
   "metadata": {},
   "outputs": [],
   "source": []
  }
 ],
 "metadata": {
  "kernelspec": {
   "display_name": "Python 3.9 (XPython)",
   "language": "python",
   "name": "xpython"
  },
  "language_info": {
   "file_extension": ".py",
   "mimetype": "text/x-python",
   "name": "python",
   "version": "3.9.2"
  }
 },
 "nbformat": 4,
 "nbformat_minor": 4
}
