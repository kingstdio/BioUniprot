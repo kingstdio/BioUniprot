{
 "cells": [
  {
   "cell_type": "markdown",
   "metadata": {
    "tags": []
   },
   "source": [
    "# Task1. 预测是酶还是非酶\n",
    "\n",
    "> author: Shizhenkun   \n",
    "> email: zhenkun.shi@tib.cas.cn   \n",
    "> date: 2021-04-27  \n",
    "\n",
    "## 任务简介\n",
    "该任务通过给定蛋白序列，预测该该蛋白是酶还是非酶。本任务所使用的数据集为Sport，对数据集的数据中进行学习，然后对新给定的蛋白序列数据预测是酶还是非酶。\n",
    "\n",
    "\n",
    "## 数据统计\n",
    "- 数据源Sprot，共有数据564,638条，其中有EC号的数据270,236条，无EC号的数据294402条。\n",
    "- 将数据集中的所有数据按照时间排序，～90%作为训练集，～10%作为测试集，找到对应时间节点为2010年2月9日。\n",
    "- 以2010年2月10日为时间节点，之前的数据为训练集，之后的数据为测试集，具体数据集统计如下： \n",
    "\n",
    "\n",
    "\n",
    "\n",
    "\n",
    "|     Items    | 酶     |   非酶    |合计                            |\n",
    "| ------------ | -------| -------- |-------------------------------|\n",
    "| 训练集        | 245771 | 264719   | 510490（510490/564638≈90.41%） |\n",
    "| 测试集        | 24465  | 29683    | 54148（54148/564638≈9.59%）    |\n",
    "\n",
    "## 数据集构建方法\n",
    "\n",
    "* 根据蛋白注释信息，将Sprot中的蛋白分为「酶」和 「非酶」。\n",
    "* 为了保证蛋白的唯一性，按照序列对Sprot中的数据进行去重除了，以保证数据集中序列的唯一性。\n",
    "* 将注释中含有3级及三级以上EC号的蛋白做为酶数据，收录于数据集中，当中正样本 。\n",
    "* 将注释中不含有EC号的数据作为非酶数据，并进行如下处理后收录于数据集中，当做是负样本。\n",
    "> 1. 非酶数据与酶数据进行同源比对(diamoind)，过滤掉相似性>40%的数据\n",
    "> 2. 过滤掉<50bp的核算片段\n",
    "> 3. 对酶数据进行CD——HIT比较，按照40%的阈值进行去冗余<span style='background:yellow'>（？有必要吗）</span>\n",
    "\n",
    "<span style='font-family:\"Source Code Pro\"; background:yellow'>We adopt three datasets in this paper</span><span  style='font-family:\"Source Code Pro\"'>. <span style='background: aqua'>The first dataset is a widely used one from (Shen and Chou, 2007), constructed from the ENZYME database (released on May 1, 2007)</span>, <span style='background:silver'>with 40% sequence similarity cutoff</span>. More details of that dataset could be referred to (Shen and Chou, 2007). This dataset is denoted as the KNN dataset in the rest of the paper.</span>\n",
    "\n",
    "Following the same procedure of constructing the KNN dataset, we constructed a larger dataset using up-to-date databases. The steps of constructing the dataset are as follows:\n",
    "\n",
    "i. <span style='color:red;background:silver'>The SWISS-PROT (released on September 7, 2016) database was separated into enzymes and non-enzymes based on the\n",
    "annotation.</span>\n",
    "\n",
    "ii. <u>To guarantee the uniqueness and correctness</u>, <span style='background:lime'>enzyme sequences with more than one set of EC numbers</span> or <span style='background:red'>incomplete EC number annotation</span> <u>were excluded</u>.</span>\n",
    "\n",
    "iii. To avoid fragment data, enzyme sequences annotated with ‘fragment’ or <span style='background:red'>with &lt;50 amino acids were excluded</span>. Enzyme sequences with <span style='color:white;background:teal'>more than 5000 amino\n",
    "acids were also excluded.</span>\n",
    "\n",
    "iv. <span style='color:white;background:purple'>To remove redundancy bias, we used CD-HIT (Fu et al., 2012) with 40% similarity threshold to sift upon the raw dataset,\n",
    "resulting in 22168 low-homology enzyme sequences.</span>\n",
    "\n",
    "v. To construct the <span style='background:yellow'>non-enzyme part</span>, 22168 non-enzyme protein sequences were <span style='background:yellow'>randomly\n",
    "collected</span> from the SWISS-PROT (released on September 7, 2016) non-enzyme part, <span style='background:fuchsia'>which were also subject to the (ii–iv) steps.</span>\n",
    "\n",
    "## 实验方法\n",
    "\n",
    "- 同源比对：使用训练集建立比对库，然后将测试集与之比对，取最优的比对结果，比对结果的（酶/非酶）属性当作测试集的测试结果\n",
    "- 传统机器学习方法\n",
    "- 深度学习方法\n",
    "\n",
    "CUTOFF -< aad 有的是酶，但是没有没有酶号，这个标签需要重新确定（提高数据的质量），不同数据源得到的酶号可能不一样（而且有例子），多数据源联合比对，需要golden standard，\n",
    "\n",
    "需要Ground truth\n",
    "\n",
    "## 实验结果\n",
    "\n",
    "### 1. 未对序列长度进行过滤\n",
    "\n",
    "|Methods   | Accuracy                        |             Precision           |           Recall               |F1   |Group|\n",
    "| ---------| ------------------------------- | ------------------------------- |--------------------------------|-----|      |\n",
    "| 同源比对  |  0.6243628573539189(33808/54148) | 0.8220590380781014(33808/41126) |0.7595109699342543(41126/54148)|      |NO LENGTH FILTERING|\n",
    "lr \t|\t0.619377 |\t0.562195 |\t0.712160 |\t0.628354 | NO LENGTH FILTERING |\n",
    "xg \t|\t0.678363 |\t0.647462 |\t0.632536 |\t0.639912 | NO LENGTH FILTERING |\n",
    "dt \t|\t0.640725 |\t0.605286 |\t0.588759 |\t0.596909 | NO LENGTH FILTERING |\n",
    "rf \t|\t0.696905 |\t0.654373 |\t0.697650 |\t0.675319 | NO LENGTH FILTERING |\n",
    "gbdt|\t0.633024 |\t0.571013 |\t0.754956 |\t0.650226 | NO LENGTH FILTERING |\n",
    "\n",
    "\n",
    "\n",
    "\n",
    "400 长度\n",
    "\n",
    "\n",
    "|baslineName| \t accuracy \t |precision(PPV)| \t NPV |\t\t recall |\t f1 \t|\t auroc \t|\t auprc \t|\t confusion Matrix  | \n",
    "|-----|-----|-----|-----|-----|-----|-----|-----|-----|\n",
    "lr \t\t|0.622017 \t|0.565314 \t\t|0.695735 \t|0.707214 \t|0.628352 \t|0.679701 \t|0.574374 \t |tp: 17302 fp: 13304 fn: 7163 tn: 16379    \n",
    "xg \t\t|0.677532 \t|0.647106 \t\t|0.701404 \t|0.629675 \t|0.638271 \t|0.755010 \t|0.687809 \t |tp: 15405 fp: 8401 fn: 9060 tn: 21282    \n",
    "dt \t\t|0.639174 \t|0.603897 \t\t|0.666656 \t|0.585285 \t|0.594445 \t|0.634438 \t|0.540833 \t |tp: 14319 fp: 9392 fn: 10146 tn: 20291   \n",
    "rf \t\t|0.696997 \t|0.654997 \t\t|0.735775 \t|0.695933 \t|0.674845 \t|0.790091 \t|0.739525 \t |tp: 17026 fp: 8968 fn: 7439 tn: 20715  \n",
    "\n",
    "\n",
    "700 长度\n",
    "\n",
    "|baslineName| \t accuracy \t |precision(PPV)| \t NPV |\t\t recall |\t f1 \t|\t auroc \t|\t auprc \t|\t confusion Matrix  | \n",
    "|-----|-----|-----|-----|-----|-----|-----|-----|-----|\n",
    "|lr \t\t|0.622017 \t|0.565314 \t\t|0.695735 \t|0.707214 \t|0.628352 \t|0.679701 \t|0.574374 \t |tp: 17302 fp: 13304 fn: 7163 tn: 16379  \n",
    "|xg \t\t|0.677532 \t|0.647106 \t\t|0.701404 \t|0.629675 \t|0.638271 \t|0.755010 \t|0.687809 \t |tp: 15405 fp: 8401 fn: 9060 tn: 21282   \n",
    "|dt \t\t|0.639174 \t|0.603897 \t\t|0.666656 \t|0.585285 \t|0.594445 \t|0.634438 \t|0.540833 \t |tp: 14319 fp: 9392 fn: 10146 tn: 20291   \n",
    "|rf \t\t|0.696997 \t|0.654997 \t\t|0.735775 \t|0.695933 \t|0.674845 \t|0.790091 \t|0.739525 \t |tp: 17026 fp: 8968 fn: 7439 tn: 20715   \n",
    "\n",
    "\n",
    "\n",
    "\n",
    "### 2. 对序列长度进行过滤【60，1000】\n",
    "\n",
    "> <60 占比 2.9878%   \n",
    "> \\>1000 占比 3.2761%\n",
    "\n",
    "|Methods   | Accuracy                        |             Precision           |           Recall               |F1   |Group|\n",
    "| ---------| ------------------------------- | ------------------------------- |--------------------------------|-----|      |\n",
    "| 同源比对  |  0.6290837227494493(30559/48577) | 0.8195837579788661(30559/37286) |0.7675648969677008(37286/48577)|      |60-1000|\n",
    "|lr \t\t\t\t| 0.614159 \t|0.565746 \t\t \t|0.746395 \t|0.643635 |60-1000|\n",
    "|xg \t\t\t\t| 0.672170 \t|0.649420 \t\t \t|0.647043 \t|0.648230 |60-1000|\n",
    "|dt \t\t\t\t|0.625996 \t|0.601167 \t\t \t|0.590775 \t|0.595925 |60-1000|\n",
    "|rf \t\t\t\t|0.691253 \t|0.640584 \t\t \t|0.771487 \t|0.699968 |60-1000|\n",
    "|gbdt \t\t\t|0.627869 \t|0.573841 \t\t \t|0.788199 \t|0.664152 |60-1000|\n",
    "\n",
    "Total query records are: 48577\n",
    "Matched records are: 37286\n",
    "Accuracy: 0.6290837227494493(30559/48577)\n",
    "Pricision: 0.8195837579788661(30559/37286)\n",
    "Recall: 0.7675648969677008(37286/48577)"
   ]
  },
  {
   "cell_type": "markdown",
   "metadata": {},
   "source": [
    "## 1. 导入必要的包、定义公共函数"
   ]
  },
  {
   "cell_type": "code",
   "execution_count": null,
   "metadata": {
    "tags": []
   },
   "outputs": [],
   "source": [
    "import numpy as np\n",
    "import pandas as pd\n",
    "import random\n",
    "import time\n",
    "import gzip\n",
    "import re\n",
    "from Bio import SeqIO\n",
    "import datetime\n",
    "import sys\n",
    "from tqdm import tqdm\n",
    "\n",
    "from functools import reduce\n",
    "import matplotlib.pyplot as plt\n",
    "\n",
    "sys.path.append(\"../../tools/\")\n",
    "import commontools\n",
    "import funclib\n",
    "from pyecharts.globals import CurrentConfig, OnlineHostType\n",
    "CurrentConfig.ONLINE_HOST = OnlineHostType.NOTEBOOK_HOST\n",
    "from pyecharts.globals import CurrentConfig, NotebookType\n",
    "CurrentConfig.NOTEBOOK_TYPE = NotebookType.JUPYTER_LAB\n",
    "\n",
    "from pyecharts import options as opts\n",
    "from pyecharts.charts import Bar\n",
    "from pyecharts.faker import Faker\n",
    "from pyecharts.globals import ThemeType\n",
    "\n",
    "from jax_unirep import get_reps\n",
    "\n",
    "# Thres 》=100 《=600｜500"
   ]
  },
  {
   "cell_type": "markdown",
   "metadata": {},
   "source": [
    "## 2. 加载数据"
   ]
  },
  {
   "cell_type": "code",
   "execution_count": 35,
   "metadata": {
    "tags": []
   },
   "outputs": [
    {
     "data": {
      "text/html": [
       "<div>\n",
       "<style scoped>\n",
       "    .dataframe tbody tr th:only-of-type {\n",
       "        vertical-align: middle;\n",
       "    }\n",
       "\n",
       "    .dataframe tbody tr th {\n",
       "        vertical-align: top;\n",
       "    }\n",
       "\n",
       "    .dataframe thead th {\n",
       "        text-align: right;\n",
       "    }\n",
       "</style>\n",
       "<table border=\"1\" class=\"dataframe\">\n",
       "  <thead>\n",
       "    <tr style=\"text-align: right;\">\n",
       "      <th></th>\n",
       "      <th>id</th>\n",
       "      <th>isemzyme</th>\n",
       "      <th>isMultiFunctional</th>\n",
       "      <th>functionCounts</th>\n",
       "      <th>ec_number</th>\n",
       "      <th>date_integraged</th>\n",
       "      <th>date_sequence_update</th>\n",
       "      <th>date_annotation_update</th>\n",
       "      <th>seq</th>\n",
       "      <th>seqlength</th>\n",
       "    </tr>\n",
       "  </thead>\n",
       "  <tbody>\n",
       "    <tr>\n",
       "      <th>0</th>\n",
       "      <td>P02802</td>\n",
       "      <td>False</td>\n",
       "      <td>False</td>\n",
       "      <td>1</td>\n",
       "      <td>-</td>\n",
       "      <td>1986-07-21</td>\n",
       "      <td>1986-07-21</td>\n",
       "      <td>2021-04-07</td>\n",
       "      <td>MDPNCSCSTGGSCTCTSSCACKNCKCTSCKKSCCSCCPVGCSKCAQ...</td>\n",
       "      <td>61</td>\n",
       "    </tr>\n",
       "    <tr>\n",
       "      <th>1</th>\n",
       "      <td>P02732</td>\n",
       "      <td>False</td>\n",
       "      <td>False</td>\n",
       "      <td>1</td>\n",
       "      <td>-</td>\n",
       "      <td>1986-07-21</td>\n",
       "      <td>1986-07-21</td>\n",
       "      <td>2019-12-11</td>\n",
       "      <td>AATAATAATAATAATAATAATAATAATAATA</td>\n",
       "      <td>31</td>\n",
       "    </tr>\n",
       "  </tbody>\n",
       "</table>\n",
       "</div>"
      ],
      "text/plain": [
       "       id  isemzyme  isMultiFunctional  functionCounts ec_number  \\\n",
       "0  P02802     False              False               1         -   \n",
       "1  P02732     False              False               1         -   \n",
       "\n",
       "  date_integraged date_sequence_update date_annotation_update  \\\n",
       "0      1986-07-21           1986-07-21             2021-04-07   \n",
       "1      1986-07-21           1986-07-21             2019-12-11   \n",
       "\n",
       "                                                 seq  seqlength  \n",
       "0  MDPNCSCSTGGSCTCTSSCACKNCKCTSCKKSCCSCCPVGCSKCAQ...         61  \n",
       "1                    AATAATAATAATAATAATAATAATAATAATA         31  "
      ]
     },
     "execution_count": 35,
     "metadata": {},
     "output_type": "execute_result"
    }
   ],
   "source": [
    "table_head = [  'id', \n",
    "                'isemzyme',\n",
    "                'isMultiFunctional', \n",
    "                'functionCounts', \n",
    "                'ec_number', \n",
    "                'date_integraged',\n",
    "                'date_sequence_update',\n",
    "                'date_annotation_update',\n",
    "                'seq', \n",
    "                'seqlength'\n",
    "            ]\n",
    "\n",
    "#加载数据并转换时间格式\n",
    "sprot = pd.read_csv('../../data/sprot_full.tsv', sep='\\t',names=table_head) #读入文件\n",
    "sprot.date_integraged = pd.to_datetime(sprot['date_integraged'])\n",
    "sprot.date_sequence_update = pd.to_datetime(sprot['date_sequence_update'])\n",
    "sprot.date_annotation_update = pd.to_datetime(sprot['date_annotation_update'])\n",
    "\n",
    "sprot.head(2)"
   ]
  },
  {
   "cell_type": "markdown",
   "metadata": {},
   "source": [
    "## 3. 统计数据\n",
    "### 3.1 序列长度统计"
   ]
  },
  {
   "cell_type": "code",
   "execution_count": 5,
   "metadata": {
    "tags": []
   },
   "outputs": [
    {
     "data": {
      "text/html": [
       "<div>\n",
       "<style scoped>\n",
       "    .dataframe tbody tr th:only-of-type {\n",
       "        vertical-align: middle;\n",
       "    }\n",
       "\n",
       "    .dataframe tbody tr th {\n",
       "        vertical-align: top;\n",
       "    }\n",
       "\n",
       "    .dataframe thead th {\n",
       "        text-align: right;\n",
       "    }\n",
       "</style>\n",
       "<table border=\"1\" class=\"dataframe\">\n",
       "  <thead>\n",
       "    <tr style=\"text-align: right;\">\n",
       "      <th></th>\n",
       "      <th>length</th>\n",
       "      <th>count</th>\n",
       "    </tr>\n",
       "  </thead>\n",
       "  <tbody>\n",
       "    <tr>\n",
       "      <th>2</th>\n",
       "      <td>2</td>\n",
       "      <td>2</td>\n",
       "    </tr>\n",
       "    <tr>\n",
       "      <th>3</th>\n",
       "      <td>3</td>\n",
       "      <td>5</td>\n",
       "    </tr>\n",
       "    <tr>\n",
       "      <th>4</th>\n",
       "      <td>4</td>\n",
       "      <td>22</td>\n",
       "    </tr>\n",
       "  </tbody>\n",
       "</table>\n",
       "</div>"
      ],
      "text/plain": [
       "   length  count\n",
       "2       2      2\n",
       "3       3      5\n",
       "4       4     22"
      ]
     },
     "execution_count": 5,
     "metadata": {},
     "output_type": "execute_result"
    }
   ],
   "source": [
    "sprot_length = sprot.seqlength.value_counts(ascending=True)\n",
    "sprot_length = pd.DataFrame(sprot_length)\n",
    "sprot_length['length'] = sprot_length.index\n",
    "sprot_length = sprot_length.rename(columns={'seqlength':'count', 'length':'length'})\n",
    "sprot_length=sprot_length.sort_values(by='length', ascending=True)\n",
    "sprot_length=sprot_length.loc[:,['length','count']]\n",
    "sprot_length.head(3)"
   ]
  },
  {
   "cell_type": "code",
   "execution_count": 1,
   "metadata": {
    "tags": []
   },
   "outputs": [
    {
     "ename": "NameError",
     "evalue": "name 'pd' is not defined",
     "output_type": "error",
     "traceback": [
      "\u001b[0;31m---------------------------------------------------------------------------\u001b[0m\n\u001b[0;31mNameError\u001b[0m                                 Traceback (most recent call last)",
      "File \u001b[0;34m/home/shizhenkun/anaconda3/envs/jupyterlab-debugger/lib/python3.9/site-packages/IPython/core/interactiveshell.py\u001b[0m, in \u001b[0;32mrun_code\u001b[0m:\nLine \u001b[0;34m3437\u001b[0m:  exec(code_obj, \u001b[36mself\u001b[39;49;00m.user_global_ns, \u001b[36mself\u001b[39;49;00m.user_ns)\n",
      "In  \u001b[0;34m[1]\u001b[0m:\nLine \u001b[0;34m2\u001b[0m:     res_statistic = pd.DataFrame(funclib.static_interval(sprot_length, span))\n",
      "\u001b[0;31mNameError\u001b[0m: name 'pd' is not defined\n\u001b[0;31m---------------------------------------------------------------------------\u001b[0m"
     ]
    }
   ],
   "source": [
    "span = 20\n",
    "res_statistic = pd.DataFrame(funclib.static_interval(sprot_length, span))\n",
    "\n",
    "bar = (\n",
    "    Bar(init_opts=opts.InitOpts(width=\"1700px\",\n",
    "                                height=\"750px\",\n",
    "                                page_title=\"造价四剑客\",\n",
    "                                theme=ThemeType.CHALK))\n",
    "    .add_xaxis(list(res_statistic[0]))\n",
    "    .add_yaxis(\"序列长度\", list(res_statistic[1]))\n",
    "    .set_global_opts(\n",
    "        title_opts=opts.TitleOpts(title=\"SPROT 数据集中蛋白序列长度区间统计图，统计区间跨度=20\"),\n",
    "        datazoom_opts=opts.DataZoomOpts()\n",
    "    )\n",
    ")\n",
    "\n",
    "### 2  加载javascript\n",
    "bar.load_javascript()\n",
    "bar.render_notebook()"
   ]
  },
  {
   "cell_type": "code",
   "execution_count": 37,
   "metadata": {
    "tags": []
   },
   "outputs": [
    {
     "name": "stdout",
     "output_type": "stream",
     "text": [
      "<60 占比 2.9878%\n",
      ">1000 占比 3.2761%\n"
     ]
    }
   ],
   "source": [
    "l_thres = 60\n",
    "h_thres = 1000\n",
    "total = len(sprot)\n",
    "\n",
    "l_num = sprot_length[sprot_length.length < l_thres]['count'].sum()\n",
    "h_num = sprot_length[sprot_length.length > h_thres]['count'].sum()\n",
    "\n",
    "\n",
    "print('<{} 占比 {:5.4f}%'.format(l_thres, l_num/total *100))\n",
    "print('>{} 占比 {:5.4f}%'.format(h_thres, h_num/total *100))"
   ]
  },
  {
   "cell_type": "markdown",
   "metadata": {},
   "source": [
    "## 3. 划分训练集、测试集"
   ]
  },
  {
   "cell_type": "code",
   "execution_count": 31,
   "metadata": {
    "tags": []
   },
   "outputs": [],
   "source": [
    "sprot_exp = sprot[(sprot.seqlength >= l_thres) & (sprot.seqlength <= h_thres) ]\n",
    "\n",
    "t_thres = datetime.datetime(2010, 2, 10, 0, 0)\n",
    "\n",
    "#训练集\n",
    "train = sprot_exp[sprot_exp.date_integraged <= t_thres ].sort_values(by='date_integraged')\n",
    "#测试集\n",
    "test = sprot_exp[sprot_exp.date_integraged > t_thres ].sort_values(by='date_integraged')\n",
    "\n",
    "# train.to_csv('./data/train.tsv', sep='\\t', columns=['id', 'isemzyme','seq'], index=0)\n",
    "# test.to_csv('./data/test.tsv', sep='\\t', columns=['id', 'isemzyme','seq'], index=0)\n",
    "\n",
    "# funclib.table2fasta(train, './data/train.fasta')\n",
    "# funclib.table2fasta(test, './data/test.fasta')"
   ]
  },
  {
   "cell_type": "markdown",
   "metadata": {
    "tags": []
   },
   "source": [
    "## 4. 二分类\n",
    "### 4.1 同源比对"
   ]
  },
  {
   "cell_type": "code",
   "execution_count": null,
   "metadata": {
    "tags": []
   },
   "outputs": [],
   "source": [
    "! diamond makedb --in ./data/train.fasta -d ./data/train.dmnd     #建库\n",
    "! diamond blastp -d ./data/train.dmnd  -q ./data/test.fasta -o ./data/test_fasta_results.tsv -b5 -c1 -k 1   #生成比对文件"
   ]
  },
  {
   "cell_type": "code",
   "execution_count": 76,
   "metadata": {
    "tags": []
   },
   "outputs": [],
   "source": [
    "#读入比对结果\n",
    "res_data = pd.read_csv('./data/test_fasta_results.tsv', sep='\\t', names=['id', 'sseqid', 'pident', 'length','mismatch','gapopen','qstart','qend','sstart','send','evalue','bitscore'])\n",
    "\n",
    "#匹配查询结果\n",
    "data_match = pd.merge(test,res_data, on=['id'], how='inner')"
   ]
  },
  {
   "cell_type": "code",
   "execution_count": 77,
   "metadata": {
    "collapsed": true,
    "jupyter": {
     "outputs_hidden": true
    },
    "tags": []
   },
   "outputs": [
    {
     "name": "stdout",
     "output_type": "stream",
     "text": [
      "1000\n",
      "2000\n",
      "3000\n",
      "4000\n",
      "5000\n",
      "6000\n",
      "7000\n",
      "8000\n",
      "9000\n",
      "10000\n",
      "11000\n",
      "12000\n",
      "13000\n",
      "14000\n",
      "15000\n",
      "16000\n",
      "17000\n",
      "18000\n",
      "19000\n",
      "20000\n",
      "21000\n",
      "22000\n",
      "23000\n",
      "24000\n",
      "25000\n",
      "26000\n",
      "27000\n",
      "28000\n",
      "29000\n",
      "30000\n",
      "31000\n",
      "32000\n",
      "33000\n",
      "34000\n",
      "35000\n",
      "36000\n",
      "37000\n"
     ]
    },
    {
     "data": {
      "text/html": [
       "<div>\n",
       "<style scoped>\n",
       "    .dataframe tbody tr th:only-of-type {\n",
       "        vertical-align: middle;\n",
       "    }\n",
       "\n",
       "    .dataframe tbody tr th {\n",
       "        vertical-align: top;\n",
       "    }\n",
       "\n",
       "    .dataframe thead th {\n",
       "        text-align: right;\n",
       "    }\n",
       "</style>\n",
       "<table border=\"1\" class=\"dataframe\">\n",
       "  <thead>\n",
       "    <tr style=\"text-align: right;\">\n",
       "      <th></th>\n",
       "      <th>id</th>\n",
       "      <th>isemzyme</th>\n",
       "      <th>isMultiFunctional</th>\n",
       "      <th>functionCounts</th>\n",
       "      <th>ec_number</th>\n",
       "      <th>date_integraged</th>\n",
       "      <th>date_sequence_update</th>\n",
       "      <th>date_annotation_update</th>\n",
       "      <th>seq</th>\n",
       "      <th>seqlength</th>\n",
       "      <th>...</th>\n",
       "      <th>length</th>\n",
       "      <th>mismatch</th>\n",
       "      <th>gapopen</th>\n",
       "      <th>qstart</th>\n",
       "      <th>qend</th>\n",
       "      <th>sstart</th>\n",
       "      <th>send</th>\n",
       "      <th>evalue</th>\n",
       "      <th>bitscore</th>\n",
       "      <th>sresults_ec</th>\n",
       "    </tr>\n",
       "  </thead>\n",
       "  <tbody>\n",
       "    <tr>\n",
       "      <th>0</th>\n",
       "      <td>B3M1H7</td>\n",
       "      <td>False</td>\n",
       "      <td>False</td>\n",
       "      <td>1</td>\n",
       "      <td>-</td>\n",
       "      <td>2010-03-02</td>\n",
       "      <td>2008-09-02</td>\n",
       "      <td>2020-12-02</td>\n",
       "      <td>MESLSQLVKSTLPNYLSNLPIPDSVGGWFKLSFKDWLALIPPTVVV...</td>\n",
       "      <td>134</td>\n",
       "      <td>...</td>\n",
       "      <td>133</td>\n",
       "      <td>23</td>\n",
       "      <td>0</td>\n",
       "      <td>1</td>\n",
       "      <td>133</td>\n",
       "      <td>1</td>\n",
       "      <td>133</td>\n",
       "      <td>3.750000e-88</td>\n",
       "      <td>254.0</td>\n",
       "      <td>-</td>\n",
       "    </tr>\n",
       "    <tr>\n",
       "      <th>1</th>\n",
       "      <td>A8Q8J2</td>\n",
       "      <td>False</td>\n",
       "      <td>False</td>\n",
       "      <td>1</td>\n",
       "      <td>-</td>\n",
       "      <td>2010-03-02</td>\n",
       "      <td>2008-01-15</td>\n",
       "      <td>2021-04-07</td>\n",
       "      <td>MELSESTKKALKAIPLMRTKAGPRDGDSWVQRLKEEYEALIAFINN...</td>\n",
       "      <td>165</td>\n",
       "      <td>...</td>\n",
       "      <td>159</td>\n",
       "      <td>45</td>\n",
       "      <td>0</td>\n",
       "      <td>5</td>\n",
       "      <td>163</td>\n",
       "      <td>4</td>\n",
       "      <td>162</td>\n",
       "      <td>1.360000e-92</td>\n",
       "      <td>268.0</td>\n",
       "      <td>-</td>\n",
       "    </tr>\n",
       "    <tr>\n",
       "      <th>2</th>\n",
       "      <td>C7GQV5</td>\n",
       "      <td>True</td>\n",
       "      <td>False</td>\n",
       "      <td>1</td>\n",
       "      <td>3.6.1.29</td>\n",
       "      <td>2010-03-02</td>\n",
       "      <td>2010-03-02</td>\n",
       "      <td>2021-04-07</td>\n",
       "      <td>MNKPIYFSKFLVTEQVFYKSKYTYALVNLKPIVPGHVLIVPLRTTV...</td>\n",
       "      <td>206</td>\n",
       "      <td>...</td>\n",
       "      <td>206</td>\n",
       "      <td>0</td>\n",
       "      <td>0</td>\n",
       "      <td>1</td>\n",
       "      <td>206</td>\n",
       "      <td>1</td>\n",
       "      <td>206</td>\n",
       "      <td>1.640000e-149</td>\n",
       "      <td>416.0</td>\n",
       "      <td>3.6.1.29</td>\n",
       "    </tr>\n",
       "  </tbody>\n",
       "</table>\n",
       "<p>3 rows × 22 columns</p>\n",
       "</div>"
      ],
      "text/plain": [
       "       id  isemzyme  isMultiFunctional  functionCounts ec_number  \\\n",
       "0  B3M1H7     False              False               1         -   \n",
       "1  A8Q8J2     False              False               1         -   \n",
       "2  C7GQV5      True              False               1  3.6.1.29   \n",
       "\n",
       "  date_integraged date_sequence_update date_annotation_update  \\\n",
       "0      2010-03-02           2008-09-02             2020-12-02   \n",
       "1      2010-03-02           2008-01-15             2021-04-07   \n",
       "2      2010-03-02           2010-03-02             2021-04-07   \n",
       "\n",
       "                                                 seq  seqlength  ... length  \\\n",
       "0  MESLSQLVKSTLPNYLSNLPIPDSVGGWFKLSFKDWLALIPPTVVV...        134  ...    133   \n",
       "1  MELSESTKKALKAIPLMRTKAGPRDGDSWVQRLKEEYEALIAFINN...        165  ...    159   \n",
       "2  MNKPIYFSKFLVTEQVFYKSKYTYALVNLKPIVPGHVLIVPLRTTV...        206  ...    206   \n",
       "\n",
       "   mismatch  gapopen  qstart  qend  sstart  send         evalue  bitscore  \\\n",
       "0        23        0       1   133       1   133   3.750000e-88     254.0   \n",
       "1        45        0       5   163       4   162   1.360000e-92     268.0   \n",
       "2         0        0       1   206       1   206  1.640000e-149     416.0   \n",
       "\n",
       "   sresults_ec  \n",
       "0            -  \n",
       "1            -  \n",
       "2     3.6.1.29  \n",
       "\n",
       "[3 rows x 22 columns]"
      ]
     },
     "execution_count": 77,
     "metadata": {},
     "output_type": "execute_result"
    }
   ],
   "source": [
    "# 添加查询结果的EC号\n",
    "counter =0\n",
    "resArray =[]\n",
    "for i in range(len(res_data)):\n",
    "    counter+=1\n",
    "    mn = train[train['id']== res_data['sseqid'][i]]['ec_number'].values\n",
    "    resArray.append(mn)\n",
    "    if counter %1000 ==0:\n",
    "        print(counter)\n",
    "data_match['sresults_ec']=np.array(resArray) \n",
    "data_match.head(3)"
   ]
  },
  {
   "cell_type": "code",
   "execution_count": 78,
   "metadata": {
    "tags": []
   },
   "outputs": [
    {
     "name": "stdout",
     "output_type": "stream",
     "text": [
      "Total query records are: 48577\n",
      "Matched records are: 37286\n",
      "Accuracy: 0.6290837227494493(30559/48577)\n",
      "Pricision: 0.8195837579788661(30559/37286)\n",
      "Recall: 0.7675648969677008(37286/48577)\n"
     ]
    }
   ],
   "source": [
    "# 计算指标\n",
    "data_match['iscorrect'] = data_match[['ec_number', 'sresults_ec']].apply(lambda x: x['ec_number'] == x['sresults_ec'], axis=1) #判断EC号是否一致\n",
    "correct = sum(data_match['iscorrect'])\n",
    "find  = len(data_match)\n",
    "total = len(test)\n",
    "print('Total query records are: {0}'.format(total))\n",
    "print('Matched records are: {0}'.format(find))\n",
    "print('Accuracy: {0}({1}/{2})'.format(correct/total, correct, total))\n",
    "print('Pricision: {0}({1}/{2})'.format(correct/find, correct, find))\n",
    "print('Recall: {0}({1}/{2})'.format(find/total, find, total))"
   ]
  },
  {
   "cell_type": "code",
   "execution_count": 80,
   "metadata": {
    "collapsed": true,
    "jupyter": {
     "outputs_hidden": true
    },
    "tags": []
   },
   "outputs": [
    {
     "data": {
      "text/plain": [
       "count    529270.000000\n",
       "mean        328.990479\n",
       "std         195.433691\n",
       "min          60.000000\n",
       "25%         177.000000\n",
       "50%         293.000000\n",
       "75%         435.000000\n",
       "max        1000.000000\n",
       "Name: seqlength, dtype: float64"
      ]
     },
     "execution_count": 80,
     "metadata": {},
     "output_type": "execute_result"
    }
   ],
   "source": [
    "sprot_exp.seqlength.describe()"
   ]
  },
  {
   "cell_type": "markdown",
   "metadata": {},
   "source": [
    "### 4.2 使用机器学习方法"
   ]
  },
  {
   "cell_type": "code",
   "execution_count": 9,
   "metadata": {},
   "outputs": [],
   "source": [
    "trainset = train[['id', 'isemzyme','seq', 'seqlength']].reset_index(drop=True)\n",
    "testset = test[['id', 'isemzyme','seq', 'seqlength']].reset_index(drop=True)\n",
    "\n",
    "# MAX_SEQ_LENGTH = 1000 #定义序列最长的长度\n",
    "# trainset.seq = trainset.seq.map(lambda x : x[0:MAX_SEQ_LENGTH].ljust(MAX_SEQ_LENGTH, 'X'))\n",
    "# testset.seq = testset.seq.map(lambda x : x[0:MAX_SEQ_LENGTH].ljust(MAX_SEQ_LENGTH, 'X'))"
   ]
  },
  {
   "cell_type": "code",
   "execution_count": null,
   "metadata": {},
   "outputs": [],
   "source": []
  },
  {
   "cell_type": "code",
   "execution_count": 10,
   "metadata": {},
   "outputs": [],
   "source": [
    "f_train = funclib.dna_onehot(trainset) #训练集编码\n",
    "f_test = funclib.dna_onehot(testset) #测试集编码\n",
    "\n",
    "train_full = pd.concat([trainset, f_train], axis=1, join='inner' ) #拼合训练集\n",
    "test_full = pd.concat([testset, f_test], axis=1, join='inner' )    #拼合测试集"
   ]
  },
  {
   "cell_type": "code",
   "execution_count": 11,
   "metadata": {},
   "outputs": [],
   "source": [
    "X_train = train_full.iloc[:,4:]\n",
    "X_test = test_full.iloc[:,4:]\n",
    "Y_train = train_full.isemzyme.astype('int')\n",
    "Y_test = test_full.isemzyme.astype('int')\n",
    "\n",
    "X_train = np.array(X_train)\n",
    "X_test = np.array(X_test)\n",
    "Y_train = np.array(Y_train)\n",
    "Y_test = np.array(Y_test)"
   ]
  },
  {
   "cell_type": "code",
   "execution_count": null,
   "metadata": {},
   "outputs": [
    {
     "name": "stdout",
     "output_type": "stream",
     "text": [
      "baslineName \t accuracy \t precision(PPV) \t NPV \t\t recall \t f1 \t\t auroc \t\t auprc \t\t confusion Matrix\n",
      "lr \t\t0.614694 \t0.568831 \t\t0.681288 \t0.721568 \t0.636160 \t0.666294 \t0.579905 \t tp: 16363 fp: 12403 fn: 6314 tn: 13497\n",
      "[16:07:56] WARNING: ../src/learner.cc:1061: Starting in XGBoost 1.3.0, the default evaluation metric used with the objective 'binary:logistic' was changed from 'error' to 'logloss'. Explicitly set eval_metric if you'd like to restore the old behavior.\n",
      "xg \t\t0.670605 \t0.648659 \t\t0.689469 \t0.642281 \t0.645454 \t0.747822 \t0.693614 \t tp: 14565 fp: 7889 fn: 8112 tn: 18011\n",
      "dt \t\t0.629495 \t0.605616 \t\t0.649512 \t0.591569 \t0.598510 \t0.627112 \t0.548915 \t tp: 13415 fp: 8736 fn: 9262 tn: 17164\n",
      "rf \t\t0.694526 \t0.651876 \t\t0.742853 \t0.741765 \t0.693921 \t0.782771 \t0.743850 \t tp: 16821 fp: 8983 fn: 5856 tn: 16917\n"
     ]
    }
   ],
   "source": [
    "methods=['lr', 'xg', 'dt', 'rf', 'gbdt']\n",
    "print('baslineName', '\\t', 'accuracy','\\t', 'precision(PPV) \\t NPV \\t\\t', 'recall','\\t', 'f1', '\\t\\t', 'auroc','\\t\\t', 'auprc', '\\t\\t confusion Matrix')\n",
    "for method in methods:\n",
    "    funclib.evaluate(method, X_train, Y_train, X_test, Y_test)"
   ]
  },
  {
   "cell_type": "markdown",
   "metadata": {},
   "source": [
    "## 5. Unirep 特征"
   ]
  },
  {
   "cell_type": "code",
   "execution_count": 10,
   "metadata": {},
   "outputs": [],
   "source": [
    "t_thres = datetime.datetime(2010, 2, 10, 0, 0)\n",
    "\n",
    "#训练集\n",
    "train = sprot[sprot.date_integraged <= t_thres ].sort_values(by='date_integraged')\n",
    "#测试集\n",
    "test = sprot[sprot.date_integraged > t_thres ].sort_values(by='date_integraged')"
   ]
  },
  {
   "cell_type": "code",
   "execution_count": 10,
   "metadata": {},
   "outputs": [],
   "source": [
    "X_train = trainset['seq']\n",
    "Y_train = trainset.isemzyme.astype('int')\n",
    "\n",
    "X_test = testset['seq']\n",
    "Y_test = testset.isemzyme.astype('int')\n",
    "\n",
    "X_train = np.array(X_train)\n",
    "X_test = np.array(X_test)\n",
    "Y_train = np.array(Y_train)\n",
    "Y_test = np.array(Y_test)"
   ]
  },
  {
   "cell_type": "code",
   "execution_count": 14,
   "metadata": {},
   "outputs": [],
   "source": [
    "train['label'] = train.isemzyme.astype('int')\n",
    "test['label'] = test.isemzyme.astype('int')"
   ]
  },
  {
   "cell_type": "code",
   "execution_count": 18,
   "metadata": {},
   "outputs": [],
   "source": [
    "trainset = train[['seq', 'label']]\n",
    "testset = test[['seq', 'label']]"
   ]
  },
  {
   "cell_type": "code",
   "execution_count": 23,
   "metadata": {
    "collapsed": true,
    "jupyter": {
     "outputs_hidden": true
    },
    "tags": []
   },
   "outputs": [
    {
     "name": "stdout",
     "output_type": "stream",
     "text": []
    },
    {
     "name": "stdout",
     "output_type": "stream",
     "text": []
    },
    {
     "name": "stdout",
     "output_type": "stream",
     "text": []
    },
    {
     "name": "stdout",
     "output_type": "stream",
     "text": []
    },
    {
     "name": "stdout",
     "output_type": "stream",
     "text": []
    },
    {
     "name": "stdout",
     "output_type": "stream",
     "text": []
    },
    {
     "name": "stdout",
     "output_type": "stream",
     "text": []
    },
    {
     "name": "stdout",
     "output_type": "stream",
     "text": []
    },
    {
     "name": "stdout",
     "output_type": "stream",
     "text": []
    },
    {
     "name": "stdout",
     "output_type": "stream",
     "text": []
    },
    {
     "name": "stdout",
     "output_type": "stream",
     "text": []
    },
    {
     "name": "stdout",
     "output_type": "stream",
     "text": []
    },
    {
     "name": "stdout",
     "output_type": "stream",
     "text": []
    },
    {
     "name": "stdout",
     "output_type": "stream",
     "text": []
    }
   ],
   "source": [
    "step = 2000\n",
    "!rm -rf ./data/sprot/train_*.tsv\n",
    "counter = 1\n",
    "for i in range(0, len(trainset), step):\n",
    "    save = trainset[i:i+step].iloc[:,0:2]\n",
    "    save.to_csv('./data/sprot/train_{0}.tsv'.format(counter), sep='\\t',  index=0)\n",
    "    counter +=1"
   ]
  },
  {
   "cell_type": "code",
   "execution_count": 22,
   "metadata": {},
   "outputs": [
    {
     "name": "stdout",
     "output_type": "stream",
     "text": []
    },
    {
     "name": "stdout",
     "output_type": "stream",
     "text": []
    }
   ],
   "source": [
    "step = 2000\n",
    "!rm -rf ./data/sprot/test_*.tsv\n",
    "counter = 1\n",
    "for i in range(0, len(testset), step):\n",
    "    save = testset[i:i+step].iloc[:,0:2]\n",
    "    save.to_csv('./data/sprot/test_{0}.tsv'.format(counter), sep='\\t',  index=0)\n",
    "    counter +=1"
   ]
  },
  {
   "cell_type": "code",
   "execution_count": null,
   "metadata": {},
   "outputs": [],
   "source": []
  },
  {
   "cell_type": "code",
   "execution_count": null,
   "metadata": {},
   "outputs": [],
   "source": []
  },
  {
   "cell_type": "code",
   "execution_count": null,
   "metadata": {},
   "outputs": [],
   "source": []
  },
  {
   "cell_type": "code",
   "execution_count": null,
   "metadata": {},
   "outputs": [],
   "source": []
  },
  {
   "cell_type": "code",
   "execution_count": null,
   "metadata": {},
   "outputs": [],
   "source": []
  }
 ],
 "metadata": {
  "kernelspec": {
   "display_name": "py38",
   "language": "python",
   "name": "py38"
  },
  "language_info": {
   "codemirror_mode": {
    "name": "ipython",
    "version": 3
   },
   "file_extension": ".py",
   "mimetype": "text/x-python",
   "name": "python",
   "nbconvert_exporter": "python",
   "pygments_lexer": "ipython3",
   "version": "3.8.10"
  }
 },
 "nbformat": 4,
 "nbformat_minor": 4
}
