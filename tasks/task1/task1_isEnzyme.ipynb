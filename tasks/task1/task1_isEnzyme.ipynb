{
 "cells": [
  {
   "cell_type": "markdown",
   "metadata": {},
   "source": [
    "# Task1. 预测是酶还是非酶\n",
    "\n",
    "> author: Shizhenkun   \n",
    "> email: zhenkun.shi@tib.cas.cn   \n",
    "> date: 2021-04-27  \n",
    "\n",
    "## 任务简介\n",
    "该任务通过给定蛋白序列，预测该该蛋白是酶还是非酶。本任务所使用的数据集为Sport，对数据集的数据中进行学习，数据中有EC号被认为是酶，没有EC号的被认为是非酶。\n",
    "\n",
    "\n",
    "## 数据统计\n",
    "- 数据源Sprot，共有数据564,638条，其中有EC号的数据270,236条，无EC号的数据294402条。\n",
    "- 将数据集中的所有数据按照时间排序，～90%作为训练集，～10%作为测试集，找到对应时间节点为2010年2月9日。\n",
    "- 以2010年2月10日为时间节点，之前的数据为训练集，之后的数据为测试集，具体数据集统计如下： \n",
    "\n",
    "\n",
    "\n",
    "\n",
    "\n",
    "|     Items    | 酶     |   非酶    |合计                            |\n",
    "| ------------ | -------| -------- |-------------------------------|\n",
    "| 训练集        | 245771 | 264719   | 510490（510490/564638≈90.41%） |\n",
    "| 测试集        | 24465  | 29683    | 54148（54148/564638≈9.59%）    |\n",
    "\n",
    "\n",
    "## 实验方法\n",
    "\n",
    "- 同源比对：使用训练集建立比对库，然后将测试集与之比对，取最优的比对结果，比对结果的（酶/非酶）属性当作测试集的测试结果\n",
    "- 传统机器学习方法\n",
    "- 深度学习方法\n",
    "\n",
    "\n",
    "## 实验结果\n",
    "\n",
    "### 1. 未对序列长度进行过滤\n",
    "\n",
    "|Methods   | Accuracy                        |             Precision           |           Recall               |F1   |Group|\n",
    "| ---------| ------------------------------- | ------------------------------- |--------------------------------|-----|      |\n",
    "| 同源比对  |  0.6243628573539189(33808/54148) | 0.8220590380781014(33808/41126) |0.7595109699342543(41126/54148)|      |NO LENGTH FILTERING|\n",
    "lr \t|\t0.619377 |\t0.562195 |\t0.712160 |\t0.628354 | NO LENGTH FILTERING |\n",
    "xg \t|\t0.678363 |\t0.647462 |\t0.632536 |\t0.639912 | NO LENGTH FILTERING |\n",
    "dt \t|\t0.640725 |\t0.605286 |\t0.588759 |\t0.596909 | NO LENGTH FILTERING |\n",
    "rf \t|\t0.696905 |\t0.654373 |\t0.697650 |\t0.675319 | NO LENGTH FILTERING |\n",
    "gbdt|\t0.633024 |\t0.571013 |\t0.754956 |\t0.650226 | NO LENGTH FILTERING |\n",
    "\n",
    "Ecpred command:\n",
    "java -jar ECPred.jar weighted /home/shizhenkun/codebase/uniprot/data/sprot_with_ec_query.fasta /home/shizhenkun/codebase/uniprot/deeppred/ECPred/ /home/shizhenkun/codebase/uniprot/temp/ /home/shizhenkun/codebase/uniprot/results/ecpred/sprot_with_ec_query_ecpred_results.tsv\n",
    "\n"
   ]
  },
  {
   "cell_type": "code",
   "execution_count": null,
   "metadata": {},
   "outputs": [],
   "source": []
  },
  {
   "cell_type": "markdown",
   "metadata": {},
   "source": [
    "## 1. 导入必要的包、定义公共函数"
   ]
  },
  {
   "cell_type": "code",
   "execution_count": null,
   "metadata": {
    "tags": []
   },
   "outputs": [],
   "source": [
    "import numpy as np\n",
    "import pandas as pd\n",
    "import random\n",
    "import time\n",
    "import gzip\n",
    "import re\n",
    "from Bio import SeqIO\n",
    "import datetime\n",
    "import sys\n",
    "\n",
    "from functools import reduce\n",
    "import matplotlib.pyplot as plt\n",
    "\n",
    "sys.path.append(\"../../tools/\")\n",
    "import commontools\n",
    "import funclib\n"
   ]
  },
  {
   "cell_type": "markdown",
   "metadata": {},
   "source": [
    "## 2. 加载数据"
   ]
  },
  {
   "cell_type": "code",
   "execution_count": 2,
   "metadata": {
    "tags": []
   },
   "outputs": [
    {
     "data": {
      "text/html": [
       "<div>\n",
       "<style scoped>\n",
       "    .dataframe tbody tr th:only-of-type {\n",
       "        vertical-align: middle;\n",
       "    }\n",
       "\n",
       "    .dataframe tbody tr th {\n",
       "        vertical-align: top;\n",
       "    }\n",
       "\n",
       "    .dataframe thead th {\n",
       "        text-align: right;\n",
       "    }\n",
       "</style>\n",
       "<table border=\"1\" class=\"dataframe\">\n",
       "  <thead>\n",
       "    <tr style=\"text-align: right;\">\n",
       "      <th></th>\n",
       "      <th>id</th>\n",
       "      <th>isemzyme</th>\n",
       "      <th>isMultiFunctional</th>\n",
       "      <th>functionCounts</th>\n",
       "      <th>ec_number</th>\n",
       "      <th>date_integraged</th>\n",
       "      <th>date_sequence_update</th>\n",
       "      <th>date_annotation_update</th>\n",
       "      <th>seq</th>\n",
       "      <th>seqlength</th>\n",
       "    </tr>\n",
       "  </thead>\n",
       "  <tbody>\n",
       "    <tr>\n",
       "      <th>0</th>\n",
       "      <td>P02802</td>\n",
       "      <td>False</td>\n",
       "      <td>False</td>\n",
       "      <td>1</td>\n",
       "      <td>-</td>\n",
       "      <td>1986-07-21</td>\n",
       "      <td>1986-07-21</td>\n",
       "      <td>2021-04-07</td>\n",
       "      <td>MDPNCSCSTGGSCTCTSSCACKNCKCTSCKKSCCSCCPVGCSKCAQ...</td>\n",
       "      <td>61</td>\n",
       "    </tr>\n",
       "    <tr>\n",
       "      <th>1</th>\n",
       "      <td>P02732</td>\n",
       "      <td>False</td>\n",
       "      <td>False</td>\n",
       "      <td>1</td>\n",
       "      <td>-</td>\n",
       "      <td>1986-07-21</td>\n",
       "      <td>1986-07-21</td>\n",
       "      <td>2019-12-11</td>\n",
       "      <td>AATAATAATAATAATAATAATAATAATAATA</td>\n",
       "      <td>31</td>\n",
       "    </tr>\n",
       "  </tbody>\n",
       "</table>\n",
       "</div>"
      ],
      "text/plain": [
       "       id  isemzyme  isMultiFunctional  functionCounts ec_number  \\\n",
       "0  P02802     False              False               1         -   \n",
       "1  P02732     False              False               1         -   \n",
       "\n",
       "  date_integraged date_sequence_update date_annotation_update  \\\n",
       "0      1986-07-21           1986-07-21             2021-04-07   \n",
       "1      1986-07-21           1986-07-21             2019-12-11   \n",
       "\n",
       "                                                 seq  seqlength  \n",
       "0  MDPNCSCSTGGSCTCTSSCACKNCKCTSCKKSCCSCCPVGCSKCAQ...         61  \n",
       "1                    AATAATAATAATAATAATAATAATAATAATA         31  "
      ]
     },
     "execution_count": 2,
     "metadata": {},
     "output_type": "execute_result"
    }
   ],
   "source": [
    "table_head = [  'id', \n",
    "                'isemzyme',\n",
    "                'isMultiFunctional', \n",
    "                'functionCounts', \n",
    "                'ec_number', \n",
    "                'date_integraged',\n",
    "                'date_sequence_update',\n",
    "                'date_annotation_update',\n",
    "                'seq', \n",
    "                'seqlength'\n",
    "            ]\n",
    "\n",
    "#加载数据并转换时间格式\n",
    "sprot = pd.read_csv('../../data/sprot_full.tsv', sep='\\t',names=table_head) #读入文件\n",
    "sprot.date_integraged = pd.to_datetime(sprot['date_integraged'])\n",
    "sprot.date_sequence_update = pd.to_datetime(sprot['date_sequence_update'])\n",
    "sprot.date_annotation_update = pd.to_datetime(sprot['date_annotation_update'])\n",
    "\n",
    "sprot.head(2)"
   ]
  },
  {
   "cell_type": "markdown",
   "metadata": {},
   "source": [
    "## 3. 划分训练集、测试集"
   ]
  },
  {
   "cell_type": "code",
   "execution_count": 3,
   "metadata": {
    "tags": []
   },
   "outputs": [],
   "source": [
    "thres = datetime.datetime(2010, 2, 10, 0, 0)\n",
    "\n",
    "#训练集\n",
    "train = sprot[sprot.date_integraged <= thres ].sort_values(by='date_integraged')\n",
    "#测试集\n",
    "test = sprot[sprot.date_integraged > thres ].sort_values(by='date_integraged')\n",
    "\n",
    "# train.to_csv('./data/train.tsv', sep='\\t', columns=['id', 'isemzyme','seq'], index=0)\n",
    "# test.to_csv('./data/test.tsv', sep='\\t', columns=['id', 'isemzyme','seq'], index=0)\n",
    "\n",
    "# table2fasta(train, './data/train.fasta')\n",
    "# table2fasta(test, './data/test.fasta')"
   ]
  },
  {
   "cell_type": "markdown",
   "metadata": {
    "tags": []
   },
   "source": [
    "## 4. 二分类\n",
    "### 4.1 同源比对"
   ]
  },
  {
   "cell_type": "code",
   "execution_count": 5,
   "metadata": {
    "collapsed": true,
    "jupyter": {
     "outputs_hidden": true,
     "source_hidden": true
    },
    "tags": []
   },
   "outputs": [
    {
     "name": "stdout",
     "output_type": "stream",
     "text": [
      "diamond v2.0.8.146 (C) Max Planck Society for the Advancement of Science\n",
      "Documentation, support and updates available at http://www.diamondsearch.org\n",
      "\n",
      "#CPU threads: 32\n",
      "Scoring parameters: (Matrix=BLOSUM62 Lambda=0.267 K=0.041 Penalties=11/1)\n",
      "Database input file: ./data/train.fasta\n",
      "Opening the database file...  [0.04s]\n",
      "Loading sequences...  [0.594s]\n",
      "Masking sequences...  [0.448s]\n",
      "Writing sequences...  [0.108s]\n",
      "Hashing sequences...  [0.048s]\n",
      "Loading sequences...  [0s]\n",
      "Writing trailer...  [0.002s]\n",
      "Closing the input file...  [0.004s]\n",
      "Closing the database file...  [1.761s]\n",
      "Database hash = c2598be544ca9c047fa6890d99402377\n",
      "Processed 510490 sequences, 180136482 letters.\n",
      "Total time = 3.008s\n",
      "diamond v2.0.8.146 (C) Max Planck Society for the Advancement of Science\n",
      "Documentation, support and updates available at http://www.diamondsearch.org\n",
      "\n",
      "#CPU threads: 32\n",
      "Scoring parameters: (Matrix=BLOSUM62 Lambda=0.267 K=0.041 Penalties=11/1)\n",
      "Temporary directory: ./data\n",
      "#Target sequences to report alignments for: 1\n",
      "Opening the database...  [0.069s]\n",
      "Database: ./data/train.dmnd (type: Diamond database, sequences: 510490, letters: 180136482)\n",
      "Block size = 5000000000\n",
      "Opening the input file...  [0.011s]\n",
      "Opening the output file...  [0.002s]\n",
      "Loading query sequences...  [0.067s]\n",
      "Masking queries...  [0.067s]\n",
      "Building query seed set...  [0.036s]\n",
      "Algorithm: Double-indexed\n",
      "Building query histograms...  [0.04s]\n",
      "Allocating buffers...  [0s]\n",
      "Loading reference sequences...  [0.222s]\n",
      "Masking reference...  [0.432s]\n",
      "Initializing temporary storage...  [0.053s]\n",
      "Building reference histograms...  [0.25s]\n",
      "Allocating buffers...  [0s]\n",
      "Processing query block 1, reference block 1/1, shape 1/2.\n",
      "Building reference seed array...  [0.196s]\n",
      "Building query seed array...  [0.043s]\n",
      "Computing hash join...  [0.102s]\n",
      "Building seed filter...  [0.006s]\n",
      "Searching alignments...  [0.29s]\n",
      "Processing query block 1, reference block 1/1, shape 2/2.\n",
      "Building reference seed array...  [0.177s]\n",
      "Building query seed array...  [0.031s]\n",
      "Computing hash join...  [0.098s]\n",
      "Building seed filter...  [0.005s]\n",
      "Searching alignments...  [0.318s]\n",
      "Deallocating buffers...  [0.109s]\n",
      "Clearing query masking...  [0.007s]\n",
      "Computing alignments...  [5.545s]\n",
      "Deallocating reference...  [0.007s]\n",
      "Loading reference sequences...  [0s]\n",
      "Deallocating buffers...  [0.009s]\n",
      "Deallocating queries...  [0.001s]\n",
      "Loading query sequences...  [0s]\n",
      "Closing the input file...  [0.001s]\n",
      "Closing the output file...  [0.041s]\n",
      "Closing the database file...  [0.006s]\n",
      "Deallocating taxonomy...  [0s]\n",
      "Total time = 8.367s\n",
      "Reported 41128 pairwise alignments, 41128 HSPs.\n",
      "41128 queries aligned.\n"
     ]
    }
   ],
   "source": [
    "! diamond makedb --in ./data/train.fasta -d ./data/train.dmnd     #建库\n",
    "! diamond blastp -d ./data/train.dmnd  -q ./data/test.fasta -o ./data/test_fasta_results.tsv -b5 -c1 -k 1   #生成比对文件"
   ]
  },
  {
   "cell_type": "code",
   "execution_count": 6,
   "metadata": {
    "jupyter": {
     "source_hidden": true
    },
    "tags": []
   },
   "outputs": [],
   "source": [
    "#读入比对结果\n",
    "res_data = pd.read_csv('./data/test_fasta_results.tsv', sep='\\t', names=['id', 'sseqid', 'pident', 'length','mismatch','gapopen','qstart','qend','sstart','send','evalue','bitscore'])\n",
    "\n",
    "#匹配查询结果\n",
    "data_match = pd.merge(test,res_data, on=['id'], how='inner')"
   ]
  },
  {
   "cell_type": "code",
   "execution_count": 7,
   "metadata": {
    "collapsed": true,
    "jupyter": {
     "outputs_hidden": true,
     "source_hidden": true
    },
    "tags": []
   },
   "outputs": [
    {
     "name": "stdout",
     "output_type": "stream",
     "text": [
      "1000\n",
      "2000\n",
      "3000\n",
      "4000\n",
      "5000\n",
      "6000\n",
      "7000\n",
      "8000\n",
      "9000\n",
      "10000\n",
      "11000\n",
      "12000\n",
      "13000\n",
      "14000\n",
      "15000\n",
      "16000\n",
      "17000\n",
      "18000\n",
      "19000\n",
      "20000\n",
      "21000\n",
      "22000\n",
      "23000\n",
      "24000\n",
      "25000\n",
      "26000\n",
      "27000\n",
      "28000\n",
      "29000\n",
      "30000\n",
      "31000\n",
      "32000\n",
      "33000\n",
      "34000\n",
      "35000\n",
      "36000\n",
      "37000\n",
      "38000\n",
      "39000\n",
      "40000\n",
      "41000\n"
     ]
    },
    {
     "data": {
      "text/html": [
       "<div>\n",
       "<style scoped>\n",
       "    .dataframe tbody tr th:only-of-type {\n",
       "        vertical-align: middle;\n",
       "    }\n",
       "\n",
       "    .dataframe tbody tr th {\n",
       "        vertical-align: top;\n",
       "    }\n",
       "\n",
       "    .dataframe thead th {\n",
       "        text-align: right;\n",
       "    }\n",
       "</style>\n",
       "<table border=\"1\" class=\"dataframe\">\n",
       "  <thead>\n",
       "    <tr style=\"text-align: right;\">\n",
       "      <th></th>\n",
       "      <th>id</th>\n",
       "      <th>isemzyme</th>\n",
       "      <th>isMultiFunctional</th>\n",
       "      <th>functionCounts</th>\n",
       "      <th>ec_number</th>\n",
       "      <th>date_integraged</th>\n",
       "      <th>date_sequence_update</th>\n",
       "      <th>date_annotation_update</th>\n",
       "      <th>seq</th>\n",
       "      <th>seqlength</th>\n",
       "      <th>...</th>\n",
       "      <th>length</th>\n",
       "      <th>mismatch</th>\n",
       "      <th>gapopen</th>\n",
       "      <th>qstart</th>\n",
       "      <th>qend</th>\n",
       "      <th>sstart</th>\n",
       "      <th>send</th>\n",
       "      <th>evalue</th>\n",
       "      <th>bitscore</th>\n",
       "      <th>sresults_ec</th>\n",
       "    </tr>\n",
       "  </thead>\n",
       "  <tbody>\n",
       "    <tr>\n",
       "      <th>0</th>\n",
       "      <td>B3M1H7</td>\n",
       "      <td>False</td>\n",
       "      <td>False</td>\n",
       "      <td>1</td>\n",
       "      <td>-</td>\n",
       "      <td>2010-03-02</td>\n",
       "      <td>2008-09-02</td>\n",
       "      <td>2020-12-02</td>\n",
       "      <td>MESLSQLVKSTLPNYLSNLPIPDSVGGWFKLSFKDWLALIPPTVVV...</td>\n",
       "      <td>134</td>\n",
       "      <td>...</td>\n",
       "      <td>133</td>\n",
       "      <td>23</td>\n",
       "      <td>0</td>\n",
       "      <td>1</td>\n",
       "      <td>133</td>\n",
       "      <td>1</td>\n",
       "      <td>133</td>\n",
       "      <td>4.330000e-88</td>\n",
       "      <td>254.0</td>\n",
       "      <td>-</td>\n",
       "    </tr>\n",
       "    <tr>\n",
       "      <th>1</th>\n",
       "      <td>Q9UA93</td>\n",
       "      <td>False</td>\n",
       "      <td>False</td>\n",
       "      <td>1</td>\n",
       "      <td>-</td>\n",
       "      <td>2010-03-02</td>\n",
       "      <td>2000-05-01</td>\n",
       "      <td>2020-04-22</td>\n",
       "      <td>VLIIAVLFLAACQLTTAETSSRGKQKHRALRSTDKNSRMTKRCTPA...</td>\n",
       "      <td>74</td>\n",
       "      <td>...</td>\n",
       "      <td>68</td>\n",
       "      <td>24</td>\n",
       "      <td>0</td>\n",
       "      <td>1</td>\n",
       "      <td>68</td>\n",
       "      <td>6</td>\n",
       "      <td>73</td>\n",
       "      <td>6.290000e-24</td>\n",
       "      <td>88.6</td>\n",
       "      <td>-</td>\n",
       "    </tr>\n",
       "    <tr>\n",
       "      <th>2</th>\n",
       "      <td>Q9TVR4</td>\n",
       "      <td>False</td>\n",
       "      <td>False</td>\n",
       "      <td>1</td>\n",
       "      <td>-</td>\n",
       "      <td>2010-03-02</td>\n",
       "      <td>2000-05-01</td>\n",
       "      <td>2020-04-22</td>\n",
       "      <td>VLIIAVLFLTACQLTTAETSSRGKQKHRALRSTDKNSRMTKRCTPA...</td>\n",
       "      <td>74</td>\n",
       "      <td>...</td>\n",
       "      <td>68</td>\n",
       "      <td>23</td>\n",
       "      <td>0</td>\n",
       "      <td>1</td>\n",
       "      <td>68</td>\n",
       "      <td>6</td>\n",
       "      <td>73</td>\n",
       "      <td>7.670000e-25</td>\n",
       "      <td>90.9</td>\n",
       "      <td>-</td>\n",
       "    </tr>\n",
       "  </tbody>\n",
       "</table>\n",
       "<p>3 rows × 22 columns</p>\n",
       "</div>"
      ],
      "text/plain": [
       "       id  isemzyme  isMultiFunctional  functionCounts ec_number  \\\n",
       "0  B3M1H7     False              False               1         -   \n",
       "1  Q9UA93     False              False               1         -   \n",
       "2  Q9TVR4     False              False               1         -   \n",
       "\n",
       "  date_integraged date_sequence_update date_annotation_update  \\\n",
       "0      2010-03-02           2008-09-02             2020-12-02   \n",
       "1      2010-03-02           2000-05-01             2020-04-22   \n",
       "2      2010-03-02           2000-05-01             2020-04-22   \n",
       "\n",
       "                                                 seq  seqlength  ... length  \\\n",
       "0  MESLSQLVKSTLPNYLSNLPIPDSVGGWFKLSFKDWLALIPPTVVV...        134  ...    133   \n",
       "1  VLIIAVLFLAACQLTTAETSSRGKQKHRALRSTDKNSRMTKRCTPA...         74  ...     68   \n",
       "2  VLIIAVLFLTACQLTTAETSSRGKQKHRALRSTDKNSRMTKRCTPA...         74  ...     68   \n",
       "\n",
       "   mismatch  gapopen  qstart  qend  sstart  send        evalue  bitscore  \\\n",
       "0        23        0       1   133       1   133  4.330000e-88     254.0   \n",
       "1        24        0       1    68       6    73  6.290000e-24      88.6   \n",
       "2        23        0       1    68       6    73  7.670000e-25      90.9   \n",
       "\n",
       "   sresults_ec  \n",
       "0            -  \n",
       "1            -  \n",
       "2            -  \n",
       "\n",
       "[3 rows x 22 columns]"
      ]
     },
     "execution_count": 7,
     "metadata": {},
     "output_type": "execute_result"
    }
   ],
   "source": [
    "# 添加查询结果的EC号\n",
    "counter =0\n",
    "resArray =[]\n",
    "for i in range(len(res_data)):\n",
    "    counter+=1\n",
    "    mn = train[train['id']== res_data['sseqid'][i]]['ec_number'].values\n",
    "    resArray.append(mn)\n",
    "    if counter %1000 ==0:\n",
    "        print(counter)\n",
    "data_match['sresults_ec']=np.array(resArray) \n",
    "data_match.head(3)"
   ]
  },
  {
   "cell_type": "code",
   "execution_count": 19,
   "metadata": {
    "collapsed": true,
    "jupyter": {
     "outputs_hidden": true,
     "source_hidden": true
    },
    "tags": []
   },
   "outputs": [
    {
     "name": "stdout",
     "output_type": "stream",
     "text": [
      "Total query records are: 54148\n",
      "Matched records are: 41128\n",
      "Accuracy: 0.624325921548349(33806/54148)\n",
      "Pricision: 0.8219704337677495(33806/41128)\n",
      "Recall: 0.7595479057398242(41128/54148)\n"
     ]
    }
   ],
   "source": [
    "# 计算指标\n",
    "data_match['iscorrect'] = data_match[['ec_number', 'sresults_ec']].apply(lambda x: x['ec_number'] == x['sresults_ec'], axis=1) #判断EC号是否一致\n",
    "correct = sum(data_match['iscorrect'])\n",
    "find  = len(data_match)\n",
    "total = len(test)\n",
    "print('Total query records are: {0}'.format(total))\n",
    "print('Matched records are: {0}'.format(find))\n",
    "print('Accuracy: {0}({1}/{2})'.format(correct/total, correct, total))\n",
    "print('Pricision: {0}({1}/{2})'.format(correct/find, correct, find))\n",
    "print('Recall: {0}({1}/{2})'.format(find/total, find, total))"
   ]
  },
  {
   "cell_type": "code",
   "execution_count": 10,
   "metadata": {
    "collapsed": true,
    "jupyter": {
     "outputs_hidden": true,
     "source_hidden": true
    },
    "tags": []
   },
   "outputs": [
    {
     "data": {
      "text/plain": [
       "count    564638.000000\n",
       "mean        360.442643\n",
       "std         336.460236\n",
       "min           2.000000\n",
       "25%         169.000000\n",
       "50%         294.000000\n",
       "75%         449.000000\n",
       "max       35213.000000\n",
       "Name: seqlength, dtype: float64"
      ]
     },
     "execution_count": 10,
     "metadata": {},
     "output_type": "execute_result"
    }
   ],
   "source": [
    "sprot.seqlength.describe()"
   ]
  },
  {
   "cell_type": "markdown",
   "metadata": {},
   "source": [
    "### 4.2 使用机器学习方法"
   ]
  },
  {
   "cell_type": "code",
   "execution_count": 21,
   "metadata": {},
   "outputs": [],
   "source": [
    "trainset = train[['id', 'isemzyme','seq', 'seqlength']].reset_index(drop=True)\n",
    "testset = test[['id', 'isemzyme','seq', 'seqlength']].reset_index(drop=True)\n",
    "\n",
    "MAX_SEQ_LENGTH = 400 #定义序列最长的长度\n",
    "trainset.seq = trainset.seq.map(lambda x : x[0:MAX_SEQ_LENGTH].ljust(MAX_SEQ_LENGTH, 'X'))\n",
    "testset.seq = testset.seq.map(lambda x : x[0:MAX_SEQ_LENGTH].ljust(MAX_SEQ_LENGTH, 'X'))"
   ]
  },
  {
   "cell_type": "code",
   "execution_count": 22,
   "metadata": {},
   "outputs": [],
   "source": [
    "f_train = dna_onehot(trainset) #训练集编码\n",
    "f_test = dna_onehot(testset) #测试集编码\n",
    "\n",
    "train_full = pd.concat([trainset, f_train], axis=1, join='inner' ) #拼合训练集\n",
    "test_full = pd.concat([testset, f_test], axis=1, join='inner' )    #拼合测试集"
   ]
  },
  {
   "cell_type": "code",
   "execution_count": 23,
   "metadata": {},
   "outputs": [],
   "source": [
    "X_train = train_full.iloc[:,4:]\n",
    "X_test = test_full.iloc[:,4:]\n",
    "Y_train = train_full.isemzyme.astype('int')\n",
    "Y_test = test_full.isemzyme.astype('int')\n",
    "\n",
    "X_train = np.array(X_train)\n",
    "X_test = np.array(X_test)\n",
    "Y_train = np.array(Y_train)\n",
    "Y_test = np.array(Y_test)"
   ]
  },
  {
   "cell_type": "code",
   "execution_count": 14,
   "metadata": {},
   "outputs": [
    {
     "name": "stdout",
     "output_type": "stream",
     "text": [
      "baslineName \t accuracy \t precision(PPV) \t NPV \t\t recall \t f1 \t\t auroc \t\t auprc \t\t confusion Matrix\n",
      "lr \t\t0.619377 \t0.562195 \t\t0.695902 \t0.712160 \t0.628354 \t0.676836 \t0.571420 \t tp: 17423 fp: 13568 fn: 7042 tn: 16115\n",
      "[03:11:31] WARNING: ../src/learner.cc:1061: Starting in XGBoost 1.3.0, the default evaluation metric used with the objective 'binary:logistic' was changed from 'error' to 'logloss'. Explicitly set eval_metric if you'd like to restore the old behavior.\n",
      "xg \t\t0.678363 \t0.647462 \t\t0.702780 \t0.632536 \t0.639912 \t0.755800 \t0.689642 \t tp: 15475 fp: 8426 fn: 8990 tn: 21257\n",
      "dt \t\t0.640725 \t0.605286 \t\t0.668512 \t0.588759 \t0.596909 \t0.636148 \t0.542188 \t tp: 14404 fp: 9393 fn: 10061 tn: 20290\n",
      "rf \t\t0.696905 \t0.654373 \t\t0.736433 \t0.697650 \t0.675319 \t0.790402 \t0.740078 \t tp: 17068 fp: 9015 fn: 7397 tn: 20668\n",
      "gbdt \t\t0.633024 \t0.571013 \t\t0.725025 \t0.754956 \t0.650226 \t0.703792 \t0.623460 \t tp: 18470 fp: 13876 fn: 5995 tn: 15807\n"
     ]
    }
   ],
   "source": [
    "methods=['lr', 'xg', 'dt', 'rf', 'gbdt']\n",
    "print('baslineName', '\\t', 'accuracy','\\t', 'precision(PPV) \\t NPV \\t\\t', 'recall','\\t', 'f1', '\\t\\t', 'auroc','\\t\\t', 'auprc', '\\t\\t confusion Matrix')\n",
    "for method in methods:\n",
    "    function.evaluate(method, X_train, Y_train, X_test, Y_test)"
   ]
  },
  {
   "cell_type": "code",
   "execution_count": 24,
   "metadata": {},
   "outputs": [
    {
     "name": "stdout",
     "output_type": "stream",
     "text": [
      "baslineName \t accuracy \t precision(PPV) \t NPV \t\t recall \t f1 \t\t auroc \t\t auprc \t\t confusion Matrix\n",
      "lr \t\t0.620171 \t0.560333 \t\t0.708661 \t0.739873 \t0.637707 \t0.672616 \t0.564063 \t tp: 18101 fp: 14203 fn: 6364 tn: 15480\n",
      "[05:33:23] WARNING: ../src/learner.cc:1061: Starting in XGBoost 1.3.0, the default evaluation metric used with the objective 'binary:logistic' was changed from 'error' to 'logloss'. Explicitly set eval_metric if you'd like to restore the old behavior.\n",
      "xg \t\t0.675962 \t0.644537 \t\t0.700857 \t0.630574 \t0.637479 \t0.752133 \t0.683886 \t tp: 15427 fp: 8508 fn: 9038 tn: 21175\n",
      "dt \t\t0.638251 \t0.601897 \t\t0.667042 \t0.588759 \t0.595256 \t0.634066 \t0.540324 \t tp: 14404 fp: 9527 fn: 10061 tn: 20156\n",
      "rf \t\t0.693987 \t0.640435 \t\t0.751795 \t0.735827 \t0.684825 \t0.784831 \t0.731240 \t tp: 18002 fp: 10107 fn: 6463 tn: 19576\n",
      "gbdt \t\t0.633615 \t0.569193 \t\t0.737548 \t0.777723 \t0.657316 \t0.703348 \t0.619026 \t tp: 19027 fp: 14401 fn: 5438 tn: 15282\n"
     ]
    }
   ],
   "source": [
    "#过滤400\n",
    "methods=['lr', 'xg', 'dt', 'rf', 'gbdt']\n",
    "print('baslineName', '\\t', 'accuracy','\\t', 'precision(PPV) \\t NPV \\t\\t', 'recall','\\t', 'f1', '\\t\\t', 'auroc','\\t\\t', 'auprc', '\\t\\t confusion Matrix')\n",
    "for method in methods:\n",
    "    function.evaluate(method, X_train, Y_train, X_test, Y_test)"
   ]
  },
  {
   "cell_type": "code",
   "execution_count": null,
   "metadata": {},
   "outputs": [],
   "source": [
    "# 训练集筛选50bp到500bp，测试集不变"
   ]
  },
  {
   "cell_type": "code",
   "execution_count": 25,
   "metadata": {},
   "outputs": [],
   "source": [
    "trainset = train[['id', 'isemzyme','seq', 'seqlength']].reset_index(drop=True)\n",
    "testset = test[['id', 'isemzyme','seq', 'seqlength']].reset_index(drop=True)\n",
    "\n",
    "# MAX_SEQ_LENGTH = 400 #定义序列最长的长度\n",
    "# trainset.seq = trainset.seq.map(lambda x : x[0:MAX_SEQ_LENGTH].ljust(MAX_SEQ_LENGTH, 'X'))\n",
    "# testset.seq = testset.seq.map(lambda x : x[0:MAX_SEQ_LENGTH].ljust(MAX_SEQ_LENGTH, 'X'))"
   ]
  },
  {
   "cell_type": "code",
   "execution_count": 27,
   "metadata": {
    "tags": []
   },
   "outputs": [],
   "source": [
    "trainset = trainset[trainset.seqlength>=50]"
   ]
  },
  {
   "cell_type": "code",
   "execution_count": 28,
   "metadata": {},
   "outputs": [
    {
     "name": "stderr",
     "output_type": "stream",
     "text": [
      "/home/shizhenkun/anaconda3/envs/jupyterlab-debugger/lib/python3.9/site-packages/pandas/core/generic.py:5494: SettingWithCopyWarning: \n",
      "A value is trying to be set on a copy of a slice from a DataFrame.\n",
      "Try using .loc[row_indexer,col_indexer] = value instead\n",
      "\n",
      "See the caveats in the documentation: https://pandas.pydata.org/pandas-docs/stable/user_guide/indexing.html#returning-a-view-versus-a-copy\n",
      "  self[name] = value\n"
     ]
    }
   ],
   "source": [
    "MAX_SEQ_LENGTH = 500 #定义序列最长的长度\n",
    "trainset.seq = trainset.seq.map(lambda x : x[0:MAX_SEQ_LENGTH].ljust(MAX_SEQ_LENGTH, 'X'))\n",
    "testset.seq = testset.seq.map(lambda x : x[0:MAX_SEQ_LENGTH].ljust(MAX_SEQ_LENGTH, 'X'))"
   ]
  },
  {
   "cell_type": "code",
   "execution_count": 29,
   "metadata": {},
   "outputs": [],
   "source": [
    "f_train = dna_onehot(trainset) #训练集编码\n",
    "f_test = dna_onehot(testset) #测试集编码\n",
    "train_full = pd.concat([trainset, f_train], axis=1, join='inner' ) #拼合训练集\n",
    "test_full = pd.concat([testset, f_test], axis=1, join='inner' )    #拼合测试集\n",
    "\n",
    "X_train = train_full.iloc[:,4:]\n",
    "X_test = test_full.iloc[:,4:]\n",
    "Y_train = train_full.isemzyme.astype('int')\n",
    "Y_test = test_full.isemzyme.astype('int')\n",
    "\n",
    "X_train = np.array(X_train)\n",
    "X_test = np.array(X_test)\n",
    "Y_train = np.array(Y_train)\n",
    "Y_test = np.array(Y_test)"
   ]
  },
  {
   "cell_type": "code",
   "execution_count": null,
   "metadata": {},
   "outputs": [
    {
     "name": "stdout",
     "output_type": "stream",
     "text": [
      "baslineName \t accuracy \t precision(PPV) \t NPV \t\t recall \t f1 \t\t auroc \t\t auprc \t\t confusion Matrix\n",
      "lr \t\t0.493555 \t0.408692 \t\t0.529776 \t0.270591 \t0.325603 \t0.455357 \t0.419394 \t tp: 6620 fp: 9578 fn: 17845 tn: 20105\n",
      "[21:12:31] WARNING: ../src/learner.cc:1061: Starting in XGBoost 1.3.0, the default evaluation metric used with the objective 'binary:logistic' was changed from 'error' to 'logloss'. Explicitly set eval_metric if you'd like to restore the old behavior.\n",
      "xg \t\t0.545154 \t0.495353 \t\t0.569229 \t0.357286 \t0.415141 \t0.526119 \t0.495626 \t tp: 8741 fp: 8905 fn: 15724 tn: 20778\n",
      "dt \t\t0.502512 \t0.450279 \t\t0.546877 \t0.457715 \t0.453967 \t0.499028 \t0.450720 \t tp: 11198 fp: 13671 fn: 13267 tn: 16012\n"
     ]
    }
   ],
   "source": [
    "methods=['lr', 'xg', 'dt', 'rf', 'gbdt']\n",
    "print('baslineName', '\\t', 'accuracy','\\t', 'precision(PPV) \\t NPV \\t\\t', 'recall','\\t', 'f1', '\\t\\t', 'auroc','\\t\\t', 'auprc', '\\t\\t confusion Matrix')\n",
    "for method in methods:\n",
    "    function.evaluate(method, X_train, Y_train, X_test, Y_test)"
   ]
  },
  {
   "cell_type": "code",
   "execution_count": 4,
   "metadata": {},
   "outputs": [],
   "source": [
    "trainset = train[['id', 'isemzyme','seq', 'seqlength']].reset_index(drop=True)\n",
    "testset = test[['id', 'isemzyme','seq', 'seqlength']].reset_index(drop=True)\n",
    "\n",
    "trainset = trainset[trainset.seqlength>=50]\n",
    "testset = testset[testset.seqlength>=50]\n",
    "\n",
    "MAX_SEQ_LENGTH = 500 #定义序列最长的长度\n",
    "trainset.seq = trainset.seq.map(lambda x : x[0:MAX_SEQ_LENGTH].ljust(MAX_SEQ_LENGTH, 'X'))\n",
    "testset.seq = testset.seq.map(lambda x : x[0:MAX_SEQ_LENGTH].ljust(MAX_SEQ_LENGTH, 'X'))\n",
    "\n"
   ]
  },
  {
   "cell_type": "code",
   "execution_count": null,
   "metadata": {},
   "outputs": [
    {
     "name": "stdout",
     "output_type": "stream",
     "text": [
      "baslineName \t accuracy \t precision(PPV) \t NPV \t\t recall \t f1 \t\t auroc \t\t auprc \t\t confusion Matrix\n"
     ]
    }
   ],
   "source": [
    "f_train = funclib.dna_onehot(trainset) #训练集编码\n",
    "f_test = funclib.dna_onehot(testset) #测试集编码\n",
    "train_full = pd.concat([trainset, f_train], axis=1, join='inner' ) #拼合训练集\n",
    "test_full = pd.concat([testset, f_test], axis=1, join='inner' )    #拼合测试集\n",
    "\n",
    "X_train = train_full.iloc[:,4:]\n",
    "X_test = test_full.iloc[:,4:]\n",
    "Y_train = train_full.isemzyme.astype('int')\n",
    "Y_test = test_full.isemzyme.astype('int')\n",
    "\n",
    "methods=['lr', 'xg', 'dt', 'rf', 'gbdt']\n",
    "print('baslineName', '\\t', 'accuracy','\\t', 'precision(PPV) \\t NPV \\t\\t', 'recall','\\t', 'f1', '\\t\\t', 'auroc','\\t\\t', 'auprc', '\\t\\t confusion Matrix')\n",
    "for method in methods:\n",
    "    funclib.evaluate(method, X_train, Y_train, X_test, Y_test)"
   ]
  }
 ],
 "metadata": {
  "kernelspec": {
   "display_name": "Python 3.9 (XPython)",
   "language": "python",
   "name": "xpython"
  },
  "language_info": {
   "file_extension": ".py",
   "mimetype": "text/x-python",
   "name": "python",
   "version": "3.9.2"
  }
 },
 "nbformat": 4,
 "nbformat_minor": 4
}
