{
 "cells": [
  {
   "cell_type": "code",
   "execution_count": null,
   "id": "ece09b53-04ff-4a19-985b-31390424568d",
   "metadata": {},
   "outputs": [],
   "source": []
  },
  {
   "cell_type": "code",
   "execution_count": 1,
   "id": "d27ee982-fdaf-4cac-a711-3b8e7e13a543",
   "metadata": {},
   "outputs": [],
   "source": [
    "import numpy as np\n",
    "import pandas as pd\n",
    "from tensorflow import keras\n",
    "from tensorflow.keras import layers\n"
   ]
  },
  {
   "cell_type": "code",
   "execution_count": 2,
   "id": "2b9cc642-431b-4942-81ea-4f47475961cd",
   "metadata": {},
   "outputs": [],
   "source": [
    "max_features = 20000  # Only consider the top 20k words\n",
    "maxlen = 200  # Only consider the first 200 words of each movie review"
   ]
  },
  {
   "cell_type": "code",
   "execution_count": 3,
   "id": "cab33a81-4be4-42c7-8db8-afd6fad753fe",
   "metadata": {},
   "outputs": [
    {
     "name": "stdout",
     "output_type": "stream",
     "text": [
      "Model: \"model\"\n",
      "_________________________________________________________________\n",
      "Layer (type)                 Output Shape              Param #   \n",
      "=================================================================\n",
      "input_1 (InputLayer)         [(None, None)]            0         \n",
      "_________________________________________________________________\n",
      "embedding (Embedding)        (None, None, 128)         2560000   \n",
      "_________________________________________________________________\n",
      "bidirectional (Bidirectional (None, None, 128)         98816     \n",
      "_________________________________________________________________\n",
      "bidirectional_1 (Bidirection (None, 128)               98816     \n",
      "_________________________________________________________________\n",
      "dense (Dense)                (None, 1)                 129       \n",
      "=================================================================\n",
      "Total params: 2,757,761\n",
      "Trainable params: 2,757,761\n",
      "Non-trainable params: 0\n",
      "_________________________________________________________________\n"
     ]
    }
   ],
   "source": [
    "# Input for variable-length sequences of integers\n",
    "inputs = keras.Input(shape=(None,), dtype=\"int32\")\n",
    "# Embed each integer in a 128-dimensional vector\n",
    "x = layers.Embedding(max_features, 128)(inputs)\n",
    "# Add 2 bidirectional LSTMs\n",
    "x = layers.Bidirectional(layers.LSTM(64, return_sequences=True))(x)\n",
    "x = layers.Bidirectional(layers.LSTM(64))(x)\n",
    "# Add a classifier\n",
    "outputs = layers.Dense(1, activation=\"sigmoid\")(x)\n",
    "model = keras.Model(inputs, outputs)\n",
    "model.summary()"
   ]
  },
  {
   "cell_type": "code",
   "execution_count": 9,
   "id": "6bb56f10-dacf-48d2-81a6-109485fc4682",
   "metadata": {},
   "outputs": [
    {
     "name": "stdout",
     "output_type": "stream",
     "text": [
      "25000 Training sequences\n",
      "25000 Validation sequences\n"
     ]
    }
   ],
   "source": [
    "(x_train, y_train), (x_val, y_val) = keras.datasets.imdb.load_data(\n",
    "    num_words=max_features\n",
    ")\n",
    "print(len(x_train), \"Training sequences\")\n",
    "print(len(x_val), \"Validation sequences\")\n",
    "x_train = keras.preprocessing.sequence.pad_sequences(x_train, maxlen=maxlen)\n",
    "x_val = keras.preprocessing.sequence.pad_sequences(x_val, maxlen=maxlen)"
   ]
  },
  {
   "cell_type": "code",
   "execution_count": 6,
   "id": "7df688f4-4801-45ef-93bc-dcc5a5d13ef3",
   "metadata": {},
   "outputs": [
    {
     "data": {
      "text/plain": [
       "array([1, 0, 0, ..., 0, 1, 0])"
      ]
     },
     "execution_count": 6,
     "metadata": {},
     "output_type": "execute_result"
    }
   ],
   "source": [
    "y_train"
   ]
  },
  {
   "cell_type": "code",
   "execution_count": 10,
   "id": "5ca79e74-8ba4-478d-8b36-60f952a7a6b4",
   "metadata": {},
   "outputs": [
    {
     "name": "stdout",
     "output_type": "stream",
     "text": [
      "Epoch 1/2\n"
     ]
    },
    {
     "ename": "CancelledError",
     "evalue": " [_Derived_]RecvAsync is cancelled.\n\t [[{{node Adam/Adam/update/AssignSubVariableOp/_37}}]]\n\t [[gradient_tape/model/embedding/embedding_lookup/Reshape/_34]] [Op:__inference_train_function_28317]\n\nFunction call stack:\ntrain_function\n",
     "output_type": "error",
     "traceback": [
      "\u001b[0;31m---------------------------------------------------------------------------\u001b[0m\n\u001b[0;31mCancelledError\u001b[0m                            Traceback (most recent call last)",
      "File \u001b[0;34m/home/shizhenkun/anaconda3/envs/jupyterlab-debugger/lib/python3.9/site-packages/IPython/core/interactiveshell.py\u001b[0m, in \u001b[0;32mrun_code\u001b[0m:\nLine \u001b[0;34m3437\u001b[0m:  exec(code_obj, \u001b[36mself\u001b[39;49;00m.user_global_ns, \u001b[36mself\u001b[39;49;00m.user_ns)\n",
      "In  \u001b[0;34m[10]\u001b[0m:\nLine \u001b[0;34m2\u001b[0m:     model.fit(x_train, y_train, batch_size=\u001b[34m32\u001b[39;49;00m, epochs=\u001b[34m2\u001b[39;49;00m, validation_data=(x_val, y_val))\n",
      "File \u001b[0;34m/home/shizhenkun/anaconda3/envs/jupyterlab-debugger/lib/python3.9/site-packages/tensorflow/python/keras/engine/training.py\u001b[0m, in \u001b[0;32mfit\u001b[0m:\nLine \u001b[0;34m1183\u001b[0m:  tmp_logs = \u001b[36mself\u001b[39;49;00m.train_function(iterator)\n",
      "File \u001b[0;34m/home/shizhenkun/anaconda3/envs/jupyterlab-debugger/lib/python3.9/site-packages/tensorflow/python/eager/def_function.py\u001b[0m, in \u001b[0;32m__call__\u001b[0m:\nLine \u001b[0;34m889\u001b[0m:   result = \u001b[36mself\u001b[39;49;00m._call(*args, **kwds)\n",
      "File \u001b[0;34m/home/shizhenkun/anaconda3/envs/jupyterlab-debugger/lib/python3.9/site-packages/tensorflow/python/eager/def_function.py\u001b[0m, in \u001b[0;32m_call\u001b[0m:\nLine \u001b[0;34m950\u001b[0m:   \u001b[34mreturn\u001b[39;49;00m \u001b[36mself\u001b[39;49;00m._stateless_fn(*args, **kwds)\n",
      "File \u001b[0;34m/home/shizhenkun/anaconda3/envs/jupyterlab-debugger/lib/python3.9/site-packages/tensorflow/python/eager/function.py\u001b[0m, in \u001b[0;32m__call__\u001b[0m:\nLine \u001b[0;34m3023\u001b[0m:  \u001b[34mreturn\u001b[39;49;00m graph_function._call_flat(\n",
      "File \u001b[0;34m/home/shizhenkun/anaconda3/envs/jupyterlab-debugger/lib/python3.9/site-packages/tensorflow/python/eager/function.py\u001b[0m, in \u001b[0;32m_call_flat\u001b[0m:\nLine \u001b[0;34m1960\u001b[0m:  \u001b[34mreturn\u001b[39;49;00m \u001b[36mself\u001b[39;49;00m._build_call_outputs(\u001b[36mself\u001b[39;49;00m._inference_function.call(\n",
      "File \u001b[0;34m/home/shizhenkun/anaconda3/envs/jupyterlab-debugger/lib/python3.9/site-packages/tensorflow/python/eager/function.py\u001b[0m, in \u001b[0;32mcall\u001b[0m:\nLine \u001b[0;34m591\u001b[0m:   outputs = execute.execute(\n",
      "File \u001b[0;34m/home/shizhenkun/anaconda3/envs/jupyterlab-debugger/lib/python3.9/site-packages/tensorflow/python/eager/execute.py\u001b[0m, in \u001b[0;32mquick_execute\u001b[0m:\nLine \u001b[0;34m59\u001b[0m:    tensors = pywrap_tfe.TFE_Py_Execute(ctx._handle, device_name, op_name,\n",
      "\u001b[0;31mCancelledError\u001b[0m:  [_Derived_]RecvAsync is cancelled.\n\t [[{{node Adam/Adam/update/AssignSubVariableOp/_37}}]]\n\t [[gradient_tape/model/embedding/embedding_lookup/Reshape/_34]] [Op:__inference_train_function_28317]\n\nFunction call stack:\ntrain_function\n\n\u001b[0;31m---------------------------------------------------------------------------\u001b[0m"
     ]
    }
   ],
   "source": [
    "model.compile(\"adam\", \"binary_crossentropy\", metrics=[\"accuracy\"])\n",
    "model.fit(x_train, y_train, batch_size=32, epochs=2, validation_data=(x_val, y_val))"
   ]
  },
  {
   "cell_type": "code",
   "execution_count": null,
   "id": "e24a3766-42d7-4bf3-beb9-1d217179598a",
   "metadata": {},
   "outputs": [],
   "source": []
  }
 ],
 "metadata": {
  "kernelspec": {
   "display_name": "Python 3.9 (XPython)",
   "language": "python",
   "name": "xpython"
  },
  "language_info": {
   "file_extension": ".py",
   "mimetype": "text/x-python",
   "name": "python",
   "version": "3.9.2"
  }
 },
 "nbformat": 4,
 "nbformat_minor": 5
}
