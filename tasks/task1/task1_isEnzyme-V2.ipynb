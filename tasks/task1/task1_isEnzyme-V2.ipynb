{
 "cells": [
  {
   "cell_type": "markdown",
   "metadata": {
    "tags": []
   },
   "source": [
    "# Task1. 预测是酶还是非酶\n",
    "\n",
    "> author: Shizhenkun   \n",
    "> email: zhenkun.shi@tib.cas.cn   \n",
    "> date: 2021-05-26  \n",
    "\n",
    "## 任务简介\n",
    "该任务通过给定蛋白序列，预测该该蛋白是酶还是非酶。本任务所使用的数据集为Sport，对数据集的数据中进行学习，然后对新给定的蛋白序列数据预测是酶还是非酶。\n",
    "\n",
    "\n",
    "## 数据统计\n",
    "- 数据源Sprot，酶 219,227 条， 非酶226,539条。\n",
    "- 将数据集中的所有数据按照时间排序，～90%作为训练集，～10%作为测试集，找到对应时间节点为2009年12月14日。\n",
    "- 以2009年12月14日为时间节点，之前的数据为训练集，之后的数据为测试集，具体数据集统计如下： \n",
    "\n",
    "###  三级以下EC号的算作是酶 \n",
    "\n",
    "|   Items   | 酶      |   非酶    |合计                               |\n",
    "|-----------| --------| --------- |----------------------------------|\n",
    "| 训练集     | 198,692 | 208,391   | 407,083（407,083/453,212=89.82%) |\n",
    "| 测试集     | 20,535  | 25,594    | 46,129 (46,129/453,212=10.18% )  |\n",
    "\n",
    "\n",
    "<div style=\"background-color: lightyellow; border-style: dotted; width:1100px; margin:auto; padding:35px;\">\n",
    "\n",
    "\n",
    "比对结果：\n",
    "34813(查询有结果的)/46129（测试集总条数）\n",
    "\n",
    "有查询结果：\n",
    "酶: 18147/17919; 非酶: 16666/16894   \n",
    "无查询结果的条数：11316\n",
    "酶：2616； 非酶：8700\n",
    "    \n",
    "    \n",
    "|baslineName| accuracy \t |precision(PPV) |\t NPV \t |\trecall |\tf1 \t |\t auroc \t |\t auprc \t |\t confusion Matrix\t\t\t\t\t\t|\n",
    "| ----------| -----------|---------------| --------- | --------|---------|-----------|---------- |------------------------------------------|\n",
    "|同源比对 <span style=\"color:red\">「无比对结果的全算非酶」 </span> |0.915931    |\t0.958946 \t  |\t 0.888035 | 0.847431|0.899747  | \t \t   |           |tp:17402  fp:745  fn:3133  tn:24849      |\n",
    "|同源比对 <span style=\"color:red\">「无比对结果的全算酶」 </span>   | 0.784040  |0.679428 |0.968979  |0.974823| 0.800752 | \t |\t| tp:20018  fp:9445  fn:517  tn:16149|\n",
    "|同源比对 <span style=\"color:red\">「无比对结果的随机猜测1/2算酶，1/2非酶」 </span>   | 0.848685  |0.784351| 0.917467  |0.910397|0.842686| \t| \t \t| tp:18695  fp:5140  fn:1840  tn:20454|\n",
    "|同源比对 <span style=\"color:red\">「只计算有比对结果的」 </span>\t|0.963749  \t|0.958946 \t\t   |0.968979 | \t0.971148 |0.965009\t|\t \t \t| \t| tp:17402  fp:745  fn:517  tn:16149|\n",
    "|DeepEC\t \t| 0.848013  |\t0.979370 \t|\t 0.790151| 0.672754|0.797610  |\t\t \t |           |tp:13815  fp:291  fn:6720  tn:25303|\n",
    "|集成XGBOOST | 0.935615  |\t0.919272 |\t 0.949210|  0.937716\t |0.928403\t\t |\t |\t |\t tp:19256  fp:1691  fn:1279  tn:23903|\n",
    "|集成dt \t |0.912658  \t|0.881448 \t| 0.940228  |\t0.928707\t |0.904460\t\t |\t |\t | tp:19071  fp:2565  fn:1464  tn:23029|\n",
    "    \n",
    "</div>\n",
    "\n",
    "</br></br>\n",
    "\n",
    "###  三级以下EC号的扔掉，不包括到数据集中 \n",
    "    \n",
    "|    Items    | 酶       |   非酶    |合计                               |\n",
    "| ------------ | --------| --------- |----------------------------------|\n",
    "| 训练集        | 198,692 | 202,602   | 401,294（401,294/445,798=90.02%)  |\n",
    "| 测试集        | 20,535  | 23,969    | 44,504 (44,504/445,798= 9.98% )  |\n",
    "\n",
    "\n",
    "<div style=\"background-color: lightgreen; border-style: dotted; width:1100px; margin:auto; padding:35px;\">\n",
    "    \n",
    "\n",
    "比对结果：\n",
    "33514(查询有结果的)/44504（测试集总条数）\n",
    "\n",
    "有查询结果：\n",
    "酶: 17551/17854; 非酶: 15344/15660   \n",
    "无查询结果的条数：10990\n",
    "酶：2681； 非酶：10990\n",
    "    \n",
    "    \n",
    "    \n",
    "|baslineName| accuracy \t |precision(PPV) |\t NPV \t |\trecall |\tf1 \t |\t auroc \t |\t auprc \t |\t confusion Matrix\t\t\t\t\t\t|\n",
    "| ----------| -----------|---------------| --------- | --------|---------|-----------|---------- |------------------------------------------|\n",
    "|同源比对 <span style=\"color:red\">「无比对结果的全算非酶」 </span>  |0.925849  \t|0.982314 \t|0.887975  |0.854687 | 0.914067\t| \t| \t| \t tp:17551  fp:316  fn:2984  tn:23653|\n",
    "|同源比对 <span style=\"color:red\">「无比对结果的全算酶」 </span>   | 0.799389 |0.701112   | 0.980635  | 0.985245\t| 0.819242\t|\t |\t| \t  tp:20232  fp:8625  fn:303  tn:15344|\n",
    "|同源比对 <span style=\"color:red\">「无比对结果的随机猜测1/2算酶，1/2非酶」 </span>   | 0.864394|  \t0.810599| \t0.923731|  \t0.921402|\t 0.862456|\t|\t| tp:18921  fp:4421  fn:1614  tn:19548|\n",
    "|同源比对 <span style=\"color:red\">「只计算有比对结果的」 </span>\t|0.981530  \t|0.982314|0.980635 | \t0.983029\t| 0.982671|     |\t\t| \t tp:17551  fp:316  fn:303  tn:15344|\n",
    "|同源比对<span style=\"color:red\">「无比对结果的算错误」 </span>  \t| 0.739147  |0.751263| 0.725759|  \t0.751681\t| 0.751472|\t\t |\t \t| \t tp:17551  fp:5811  fn:5798  tn:15344|\n",
    "|DeepEC\t \t | 0.842913  |\t0.980761  |0.779078  |\t0.672754 | 0.798071\t| \t |\t |\t tp:13815  fp:271  fn:6720  tn:23698|\n",
    "|ECPred\t \t |0.898593   |0.836455 \t  | 0.970088 |0.969856\t |0.898230\t|\t |\t |\t tp:19916  fp:3894  fn:619  tn:20075|\n",
    "|集成lr \t \t|0.948454  \t|0.941863 \t|0.954155  \t|0.946725\t |0.944288\t|\t| \t| \t tp:19441  fp:1200  fn:1094  tn:22769|\n",
    "|集成xg \t \t|0.952431  \t|0.947691 \t|0.956505  \t|0.949306\t |0.948498\t|\t| \t| \t tp:19494  fp:1076  fn:1041  tn:22893|\n",
    "|集成dt \t \t|0.926816  \t|0.904827 \t|0.947073  \t|0.940297\t |0.922221\t|\t| \t| \t tp:19309  fp:2031  fn:1226  tn:21938|\n",
    "|集成rf \t \t|0.952746  \t|0.954214 \t|0.951516  \t|0.942829\t |0.948487\t|\t| \t| \t tp:19361  fp:929   fn:1174  tn:23040|\n",
    "|集成gbdt \t|0.951488  \t|0.949863 \t|0.952865  \t|0.944729\t |0.947289\t|\t| \t| \t tp:19400  fp:1024  fn:1135  tn:2294 |   \n",
    "</div>\n",
    "\n",
    "\n",
    "\n",
    "\n",
    "\n",
    "\n",
    "\n",
    "\n",
    "\n",
    "## 实验方法\n",
    "\n",
    "- 同源比对：使用训练集建立比对库，然后将测试集与之比对，取最优的比对结果，比对结果的（酶/非酶）属性当作测试集的测试结果\n",
    "- 传统机器学习方法\n",
    "- 深度学习方法\n",
    "\n",
    "\n",
    "\n",
    "## 实验结果\n",
    "\n",
    "### baselines\n",
    "\n",
    "\n",
    "\n",
    "\n",
    "<div style=\"background-color: lightyellow; border-style: dotted; width:1100px; margin:auto; padding:35px;\">\n",
    "\n",
    "###  三级以下EC号的算作是酶     \n",
    "    \n",
    "### 机器学习 + onehot\n",
    "\n",
    "\n",
    "|baslineName| accuracy \t |precision(PPV) |\t NPV \t |\trecall |\tf1 \t |\t auroc \t |\t auprc \t |\t confusion Matrix\t\t\t\t\t\t|\n",
    "| ----------| -----------|---------------| --------- | --------|---------|-----------|---------- |------------------------------------------|\n",
    "| lr \t\t|\t0.609676 |\t0.560377 \t |\t0.680254 |0.715023 |0.628324 |\t0.661484 |\t0.568861 |\t tp: 14683 fp: 11519 fn: 5852 tn: 12450\t|\n",
    "| xg \t\t|\t0.665446 |\t0.643591 \t |\t0.682740 |0.616168 |0.629581 |\t0.742674 |\t0.684483 |\t tp: 12653 fp: 7007 fn: 7882 tn: 16962\t|\n",
    "| dt \t\t|\t0.602418 |\t0.570965 \t |\t0.628129 |0.556562 |0.563671 |\t0.599133 |\t0.522388 |\t tp: 11429 fp: 8588 fn: 9106 tn: 15381\t|\n",
    "| rf \t\t|\t0.666479 |\t0.624934 \t |\t0.710044 |0.693255 |0.657324 |\t0.745132 |\t0.689971 |\t tp: 14236 fp: 8544 fn: 6299 tn: 15425\t|\n",
    "| gbdt  \t| \t0.624079 |\t0.569351 \t |\t0.712026 |0.760604 |0.651226 |\t0.695638 |\t0.628716 |\t tp: 15619 fp: 11814 fn: 4916 tn: 12155\t|\n",
    "\n",
    "\n",
    "### 机器学习 + unirep\n",
    "\n",
    "|baslineName| accuracy \t |precision(PPV) |\t NPV \t |\trecall |\tf1 \t |\t auroc \t |\t auprc \t |\t confusion Matrix\t\t\t\t\t  |\n",
    "| ----------| -----------|---------------| --------- | --------|---------|-----------|---------- |----------------------------------------|\n",
    "|lr \t    |0.826757 \t |\t0.849132 \t |\t0.811034 |0.759484 |0.801810 |\t0.901500 |\t0.892720 |\t tp: 15596 fp: 2771 fn: 4939 tn: 21198|\n",
    "|xg \t    |0.860260\t |\t0.883725 \t |\t0.843327 |0.802776 |0.841308 |\t0.934751 |\t0.927646 |\t tp: 16485 fp: 2169 fn: 4050 tn: 21800|\n",
    "|dt \t    |0.772290 \t |\t0.767612 \t |\t0.775916 |0.726418 |0.746447 |\t0.769004 |\t0.683843 |\t tp: 14917 fp: 4516 fn: 5618 tn: 19453|\n",
    "|rf \t    |0.851070    |\t0.903031 \t |\t0.818172 |0.758705 |0.824600 |\t0.932207 |\t0.922548 |\t tp: 15580 fp: 1673 fn: 4955 tn: 22296|\n",
    "|gbdt \t\t|0.822825 \t |0.864764 \t\t |0.796054 \t |0.730217 |0.791815 |\t0.898601 |\t0.889249 |\t tp: 14995 fp: 2345 fn: 5540 tn: 21624|\n",
    "\n",
    "</div>\n",
    "\n",
    "</br>\n",
    "\n",
    "\n",
    "<div style=\"background-color: lightgreen; border-style: dotted; width:1100px; margin:auto; padding:35px;\">\n",
    "\n",
    "###  三级以下EC号的扔掉，不包括到数据集中     \n",
    "    \n",
    "### 机器学习 + onehot\n",
    "\n",
    "\n",
    "|baslineName| accuracy \t |precision(PPV) |\t NPV \t |\trecall |\tf1 \t |\t auroc \t |\t auprc \t |\t confusion Matrix\t\t\t\t\t\t|\n",
    "| ----------| -----------|---------------| --------- | --------|---------|-----------|---------- |------------------------------------------|\n",
    "|lr \t\t|0.608664 |0.560196 |0.676184 |\t0.706745 |\t0.624995 |\t0.658145 |\t0.565398 \t| tp: 14513 fp: 11394 fn: 6022 tn: 12575\t|\n",
    "|xg \t\t|0.671468 |0.649797 |0.688742 |\t0.624641 |\t0.636971 |\t0.744063 |\t0.685988 \t| tp: 12827 fp: 6913 fn: 7708 tn: 17056\t\t|\n",
    "|dt \t\t|0.606260 |0.574821 |0.632220 |\t0.563428 |\t0.569068 |\t0.603192 |\t0.525313 \t| tp: 11570 fp: 8558 fn: 8965 tn: 15411\t\t|\n",
    "|rf \t\t|0.664435 |0.622416 |0.708882 |\t0.693402 |\t0.655994 |\t0.744528 |\t0.689728 \t| tp: 14239 fp: 8638 fn: 6296 tn: 15331\t\t|\n",
    "|gbdt \t\t|0.622910 |0.568463 |0.710208 |\t0.758753 |\t0.649967 |\t0.694911 |\t0.631114 \t| tp: 15581 fp: 11828 fn: 4954 tn: 12141\t|\n",
    "\n",
    "\n",
    "### 机器学习 + unirep\n",
    "\n",
    "|baslineName| accuracy \t |precision(PPV) |\t NPV \t |\trecall |\tf1 \t |\t auroc \t |\t auprc \t |\t confusion Matrix\t\t\t\t\t  |\n",
    "| ----------| -----------|---------------| --------- | --------|---------|-----------|---------- |----------------------------------------|\n",
    "|lr \t|0.825521 \t|0.847237 \t|0.810231 |\t0.758656 |\t0.800504 |\t0.900743 |\t0.891768 |\t tp: 15579 fp: 2809 fn: 4956 tn: 21160|\n",
    "|xg \t|0.857788 \t|0.881841 \t|0.840514 |\t0.798831 |\t0.838286 |\t0.933706 |\t0.927064 |\t tp: 16404 fp: 2198 fn: 4131 tn: 21771|\n",
    "|dt \t|0.771346 \t|0.766943 \t|0.774750 |\t0.724665 |\t0.745205 |\t0.768002 |\t0.682822 |\t tp: 14881 fp: 4522 fn: 5654 tn: 19447|\n",
    "|rf \t|0.849811 \t|0.901548 \t|0.817075 |\t0.757195 |\t0.823090 |\t0.931437 |\t0.922190 |\t tp: 15549 fp: 1698 fn: 4986 tn: 22271|\n",
    "\n",
    "</div>"
   ]
  },
  {
   "cell_type": "markdown",
   "metadata": {},
   "source": [
    "## 1. 导入必要的包、定义公共函数"
   ]
  },
  {
   "cell_type": "code",
   "execution_count": 1,
   "metadata": {
    "tags": []
   },
   "outputs": [],
   "source": [
    "import numpy as np\n",
    "import pandas as pd\n",
    "import random\n",
    "from random import randint\n",
    "import time\n",
    "import gzip\n",
    "import re\n",
    "import datetime\n",
    "import sys\n",
    "import os\n",
    "from tqdm import tqdm\n",
    "\n",
    "from functools import reduce\n",
    "import matplotlib.pyplot as plt\n",
    "\n",
    "sys.path.append(\"../../tools/\")\n",
    "import commontools\n",
    "import funclib\n",
    "from pyecharts.globals import CurrentConfig, OnlineHostType\n",
    "CurrentConfig.ONLINE_HOST = OnlineHostType.NOTEBOOK_HOST\n",
    "from pyecharts.globals import CurrentConfig, NotebookType\n",
    "CurrentConfig.NOTEBOOK_TYPE = NotebookType.JUPYTER_LAB\n",
    "\n",
    "from pyecharts import options as opts\n",
    "from pyecharts.charts import Bar\n",
    "from pyecharts.faker import Faker\n",
    "from pyecharts.globals import ThemeType\n",
    "\n",
    "%load_ext autoreload\n",
    "%autoreload 2"
   ]
  },
  {
   "cell_type": "markdown",
   "metadata": {},
   "source": [
    "## 2. 加载数据"
   ]
  },
  {
   "cell_type": "code",
   "execution_count": 2,
   "metadata": {
    "tags": []
   },
   "outputs": [],
   "source": [
    "train = pd.read_hdf('./data/train.h5',key='data')\n",
    "train.ec_number = train.ec_number.apply(lambda x: x.replace(',', ''))\n",
    "test = pd.read_hdf('./data/test.h5',key='data')\n",
    "test.ec_number = test.ec_number.apply(lambda x: x.replace(',', ''))\n",
    "head = funclib.table_head + ['f'+str(i) for i in range(1, 1901) ]\n",
    "train.columns = head\n",
    "test.columns = head"
   ]
  },
  {
   "cell_type": "markdown",
   "metadata": {},
   "source": [
    "## 3. 同源比对"
   ]
  },
  {
   "cell_type": "code",
   "execution_count": 62,
   "metadata": {},
   "outputs": [
    {
     "name": "stdout",
     "output_type": "stream",
     "text": [
      "Write finished\n",
      "Write finished\n",
      "diamond makedb --in /tmp/train.fasta -d /tmp/train.dmnd\n",
      "diamond blastp -d /tmp/train.dmnd  -q  /tmp/test.fasta -o /tmp/test_fasta_results.tsv -b5 -c1 -k 1\n"
     ]
    }
   ],
   "source": [
    "# 读取比对结果\n",
    "res_data=funclib.getblast(train,test)"
   ]
  },
  {
   "cell_type": "code",
   "execution_count": 63,
   "metadata": {},
   "outputs": [],
   "source": [
    "# 给比对结果添加标签\n",
    "isEmzyme_dict = {v: k for k,v in zip(train.isemzyme, train.id )} \n",
    "res_data['isEmzyme_pred'] = res_data['sseqid'].apply(lambda x: isEmzyme_dict.get(x))\n",
    "\n",
    "isEmzyme_dict_test = {v: k for k,v in zip(test.isemzyme, test.id )} \n",
    "res_data['isEmzyme_groudtruth'] = res_data['id'].apply(lambda x: isEmzyme_dict_test.get(x))"
   ]
  },
  {
   "cell_type": "code",
   "execution_count": 64,
   "metadata": {},
   "outputs": [],
   "source": [
    "\n",
    "# 获取比对结果\n",
    "res_data_sub = res_data[['id','isEmzyme_pred']]\n",
    "\n",
    "#选取测试集的ID与是否是酶2列\n",
    "test_data_sub=test[['id', 'isemzyme']]\n",
    "test_data_sub.reset_index(drop=True, inplace=True)\n",
    "\n",
    "#拼合比对结果到测试集\n",
    "res = pd.merge(test_data_sub,res_data_sub, on='id', how='left')\n"
   ]
  },
  {
   "cell_type": "code",
   "execution_count": 36,
   "metadata": {
    "tags": []
   },
   "outputs": [],
   "source": [
    "# 填充没有比对结果的值为非酶\n",
    "# res.fillna(False, inplace=True)\n",
    "\n",
    "# # # 填充没有比对结果的值为酶\n",
    "# res.fillna(True, inplace=True)\n",
    "\n",
    "# 填充没有比对结果的值 随机填充\n",
    "list_enornot=[True, False]\n",
    "for i in range(len(res[(res.isEmzyme_pred.isnull())])):\n",
    "    res.fillna(random.choice(list_enornot), inplace=True, limit=1)\n"
   ]
  },
  {
   "cell_type": "code",
   "execution_count": 81,
   "metadata": {},
   "outputs": [
    {
     "name": "stdout",
     "output_type": "stream",
     "text": [
      "同源比对 \t 0.981530  \t0.982314 \t\t 0.980635  \t0.983029\t 0.982671\t\t \t \t \t tp:17551  fp:316  fn:303  tn:15344\n"
     ]
    }
   ],
   "source": [
    "# 计算指标\n",
    "tp = len(res[res.isemzyme & res.isEmzyme_pred])\n",
    "fp = len(res[(res.isemzyme ==False) & (res.isEmzyme_pred)])\n",
    "tn = len(res[(res.isemzyme ==False) & (res.isEmzyme_pred ==False)])\n",
    "fn = len(res[(res.isemzyme ) & (res.isEmzyme_pred == False)])\n",
    "funclib.caculateMetrix_1('同源比对',tp, fp, tn,fn)"
   ]
  },
  {
   "cell_type": "markdown",
   "metadata": {
    "tags": []
   },
   "source": [
    "## 4. 机器学习方法预测\n",
    "### 4.1 one-hot + 机器学习"
   ]
  },
  {
   "cell_type": "code",
   "execution_count": 68,
   "metadata": {},
   "outputs": [],
   "source": [
    "trainset = train[['id', 'isemzyme','seq', 'seqlength']].reset_index(drop=True)\n",
    "testset = test[['id', 'isemzyme','seq', 'seqlength']].reset_index(drop=True)\n",
    "\n",
    "MAX_SEQ_LENGTH = 1500 #定义序列最长的长度\n",
    "trainset.seq = trainset.seq.map(lambda x : x[0:MAX_SEQ_LENGTH].ljust(MAX_SEQ_LENGTH, 'X'))\n",
    "testset.seq = testset.seq.map(lambda x : x[0:MAX_SEQ_LENGTH].ljust(MAX_SEQ_LENGTH, 'X'))"
   ]
  },
  {
   "cell_type": "code",
   "execution_count": 77,
   "metadata": {},
   "outputs": [
    {
     "name": "stdout",
     "output_type": "stream",
     "text": [
      "baslineName \t accuracy \t precision(PPV) \t NPV \t\t recall \t f1 \t\t auroc \t\t auprc \t\t confusion Matrix\n",
      "lr \t\t0.608664 \t0.560196 \t\t0.676184 \t0.706745 \t0.624995 \t0.658145 \t0.565398 \t tp: 14513 fp: 11394 fn: 6022 tn: 12575\n",
      "xg \t\t0.671468 \t0.649797 \t\t0.688742 \t0.624641 \t0.636971 \t0.744063 \t0.685988 \t tp: 12827 fp: 6913 fn: 7708 tn: 17056\n",
      "dt \t\t0.606260 \t0.574821 \t\t0.632220 \t0.563428 \t0.569068 \t0.603192 \t0.525313 \t tp: 11570 fp: 8558 fn: 8965 tn: 15411\n",
      "rf \t\t0.664435 \t0.622416 \t\t0.708882 \t0.693402 \t0.655994 \t0.744528 \t0.689728 \t tp: 14239 fp: 8638 fn: 6296 tn: 15331\n",
      "gbdt \t\t0.622910 \t0.568463 \t\t0.710208 \t0.758753 \t0.649967 \t0.694911 \t0.631114 \t tp: 15581 fp: 11828 fn: 4954 tn: 12141\n"
     ]
    }
   ],
   "source": [
    "f_train = funclib.dna_onehot(trainset) #训练集编码\n",
    "f_test = funclib.dna_onehot(testset) #测试集编码\n",
    "\n",
    "train_full = pd.concat([trainset, f_train], axis=1, join='inner' ) #拼合训练集\n",
    "test_full = pd.concat([testset, f_test], axis=1, join='inner' )    #拼合测试集\n",
    "\n",
    "X_train = train_full.iloc[:,4:]\n",
    "X_test = test_full.iloc[:,4:]\n",
    "Y_train = train_full.isemzyme.astype('int')\n",
    "Y_test = test_full.isemzyme.astype('int')\n",
    "\n",
    "X_train = np.array(X_train)\n",
    "X_test = np.array(X_test)\n",
    "Y_train = np.array(Y_train)\n",
    "Y_test = np.array(Y_test)\n",
    "\n",
    "funclib.run_baseline(X_train, Y_train, X_test, Y_test)"
   ]
  },
  {
   "cell_type": "markdown",
   "metadata": {},
   "source": [
    "### 5. Unirep + 机器学习"
   ]
  },
  {
   "cell_type": "code",
   "execution_count": 3,
   "metadata": {},
   "outputs": [
    {
     "name": "stdout",
     "output_type": "stream",
     "text": [
      "baslineName \t accuracy \t precision(PPV) \t NPV \t\t recall \t f1 \t\t auroc \t\t auprc \t\t confusion Matrix\n",
      "lr \t\t0.825521 \t0.847237 \t\t0.810231 \t0.758656 \t0.800504 \t0.900743 \t0.891768 \t tp: 15579 fp: 2809 fn: 4956 tn: 21160\n",
      "xg \t\t0.857788 \t0.881841 \t\t0.840514 \t0.798831 \t0.838286 \t0.933706 \t0.927064 \t tp: 16404 fp: 2198 fn: 4131 tn: 21771\n",
      "dt \t\t0.769167 \t0.763209 \t\t0.773810 \t0.724519 \t0.743361 \t0.765969 \t0.680072 \t tp: 14878 fp: 4616 fn: 5657 tn: 19353\n",
      "rf \t\t0.849811 \t0.901548 \t\t0.817075 \t0.757195 \t0.823090 \t0.931437 \t0.922190 \t tp: 15549 fp: 1698 fn: 4986 tn: 22271\n",
      "gbdt \t\t0.822083 \t0.862578 \t\t0.796089 \t0.730850 \t0.791269 \t0.898090 \t0.888768 \t tp: 15008 fp: 2391 fn: 5527 tn: 21578\n"
     ]
    }
   ],
   "source": [
    "X_train = train.iloc[:,12:]\n",
    "X_test = test.iloc[:,12:]\n",
    "Y_train = train.iloc[:,2].astype('int')\n",
    "Y_test = test.iloc[:,2].astype('int')\n",
    "X_train = np.array(X_train)\n",
    "X_test = np.array(X_test)\n",
    "Y_train = np.array(Y_train).flatten()\n",
    "Y_test = np.array(Y_test).flatten()\n",
    "\n",
    "funclib.run_baseline(X_train, Y_train, X_test, Y_test)"
   ]
  },
  {
   "cell_type": "markdown",
   "metadata": {},
   "source": [
    "### 6. DeepEC"
   ]
  },
  {
   "cell_type": "code",
   "execution_count": 5,
   "metadata": {
    "collapsed": true,
    "jupyter": {
     "outputs_hidden": true
    },
    "tags": []
   },
   "outputs": [
    {
     "name": "stdout",
     "output_type": "stream",
     "text": [
      "Write finished\n",
      "2021-06-19 08:55:00.721087: I tensorflow/stream_executor/platform/default/dso_loader.cc:53] Successfully opened dynamic library libcudart.so.11.0\n",
      "2021-06-19 09:16:38.573926: I tensorflow/stream_executor/platform/default/dso_loader.cc:53] Successfully opened dynamic library libcuda.so.1\n",
      "2021-06-19 09:16:38.674269: I tensorflow/core/common_runtime/gpu/gpu_device.cc:1733] Found device 0 with properties: \n",
      "pciBusID: 0000:81:00.0 name: GeForce RTX 3080 computeCapability: 8.6\n",
      "coreClock: 1.8GHz coreCount: 68 deviceMemorySize: 9.78GiB deviceMemoryBandwidth: 707.88GiB/s\n",
      "2021-06-19 09:16:38.675040: I tensorflow/core/common_runtime/gpu/gpu_device.cc:1733] Found device 1 with properties: \n",
      "pciBusID: 0000:c1:00.0 name: GeForce RTX 3080 computeCapability: 8.6\n",
      "coreClock: 1.8GHz coreCount: 68 deviceMemorySize: 9.78GiB deviceMemoryBandwidth: 707.88GiB/s\n",
      "2021-06-19 09:16:38.675775: I tensorflow/core/common_runtime/gpu/gpu_device.cc:1733] Found device 2 with properties: \n",
      "pciBusID: 0000:c2:00.0 name: GeForce RTX 3080 computeCapability: 8.6\n",
      "coreClock: 1.8GHz coreCount: 68 deviceMemorySize: 9.78GiB deviceMemoryBandwidth: 707.88GiB/s\n",
      "2021-06-19 09:16:38.675803: I tensorflow/stream_executor/platform/default/dso_loader.cc:53] Successfully opened dynamic library libcudart.so.11.0\n",
      "2021-06-19 09:16:38.691088: I tensorflow/stream_executor/platform/default/dso_loader.cc:53] Successfully opened dynamic library libcublas.so.11\n",
      "2021-06-19 09:16:38.691140: I tensorflow/stream_executor/platform/default/dso_loader.cc:53] Successfully opened dynamic library libcublasLt.so.11\n",
      "2021-06-19 09:16:38.700727: I tensorflow/stream_executor/platform/default/dso_loader.cc:53] Successfully opened dynamic library libcufft.so.10\n",
      "2021-06-19 09:16:38.705610: I tensorflow/stream_executor/platform/default/dso_loader.cc:53] Successfully opened dynamic library libcurand.so.10\n",
      "2021-06-19 09:16:38.720787: I tensorflow/stream_executor/platform/default/dso_loader.cc:53] Successfully opened dynamic library libcusolver.so.11\n",
      "2021-06-19 09:16:38.725018: I tensorflow/stream_executor/platform/default/dso_loader.cc:53] Successfully opened dynamic library libcusparse.so.11\n",
      "2021-06-19 09:16:38.726626: I tensorflow/stream_executor/platform/default/dso_loader.cc:53] Successfully opened dynamic library libcudnn.so.8\n",
      "2021-06-19 09:16:38.733390: I tensorflow/core/common_runtime/gpu/gpu_device.cc:1871] Adding visible gpu devices: 0, 1, 2\n",
      "2021-06-19 09:16:38.733818: I tensorflow/core/platform/cpu_feature_guard.cc:142] This TensorFlow binary is optimized with oneAPI Deep Neural Network Library (oneDNN) to use the following CPU instructions in performance-critical operations:  AVX2 FMA\n",
      "To enable them in other operations, rebuild TensorFlow with the appropriate compiler flags.\n",
      "2021-06-19 09:16:38.983101: I tensorflow/core/common_runtime/gpu/gpu_device.cc:1733] Found device 0 with properties: \n",
      "pciBusID: 0000:81:00.0 name: GeForce RTX 3080 computeCapability: 8.6\n",
      "coreClock: 1.8GHz coreCount: 68 deviceMemorySize: 9.78GiB deviceMemoryBandwidth: 707.88GiB/s\n",
      "2021-06-19 09:16:38.983768: I tensorflow/core/common_runtime/gpu/gpu_device.cc:1733] Found device 1 with properties: \n",
      "pciBusID: 0000:c1:00.0 name: GeForce RTX 3080 computeCapability: 8.6\n",
      "coreClock: 1.8GHz coreCount: 68 deviceMemorySize: 9.78GiB deviceMemoryBandwidth: 707.88GiB/s\n",
      "2021-06-19 09:16:38.984405: I tensorflow/core/common_runtime/gpu/gpu_device.cc:1733] Found device 2 with properties: \n",
      "pciBusID: 0000:c2:00.0 name: GeForce RTX 3080 computeCapability: 8.6\n",
      "coreClock: 1.8GHz coreCount: 68 deviceMemorySize: 9.78GiB deviceMemoryBandwidth: 707.88GiB/s\n",
      "2021-06-19 09:16:38.988090: I tensorflow/core/common_runtime/gpu/gpu_device.cc:1871] Adding visible gpu devices: 0, 1, 2\n",
      "2021-06-19 09:16:38.999946: I tensorflow/stream_executor/platform/default/dso_loader.cc:53] Successfully opened dynamic library libcudart.so.11.0\n",
      "2021-06-19 09:16:42.896055: I tensorflow/core/common_runtime/gpu/gpu_device.cc:1258] Device interconnect StreamExecutor with strength 1 edge matrix:\n",
      "2021-06-19 09:16:42.896107: I tensorflow/core/common_runtime/gpu/gpu_device.cc:1264]      0 1 2 \n",
      "2021-06-19 09:16:42.896114: I tensorflow/core/common_runtime/gpu/gpu_device.cc:1277] 0:   N N N \n",
      "2021-06-19 09:16:42.896119: I tensorflow/core/common_runtime/gpu/gpu_device.cc:1277] 1:   N N N \n",
      "2021-06-19 09:16:42.896123: I tensorflow/core/common_runtime/gpu/gpu_device.cc:1277] 2:   N N N \n",
      "2021-06-19 09:16:42.900786: I tensorflow/core/common_runtime/gpu/gpu_device.cc:1418] Created TensorFlow device (/job:localhost/replica:0/task:0/device:GPU:0 with 8100 MB memory) -> physical GPU (device: 0, name: GeForce RTX 3080, pci bus id: 0000:81:00.0, compute capability: 8.6)\n",
      "2021-06-19 09:16:42.975123: I tensorflow/core/common_runtime/gpu/gpu_device.cc:1418] Created TensorFlow device (/job:localhost/replica:0/task:0/device:GPU:1 with 8100 MB memory) -> physical GPU (device: 1, name: GeForce RTX 3080, pci bus id: 0000:c1:00.0, compute capability: 8.6)\n",
      "2021-06-19 09:16:42.976611: I tensorflow/core/common_runtime/gpu/gpu_device.cc:1418] Created TensorFlow device (/job:localhost/replica:0/task:0/device:GPU:2 with 8100 MB memory) -> physical GPU (device: 2, name: GeForce RTX 3080, pci bus id: 0000:c2:00.0, compute capability: 8.6)\n",
      "2021-06-19 09:16:44.654246: W tensorflow/core/framework/cpu_allocator_impl.cc:80] Allocation of 5383728000 exceeds 10% of free system memory.\n",
      "2021-06-19 09:16:47.079713: I tensorflow/compiler/mlir/mlir_graph_optimization_pass.cc:176] None of the MLIR Optimization Passes are enabled (registered 2)\n",
      "2021-06-19 09:16:47.101443: I tensorflow/core/platform/profile_utils/cpu_utils.cc:114] CPU Frequency: 3000030000 Hz\n",
      "2021-06-19 09:16:55.669649: I tensorflow/stream_executor/platform/default/dso_loader.cc:53] Successfully opened dynamic library libcudnn.so.8\n",
      "2021-06-19 09:16:56.589182: I tensorflow/stream_executor/cuda/cuda_dnn.cc:359] Loaded cuDNN version 8101\n",
      "2021-06-19 09:16:58.017731: I tensorflow/stream_executor/platform/default/dso_loader.cc:53] Successfully opened dynamic library libcublas.so.11\n",
      "2021-06-19 09:16:58.891077: I tensorflow/stream_executor/platform/default/dso_loader.cc:53] Successfully opened dynamic library libcublasLt.so.11\n",
      "2021-06-19 09:16:58.960778: I tensorflow/stream_executor/cuda/cuda_blas.cc:1838] TensorFloat-32 will be used for the matrix multiplication. This will only be logged once.\n",
      "Traceback (most recent call last):\n",
      "  File \"../../baselines/deepec/deepec.py\", line 8, in <module>\n",
      "    main()\n",
      "  File \"/home/shizhenkun/codebase/BioUniprot/baselines/deepec/deepec/__main__.py\", line 53, in main\n",
      "    ec_prediction_dl.predict_ec(temp_df, dl4_output_file, DeepEC4d_oh, MB4d_oh, threshold) \n",
      "  File \"/home/shizhenkun/codebase/BioUniprot/baselines/deepec/deepec/ec_prediction_dl.py\", line 157, in predict_ec\n",
      "    lb = cPickle.load(fid)\n",
      "ModuleNotFoundError: No module named 'sklearn.preprocessing.label'\n"
     ]
    }
   ],
   "source": [
    "funclib.table2fasta(test, './data/deepec.fasta')\n",
    "! python ../../baselines/deepec/deepec.py -i ./data/deepec.fasta -o ./data/deepec/"
   ]
  },
  {
   "cell_type": "code",
   "execution_count": 72,
   "metadata": {},
   "outputs": [
    {
     "name": "stdout",
     "output_type": "stream",
     "text": [
      "DeepEC\t \t 0.842913  \t0.980761 \t\t 0.779078  \t0.672754\t 0.798071\t\t \t \t \t tp:13815  fp:271  fn:6720  tn:23698\n"
     ]
    }
   ],
   "source": [
    "res_deepec = pd.read_csv('./data/deepec/DeepEC_Result.txt', header=0, sep='\\t')\n",
    "test_results_df=test[['id', 'name', 'isemzyme']]\n",
    "isEmzyme_dict = {v: k for k,v in zip(test.isemzyme, test.id )} \n",
    "with pd.option_context('mode.chained_assignment', None):\n",
    "    test_results_df['pred'] = np.isin(np.array(test.id), np.array(res_deepec['Query ID']), invert=False)\n",
    "test_results_df.reset_index(drop=True)\n",
    "\n",
    "tp = len(test_results_df[test_results_df.isemzyme & test_results_df.pred])\n",
    "fp = len(test_results_df[(test_results_df.isemzyme ==False) & (test_results_df.pred)]) \n",
    "tn = len(test_results_df[(test_results_df.isemzyme ==False) & (test_results_df.pred ==False)])\n",
    "fn = len(test_results_df[(test_results_df.isemzyme ) & (test_results_df.pred == False)])\n",
    "funclib.caculateMetrix_1('DeepEC\\t',tp, fp, tn,fn)"
   ]
  },
  {
   "cell_type": "markdown",
   "metadata": {},
   "source": [
    "### 8. ECPred"
   ]
  },
  {
   "cell_type": "code",
   "execution_count": 24,
   "metadata": {},
   "outputs": [],
   "source": [
    "## 读取结果\n",
    "ecpred_results = pd.read_csv('./results/ecpred_results_merge.tsv', sep='\\t', header=0) #读入文件\n",
    "# ecpred_sup_results = pd.read_csv('./results/ecpred_sup_results.tsv', sep='\\t', header=0)\n",
    "# ec_dict = {v: k for k,v in zip(test.ec_number, test.id )} \n",
    "# ecpred_results['ec_groundtruth'] = ecpred_results.apply(lambda x: ec_dict.get(x['Protein ID']), axis=1)\n",
    "# ecpred_results['iscorrect'] = ecpred_results.apply(lambda x: x['EC Number'] == x.ec_groundtruth, axis=1)\n",
    "\n",
    "# ecpred_results_final = pd.concat([ecpred_results, ecpred_sup_results], axis=0, ignore_index = True)\n",
    "# ecpred_results_final.drop_duplicates(subset=['Protein ID'], keep='first', inplace = True)\n",
    "# ecpred_results_final.reset_index(drop =True, inplace=True)\n",
    "# ecpred_results_final.to_csv('./results/ecpred_results_merge.tsv', sep='\\t', header=1)"
   ]
  },
  {
   "cell_type": "code",
   "execution_count": 61,
   "metadata": {},
   "outputs": [
    {
     "name": "stdout",
     "output_type": "stream",
     "text": [
      "baslineName \t accuracy \t precision(PPV) \t NPV \t\t recall \t f1 \t\t auroc \t\t auprc \t\t confusion Matrix\n",
      "ECPred\t \t 0.898593  \t0.836455 \t\t 0.970088  \t0.969856\t 0.898230\t\t \t \t \t tp:19916  fp:3894  fn:619  tn:20075\n"
     ]
    }
   ],
   "source": [
    "# 填充预测结果\n",
    "ecpred_results['isemzyme'] = True\n",
    "with pd.option_context('mode.chained_assignment', None):\n",
    "    ecpred_results.isemzyme[ecpred_results['EC Number']=='non Enzyme'] = False\n",
    "    ecpred_results.isemzyme[ecpred_results['EC Number']!='non Enzyme'] = True\n",
    "\n",
    "# 提取测试集项目\n",
    "test_results_df=test[['id', 'name', 'isemzyme']]\n",
    "isEmzyme_pred_dict = {v: k for k,v in zip(ecpred_results.isemzyme, ecpred_results['Protein ID'] )} \n",
    "\n",
    "# 拼合测试集与预测结果\n",
    "with pd.option_context('mode.chained_assignment', None):\n",
    "    test_results_df['pred']=test_results_df.id.apply(lambda x: isEmzyme_pred_dict.get(x))\n",
    "    test_results_df['pred'][test_results_df['pred'].isnull()] = False\n",
    "    \n",
    "# 计算指标\n",
    "tp = len(test_results_df[test_results_df.isemzyme & test_results_df.pred])\n",
    "fp = len(test_results_df[(test_results_df.isemzyme ==False) & (test_results_df.pred)])\n",
    "tn = len(test_results_df[(test_results_df.isemzyme ==False) & (test_results_df.pred ==False)])\n",
    "fn = len(test_results_df[(test_results_df.isemzyme ) & (test_results_df.pred == False)])\n",
    "print('baslineName', '\\t', 'accuracy','\\t', 'precision(PPV) \\t NPV \\t\\t', 'recall','\\t', 'f1', '\\t\\t', 'auroc','\\t\\t', 'auprc', '\\t\\t confusion Matrix')\n",
    "funclib.caculateMetrix_1('ECPred\\t',tp, fp, tn,fn)"
   ]
  },
  {
   "cell_type": "markdown",
   "metadata": {},
   "source": [
    "## 9. 集成模型"
   ]
  },
  {
   "cell_type": "code",
   "execution_count": 516,
   "metadata": {},
   "outputs": [],
   "source": [
    "res_data=funclib.getblast(train,test)\n",
    "funclib.run_integrated(res_data, train, test)"
   ]
  },
  {
   "cell_type": "code",
   "execution_count": null,
   "metadata": {},
   "outputs": [],
   "source": []
  },
  {
   "cell_type": "code",
   "execution_count": null,
   "metadata": {},
   "outputs": [],
   "source": []
  },
  {
   "cell_type": "code",
   "execution_count": null,
   "metadata": {},
   "outputs": [],
   "source": []
  },
  {
   "cell_type": "code",
   "execution_count": null,
   "metadata": {},
   "outputs": [],
   "source": []
  }
 ],
 "metadata": {
  "kernelspec": {
   "display_name": "py38",
   "language": "python",
   "name": "py38"
  },
  "language_info": {
   "codemirror_mode": {
    "name": "ipython",
    "version": 3
   },
   "file_extension": ".py",
   "mimetype": "text/x-python",
   "name": "python",
   "nbconvert_exporter": "python",
   "pygments_lexer": "ipython3",
   "version": "3.8.10"
  }
 },
 "nbformat": 4,
 "nbformat_minor": 4
}
