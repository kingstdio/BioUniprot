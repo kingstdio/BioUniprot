{
 "cells": [
  {
   "cell_type": "code",
   "execution_count": 1,
   "id": "60718d56-bbaa-4945-bf8e-eb488ce784b4",
   "metadata": {},
   "outputs": [],
   "source": [
    "import pandas as pd\n",
    "import numpy as np\n",
    "from jax_unirep import get_reps"
   ]
  },
  {
   "cell_type": "code",
   "execution_count": 2,
   "id": "85636a15-2e3a-49f9-a992-83fa9d53866d",
   "metadata": {},
   "outputs": [],
   "source": [
    "seq =r'MESLSQLVKSTLPNYLSNLPIPDSVGGWFKLSFKDWLALIPPTVVVAGIGYTGYLAFCPAAQARCSATKSGRCNNQIRKHEPKVVDTIDVEDIADKAAFCRCWKSKNWPYCDGSHGEHNKLTGDNVGPVVVKKQ'"
   ]
  },
  {
   "cell_type": "code",
   "execution_count": 3,
   "id": "0fa1340c-227c-4d3c-a0f2-769318bfa5b6",
   "metadata": {},
   "outputs": [
    {
     "data": {
      "text/plain": [
       "array([[ 0.00340419, -0.08416546,  0.06416429, ..., -0.01330813,\n",
       "         0.02578909, -0.07830042]], dtype=float32)"
      ]
     },
     "execution_count": 3,
     "metadata": {},
     "output_type": "execute_result"
    }
   ],
   "source": [
    "train_h_avg, train_h_final, train_c_final= get_reps(seq)\n",
    "train_h_final"
   ]
  },
  {
   "cell_type": "code",
   "execution_count": 2,
   "id": "099326b0-62f0-408d-b98d-a2d2fe988d57",
   "metadata": {},
   "outputs": [
    {
     "name": "stdout",
     "output_type": "stream",
     "text": [
      "\u001b[0;36m  File \u001b[0;32m\"/tmp/xpython_3073573/3909660725.py\"\u001b[0;36m, line \u001b[0;32m1\u001b[0m\n",
      "\u001b[0;31m    aa = [[ 4.55128495e-04 -2.19690055e-02 2.74648480e-02 1.09748344e-03\u001b[0m\n",
      "\u001b[0m                                           ^\u001b[0m\n",
      "\u001b[0;31mSyntaxError\u001b[0m\u001b[0;31m:\u001b[0m invalid syntax\n",
      "\n"
     ]
    }
   ],
   "source": [
    "aa = [[ 4.55128495e-04 -2.19690055e-02 2.74648480e-02 1.09748344e-03\n",
    "   7.94535577e-01  2.10212916e-01]\n",
    " [ 9.70167387e-03 -2.45347656e-02  5.53364120e-02   1.53704165e-02\n",
    "   1.24949077e-02  1.80447416e-04]]"
   ]
  },
  {
   "cell_type": "code",
   "execution_count": null,
   "id": "1697769e-0f23-40a3-9eaf-4fb82c2d4345",
   "metadata": {},
   "outputs": [],
   "source": []
  },
  {
   "cell_type": "code",
   "execution_count": null,
   "id": "264fc38f-936e-4026-b16f-e4f55679f451",
   "metadata": {},
   "outputs": [],
   "source": []
  },
  {
   "cell_type": "code",
   "execution_count": null,
   "id": "d5fbf647-3f97-4e71-92e9-232ff6c876ed",
   "metadata": {},
   "outputs": [],
   "source": []
  }
 ],
 "metadata": {
  "kernelspec": {
   "display_name": "Python 3.9 (XPython)",
   "language": "python",
   "name": "xpython"
  },
  "language_info": {
   "file_extension": ".py",
   "mimetype": "text/x-python",
   "name": "python",
   "version": "3.9.2"
  }
 },
 "nbformat": 4,
 "nbformat_minor": 5
}
