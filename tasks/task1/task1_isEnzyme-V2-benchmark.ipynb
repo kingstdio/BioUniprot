{
 "cells": [
  {
   "cell_type": "markdown",
   "metadata": {
    "tags": []
   },
   "source": [
    "# Task1. 预测是酶还是非酶\n",
    "\n",
    "> author: Shizhenkun   \n",
    "> email: zhenkun.shi@tib.cas.cn   \n",
    "> date: 2021-08-26  \n",
    "\n",
    "## 任务简介\n",
    "该任务通过给定蛋白序列，预测该该蛋白是酶还是非酶。本任务所使用的数据集为Sport，对数据集的数据中进行学习，然后对新给定的蛋白序列数据预测是酶还是非酶。\n",
    "\n",
    "\n",
    "## 数据统计\n",
    "- 数据源Sprot，酶 219,227 条， 非酶226,539条。\n",
    "- 将数据集中的所有数据按照时间排序，～90%作为训练集，～10%作为测试集，找到对应时间节点为2009年12月14日。\n",
    "- 以2009年12月14日为时间节点，之前的数据为训练集，之后的数据为测试集，具体数据集统计如下： \n",
    "\n",
    "###  三级以下EC号的算作是酶 \n",
    "\n",
    "\n",
    "\n",
    "\n",
    "\n"
   ]
  },
  {
   "cell_type": "markdown",
   "metadata": {},
   "source": [
    "## 1. 导入必要的包、定义公共函数"
   ]
  },
  {
   "cell_type": "code",
   "execution_count": 1,
   "metadata": {
    "tags": []
   },
   "outputs": [
    {
     "name": "stdout",
     "output_type": "stream",
     "text": [
      "INFO: Pandarallel will run on 32 workers.\n",
      "INFO: Pandarallel will use Memory file system to transfer data between the main process and workers.\n"
     ]
    }
   ],
   "source": [
    "import numpy as np\n",
    "import pandas as pd\n",
    "import random\n",
    "import time\n",
    "import datetime\n",
    "import sys\n",
    "import os\n",
    "from tqdm import tqdm\n",
    "from functools import reduce\n",
    "\n",
    "sys.path.append(\"../../tools/\")\n",
    "import commontools\n",
    "import funclib\n",
    "import ucTools\n",
    "\n",
    "sys.path.append(\"../../\")\n",
    "import benchmark_common as bcommon\n",
    "import benchmark_train as btrain\n",
    "import benchmark_test as btest\n",
    "import benchmark_config as cfg\n",
    "import benchmark_evaluation as eva\n",
    "\n",
    "from sklearn.model_selection import train_test_split\n",
    "from xgboost import XGBClassifier\n",
    "\n",
    "from pandarallel import pandarallel # 导入pandaralle\n",
    "pandarallel.initialize() # 初始化该这个b...并行库\n",
    "\n",
    "%load_ext autoreload\n",
    "%autoreload 2"
   ]
  },
  {
   "cell_type": "markdown",
   "metadata": {},
   "source": [
    "## 2. 加载数据"
   ]
  },
  {
   "cell_type": "code",
   "execution_count": 2,
   "metadata": {},
   "outputs": [
    {
     "name": "stdout",
     "output_type": "stream",
     "text": [
      "train size: 469129\n",
      "test size: 8033\n"
     ]
    }
   ],
   "source": [
    "train = pd.read_feather(cfg.DATADIR+'train.feather')\n",
    "test = pd.read_feather(cfg.DATADIR+'test.feather')\n",
    "\n",
    "print('train size: {0}\\ntest size: {1}'.format(len(train), len(test)))\n",
    "\n",
    "trainset = train[['id', 'isemzyme','seq', 'seqlength']].reset_index(drop=True)\n",
    "testset = test[['id', 'isemzyme','seq', 'seqlength']].reset_index(drop=True)"
   ]
  },
  {
   "cell_type": "code",
   "execution_count": 3,
   "metadata": {},
   "outputs": [],
   "source": [
    "unitrain = train.iloc[:,np.r_[0,7:1907]]\n",
    "unitest = test.iloc[:,np.r_[0,7:1907]]"
   ]
  },
  {
   "cell_type": "code",
   "execution_count": 4,
   "metadata": {},
   "outputs": [],
   "source": [
    "# unitrain.to_feather('/home/shizhenkun/codebase/DMLF/data/train_unirep.feather')\n",
    "unitest.to_feather('/home/shizhenkun/codebase/DMLF/data/test_unirep.feather')"
   ]
  },
  {
   "cell_type": "code",
   "execution_count": 3,
   "metadata": {},
   "outputs": [
    {
     "data": {
      "text/html": [
       "<div>\n",
       "<style scoped>\n",
       "    .dataframe tbody tr th:only-of-type {\n",
       "        vertical-align: middle;\n",
       "    }\n",
       "\n",
       "    .dataframe tbody tr th {\n",
       "        vertical-align: top;\n",
       "    }\n",
       "\n",
       "    .dataframe thead th {\n",
       "        text-align: right;\n",
       "    }\n",
       "</style>\n",
       "<table border=\"1\" class=\"dataframe\">\n",
       "  <thead>\n",
       "    <tr style=\"text-align: right;\">\n",
       "      <th></th>\n",
       "      <th>id</th>\n",
       "      <th>isemzyme</th>\n",
       "      <th>functionCounts</th>\n",
       "      <th>ec_number</th>\n",
       "      <th>ec_specific_level</th>\n",
       "      <th>seq</th>\n",
       "      <th>seqlength</th>\n",
       "      <th>f1</th>\n",
       "      <th>f2</th>\n",
       "      <th>f3</th>\n",
       "      <th>...</th>\n",
       "      <th>f1891</th>\n",
       "      <th>f1892</th>\n",
       "      <th>f1893</th>\n",
       "      <th>f1894</th>\n",
       "      <th>f1895</th>\n",
       "      <th>f1896</th>\n",
       "      <th>f1897</th>\n",
       "      <th>f1898</th>\n",
       "      <th>f1899</th>\n",
       "      <th>f1900</th>\n",
       "    </tr>\n",
       "  </thead>\n",
       "  <tbody>\n",
       "    <tr>\n",
       "      <th>0</th>\n",
       "      <td>A0A023GPI8</td>\n",
       "      <td>False</td>\n",
       "      <td>0</td>\n",
       "      <td>-</td>\n",
       "      <td>0</td>\n",
       "      <td>ADTIVAVELDTYPNTDIGDPSYPHIGIDIKSVRSKKTAKWNMQNGK...</td>\n",
       "      <td>236</td>\n",
       "      <td>0.000115</td>\n",
       "      <td>0.105367</td>\n",
       "      <td>0.037413</td>\n",
       "      <td>...</td>\n",
       "      <td>0.052682</td>\n",
       "      <td>-0.020702</td>\n",
       "      <td>0.081852</td>\n",
       "      <td>0.008791</td>\n",
       "      <td>-0.036727</td>\n",
       "      <td>-0.027552</td>\n",
       "      <td>-0.254128</td>\n",
       "      <td>0.020778</td>\n",
       "      <td>0.140904</td>\n",
       "      <td>0.140635</td>\n",
       "    </tr>\n",
       "    <tr>\n",
       "      <th>1</th>\n",
       "      <td>A0A023GPJ0</td>\n",
       "      <td>False</td>\n",
       "      <td>0</td>\n",
       "      <td>-</td>\n",
       "      <td>0</td>\n",
       "      <td>MFGIFSKGEPVSMEGELVQPSSIVINDYEEELHLPLSYWDIKDYKN...</td>\n",
       "      <td>143</td>\n",
       "      <td>0.001688</td>\n",
       "      <td>-0.017209</td>\n",
       "      <td>0.029518</td>\n",
       "      <td>...</td>\n",
       "      <td>0.040570</td>\n",
       "      <td>-0.031992</td>\n",
       "      <td>-0.174783</td>\n",
       "      <td>0.000952</td>\n",
       "      <td>-0.136715</td>\n",
       "      <td>0.042773</td>\n",
       "      <td>0.132279</td>\n",
       "      <td>0.015899</td>\n",
       "      <td>0.152930</td>\n",
       "      <td>-0.003412</td>\n",
       "    </tr>\n",
       "  </tbody>\n",
       "</table>\n",
       "<p>2 rows × 1907 columns</p>\n",
       "</div>"
      ],
      "text/plain": [
       "           id  isemzyme  functionCounts ec_number  ec_specific_level  \\\n",
       "0  A0A023GPI8     False               0         -                  0   \n",
       "1  A0A023GPJ0     False               0         -                  0   \n",
       "\n",
       "                                                 seq  seqlength        f1  \\\n",
       "0  ADTIVAVELDTYPNTDIGDPSYPHIGIDIKSVRSKKTAKWNMQNGK...        236  0.000115   \n",
       "1  MFGIFSKGEPVSMEGELVQPSSIVINDYEEELHLPLSYWDIKDYKN...        143  0.001688   \n",
       "\n",
       "         f2        f3  ...     f1891     f1892     f1893     f1894     f1895  \\\n",
       "0  0.105367  0.037413  ...  0.052682 -0.020702  0.081852  0.008791 -0.036727   \n",
       "1 -0.017209  0.029518  ...  0.040570 -0.031992 -0.174783  0.000952 -0.136715   \n",
       "\n",
       "      f1896     f1897     f1898     f1899     f1900  \n",
       "0 -0.027552 -0.254128  0.020778  0.140904  0.140635  \n",
       "1  0.042773  0.132279  0.015899  0.152930 -0.003412  \n",
       "\n",
       "[2 rows x 1907 columns]"
      ]
     },
     "execution_count": 3,
     "metadata": {},
     "output_type": "execute_result"
    }
   ],
   "source": [
    "train.head(2)"
   ]
  },
  {
   "cell_type": "code",
   "execution_count": 9,
   "metadata": {},
   "outputs": [
    {
     "data": {
      "text/html": [
       "<div>\n",
       "<style scoped>\n",
       "    .dataframe tbody tr th:only-of-type {\n",
       "        vertical-align: middle;\n",
       "    }\n",
       "\n",
       "    .dataframe tbody tr th {\n",
       "        vertical-align: top;\n",
       "    }\n",
       "\n",
       "    .dataframe thead th {\n",
       "        text-align: right;\n",
       "    }\n",
       "</style>\n",
       "<table border=\"1\" class=\"dataframe\">\n",
       "  <thead>\n",
       "    <tr style=\"text-align: right;\">\n",
       "      <th></th>\n",
       "      <th>id</th>\n",
       "      <th>seq</th>\n",
       "      <th>f1</th>\n",
       "      <th>f2</th>\n",
       "      <th>f3</th>\n",
       "      <th>f4</th>\n",
       "      <th>f5</th>\n",
       "      <th>f6</th>\n",
       "      <th>f7</th>\n",
       "      <th>f8</th>\n",
       "      <th>...</th>\n",
       "      <th>f1891</th>\n",
       "      <th>f1892</th>\n",
       "      <th>f1893</th>\n",
       "      <th>f1894</th>\n",
       "      <th>f1895</th>\n",
       "      <th>f1896</th>\n",
       "      <th>f1897</th>\n",
       "      <th>f1898</th>\n",
       "      <th>f1899</th>\n",
       "      <th>f1900</th>\n",
       "    </tr>\n",
       "  </thead>\n",
       "  <tbody>\n",
       "    <tr>\n",
       "      <th>0</th>\n",
       "      <td>A0A023GPI8</td>\n",
       "      <td>ADTIVAVELDTYPNTDIGDPSYPHIGIDIKSVRSKKTAKWNMQNGK...</td>\n",
       "      <td>0.000115</td>\n",
       "      <td>0.105367</td>\n",
       "      <td>0.037413</td>\n",
       "      <td>-0.004680</td>\n",
       "      <td>-0.858723</td>\n",
       "      <td>-0.005938</td>\n",
       "      <td>-0.185719</td>\n",
       "      <td>-0.001632</td>\n",
       "      <td>...</td>\n",
       "      <td>0.052682</td>\n",
       "      <td>-0.020702</td>\n",
       "      <td>0.081852</td>\n",
       "      <td>0.008791</td>\n",
       "      <td>-0.036727</td>\n",
       "      <td>-0.027552</td>\n",
       "      <td>-0.254128</td>\n",
       "      <td>0.020778</td>\n",
       "      <td>0.140904</td>\n",
       "      <td>0.140635</td>\n",
       "    </tr>\n",
       "    <tr>\n",
       "      <th>1</th>\n",
       "      <td>A0A023GPJ0</td>\n",
       "      <td>MFGIFSKGEPVSMEGELVQPSSIVINDYEEELHLPLSYWDIKDYKN...</td>\n",
       "      <td>0.001688</td>\n",
       "      <td>-0.017209</td>\n",
       "      <td>0.029518</td>\n",
       "      <td>-0.006667</td>\n",
       "      <td>-0.059617</td>\n",
       "      <td>0.023538</td>\n",
       "      <td>-0.471475</td>\n",
       "      <td>-0.024655</td>\n",
       "      <td>...</td>\n",
       "      <td>0.040570</td>\n",
       "      <td>-0.031992</td>\n",
       "      <td>-0.174783</td>\n",
       "      <td>0.000952</td>\n",
       "      <td>-0.136715</td>\n",
       "      <td>0.042773</td>\n",
       "      <td>0.132279</td>\n",
       "      <td>0.015899</td>\n",
       "      <td>0.152930</td>\n",
       "      <td>-0.003412</td>\n",
       "    </tr>\n",
       "    <tr>\n",
       "      <th>2</th>\n",
       "      <td>A0A023PXA5</td>\n",
       "      <td>MLLSELVATASSLPYTAISIHNNCRVPAARHIHHGCRYFHGPPVMH...</td>\n",
       "      <td>0.003066</td>\n",
       "      <td>-0.010453</td>\n",
       "      <td>0.013398</td>\n",
       "      <td>-0.004610</td>\n",
       "      <td>0.032372</td>\n",
       "      <td>0.012028</td>\n",
       "      <td>-0.286492</td>\n",
       "      <td>-0.021037</td>\n",
       "      <td>...</td>\n",
       "      <td>0.014996</td>\n",
       "      <td>0.034800</td>\n",
       "      <td>-0.221564</td>\n",
       "      <td>0.014209</td>\n",
       "      <td>-0.019194</td>\n",
       "      <td>-0.006493</td>\n",
       "      <td>0.121753</td>\n",
       "      <td>0.040914</td>\n",
       "      <td>0.143036</td>\n",
       "      <td>-0.024102</td>\n",
       "    </tr>\n",
       "    <tr>\n",
       "      <th>3</th>\n",
       "      <td>A0A023PXB0</td>\n",
       "      <td>MFINGFVNYPVRTPPNDLLQVVLHGFLRCPLDGSQVDSIGIGHTVH...</td>\n",
       "      <td>0.016568</td>\n",
       "      <td>-0.021448</td>\n",
       "      <td>0.025598</td>\n",
       "      <td>-0.003162</td>\n",
       "      <td>-0.186159</td>\n",
       "      <td>0.047845</td>\n",
       "      <td>-0.739865</td>\n",
       "      <td>-0.025081</td>\n",
       "      <td>...</td>\n",
       "      <td>0.081018</td>\n",
       "      <td>-0.162543</td>\n",
       "      <td>-0.121671</td>\n",
       "      <td>0.006464</td>\n",
       "      <td>-0.045551</td>\n",
       "      <td>-0.033775</td>\n",
       "      <td>0.038735</td>\n",
       "      <td>-0.108828</td>\n",
       "      <td>0.042148</td>\n",
       "      <td>0.042277</td>\n",
       "    </tr>\n",
       "    <tr>\n",
       "      <th>4</th>\n",
       "      <td>A0A023PXB5</td>\n",
       "      <td>MFALIISSKGKTSGFFFNSSFSSSALVGIAPLTAYSALVTPVFKSF...</td>\n",
       "      <td>0.002214</td>\n",
       "      <td>-0.008754</td>\n",
       "      <td>0.012546</td>\n",
       "      <td>-0.001072</td>\n",
       "      <td>0.001833</td>\n",
       "      <td>0.001680</td>\n",
       "      <td>-0.206841</td>\n",
       "      <td>-0.003949</td>\n",
       "      <td>...</td>\n",
       "      <td>0.000570</td>\n",
       "      <td>-0.177887</td>\n",
       "      <td>-0.351524</td>\n",
       "      <td>0.017807</td>\n",
       "      <td>0.052179</td>\n",
       "      <td>0.050745</td>\n",
       "      <td>0.439712</td>\n",
       "      <td>0.071341</td>\n",
       "      <td>0.324028</td>\n",
       "      <td>-0.041494</td>\n",
       "    </tr>\n",
       "    <tr>\n",
       "      <th>...</th>\n",
       "      <td>...</td>\n",
       "      <td>...</td>\n",
       "      <td>...</td>\n",
       "      <td>...</td>\n",
       "      <td>...</td>\n",
       "      <td>...</td>\n",
       "      <td>...</td>\n",
       "      <td>...</td>\n",
       "      <td>...</td>\n",
       "      <td>...</td>\n",
       "      <td>...</td>\n",
       "      <td>...</td>\n",
       "      <td>...</td>\n",
       "      <td>...</td>\n",
       "      <td>...</td>\n",
       "      <td>...</td>\n",
       "      <td>...</td>\n",
       "      <td>...</td>\n",
       "      <td>...</td>\n",
       "      <td>...</td>\n",
       "      <td>...</td>\n",
       "    </tr>\n",
       "    <tr>\n",
       "      <th>469124</th>\n",
       "      <td>X5IWS1</td>\n",
       "      <td>MKLTCVVIVAALLLTACQLITALDCGGTQKHRALRSTIKLSLLRQH...</td>\n",
       "      <td>0.000362</td>\n",
       "      <td>-0.116292</td>\n",
       "      <td>0.106362</td>\n",
       "      <td>-0.002374</td>\n",
       "      <td>-0.431054</td>\n",
       "      <td>0.029109</td>\n",
       "      <td>-0.336339</td>\n",
       "      <td>-0.002836</td>\n",
       "      <td>...</td>\n",
       "      <td>-0.043532</td>\n",
       "      <td>-0.140887</td>\n",
       "      <td>0.032296</td>\n",
       "      <td>-0.025618</td>\n",
       "      <td>-0.397847</td>\n",
       "      <td>0.008253</td>\n",
       "      <td>-0.271723</td>\n",
       "      <td>-0.034782</td>\n",
       "      <td>-0.209635</td>\n",
       "      <td>0.154475</td>\n",
       "    </tr>\n",
       "    <tr>\n",
       "      <th>469125</th>\n",
       "      <td>X5JA13</td>\n",
       "      <td>MTEGIRARGPRSSSVNSVPLILDIEDFKGDFSFDALFGNLVNDLLP...</td>\n",
       "      <td>0.000235</td>\n",
       "      <td>0.023418</td>\n",
       "      <td>0.002429</td>\n",
       "      <td>-0.024888</td>\n",
       "      <td>0.715104</td>\n",
       "      <td>0.003398</td>\n",
       "      <td>0.026157</td>\n",
       "      <td>-0.000957</td>\n",
       "      <td>...</td>\n",
       "      <td>0.000126</td>\n",
       "      <td>0.023057</td>\n",
       "      <td>-0.052336</td>\n",
       "      <td>0.024291</td>\n",
       "      <td>-0.072905</td>\n",
       "      <td>-0.127662</td>\n",
       "      <td>0.120465</td>\n",
       "      <td>0.004537</td>\n",
       "      <td>-0.033176</td>\n",
       "      <td>0.015282</td>\n",
       "    </tr>\n",
       "    <tr>\n",
       "      <th>469126</th>\n",
       "      <td>X5JB51</td>\n",
       "      <td>MTERIRARGPRSSSVNSVPLILDIEDFKGDFSFDALFGNLVNDLLP...</td>\n",
       "      <td>0.000265</td>\n",
       "      <td>0.024664</td>\n",
       "      <td>0.002740</td>\n",
       "      <td>-0.026059</td>\n",
       "      <td>0.714850</td>\n",
       "      <td>0.003718</td>\n",
       "      <td>0.027012</td>\n",
       "      <td>-0.001132</td>\n",
       "      <td>...</td>\n",
       "      <td>0.000863</td>\n",
       "      <td>0.025310</td>\n",
       "      <td>-0.059424</td>\n",
       "      <td>0.025009</td>\n",
       "      <td>-0.076028</td>\n",
       "      <td>-0.131405</td>\n",
       "      <td>0.114073</td>\n",
       "      <td>0.005262</td>\n",
       "      <td>-0.034246</td>\n",
       "      <td>0.000684</td>\n",
       "    </tr>\n",
       "    <tr>\n",
       "      <th>469127</th>\n",
       "      <td>X5M5N0</td>\n",
       "      <td>MPDSITNGGRPPAPPSSVSSTTASTTGNFGTRRRLVNRIKKVDELH...</td>\n",
       "      <td>0.008849</td>\n",
       "      <td>-0.048567</td>\n",
       "      <td>0.006696</td>\n",
       "      <td>-0.000739</td>\n",
       "      <td>0.013892</td>\n",
       "      <td>0.023365</td>\n",
       "      <td>-0.808696</td>\n",
       "      <td>-0.012115</td>\n",
       "      <td>...</td>\n",
       "      <td>0.023532</td>\n",
       "      <td>0.012408</td>\n",
       "      <td>-0.053530</td>\n",
       "      <td>0.001955</td>\n",
       "      <td>0.023169</td>\n",
       "      <td>-0.067590</td>\n",
       "      <td>0.104228</td>\n",
       "      <td>0.005967</td>\n",
       "      <td>0.102840</td>\n",
       "      <td>0.042471</td>\n",
       "    </tr>\n",
       "    <tr>\n",
       "      <th>469128</th>\n",
       "      <td>X5M8U1</td>\n",
       "      <td>MLFLRLFIFTPFLILANCQARRTIKVGLLFVQNVSSLQVGIGYRTS...</td>\n",
       "      <td>0.000398</td>\n",
       "      <td>-0.009521</td>\n",
       "      <td>0.016264</td>\n",
       "      <td>-0.007999</td>\n",
       "      <td>-0.334839</td>\n",
       "      <td>-0.105765</td>\n",
       "      <td>-0.504499</td>\n",
       "      <td>-0.011645</td>\n",
       "      <td>...</td>\n",
       "      <td>-0.013663</td>\n",
       "      <td>0.153751</td>\n",
       "      <td>-0.027059</td>\n",
       "      <td>0.038232</td>\n",
       "      <td>-0.296490</td>\n",
       "      <td>-0.021092</td>\n",
       "      <td>-0.179116</td>\n",
       "      <td>0.184701</td>\n",
       "      <td>0.232670</td>\n",
       "      <td>-0.429622</td>\n",
       "    </tr>\n",
       "  </tbody>\n",
       "</table>\n",
       "<p>469129 rows × 1902 columns</p>\n",
       "</div>"
      ],
      "text/plain": [
       "                id                                                seq  \\\n",
       "0       A0A023GPI8  ADTIVAVELDTYPNTDIGDPSYPHIGIDIKSVRSKKTAKWNMQNGK...   \n",
       "1       A0A023GPJ0  MFGIFSKGEPVSMEGELVQPSSIVINDYEEELHLPLSYWDIKDYKN...   \n",
       "2       A0A023PXA5  MLLSELVATASSLPYTAISIHNNCRVPAARHIHHGCRYFHGPPVMH...   \n",
       "3       A0A023PXB0  MFINGFVNYPVRTPPNDLLQVVLHGFLRCPLDGSQVDSIGIGHTVH...   \n",
       "4       A0A023PXB5  MFALIISSKGKTSGFFFNSSFSSSALVGIAPLTAYSALVTPVFKSF...   \n",
       "...            ...                                                ...   \n",
       "469124      X5IWS1  MKLTCVVIVAALLLTACQLITALDCGGTQKHRALRSTIKLSLLRQH...   \n",
       "469125      X5JA13  MTEGIRARGPRSSSVNSVPLILDIEDFKGDFSFDALFGNLVNDLLP...   \n",
       "469126      X5JB51  MTERIRARGPRSSSVNSVPLILDIEDFKGDFSFDALFGNLVNDLLP...   \n",
       "469127      X5M5N0  MPDSITNGGRPPAPPSSVSSTTASTTGNFGTRRRLVNRIKKVDELH...   \n",
       "469128      X5M8U1  MLFLRLFIFTPFLILANCQARRTIKVGLLFVQNVSSLQVGIGYRTS...   \n",
       "\n",
       "              f1        f2        f3        f4        f5        f6        f7  \\\n",
       "0       0.000115  0.105367  0.037413 -0.004680 -0.858723 -0.005938 -0.185719   \n",
       "1       0.001688 -0.017209  0.029518 -0.006667 -0.059617  0.023538 -0.471475   \n",
       "2       0.003066 -0.010453  0.013398 -0.004610  0.032372  0.012028 -0.286492   \n",
       "3       0.016568 -0.021448  0.025598 -0.003162 -0.186159  0.047845 -0.739865   \n",
       "4       0.002214 -0.008754  0.012546 -0.001072  0.001833  0.001680 -0.206841   \n",
       "...          ...       ...       ...       ...       ...       ...       ...   \n",
       "469124  0.000362 -0.116292  0.106362 -0.002374 -0.431054  0.029109 -0.336339   \n",
       "469125  0.000235  0.023418  0.002429 -0.024888  0.715104  0.003398  0.026157   \n",
       "469126  0.000265  0.024664  0.002740 -0.026059  0.714850  0.003718  0.027012   \n",
       "469127  0.008849 -0.048567  0.006696 -0.000739  0.013892  0.023365 -0.808696   \n",
       "469128  0.000398 -0.009521  0.016264 -0.007999 -0.334839 -0.105765 -0.504499   \n",
       "\n",
       "              f8  ...     f1891     f1892     f1893     f1894     f1895  \\\n",
       "0      -0.001632  ...  0.052682 -0.020702  0.081852  0.008791 -0.036727   \n",
       "1      -0.024655  ...  0.040570 -0.031992 -0.174783  0.000952 -0.136715   \n",
       "2      -0.021037  ...  0.014996  0.034800 -0.221564  0.014209 -0.019194   \n",
       "3      -0.025081  ...  0.081018 -0.162543 -0.121671  0.006464 -0.045551   \n",
       "4      -0.003949  ...  0.000570 -0.177887 -0.351524  0.017807  0.052179   \n",
       "...          ...  ...       ...       ...       ...       ...       ...   \n",
       "469124 -0.002836  ... -0.043532 -0.140887  0.032296 -0.025618 -0.397847   \n",
       "469125 -0.000957  ...  0.000126  0.023057 -0.052336  0.024291 -0.072905   \n",
       "469126 -0.001132  ...  0.000863  0.025310 -0.059424  0.025009 -0.076028   \n",
       "469127 -0.012115  ...  0.023532  0.012408 -0.053530  0.001955  0.023169   \n",
       "469128 -0.011645  ... -0.013663  0.153751 -0.027059  0.038232 -0.296490   \n",
       "\n",
       "           f1896     f1897     f1898     f1899     f1900  \n",
       "0      -0.027552 -0.254128  0.020778  0.140904  0.140635  \n",
       "1       0.042773  0.132279  0.015899  0.152930 -0.003412  \n",
       "2      -0.006493  0.121753  0.040914  0.143036 -0.024102  \n",
       "3      -0.033775  0.038735 -0.108828  0.042148  0.042277  \n",
       "4       0.050745  0.439712  0.071341  0.324028 -0.041494  \n",
       "...          ...       ...       ...       ...       ...  \n",
       "469124  0.008253 -0.271723 -0.034782 -0.209635  0.154475  \n",
       "469125 -0.127662  0.120465  0.004537 -0.033176  0.015282  \n",
       "469126 -0.131405  0.114073  0.005262 -0.034246  0.000684  \n",
       "469127 -0.067590  0.104228  0.005967  0.102840  0.042471  \n",
       "469128 -0.021092 -0.179116  0.184701  0.232670 -0.429622  \n",
       "\n",
       "[469129 rows x 1902 columns]"
      ]
     },
     "execution_count": 9,
     "metadata": {},
     "output_type": "execute_result"
    }
   ],
   "source": [
    "unitrain"
   ]
  },
  {
   "cell_type": "markdown",
   "metadata": {},
   "source": [
    "## 3. 同源比对"
   ]
  },
  {
   "cell_type": "code",
   "execution_count": 4,
   "metadata": {
    "tags": []
   },
   "outputs": [
    {
     "name": "stdout",
     "output_type": "stream",
     "text": [
      " aligment finished \n",
      " query samples:8033\n",
      " results samples: 6034\n"
     ]
    }
   ],
   "source": [
    "# 读取比对结果\n",
    "res_data=funclib.getblast_fasta(trainfasta=cfg.TRAIN_FASTA,testfasta=cfg.TEST_FASTA)\n",
    "print(' aligment finished \\n query samples:{0}\\n results samples: {1}'.format(len(test), len(res_data)))"
   ]
  },
  {
   "cell_type": "code",
   "execution_count": 5,
   "metadata": {},
   "outputs": [
    {
     "name": "stdout",
     "output_type": "stream",
     "text": [
      "baslineName \t accuracy \t precision(PPV) \t NPV \t\t recall \t f1 \t\t \t confusion Matrix\n",
      "Blast \t\t0.703598 \t0.969148 \t\t0.904980 \t0.807488 \t0.880963 \t tp: 2890 fp: 92 fn: 290 tn: 2762 up: 399 un: 1600\n"
     ]
    }
   ],
   "source": [
    "# 给比对结果添加标签\n",
    "isEmzyme_dict = {v: k for k,v in zip(train.isemzyme, train.id )} \n",
    "res_data['isEmzyme_pred'] = res_data['sseqid'].apply(lambda x: isEmzyme_dict.get(x))\n",
    "\n",
    "isEmzyme_dict_test = {v: k for k,v in zip(test.isemzyme, test.id )} \n",
    "res_data['isEmzyme_groudtruth'] = res_data['id'].apply(lambda x: isEmzyme_dict_test.get(x))\n",
    "\n",
    "# 获取比对结果\n",
    "res_data_sub = res_data[['id','isEmzyme_pred']]\n",
    "\n",
    "#选取测试集的ID与是否是酶2列\n",
    "test_data_sub=test[['id', 'isemzyme']]\n",
    "test_data_sub.reset_index(drop=True, inplace=True)\n",
    "\n",
    "#拼合比对结果到测试集\n",
    "res = pd.merge(test_data_sub,res_data_sub, on='id', how='left')\n",
    "\n",
    "print('baslineName', '\\t', 'accuracy','\\t', 'precision(PPV) \\t NPV \\t\\t', 'recall','\\t', 'f1', '\\t\\t', '\\t confusion Matrix')\n",
    "eva.caculateMetrix(groundtruth=res.isemzyme, predict=res.isEmzyme_pred, baselineName='Blast', type='include_unfind')\n"
   ]
  },
  {
   "cell_type": "markdown",
   "metadata": {
    "tags": []
   },
   "source": [
    "## 4. 机器学习方法预测\n",
    "### 4.1 one-hot + 机器学习"
   ]
  },
  {
   "cell_type": "code",
   "execution_count": 6,
   "metadata": {},
   "outputs": [],
   "source": [
    "MAX_SEQ_LENGTH = 1500 #定义序列最长的长度\n",
    "trainset.seq = trainset.seq.map(lambda x : x[0:MAX_SEQ_LENGTH].ljust(MAX_SEQ_LENGTH, 'X'))\n",
    "testset.seq = testset.seq.map(lambda x : x[0:MAX_SEQ_LENGTH].ljust(MAX_SEQ_LENGTH, 'X'))\n",
    "\n",
    "\n",
    "f_train = funclib.dna_onehot(trainset) #训练集编码\n",
    "f_test = funclib.dna_onehot(testset) #测试集编码"
   ]
  },
  {
   "cell_type": "code",
   "execution_count": 7,
   "metadata": {},
   "outputs": [
    {
     "name": "stdout",
     "output_type": "stream",
     "text": [
      "baslineName \t accuracy \t precision(PPV) \t NPV \t\t recall \t f1 \t\t \t\t confusion Matrix\n",
      "knn \t\t0.633014 \t0.668626 \t\t0.622201 \t0.349539 \t0.459083 \t tp: 1251 fp: 620 fn: 2328 tn: 3834\n",
      "lr \t\t0.657413 \t0.597547 \t\t0.724302 \t0.707740 \t0.647992 \t tp: 2533 fp: 1706 fn: 1046 tn: 2748\n",
      "xg \t\t0.742064 \t0.733788 \t\t0.747609 \t0.660799 \t0.695384 \t tp: 2365 fp: 858 fn: 1214 tn: 3596\n",
      "dt \t\t0.626914 \t0.586197 \t\t0.656431 \t0.552948 \t0.569087 \t tp: 1979 fp: 1397 fn: 1600 tn: 3057\n",
      "rf \t\t0.716171 \t0.676831 \t\t0.749312 \t0.694607 \t0.685604 \t tp: 2486 fp: 1187 fn: 1093 tn: 3267\n",
      "gbdt \t\t0.677455 \t0.616290 \t\t0.746103 \t0.731489 \t0.668966 \t tp: 2618 fp: 1630 fn: 961 tn: 2824\n"
     ]
    }
   ],
   "source": [
    "# 计算指标\n",
    "X_train = np.array(f_train.iloc[:,2:])\n",
    "X_test = np.array(f_test.iloc[:,2:])\n",
    "Y_train = np.array(f_train.isemzyme.astype('int'))\n",
    "Y_test = np.array(f_test.isemzyme.astype('int'))\n",
    "funclib.run_baseline(X_train, Y_train, X_test, Y_test)"
   ]
  },
  {
   "cell_type": "markdown",
   "metadata": {},
   "source": [
    "## 5. Unirep + 机器学习"
   ]
  },
  {
   "cell_type": "code",
   "execution_count": 8,
   "metadata": {},
   "outputs": [
    {
     "name": "stdout",
     "output_type": "stream",
     "text": [
      "baslineName \t accuracy \t precision(PPV) \t NPV \t\t recall \t f1 \t\t \t\t confusion Matrix\n",
      "knn \t\t0.848624 \t0.867039 \t\t0.836311 \t0.779827 \t0.821124 \t tp: 2791 fp: 428 fn: 788 tn: 4026\n",
      "lr \t\t0.838043 \t0.862739 \t\t0.822195 \t0.756915 \t0.806370 \t tp: 2709 fp: 431 fn: 870 tn: 4023\n",
      "xg \t\t0.880866 \t0.907649 \t\t0.862985 \t0.815591 \t0.859161 \t tp: 2919 fp: 297 fn: 660 tn: 4157\n",
      "dt \t\t0.792232 \t0.788520 \t\t0.794834 \t0.729254 \t0.757730 \t tp: 2610 fp: 700 fn: 969 tn: 3754\n",
      "rf \t\t0.863438 \t0.915050 \t\t0.832838 \t0.764459 \t0.833004 \t tp: 2736 fp: 254 fn: 843 tn: 4200\n",
      "gbdt \t\t0.833188 \t0.873790 \t\t0.809051 \t0.731210 \t0.796167 \t tp: 2617 fp: 378 fn: 962 tn: 4076\n"
     ]
    }
   ],
   "source": [
    "X_train = np.array(train.iloc[:,7:])\n",
    "X_test = np.array(test.iloc[:,7:])\n",
    "\n",
    "Y_train = np.array(train.isemzyme.astype('int')).flatten()\n",
    "Y_test = np.array(test.isemzyme.astype('int')).flatten()\n",
    "\n",
    "funclib.run_baseline(X_train, Y_train, X_test, Y_test)"
   ]
  },
  {
   "cell_type": "markdown",
   "metadata": {
    "tags": []
   },
   "source": [
    "## 6. ESM + 机器学习\n",
    "### 6.1 REP33"
   ]
  },
  {
   "cell_type": "code",
   "execution_count": 9,
   "metadata": {},
   "outputs": [],
   "source": [
    "train_esm_33 = pd.read_feather(cfg.DATADIR + 'train_rep33.feather')\n",
    "test_esm_33 = pd.read_feather(cfg.DATADIR + 'test_rep33.feather')\n",
    "\n",
    "train_esm = trainset.merge(train_esm_33, on='id', how='left')\n",
    "test_esm = testset.merge(test_esm_33, on='id', how='left')"
   ]
  },
  {
   "cell_type": "code",
   "execution_count": 10,
   "metadata": {},
   "outputs": [
    {
     "name": "stdout",
     "output_type": "stream",
     "text": [
      "baslineName \t accuracy \t precision(PPV) \t NPV \t\t recall \t f1 \t\t \t\t confusion Matrix\n",
      "knn \t\t0.927300 \t0.935953 \t\t0.920835 \t0.898296 \t0.916738 \t tp: 3215 fp: 220 fn: 364 tn: 4234\n",
      "lr \t\t0.908378 \t0.927005 \t\t0.895196 \t0.862252 \t0.893457 \t tp: 3086 fp: 243 fn: 493 tn: 4211\n",
      "xg \t\t0.928047 \t0.952913 \t\t0.910593 \t0.882090 \t0.916135 \t tp: 3157 fp: 156 fn: 422 tn: 4298\n",
      "dt \t\t0.833811 \t0.848664 \t\t0.823884 \t0.763062 \t0.803590 \t tp: 2731 fp: 487 fn: 848 tn: 3967\n",
      "rf \t\t0.916096 \t0.960965 \t\t0.887136 \t0.846046 \t0.899851 \t tp: 3028 fp: 123 fn: 551 tn: 4331\n",
      "gbdt \t\t0.865804 \t0.901703 \t\t0.843089 \t0.784297 \t0.838912 \t tp: 2807 fp: 306 fn: 772 tn: 4148\n"
     ]
    }
   ],
   "source": [
    "X_train = np.array(train_esm.iloc[:,4:])\n",
    "X_test = np.array(test_esm.iloc[:,4:])\n",
    "\n",
    "Y_train = np.array(train_esm.isemzyme.astype('int')).flatten()\n",
    "Y_test = np.array(test_esm.isemzyme.astype('int')).flatten()\n",
    "\n",
    "funclib.run_baseline(X_train, Y_train, X_test, Y_test)"
   ]
  },
  {
   "cell_type": "markdown",
   "metadata": {},
   "source": [
    "### 6.2 REP32"
   ]
  },
  {
   "cell_type": "code",
   "execution_count": 6,
   "metadata": {
    "tags": []
   },
   "outputs": [
    {
     "name": "stdout",
     "output_type": "stream",
     "text": [
      "baslineName \t accuracy \t precision(PPV) \t NPV \t\t recall \t f1 \t\t \t\t confusion Matrix\n",
      "knn \t\t0.929416 \t0.941125 \t\t0.920762 \t0.897737 \t0.918919 \t tp: 3213 fp: 201 fn: 366 tn: 4253\n"
     ]
    },
    {
     "name": "stderr",
     "output_type": "stream",
     "text": [
      "/home/shizhenkun/anaconda3/envs/py38/lib/python3.7/site-packages/sklearn/svm/_base.py:986: ConvergenceWarning: Liblinear failed to converge, increase the number of iterations.\n",
      "  \"the number of iterations.\", ConvergenceWarning)\n"
     ]
    },
    {
     "name": "stdout",
     "output_type": "stream",
     "text": [
      "lr \t\t0.909374 \t0.924888 \t\t0.898247 \t0.867002 \t0.895010 \t tp: 3103 fp: 252 fn: 476 tn: 4202\n",
      "xg \t\t0.926180 \t0.950513 \t\t0.909091 \t0.880134 \t0.913971 \t tp: 3150 fp: 164 fn: 429 tn: 4290\n",
      "dt \t\t0.842898 \t0.855914 \t\t0.834031 \t0.778430 \t0.815335 \t tp: 2786 fp: 469 fn: 793 tn: 3985\n",
      "rf \t\t0.915723 \t0.965661 \t\t0.884076 \t0.840738 \t0.898880 \t tp: 3009 fp: 107 fn: 570 tn: 4347\n",
      "gbdt \t\t0.872028 \t0.905049 \t\t0.850737 \t0.796312 \t0.847206 \t tp: 2850 fp: 299 fn: 729 tn: 4155\n"
     ]
    }
   ],
   "source": [
    "train_esm_32 = pd.read_feather(cfg.DATADIR + 'train_rep32.feather')\n",
    "test_esm_32 = pd.read_feather(cfg.DATADIR + 'test_rep32.feather')\n",
    "\n",
    "train_esm = trainset.merge(train_esm_32, on='id', how='left')\n",
    "test_esm = testset.merge(test_esm_32, on='id', how='left')\n",
    "\n",
    "X_train = np.array(train_esm.iloc[:,4:])\n",
    "X_test = np.array(test_esm.iloc[:,4:])\n",
    "\n",
    "Y_train = np.array(train_esm.isemzyme.astype('int')).flatten()\n",
    "Y_test = np.array(test_esm.isemzyme.astype('int')).flatten()\n",
    "\n",
    "funclib.run_baseline(X_train, Y_train, X_test, Y_test)"
   ]
  },
  {
   "cell_type": "markdown",
   "metadata": {},
   "source": [
    "### 6.3 REP0"
   ]
  },
  {
   "cell_type": "code",
   "execution_count": 7,
   "metadata": {},
   "outputs": [
    {
     "name": "stdout",
     "output_type": "stream",
     "text": [
      "baslineName \t accuracy \t precision(PPV) \t NPV \t\t recall \t f1 \t\t \t\t confusion Matrix\n",
      "knn \t\t0.824599 \t0.789179 \t\t0.855641 \t0.827326 \t0.807802 \t tp: 2961 fp: 791 fn: 618 tn: 3663\n",
      "lr \t\t0.757251 \t0.721031 \t\t0.787948 \t0.742386 \t0.731553 \t tp: 2657 fp: 1028 fn: 922 tn: 3426\n",
      "xg \t\t0.847504 \t0.844555 \t\t0.849686 \t0.806091 \t0.824875 \t tp: 2885 fp: 531 fn: 694 tn: 3923\n",
      "dt \t\t0.760612 \t0.739722 \t\t0.776370 \t0.713887 \t0.726575 \t tp: 2555 fp: 899 fn: 1024 tn: 3555\n",
      "rf \t\t0.853853 \t0.863623 \t\t0.847017 \t0.797988 \t0.829509 \t tp: 2856 fp: 451 fn: 723 tn: 4003\n",
      "gbdt \t\t0.820988 \t0.810020 \t\t0.829258 \t0.781503 \t0.795506 \t tp: 2797 fp: 656 fn: 782 tn: 3798\n"
     ]
    }
   ],
   "source": [
    "train_esm_0 = pd.read_feather(cfg.DATADIR + 'train_rep0.feather')\n",
    "test_esm_0 = pd.read_feather(cfg.DATADIR + 'test_rep0.feather')\n",
    "\n",
    "train_esm = trainset.merge(train_esm_0, on='id', how='left')\n",
    "test_esm = testset.merge(test_esm_0, on='id', how='left')\n",
    "\n",
    "X_train = np.array(train_esm.iloc[:,4:])\n",
    "X_test = np.array(test_esm.iloc[:,4:])\n",
    "\n",
    "Y_train = np.array(train_esm.isemzyme.astype('int')).flatten()\n",
    "Y_test = np.array(test_esm.isemzyme.astype('int')).flatten()\n",
    "\n",
    "funclib.run_baseline(X_train, Y_train, X_test, Y_test)"
   ]
  },
  {
   "cell_type": "markdown",
   "metadata": {},
   "source": [
    "## 7. Ours"
   ]
  },
  {
   "cell_type": "code",
   "execution_count": 8,
   "metadata": {},
   "outputs": [],
   "source": [
    "# get blast results\n",
    "blastres=pd.DataFrame()\n",
    "blastres['id']=res.id\n",
    "blastres['isemzyme_groundtruth']=res.isemzyme\n",
    "blastres['isEmzyme_pred_blast']=res.isEmzyme_pred"
   ]
  },
  {
   "cell_type": "code",
   "execution_count": 9,
   "metadata": {},
   "outputs": [],
   "source": [
    "#res32\n",
    "train_esm_32 = pd.read_feather(cfg.DATADIR + 'train_rep32.feather')\n",
    "test_esm_32 = pd.read_feather(cfg.DATADIR + 'test_rep32.feather')\n",
    "\n",
    "train_esm = trainset.merge(train_esm_32, on='id', how='left')\n",
    "test_esm = testset.merge(test_esm_32, on='id', how='left')\n",
    "\n",
    "X_train = np.array(train_esm.iloc[:,4:])\n",
    "X_test = np.array(test_esm.iloc[:,4:])\n",
    "\n",
    "Y_train = np.array(train_esm.isemzyme.astype('int')).flatten()\n",
    "Y_test = np.array(test_esm.isemzyme.astype('int')).flatten()"
   ]
  },
  {
   "cell_type": "code",
   "execution_count": 10,
   "metadata": {},
   "outputs": [
    {
     "name": "stdout",
     "output_type": "stream",
     "text": [
      "baslineName \t accuracy \t precision(PPV) \t NPV \t\t recall \t f1 \t\t \t confusion Matrix\n",
      "ours \t\t0.931159 \t0.952452 \t\t0.915974 \t0.889913 \t0.920121 \t tp: 3185 fp: 159 fn: 394 tn: 4295\n"
     ]
    }
   ],
   "source": [
    "# groundtruth, predict, predictprob = funclib.xgmain(X_train, Y_train, X_test, Y_test, type='binary')\n",
    "groundtruth, predict, predictprob = funclib.knnmain(X_train, Y_train, X_test, Y_test, type='binary')\n",
    "blastres['isEmzyme_pred_xg'] = predict\n",
    "blastres.isEmzyme_pred_xg =blastres.isEmzyme_pred_xg.astype('bool')\n",
    "blastres['isEmzyme_pred_slice']=blastres.apply(lambda x: x.isEmzyme_pred_xg if str(x.isEmzyme_pred_blast)=='nan' else x.isEmzyme_pred_blast, axis=1)\n",
    "print('baslineName', '\\t', 'accuracy','\\t', 'precision(PPV) \\t NPV \\t\\t', 'recall','\\t', 'f1', '\\t\\t', '\\t confusion Matrix')\n",
    "eva.caculateMetrix( groundtruth=blastres.isemzyme_groundtruth,  predict=blastres.isEmzyme_pred_slice, baselineName='ours', type='binary')"
   ]
  },
  {
   "cell_type": "code",
   "execution_count": 62,
   "metadata": {},
   "outputs": [],
   "source": [
    "# 保存文件\n",
    "blastres.to_csv(cfg.FILE_SLICE_ISENZYME_RESULTS, sep='\\t', index=None)"
   ]
  }
 ],
 "metadata": {
  "kernelspec": {
   "display_name": "py38",
   "language": "python",
   "name": "py38"
  },
  "language_info": {
   "codemirror_mode": {
    "name": "ipython",
    "version": 3
   },
   "file_extension": ".py",
   "mimetype": "text/x-python",
   "name": "python",
   "nbconvert_exporter": "python",
   "pygments_lexer": "ipython3",
   "version": "3.7.10"
  },
  "widgets": {
   "application/vnd.jupyter.widget-state+json": {
    "state": {},
    "version_major": 2,
    "version_minor": 0
   }
  }
 },
 "nbformat": 4,
 "nbformat_minor": 4
}
