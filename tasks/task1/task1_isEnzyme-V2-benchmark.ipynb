{
 "cells": [
  {
   "cell_type": "markdown",
   "metadata": {
    "tags": []
   },
   "source": [
    "# Task1. 预测是酶还是非酶\n",
    "\n",
    "> author: Shizhenkun   \n",
    "> email: zhenkun.shi@tib.cas.cn   \n",
    "> date: 2021-08-26  \n",
    "\n",
    "## 任务简介\n",
    "该任务通过给定蛋白序列，预测该该蛋白是酶还是非酶。本任务所使用的数据集为Sport，对数据集的数据中进行学习，然后对新给定的蛋白序列数据预测是酶还是非酶。\n",
    "\n",
    "\n",
    "## 数据统计\n",
    "- 数据源Sprot，酶 219,227 条， 非酶226,539条。\n",
    "- 将数据集中的所有数据按照时间排序，～90%作为训练集，～10%作为测试集，找到对应时间节点为2009年12月14日。\n",
    "- 以2009年12月14日为时间节点，之前的数据为训练集，之后的数据为测试集，具体数据集统计如下： \n",
    "\n",
    "###  三级以下EC号的算作是酶 \n",
    "\n",
    "\n",
    "\n",
    "\n",
    "\n"
   ]
  },
  {
   "cell_type": "markdown",
   "metadata": {},
   "source": [
    "## 1. 导入必要的包、定义公共函数"
   ]
  },
  {
   "cell_type": "code",
   "execution_count": 1,
   "metadata": {
    "tags": []
   },
   "outputs": [
    {
     "name": "stdout",
     "output_type": "stream",
     "text": [
      "INFO: Pandarallel will run on 32 workers.\n",
      "INFO: Pandarallel will use Memory file system to transfer data between the main process and workers.\n"
     ]
    }
   ],
   "source": [
    "import numpy as np\n",
    "import pandas as pd\n",
    "import random\n",
    "import time\n",
    "import datetime\n",
    "import sys\n",
    "import os\n",
    "from tqdm import tqdm\n",
    "from functools import reduce\n",
    "\n",
    "sys.path.append(\"../../tools/\")\n",
    "import commontools\n",
    "import funclib\n",
    "import ucTools\n",
    "\n",
    "sys.path.append(\"../../\")\n",
    "import benchmark_common as bcommon\n",
    "import benchmark_train as btrain\n",
    "import benchmark_test as btest\n",
    "import benchmark_config as cfg\n",
    "import benchmark_evaluation as eva\n",
    "\n",
    "from sklearn.model_selection import train_test_split\n",
    "from xgboost import XGBClassifier\n",
    "\n",
    "from pandarallel import pandarallel # 导入pandaralle\n",
    "pandarallel.initialize() # 初始化该这个b...并行库\n",
    "\n",
    "%load_ext autoreload\n",
    "%autoreload 2"
   ]
  },
  {
   "cell_type": "markdown",
   "metadata": {},
   "source": [
    "## 2. 加载数据"
   ]
  },
  {
   "cell_type": "code",
   "execution_count": 2,
   "metadata": {},
   "outputs": [
    {
     "name": "stdout",
     "output_type": "stream",
     "text": [
      "train size: 469129\n",
      "test size: 8033\n"
     ]
    }
   ],
   "source": [
    "train = pd.read_feather(cfg.DATADIR+'train.feather')\n",
    "test = pd.read_feather(cfg.DATADIR+'test.feather')\n",
    "\n",
    "print('train size: {0}\\ntest size: {1}'.format(len(train), len(test)))\n",
    "\n",
    "trainset = train[['id', 'isemzyme','seq', 'seqlength']].reset_index(drop=True)\n",
    "testset = test[['id', 'isemzyme','seq', 'seqlength']].reset_index(drop=True)"
   ]
  },
  {
   "cell_type": "code",
   "execution_count": 3,
   "metadata": {},
   "outputs": [
    {
     "data": {
      "text/html": [
       "<div>\n",
       "<style scoped>\n",
       "    .dataframe tbody tr th:only-of-type {\n",
       "        vertical-align: middle;\n",
       "    }\n",
       "\n",
       "    .dataframe tbody tr th {\n",
       "        vertical-align: top;\n",
       "    }\n",
       "\n",
       "    .dataframe thead th {\n",
       "        text-align: right;\n",
       "    }\n",
       "</style>\n",
       "<table border=\"1\" class=\"dataframe\">\n",
       "  <thead>\n",
       "    <tr style=\"text-align: right;\">\n",
       "      <th></th>\n",
       "      <th>id</th>\n",
       "      <th>isemzyme</th>\n",
       "      <th>functionCounts</th>\n",
       "      <th>ec_number</th>\n",
       "      <th>ec_specific_level</th>\n",
       "      <th>seq</th>\n",
       "      <th>seqlength</th>\n",
       "      <th>f1</th>\n",
       "      <th>f2</th>\n",
       "      <th>f3</th>\n",
       "      <th>...</th>\n",
       "      <th>f1891</th>\n",
       "      <th>f1892</th>\n",
       "      <th>f1893</th>\n",
       "      <th>f1894</th>\n",
       "      <th>f1895</th>\n",
       "      <th>f1896</th>\n",
       "      <th>f1897</th>\n",
       "      <th>f1898</th>\n",
       "      <th>f1899</th>\n",
       "      <th>f1900</th>\n",
       "    </tr>\n",
       "  </thead>\n",
       "  <tbody>\n",
       "    <tr>\n",
       "      <th>0</th>\n",
       "      <td>A0A023GPI8</td>\n",
       "      <td>False</td>\n",
       "      <td>0</td>\n",
       "      <td>-</td>\n",
       "      <td>0</td>\n",
       "      <td>ADTIVAVELDTYPNTDIGDPSYPHIGIDIKSVRSKKTAKWNMQNGK...</td>\n",
       "      <td>236</td>\n",
       "      <td>0.000115</td>\n",
       "      <td>0.105367</td>\n",
       "      <td>0.037413</td>\n",
       "      <td>...</td>\n",
       "      <td>0.052682</td>\n",
       "      <td>-0.020702</td>\n",
       "      <td>0.081852</td>\n",
       "      <td>0.008791</td>\n",
       "      <td>-0.036727</td>\n",
       "      <td>-0.027552</td>\n",
       "      <td>-0.254128</td>\n",
       "      <td>0.020778</td>\n",
       "      <td>0.140904</td>\n",
       "      <td>0.140635</td>\n",
       "    </tr>\n",
       "    <tr>\n",
       "      <th>1</th>\n",
       "      <td>A0A023GPJ0</td>\n",
       "      <td>False</td>\n",
       "      <td>0</td>\n",
       "      <td>-</td>\n",
       "      <td>0</td>\n",
       "      <td>MFGIFSKGEPVSMEGELVQPSSIVINDYEEELHLPLSYWDIKDYKN...</td>\n",
       "      <td>143</td>\n",
       "      <td>0.001688</td>\n",
       "      <td>-0.017209</td>\n",
       "      <td>0.029518</td>\n",
       "      <td>...</td>\n",
       "      <td>0.040570</td>\n",
       "      <td>-0.031992</td>\n",
       "      <td>-0.174783</td>\n",
       "      <td>0.000952</td>\n",
       "      <td>-0.136715</td>\n",
       "      <td>0.042773</td>\n",
       "      <td>0.132279</td>\n",
       "      <td>0.015899</td>\n",
       "      <td>0.152930</td>\n",
       "      <td>-0.003412</td>\n",
       "    </tr>\n",
       "  </tbody>\n",
       "</table>\n",
       "<p>2 rows × 1907 columns</p>\n",
       "</div>"
      ],
      "text/plain": [
       "           id  isemzyme  functionCounts ec_number  ec_specific_level  \\\n",
       "0  A0A023GPI8     False               0         -                  0   \n",
       "1  A0A023GPJ0     False               0         -                  0   \n",
       "\n",
       "                                                 seq  seqlength        f1  \\\n",
       "0  ADTIVAVELDTYPNTDIGDPSYPHIGIDIKSVRSKKTAKWNMQNGK...        236  0.000115   \n",
       "1  MFGIFSKGEPVSMEGELVQPSSIVINDYEEELHLPLSYWDIKDYKN...        143  0.001688   \n",
       "\n",
       "         f2        f3  ...     f1891     f1892     f1893     f1894     f1895  \\\n",
       "0  0.105367  0.037413  ...  0.052682 -0.020702  0.081852  0.008791 -0.036727   \n",
       "1 -0.017209  0.029518  ...  0.040570 -0.031992 -0.174783  0.000952 -0.136715   \n",
       "\n",
       "      f1896     f1897     f1898     f1899     f1900  \n",
       "0 -0.027552 -0.254128  0.020778  0.140904  0.140635  \n",
       "1  0.042773  0.132279  0.015899  0.152930 -0.003412  \n",
       "\n",
       "[2 rows x 1907 columns]"
      ]
     },
     "execution_count": 3,
     "metadata": {},
     "output_type": "execute_result"
    }
   ],
   "source": [
    "train.head(2)"
   ]
  },
  {
   "cell_type": "markdown",
   "metadata": {},
   "source": [
    "## 3. 同源比对"
   ]
  },
  {
   "cell_type": "code",
   "execution_count": 4,
   "metadata": {},
   "outputs": [
    {
     "name": "stdout",
     "output_type": "stream",
     "text": [
      "diamond makedb --in /home/shizhenkun/codebase/BioUniprot/data/benchmark/data/train.fasta -d /tmp/train.dmnd\n",
      "diamond blastp -d /tmp/train.dmnd  -q  /home/shizhenkun/codebase/BioUniprot/data/benchmark/data/test.fasta -o /tmp/test_fasta_results.tsv -b5 -c1 -k 1\n",
      " query samples:8033\n",
      " results samples: 6034\n"
     ]
    }
   ],
   "source": [
    "# 读取比对结果\n",
    "res_data=funclib.getblast_fasta(trainfasta=cfg.TRAIN_FASTA,testfasta=cfg.TEST_FASTA)\n",
    "print(' query samples:{0}\\n results samples: {1}'.format(len(test), len(res_data)))"
   ]
  },
  {
   "cell_type": "code",
   "execution_count": 5,
   "metadata": {},
   "outputs": [
    {
     "name": "stdout",
     "output_type": "stream",
     "text": [
      "baslineName \t accuracy \t precision(PPV) \t NPV \t\t recall \t f1 \t\t \t confusion Matrix\n",
      "Blast \t\t0.703598 \t0.969148 \t\t0.904980 \t0.807488 \t0.880963 \t tp: 2890 fp: 92 fn: 290 tn: 2762 up: 399 un: 1600\n"
     ]
    }
   ],
   "source": [
    "# 给比对结果添加标签\n",
    "isEmzyme_dict = {v: k for k,v in zip(train.isemzyme, train.id )} \n",
    "res_data['isEmzyme_pred'] = res_data['sseqid'].apply(lambda x: isEmzyme_dict.get(x))\n",
    "\n",
    "isEmzyme_dict_test = {v: k for k,v in zip(test.isemzyme, test.id )} \n",
    "res_data['isEmzyme_groudtruth'] = res_data['id'].apply(lambda x: isEmzyme_dict_test.get(x))\n",
    "\n",
    "# 获取比对结果\n",
    "res_data_sub = res_data[['id','isEmzyme_pred']]\n",
    "\n",
    "#选取测试集的ID与是否是酶2列\n",
    "test_data_sub=test[['id', 'isemzyme']]\n",
    "test_data_sub.reset_index(drop=True, inplace=True)\n",
    "\n",
    "#拼合比对结果到测试集\n",
    "res = pd.merge(test_data_sub,res_data_sub, on='id', how='left')\n",
    "\n",
    "print('baslineName', '\\t', 'accuracy','\\t', 'precision(PPV) \\t NPV \\t\\t', 'recall','\\t', 'f1', '\\t\\t', '\\t confusion Matrix')\n",
    "eva.caculateMetrix(groundtruth=res.isemzyme, predict=res.isEmzyme_pred, baselineName='Blast', type='include_unfind')\n"
   ]
  },
  {
   "cell_type": "markdown",
   "metadata": {
    "tags": []
   },
   "source": [
    "## 4. 机器学习方法预测\n",
    "### 4.1 one-hot + 机器学习"
   ]
  },
  {
   "cell_type": "code",
   "execution_count": 6,
   "metadata": {},
   "outputs": [],
   "source": [
    "MAX_SEQ_LENGTH = 1500 #定义序列最长的长度\n",
    "trainset.seq = trainset.seq.map(lambda x : x[0:MAX_SEQ_LENGTH].ljust(MAX_SEQ_LENGTH, 'X'))\n",
    "testset.seq = testset.seq.map(lambda x : x[0:MAX_SEQ_LENGTH].ljust(MAX_SEQ_LENGTH, 'X'))\n",
    "\n",
    "\n",
    "f_train = funclib.dna_onehot(trainset) #训练集编码\n",
    "f_test = funclib.dna_onehot(testset) #测试集编码"
   ]
  },
  {
   "cell_type": "code",
   "execution_count": 7,
   "metadata": {},
   "outputs": [
    {
     "name": "stdout",
     "output_type": "stream",
     "text": [
      "baslineName \t accuracy \t precision(PPV) \t NPV \t\t recall \t f1 \t\t auroc \t\t auprc \t\t confusion Matrix\n",
      "lr \t\t0.647330 \t0.588599 \t\t0.712006 \t0.692372 \t0.636282 \t tp: 2478 fp: 1732 fn: 1101 tn: 2722\n",
      "xg \t\t0.699863 \t0.674850 \t\t0.717665 \t0.629785 \t0.651539 \t tp: 2254 fp: 1086 fn: 1325 tn: 3368\n",
      "dt \t\t0.630400 \t0.591317 \t\t0.658214 \t0.551830 \t0.570892 \t tp: 1975 fp: 1365 fn: 1604 tn: 3089\n",
      "rf \t\t0.716171 \t0.676831 \t\t0.749312 \t0.694607 \t0.685604 \t tp: 2486 fp: 1187 fn: 1093 tn: 3267\n",
      "gbdt \t\t0.677455 \t0.616290 \t\t0.746103 \t0.731489 \t0.668966 \t tp: 2618 fp: 1630 fn: 961 tn: 2824\n"
     ]
    }
   ],
   "source": [
    "# 计算指标\n",
    "X_train = np.array(f_train.iloc[:,2:])\n",
    "X_test = np.array(f_test.iloc[:,2:])\n",
    "Y_train = np.array(f_train.isemzyme.astype('int'))\n",
    "Y_test = np.array(f_test.isemzyme.astype('int'))\n",
    "funclib.run_baseline(X_train, Y_train, X_test, Y_test)"
   ]
  },
  {
   "cell_type": "markdown",
   "metadata": {},
   "source": [
    "### 5. Unirep + 机器学习"
   ]
  },
  {
   "cell_type": "code",
   "execution_count": 8,
   "metadata": {},
   "outputs": [
    {
     "name": "stdout",
     "output_type": "stream",
     "text": [
      "baslineName \t accuracy \t precision(PPV) \t NPV \t\t recall \t f1 \t\t auroc \t\t auprc \t\t confusion Matrix\n",
      "lr \t\t0.836798 \t0.859316 \t\t0.822227 \t0.757754 \t0.805345 \t tp: 2712 fp: 444 fn: 867 tn: 4010\n",
      "xg \t\t0.866302 \t0.891284 \t\t0.849752 \t0.797150 \t0.841593 \t tp: 2853 fp: 348 fn: 726 tn: 4106\n",
      "dt \t\t0.796465 \t0.794724 \t\t0.797677 \t0.732327 \t0.762251 \t tp: 2621 fp: 677 fn: 958 tn: 3777\n",
      "rf \t\t0.863438 \t0.915050 \t\t0.832838 \t0.764459 \t0.833004 \t tp: 2736 fp: 254 fn: 843 tn: 4200\n",
      "gbdt \t\t0.833188 \t0.873790 \t\t0.809051 \t0.731210 \t0.796167 \t tp: 2617 fp: 378 fn: 962 tn: 4076\n"
     ]
    }
   ],
   "source": [
    "X_train = np.array(train.iloc[:,7:])\n",
    "X_test = np.array(test.iloc[:,7:])\n",
    "\n",
    "Y_train = np.array(train.isemzyme.astype('int')).flatten()\n",
    "Y_test = np.array(test.isemzyme.astype('int')).flatten()\n",
    "\n",
    "funclib.run_baseline(X_train, Y_train, X_test, Y_test)"
   ]
  },
  {
   "cell_type": "markdown",
   "metadata": {
    "tags": []
   },
   "source": [
    "### 6. ESM + 机器学习\n",
    "#### 6.1 REP33"
   ]
  },
  {
   "cell_type": "code",
   "execution_count": 9,
   "metadata": {},
   "outputs": [],
   "source": [
    "train_esm_33 = pd.read_feather(cfg.DATADIR + 'train_rep33.feather')\n",
    "test_esm_33 = pd.read_feather(cfg.DATADIR + 'test_rep33.feather')\n",
    "\n",
    "train_esm = trainset.merge(train_esm_33, on='id', how='left')\n",
    "test_esm = testset.merge(test_esm_33, on='id', how='left')"
   ]
  },
  {
   "cell_type": "code",
   "execution_count": null,
   "metadata": {},
   "outputs": [
    {
     "name": "stdout",
     "output_type": "stream",
     "text": [
      "baslineName \t accuracy \t precision(PPV) \t NPV \t\t recall \t f1 \t\t auroc \t\t auprc \t\t confusion Matrix\n",
      "lr \t\t0.903150 \t0.920444 \t\t0.890897 \t0.856664 \t0.887410 \t tp: 3066 fp: 265 fn: 513 tn: 4189\n",
      "xg \t\t0.912859 \t0.939006 \t\t0.894825 \t0.860296 \t0.897929 \t tp: 3079 fp: 200 fn: 500 tn: 4254\n",
      "dt \t\t0.828956 \t0.841860 \t\t0.820300 \t0.758592 \t0.798060 \t tp: 2715 fp: 510 fn: 864 tn: 3944\n",
      "rf \t\t0.916096 \t0.960965 \t\t0.887136 \t0.846046 \t0.899851 \t tp: 3028 fp: 123 fn: 551 tn: 4331\n"
     ]
    }
   ],
   "source": [
    "X_train = np.array(train_esm.iloc[:,4:])\n",
    "X_test = np.array(test_esm.iloc[:,4:])\n",
    "\n",
    "Y_train = np.array(train_esm.isemzyme.astype('int')).flatten()\n",
    "Y_test = np.array(test_esm.isemzyme.astype('int')).flatten()\n",
    "\n",
    "funclib.run_baseline(X_train, Y_train, X_test, Y_test)"
   ]
  },
  {
   "cell_type": "markdown",
   "metadata": {},
   "source": [
    "#### 6.2 REP32"
   ]
  },
  {
   "cell_type": "code",
   "execution_count": null,
   "metadata": {},
   "outputs": [],
   "source": [
    "train_esm_32 = pd.read_feather(cfg.DATADIR + 'train_rep32.feather')\n",
    "test_esm_32 = pd.read_feather(cfg.DATADIR + 'test_rep32.feather')\n",
    "\n",
    "train_esm = trainset.merge(train_esm_32, on='id', how='left')\n",
    "test_esm = testset.merge(test_esm_32, on='id', how='left')\n",
    "\n",
    "X_train = np.array(train_esm.iloc[:,4:])\n",
    "X_test = np.array(test_esm.iloc[:,4:])\n",
    "\n",
    "Y_train = np.array(train_esm.isemzyme.astype('int')).flatten()\n",
    "Y_test = np.array(test_esm.isemzyme.astype('int')).flatten()\n",
    "\n",
    "funclib.run_baseline(X_train, Y_train, X_test, Y_test)"
   ]
  },
  {
   "cell_type": "markdown",
   "metadata": {},
   "source": [
    "#### 6.3 REP0"
   ]
  },
  {
   "cell_type": "code",
   "execution_count": null,
   "metadata": {},
   "outputs": [],
   "source": [
    "train_esm_0 = pd.read_feather(cfg.DATADIR + 'train_rep0.feather')\n",
    "test_esm_0 = pd.read_feather(cfg.DATADIR + 'test_rep0.feather')\n",
    "\n",
    "train_esm = trainset.merge(train_esm_0, on='id', how='left')\n",
    "test_esm = testset.merge(test_esm_0, on='id', how='left')\n",
    "\n",
    "X_train = np.array(train_esm.iloc[:,4:])\n",
    "X_test = np.array(test_esm.iloc[:,4:])\n",
    "\n",
    "Y_train = np.array(train_esm.isemzyme.astype('int')).flatten()\n",
    "Y_test = np.array(test_esm.isemzyme.astype('int')).flatten()\n",
    "\n",
    "funclib.run_baseline(X_train, Y_train, X_test, Y_test)"
   ]
  }
 ],
 "metadata": {
  "kernelspec": {
   "display_name": "py38",
   "language": "python",
   "name": "py38"
  },
  "language_info": {
   "codemirror_mode": {
    "name": "ipython",
    "version": 3
   },
   "file_extension": ".py",
   "mimetype": "text/x-python",
   "name": "python",
   "nbconvert_exporter": "python",
   "pygments_lexer": "ipython3",
   "version": "3.8.10"
  }
 },
 "nbformat": 4,
 "nbformat_minor": 4
}
