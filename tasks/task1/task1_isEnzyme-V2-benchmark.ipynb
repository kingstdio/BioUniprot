{
 "cells": [
  {
   "cell_type": "markdown",
   "metadata": {
    "tags": []
   },
   "source": [
    "# Task1. 预测是酶还是非酶\n",
    "\n",
    "> author: Shizhenkun   \n",
    "> email: zhenkun.shi@tib.cas.cn   \n",
    "> date: 2021-08-26  \n",
    "\n",
    "## 任务简介\n",
    "该任务通过给定蛋白序列，预测该该蛋白是酶还是非酶。本任务所使用的数据集为Sport，对数据集的数据中进行学习，然后对新给定的蛋白序列数据预测是酶还是非酶。\n",
    "\n",
    "\n",
    "## 数据统计\n",
    "- 数据源Sprot，酶 219,227 条， 非酶226,539条。\n",
    "- 将数据集中的所有数据按照时间排序，～90%作为训练集，～10%作为测试集，找到对应时间节点为2009年12月14日。\n",
    "- 以2009年12月14日为时间节点，之前的数据为训练集，之后的数据为测试集，具体数据集统计如下： \n",
    "\n",
    "###  三级以下EC号的算作是酶 \n",
    "\n",
    "|   Items   | 酶      |   非酶    |合计                               |\n",
    "|-----------| --------| --------- |----------------------------------|\n",
    "| 训练集     | 198,692 | 208,391   | 407,083（407,083/453,212=89.82%) |\n",
    "| 测试集     | 20,535  | 25,594    | 46,129 (46,129/453,212=10.18% )  |\n",
    "\n",
    "\n",
    "<div style=\"background-color: lightyellow; border-style: dotted; width:1100px; margin:auto; padding:35px;\">\n",
    "\n",
    "\n",
    "比对结果：\n",
    "34813(查询有结果的)/46129（测试集总条数）\n",
    "\n",
    "有查询结果：\n",
    "酶: 18147/17919; 非酶: 16666/16894   \n",
    "无查询结果的条数：11316\n",
    "酶：2616； 非酶：8700\n",
    "    \n",
    "    \n",
    "|baslineName| accuracy \t |precision(PPV) |\t NPV \t |\trecall |\tf1 \t |\t auroc \t |\t auprc \t |\t confusion Matrix\t\t\t\t\t\t|\n",
    "| ----------| -----------|---------------| --------- | --------|---------|-----------|---------- |------------------------------------------|\n",
    "|同源比对 <span style=\"color:red\">「无比对结果的全算非酶」 </span> |0.915931    |\t0.958946 \t  |\t 0.888035 | 0.847431|0.899747  | \t \t   |           |tp:17402  fp:745  fn:3133  tn:24849      |\n",
    "|同源比对 <span style=\"color:red\">「无比对结果的全算酶」 </span>   | 0.784040  |0.679428 |0.968979  |0.974823| 0.800752 | \t |\t| tp:20018  fp:9445  fn:517  tn:16149|\n",
    "|同源比对 <span style=\"color:red\">「无比对结果的随机猜测1/2算酶，1/2非酶」 </span>   | 0.848685  |0.784351| 0.917467  |0.910397|0.842686| \t| \t \t| tp:18695  fp:5140  fn:1840  tn:20454|\n",
    "|同源比对 <span style=\"color:red\">「只计算有比对结果的」 </span>\t|0.963749  \t|0.958946 \t\t   |0.968979 | \t0.971148 |0.965009\t|\t \t \t| \t| tp:17402  fp:745  fn:517  tn:16149|\n",
    "|DeepEC\t \t| 0.848013  |\t0.979370 \t|\t 0.790151| 0.672754|0.797610  |\t\t \t |           |tp:13815  fp:291  fn:6720  tn:25303|\n",
    "|集成XGBOOST | 0.935615  |\t0.919272 |\t 0.949210|  0.937716\t |0.928403\t\t |\t |\t |\t tp:19256  fp:1691  fn:1279  tn:23903|\n",
    "|集成dt \t |0.912658  \t|0.881448 \t| 0.940228  |\t0.928707\t |0.904460\t\t |\t |\t | tp:19071  fp:2565  fn:1464  tn:23029|\n",
    "    \n",
    "</div>\n",
    "\n",
    "</br></br>\n",
    "\n",
    "###  三级以下EC号的扔掉，不包括到数据集中 \n",
    "    \n",
    "|    Items    | 酶       |   非酶    |合计                               |\n",
    "| ------------ | --------| --------- |----------------------------------|\n",
    "| 训练集        | 198,692 | 202,602   | 401,294（401,294/445,798=90.02%)  |\n",
    "| 测试集        | 20,535  | 23,969    | 44,504 (44,504/445,798= 9.98% )  |\n",
    "\n",
    "\n",
    "<div style=\"background-color: lightgreen; border-style: dotted; width:1100px; margin:auto; padding:35px;\">\n",
    "    \n",
    "\n",
    "比对结果：\n",
    "33514(查询有结果的)/44504（测试集总条数）\n",
    "\n",
    "有查询结果：\n",
    "酶: 17551/17854; 非酶: 15344/15660   \n",
    "无查询结果的条数：10990\n",
    "酶：2681； 非酶：10990\n",
    "    \n",
    "    \n",
    "    \n",
    "|baslineName| accuracy \t |precision(PPV) |\t NPV \t |\trecall |\tf1 \t |\t auroc \t |\t auprc \t |\t confusion Matrix\t\t\t\t\t\t|\n",
    "| ----------| -----------|---------------| --------- | --------|---------|-----------|---------- |------------------------------------------|\n",
    "|同源比对 <span style=\"color:red\">「无比对结果的全算非酶」 </span>  |0.925849  \t|0.982314 \t|0.887975  |0.854687 | 0.914067\t| \t| \t| \t tp:17551  fp:316  fn:2984  tn:23653|\n",
    "|同源比对 <span style=\"color:red\">「无比对结果的全算酶」 </span>   | 0.799389 |0.701112   | 0.980635  | 0.985245\t| 0.819242\t|\t |\t| \t  tp:20232  fp:8625  fn:303  tn:15344|\n",
    "|同源比对 <span style=\"color:red\">「无比对结果的随机猜测1/2算酶，1/2非酶」 </span>   | 0.864394|  \t0.810599| \t0.923731|  \t0.921402|\t 0.862456|\t|\t| tp:18921  fp:4421  fn:1614  tn:19548|\n",
    "|同源比对 <span style=\"color:red\">「只计算有比对结果的」 </span>\t|0.981530  \t|0.982314|0.980635 | \t0.983029\t| 0.982671|     |\t\t| \t tp:17551  fp:316  fn:303  tn:15344|\n",
    "|同源比对<span style=\"color:red\">「无比对结果的算错误」 </span>  \t| 0.739147  |0.751263| 0.725759|  \t0.751681\t| 0.751472|\t\t |\t \t| \t tp:17551  fp:5811  fn:5798  tn:15344|\n",
    "|DeepEC\t \t | 0.842913  |\t0.980761  |0.779078  |\t0.672754 | 0.798071\t| \t |\t |\t tp:13815  fp:271  fn:6720  tn:23698|\n",
    "|ECPred\t \t |0.898593   |0.836455 \t  | 0.970088 |0.969856\t |0.898230\t|\t |\t |\t tp:19916  fp:3894  fn:619  tn:20075|\n",
    "|集成lr \t \t|0.948454  \t|0.941863 \t|0.954155  \t|0.946725\t |0.944288\t|\t| \t| \t tp:19441  fp:1200  fn:1094  tn:22769|\n",
    "|集成xg \t \t|0.952431  \t|0.947691 \t|0.956505  \t|0.949306\t |0.948498\t|\t| \t| \t tp:19494  fp:1076  fn:1041  tn:22893|\n",
    "|集成dt \t \t|0.926816  \t|0.904827 \t|0.947073  \t|0.940297\t |0.922221\t|\t| \t| \t tp:19309  fp:2031  fn:1226  tn:21938|\n",
    "|集成rf \t \t|0.952746  \t|0.954214 \t|0.951516  \t|0.942829\t |0.948487\t|\t| \t| \t tp:19361  fp:929   fn:1174  tn:23040|\n",
    "|集成gbdt \t|0.951488  \t|0.949863 \t|0.952865  \t|0.944729\t |0.947289\t|\t| \t| \t tp:19400  fp:1024  fn:1135  tn:2294 |   \n",
    "</div>\n",
    "\n",
    "\n",
    "\n",
    "\n",
    "\n",
    "\n",
    "\n",
    "\n",
    "\n",
    "## 实验方法\n",
    "\n",
    "- 同源比对：使用训练集建立比对库，然后将测试集与之比对，取最优的比对结果，比对结果的（酶/非酶）属性当作测试集的测试结果\n",
    "- 传统机器学习方法\n",
    "- 深度学习方法\n",
    "\n",
    "\n",
    "\n",
    "## 实验结果\n",
    "\n",
    "### baselines\n",
    "\n",
    "\n",
    "\n",
    "\n",
    "<div style=\"background-color: lightyellow; border-style: dotted; width:1100px; margin:auto; padding:35px;\">\n",
    "\n",
    "###  三级以下EC号的算作是酶     \n",
    "    \n",
    "### 机器学习 + onehot\n",
    "\n",
    "\n",
    "|baslineName| accuracy \t |precision(PPV) |\t NPV \t |\trecall |\tf1 \t |\t auroc \t |\t auprc \t |\t confusion Matrix\t\t\t\t\t\t|\n",
    "| ----------| -----------|---------------| --------- | --------|---------|-----------|---------- |------------------------------------------|\n",
    "| lr \t\t|\t0.609676 |\t0.560377 \t |\t0.680254 |0.715023 |0.628324 |\t0.661484 |\t0.568861 |\t tp: 14683 fp: 11519 fn: 5852 tn: 12450\t|\n",
    "| xg \t\t|\t0.665446 |\t0.643591 \t |\t0.682740 |0.616168 |0.629581 |\t0.742674 |\t0.684483 |\t tp: 12653 fp: 7007 fn: 7882 tn: 16962\t|\n",
    "| dt \t\t|\t0.602418 |\t0.570965 \t |\t0.628129 |0.556562 |0.563671 |\t0.599133 |\t0.522388 |\t tp: 11429 fp: 8588 fn: 9106 tn: 15381\t|\n",
    "| rf \t\t|\t0.666479 |\t0.624934 \t |\t0.710044 |0.693255 |0.657324 |\t0.745132 |\t0.689971 |\t tp: 14236 fp: 8544 fn: 6299 tn: 15425\t|\n",
    "| gbdt  \t| \t0.624079 |\t0.569351 \t |\t0.712026 |0.760604 |0.651226 |\t0.695638 |\t0.628716 |\t tp: 15619 fp: 11814 fn: 4916 tn: 12155\t|\n",
    "\n",
    "\n",
    "### 机器学习 + unirep\n",
    "\n",
    "|baslineName| accuracy \t |precision(PPV) |\t NPV \t |\trecall |\tf1 \t |\t auroc \t |\t auprc \t |\t confusion Matrix\t\t\t\t\t  |\n",
    "| ----------| -----------|---------------| --------- | --------|---------|-----------|---------- |----------------------------------------|\n",
    "|lr \t    |0.826757 \t |\t0.849132 \t |\t0.811034 |0.759484 |0.801810 |\t0.901500 |\t0.892720 |\t tp: 15596 fp: 2771 fn: 4939 tn: 21198|\n",
    "|xg \t    |0.860260\t |\t0.883725 \t |\t0.843327 |0.802776 |0.841308 |\t0.934751 |\t0.927646 |\t tp: 16485 fp: 2169 fn: 4050 tn: 21800|\n",
    "|dt \t    |0.772290 \t |\t0.767612 \t |\t0.775916 |0.726418 |0.746447 |\t0.769004 |\t0.683843 |\t tp: 14917 fp: 4516 fn: 5618 tn: 19453|\n",
    "|rf \t    |0.851070    |\t0.903031 \t |\t0.818172 |0.758705 |0.824600 |\t0.932207 |\t0.922548 |\t tp: 15580 fp: 1673 fn: 4955 tn: 22296|\n",
    "|gbdt \t\t|0.822825 \t |0.864764 \t\t |0.796054 \t |0.730217 |0.791815 |\t0.898601 |\t0.889249 |\t tp: 14995 fp: 2345 fn: 5540 tn: 21624|\n",
    "\n",
    "</div>\n",
    "\n",
    "</br>\n",
    "\n",
    "\n",
    "<div style=\"background-color: lightgreen; border-style: dotted; width:1100px; margin:auto; padding:35px;\">\n",
    "\n",
    "###  三级以下EC号的扔掉，不包括到数据集中     \n",
    "    \n",
    "### 机器学习 + onehot\n",
    "\n",
    "\n",
    "|baslineName| accuracy \t |precision(PPV) |\t NPV \t |\trecall |\tf1 \t |\t auroc \t |\t auprc \t |\t confusion Matrix\t\t\t\t\t\t|\n",
    "| ----------| -----------|---------------| --------- | --------|---------|-----------|---------- |------------------------------------------|\n",
    "|lr \t\t|0.608664 |0.560196 |0.676184 |\t0.706745 |\t0.624995 |\t0.658145 |\t0.565398 \t| tp: 14513 fp: 11394 fn: 6022 tn: 12575\t|\n",
    "|xg \t\t|0.671468 |0.649797 |0.688742 |\t0.624641 |\t0.636971 |\t0.744063 |\t0.685988 \t| tp: 12827 fp: 6913 fn: 7708 tn: 17056\t\t|\n",
    "|dt \t\t|0.606260 |0.574821 |0.632220 |\t0.563428 |\t0.569068 |\t0.603192 |\t0.525313 \t| tp: 11570 fp: 8558 fn: 8965 tn: 15411\t\t|\n",
    "|rf \t\t|0.664435 |0.622416 |0.708882 |\t0.693402 |\t0.655994 |\t0.744528 |\t0.689728 \t| tp: 14239 fp: 8638 fn: 6296 tn: 15331\t\t|\n",
    "|gbdt \t\t|0.622910 |0.568463 |0.710208 |\t0.758753 |\t0.649967 |\t0.694911 |\t0.631114 \t| tp: 15581 fp: 11828 fn: 4954 tn: 12141\t|\n",
    "\n",
    "\n",
    "### 机器学习 + unirep\n",
    "\n",
    "|baslineName| accuracy \t |precision(PPV) |\t NPV \t |\trecall |\tf1 \t |\t auroc \t |\t auprc \t |\t confusion Matrix\t\t\t\t\t  |\n",
    "| ----------| -----------|---------------| --------- | --------|---------|-----------|---------- |----------------------------------------|\n",
    "|lr \t|0.825521 \t|0.847237 \t|0.810231 |\t0.758656 |\t0.800504 |\t0.900743 |\t0.891768 |\t tp: 15579 fp: 2809 fn: 4956 tn: 21160|\n",
    "|xg \t|0.857788 \t|0.881841 \t|0.840514 |\t0.798831 |\t0.838286 |\t0.933706 |\t0.927064 |\t tp: 16404 fp: 2198 fn: 4131 tn: 21771|\n",
    "|dt \t|0.771346 \t|0.766943 \t|0.774750 |\t0.724665 |\t0.745205 |\t0.768002 |\t0.682822 |\t tp: 14881 fp: 4522 fn: 5654 tn: 19447|\n",
    "|rf \t|0.849811 \t|0.901548 \t|0.817075 |\t0.757195 |\t0.823090 |\t0.931437 |\t0.922190 |\t tp: 15549 fp: 1698 fn: 4986 tn: 22271|\n",
    "\n",
    "</div>"
   ]
  },
  {
   "cell_type": "markdown",
   "metadata": {},
   "source": [
    "## 1. 导入必要的包、定义公共函数"
   ]
  },
  {
   "cell_type": "code",
   "execution_count": 1,
   "metadata": {
    "tags": []
   },
   "outputs": [
    {
     "name": "stdout",
     "output_type": "stream",
     "text": [
      "INFO: Pandarallel will run on 32 workers.\n",
      "INFO: Pandarallel will use Memory file system to transfer data between the main process and workers.\n"
     ]
    }
   ],
   "source": [
    "import numpy as np\n",
    "import pandas as pd\n",
    "import random\n",
    "import time\n",
    "import datetime\n",
    "import sys\n",
    "import os\n",
    "from tqdm import tqdm\n",
    "from functools import reduce\n",
    "\n",
    "sys.path.append(\"../../tools/\")\n",
    "import commontools\n",
    "import funclib\n",
    "import ucTools\n",
    "\n",
    "sys.path.append(\"../../\")\n",
    "import benchmark_common as bcommon\n",
    "import benchmark_train as btrain\n",
    "import benchmark_test as btest\n",
    "import benchmark_config as cfg\n",
    "import benchmark_evaluation as eva\n",
    "\n",
    "from pandarallel import pandarallel # 导入pandaralle\n",
    "pandarallel.initialize() # 初始化该这个b...并行库\n",
    "\n",
    "%load_ext autoreload\n",
    "%autoreload 2"
   ]
  },
  {
   "cell_type": "markdown",
   "metadata": {},
   "source": [
    "## 2. 加载数据"
   ]
  },
  {
   "cell_type": "code",
   "execution_count": 2,
   "metadata": {},
   "outputs": [
    {
     "name": "stdout",
     "output_type": "stream",
     "text": [
      "train size: 469129\n",
      "test size: 8033\n"
     ]
    }
   ],
   "source": [
    "train = pd.read_feather(cfg.DATADIR+'train.feather')\n",
    "test = pd.read_feather(cfg.DATADIR+'test.feather')\n",
    "\n",
    "print('train size: {0}\\ntest size: {1}'.format(len(train), len(test)))\n",
    "\n",
    "trainset = train[['id', 'isemzyme','seq', 'seqlength']].reset_index(drop=True)\n",
    "testset = test[['id', 'isemzyme','seq', 'seqlength']].reset_index(drop=True)"
   ]
  },
  {
   "cell_type": "code",
   "execution_count": 3,
   "metadata": {},
   "outputs": [
    {
     "data": {
      "text/html": [
       "<div>\n",
       "<style scoped>\n",
       "    .dataframe tbody tr th:only-of-type {\n",
       "        vertical-align: middle;\n",
       "    }\n",
       "\n",
       "    .dataframe tbody tr th {\n",
       "        vertical-align: top;\n",
       "    }\n",
       "\n",
       "    .dataframe thead th {\n",
       "        text-align: right;\n",
       "    }\n",
       "</style>\n",
       "<table border=\"1\" class=\"dataframe\">\n",
       "  <thead>\n",
       "    <tr style=\"text-align: right;\">\n",
       "      <th></th>\n",
       "      <th>id</th>\n",
       "      <th>isemzyme</th>\n",
       "      <th>functionCounts</th>\n",
       "      <th>ec_number</th>\n",
       "      <th>ec_specific_level</th>\n",
       "      <th>seq</th>\n",
       "      <th>seqlength</th>\n",
       "      <th>f1</th>\n",
       "      <th>f2</th>\n",
       "      <th>f3</th>\n",
       "      <th>...</th>\n",
       "      <th>f1891</th>\n",
       "      <th>f1892</th>\n",
       "      <th>f1893</th>\n",
       "      <th>f1894</th>\n",
       "      <th>f1895</th>\n",
       "      <th>f1896</th>\n",
       "      <th>f1897</th>\n",
       "      <th>f1898</th>\n",
       "      <th>f1899</th>\n",
       "      <th>f1900</th>\n",
       "    </tr>\n",
       "  </thead>\n",
       "  <tbody>\n",
       "    <tr>\n",
       "      <th>0</th>\n",
       "      <td>A0A023GPI8</td>\n",
       "      <td>False</td>\n",
       "      <td>0</td>\n",
       "      <td>-</td>\n",
       "      <td>0</td>\n",
       "      <td>ADTIVAVELDTYPNTDIGDPSYPHIGIDIKSVRSKKTAKWNMQNGK...</td>\n",
       "      <td>236</td>\n",
       "      <td>0.000115</td>\n",
       "      <td>0.105367</td>\n",
       "      <td>0.037413</td>\n",
       "      <td>...</td>\n",
       "      <td>0.052682</td>\n",
       "      <td>-0.020702</td>\n",
       "      <td>0.081852</td>\n",
       "      <td>0.008791</td>\n",
       "      <td>-0.036727</td>\n",
       "      <td>-0.027552</td>\n",
       "      <td>-0.254128</td>\n",
       "      <td>0.020778</td>\n",
       "      <td>0.140904</td>\n",
       "      <td>0.140635</td>\n",
       "    </tr>\n",
       "    <tr>\n",
       "      <th>1</th>\n",
       "      <td>A0A023GPJ0</td>\n",
       "      <td>False</td>\n",
       "      <td>0</td>\n",
       "      <td>-</td>\n",
       "      <td>0</td>\n",
       "      <td>MFGIFSKGEPVSMEGELVQPSSIVINDYEEELHLPLSYWDIKDYKN...</td>\n",
       "      <td>143</td>\n",
       "      <td>0.001688</td>\n",
       "      <td>-0.017209</td>\n",
       "      <td>0.029518</td>\n",
       "      <td>...</td>\n",
       "      <td>0.040570</td>\n",
       "      <td>-0.031992</td>\n",
       "      <td>-0.174783</td>\n",
       "      <td>0.000952</td>\n",
       "      <td>-0.136715</td>\n",
       "      <td>0.042773</td>\n",
       "      <td>0.132279</td>\n",
       "      <td>0.015899</td>\n",
       "      <td>0.152930</td>\n",
       "      <td>-0.003412</td>\n",
       "    </tr>\n",
       "    <tr>\n",
       "      <th>2</th>\n",
       "      <td>A0A023PXA5</td>\n",
       "      <td>False</td>\n",
       "      <td>0</td>\n",
       "      <td>-</td>\n",
       "      <td>0</td>\n",
       "      <td>MLLSELVATASSLPYTAISIHNNCRVPAARHIHHGCRYFHGPPVMH...</td>\n",
       "      <td>189</td>\n",
       "      <td>0.003066</td>\n",
       "      <td>-0.010453</td>\n",
       "      <td>0.013398</td>\n",
       "      <td>...</td>\n",
       "      <td>0.014996</td>\n",
       "      <td>0.034800</td>\n",
       "      <td>-0.221564</td>\n",
       "      <td>0.014209</td>\n",
       "      <td>-0.019194</td>\n",
       "      <td>-0.006493</td>\n",
       "      <td>0.121753</td>\n",
       "      <td>0.040914</td>\n",
       "      <td>0.143036</td>\n",
       "      <td>-0.024102</td>\n",
       "    </tr>\n",
       "  </tbody>\n",
       "</table>\n",
       "<p>3 rows × 1907 columns</p>\n",
       "</div>"
      ],
      "text/plain": [
       "           id  isemzyme  functionCounts ec_number  ec_specific_level  \\\n",
       "0  A0A023GPI8     False               0         -                  0   \n",
       "1  A0A023GPJ0     False               0         -                  0   \n",
       "2  A0A023PXA5     False               0         -                  0   \n",
       "\n",
       "                                                 seq  seqlength        f1  \\\n",
       "0  ADTIVAVELDTYPNTDIGDPSYPHIGIDIKSVRSKKTAKWNMQNGK...        236  0.000115   \n",
       "1  MFGIFSKGEPVSMEGELVQPSSIVINDYEEELHLPLSYWDIKDYKN...        143  0.001688   \n",
       "2  MLLSELVATASSLPYTAISIHNNCRVPAARHIHHGCRYFHGPPVMH...        189  0.003066   \n",
       "\n",
       "         f2        f3  ...     f1891     f1892     f1893     f1894     f1895  \\\n",
       "0  0.105367  0.037413  ...  0.052682 -0.020702  0.081852  0.008791 -0.036727   \n",
       "1 -0.017209  0.029518  ...  0.040570 -0.031992 -0.174783  0.000952 -0.136715   \n",
       "2 -0.010453  0.013398  ...  0.014996  0.034800 -0.221564  0.014209 -0.019194   \n",
       "\n",
       "      f1896     f1897     f1898     f1899     f1900  \n",
       "0 -0.027552 -0.254128  0.020778  0.140904  0.140635  \n",
       "1  0.042773  0.132279  0.015899  0.152930 -0.003412  \n",
       "2 -0.006493  0.121753  0.040914  0.143036 -0.024102  \n",
       "\n",
       "[3 rows x 1907 columns]"
      ]
     },
     "execution_count": 3,
     "metadata": {},
     "output_type": "execute_result"
    }
   ],
   "source": [
    "train.head(3)"
   ]
  },
  {
   "cell_type": "markdown",
   "metadata": {},
   "source": [
    "## 3. 同源比对"
   ]
  },
  {
   "cell_type": "code",
   "execution_count": 8,
   "metadata": {},
   "outputs": [
    {
     "name": "stdout",
     "output_type": "stream",
     "text": [
      "diamond makedb --in /home/shizhenkun/codebase/BioUniprot/data/benchmark/data/train.fasta -d /tmp/train.dmnd\n",
      "diamond blastp -d /tmp/train.dmnd  -q  /home/shizhenkun/codebase/BioUniprot/data/benchmark/data/test.fasta -o /tmp/test_fasta_results.tsv -b5 -c1 -k 1\n",
      " query samples:8033\n",
      " results samples: 6034\n"
     ]
    }
   ],
   "source": [
    "# 读取比对结果\n",
    "res_data=funclib.getblast_fasta(trainfasta=cfg.TRAIN_FASTA,testfasta=cfg.TEST_FASTA)\n",
    "print(' query samples:{0}\\n results samples: {1}'.format(len(test), len(res_data)))"
   ]
  },
  {
   "cell_type": "code",
   "execution_count": 9,
   "metadata": {},
   "outputs": [],
   "source": [
    "# 给比对结果添加标签\n",
    "isEmzyme_dict = {v: k for k,v in zip(train.isemzyme, train.id )} \n",
    "res_data['isEmzyme_pred'] = res_data['sseqid'].apply(lambda x: isEmzyme_dict.get(x))\n",
    "\n",
    "isEmzyme_dict_test = {v: k for k,v in zip(test.isemzyme, test.id )} \n",
    "res_data['isEmzyme_groudtruth'] = res_data['id'].apply(lambda x: isEmzyme_dict_test.get(x))"
   ]
  },
  {
   "cell_type": "code",
   "execution_count": 10,
   "metadata": {},
   "outputs": [],
   "source": [
    "\n",
    "# 获取比对结果\n",
    "res_data_sub = res_data[['id','isEmzyme_pred']]\n",
    "\n",
    "#选取测试集的ID与是否是酶2列\n",
    "test_data_sub=test[['id', 'isemzyme']]\n",
    "test_data_sub.reset_index(drop=True, inplace=True)\n",
    "\n",
    "#拼合比对结果到测试集\n",
    "res = pd.merge(test_data_sub,res_data_sub, on='id', how='left')\n",
    "\n",
    "# 填充没有比对结果的值为非酶\n",
    "res.fillna(False, inplace=True)\n",
    "\n",
    "# # # 填充没有比对结果的值为酶\n",
    "# res.fillna(True, inplace=True)\n",
    "\n",
    "# 填充没有比对结果的值 随机填充\n",
    "# list_enornot=[True, False]\n",
    "# for i in range(len(res[(res.isEmzyme_pred.isnull())])):\n",
    "#     res.fillna(random.choice(list_enornot), inplace=True, limit=1)\n"
   ]
  },
  {
   "cell_type": "code",
   "execution_count": 11,
   "metadata": {},
   "outputs": [
    {
     "name": "stdout",
     "output_type": "stream",
     "text": [
      "同源比对 \t 0.902776  \t0.969148 \t\t 0.863591  \t0.807488\t 0.880963\t\t \t \t \t tp:2890  fp:92  fn:689  tn:4362\n"
     ]
    }
   ],
   "source": [
    "# 计算指标\n",
    "tp = len(res[res.isemzyme & res.isEmzyme_pred])\n",
    "fp = len(res[(res.isemzyme ==False) & (res.isEmzyme_pred)])\n",
    "tn = len(res[(res.isemzyme ==False) & (res.isEmzyme_pred ==False)])\n",
    "fn = len(res[(res.isemzyme ) & (res.isEmzyme_pred == False)])\n",
    "funclib.caculateMetrix_1('同源比对',tp, fp, tn,fn)"
   ]
  },
  {
   "cell_type": "markdown",
   "metadata": {
    "tags": []
   },
   "source": [
    "## 4. 机器学习方法预测\n",
    "### 4.1 one-hot + 机器学习"
   ]
  },
  {
   "cell_type": "code",
   "execution_count": 126,
   "metadata": {},
   "outputs": [],
   "source": [
    "MAX_SEQ_LENGTH = 1500 #定义序列最长的长度\n",
    "trainset.seq = trainset.seq.map(lambda x : x[0:MAX_SEQ_LENGTH].ljust(MAX_SEQ_LENGTH, 'X'))\n",
    "testset.seq = testset.seq.map(lambda x : x[0:MAX_SEQ_LENGTH].ljust(MAX_SEQ_LENGTH, 'X'))"
   ]
  },
  {
   "cell_type": "code",
   "execution_count": 131,
   "metadata": {},
   "outputs": [],
   "source": [
    "f_train = funclib.dna_onehot(trainset) #训练集编码\n",
    "f_test = funclib.dna_onehot(testset) #测试集编码"
   ]
  },
  {
   "cell_type": "code",
   "execution_count": 139,
   "metadata": {},
   "outputs": [
    {
     "name": "stdout",
     "output_type": "stream",
     "text": [
      "baslineName \t accuracy \t precision(PPV) \t NPV \t\t recall \t f1 \t\t auroc \t\t auprc \t\t confusion Matrix\n",
      "lr \t\t0.647330 \t0.588599 \t\t0.712006 \t0.692372 \t0.636282 \t0.710190 \t0.591010 \t tp: 2478 fp: 1732 fn: 1101 tn: 2722\n",
      "xg \t\t0.708702 \t0.685091 \t\t0.725566 \t0.640682 \t0.662143 \t0.792299 \t0.709043 \t tp: 2293 fp: 1054 fn: 1286 tn: 3400\n",
      "dt \t\t0.628283 \t0.588906 \t\t0.656237 \t0.548757 \t0.568123 \t0.620472 \t0.524212 \t tp: 1964 fp: 1371 fn: 1615 tn: 3083\n",
      "rf \t\t0.716171 \t0.676831 \t\t0.749312 \t0.694607 \t0.685604 \t0.807917 \t0.742798 \t tp: 2486 fp: 1187 fn: 1093 tn: 3267\n",
      "gbdt \t\t0.677455 \t0.616290 \t\t0.746103 \t0.731489 \t0.668966 \t0.748616 \t0.646849 \t tp: 2618 fp: 1630 fn: 961 tn: 2824\n"
     ]
    }
   ],
   "source": [
    "# 计算指标\n",
    "X_train = np.array(f_train.iloc[:,2:])\n",
    "X_test = np.array(f_test.iloc[:,2:])\n",
    "Y_train = np.array(f_train.isemzyme.astype('int'))\n",
    "Y_test = np.array(f_test.isemzyme.astype('int'))\n",
    "funclib.run_baseline(X_train, Y_train, X_test, Y_test)"
   ]
  },
  {
   "cell_type": "markdown",
   "metadata": {},
   "source": [
    "### 5. Unirep + 机器学习"
   ]
  },
  {
   "cell_type": "code",
   "execution_count": 152,
   "metadata": {},
   "outputs": [
    {
     "name": "stdout",
     "output_type": "stream",
     "text": [
      "baslineName \t accuracy \t precision(PPV) \t NPV \t\t recall \t f1 \t\t auroc \t\t auprc \t\t confusion Matrix\n",
      "lr \t\t0.836798 \t0.859316 \t\t0.822227 \t0.757754 \t0.805345 \t0.915379 \t0.897222 \t tp: 2712 fp: 444 fn: 867 tn: 4010\n",
      "xg \t\t0.865057 \t0.888508 \t\t0.849440 \t0.797150 \t0.840353 \t0.940442 \t0.928549 \t tp: 2853 fp: 358 fn: 726 tn: 4096\n",
      "dt \t\t0.796589 \t0.795144 \t\t0.797594 \t0.732048 \t0.762293 \t0.790249 \t0.701466 \t tp: 2620 fp: 675 fn: 959 tn: 3779\n",
      "rf \t\t0.863438 \t0.915050 \t\t0.832838 \t0.764459 \t0.833004 \t0.943371 \t0.930049 \t tp: 2736 fp: 254 fn: 843 tn: 4200\n",
      "gbdt \t\t0.833188 \t0.873790 \t\t0.809051 \t0.731210 \t0.796167 \t0.916202 \t0.899225 \t tp: 2617 fp: 378 fn: 962 tn: 4076\n"
     ]
    }
   ],
   "source": [
    "X_train = np.array(train.iloc[:,7:])\n",
    "X_test = np.array(test.iloc[:,7:])\n",
    "\n",
    "Y_train = np.array(train.isemzyme.astype('int')).flatten()\n",
    "Y_test = np.array(test.isemzyme.astype('int')).flatten()\n",
    "\n",
    "funclib.run_baseline(X_train, Y_train, X_test, Y_test)"
   ]
  },
  {
   "cell_type": "markdown",
   "metadata": {
    "tags": []
   },
   "source": [
    "### 6. ESM + 机器学习\n",
    "#### 6.1 REP33"
   ]
  },
  {
   "cell_type": "code",
   "execution_count": 4,
   "metadata": {},
   "outputs": [],
   "source": [
    "train_esm_33 = pd.read_feather(cfg.DATADIR + 'train_rep33.feather')\n",
    "test_esm_33 = pd.read_feather(cfg.DATADIR + 'test_rep33.feather')\n",
    "\n",
    "train_esm = trainset.merge(train_esm_33, on='id', how='left')\n",
    "test_esm = testset.merge(test_esm_33, on='id', how='left')"
   ]
  },
  {
   "cell_type": "code",
   "execution_count": 5,
   "metadata": {},
   "outputs": [
    {
     "name": "stdout",
     "output_type": "stream",
     "text": [
      "baslineName \t accuracy \t precision(PPV) \t NPV \t\t recall \t f1 \t\t auroc \t\t auprc \t\t confusion Matrix\n",
      "lr \t\t0.903150 \t0.920444 \t\t0.890897 \t0.856664 \t0.887410 \t0.959831 \t0.946440 \t tp: 3066 fp: 265 fn: 513 tn: 4189\n",
      "xg \t\t0.915723 \t0.944274 \t\t0.896161 \t0.861693 \t0.901096 \t0.973722 \t0.966651 \t tp: 3084 fp: 182 fn: 495 tn: 4272\n",
      "dt \t\t0.831072 \t0.844176 \t\t0.822268 \t0.761386 \t0.800646 \t0.824227 \t0.749055 \t tp: 2725 fp: 503 fn: 854 tn: 3951\n",
      "rf \t\t0.916096 \t0.960965 \t\t0.887136 \t0.846046 \t0.899851 \t0.973453 \t0.968153 \t tp: 3028 fp: 123 fn: 551 tn: 4331\n",
      "gbdt \t\t0.865804 \t0.901703 \t\t0.843089 \t0.784297 \t0.838912 \t0.942312 \t0.926391 \t tp: 2807 fp: 306 fn: 772 tn: 4148\n"
     ]
    }
   ],
   "source": [
    "X_train = np.array(train_esm.iloc[:,4:])\n",
    "X_test = np.array(test_esm.iloc[:,4:])\n",
    "\n",
    "Y_train = np.array(train_esm.isemzyme.astype('int')).flatten()\n",
    "Y_test = np.array(test_esm.isemzyme.astype('int')).flatten()\n",
    "\n",
    "funclib.run_baseline(X_train, Y_train, X_test, Y_test)"
   ]
  },
  {
   "cell_type": "markdown",
   "metadata": {},
   "source": [
    "#### 6.2 REP32"
   ]
  },
  {
   "cell_type": "code",
   "execution_count": null,
   "metadata": {},
   "outputs": [
    {
     "name": "stdout",
     "output_type": "stream",
     "text": [
      "baslineName \t accuracy \t precision(PPV) \t NPV \t\t recall \t f1 \t\t auroc \t\t auprc \t\t confusion Matrix\n"
     ]
    },
    {
     "name": "stderr",
     "output_type": "stream",
     "text": [
      "[Parallel(n_jobs=-2)]: Using backend LokyBackend with 31 concurrent workers.\n"
     ]
    }
   ],
   "source": [
    "train_esm_32 = pd.read_feather(cfg.DATADIR + 'train_rep32.feather')\n",
    "test_esm_32 = pd.read_feather(cfg.DATADIR + 'test_rep32.feather')\n",
    "\n",
    "train_esm = trainset.merge(train_esm_32, on='id', how='left')\n",
    "test_esm = testset.merge(test_esm_32, on='id', how='left')\n",
    "\n",
    "X_train = np.array(train_esm.iloc[:,4:])\n",
    "X_test = np.array(test_esm.iloc[:,4:])\n",
    "\n",
    "Y_train = np.array(train_esm.isemzyme.astype('int')).flatten()\n",
    "Y_test = np.array(test_esm.isemzyme.astype('int')).flatten()\n",
    "\n",
    "funclib.run_baseline(X_train, Y_train, X_test, Y_test)"
   ]
  },
  {
   "cell_type": "markdown",
   "metadata": {},
   "source": [
    "#### 6.3 REP0"
   ]
  },
  {
   "cell_type": "code",
   "execution_count": null,
   "metadata": {},
   "outputs": [],
   "source": [
    "train_esm_0 = pd.read_feather(cfg.DATADIR + 'train_rep0.feather')\n",
    "test_esm_0 = pd.read_feather(cfg.DATADIR + 'test_rep0.feather')\n",
    "\n",
    "train_esm = trainset.merge(train_esm_0, on='id', how='left')\n",
    "test_esm = testset.merge(test_esm_0, on='id', how='left')\n",
    "\n",
    "X_train = np.array(train_esm.iloc[:,4:])\n",
    "X_test = np.array(test_esm.iloc[:,4:])\n",
    "\n",
    "Y_train = np.array(train_esm.isemzyme.astype('int')).flatten()\n",
    "Y_test = np.array(test_esm.isemzyme.astype('int')).flatten()\n",
    "\n",
    "funclib.run_baseline(X_train, Y_train, X_test, Y_test)"
   ]
  },
  {
   "cell_type": "code",
   "execution_count": null,
   "metadata": {},
   "outputs": [],
   "source": []
  }
 ],
 "metadata": {
  "kernelspec": {
   "display_name": "py38",
   "language": "python",
   "name": "py38"
  },
  "language_info": {
   "codemirror_mode": {
    "name": "ipython",
    "version": 3
   },
   "file_extension": ".py",
   "mimetype": "text/x-python",
   "name": "python",
   "nbconvert_exporter": "python",
   "pygments_lexer": "ipython3",
   "version": "3.8.10"
  }
 },
 "nbformat": 4,
 "nbformat_minor": 4
}
